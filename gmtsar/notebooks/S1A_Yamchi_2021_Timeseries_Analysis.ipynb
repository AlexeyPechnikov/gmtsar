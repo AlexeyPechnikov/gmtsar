{
 "cells": [
  {
   "cell_type": "markdown",
   "metadata": {
    "id": "0ACAeoEVvyxe"
   },
   "source": [
    "$\\Large\\color{blue}{\\text{PyGMTSAR Yamchi DAM Interferograms Timeseries Analysis}}$\n",
    "\n",
    "### See and more PyGMTSAR notebooks on GitHub: [PyGMTSAR](https://github.com/mobigroup/gmtsar)\n",
    "\n",
    "It works on\n",
    "\n",
    "* MacOS Monterey (Apple Silicon) and BigSur (Intel) (Python 3.9) - please pre-install system dependencies (maybe using HomeBrew),\n",
    "\n",
    "* Google Cloud VM and Notebooks on Debian 10 (Python 3.7), use the [Google Cloud Debian 10 init script](https://github.com/mobigroup/gmtsar/blob/master/gmtsar/sh/GMTSAR.install.debian10.sh) and [Google Cloud Debian 10 VM creation script](https://github.com/mobigroup/gmtsar/blob/master/gmtsar/sh/GMTSAR.gcloud_create_debian10.sh)\n",
    "\n",
    "* $\\color{red}{\\text{Google Colab (Python 3.7) - you will be asked to re-run the notebook once due to \"system crash\" by desing}}$\n",
    "$\\color{red}{\\text{Note: to open all notebook cells select menu \"View\" -> \"Expand Sections\"}}$\n",
    "\n",
    "### PyGMTSAR is my free-time Open Source project.\n",
    "\n",
    "That's a bit curious how the project was started a year ago. I develop geophysical inversion methods and processing software for many years using my fundamental physics and mathematics background. Satellite interferometry is the key point to validate my inversion models and I found the same problem as you too that the existing interferometry packages usage is a pain. There is no interactive processing with multiprocessing and even a progressbar and ability to view and change every step code and validate the results. Also, many used algorithms are too outdated and produce terrible results like to tension surfaces in GMT which is used widely in GMTSAR (hmm, how about to control a smothness of derivative? Tension surfaces were invented when all the Earths computers where less powerfull than your smarthone today. If you are interested I shared the examples in GMTSAR bug tracker). Anyway, I found GMT mathematics is really crazy and the developers replace one incorrect algorithm by another and back often as we see in the codes and the changelog). That was enough reason to check all the used algorithms and replace these by modern and correct ones. By this way, I use only GMTSAR C codes with my patches to fix some errors and allow interoperability with Python wrappers plus my own codes around them. GMTSAR codes are fine and without crazy GMT codes work better and the processing is much faster. Alright, I spent one month to make the initial PyGMTSAR realization and it works. Recently, I returned to the project to add some more sophisticated features like to scenes and subswathes stitching. I'm going to share some of my geological exprorations and seismic models as live examples on Google Colab as soon as it will be possible to do. How lineaments and ore zones are related to interferograms? How gas and oil deposits are related to surface movements on interferometry displacement maps? I have the answer and I work on the tools to model and visualize them.\n",
    "\n",
    "You'd find my theoretical models and processing codes foir geophisical inversions in Github repository https://github.com/mobigroup/gis-snippets and tools for the 4D results vizualization in https://github.com/mobigroup/ParaView-plugins\n",
    "\n",
    "Ah yes, a little bit about me. I have STEM master's degree in radio physics and in 2004 I was awarded first prize of the All-Russian Physics competition for significant results in Inverse modeling for non-linear optics and holography, also applicable for Inverse Modeling of Gravity, Magnetic, and Thermal fields. In addition to my fundamental science knowledge, I’m world class data scientist and software developer with 20 years experience in science and industrial development. I have worked on government contracts and universities projects and on projects for LG Corp, Google Inc, etc. You are able to find some of my software and results on LinkedIn and GitHub and Upwork. By the way, I left Russia many years ago and I work remotely for about 20 years.\n",
    "\n",
    "### To order some research, development and support see my profile on freelance platform [Upwork](https://www.upwork.com/freelancers/~01e65e8e7221758623)\n",
    "\n",
    "### @ Alexey Pechnikov, August, 2022\n",
    "\n",
    "[Geological models on YouTube channel](https://www.youtube.com/channel/UCSEeXKAn9f_bDiTjT6l87Lg)\n",
    "\n",
    "[Augmented Reality (AR) Geological Models](https://mobigroup.github.io/ParaView-Blender-AR/)\n",
    "\n",
    "[GitHub repositories](https://github.com/mobigroup)\n",
    "\n",
    "[English posts and articles on LinkedIn](https://www.linkedin.com/in/alexey-pechnikov/)\n",
    "\n",
    "[Russian articles on Habr](https://habr.com/ru/users/N-Cube/posts/)"
   ]
  },
  {
   "cell_type": "markdown",
   "metadata": {
    "id": "D0QOUxFPvyxg"
   },
   "source": [
    "$\\large\\color{blue}{\\text{Hint: Use menu Cell} \\to \\text{Run All or Runtime} \\to \\text{Complete All or Runtime} \\to \\text{Run All}}$\n",
    "$\\large\\color{blue}{\\text{(depending of your localization settings) to execute the entire notebook}}$"
   ]
  },
  {
   "cell_type": "markdown",
   "metadata": {
    "id": "_g4gdkfRXqAM"
   },
   "source": [
    "## Load Modules to Check Environment"
   ]
  },
  {
   "cell_type": "code",
   "execution_count": null,
   "metadata": {
    "id": "Gs9P7MvVXrOZ"
   },
   "outputs": [],
   "source": [
    "import platform, sys, os"
   ]
  },
  {
   "cell_type": "markdown",
   "metadata": {
    "id": "NyvTYW5Gvyxh"
   },
   "source": [
    "## Debian 10 and Google Colab GMTSAR Installation"
   ]
  },
  {
   "cell_type": "markdown",
   "metadata": {
    "id": "U0UxpCKMvyxi"
   },
   "source": [
    "### On Google Cloud AI Notebooks: check root access\n",
    "\n",
    "On Google Cloud AI Notebooks sometimes we have an issue when \"sudo\" requires a password. In this case drop the instance and create a new one and - that's important - wait 5-10 minutes before connect to it using link \"OPEN JUPYTERLAB\""
   ]
  },
  {
   "cell_type": "code",
   "execution_count": null,
   "metadata": {
    "colab": {
     "base_uri": "https://localhost:8080/"
    },
    "id": "RNkvP7gPvyxj",
    "outputId": "33da3e13-f475-4574-bd1a-77dccfb4e729"
   },
   "outputs": [],
   "source": [
    "if platform.system() == 'Linux':\n",
    "    !sudo date"
   ]
  },
  {
   "cell_type": "markdown",
   "metadata": {
    "id": "xH2_nZDJvyxm"
   },
   "source": [
    "### Install https://github.com/mobigroup/gmtsar\n",
    "\n",
    "I make lots of changes on GMTSAR C-coded tools and some of them are not merged to the upstream GMTSAR yet because all the patches need to be validated and discussed before. Also, my Python extensions are provided in my GMTSAR fork only. I hope in the future to provide a standalone python packager as wrapper around upstream GMTSAR but there is a long way to it."
   ]
  },
  {
   "cell_type": "code",
   "execution_count": null,
   "metadata": {
    "id": "yz2E97o-vyxn"
   },
   "outputs": [],
   "source": [
    "if platform.system() == 'Linux':\n",
    "    count = !ls /usr/local | grep GMTSAR | wc -l\n",
    "    if count == ['0']:\n",
    "        !apt install -y csh autoconf gfortran \\\n",
    "            libtiff5-dev libhdf5-dev liblapack-dev libgmt-dev gmt-dcw gmt-gshhg gmt > /dev/null\n",
    "        !cd /usr/local && git clone --branch master https://github.com/mobigroup/gmtsar GMTSAR > /dev/null\n",
    "        !cd /usr/local/GMTSAR && autoconf > /dev/null\n",
    "        !cd /usr/local/GMTSAR && ./configure --with-orbits-dir=/tmp > /dev/null\n",
    "        !cd /usr/local/GMTSAR && make 1>/dev/null 2>/dev/null\n",
    "        !cd /usr/local/GMTSAR && make install >/dev/null"
   ]
  },
  {
   "cell_type": "markdown",
   "metadata": {
    "id": "O5uMpDrZvyxn"
   },
   "source": [
    "## Define ENV Variables for Jupyter Instance"
   ]
  },
  {
   "cell_type": "code",
   "execution_count": null,
   "metadata": {
    "colab": {
     "base_uri": "https://localhost:8080/"
    },
    "id": "VgDUx4zavyxo",
    "outputId": "d8b008fc-20a8-420d-fdb2-c13b1c624d01"
   },
   "outputs": [],
   "source": [
    "# use default GMTSAR installation path\n",
    "GMTSAR = '/usr/local/GMTSAR'\n",
    "PATH = os.environ['PATH']\n",
    "\n",
    "if PATH.find('GMTSAR') == -1:\n",
    "    PATH = os.environ['PATH'] + f':{GMTSAR}/bin/'\n",
    "    %env PATH {PATH}\n",
    "    %env GMTSAR {GMTSAR}"
   ]
  },
  {
   "cell_type": "markdown",
   "metadata": {
    "id": "SbimaIkwvyxp"
   },
   "source": [
    "## Install Python Modules\n",
    "\n",
    "```Maybe you need to restart your notebook, follow the instructions printing below```\n",
    "\n",
    "```The installation takes a long time on fresh Debian 10 and a short time on Google Colab```"
   ]
  },
  {
   "cell_type": "code",
   "execution_count": null,
   "metadata": {
    "colab": {
     "base_uri": "https://localhost:8080/"
    },
    "id": "Eiq1NHbJvyxp",
    "outputId": "80c82ca3-fca5-4fda-b9e1-f8be15cee9d3"
   },
   "outputs": [],
   "source": [
    "!{sys.executable} --version"
   ]
  },
  {
   "cell_type": "code",
   "execution_count": null,
   "metadata": {
    "id": "v5rYhOFVvyxq"
   },
   "outputs": [],
   "source": [
    "if platform.system() == 'Linux':\n",
    "    !{sys.executable} -m pip install cartopy==0.19.0.post1 1>/dev/null 2>/dev/null\n",
    "    !{sys.executable} -m pip install xarray==0.19.0        1>/dev/null 2>/dev/null\n",
    "    !{sys.executable} -m pip install scipy==1.7.1          1>/dev/null 2>/dev/null"
   ]
  },
  {
   "cell_type": "code",
   "execution_count": null,
   "metadata": {
    "id": "nZFKes5pvyxr"
   },
   "outputs": [],
   "source": [
    "if platform.system() == 'Linux':\n",
    "    !{sys.executable} -m pip install \\\n",
    "        h5py netcdf4 h5netcdf \\\n",
    "        rasterio rioxarray numpy \\\n",
    "        scikit-image scipy sklearn \\\n",
    "        xarray dask distributed zarr nc-time-axis \\\n",
    "        pandas geopandas \\\n",
    "        sentineleof elevation \\\n",
    "        matplotlib seaborn geoviews hvplot datashader bokeh \\\n",
    "        xmltodict joblib tqdm 1>/dev/null 2>/dev/null"
   ]
  },
  {
   "cell_type": "markdown",
   "metadata": {
    "id": "-FMPWOSSvyxr"
   },
   "source": [
    "$\\large\\color{red}{\\text{Attention: On Google Colab we need to restart kernel once when modules installed}}$"
   ]
  },
  {
   "cell_type": "markdown",
   "metadata": {
    "id": "ldm9nWiHvyxs"
   },
   "source": [
    "$\\large\\color{blue}{\\text{Hint: Use menu Cell} \\to \\text{Run All or Runtime} \\to \\text{Complete All or Runtime} \\to \\text{Run All}}$\n",
    "$\\large\\color{blue}{\\text{(depending of your localization settings) to execute the entire notebook}}$"
   ]
  },
  {
   "cell_type": "code",
   "execution_count": null,
   "metadata": {
    "colab": {
     "base_uri": "https://localhost:8080/"
    },
    "id": "E4eUkfi_vyxs",
    "outputId": "c534be8f-5484-48e9-e229-fa482672c294"
   },
   "outputs": [],
   "source": [
    "if platform.system() == 'Linux':\n",
    "    import xarray\n",
    "    import time\n",
    "    print (xarray.__version__)\n",
    "    if xarray.__version__ != '0.19.0':\n",
    "        print (\"\"\"\n",
    "    ***********************************************************************************\n",
    "    *\n",
    "    Do not worry, runtime is stopped by design. Please run the notebook again.\n",
    "    *\n",
    "    ***********************************************************************************\n",
    "    \"\"\")\n",
    "        time.sleep(1)\n",
    "        os.kill(os.getpid(), 9)"
   ]
  },
  {
   "cell_type": "markdown",
   "metadata": {
    "id": "WTe-L0uAvyxt"
   },
   "source": [
    "## Load and Setup Python Modules"
   ]
  },
  {
   "cell_type": "code",
   "execution_count": null,
   "metadata": {
    "id": "IIqzPnB8vyxu"
   },
   "outputs": [],
   "source": [
    "import xarray as xr\n",
    "import numpy as np\n",
    "import pandas as pd\n",
    "# supress numpy warnings\n",
    "import warnings\n",
    "warnings.filterwarnings('ignore')\n",
    "import datetime"
   ]
  },
  {
   "cell_type": "code",
   "execution_count": null,
   "metadata": {
    "colab": {
     "base_uri": "https://localhost:8080/",
     "height": 17
    },
    "id": "aW6PUNEzvyxu",
    "outputId": "9b492613-c225-4a5b-c1a5-134aba020173"
   },
   "outputs": [],
   "source": [
    "# plotting modules\n",
    "import hvplot.pandas  # noqa\n",
    "import hvplot.xarray  # noqa\n",
    "import holoviews as hv\n",
    "pd.options.plotting.backend = 'hvplot'\n",
    "from IPython.display import Image\n",
    "import matplotlib.pyplot as plt\n",
    "import matplotlib\n",
    "%matplotlib inline"
   ]
  },
  {
   "cell_type": "code",
   "execution_count": null,
   "metadata": {
    "id": "glxPxrJbvyxv"
   },
   "outputs": [],
   "source": [
    "# define Pandas display settings\n",
    "pd.set_option('display.max_rows', None)\n",
    "pd.set_option('display.max_columns', None)\n",
    "pd.set_option('display.width', None)\n",
    "pd.set_option('display.max_colwidth', None)\n",
    "\n",
    "gstiles = hv.Tiles('https://mt1.google.com/vt/lyrs=s&x={X}&y={Y}&z={Z}', name='Google Satellite')\n",
    "ottiles = hv.Tiles('https://tile.opentopomap.org/{Z}/{X}/{Y}.png', name='Open Topo')"
   ]
  },
  {
   "cell_type": "markdown",
   "metadata": {
    "id": "Gyq7-kqHvyxw"
   },
   "source": [
    "## Load Custom Python Modules"
   ]
  },
  {
   "cell_type": "code",
   "execution_count": null,
   "metadata": {
    "id": "m5SMKJ69vyxw"
   },
   "outputs": [],
   "source": [
    "sys.path.append(os.path.join(os.environ['GMTSAR'],'gmtsar', 'py'))\n",
    "\n",
    "from PRM import PRM\n",
    "from SBAS import SBAS"
   ]
  },
  {
   "cell_type": "markdown",
   "metadata": {
    "id": "fQi_KE-Svyxx"
   },
   "source": [
    "## Download and unpack Sentinel-1 scenes"
   ]
  },
  {
   "cell_type": "markdown",
   "metadata": {
    "id": "ji7bKOvNvyxx"
   },
   "source": [
    "$\\large\\color{blue}{\\text{Downloading cropped scenes from iCloud archive file}}$"
   ]
  },
  {
   "cell_type": "code",
   "execution_count": null,
   "metadata": {
    "colab": {
     "base_uri": "https://localhost:8080/"
    },
    "id": "2IOG5ezIZYWt",
    "outputId": "0312072f-fed2-4d1a-b486-193476913da7"
   },
   "outputs": [],
   "source": [
    "icloud_urls = {'yamchi_2021.tar.gz': 'https://www.icloud.com/iclouddrive/08eH4fzPmD87xTa_jSTIviAhA#yamchi_2021'}\n",
    "\n",
    "if platform.system() == 'Linux':\n",
    "  !apt install -y jq > /dev/null\n",
    "import os\n",
    "for fname in icloud_urls.keys():\n",
    "  if os.path.isfile(fname):\n",
    "    print ('Already exists iCloud file', fname)\n",
    "    break\n",
    "  print ('Downloading iCloud file', fname)\n",
    "  uid = icloud_urls[fname].split('/')[-1].split('#')[0]\n",
    "  request = f'{{\"shortGUIDs\":[{{\"value\":\"{uid}\"}}]}}'\n",
    "  urls = !curl -s 'https://ckdatabasews.icloud.com/database/1/com.apple.cloudkit/production/public/records/resolve' \\\n",
    "    --data-raw '{request}' --compressed | jq -r '.results[0].rootRecord.fields.fileContent.value.downloadURL'\n",
    "  !curl -so '{fname}' '{urls[0]}'"
   ]
  },
  {
   "cell_type": "code",
   "execution_count": null,
   "metadata": {
    "colab": {
     "base_uri": "https://localhost:8080/"
    },
    "id": "lf4diL7Fvyxy",
    "outputId": "969a2822-585c-4386-9682-bced05bfd2bc"
   },
   "outputs": [],
   "source": [
    "# unpack the archive\n",
    "!tar -zxvf yamchi_2021.tar.gz\n",
    "# cleanup to free enough free space for the processing below\n",
    "!rm yamchi_2021.tar.gz"
   ]
  },
  {
   "cell_type": "markdown",
   "metadata": {
    "id": "hPd2YYm_vyxz"
   },
   "source": [
    "## Define Processing Parameters"
   ]
  },
  {
   "cell_type": "markdown",
   "metadata": {
    "id": "e132Ej1avyxz"
   },
   "source": [
    "$\\large\\color{blue}{\\text{Note: use prepared tiff and xml files in the DATADIR}}$"
   ]
  },
  {
   "cell_type": "code",
   "execution_count": null,
   "metadata": {
    "id": "ozw2y6fovyxz"
   },
   "outputs": [],
   "source": [
    "# define supermaster image to align the images stack\n",
    "SUPERMASTER  = '2021-02-13'\n",
    "# define master image to build interferogram pairs \n",
    "MASTER       = '2021-04-26'\n",
    "WORKDIR      = 'raw'\n",
    "DATADIR      = 'yamchi_2021'\n",
    "# coherence threshold\n",
    "CORRLIMIT    = 0.40\n",
    "DEFOMAX      = 0\n",
    "# used to show SBAS baseline only, not for calculations\n",
    "BASEDAYS     = 50\n",
    "BASEMETERS   = 150"
   ]
  },
  {
   "cell_type": "markdown",
   "metadata": {
    "id": "4E1okJFDvyx0"
   },
   "source": [
    "## Init SBAS\n",
    "\n",
    "Search recursively for measurement (.tiff) and annotation (.xml) and orbit (.EOF) files in the DATA directory. It can be directory with full unzipped scenes (.SAFE) subdirectories or just a directory with the list of pairs of required .tiff and .xml files (maybe pre-filtered for orbit, polarization and subswath to save disk space). If orbit files and DEM are missed these will be downloaded automatically below."
   ]
  },
  {
   "cell_type": "code",
   "execution_count": null,
   "metadata": {
    "id": "VN2no8i2vyx0"
   },
   "outputs": [],
   "source": [
    "sbas = SBAS(DATADIR, basedir=WORKDIR).set_master(SUPERMASTER)"
   ]
  },
  {
   "cell_type": "code",
   "execution_count": null,
   "metadata": {
    "colab": {
     "base_uri": "https://localhost:8080/",
     "height": 1000
    },
    "id": "m3CkSGGQvyx1",
    "outputId": "a35e6765-d583-45bb-e375-ab943f6cc261"
   },
   "outputs": [],
   "source": [
    "sbas.to_dataframe()"
   ]
  },
  {
   "cell_type": "markdown",
   "metadata": {
    "id": "HC8rK1TDvyx1"
   },
   "source": [
    "### Download Sentinel-1 Orbits\n",
    "\n",
    "The function below downloads orbit files.\n",
    "Besides, for faster processing we can automatically use pre-downloaded orbit files in data directory."
   ]
  },
  {
   "cell_type": "code",
   "execution_count": null,
   "metadata": {
    "id": "E53hhb0fvyx1"
   },
   "outputs": [],
   "source": [
    "# use pre-downloaded orbit files in the unpacked data directory \n",
    "#sbas.download_orbits()"
   ]
  },
  {
   "cell_type": "code",
   "execution_count": null,
   "metadata": {
    "id": "8Ig-ClfGvyx2"
   },
   "outputs": [],
   "source": [
    "#sbas.to_dataframe()"
   ]
  },
  {
   "cell_type": "markdown",
   "metadata": {
    "id": "YFhS1vw0vyx2"
   },
   "source": [
    "### Download SRTM DEM\n",
    "\n",
    "The function below downloads SRTM1 or SRTM3 DEM and converts heights to ellipsoidal model using EGM96 grid.\n",
    "Besides, for faster processing we can use pre-defined DEM file as explained above.\n",
    "\n",
    "SRTM1 product is 30m resolution DEM and SRTM3 is 90m. SRTM1 is much bigger (~10 times) and is usable for small areas. Mainly 90m SRTM3 is the right choice. Use parameter resolution_meters (60 meters by default) to interpolate the DEM to required resolution for the future processing and output.\n",
    "\n",
    "The DEM grid is NetCDF file."
   ]
  },
  {
   "cell_type": "code",
   "execution_count": null,
   "metadata": {
    "colab": {
     "base_uri": "https://localhost:8080/",
     "height": 83,
     "referenced_widgets": [
      "5121f3002a60444685bffba9545f0363",
      "81ba314cc6b24e049f52d23ef1149895",
      "a55368fdb52740ecaaa10ce6e9132e6c",
      "f085549a2039492f876f1d8b9ae4d71e",
      "2c312c08521244e3ab7b399287a220ae",
      "2800b58a7b8542af8af2562ae3e72619",
      "93cab04a4bbd46aea1e648292e0c94d4",
      "8d9da4b5775941bea4ae87e96ae19698",
      "aff97d4354e1466894b4caec6603f339",
      "a81db4ad09014669acf7ebd2cc0f051b",
      "c47d8befdb284e9595170591aae10f1b"
     ]
    },
    "id": "089h0od9vyx3",
    "outputId": "b89089b0-f02f-4ad8-c100-82a84155af8f"
   },
   "outputs": [],
   "source": [
    "# some tiles missed for SRTM3 product on that time so use SRTM1 instead\n",
    "sbas.download_dem(product='SRTM1')"
   ]
  },
  {
   "cell_type": "markdown",
   "metadata": {
    "id": "l6apS8c6vyx3"
   },
   "source": [
    "### Static Plots"
   ]
  },
  {
   "cell_type": "code",
   "execution_count": null,
   "metadata": {
    "colab": {
     "base_uri": "https://localhost:8080/",
     "height": 560
    },
    "id": "Mvb3BOGIvyx4",
    "outputId": "a03a3cf5-c1c5-4554-9840-3e1f50899446"
   },
   "outputs": [],
   "source": [
    "plt.figure(figsize=(12,4), dpi=300)\n",
    "sbas.get_dem()[::4,::4].plot.imshow(cmap='gray', vmin=0)\n",
    "plt.scatter(sbas.geoloc()['longitude'], sbas.geoloc()['latitude'], c=sbas.geoloc()['pixel'], cmap='jet')\n",
    "plt.title('Sentinel1 Frame on DEM plus GCP', fontsize=18)\n",
    "plt.show()"
   ]
  },
  {
   "cell_type": "markdown",
   "metadata": {
    "id": "WzriLHhHvyx5"
   },
   "source": [
    "## Align a Pair of Images"
   ]
  },
  {
   "cell_type": "code",
   "execution_count": null,
   "metadata": {
    "colab": {
     "base_uri": "https://localhost:8080/",
     "height": 81,
     "referenced_widgets": [
      "3b092b72700645c3bf880a600d030549",
      "3c1370fe60174aaf8f40d5beaaba2b12",
      "20f76597f6d848fab0df29a215200376",
      "76054d4f36274d29beabaecc3dc0d295",
      "9d653fd7d6e842258fb9be9deb237657",
      "74e635b6f03e4060be14f2e686b698bc",
      "373016575c944e179e12f9eabfe68d62",
      "72103b259bf644cdbbe585a559e4de60",
      "adc89c69c11c4424b5dfa675fb6fbf13",
      "47522b869cf546c8a05f48295f029979",
      "e654e559817f428193a79fe389d0559a",
      "60f7d39fcd824f60b21c7ead936eca53",
      "3e71e4f746614c0295e81ca6acd856c5",
      "fc23d1106b214f89935df2b6180b0d75",
      "4963173608b14999a2c070d5d0e9d2ee",
      "b13d693affbb4f5cb8147e97f06d38eb",
      "ff9a8b42bfac44cf8e096867dec1c069",
      "54c79cf5f74d4262849d7b3d0e595491",
      "a311243ff7b24876bfec64a5efa967ee",
      "765eff055e274f70a765d3a05f774cb2",
      "6d041bf042aa49f4844144b6b2e45dc3",
      "589a55dfd882463e8dbcfbdda625d678"
     ]
    },
    "id": "af6OOizUvyx5",
    "outputId": "51fc31c9-222f-4d39-f3ea-07be52d763f3"
   },
   "outputs": [],
   "source": [
    "sbas.stack_parallel()"
   ]
  },
  {
   "cell_type": "markdown",
   "metadata": {
    "id": "x9qpR3I2vyx6"
   },
   "source": [
    "## DEM in Radar Coordinates"
   ]
  },
  {
   "cell_type": "code",
   "execution_count": null,
   "metadata": {
    "colab": {
     "base_uri": "https://localhost:8080/",
     "height": 49,
     "referenced_widgets": [
      "b18624501c20402ca6c94017e4335613",
      "22288e3382984216bc3ec2f2b3ba33eb",
      "2b3c4dba17c6498895b485fc3916668b",
      "a508611a94214b2bbf29a7ae9d02516d",
      "099912b1ae1040bf8b302e0c1363a01e",
      "0ed26931c43e4340bc478509b867384d",
      "341873a0b78c4864858cc84e050fd97a",
      "d14429b610d04330b25d4cbd81182925",
      "0c8852a701424753a4a56afbf74ccd54",
      "dccb9011724c476184f34474c66f0cfb",
      "206bef8f1865485bb9b4ef304bcf5b5d"
     ]
    },
    "id": "Q2PTf3k6vyx6",
    "outputId": "ca5b10bd-f7b8-439e-d2ee-e7c54dea73b2"
   },
   "outputs": [],
   "source": [
    "sbas.topo_ra_parallel()"
   ]
  },
  {
   "cell_type": "markdown",
   "metadata": {
    "id": "1duk-YhXvyx7"
   },
   "source": [
    "### Load Grids"
   ]
  },
  {
   "cell_type": "code",
   "execution_count": null,
   "metadata": {
    "id": "P5LJXxOfvyx7"
   },
   "outputs": [],
   "source": [
    "topo_ra = sbas.open_grid('topo_ra')"
   ]
  },
  {
   "cell_type": "markdown",
   "metadata": {
    "id": "TIU3sog0vyx7"
   },
   "source": [
    "### Static Plot"
   ]
  },
  {
   "cell_type": "code",
   "execution_count": null,
   "metadata": {
    "colab": {
     "base_uri": "https://localhost:8080/",
     "height": 517
    },
    "id": "6C6Deq23vyx8",
    "outputId": "239e360b-a087-4518-9968-48e3a0f3e6b5"
   },
   "outputs": [],
   "source": [
    "plt.figure(figsize=(12,4), dpi=300)\n",
    "topo_ra[::4,::4].plot.imshow(cmap='gray', vmin=0)\n",
    "plt.xlabel('Range', fontsize=16)\n",
    "plt.ylabel('Azimuth', fontsize=16)\n",
    "plt.title('Topography in Radar Coordinates', fontsize=18)\n",
    "plt.show()"
   ]
  },
  {
   "cell_type": "markdown",
   "metadata": {
    "id": "eMejdMrJvyx9"
   },
   "source": [
    "## Select Master Image Using SBAS Baseline"
   ]
  },
  {
   "cell_type": "code",
   "execution_count": null,
   "metadata": {
    "colab": {
     "base_uri": "https://localhost:8080/",
     "height": 1000
    },
    "id": "uxvBcvXMjV_f",
    "outputId": "5dece318-6191-4acf-af59-8d8c1effd7d1"
   },
   "outputs": [],
   "source": [
    "baseline_pairs = sbas.baseline_pairs(days=BASEDAYS, meters=BASEMETERS)\n",
    "baseline_pairs"
   ]
  },
  {
   "cell_type": "markdown",
   "metadata": {
    "id": "J6VZg4ESjprb"
   },
   "source": [
    "### Static Plot"
   ]
  },
  {
   "cell_type": "code",
   "execution_count": null,
   "metadata": {
    "colab": {
     "base_uri": "https://localhost:8080/",
     "height": 486
    },
    "id": "ThPt8KyQjrBw",
    "outputId": "f32acaf5-5f77-4e98-cea1-b784ffe75815"
   },
   "outputs": [],
   "source": [
    "plt.figure(figsize=(12,4), dpi=300)\n",
    "ax = plt.gca()\n",
    "\n",
    "lines = [[(row.ref_timeline,row.ref_baseline),(row.rep_timeline,row.rep_baseline)]\n",
    "         for row in baseline_pairs.itertuples()]\n",
    "lc = matplotlib.collections.LineCollection(lines, colors='#30a2da', linewidths=0.5)\n",
    "ax.add_collection(lc)\n",
    "ax.autoscale()\n",
    "ax.margins(0.5)\n",
    "bs1 = baseline_pairs[['ref_timeline','ref_baseline','ref_date']].values\n",
    "bs2 = baseline_pairs[['rep_timeline','rep_baseline','rep_date']].values\n",
    "df = pd.DataFrame(np.concatenate([bs1, bs2]), columns=['timeline','baseline','date']).drop_duplicates()\n",
    "plt.scatter(x=df.timeline, y=df.baseline)\n",
    "for x,y,label in df.values:\n",
    "    plt.annotate(label, (x,y), textcoords=\"offset points\", xytext=(35,3), ha='center',\n",
    "                 c='red' if label == SUPERMASTER else 'black')\n",
    "ax.set_xlabel('Timeline', fontsize=16)\n",
    "ax.set_ylabel('Perpendicular Baseline, [m]', fontsize=16)\n",
    "ax.set_title('SBAS Baseline', fontsize=18)\n",
    "plt.grid()\n",
    "plt.show()"
   ]
  },
  {
   "cell_type": "markdown",
   "metadata": {
    "id": "NCxARRJ7vyx9"
   },
   "source": [
    "## Interferogram"
   ]
  },
  {
   "cell_type": "code",
   "execution_count": null,
   "metadata": {
    "colab": {
     "base_uri": "https://localhost:8080/"
    },
    "id": "CFKvpkGpvyx-",
    "outputId": "de352ea2-eacb-40f4-ffee-9150bbe19be9"
   },
   "outputs": [],
   "source": [
    "# all the SBAS pairs\n",
    "#pairs = baseline_pairs[['ref_date', 'rep_date']]\n",
    "# or generate some kind of sequential pairs instead\n",
    "pairs = list(sbas.to_dataframe().index)\n",
    "# a. generate sequential master-secondary image pairs with different masters \n",
    "#pairs = [(p1, p2) for (p1, p2) in zip(pairs[:-1], pairs[1:])]\n",
    "# b. generate master-secondary image pairs with the 1st image as single master \n",
    "#pairs = [(pairs[0], p) for p in pairs[1:]]\n",
    "# c. generate master-secondary image pairs with the middle baseline image as single master \n",
    "pairs = [(MASTER, p) if MASTER<p else (p, MASTER) for p in pairs if p!=MASTER]\n",
    "pairs"
   ]
  },
  {
   "cell_type": "code",
   "execution_count": null,
   "metadata": {
    "colab": {
     "base_uri": "https://localhost:8080/",
     "height": 49,
     "referenced_widgets": [
      "f3abf9ab522c4a51a6a94d8f785d684c",
      "98022529314f45d7a94c3a746167b56f",
      "216257be653c4af7a3f06053e9868df0",
      "4fa7b9598fcf4876b515d05ca4dd86a8",
      "f19a9476dcb941deab44df8730472ce5",
      "37ebfa1b08974abc895a22fed019513e",
      "2062494668c9478e8f6b145c277a5ce4",
      "7d14eb9240a9424cb9dd976a1097252a",
      "d12dad2af5324dc8bdd1ad743885b225",
      "ad578203d33049d29b906ebd3554fb1d",
      "4f0b5a78ac9a49089149b061f5e94508"
     ]
    },
    "id": "DBr-1xnjvyx_",
    "outputId": "b9520e84-904e-49c5-b49d-85a543d7b9f5"
   },
   "outputs": [],
   "source": [
    "# miss \"func\" argument when post-processing is not required\n",
    "# define a postprocessing function for decimation, etc.\n",
    "decimator = lambda dataarray: dataarray.coarsen({'y': 4, 'x': 4}, boundary='trim').median()\n",
    "\n",
    "# default parameters: wavelength=200, psize=32, func=None (no postprocessing)\n",
    "sbas.intf_parallel(pairs, func=decimator)"
   ]
  },
  {
   "cell_type": "markdown",
   "metadata": {
    "id": "_fJ9nqZFvyx_"
   },
   "source": [
    "### Load Grids"
   ]
  },
  {
   "cell_type": "code",
   "execution_count": null,
   "metadata": {
    "id": "M-GCnZW8vyyA"
   },
   "outputs": [],
   "source": [
    "# crop grids for visualization\n",
    "phasefilt = sbas.open_grids(pairs, 'phasefilt', geocode=True).sel(lat=slice(37.7, 38.4), lon=slice(47.9, 48.8))\n",
    "corr = sbas.open_grids(pairs, 'corr', geocode=True).sel(lat=slice(37.7, 38.4), lon=slice(47.9, 48.8))"
   ]
  },
  {
   "cell_type": "code",
   "execution_count": null,
   "metadata": {
    "id": "x4Horl-nzkO_"
   },
   "outputs": [],
   "source": [
    "# add fake master image to the stack\n",
    "# self coherence is always equal to 1\n",
    "before = corr[corr.ref<MASTER]\n",
    "master = xr.ones_like(corr.isel(pair=0))\n",
    "master['ref'] = master['rep'] = MASTER\n",
    "master['pair'] = f'{MASTER} {MASTER}'\n",
    "after = corr[corr.rep>MASTER]\n",
    "mcorr = xr.concat([before, master, after], dim='pair')"
   ]
  },
  {
   "cell_type": "markdown",
   "metadata": {
    "id": "TU02AN3ZruaB"
   },
   "source": [
    "### Static Plot"
   ]
  },
  {
   "cell_type": "code",
   "execution_count": null,
   "metadata": {
    "id": "lpiRDodgrpuA"
   },
   "outputs": [],
   "source": [
    "fg = xr.where(mcorr>=CORRLIMIT, mcorr, np.nan).plot.imshow(\n",
    "    col='pair',\n",
    "    col_wrap=3, size=4, aspect=1.2,\n",
    "    clim=(0, 1), cmap='gray'\n",
    ")\n",
    "fg.set_ticks(max_xticks=5, max_yticks=5, fontsize='medium')\n",
    "fg.fig.suptitle('Coherence', y=1.02, fontsize=24)\n",
    "plt.savefig(f'Coherence.jpg', dpi=150, quality=95)\n",
    "plt.show()"
   ]
  },
  {
   "cell_type": "code",
   "execution_count": null,
   "metadata": {
    "id": "_JKMyxD5vyyA"
   },
   "outputs": [],
   "source": [
    "# fill low coherence areas by nearest values\n",
    "phasefilt = xr.where(corr>=CORRLIMIT, phasefilt, np.nan)\n",
    "phasefilt = xr.concat([sbas.nearest_grid(phasefilt[ida]) for ida in range(len(phasefilt))], dim='pair')\n",
    "phasefilt = xr.where(np.isnan(corr), np.nan, phasefilt)"
   ]
  },
  {
   "cell_type": "markdown",
   "metadata": {
    "id": "bA2Rxc7YvyyB"
   },
   "source": [
    "### Static Plot"
   ]
  },
  {
   "cell_type": "code",
   "execution_count": null,
   "metadata": {
    "id": "dHn65f6oSqDo"
   },
   "outputs": [],
   "source": [
    "fg = phasefilt.plot.imshow(\n",
    "    col='pair',\n",
    "    col_wrap=3, size=4, aspect=1.2,\n",
    "    vmin=-np.pi, vmax=np.pi, cmap='gist_rainbow_r'\n",
    ")\n",
    "fg.set_ticks(max_xticks=5, max_yticks=5, fontsize='medium')\n",
    "fg.fig.suptitle('Phase, [rad]', y=1.02, fontsize=24)\n",
    "plt.savefig(f'Phase, [rad].jpg', dpi=150, quality=95)\n",
    "plt.show()"
   ]
  },
  {
   "cell_type": "markdown",
   "metadata": {
    "id": "Qy0TYyWsvyyC"
   },
   "source": [
    "## Unwrapping"
   ]
  },
  {
   "cell_type": "code",
   "execution_count": null,
   "metadata": {
    "id": "N0a8XdwKvyyC"
   },
   "outputs": [],
   "source": [
    "# generate a custom snaphu config file and use it as argument \"conf\" value\n",
    "# conf = self.PRM().snaphu_config(defomax=0)\n",
    "\n",
    "# we can just miss \"func\" argument when post-processing is not required\n",
    "# define a post-processing function to crop and interpolate low-coherence areas, etc.\n",
    "#cleaner = lambda corr, unwrap: xr.where(corr>=CORRLIMIT, unwrap, np.nan)\n",
    "cleaner = lambda corr, unwrap: sbas.nearest_grid(xr.where(corr>=CORRLIMIT, unwrap, np.nan))\n",
    "\n",
    "# default parameters: threshold=0.1, conf=None, func=None (no postprocessing required)\n",
    "sbas.unwrap_parallel(pairs, threshold=CORRLIMIT, func=cleaner)"
   ]
  },
  {
   "cell_type": "markdown",
   "metadata": {
    "id": "tKE0Vj3avyyD"
   },
   "source": [
    "## LOS Displacement"
   ]
  },
  {
   "cell_type": "markdown",
   "metadata": {
    "id": "MrHY3TQuvyyD"
   },
   "source": [
    "### Calculate Grids"
   ]
  },
  {
   "cell_type": "code",
   "execution_count": null,
   "metadata": {
    "id": "gbmevk4DvyyE"
   },
   "outputs": [],
   "source": [
    "# crop grid for visualization\n",
    "los_disp_mm = sbas.open_grids(pairs, 'unwrap', func=sbas.los_displacement_mm, geocode=True).sel(lat=slice(37.7, 38.4), lon=slice(47.9, 48.8))"
   ]
  },
  {
   "cell_type": "code",
   "execution_count": null,
   "metadata": {
    "id": "8MHgOXG-vyyE"
   },
   "outputs": [],
   "source": [
    "# fill low coherence areas by nearest values\n",
    "los_disp_mm = xr.where(corr>=CORRLIMIT, los_disp_mm, np.nan)\n",
    "los_disp_mm = xr.concat([sbas.nearest_grid(los_disp_mm[ida]) for ida in range(len(los_disp_mm))], dim='pair')\n",
    "los_disp_mm = xr.where(np.isnan(corr), np.nan, los_disp_mm)"
   ]
  },
  {
   "cell_type": "code",
   "execution_count": null,
   "metadata": {
    "id": "9yvY4jVJNDL2"
   },
   "outputs": [],
   "source": [
    "# add fake master image to the stack\n",
    "# master-master pair displacement is always equal to 0\n",
    "before = los_disp_mm[los_disp_mm.ref<MASTER]\n",
    "master = xr.zeros_like(los_disp_mm.isel(pair=0))\n",
    "master['ref'] = master['rep'] = MASTER\n",
    "master['pair'] = f'{MASTER} {MASTER}'\n",
    "after = los_disp_mm[los_disp_mm.rep>MASTER]\n",
    "mlos_disp_mm = xr.concat([-before, master, after], dim='pair')\n",
    "#mlos_disp_mm"
   ]
  },
  {
   "cell_type": "markdown",
   "metadata": {
    "id": "ZO0PP0WsvyyF"
   },
   "source": [
    "### Static Plots"
   ]
  },
  {
   "cell_type": "code",
   "execution_count": null,
   "metadata": {
    "id": "69SVY8X-RcRc"
   },
   "outputs": [],
   "source": [
    "zmin, zmax = np.nanquantile(mlos_disp_mm, [0.01, 0.99])\n",
    "fg = mlos_disp_mm.plot.imshow(\n",
    "    col='pair',\n",
    "    col_wrap=3, size=4, aspect=1.2,\n",
    "    vmin=zmin, vmax=zmax, cmap='jet'\n",
    ")\n",
    "fg.set_ticks(max_xticks=5, max_yticks=5, fontsize='medium')\n",
    "fg.fig.suptitle('LOS Displacement in Geographic Coordinates, [mm]', y=1.02, fontsize=24)\n",
    "plt.savefig(f'LOS Displacement in Geographic Coordinates, [mm].jpg', dpi=150, quality=95)\n",
    "plt.show()"
   ]
  },
  {
   "cell_type": "markdown",
   "metadata": {
    "id": "-wEcI5V7FvGO"
   },
   "source": [
    "## Check Coherence"
   ]
  },
  {
   "cell_type": "code",
   "execution_count": null,
   "metadata": {
    "id": "hPD_VS4Pe-Xv"
   },
   "outputs": [],
   "source": [
    "corr_dam = mcorr.sel(lon=(48.07808,48.08742), lat=(38.07058,38.06925), method='nearest')\n",
    "corr_dam['pair'] = [da.rep.item() if da.pair.item()>MASTER else da.ref.item() for da in corr_dam]\n",
    "#corr_dam"
   ]
  },
  {
   "cell_type": "code",
   "execution_count": null,
   "metadata": {
    "id": "v6ffnmKwzwA0"
   },
   "outputs": [],
   "source": [
    "plt.figure(figsize=(20,6))\n",
    "corr_dam[:,0,0].plot(color='red', lw=1, ls='--', label='Top Left')\n",
    "corr_dam[:,0,1].plot(color='black', lw=1, ls='--', label='Top Right')\n",
    "corr_dam[:,1,0].plot(color='blue', lw=1, ls='--', label='Bottom Left')\n",
    "corr_dam[:,1,1].plot(color='green', lw=1, ls='--', label='Bottom Right')\n",
    "corr_dam.mean(['lat', 'lon']).plot(color='red', lw=2, label='Average')\n",
    "plt.legend(loc='lower center', ncol=5, fontsize=24)\n",
    "plt.grid()\n",
    "plt.xlabel('Date', fontsize=24)\n",
    "plt.ylabel('Coherence', fontsize=24)\n",
    "plt.title('Yamchi Dam Coherence', fontsize=30)\n",
    "plt.savefig(f'Yamchi Dam Coherence.jpg', dpi=150, quality=95)\n",
    "plt.show()"
   ]
  },
  {
   "cell_type": "code",
   "execution_count": null,
   "metadata": {
    "id": "Hde2tZZ57J81"
   },
   "outputs": [],
   "source": [
    "# Reference area\n",
    "lat_min = mlos_disp_mm.lat.min()\n",
    "lon_min = mlos_disp_mm.lon.min()\n",
    "corr_ref = mcorr.sel(lat=slice(lat_min, lat_min+0.01), lon=slice(lon_min, lon_min+0.01))\n",
    "corr_ref['pair'] = [da.rep.item() if da.pair.item()>MASTER else da.ref.item() for da in corr_ref]\n",
    "corr_ref_min = corr_ref.min(['lat','lon'])\n",
    "#corr_ref_min['pair'] = corr_ref_min['rep']\n",
    "corr_ref_avg = corr_ref.mean(['lat','lon'])\n",
    "#corr_ref_avg['pair'] = corr_ref_avg['rep']\n",
    "corr_ref_max = corr_ref.max(['lat','lon'])\n",
    "#corr_ref_max['pair'] = corr_ref_max['rep']"
   ]
  },
  {
   "cell_type": "code",
   "execution_count": null,
   "metadata": {
    "id": "sB7_Jf127Owu"
   },
   "outputs": [],
   "source": [
    "plt.figure(figsize=(20,6))\n",
    "corr_ref_min.plot(color='blue', lw=1, label='Minimum')\n",
    "corr_ref_avg.plot(color='red', lw=1, label='Average')\n",
    "corr_ref_max.plot(color='green', lw=1, label='Maximum')\n",
    "plt.legend(loc='lower center', ncol=5, fontsize=24)\n",
    "plt.grid()\n",
    "plt.xlabel('Date', fontsize=24)\n",
    "plt.ylabel('Coherence', fontsize=24)\n",
    "plt.title('Yamchi Reference Area Coherence', fontsize=30)\n",
    "plt.savefig(f'Yamchi Reference Area Coherence.jpg', dpi=150, quality=95)\n",
    "plt.show()"
   ]
  },
  {
   "cell_type": "markdown",
   "metadata": {
    "id": "9vLFdf1E7iYf"
   },
   "source": [
    "## Yamchi Dam Displacement Analysis"
   ]
  },
  {
   "cell_type": "code",
   "execution_count": null,
   "metadata": {
    "id": "ZhNQwPIE7kXv"
   },
   "outputs": [],
   "source": [
    "# Yamchi Dam points\n",
    "los_disp_mm_dam = mlos_disp_mm.sel(lon=(48.07808,48.08742), lat=(38.07058,38.06925), method='nearest')\n",
    "los_disp_mm_dam['pair'] = [da.rep.item() if da.pair.item()>MASTER else da.ref.item() for da in los_disp_mm_dam]\n",
    "los_disp_mm_dam = xr.where(corr_dam>=CORRLIMIT, los_disp_mm_dam, np.nan)\n",
    "#los_disp_mm_dam"
   ]
  },
  {
   "cell_type": "code",
   "execution_count": null,
   "metadata": {
    "id": "9-RjIWRQZLeb"
   },
   "outputs": [],
   "source": [
    "dates = [datetime.datetime.strptime(date, \"%Y-%m-%d\").timetuple().tm_yday for date in los_disp_mm_dam.pair.values]\n",
    "values = los_disp_mm_dam.mean(['lat','lon']).values\n",
    "trend_dam = np.polyfit(dates, values, 1)\n",
    "print (trend_dam)\n",
    "trendpoly = np.poly1d(trend_dam)\n",
    "los_disp_mm_trend_dam = xr.zeros_like(los_disp_mm_dam.mean(['lat','lon']))\n",
    "los_disp_mm_trend_dam.values = trendpoly(dates)\n",
    "#los_disp_mm_trend_dam"
   ]
  },
  {
   "cell_type": "code",
   "execution_count": null,
   "metadata": {
    "id": "T49MMnrUT3ro"
   },
   "outputs": [],
   "source": [
    "plt.figure(figsize=(20,6))\n",
    "los_disp_mm_dam[:,0,0].plot(color='red', lw=1, ls='--', label='Top Left')\n",
    "los_disp_mm_dam[:,0,1].plot(color='black', lw=1, ls='--', label='Top Right')\n",
    "los_disp_mm_dam[:,1,0].plot(color='blue', lw=1, ls='--', label='Bottom Left')\n",
    "los_disp_mm_dam[:,1,1].plot(color='green', lw=1, ls='--', label='Bottom Right')\n",
    "los_disp_mm_trend_dam.plot(color='red', lw=2, label='Trend')\n",
    "plt.legend(loc='lower center', ncol=5, fontsize=24)\n",
    "plt.grid()\n",
    "plt.xlabel('Date', fontsize=24)\n",
    "plt.ylabel('LOS Displacement Velocity, [mm/12 days]', fontsize=24)\n",
    "plt.title('Yamchi Dam LOS Displacement', fontsize=30)\n",
    "plt.savefig(f'Yamchi Dam LOS Displacement.jpg', dpi=150, quality=95)\n",
    "plt.show()"
   ]
  },
  {
   "cell_type": "markdown",
   "metadata": {
    "id": "Ic5zHTtYcF7b"
   },
   "source": [
    "## Reference Area Displacement Analysis for Coherence Threshold 0.6"
   ]
  },
  {
   "cell_type": "code",
   "execution_count": null,
   "metadata": {
    "id": "B8hZlOUeD6rW"
   },
   "outputs": [],
   "source": [
    "# Reference area\n",
    "lat_min = mlos_disp_mm.lat.min()\n",
    "lon_min = mlos_disp_mm.lon.min()\n",
    "los_disp_mm_ref = mlos_disp_mm.sel(lat=slice(lat_min, lat_min+0.01), lon=slice(lon_min, lon_min+0.01))\n",
    "los_disp_mm_ref['pair'] = [da.rep.item() if da.pair.item()>MASTER else da.ref.item() for da in los_disp_mm_ref]\n",
    "los_disp_mm_ref = xr.where(corr_ref>=CORRLIMIT, los_disp_mm_ref, np.nan).mean(['lat','lon'])\n",
    "#los_disp_mm_ref"
   ]
  },
  {
   "cell_type": "code",
   "execution_count": null,
   "metadata": {
    "id": "VgCxNm8WD681"
   },
   "outputs": [],
   "source": [
    "dates = [datetime.datetime.strptime(date, \"%Y-%m-%d\").timetuple().tm_yday for date in los_disp_mm_ref.pair.values]\n",
    "values = los_disp_mm_ref.values\n",
    "trend_ref = np.polyfit(dates, values, 1)\n",
    "print (trend_ref)\n",
    "trendpoly = np.poly1d(trend_ref)\n",
    "los_disp_mm_trend_ref = xr.zeros_like(los_disp_mm_ref)\n",
    "los_disp_mm_trend_ref.values = trendpoly(dates)\n",
    "#los_disp_mm_trend_ref"
   ]
  },
  {
   "cell_type": "code",
   "execution_count": null,
   "metadata": {
    "id": "DGsZCtj5D7F1"
   },
   "outputs": [],
   "source": [
    "plt.figure(figsize=(20,6))\n",
    "los_disp_mm_ref.plot(color='black', lw=1, ls='--', label='Average')\n",
    "los_disp_mm_trend_ref.plot(color='red', lw=2, label='Trend')\n",
    "plt.legend(loc='lower center', ncol=5, fontsize=24)\n",
    "plt.grid()\n",
    "plt.xlabel('Date', fontsize=24)\n",
    "plt.ylabel('LOS Displacement Velocity, [mm/12 days]', fontsize=24)\n",
    "plt.title('Reference Area LOS Displacement', fontsize=30)\n",
    "plt.savefig(f'Reference Area LOS Displacement.jpg', dpi=150, quality=95)\n",
    "plt.show()"
   ]
  },
  {
   "cell_type": "markdown",
   "metadata": {
    "id": "RSjwoP8YcUtW"
   },
   "source": [
    "## Yamchi Dam vs Reference Area Displacement Analysis"
   ]
  },
  {
   "cell_type": "code",
   "execution_count": null,
   "metadata": {
    "id": "b7zhbSoeD7Pf"
   },
   "outputs": [],
   "source": [
    "plt.figure(figsize=(20,6))\n",
    "(los_disp_mm_dam[:,0,0]-los_disp_mm_ref).plot(color='red', lw=1, ls='--', label='Top Left')\n",
    "(los_disp_mm_dam[:,0,1]-los_disp_mm_ref).plot(color='black', lw=1, ls='--', label='Top Right')\n",
    "(los_disp_mm_dam[:,1,0]-los_disp_mm_ref).plot(color='blue', lw=1, ls='--', label='Bottom Left')\n",
    "(los_disp_mm_dam[:,1,1]-los_disp_mm_ref).plot(color='green', lw=1, ls='--', label='Bottom Right')\n",
    "(los_disp_mm_trend_dam-los_disp_mm_trend_ref).plot(color='red', lw=2, label='Trend')\n",
    "plt.legend(loc='lower center', ncol=5, fontsize=24)\n",
    "plt.grid()\n",
    "plt.xlabel('Date', fontsize=24)\n",
    "plt.ylabel('LOS Displacement Velocity, [mm/12 days]', fontsize=24)\n",
    "plt.title('Yamchi Dam vs Reference Area LOS Displacement', fontsize=30)\n",
    "plt.savefig(f'Yamchi Dam vs Reference Area LOS Displacement.jpg', dpi=150, quality=95)\n",
    "plt.show()"
   ]
  },
  {
   "cell_type": "markdown",
   "metadata": {
    "id": "GNtYOSTzk_Af"
   },
   "source": [
    "## Build Output NetCDF 3D cubes"
   ]
  },
  {
   "cell_type": "code",
   "execution_count": null,
   "metadata": {
    "id": "UfEFuvO0lAPP"
   },
   "outputs": [],
   "source": [
    "#_los_disp_mm_ref = los_disp_mm_ref.copy()\n",
    "#_los_disp_mm_ref['pair'] = los_disp_mm['pair']\n",
    "_mlos_disp_mm = mlos_disp_mm.copy(deep=True)\n",
    "_mlos_disp_mm['pair'] = [da.rep.item() if da.pair.item()>MASTER else da.ref.item() for da in _mlos_disp_mm]\n",
    "los_disp_mm_deref = _mlos_disp_mm - los_disp_mm_ref\n",
    "los_disp_mm_deref.to_netcdf('los_disp_mm_deref.nc')\n",
    "#los_disp_mm_deref"
   ]
  },
  {
   "cell_type": "code",
   "execution_count": null,
   "metadata": {
    "id": "JCzK49sO3irX"
   },
   "outputs": [],
   "source": [
    "mcorr.to_netcdf('corr.nc')"
   ]
  },
  {
   "cell_type": "markdown",
   "metadata": {
    "id": "ED12klc_3Rhv"
   },
   "source": [
    "### Export from Google Colab"
   ]
  },
  {
   "cell_type": "code",
   "execution_count": null,
   "metadata": {
    "id": "U4MXXA6k3SBN"
   },
   "outputs": [],
   "source": [
    "try:\n",
    "    from google.colab import files\n",
    "    files.download('los_disp_mm_deref.nc')\n",
    "    files.download('corr.nc')\n",
    "except:\n",
    "    pass"
   ]
  }
 ],
 "metadata": {
  "colab": {
   "collapsed_sections": [],
   "name": "S1A_Yamchi_2021_Timeseries Analysis.ipynb",
   "provenance": []
  },
  "environment": {
   "name": "common-cpu.m80",
   "type": "gcloud",
   "uri": "gcr.io/deeplearning-platform-release/base-cpu:m80"
  },
  "kernelspec": {
   "display_name": "Python 3 (ipykernel)",
   "language": "python",
   "name": "python3"
  },
  "language_info": {
   "codemirror_mode": {
    "name": "ipython",
    "version": 3
   },
   "file_extension": ".py",
   "mimetype": "text/x-python",
   "name": "python",
   "nbconvert_exporter": "python",
   "pygments_lexer": "ipython3",
   "version": "3.9.13"
  },
  "widgets": {
   "application/vnd.jupyter.widget-state+json": {
    "099912b1ae1040bf8b302e0c1363a01e": {
     "model_module": "@jupyter-widgets/base",
     "model_module_version": "1.2.0",
     "model_name": "LayoutModel",
     "state": {
      "_model_module": "@jupyter-widgets/base",
      "_model_module_version": "1.2.0",
      "_model_name": "LayoutModel",
      "_view_count": null,
      "_view_module": "@jupyter-widgets/base",
      "_view_module_version": "1.2.0",
      "_view_name": "LayoutView",
      "align_content": null,
      "align_items": null,
      "align_self": null,
      "border": null,
      "bottom": null,
      "display": null,
      "flex": null,
      "flex_flow": null,
      "grid_area": null,
      "grid_auto_columns": null,
      "grid_auto_flow": null,
      "grid_auto_rows": null,
      "grid_column": null,
      "grid_gap": null,
      "grid_row": null,
      "grid_template_areas": null,
      "grid_template_columns": null,
      "grid_template_rows": null,
      "height": null,
      "justify_content": null,
      "justify_items": null,
      "left": null,
      "margin": null,
      "max_height": null,
      "max_width": null,
      "min_height": null,
      "min_width": null,
      "object_fit": null,
      "object_position": null,
      "order": null,
      "overflow": null,
      "overflow_x": null,
      "overflow_y": null,
      "padding": null,
      "right": null,
      "top": null,
      "visibility": null,
      "width": null
     }
    },
    "0c8852a701424753a4a56afbf74ccd54": {
     "model_module": "@jupyter-widgets/controls",
     "model_module_version": "1.5.0",
     "model_name": "ProgressStyleModel",
     "state": {
      "_model_module": "@jupyter-widgets/controls",
      "_model_module_version": "1.5.0",
      "_model_name": "ProgressStyleModel",
      "_view_count": null,
      "_view_module": "@jupyter-widgets/base",
      "_view_module_version": "1.2.0",
      "_view_name": "StyleView",
      "bar_color": null,
      "description_width": ""
     }
    },
    "0ed26931c43e4340bc478509b867384d": {
     "model_module": "@jupyter-widgets/base",
     "model_module_version": "1.2.0",
     "model_name": "LayoutModel",
     "state": {
      "_model_module": "@jupyter-widgets/base",
      "_model_module_version": "1.2.0",
      "_model_name": "LayoutModel",
      "_view_count": null,
      "_view_module": "@jupyter-widgets/base",
      "_view_module_version": "1.2.0",
      "_view_name": "LayoutView",
      "align_content": null,
      "align_items": null,
      "align_self": null,
      "border": null,
      "bottom": null,
      "display": null,
      "flex": null,
      "flex_flow": null,
      "grid_area": null,
      "grid_auto_columns": null,
      "grid_auto_flow": null,
      "grid_auto_rows": null,
      "grid_column": null,
      "grid_gap": null,
      "grid_row": null,
      "grid_template_areas": null,
      "grid_template_columns": null,
      "grid_template_rows": null,
      "height": null,
      "justify_content": null,
      "justify_items": null,
      "left": null,
      "margin": null,
      "max_height": null,
      "max_width": null,
      "min_height": null,
      "min_width": null,
      "object_fit": null,
      "object_position": null,
      "order": null,
      "overflow": null,
      "overflow_x": null,
      "overflow_y": null,
      "padding": null,
      "right": null,
      "top": null,
      "visibility": null,
      "width": null
     }
    },
    "2062494668c9478e8f6b145c277a5ce4": {
     "model_module": "@jupyter-widgets/controls",
     "model_module_version": "1.5.0",
     "model_name": "DescriptionStyleModel",
     "state": {
      "_model_module": "@jupyter-widgets/controls",
      "_model_module_version": "1.5.0",
      "_model_name": "DescriptionStyleModel",
      "_view_count": null,
      "_view_module": "@jupyter-widgets/base",
      "_view_module_version": "1.2.0",
      "_view_name": "StyleView",
      "description_width": ""
     }
    },
    "206bef8f1865485bb9b4ef304bcf5b5d": {
     "model_module": "@jupyter-widgets/controls",
     "model_module_version": "1.5.0",
     "model_name": "DescriptionStyleModel",
     "state": {
      "_model_module": "@jupyter-widgets/controls",
      "_model_module_version": "1.5.0",
      "_model_name": "DescriptionStyleModel",
      "_view_count": null,
      "_view_module": "@jupyter-widgets/base",
      "_view_module_version": "1.2.0",
      "_view_name": "StyleView",
      "description_width": ""
     }
    },
    "20f76597f6d848fab0df29a215200376": {
     "model_module": "@jupyter-widgets/controls",
     "model_module_version": "1.5.0",
     "model_name": "FloatProgressModel",
     "state": {
      "_dom_classes": [],
      "_model_module": "@jupyter-widgets/controls",
      "_model_module_version": "1.5.0",
      "_model_name": "FloatProgressModel",
      "_view_count": null,
      "_view_module": "@jupyter-widgets/controls",
      "_view_module_version": "1.5.0",
      "_view_name": "ProgressView",
      "bar_style": "success",
      "description": "",
      "description_tooltip": null,
      "layout": "IPY_MODEL_72103b259bf644cdbbe585a559e4de60",
      "max": 1,
      "min": 0,
      "orientation": "horizontal",
      "style": "IPY_MODEL_adc89c69c11c4424b5dfa675fb6fbf13",
      "value": 1
     }
    },
    "216257be653c4af7a3f06053e9868df0": {
     "model_module": "@jupyter-widgets/controls",
     "model_module_version": "1.5.0",
     "model_name": "FloatProgressModel",
     "state": {
      "_dom_classes": [],
      "_model_module": "@jupyter-widgets/controls",
      "_model_module_version": "1.5.0",
      "_model_name": "FloatProgressModel",
      "_view_count": null,
      "_view_module": "@jupyter-widgets/controls",
      "_view_module_version": "1.5.0",
      "_view_name": "ProgressView",
      "bar_style": "success",
      "description": "",
      "description_tooltip": null,
      "layout": "IPY_MODEL_7d14eb9240a9424cb9dd976a1097252a",
      "max": 17,
      "min": 0,
      "orientation": "horizontal",
      "style": "IPY_MODEL_d12dad2af5324dc8bdd1ad743885b225",
      "value": 17
     }
    },
    "22288e3382984216bc3ec2f2b3ba33eb": {
     "model_module": "@jupyter-widgets/controls",
     "model_module_version": "1.5.0",
     "model_name": "HTMLModel",
     "state": {
      "_dom_classes": [],
      "_model_module": "@jupyter-widgets/controls",
      "_model_module_version": "1.5.0",
      "_model_name": "HTMLModel",
      "_view_count": null,
      "_view_module": "@jupyter-widgets/controls",
      "_view_module_version": "1.5.0",
      "_view_name": "HTMLView",
      "description": "",
      "description_tooltip": null,
      "layout": "IPY_MODEL_0ed26931c43e4340bc478509b867384d",
      "placeholder": "​",
      "style": "IPY_MODEL_341873a0b78c4864858cc84e050fd97a",
      "value": "Transforming Coordinates: 100%"
     }
    },
    "2800b58a7b8542af8af2562ae3e72619": {
     "model_module": "@jupyter-widgets/base",
     "model_module_version": "1.2.0",
     "model_name": "LayoutModel",
     "state": {
      "_model_module": "@jupyter-widgets/base",
      "_model_module_version": "1.2.0",
      "_model_name": "LayoutModel",
      "_view_count": null,
      "_view_module": "@jupyter-widgets/base",
      "_view_module_version": "1.2.0",
      "_view_name": "LayoutView",
      "align_content": null,
      "align_items": null,
      "align_self": null,
      "border": null,
      "bottom": null,
      "display": null,
      "flex": null,
      "flex_flow": null,
      "grid_area": null,
      "grid_auto_columns": null,
      "grid_auto_flow": null,
      "grid_auto_rows": null,
      "grid_column": null,
      "grid_gap": null,
      "grid_row": null,
      "grid_template_areas": null,
      "grid_template_columns": null,
      "grid_template_rows": null,
      "height": null,
      "justify_content": null,
      "justify_items": null,
      "left": null,
      "margin": null,
      "max_height": null,
      "max_width": null,
      "min_height": null,
      "min_width": null,
      "object_fit": null,
      "object_position": null,
      "order": null,
      "overflow": null,
      "overflow_x": null,
      "overflow_y": null,
      "padding": null,
      "right": null,
      "top": null,
      "visibility": null,
      "width": null
     }
    },
    "2b3c4dba17c6498895b485fc3916668b": {
     "model_module": "@jupyter-widgets/controls",
     "model_module_version": "1.5.0",
     "model_name": "FloatProgressModel",
     "state": {
      "_dom_classes": [],
      "_model_module": "@jupyter-widgets/controls",
      "_model_module_version": "1.5.0",
      "_model_name": "FloatProgressModel",
      "_view_count": null,
      "_view_module": "@jupyter-widgets/controls",
      "_view_module_version": "1.5.0",
      "_view_name": "ProgressView",
      "bar_style": "success",
      "description": "",
      "description_tooltip": null,
      "layout": "IPY_MODEL_d14429b610d04330b25d4cbd81182925",
      "max": 1,
      "min": 0,
      "orientation": "horizontal",
      "style": "IPY_MODEL_0c8852a701424753a4a56afbf74ccd54",
      "value": 1
     }
    },
    "2c312c08521244e3ab7b399287a220ae": {
     "model_module": "@jupyter-widgets/base",
     "model_module_version": "1.2.0",
     "model_name": "LayoutModel",
     "state": {
      "_model_module": "@jupyter-widgets/base",
      "_model_module_version": "1.2.0",
      "_model_name": "LayoutModel",
      "_view_count": null,
      "_view_module": "@jupyter-widgets/base",
      "_view_module_version": "1.2.0",
      "_view_name": "LayoutView",
      "align_content": null,
      "align_items": null,
      "align_self": null,
      "border": null,
      "bottom": null,
      "display": null,
      "flex": null,
      "flex_flow": null,
      "grid_area": null,
      "grid_auto_columns": null,
      "grid_auto_flow": null,
      "grid_auto_rows": null,
      "grid_column": null,
      "grid_gap": null,
      "grid_row": null,
      "grid_template_areas": null,
      "grid_template_columns": null,
      "grid_template_rows": null,
      "height": null,
      "justify_content": null,
      "justify_items": null,
      "left": null,
      "margin": null,
      "max_height": null,
      "max_width": null,
      "min_height": null,
      "min_width": null,
      "object_fit": null,
      "object_position": null,
      "order": null,
      "overflow": null,
      "overflow_x": null,
      "overflow_y": null,
      "padding": null,
      "right": null,
      "top": null,
      "visibility": null,
      "width": null
     }
    },
    "341873a0b78c4864858cc84e050fd97a": {
     "model_module": "@jupyter-widgets/controls",
     "model_module_version": "1.5.0",
     "model_name": "DescriptionStyleModel",
     "state": {
      "_model_module": "@jupyter-widgets/controls",
      "_model_module_version": "1.5.0",
      "_model_name": "DescriptionStyleModel",
      "_view_count": null,
      "_view_module": "@jupyter-widgets/base",
      "_view_module_version": "1.2.0",
      "_view_name": "StyleView",
      "description_width": ""
     }
    },
    "373016575c944e179e12f9eabfe68d62": {
     "model_module": "@jupyter-widgets/controls",
     "model_module_version": "1.5.0",
     "model_name": "DescriptionStyleModel",
     "state": {
      "_model_module": "@jupyter-widgets/controls",
      "_model_module_version": "1.5.0",
      "_model_name": "DescriptionStyleModel",
      "_view_count": null,
      "_view_module": "@jupyter-widgets/base",
      "_view_module_version": "1.2.0",
      "_view_name": "StyleView",
      "description_width": ""
     }
    },
    "37ebfa1b08974abc895a22fed019513e": {
     "model_module": "@jupyter-widgets/base",
     "model_module_version": "1.2.0",
     "model_name": "LayoutModel",
     "state": {
      "_model_module": "@jupyter-widgets/base",
      "_model_module_version": "1.2.0",
      "_model_name": "LayoutModel",
      "_view_count": null,
      "_view_module": "@jupyter-widgets/base",
      "_view_module_version": "1.2.0",
      "_view_name": "LayoutView",
      "align_content": null,
      "align_items": null,
      "align_self": null,
      "border": null,
      "bottom": null,
      "display": null,
      "flex": null,
      "flex_flow": null,
      "grid_area": null,
      "grid_auto_columns": null,
      "grid_auto_flow": null,
      "grid_auto_rows": null,
      "grid_column": null,
      "grid_gap": null,
      "grid_row": null,
      "grid_template_areas": null,
      "grid_template_columns": null,
      "grid_template_rows": null,
      "height": null,
      "justify_content": null,
      "justify_items": null,
      "left": null,
      "margin": null,
      "max_height": null,
      "max_width": null,
      "min_height": null,
      "min_width": null,
      "object_fit": null,
      "object_position": null,
      "order": null,
      "overflow": null,
      "overflow_x": null,
      "overflow_y": null,
      "padding": null,
      "right": null,
      "top": null,
      "visibility": null,
      "width": null
     }
    },
    "3b092b72700645c3bf880a600d030549": {
     "model_module": "@jupyter-widgets/controls",
     "model_module_version": "1.5.0",
     "model_name": "HBoxModel",
     "state": {
      "_dom_classes": [],
      "_model_module": "@jupyter-widgets/controls",
      "_model_module_version": "1.5.0",
      "_model_name": "HBoxModel",
      "_view_count": null,
      "_view_module": "@jupyter-widgets/controls",
      "_view_module_version": "1.5.0",
      "_view_name": "HBoxView",
      "box_style": "",
      "children": [
       "IPY_MODEL_3c1370fe60174aaf8f40d5beaaba2b12",
       "IPY_MODEL_20f76597f6d848fab0df29a215200376",
       "IPY_MODEL_76054d4f36274d29beabaecc3dc0d295"
      ],
      "layout": "IPY_MODEL_9d653fd7d6e842258fb9be9deb237657"
     }
    },
    "3c1370fe60174aaf8f40d5beaaba2b12": {
     "model_module": "@jupyter-widgets/controls",
     "model_module_version": "1.5.0",
     "model_name": "HTMLModel",
     "state": {
      "_dom_classes": [],
      "_model_module": "@jupyter-widgets/controls",
      "_model_module_version": "1.5.0",
      "_model_name": "HTMLModel",
      "_view_count": null,
      "_view_module": "@jupyter-widgets/controls",
      "_view_module_version": "1.5.0",
      "_view_name": "HTMLView",
      "description": "",
      "description_tooltip": null,
      "layout": "IPY_MODEL_74e635b6f03e4060be14f2e686b698bc",
      "placeholder": "​",
      "style": "IPY_MODEL_373016575c944e179e12f9eabfe68d62",
      "value": "Reference: 100%"
     }
    },
    "3e71e4f746614c0295e81ca6acd856c5": {
     "model_module": "@jupyter-widgets/controls",
     "model_module_version": "1.5.0",
     "model_name": "HTMLModel",
     "state": {
      "_dom_classes": [],
      "_model_module": "@jupyter-widgets/controls",
      "_model_module_version": "1.5.0",
      "_model_name": "HTMLModel",
      "_view_count": null,
      "_view_module": "@jupyter-widgets/controls",
      "_view_module_version": "1.5.0",
      "_view_name": "HTMLView",
      "description": "",
      "description_tooltip": null,
      "layout": "IPY_MODEL_ff9a8b42bfac44cf8e096867dec1c069",
      "placeholder": "​",
      "style": "IPY_MODEL_54c79cf5f74d4262849d7b3d0e595491",
      "value": "Aligning: 100%"
     }
    },
    "47522b869cf546c8a05f48295f029979": {
     "model_module": "@jupyter-widgets/base",
     "model_module_version": "1.2.0",
     "model_name": "LayoutModel",
     "state": {
      "_model_module": "@jupyter-widgets/base",
      "_model_module_version": "1.2.0",
      "_model_name": "LayoutModel",
      "_view_count": null,
      "_view_module": "@jupyter-widgets/base",
      "_view_module_version": "1.2.0",
      "_view_name": "LayoutView",
      "align_content": null,
      "align_items": null,
      "align_self": null,
      "border": null,
      "bottom": null,
      "display": null,
      "flex": null,
      "flex_flow": null,
      "grid_area": null,
      "grid_auto_columns": null,
      "grid_auto_flow": null,
      "grid_auto_rows": null,
      "grid_column": null,
      "grid_gap": null,
      "grid_row": null,
      "grid_template_areas": null,
      "grid_template_columns": null,
      "grid_template_rows": null,
      "height": null,
      "justify_content": null,
      "justify_items": null,
      "left": null,
      "margin": null,
      "max_height": null,
      "max_width": null,
      "min_height": null,
      "min_width": null,
      "object_fit": null,
      "object_position": null,
      "order": null,
      "overflow": null,
      "overflow_x": null,
      "overflow_y": null,
      "padding": null,
      "right": null,
      "top": null,
      "visibility": null,
      "width": null
     }
    },
    "4963173608b14999a2c070d5d0e9d2ee": {
     "model_module": "@jupyter-widgets/controls",
     "model_module_version": "1.5.0",
     "model_name": "HTMLModel",
     "state": {
      "_dom_classes": [],
      "_model_module": "@jupyter-widgets/controls",
      "_model_module_version": "1.5.0",
      "_model_name": "HTMLModel",
      "_view_count": null,
      "_view_module": "@jupyter-widgets/controls",
      "_view_module_version": "1.5.0",
      "_view_name": "HTMLView",
      "description": "",
      "description_tooltip": null,
      "layout": "IPY_MODEL_6d041bf042aa49f4844144b6b2e45dc3",
      "placeholder": "​",
      "style": "IPY_MODEL_589a55dfd882463e8dbcfbdda625d678",
      "value": " 17/17 [26:38&lt;00:00, 89.14s/it]"
     }
    },
    "4f0b5a78ac9a49089149b061f5e94508": {
     "model_module": "@jupyter-widgets/controls",
     "model_module_version": "1.5.0",
     "model_name": "DescriptionStyleModel",
     "state": {
      "_model_module": "@jupyter-widgets/controls",
      "_model_module_version": "1.5.0",
      "_model_name": "DescriptionStyleModel",
      "_view_count": null,
      "_view_module": "@jupyter-widgets/base",
      "_view_module_version": "1.2.0",
      "_view_name": "StyleView",
      "description_width": ""
     }
    },
    "4fa7b9598fcf4876b515d05ca4dd86a8": {
     "model_module": "@jupyter-widgets/controls",
     "model_module_version": "1.5.0",
     "model_name": "HTMLModel",
     "state": {
      "_dom_classes": [],
      "_model_module": "@jupyter-widgets/controls",
      "_model_module_version": "1.5.0",
      "_model_name": "HTMLModel",
      "_view_count": null,
      "_view_module": "@jupyter-widgets/controls",
      "_view_module_version": "1.5.0",
      "_view_name": "HTMLView",
      "description": "",
      "description_tooltip": null,
      "layout": "IPY_MODEL_ad578203d33049d29b906ebd3554fb1d",
      "placeholder": "​",
      "style": "IPY_MODEL_4f0b5a78ac9a49089149b061f5e94508",
      "value": " 17/17 [50:22&lt;00:00, 190.90s/it]"
     }
    },
    "5121f3002a60444685bffba9545f0363": {
     "model_module": "@jupyter-widgets/controls",
     "model_module_version": "1.5.0",
     "model_name": "HBoxModel",
     "state": {
      "_dom_classes": [],
      "_model_module": "@jupyter-widgets/controls",
      "_model_module_version": "1.5.0",
      "_model_name": "HBoxModel",
      "_view_count": null,
      "_view_module": "@jupyter-widgets/controls",
      "_view_module_version": "1.5.0",
      "_view_name": "HBoxView",
      "box_style": "",
      "children": [
       "IPY_MODEL_81ba314cc6b24e049f52d23ef1149895",
       "IPY_MODEL_a55368fdb52740ecaaa10ce6e9132e6c",
       "IPY_MODEL_f085549a2039492f876f1d8b9ae4d71e"
      ],
      "layout": "IPY_MODEL_2c312c08521244e3ab7b399287a220ae"
     }
    },
    "54c79cf5f74d4262849d7b3d0e595491": {
     "model_module": "@jupyter-widgets/controls",
     "model_module_version": "1.5.0",
     "model_name": "DescriptionStyleModel",
     "state": {
      "_model_module": "@jupyter-widgets/controls",
      "_model_module_version": "1.5.0",
      "_model_name": "DescriptionStyleModel",
      "_view_count": null,
      "_view_module": "@jupyter-widgets/base",
      "_view_module_version": "1.2.0",
      "_view_name": "StyleView",
      "description_width": ""
     }
    },
    "589a55dfd882463e8dbcfbdda625d678": {
     "model_module": "@jupyter-widgets/controls",
     "model_module_version": "1.5.0",
     "model_name": "DescriptionStyleModel",
     "state": {
      "_model_module": "@jupyter-widgets/controls",
      "_model_module_version": "1.5.0",
      "_model_name": "DescriptionStyleModel",
      "_view_count": null,
      "_view_module": "@jupyter-widgets/base",
      "_view_module_version": "1.2.0",
      "_view_name": "StyleView",
      "description_width": ""
     }
    },
    "60f7d39fcd824f60b21c7ead936eca53": {
     "model_module": "@jupyter-widgets/controls",
     "model_module_version": "1.5.0",
     "model_name": "HBoxModel",
     "state": {
      "_dom_classes": [],
      "_model_module": "@jupyter-widgets/controls",
      "_model_module_version": "1.5.0",
      "_model_name": "HBoxModel",
      "_view_count": null,
      "_view_module": "@jupyter-widgets/controls",
      "_view_module_version": "1.5.0",
      "_view_name": "HBoxView",
      "box_style": "",
      "children": [
       "IPY_MODEL_3e71e4f746614c0295e81ca6acd856c5",
       "IPY_MODEL_fc23d1106b214f89935df2b6180b0d75",
       "IPY_MODEL_4963173608b14999a2c070d5d0e9d2ee"
      ],
      "layout": "IPY_MODEL_b13d693affbb4f5cb8147e97f06d38eb"
     }
    },
    "6d041bf042aa49f4844144b6b2e45dc3": {
     "model_module": "@jupyter-widgets/base",
     "model_module_version": "1.2.0",
     "model_name": "LayoutModel",
     "state": {
      "_model_module": "@jupyter-widgets/base",
      "_model_module_version": "1.2.0",
      "_model_name": "LayoutModel",
      "_view_count": null,
      "_view_module": "@jupyter-widgets/base",
      "_view_module_version": "1.2.0",
      "_view_name": "LayoutView",
      "align_content": null,
      "align_items": null,
      "align_self": null,
      "border": null,
      "bottom": null,
      "display": null,
      "flex": null,
      "flex_flow": null,
      "grid_area": null,
      "grid_auto_columns": null,
      "grid_auto_flow": null,
      "grid_auto_rows": null,
      "grid_column": null,
      "grid_gap": null,
      "grid_row": null,
      "grid_template_areas": null,
      "grid_template_columns": null,
      "grid_template_rows": null,
      "height": null,
      "justify_content": null,
      "justify_items": null,
      "left": null,
      "margin": null,
      "max_height": null,
      "max_width": null,
      "min_height": null,
      "min_width": null,
      "object_fit": null,
      "object_position": null,
      "order": null,
      "overflow": null,
      "overflow_x": null,
      "overflow_y": null,
      "padding": null,
      "right": null,
      "top": null,
      "visibility": null,
      "width": null
     }
    },
    "72103b259bf644cdbbe585a559e4de60": {
     "model_module": "@jupyter-widgets/base",
     "model_module_version": "1.2.0",
     "model_name": "LayoutModel",
     "state": {
      "_model_module": "@jupyter-widgets/base",
      "_model_module_version": "1.2.0",
      "_model_name": "LayoutModel",
      "_view_count": null,
      "_view_module": "@jupyter-widgets/base",
      "_view_module_version": "1.2.0",
      "_view_name": "LayoutView",
      "align_content": null,
      "align_items": null,
      "align_self": null,
      "border": null,
      "bottom": null,
      "display": null,
      "flex": null,
      "flex_flow": null,
      "grid_area": null,
      "grid_auto_columns": null,
      "grid_auto_flow": null,
      "grid_auto_rows": null,
      "grid_column": null,
      "grid_gap": null,
      "grid_row": null,
      "grid_template_areas": null,
      "grid_template_columns": null,
      "grid_template_rows": null,
      "height": null,
      "justify_content": null,
      "justify_items": null,
      "left": null,
      "margin": null,
      "max_height": null,
      "max_width": null,
      "min_height": null,
      "min_width": null,
      "object_fit": null,
      "object_position": null,
      "order": null,
      "overflow": null,
      "overflow_x": null,
      "overflow_y": null,
      "padding": null,
      "right": null,
      "top": null,
      "visibility": null,
      "width": null
     }
    },
    "74e635b6f03e4060be14f2e686b698bc": {
     "model_module": "@jupyter-widgets/base",
     "model_module_version": "1.2.0",
     "model_name": "LayoutModel",
     "state": {
      "_model_module": "@jupyter-widgets/base",
      "_model_module_version": "1.2.0",
      "_model_name": "LayoutModel",
      "_view_count": null,
      "_view_module": "@jupyter-widgets/base",
      "_view_module_version": "1.2.0",
      "_view_name": "LayoutView",
      "align_content": null,
      "align_items": null,
      "align_self": null,
      "border": null,
      "bottom": null,
      "display": null,
      "flex": null,
      "flex_flow": null,
      "grid_area": null,
      "grid_auto_columns": null,
      "grid_auto_flow": null,
      "grid_auto_rows": null,
      "grid_column": null,
      "grid_gap": null,
      "grid_row": null,
      "grid_template_areas": null,
      "grid_template_columns": null,
      "grid_template_rows": null,
      "height": null,
      "justify_content": null,
      "justify_items": null,
      "left": null,
      "margin": null,
      "max_height": null,
      "max_width": null,
      "min_height": null,
      "min_width": null,
      "object_fit": null,
      "object_position": null,
      "order": null,
      "overflow": null,
      "overflow_x": null,
      "overflow_y": null,
      "padding": null,
      "right": null,
      "top": null,
      "visibility": null,
      "width": null
     }
    },
    "76054d4f36274d29beabaecc3dc0d295": {
     "model_module": "@jupyter-widgets/controls",
     "model_module_version": "1.5.0",
     "model_name": "HTMLModel",
     "state": {
      "_dom_classes": [],
      "_model_module": "@jupyter-widgets/controls",
      "_model_module_version": "1.5.0",
      "_model_name": "HTMLModel",
      "_view_count": null,
      "_view_module": "@jupyter-widgets/controls",
      "_view_module_version": "1.5.0",
      "_view_name": "HTMLView",
      "description": "",
      "description_tooltip": null,
      "layout": "IPY_MODEL_47522b869cf546c8a05f48295f029979",
      "placeholder": "​",
      "style": "IPY_MODEL_e654e559817f428193a79fe389d0559a",
      "value": " 1/1 [00:18&lt;00:00, 18.28s/it]"
     }
    },
    "765eff055e274f70a765d3a05f774cb2": {
     "model_module": "@jupyter-widgets/controls",
     "model_module_version": "1.5.0",
     "model_name": "ProgressStyleModel",
     "state": {
      "_model_module": "@jupyter-widgets/controls",
      "_model_module_version": "1.5.0",
      "_model_name": "ProgressStyleModel",
      "_view_count": null,
      "_view_module": "@jupyter-widgets/base",
      "_view_module_version": "1.2.0",
      "_view_name": "StyleView",
      "bar_color": null,
      "description_width": ""
     }
    },
    "7d14eb9240a9424cb9dd976a1097252a": {
     "model_module": "@jupyter-widgets/base",
     "model_module_version": "1.2.0",
     "model_name": "LayoutModel",
     "state": {
      "_model_module": "@jupyter-widgets/base",
      "_model_module_version": "1.2.0",
      "_model_name": "LayoutModel",
      "_view_count": null,
      "_view_module": "@jupyter-widgets/base",
      "_view_module_version": "1.2.0",
      "_view_name": "LayoutView",
      "align_content": null,
      "align_items": null,
      "align_self": null,
      "border": null,
      "bottom": null,
      "display": null,
      "flex": null,
      "flex_flow": null,
      "grid_area": null,
      "grid_auto_columns": null,
      "grid_auto_flow": null,
      "grid_auto_rows": null,
      "grid_column": null,
      "grid_gap": null,
      "grid_row": null,
      "grid_template_areas": null,
      "grid_template_columns": null,
      "grid_template_rows": null,
      "height": null,
      "justify_content": null,
      "justify_items": null,
      "left": null,
      "margin": null,
      "max_height": null,
      "max_width": null,
      "min_height": null,
      "min_width": null,
      "object_fit": null,
      "object_position": null,
      "order": null,
      "overflow": null,
      "overflow_x": null,
      "overflow_y": null,
      "padding": null,
      "right": null,
      "top": null,
      "visibility": null,
      "width": null
     }
    },
    "81ba314cc6b24e049f52d23ef1149895": {
     "model_module": "@jupyter-widgets/controls",
     "model_module_version": "1.5.0",
     "model_name": "HTMLModel",
     "state": {
      "_dom_classes": [],
      "_model_module": "@jupyter-widgets/controls",
      "_model_module_version": "1.5.0",
      "_model_name": "HTMLModel",
      "_view_count": null,
      "_view_module": "@jupyter-widgets/controls",
      "_view_module_version": "1.5.0",
      "_view_name": "HTMLView",
      "description": "",
      "description_tooltip": null,
      "layout": "IPY_MODEL_2800b58a7b8542af8af2562ae3e72619",
      "placeholder": "​",
      "style": "IPY_MODEL_93cab04a4bbd46aea1e648292e0c94d4",
      "value": "Downloading: 100%"
     }
    },
    "8d9da4b5775941bea4ae87e96ae19698": {
     "model_module": "@jupyter-widgets/base",
     "model_module_version": "1.2.0",
     "model_name": "LayoutModel",
     "state": {
      "_model_module": "@jupyter-widgets/base",
      "_model_module_version": "1.2.0",
      "_model_name": "LayoutModel",
      "_view_count": null,
      "_view_module": "@jupyter-widgets/base",
      "_view_module_version": "1.2.0",
      "_view_name": "LayoutView",
      "align_content": null,
      "align_items": null,
      "align_self": null,
      "border": null,
      "bottom": null,
      "display": null,
      "flex": null,
      "flex_flow": null,
      "grid_area": null,
      "grid_auto_columns": null,
      "grid_auto_flow": null,
      "grid_auto_rows": null,
      "grid_column": null,
      "grid_gap": null,
      "grid_row": null,
      "grid_template_areas": null,
      "grid_template_columns": null,
      "grid_template_rows": null,
      "height": null,
      "justify_content": null,
      "justify_items": null,
      "left": null,
      "margin": null,
      "max_height": null,
      "max_width": null,
      "min_height": null,
      "min_width": null,
      "object_fit": null,
      "object_position": null,
      "order": null,
      "overflow": null,
      "overflow_x": null,
      "overflow_y": null,
      "padding": null,
      "right": null,
      "top": null,
      "visibility": null,
      "width": null
     }
    },
    "93cab04a4bbd46aea1e648292e0c94d4": {
     "model_module": "@jupyter-widgets/controls",
     "model_module_version": "1.5.0",
     "model_name": "DescriptionStyleModel",
     "state": {
      "_model_module": "@jupyter-widgets/controls",
      "_model_module_version": "1.5.0",
      "_model_name": "DescriptionStyleModel",
      "_view_count": null,
      "_view_module": "@jupyter-widgets/base",
      "_view_module_version": "1.2.0",
      "_view_name": "StyleView",
      "description_width": ""
     }
    },
    "98022529314f45d7a94c3a746167b56f": {
     "model_module": "@jupyter-widgets/controls",
     "model_module_version": "1.5.0",
     "model_name": "HTMLModel",
     "state": {
      "_dom_classes": [],
      "_model_module": "@jupyter-widgets/controls",
      "_model_module_version": "1.5.0",
      "_model_name": "HTMLModel",
      "_view_count": null,
      "_view_module": "@jupyter-widgets/controls",
      "_view_module_version": "1.5.0",
      "_view_name": "HTMLView",
      "description": "",
      "description_tooltip": null,
      "layout": "IPY_MODEL_37ebfa1b08974abc895a22fed019513e",
      "placeholder": "​",
      "style": "IPY_MODEL_2062494668c9478e8f6b145c277a5ce4",
      "value": "Interferograms: 100%"
     }
    },
    "9d653fd7d6e842258fb9be9deb237657": {
     "model_module": "@jupyter-widgets/base",
     "model_module_version": "1.2.0",
     "model_name": "LayoutModel",
     "state": {
      "_model_module": "@jupyter-widgets/base",
      "_model_module_version": "1.2.0",
      "_model_name": "LayoutModel",
      "_view_count": null,
      "_view_module": "@jupyter-widgets/base",
      "_view_module_version": "1.2.0",
      "_view_name": "LayoutView",
      "align_content": null,
      "align_items": null,
      "align_self": null,
      "border": null,
      "bottom": null,
      "display": null,
      "flex": null,
      "flex_flow": null,
      "grid_area": null,
      "grid_auto_columns": null,
      "grid_auto_flow": null,
      "grid_auto_rows": null,
      "grid_column": null,
      "grid_gap": null,
      "grid_row": null,
      "grid_template_areas": null,
      "grid_template_columns": null,
      "grid_template_rows": null,
      "height": null,
      "justify_content": null,
      "justify_items": null,
      "left": null,
      "margin": null,
      "max_height": null,
      "max_width": null,
      "min_height": null,
      "min_width": null,
      "object_fit": null,
      "object_position": null,
      "order": null,
      "overflow": null,
      "overflow_x": null,
      "overflow_y": null,
      "padding": null,
      "right": null,
      "top": null,
      "visibility": null,
      "width": null
     }
    },
    "a311243ff7b24876bfec64a5efa967ee": {
     "model_module": "@jupyter-widgets/base",
     "model_module_version": "1.2.0",
     "model_name": "LayoutModel",
     "state": {
      "_model_module": "@jupyter-widgets/base",
      "_model_module_version": "1.2.0",
      "_model_name": "LayoutModel",
      "_view_count": null,
      "_view_module": "@jupyter-widgets/base",
      "_view_module_version": "1.2.0",
      "_view_name": "LayoutView",
      "align_content": null,
      "align_items": null,
      "align_self": null,
      "border": null,
      "bottom": null,
      "display": null,
      "flex": null,
      "flex_flow": null,
      "grid_area": null,
      "grid_auto_columns": null,
      "grid_auto_flow": null,
      "grid_auto_rows": null,
      "grid_column": null,
      "grid_gap": null,
      "grid_row": null,
      "grid_template_areas": null,
      "grid_template_columns": null,
      "grid_template_rows": null,
      "height": null,
      "justify_content": null,
      "justify_items": null,
      "left": null,
      "margin": null,
      "max_height": null,
      "max_width": null,
      "min_height": null,
      "min_width": null,
      "object_fit": null,
      "object_position": null,
      "order": null,
      "overflow": null,
      "overflow_x": null,
      "overflow_y": null,
      "padding": null,
      "right": null,
      "top": null,
      "visibility": null,
      "width": null
     }
    },
    "a508611a94214b2bbf29a7ae9d02516d": {
     "model_module": "@jupyter-widgets/controls",
     "model_module_version": "1.5.0",
     "model_name": "HTMLModel",
     "state": {
      "_dom_classes": [],
      "_model_module": "@jupyter-widgets/controls",
      "_model_module_version": "1.5.0",
      "_model_name": "HTMLModel",
      "_view_count": null,
      "_view_module": "@jupyter-widgets/controls",
      "_view_module_version": "1.5.0",
      "_view_name": "HTMLView",
      "description": "",
      "description_tooltip": null,
      "layout": "IPY_MODEL_dccb9011724c476184f34474c66f0cfb",
      "placeholder": "​",
      "style": "IPY_MODEL_206bef8f1865485bb9b4ef304bcf5b5d",
      "value": " 1/1 [03:34&lt;00:00, 214.20s/it]"
     }
    },
    "a55368fdb52740ecaaa10ce6e9132e6c": {
     "model_module": "@jupyter-widgets/controls",
     "model_module_version": "1.5.0",
     "model_name": "FloatProgressModel",
     "state": {
      "_dom_classes": [],
      "_model_module": "@jupyter-widgets/controls",
      "_model_module_version": "1.5.0",
      "_model_name": "FloatProgressModel",
      "_view_count": null,
      "_view_module": "@jupyter-widgets/controls",
      "_view_module_version": "1.5.0",
      "_view_name": "ProgressView",
      "bar_style": "success",
      "description": "",
      "description_tooltip": null,
      "layout": "IPY_MODEL_8d9da4b5775941bea4ae87e96ae19698",
      "max": 1,
      "min": 0,
      "orientation": "horizontal",
      "style": "IPY_MODEL_aff97d4354e1466894b4caec6603f339",
      "value": 1
     }
    },
    "a81db4ad09014669acf7ebd2cc0f051b": {
     "model_module": "@jupyter-widgets/base",
     "model_module_version": "1.2.0",
     "model_name": "LayoutModel",
     "state": {
      "_model_module": "@jupyter-widgets/base",
      "_model_module_version": "1.2.0",
      "_model_name": "LayoutModel",
      "_view_count": null,
      "_view_module": "@jupyter-widgets/base",
      "_view_module_version": "1.2.0",
      "_view_name": "LayoutView",
      "align_content": null,
      "align_items": null,
      "align_self": null,
      "border": null,
      "bottom": null,
      "display": null,
      "flex": null,
      "flex_flow": null,
      "grid_area": null,
      "grid_auto_columns": null,
      "grid_auto_flow": null,
      "grid_auto_rows": null,
      "grid_column": null,
      "grid_gap": null,
      "grid_row": null,
      "grid_template_areas": null,
      "grid_template_columns": null,
      "grid_template_rows": null,
      "height": null,
      "justify_content": null,
      "justify_items": null,
      "left": null,
      "margin": null,
      "max_height": null,
      "max_width": null,
      "min_height": null,
      "min_width": null,
      "object_fit": null,
      "object_position": null,
      "order": null,
      "overflow": null,
      "overflow_x": null,
      "overflow_y": null,
      "padding": null,
      "right": null,
      "top": null,
      "visibility": null,
      "width": null
     }
    },
    "ad578203d33049d29b906ebd3554fb1d": {
     "model_module": "@jupyter-widgets/base",
     "model_module_version": "1.2.0",
     "model_name": "LayoutModel",
     "state": {
      "_model_module": "@jupyter-widgets/base",
      "_model_module_version": "1.2.0",
      "_model_name": "LayoutModel",
      "_view_count": null,
      "_view_module": "@jupyter-widgets/base",
      "_view_module_version": "1.2.0",
      "_view_name": "LayoutView",
      "align_content": null,
      "align_items": null,
      "align_self": null,
      "border": null,
      "bottom": null,
      "display": null,
      "flex": null,
      "flex_flow": null,
      "grid_area": null,
      "grid_auto_columns": null,
      "grid_auto_flow": null,
      "grid_auto_rows": null,
      "grid_column": null,
      "grid_gap": null,
      "grid_row": null,
      "grid_template_areas": null,
      "grid_template_columns": null,
      "grid_template_rows": null,
      "height": null,
      "justify_content": null,
      "justify_items": null,
      "left": null,
      "margin": null,
      "max_height": null,
      "max_width": null,
      "min_height": null,
      "min_width": null,
      "object_fit": null,
      "object_position": null,
      "order": null,
      "overflow": null,
      "overflow_x": null,
      "overflow_y": null,
      "padding": null,
      "right": null,
      "top": null,
      "visibility": null,
      "width": null
     }
    },
    "adc89c69c11c4424b5dfa675fb6fbf13": {
     "model_module": "@jupyter-widgets/controls",
     "model_module_version": "1.5.0",
     "model_name": "ProgressStyleModel",
     "state": {
      "_model_module": "@jupyter-widgets/controls",
      "_model_module_version": "1.5.0",
      "_model_name": "ProgressStyleModel",
      "_view_count": null,
      "_view_module": "@jupyter-widgets/base",
      "_view_module_version": "1.2.0",
      "_view_name": "StyleView",
      "bar_color": null,
      "description_width": ""
     }
    },
    "aff97d4354e1466894b4caec6603f339": {
     "model_module": "@jupyter-widgets/controls",
     "model_module_version": "1.5.0",
     "model_name": "ProgressStyleModel",
     "state": {
      "_model_module": "@jupyter-widgets/controls",
      "_model_module_version": "1.5.0",
      "_model_name": "ProgressStyleModel",
      "_view_count": null,
      "_view_module": "@jupyter-widgets/base",
      "_view_module_version": "1.2.0",
      "_view_name": "StyleView",
      "bar_color": null,
      "description_width": ""
     }
    },
    "b13d693affbb4f5cb8147e97f06d38eb": {
     "model_module": "@jupyter-widgets/base",
     "model_module_version": "1.2.0",
     "model_name": "LayoutModel",
     "state": {
      "_model_module": "@jupyter-widgets/base",
      "_model_module_version": "1.2.0",
      "_model_name": "LayoutModel",
      "_view_count": null,
      "_view_module": "@jupyter-widgets/base",
      "_view_module_version": "1.2.0",
      "_view_name": "LayoutView",
      "align_content": null,
      "align_items": null,
      "align_self": null,
      "border": null,
      "bottom": null,
      "display": null,
      "flex": null,
      "flex_flow": null,
      "grid_area": null,
      "grid_auto_columns": null,
      "grid_auto_flow": null,
      "grid_auto_rows": null,
      "grid_column": null,
      "grid_gap": null,
      "grid_row": null,
      "grid_template_areas": null,
      "grid_template_columns": null,
      "grid_template_rows": null,
      "height": null,
      "justify_content": null,
      "justify_items": null,
      "left": null,
      "margin": null,
      "max_height": null,
      "max_width": null,
      "min_height": null,
      "min_width": null,
      "object_fit": null,
      "object_position": null,
      "order": null,
      "overflow": null,
      "overflow_x": null,
      "overflow_y": null,
      "padding": null,
      "right": null,
      "top": null,
      "visibility": null,
      "width": null
     }
    },
    "b18624501c20402ca6c94017e4335613": {
     "model_module": "@jupyter-widgets/controls",
     "model_module_version": "1.5.0",
     "model_name": "HBoxModel",
     "state": {
      "_dom_classes": [],
      "_model_module": "@jupyter-widgets/controls",
      "_model_module_version": "1.5.0",
      "_model_name": "HBoxModel",
      "_view_count": null,
      "_view_module": "@jupyter-widgets/controls",
      "_view_module_version": "1.5.0",
      "_view_name": "HBoxView",
      "box_style": "",
      "children": [
       "IPY_MODEL_22288e3382984216bc3ec2f2b3ba33eb",
       "IPY_MODEL_2b3c4dba17c6498895b485fc3916668b",
       "IPY_MODEL_a508611a94214b2bbf29a7ae9d02516d"
      ],
      "layout": "IPY_MODEL_099912b1ae1040bf8b302e0c1363a01e"
     }
    },
    "c47d8befdb284e9595170591aae10f1b": {
     "model_module": "@jupyter-widgets/controls",
     "model_module_version": "1.5.0",
     "model_name": "DescriptionStyleModel",
     "state": {
      "_model_module": "@jupyter-widgets/controls",
      "_model_module_version": "1.5.0",
      "_model_name": "DescriptionStyleModel",
      "_view_count": null,
      "_view_module": "@jupyter-widgets/base",
      "_view_module_version": "1.2.0",
      "_view_name": "StyleView",
      "description_width": ""
     }
    },
    "d12dad2af5324dc8bdd1ad743885b225": {
     "model_module": "@jupyter-widgets/controls",
     "model_module_version": "1.5.0",
     "model_name": "ProgressStyleModel",
     "state": {
      "_model_module": "@jupyter-widgets/controls",
      "_model_module_version": "1.5.0",
      "_model_name": "ProgressStyleModel",
      "_view_count": null,
      "_view_module": "@jupyter-widgets/base",
      "_view_module_version": "1.2.0",
      "_view_name": "StyleView",
      "bar_color": null,
      "description_width": ""
     }
    },
    "d14429b610d04330b25d4cbd81182925": {
     "model_module": "@jupyter-widgets/base",
     "model_module_version": "1.2.0",
     "model_name": "LayoutModel",
     "state": {
      "_model_module": "@jupyter-widgets/base",
      "_model_module_version": "1.2.0",
      "_model_name": "LayoutModel",
      "_view_count": null,
      "_view_module": "@jupyter-widgets/base",
      "_view_module_version": "1.2.0",
      "_view_name": "LayoutView",
      "align_content": null,
      "align_items": null,
      "align_self": null,
      "border": null,
      "bottom": null,
      "display": null,
      "flex": null,
      "flex_flow": null,
      "grid_area": null,
      "grid_auto_columns": null,
      "grid_auto_flow": null,
      "grid_auto_rows": null,
      "grid_column": null,
      "grid_gap": null,
      "grid_row": null,
      "grid_template_areas": null,
      "grid_template_columns": null,
      "grid_template_rows": null,
      "height": null,
      "justify_content": null,
      "justify_items": null,
      "left": null,
      "margin": null,
      "max_height": null,
      "max_width": null,
      "min_height": null,
      "min_width": null,
      "object_fit": null,
      "object_position": null,
      "order": null,
      "overflow": null,
      "overflow_x": null,
      "overflow_y": null,
      "padding": null,
      "right": null,
      "top": null,
      "visibility": null,
      "width": null
     }
    },
    "dccb9011724c476184f34474c66f0cfb": {
     "model_module": "@jupyter-widgets/base",
     "model_module_version": "1.2.0",
     "model_name": "LayoutModel",
     "state": {
      "_model_module": "@jupyter-widgets/base",
      "_model_module_version": "1.2.0",
      "_model_name": "LayoutModel",
      "_view_count": null,
      "_view_module": "@jupyter-widgets/base",
      "_view_module_version": "1.2.0",
      "_view_name": "LayoutView",
      "align_content": null,
      "align_items": null,
      "align_self": null,
      "border": null,
      "bottom": null,
      "display": null,
      "flex": null,
      "flex_flow": null,
      "grid_area": null,
      "grid_auto_columns": null,
      "grid_auto_flow": null,
      "grid_auto_rows": null,
      "grid_column": null,
      "grid_gap": null,
      "grid_row": null,
      "grid_template_areas": null,
      "grid_template_columns": null,
      "grid_template_rows": null,
      "height": null,
      "justify_content": null,
      "justify_items": null,
      "left": null,
      "margin": null,
      "max_height": null,
      "max_width": null,
      "min_height": null,
      "min_width": null,
      "object_fit": null,
      "object_position": null,
      "order": null,
      "overflow": null,
      "overflow_x": null,
      "overflow_y": null,
      "padding": null,
      "right": null,
      "top": null,
      "visibility": null,
      "width": null
     }
    },
    "e654e559817f428193a79fe389d0559a": {
     "model_module": "@jupyter-widgets/controls",
     "model_module_version": "1.5.0",
     "model_name": "DescriptionStyleModel",
     "state": {
      "_model_module": "@jupyter-widgets/controls",
      "_model_module_version": "1.5.0",
      "_model_name": "DescriptionStyleModel",
      "_view_count": null,
      "_view_module": "@jupyter-widgets/base",
      "_view_module_version": "1.2.0",
      "_view_name": "StyleView",
      "description_width": ""
     }
    },
    "f085549a2039492f876f1d8b9ae4d71e": {
     "model_module": "@jupyter-widgets/controls",
     "model_module_version": "1.5.0",
     "model_name": "HTMLModel",
     "state": {
      "_dom_classes": [],
      "_model_module": "@jupyter-widgets/controls",
      "_model_module_version": "1.5.0",
      "_model_name": "HTMLModel",
      "_view_count": null,
      "_view_module": "@jupyter-widgets/controls",
      "_view_module_version": "1.5.0",
      "_view_name": "HTMLView",
      "description": "",
      "description_tooltip": null,
      "layout": "IPY_MODEL_a81db4ad09014669acf7ebd2cc0f051b",
      "placeholder": "​",
      "style": "IPY_MODEL_c47d8befdb284e9595170591aae10f1b",
      "value": " 1/1 [03:44&lt;00:00, 224.75s/it]"
     }
    },
    "f19a9476dcb941deab44df8730472ce5": {
     "model_module": "@jupyter-widgets/base",
     "model_module_version": "1.2.0",
     "model_name": "LayoutModel",
     "state": {
      "_model_module": "@jupyter-widgets/base",
      "_model_module_version": "1.2.0",
      "_model_name": "LayoutModel",
      "_view_count": null,
      "_view_module": "@jupyter-widgets/base",
      "_view_module_version": "1.2.0",
      "_view_name": "LayoutView",
      "align_content": null,
      "align_items": null,
      "align_self": null,
      "border": null,
      "bottom": null,
      "display": null,
      "flex": null,
      "flex_flow": null,
      "grid_area": null,
      "grid_auto_columns": null,
      "grid_auto_flow": null,
      "grid_auto_rows": null,
      "grid_column": null,
      "grid_gap": null,
      "grid_row": null,
      "grid_template_areas": null,
      "grid_template_columns": null,
      "grid_template_rows": null,
      "height": null,
      "justify_content": null,
      "justify_items": null,
      "left": null,
      "margin": null,
      "max_height": null,
      "max_width": null,
      "min_height": null,
      "min_width": null,
      "object_fit": null,
      "object_position": null,
      "order": null,
      "overflow": null,
      "overflow_x": null,
      "overflow_y": null,
      "padding": null,
      "right": null,
      "top": null,
      "visibility": null,
      "width": null
     }
    },
    "f3abf9ab522c4a51a6a94d8f785d684c": {
     "model_module": "@jupyter-widgets/controls",
     "model_module_version": "1.5.0",
     "model_name": "HBoxModel",
     "state": {
      "_dom_classes": [],
      "_model_module": "@jupyter-widgets/controls",
      "_model_module_version": "1.5.0",
      "_model_name": "HBoxModel",
      "_view_count": null,
      "_view_module": "@jupyter-widgets/controls",
      "_view_module_version": "1.5.0",
      "_view_name": "HBoxView",
      "box_style": "",
      "children": [
       "IPY_MODEL_98022529314f45d7a94c3a746167b56f",
       "IPY_MODEL_216257be653c4af7a3f06053e9868df0",
       "IPY_MODEL_4fa7b9598fcf4876b515d05ca4dd86a8"
      ],
      "layout": "IPY_MODEL_f19a9476dcb941deab44df8730472ce5"
     }
    },
    "fc23d1106b214f89935df2b6180b0d75": {
     "model_module": "@jupyter-widgets/controls",
     "model_module_version": "1.5.0",
     "model_name": "FloatProgressModel",
     "state": {
      "_dom_classes": [],
      "_model_module": "@jupyter-widgets/controls",
      "_model_module_version": "1.5.0",
      "_model_name": "FloatProgressModel",
      "_view_count": null,
      "_view_module": "@jupyter-widgets/controls",
      "_view_module_version": "1.5.0",
      "_view_name": "ProgressView",
      "bar_style": "success",
      "description": "",
      "description_tooltip": null,
      "layout": "IPY_MODEL_a311243ff7b24876bfec64a5efa967ee",
      "max": 17,
      "min": 0,
      "orientation": "horizontal",
      "style": "IPY_MODEL_765eff055e274f70a765d3a05f774cb2",
      "value": 17
     }
    },
    "ff9a8b42bfac44cf8e096867dec1c069": {
     "model_module": "@jupyter-widgets/base",
     "model_module_version": "1.2.0",
     "model_name": "LayoutModel",
     "state": {
      "_model_module": "@jupyter-widgets/base",
      "_model_module_version": "1.2.0",
      "_model_name": "LayoutModel",
      "_view_count": null,
      "_view_module": "@jupyter-widgets/base",
      "_view_module_version": "1.2.0",
      "_view_name": "LayoutView",
      "align_content": null,
      "align_items": null,
      "align_self": null,
      "border": null,
      "bottom": null,
      "display": null,
      "flex": null,
      "flex_flow": null,
      "grid_area": null,
      "grid_auto_columns": null,
      "grid_auto_flow": null,
      "grid_auto_rows": null,
      "grid_column": null,
      "grid_gap": null,
      "grid_row": null,
      "grid_template_areas": null,
      "grid_template_columns": null,
      "grid_template_rows": null,
      "height": null,
      "justify_content": null,
      "justify_items": null,
      "left": null,
      "margin": null,
      "max_height": null,
      "max_width": null,
      "min_height": null,
      "min_width": null,
      "object_fit": null,
      "object_position": null,
      "order": null,
      "overflow": null,
      "overflow_x": null,
      "overflow_y": null,
      "padding": null,
      "right": null,
      "top": null,
      "visibility": null,
      "width": null
     }
    }
   }
  }
 },
 "nbformat": 4,
 "nbformat_minor": 1
}
