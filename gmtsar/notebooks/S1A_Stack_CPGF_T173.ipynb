{
 "cells": [
  {
   "cell_type": "markdown",
   "metadata": {
    "id": "V3U9b62jWLzh"
   },
   "source": [
    "$\\Large\\color{blue}{\\text{PyGMTSAR Small Baseline Subset (SBAS) Interferometric InSAR}}$\n",
    "\n",
    "$\\Large\\color{blue}{\\text{On GMTSAR dataset S1A_Stack_CPGF_T173}}$\n",
    "\n",
    "$\\large\\color{blue}{\\text{Ehnanced SBAS processing excludes atmosperic noise and validates results}}$\n",
    "\n",
    "### See and more PyGMTSAR notebooks on GitHub: [PyGMTSAR](https://github.com/mobigroup/gmtsar)\n",
    "\n",
    "It works on\n",
    "\n",
    "* MacOS Monterey (Apple Silicon) and BigSur (Intel) (Python 3.9) - please pre-install system dependencies (maybe using HomeBrew),\n",
    "\n",
    "* Google Cloud VM and Notebooks on Debian 10 (Python 3.7), use the [Google Cloud Debian 10 init script](https://github.com/mobigroup/gmtsar/blob/master/gmtsar/sh/GMTSAR.install.debian10.sh) and [Google Cloud Debian 10 VM creation script](https://github.com/mobigroup/gmtsar/blob/master/gmtsar/sh/GMTSAR.gcloud_create_debian10.sh)\n",
    "\n",
    "* $\\color{red}{\\text{Google Colab (Python 3.7) - you will be asked to re-run the notebook once due to \"system crash\" by desing}}$\n",
    "$\\color{red}{\\text{Note: to open all notebook cells select menu \"View\" -> \"Expand Sections\"}}$\n",
    "\n",
    "### PyGMTSAR is my free-time Open Source project.\n",
    "\n",
    "That's a bit curious how the project was started a year ago. I develop geophysical inversion methods and processing software for many years using my fundamental physics and mathematics background. Satellite interferometry is the key point to validate my inversion models and I found the same problem as you too that the existing interferometry packages usage is a pain. There is no interactive processing with multiprocessing and even a progressbar and ability to view and change every step code and validate the results. Also, many used algorithms are too outdated and produce terrible results like to tension surfaces in GMT which is used widely in GMTSAR (hmm, how about to control a smothness of derivative? Tension surfaces were invented when all the Earths computers where less powerfull than your smarthone today. If you are interested I shared the examples in GMTSAR bug tracker). Anyway, I found GMT mathematics is really crazy and the developers replace one incorrect algorithm by another and back often as we see in the codes and the changelog). That was enough reason to check all the used algorithms and replace these by modern and correct ones. By this way, I use only GMTSAR C codes with my patches to fix some errors and allow interoperability with Python wrappers plus my own codes around them. GMTSAR codes are fine and without crazy GMT codes work better and the processing is much faster. Alright, I spent one month to make the initial PyGMTSAR realization and it works. Recently, I returned to the project to add some more sophisticated features like to scenes and subswathes stitching. I'm going to share some of my geological exprorations and seismic models as live examples on Google Colab as soon as it will be possible to do. How lineaments and ore zones are related to interferograms? How gas and oil deposits are related to surface movements on interferometry displacement maps? I have the answer and I work on the tools to model and visualize them.\n",
    "\n",
    "You'd find my theoretical models and processing codes foir geophisical inversions in Github repository https://github.com/mobigroup/gis-snippets and tools for the 4D results vizualization in https://github.com/mobigroup/ParaView-plugins\n",
    "\n",
    "Ah yes, a little bit about me. I have STEM master's degree in radio physics and in 2004 I was awarded first prize of the All-Russian Physics competition for significant results in Inverse modeling for non-linear optics and holography, also applicable for Inverse Modeling of Gravity, Magnetic, and Thermal fields. In addition to my fundamental science knowledge, I’m world class data scientist and software developer with 20 years experience in science and industrial development. I have worked on government contracts and universities projects and on projects for LG Corp, Google Inc, etc. You are able to find some of my software and results on LinkedIn and GitHub and Upwork. By the way, I left Russia many years ago and I work remotely for about 20 years.\n",
    "\n",
    "### To order some research, development and support see my profile on freelance platform [Upwork](https://www.upwork.com/freelancers/~01e65e8e7221758623)\n",
    "\n",
    "### @ Alexey Pechnikov, August, 2022\n",
    "\n",
    "[Geological models on YouTube channel](https://www.youtube.com/channel/UCSEeXKAn9f_bDiTjT6l87Lg)\n",
    "\n",
    "[Augmented Reality (AR) Geological Models](https://mobigroup.github.io/ParaView-Blender-AR/)\n",
    "\n",
    "[GitHub repositories](https://github.com/mobigroup)\n",
    "\n",
    "[English posts and articles on LinkedIn](https://www.linkedin.com/in/alexey-pechnikov/)\n",
    "\n",
    "[Russian articles on Habr](https://habr.com/ru/users/N-Cube/posts/)"
   ]
  },
  {
   "cell_type": "markdown",
   "metadata": {
    "id": "1Wikey5Lqm-n"
   },
   "source": [
    "$\\large\\color{blue}{\\text{Hint: Use menu Cell} \\to \\text{Run All or Runtime} \\to \\text{Complete All or Runtime} \\to \\text{Run All}}$\n",
    "$\\large\\color{blue}{\\text{(depending of your localization settings) to execute the entire notebook}}$"
   ]
  },
  {
   "cell_type": "markdown",
   "metadata": {
    "id": "3ja1oNR7WLzm"
   },
   "source": [
    "## Load Modules to Check Environment"
   ]
  },
  {
   "cell_type": "code",
   "execution_count": null,
   "metadata": {
    "id": "PLye5HbbWLzm"
   },
   "outputs": [],
   "source": [
    "import platform, sys, os"
   ]
  },
  {
   "cell_type": "markdown",
   "metadata": {
    "id": "eqbgyElaqm-n"
   },
   "source": [
    "## Debian 10 and Google Colab GMTSAR Installation"
   ]
  },
  {
   "cell_type": "markdown",
   "metadata": {
    "id": "E3Euc_9Xqm-o"
   },
   "source": [
    "### On Google Cloud AI Notebooks: check root access\n",
    "\n",
    "On Google Cloud AI Notebooks sometimes we have an issue when \"sudo\" requires a password. In this case drop the instance and create a new one and - that's important - wait 5-10 minutes before connect to it using link \"OPEN JUPYTERLAB\""
   ]
  },
  {
   "cell_type": "code",
   "execution_count": null,
   "metadata": {
    "colab": {
     "base_uri": "https://localhost:8080/"
    },
    "id": "5qEL9aKiqm-p",
    "outputId": "0c86c42b-1d2c-4ab2-8863-4920773a11b7"
   },
   "outputs": [],
   "source": [
    "if platform.system() == 'Linux':\n",
    "    !sudo date"
   ]
  },
  {
   "cell_type": "markdown",
   "metadata": {
    "id": "wQBVFYMgqm-r"
   },
   "source": [
    "### Install https://github.com/mobigroup/gmtsar\n",
    "\n",
    "I make lots of changes on GMTSAR C-coded tools and some of them are not merged to the upstream GMTSAR yet because all the patches need to be validated and discussed before. Also, my Python extensions are provided in my GMTSAR fork only. I hope in the future to provide a standalone python packager as wrapper around upstream GMTSAR but there is a long way to it."
   ]
  },
  {
   "cell_type": "code",
   "execution_count": null,
   "metadata": {
    "id": "IxeyJ1Ulqm-s"
   },
   "outputs": [],
   "source": [
    "if platform.system() == 'Linux':\n",
    "    count = !ls /usr/local | grep GMTSAR | wc -l\n",
    "    if count == ['0']:\n",
    "        !apt install -y csh autoconf gfortran \\\n",
    "            libtiff5-dev libhdf5-dev liblapack-dev libgmt-dev gmt-dcw gmt-gshhg gmt > /dev/null\n",
    "        !cd /usr/local && git clone --branch master https://github.com/mobigroup/gmtsar GMTSAR > /dev/null\n",
    "        !cd /usr/local/GMTSAR && autoconf > /dev/null\n",
    "        !cd /usr/local/GMTSAR && ./configure --with-orbits-dir=/tmp > /dev/null\n",
    "        !cd /usr/local/GMTSAR && make 1>/dev/null 2>/dev/null\n",
    "        !cd /usr/local/GMTSAR && make install >/dev/null"
   ]
  },
  {
   "cell_type": "markdown",
   "metadata": {
    "id": "hVOT2Neeqm-u"
   },
   "source": [
    "## Define ENV Variables for Jupyter Instance"
   ]
  },
  {
   "cell_type": "code",
   "execution_count": null,
   "metadata": {
    "colab": {
     "base_uri": "https://localhost:8080/"
    },
    "id": "IYSwIcWSqm-u",
    "outputId": "f20636b2-aaac-4ba2-917a-2971d43aca01"
   },
   "outputs": [],
   "source": [
    "# use default GMTSAR installation path\n",
    "GMTSAR = '/usr/local/GMTSAR'\n",
    "PATH = os.environ['PATH']\n",
    "\n",
    "if PATH.find('GMTSAR') == -1:\n",
    "    PATH = os.environ['PATH'] + f':{GMTSAR}/bin/'\n",
    "    %env PATH {PATH}\n",
    "    %env GMTSAR {GMTSAR}"
   ]
  },
  {
   "cell_type": "markdown",
   "metadata": {
    "id": "MqHBIuIIqm-v"
   },
   "source": [
    "## Install Python Modules\n",
    "\n",
    "Maybe you need to restart your notebook, follow the instructions printing below.\n",
    "\n",
    "The installation takes a long time on fresh Debian 10 and a short time on Google Colab"
   ]
  },
  {
   "cell_type": "code",
   "execution_count": null,
   "metadata": {
    "colab": {
     "base_uri": "https://localhost:8080/"
    },
    "id": "0TRsQst5qm-v",
    "outputId": "24125000-7107-46c3-85d0-189ffd15a4cb"
   },
   "outputs": [],
   "source": [
    "!{sys.executable} --version"
   ]
  },
  {
   "cell_type": "code",
   "execution_count": null,
   "metadata": {
    "id": "6v2UZsHiqm-w"
   },
   "outputs": [],
   "source": [
    "if platform.system() == 'Linux':\n",
    "    !{sys.executable} -m pip install cartopy==0.19.0.post1 1>/dev/null 2>/dev/null\n",
    "    !{sys.executable} -m pip install xarray==0.19.0        1>/dev/null 2>/dev/null\n",
    "    !{sys.executable} -m pip install scipy==1.7.1          1>/dev/null 2>/dev/null"
   ]
  },
  {
   "cell_type": "code",
   "execution_count": null,
   "metadata": {
    "id": "Hm4-fB3Cqm-w"
   },
   "outputs": [],
   "source": [
    "if platform.system() == 'Linux':\n",
    "    !{sys.executable} -m pip install \\\n",
    "        h5py netcdf4 h5netcdf \\\n",
    "        rasterio rioxarray numpy \\\n",
    "        scikit-image scipy sklearn \\\n",
    "        xarray dask distributed zarr nc-time-axis \\\n",
    "        pandas geopandas \\\n",
    "        sentineleof elevation \\\n",
    "        matplotlib seaborn geoviews hvplot datashader bokeh \\\n",
    "        xmltodict joblib tqdm 1>/dev/null 2>/dev/null"
   ]
  },
  {
   "cell_type": "markdown",
   "metadata": {
    "id": "QYKA_Hieqm-x"
   },
   "source": [
    "$\\large\\color{red}{\\text{Attention: On Google Colab we need to restart kernel once when modules installed}}$"
   ]
  },
  {
   "cell_type": "markdown",
   "metadata": {
    "id": "7XBXs2qSqm-x"
   },
   "source": [
    "$\\large\\color{blue}{\\text{Hint: Use menu Cell} \\to \\text{Run All or Runtime} \\to \\text{Complete All or Runtime} \\to \\text{Run All}}$\n",
    "$\\large\\color{blue}{\\text{(depending of your localization settings) to execute the entire notebook}}$"
   ]
  },
  {
   "cell_type": "code",
   "execution_count": null,
   "metadata": {
    "colab": {
     "base_uri": "https://localhost:8080/"
    },
    "id": "7iSgCSYpqm-y",
    "outputId": "e5f03d80-2e75-4336-db40-0036e85a0be7"
   },
   "outputs": [],
   "source": [
    "if platform.system() == 'Linux':\n",
    "    import xarray\n",
    "    import time\n",
    "    print (xarray.__version__)\n",
    "    if xarray.__version__ != '0.19.0':\n",
    "        print (\"\"\"\n",
    "    ***********************************************************************************\n",
    "    *\n",
    "    Do not worry, runtime is stopped by design. Please run the notebook again.\n",
    "    *\n",
    "    ***********************************************************************************\n",
    "    \"\"\")\n",
    "        time.sleep(1)\n",
    "        os.kill(os.getpid(), 9)"
   ]
  },
  {
   "cell_type": "markdown",
   "metadata": {
    "id": "WmXht90lqm-z"
   },
   "source": [
    "## Load and Setup Python Modules"
   ]
  },
  {
   "cell_type": "code",
   "execution_count": null,
   "metadata": {
    "id": "djsDvvnwqm-0"
   },
   "outputs": [],
   "source": [
    "import xarray as xr\n",
    "import numpy as np\n",
    "import pandas as pd\n",
    "# supress numpy warnings\n",
    "import warnings\n",
    "warnings.filterwarnings('ignore')"
   ]
  },
  {
   "cell_type": "code",
   "execution_count": null,
   "metadata": {
    "colab": {
     "base_uri": "https://localhost:8080/",
     "height": 17
    },
    "id": "mcnzhIsFqm-0",
    "outputId": "c4736091-18b0-4e99-86cd-44a828195620"
   },
   "outputs": [],
   "source": [
    "# plotting modules\n",
    "import hvplot.pandas  # noqa\n",
    "import hvplot.xarray  # noqa\n",
    "import holoviews as hv\n",
    "pd.options.plotting.backend = 'hvplot'\n",
    "from IPython.display import Image\n",
    "import matplotlib.pyplot as plt\n",
    "import matplotlib\n",
    "%matplotlib inline"
   ]
  },
  {
   "cell_type": "code",
   "execution_count": null,
   "metadata": {
    "id": "FyRcjVjoqm-1"
   },
   "outputs": [],
   "source": [
    "# define Pandas display settings\n",
    "pd.set_option('display.max_rows', None)\n",
    "pd.set_option('display.max_columns', None)\n",
    "pd.set_option('display.width', None)\n",
    "pd.set_option('display.max_colwidth', None)\n",
    "\n",
    "gstiles = hv.Tiles('https://mt1.google.com/vt/lyrs=s&x={X}&y={Y}&z={Z}', name='Google Satellite')\n",
    "ottiles = hv.Tiles('https://tile.opentopomap.org/{Z}/{X}/{Y}.png', name='Open Topo')"
   ]
  },
  {
   "cell_type": "markdown",
   "metadata": {
    "id": "SMnTTgwKqm-2"
   },
   "source": [
    "## Load Custom Python Modules"
   ]
  },
  {
   "cell_type": "code",
   "execution_count": null,
   "metadata": {
    "id": "5s4vUfbrqm-2"
   },
   "outputs": [],
   "source": [
    "sys.path.append(os.path.join(os.environ['GMTSAR'],'gmtsar', 'py'))\n",
    "\n",
    "from PRM import PRM\n",
    "from SBAS import SBAS"
   ]
  },
  {
   "cell_type": "markdown",
   "metadata": {
    "id": "joEpGj96KYtC"
   },
   "source": [
    "## Download and unpack example dataset"
   ]
  },
  {
   "cell_type": "code",
   "execution_count": null,
   "metadata": {
    "colab": {
     "base_uri": "https://localhost:8080/"
    },
    "id": "xFqW-no-KZs9",
    "outputId": "1fe9421a-6010-471a-ba0e-a94f53f34dd8"
   },
   "outputs": [],
   "source": [
    "count = !ls | grep S1A_Stack_CPGF_T173.tar.gz | wc -l | tr -d ' '\n",
    "if count == ['0']:\n",
    "    print ('Downloading the example...')\n",
    "    !wget -c http://topex.ucsd.edu/gmtsar/tar/S1A_Stack_CPGF_T173.tar.gz\n",
    "    !tar xvzf S1A_Stack_CPGF_T173.tar.gz -C ."
   ]
  },
  {
   "cell_type": "markdown",
   "metadata": {
    "id": "Lpe4Oceoqm-2"
   },
   "source": [
    "## Define Parameters"
   ]
  },
  {
   "cell_type": "code",
   "execution_count": null,
   "metadata": {
    "id": "kc68VBz1qm-3"
   },
   "outputs": [],
   "source": [
    "MASTER       = '2015-04-03'\n",
    "WORKDIR      = 'raw'\n",
    "DATADIR      = 'raw_orig'\n",
    "DEMFILE      = 'topo/dem.grd'\n",
    "BASEDAYS     = 100\n",
    "BASEMETERS   = 150\n",
    "CORRLIMIT    = 0.10\n",
    "DEFOMAX      = 0"
   ]
  },
  {
   "cell_type": "markdown",
   "metadata": {
    "id": "4aEPNG3dqm-3"
   },
   "source": [
    "## Init SBAS\n",
    "\n",
    "Search recursively for measurement (.tiff) and annotation (.xml) and orbit (.EOF) files in the DATA directory. It can be directory with full unzipped scenes (.SAFE) subdirectories or just a directory with the list of pairs of required .tiff and .xml files (maybe pre-filtered for orbit, polarization and subswath to save disk space). If orbit files and DEM are missed these will be downloaded automatically below."
   ]
  },
  {
   "cell_type": "code",
   "execution_count": null,
   "metadata": {
    "colab": {
     "base_uri": "https://localhost:8080/",
     "height": 1000
    },
    "id": "NU1HVoGyqm-3",
    "outputId": "7318cb3e-b764-4be5-f3ae-be3904b3210b"
   },
   "outputs": [],
   "source": [
    "# use DEM from the example\n",
    "sbas = SBAS(DATADIR, DEMFILE, WORKDIR).set_master(MASTER)\n",
    "sbas.to_dataframe()"
   ]
  },
  {
   "cell_type": "markdown",
   "metadata": {
    "id": "5xeustvoWLzu"
   },
   "source": [
    "### Interactive Plot\n",
    "\n",
    "Be careful because interactive plots require more RAM to be visualized\n",
    "\n",
    "The plots below do not work on Debian 10 and Python 3.7"
   ]
  },
  {
   "cell_type": "code",
   "execution_count": null,
   "metadata": {
    "id": "fITShF6YWLzu"
   },
   "outputs": [],
   "source": [
    "plots = None\n",
    "if platform.system() == 'Darwin':\n",
    "    opts_common = {'x':'lon', 'y':'lat', 'geo':True, 'width':800, 'height':400}\n",
    "    opts1 = {'tiles':gstiles, 'alpha':0.2, 'title': 'Sentinel1 Scenes Approximate Location'}\n",
    "    plots = sbas.to_dataframe().reset_index().hvplot(color='date', **{**opts_common, **opts1})\n",
    "plots"
   ]
  },
  {
   "cell_type": "markdown",
   "metadata": {
    "id": "Qr_tWqHbqm-4"
   },
   "source": [
    "### Download SRTM DEM\n",
    "\n",
    "The function below downloads SRTM1 or SRTM3 DEM and converts heights to ellipsoidal model using EGM96 grid.\n",
    "Besides, for faster processing we can use pre-defined DEM file as explained above.\n",
    "\n",
    "SRTM1 product is 30m resolution DEM and SRTM3 is 90m. SRTM1 is much bigger (~10 times) and is usable for small areas. Mainly 90m SRTM3 is the right choice. Use parameter resolution_meters (60 meters by default) to interpolate the DEM to required resolution for the future processing and output.\n",
    "\n",
    "The DEM grid is NetCDF file."
   ]
  },
  {
   "cell_type": "raw",
   "metadata": {
    "id": "PRxqH9rSqm-4"
   },
   "source": [
    "sbas.download_dem(product='SRTM3', resolution_meters=120)"
   ]
  },
  {
   "cell_type": "markdown",
   "metadata": {
    "id": "6CBMHF0sqm-5"
   },
   "source": [
    "### Static Plots"
   ]
  },
  {
   "cell_type": "code",
   "execution_count": null,
   "metadata": {
    "colab": {
     "base_uri": "https://localhost:8080/",
     "height": 604
    },
    "id": "77M6U8I-qm-5",
    "outputId": "38b0efe8-1ccf-48bf-9ff8-e707c9e88fee"
   },
   "outputs": [],
   "source": [
    "plt.figure(figsize=(12,4), dpi=150)\n",
    "dem = sbas.get_dem()[::4,::4]\n",
    "dem.plot.imshow(cmap='gray', vmin=dem.min(), vmax=dem.max())\n",
    "sbas.to_dataframe().plot(color='orange', alpha=0.2, ax=plt.gca())\n",
    "plt.title('Sentinel1 Frame on DEM', fontsize=18)\n",
    "plt.show()"
   ]
  },
  {
   "cell_type": "markdown",
   "metadata": {
    "id": "Ssfl4MzIqm-6"
   },
   "source": [
    "### Interactive Plot\n",
    "\n",
    "Be careful because interactive plots require more RAM to be visualized\n",
    "\n",
    "The plots below do not work on Debian 10 and Python 3.7"
   ]
  },
  {
   "cell_type": "code",
   "execution_count": null,
   "metadata": {
    "id": "nOBNCwevWLzv"
   },
   "outputs": [],
   "source": [
    "plots = None\n",
    "if platform.system() == 'Darwin':\n",
    "    title = 'Subswath Topo'\n",
    "    opts_common = {'x':'lon', 'y':'lat', 'geo':True, 'width':800, 'height':400}\n",
    "    plots = sbas.get_dem()[::4,::4].hvplot(cmap='gray', alpha=1, title=title, **opts_common) \\\n",
    "        * sbas.to_dataframe().reset_index().hvplot(color='date', alpha=0.2, **opts_common)\n",
    "plots"
   ]
  },
  {
   "cell_type": "markdown",
   "metadata": {
    "id": "Wd3vZtFCqm-8"
   },
   "source": [
    "## Align a Stack of Images"
   ]
  },
  {
   "cell_type": "code",
   "execution_count": null,
   "metadata": {
    "colab": {
     "base_uri": "https://localhost:8080/",
     "height": 81,
     "referenced_widgets": [
      "f7320718c95b446dbef4a495d2ebadc8",
      "402d1d4ed2e04c189e0d710e92e91a95",
      "4c955a3466f946cc87c2d0f3a83ed384",
      "7070b1eb6d2d442384c452c527d6fdde",
      "131ac2c23f064438b6c58a08ee6bb60e",
      "e43f387d1bf44b72b00e743397e19f23",
      "a32cd7e493ff42bb9a3ce241ccfcc778",
      "43571edb77fb43ac88a9fd56b0b97c1e",
      "d0ba9d3f82f940a69b34fd9c77a2b446",
      "968915709c5748ec8414c8d8700a67f2",
      "31e4234c91e2403dbeb57d2e90e6c7b5",
      "3ff5c5eefb704f629ac81efb484159f1",
      "b5ebad29d54d427a865966e41bddd8a2",
      "ef0e89422fab402689fb8b7c92b3080d",
      "7c84a26f08984bdb99968ca0722c9c0d",
      "3a4a90807ae44a3daef8a577e6edd3c2",
      "cec58a8e72a343fda437b7ca93f80ffa",
      "73f064be99954e4da3dc05763623ce66",
      "afea40085779485c84f2edf56c03defd",
      "b708f079c0ce4281834a22fb1e324a89",
      "c28298a4bdf842b0a2b3e3eb0fd0ecca",
      "76bc1c4b962042318d1bc8fc43ad4001"
     ]
    },
    "id": "J7hu_zB2qm-9",
    "outputId": "120ee63a-e350-43a7-d299-5fd12297d3f6"
   },
   "outputs": [],
   "source": [
    "sbas.stack_parallel()"
   ]
  },
  {
   "cell_type": "markdown",
   "metadata": {
    "id": "7_uLoZo-qm-9"
   },
   "source": [
    "## SBAS Baseline"
   ]
  },
  {
   "cell_type": "code",
   "execution_count": null,
   "metadata": {
    "colab": {
     "base_uri": "https://localhost:8080/",
     "height": 328
    },
    "id": "HCUL5sCOqm--",
    "outputId": "1a6bc938-bbc3-4c8a-9b93-676cf6cd9b8f"
   },
   "outputs": [],
   "source": [
    "baseline_pairs = sbas.baseline_pairs(days=BASEDAYS, meters=BASEMETERS)\n",
    "baseline_pairs"
   ]
  },
  {
   "cell_type": "markdown",
   "metadata": {
    "id": "aY5Bkkwhqm--"
   },
   "source": [
    "### Static Plot"
   ]
  },
  {
   "cell_type": "code",
   "execution_count": null,
   "metadata": {
    "colab": {
     "base_uri": "https://localhost:8080/",
     "height": 486
    },
    "id": "YIzBR5Kzqm--",
    "outputId": "161f1ae9-df5f-4976-d549-2e81bbf2eef6"
   },
   "outputs": [],
   "source": [
    "plt.figure(figsize=(12,4), dpi=300)\n",
    "ax = plt.gca()\n",
    "\n",
    "lines = [[(row.ref_timeline,row.ref_baseline),(row.rep_timeline,row.rep_baseline)]\n",
    "         for row in baseline_pairs.itertuples()]\n",
    "lc = matplotlib.collections.LineCollection(lines, colors='#30a2da', linewidths=0.5)\n",
    "ax.add_collection(lc)\n",
    "ax.autoscale()\n",
    "ax.margins(0.5)\n",
    "bs1 = baseline_pairs[['ref_timeline','ref_baseline','ref_date']].values\n",
    "bs2 = baseline_pairs[['rep_timeline','rep_baseline','rep_date']].values\n",
    "df = pd.DataFrame(np.concatenate([bs1, bs2]), columns=['timeline','baseline','date']).drop_duplicates()\n",
    "plt.scatter(x=df.timeline, y=df.baseline)\n",
    "for x,y,label in df.values:\n",
    "    plt.annotate(label, (x,y), textcoords=\"offset points\", xytext=(35,3), ha='center',\n",
    "                 c='red' if label == MASTER else 'black')\n",
    "ax.set_xlabel('Timeline', fontsize=16)\n",
    "ax.set_ylabel('Perpendicular Baseline, [m]', fontsize=16)\n",
    "ax.set_title('SBAS Baseline', fontsize=18)\n",
    "plt.show()"
   ]
  },
  {
   "cell_type": "markdown",
   "metadata": {
    "id": "ELlUm2gYqm-_"
   },
   "source": [
    "## DEM in Radar Coordinates"
   ]
  },
  {
   "cell_type": "code",
   "execution_count": null,
   "metadata": {
    "colab": {
     "base_uri": "https://localhost:8080/",
     "height": 49,
     "referenced_widgets": [
      "6b48a14678b94b7e997d1f240e4b9008",
      "ebd6300dfeec459b80ae13475ed1d4aa",
      "94281b2c731a4854872d75a6056dbc24",
      "0ec84d1f11fb4cae97777b407b9cec8f",
      "88ae18282f414b90a9e1b37867e5e6b3",
      "e5a99daed9cc4323bebab9d15c2e10e0",
      "9e5d8029d3ee4ab4844bc1796fa8b99f",
      "4313493f722342378abaa3087fd93729",
      "e1637e135dc74befb0ec3b02932ea5f6",
      "d800146d2a2c4436b2d4ba2a6d97e62b",
      "fa9ad651a33142af9d9598472d68c2e4"
     ]
    },
    "id": "2oLRAcmXqm-_",
    "outputId": "67c40610-8c8f-47b3-995b-3deab5bf39fe"
   },
   "outputs": [],
   "source": [
    "sbas.topo_ra_parallel()"
   ]
  },
  {
   "cell_type": "markdown",
   "metadata": {
    "id": "OsJgYeuzqm-_"
   },
   "source": [
    "### Load Grids\n",
    "\n",
    "The grids are NetCDF files processing as xarray DataArrays."
   ]
  },
  {
   "cell_type": "code",
   "execution_count": null,
   "metadata": {
    "id": "lgHdx6Ufqm-_"
   },
   "outputs": [],
   "source": [
    "topo_ra = sbas.open_grid('topo_ra')"
   ]
  },
  {
   "cell_type": "markdown",
   "metadata": {
    "id": "5Z6H88cTqm_A"
   },
   "source": [
    "### Static Plot"
   ]
  },
  {
   "cell_type": "code",
   "execution_count": null,
   "metadata": {
    "colab": {
     "base_uri": "https://localhost:8080/",
     "height": 515
    },
    "id": "76f9T1vpqm_A",
    "outputId": "b2de3d73-5063-41c1-c13b-db79342a0680"
   },
   "outputs": [],
   "source": [
    "plt.figure(figsize=(12,4), dpi=300)\n",
    "topo = topo_ra[::4,::4]\n",
    "topo.plot.imshow(cmap='gray', vmin=topo.min(), vmax=topo.max())\n",
    "plt.xlabel('Range', fontsize=16)\n",
    "plt.ylabel('Azimuth', fontsize=16)\n",
    "plt.title('Topography in Radar Coordinates', fontsize=18)\n",
    "plt.show()"
   ]
  },
  {
   "cell_type": "markdown",
   "metadata": {
    "id": "y_aoxyc5qm_A"
   },
   "source": [
    "### Interactive Plot\n",
    "\n",
    "Be careful because interactive plots require more RAM to be visualized\n",
    "\n",
    "The plots below do not work on Debian 10 and Python 3.7"
   ]
  },
  {
   "cell_type": "code",
   "execution_count": null,
   "metadata": {
    "id": "4B7Amc3Rqm_B"
   },
   "outputs": [],
   "source": [
    "plots = None\n",
    "if platform.system() == 'Darwin':\n",
    "    plot_opts = {'rasterize': True, 'xlabel':'Range', 'ylabel':'Azimuth', 'width':500, 'height':400}\n",
    "    plots = topo_ra[::4,::4].hvplot(cmap='gray', title='Topography in Radar Coordinates', **plot_opts)\n",
    "plots"
   ]
  },
  {
   "cell_type": "markdown",
   "metadata": {
    "id": "o3-p274dqm_B"
   },
   "source": [
    "## Interferograms\n",
    "\n",
    "Define a single interferogram or a SBAS series. Make direct and reverse interferograms (from past to future or from future to past).\n",
    "\n",
    "Decimation is useful to save disk space. Geocoding results are always produced on the provided DEM grid so the output grid and resolution are the same to the DEM. By this way, ascending and descending orbit results are always defined on the same grid by design. The internal processing cells is about 15 x 15 meters size and for default output 60m resolution (like to GMTSAR and GAMMA software) decimation 4x4 is reasonable. For the default wavelength=200 for Gaussian filter 1/4 of wavelength is approximately equal to ~60 meters and better resolution is mostly useless (while it can be used for small objects detection). For wavelength=400 meters use 90m or 120m DEM resolution with decimation 6x6 or 8x8 and for wavelength=100 meters use decimation 2x2.\n",
    "\n",
    "The grids are NetCDF files processing as xarray DataArrays."
   ]
  },
  {
   "cell_type": "code",
   "execution_count": null,
   "metadata": {
    "colab": {
     "base_uri": "https://localhost:8080/",
     "height": 328
    },
    "id": "ZRk0eDihqm_C",
    "outputId": "643fa312-65c0-49df-ed2f-91f47430b4ec"
   },
   "outputs": [],
   "source": [
    "pairs = baseline_pairs[['ref_date', 'rep_date']]\n",
    "pairs"
   ]
  },
  {
   "cell_type": "code",
   "execution_count": null,
   "metadata": {
    "colab": {
     "base_uri": "https://localhost:8080/",
     "height": 49,
     "referenced_widgets": [
      "dd5437207fff471ebf12fc84c69c82ba",
      "6c9752eca1d14f1d980a6d798983e566",
      "04821a7406434d6694828baa9d6d18d6",
      "e212b1d6b0b44501b9d0b0dbaba159b9",
      "775e317ab17f4bfba2c585252bbfefba",
      "0a2efb02e05040459beeed88b6e4ea99",
      "734c560bfa6f4f8192f5644cae7c7c06",
      "6e37e5f680d04e809522946e92eee30a",
      "a89d29b7d42449c48c53e32988030d96",
      "70552f53ef02408f8157becac1e4cba8",
      "33d0a04c6a2c4c63bd97f86ab0a2938f"
     ]
    },
    "id": "cF2Xbp_sqm_C",
    "outputId": "5cd78c1b-3024-47b7-b4d3-635629614cb1"
   },
   "outputs": [],
   "source": [
    "# miss optional \"func\" argument when post-processing is not required\n",
    "# define a postprocessing function for decimation as func=decimator\n",
    "# for 30m DEM use decimation x=2, y=2 (is equal to GMTSAR rdec=8, adec=2) or 4x4 for 60m DEM\n",
    "decimator = lambda dataarray: dataarray.coarsen({'y': 8, 'x': 8}, boundary='trim').median()\n",
    "\n",
    "# default parameters: wavelength=200, psize=32, func=None (no postprocessing)\n",
    "sbas.intf_parallel(pairs, wavelength=400, func=decimator)"
   ]
  },
  {
   "cell_type": "markdown",
   "metadata": {
    "id": "IxTU1Lc0qm_D"
   },
   "source": [
    "### Load Grids\n",
    "\n",
    "The grids can be cropped automatically to drop empty areas around valid area (use crop_valid=True). On-the fly geocoding from radar to geographic coordinates is possible by geocode=True.\n",
    "\n",
    "The grids are NetCDF files in radar coordinates processing as xarray DataArrays."
   ]
  },
  {
   "cell_type": "code",
   "execution_count": null,
   "metadata": {
    "id": "Nu5uAWdDqm_E"
   },
   "outputs": [],
   "source": [
    "phasefilts = sbas.open_grids(pairs, 'phasefilt')"
   ]
  },
  {
   "cell_type": "markdown",
   "metadata": {
    "id": "a_0CE6Acqm_E"
   },
   "source": [
    "### Static Plots"
   ]
  },
  {
   "cell_type": "code",
   "execution_count": null,
   "metadata": {
    "colab": {
     "base_uri": "https://localhost:8080/",
     "height": 927
    },
    "id": "eG1cKW8Iqm_F",
    "outputId": "164153ac-b017-4602-f189-b8c640c7a5e2"
   },
   "outputs": [],
   "source": [
    "fg = phasefilts.plot.imshow(\n",
    "    col=\"pair\",\n",
    "    col_wrap=3, size=4, aspect=1.2,\n",
    "    vmin=-np.pi, vmax=np.pi, cmap='gist_rainbow_r'\n",
    ")\n",
    "fg.set_axis_labels(x_var='Range', y_var='Azimuth')\n",
    "fg.set_ticks(max_xticks=5, max_yticks=5, fontsize='medium')\n",
    "fg.fig.suptitle('Filtered Phase, [rad]', y=1.05, fontsize=24)\n",
    "plt.show()"
   ]
  },
  {
   "cell_type": "markdown",
   "metadata": {
    "id": "o6crGfCTqm_G"
   },
   "source": [
    "### Interactive Plot\n",
    "\n",
    "Be careful because interactive plots require more RAM to be visualized\n",
    "\n",
    "The plots below do not work on Debian 10 and Python 3.7"
   ]
  },
  {
   "cell_type": "code",
   "execution_count": null,
   "metadata": {
    "id": "bkGKUbvzqm_G"
   },
   "outputs": [],
   "source": [
    "plots = None\n",
    "if platform.system() == 'Darwin':\n",
    "    plots = phasefilts\\\n",
    "    .hvplot(by='pair', width=320, height=280, subplots=True,\n",
    "            xlabel='Range', ylabel='Azimuth',\n",
    "            clim=(-np.pi,np.pi), cmap='gist_rainbow_r')\\\n",
    "    .cols(3).opts(title='Filtered Phase, [rad]')\n",
    "plots"
   ]
  },
  {
   "cell_type": "markdown",
   "metadata": {
    "id": "h817VQYGqm_G"
   },
   "source": [
    "### Load Grids\n",
    "\n",
    "The grids can be cropped automatically to drop empty areas around valid area (use crop_valid=True). On-the fly geocoding from radar to geographic coordinates is possible by geocode=True.\n",
    "\n",
    "The grids are NetCDF files in radar coordinates processing as xarray DataArrays."
   ]
  },
  {
   "cell_type": "code",
   "execution_count": null,
   "metadata": {
    "id": "n1-bpq4eqm_G"
   },
   "outputs": [],
   "source": [
    "corrs = sbas.open_grids(pairs, 'corr')"
   ]
  },
  {
   "cell_type": "markdown",
   "metadata": {
    "id": "QmnQoOQLqm_H"
   },
   "source": [
    "### Static Plots"
   ]
  },
  {
   "cell_type": "code",
   "execution_count": null,
   "metadata": {
    "colab": {
     "base_uri": "https://localhost:8080/",
     "height": 927
    },
    "id": "YT5L_TQgqm_H",
    "outputId": "733b6646-57a2-4473-ade8-c772ad267663"
   },
   "outputs": [],
   "source": [
    "fg = corrs.plot.imshow(\n",
    "    col=\"pair\",\n",
    "    col_wrap=3, size=4, aspect=1.2,\n",
    "    clim=(0, 0.8), cmap='gray'\n",
    ")\n",
    "fg.set_axis_labels(x_var='Range', y_var='Azimuth')\n",
    "fg.set_ticks(max_xticks=5, max_yticks=5, fontsize='medium')\n",
    "fg.fig.suptitle('Correlation', y=1.05, fontsize=24)\n",
    "plt.show()"
   ]
  },
  {
   "cell_type": "markdown",
   "metadata": {
    "id": "QzkG0Y-yqm_H"
   },
   "source": [
    "### Interactive Plot\n",
    "\n",
    "Be careful because interactive plots require more RAM to be visualized\n",
    "\n",
    "The plots below do not work on Debian 10 and Python 3.7"
   ]
  },
  {
   "cell_type": "code",
   "execution_count": null,
   "metadata": {
    "id": "HMPDVeWeqm_I"
   },
   "outputs": [],
   "source": [
    "plots = None\n",
    "if platform.system() == 'Darwin':\n",
    "    plots = corrs\\\n",
    "    .hvplot(by='pair', width=320, height=280, subplots=True,\n",
    "            xlabel='Range', ylabel='Azimuth',\n",
    "            clim=(0, 0.8), cmap='gray')\\\n",
    "    .cols(3).opts(title='Correlation')\n",
    "plots"
   ]
  },
  {
   "cell_type": "markdown",
   "metadata": {
    "id": "PmxypCSPqm_I"
   },
   "source": [
    "## Unwrapping\n",
    "\n",
    "Unwrapping process requires a lot of RAM and that's really RAM consuming when a lot of parallel proccesses running togeter. To limit the parallel processing tasks apply argument \"n_jobs\". The default value n_jobs=-1 means all the processor cores van be used. Also, use interferogram decimation above to produce smaller interferograms. And in addition a custom SNAPHU configuration can reduce RAM usage as explained below.\n",
    "\n",
    "Attention: in case of crash on MacOS Apple Silicon run Jupyter as\n",
    "\n",
    "`OBJC_DISABLE_INITIALIZE_FORK_SAFETY=YES no_proxy='*' jupyter notebook`"
   ]
  },
  {
   "cell_type": "markdown",
   "metadata": {
    "id": "coY3gGVHWLzy"
   },
   "source": [
    "### Unwrapping Post-Processing\n",
    "\n",
    "Define post-processing function to exclude low-coherence areas and maybe fill them by nearest neighbour interpolation."
   ]
  },
  {
   "cell_type": "code",
   "execution_count": null,
   "metadata": {
    "id": "8dihBsVoWLzy"
   },
   "outputs": [],
   "source": [
    "# define a post-processing function to crop low-coherence areas\n",
    "cleaner = lambda corr, unwrap: xr.where(corr>=CORRLIMIT, unwrap, np.nan)\n",
    "\n",
    "# define a post-processing function to crop and interpolate low-coherence areas\n",
    "#cleaner = lambda corr, unwrap: sbas.nearest_grid(xr.where(corr>=CORRLIMIT, unwrap, np.nan))"
   ]
  },
  {
   "cell_type": "code",
   "execution_count": null,
   "metadata": {
    "colab": {
     "base_uri": "https://localhost:8080/",
     "height": 49,
     "referenced_widgets": [
      "55e410321b234bdfa2bb66ff979afb48",
      "32a39d7be2f040f1bf2829778e7c2b09",
      "2dbd0269a6c84533aa56c5f5e80699fe",
      "34120067f44e41fba995a14af531822d",
      "6ea34a82f9ab4daa9e8cdaf6769f0d3a",
      "2133c5a6d2b940e59bd1b6fca603e8d7",
      "74e5c69161ea40e28fb3e698cd5f91dd",
      "13b5d764d25545a79bc067409aa69f61",
      "8ead9898e9ec493f8a076fbc6333135d",
      "d9f36252748f49bb8f77b59cc1195be8",
      "65756a0aaf1d4adba29e34a9112ec45e"
     ]
    },
    "id": "el8tGQJrqm_J",
    "outputId": "cbd48b1f-61f2-48e7-b464-2e33565ecc22"
   },
   "outputs": [],
   "source": [
    "# default parameters: threshold=0.1, conf=None, func=None (no postprocessing required)\n",
    "sbas.unwrap_parallel(pairs, threshold=CORRLIMIT, func=cleaner)"
   ]
  },
  {
   "cell_type": "markdown",
   "metadata": {
    "id": "xol2hM0qqm_J"
   },
   "source": [
    "### Load Grid\n",
    "\n",
    "The grids can be cropped automatically to drop empty areas around valid area. Use `open_grids(..., crop_valid=True)` to enable the auto cropping feature. Argument geocode=True means on-the-fly geocoding from radar to geographic coordinates (all the grids saved on disk in radar coordinates plus geocoding matrices are generated for the fast geocoding)."
   ]
  },
  {
   "cell_type": "code",
   "execution_count": null,
   "metadata": {
    "id": "z5A3Ya8rqm_K"
   },
   "outputs": [],
   "source": [
    "unwraps = sbas.open_grids(pairs, 'unwrap')"
   ]
  },
  {
   "cell_type": "markdown",
   "metadata": {
    "id": "Qokjt2ddqm_K"
   },
   "source": [
    "### Static Plots"
   ]
  },
  {
   "cell_type": "code",
   "execution_count": null,
   "metadata": {
    "colab": {
     "base_uri": "https://localhost:8080/",
     "height": 927
    },
    "id": "kcfHx5_Iqm_L",
    "outputId": "65000cfd-1b41-49ec-ef4a-e4c0832bfec1"
   },
   "outputs": [],
   "source": [
    "zmin, zmax = np.nanquantile(unwraps, [0.01, 0.99])\n",
    "fg = unwraps.plot.imshow(\n",
    "    col=\"pair\",\n",
    "    col_wrap=3, size=4, aspect=1.2,\n",
    "    vmin=zmin, vmax=zmax, cmap='jet'\n",
    ")\n",
    "fg.set_axis_labels(x_var='Range', y_var='Azimuth')\n",
    "fg.set_ticks(max_xticks=5, max_yticks=5, fontsize='medium')\n",
    "fg.fig.suptitle('Unwrapped Phase, [rad]', y=1.05, fontsize=24)\n",
    "plt.show()"
   ]
  },
  {
   "cell_type": "markdown",
   "metadata": {
    "id": "SqO8oNZQqm_M"
   },
   "source": [
    "### Interactive Plot\n",
    "\n",
    "Be careful because interactive plots require more RAM to be visualized\n",
    "\n",
    "The plots below do not work on Debian 10 and Python 3.7"
   ]
  },
  {
   "cell_type": "code",
   "execution_count": null,
   "metadata": {
    "id": "TLzxeaxBqm_M"
   },
   "outputs": [],
   "source": [
    "plots = None\n",
    "if platform.system() == 'Darwin':\n",
    "    plots = unwraps\\\n",
    "    .hvplot(by='pair', width=320, height=280, subplots=True, cmap='turbo',\n",
    "            xlabel='Range', ylabel='Azimuth',\n",
    "            clim=tuple(np.nanquantile(unwraps, [0.01, 0.99])))\\\n",
    "    .cols(3).opts(title='Unwrapped Phase, [rad]')\n",
    "plots"
   ]
  },
  {
   "cell_type": "markdown",
   "metadata": {
    "id": "qdPdim9pqm_M"
   },
   "source": [
    "## LOS Displacement"
   ]
  },
  {
   "cell_type": "markdown",
   "metadata": {
    "id": "SNi5mWePqm_N"
   },
   "source": [
    "### Load and Calculate Grid\n",
    "\n",
    "The grids can be post-processed using user-defined function \"func\". SBAS function `los_displacement_mm()` converts unwrapped phase values to LOS displacement in millimeters."
   ]
  },
  {
   "cell_type": "code",
   "execution_count": null,
   "metadata": {
    "id": "NBriiXGNqm_N"
   },
   "outputs": [],
   "source": [
    "los_disp_mm = sbas.open_grids(pairs, 'unwrap', func=sbas.los_displacement_mm)"
   ]
  },
  {
   "cell_type": "markdown",
   "metadata": {
    "id": "dNNPGxscqm_N"
   },
   "source": [
    "### Static Plots"
   ]
  },
  {
   "cell_type": "code",
   "execution_count": null,
   "metadata": {
    "colab": {
     "base_uri": "https://localhost:8080/",
     "height": 927
    },
    "id": "jWOrupw0qm_N",
    "outputId": "a738d373-b013-4743-acb9-c70d73a1ee6f"
   },
   "outputs": [],
   "source": [
    "zmin, zmax = np.nanquantile(los_disp_mm, [0.01, 0.99])\n",
    "fg = los_disp_mm.plot.imshow(\n",
    "    col=\"pair\",\n",
    "    col_wrap=3, size=4, aspect=1.2,\n",
    "    vmin=zmin, vmax=zmax, cmap='jet'\n",
    ")\n",
    "fg.set_axis_labels(x_var='Range', y_var='Azimuth')\n",
    "fg.set_ticks(max_xticks=5, max_yticks=5, fontsize='medium')\n",
    "fg.fig.suptitle('LOS Displacement, [mm]', y=1.05, fontsize=24)\n",
    "plt.show()"
   ]
  },
  {
   "cell_type": "markdown",
   "metadata": {
    "id": "xc9QhEphqm_O"
   },
   "source": [
    "### Interactive Plot\n",
    "\n",
    "Be careful because interactive plots require more RAM to be visualized\n",
    "\n",
    "The plots below do not work on Debian 10 and Python 3.7"
   ]
  },
  {
   "cell_type": "code",
   "execution_count": null,
   "metadata": {
    "id": "ARAmc37Dqm_O"
   },
   "outputs": [],
   "source": [
    "plots = None\n",
    "if platform.system() == 'Darwin':\n",
    "    plots = los_disp_mm\\\n",
    "    .hvplot(by='pair', width=320, height=280, subplots=True, cmap='turbo',\n",
    "            xlabel='Range', ylabel='Azimuth',\n",
    "            clim=tuple(np.nanquantile(los_disp_mm, [0.01, 0.99])))\\\n",
    "    .cols(3).opts(title='LOS Displacement, [mm]')\n",
    "plots"
   ]
  },
  {
   "cell_type": "markdown",
   "metadata": {
    "id": "orujCbI5qm_O"
   },
   "source": [
    "### Geocoding\n",
    "\n",
    "PyGMTSAR provides a different approach to geocoding - it's a fast matrix operation on a radar-coordinates NetCDF grids stored on disk. By this way, geocoding is very easy and fast - just provide option geocode=True to open the grids."
   ]
  },
  {
   "cell_type": "code",
   "execution_count": null,
   "metadata": {
    "colab": {
     "base_uri": "https://localhost:8080/",
     "height": 49,
     "referenced_widgets": [
      "be19f0d81cc94702a686ed4e4a359e0f",
      "87d267018cb44c0892b2ddf1a04e3a9b",
      "28ec428bcbdc424590b809922bf5b230",
      "50eb4f26300b45c497721c1a6c4e7039",
      "12bb4be15b704f69a29d703fefabc4c4",
      "93d312d2be9040508de4b5e37844721b",
      "144cee5dfdf64af784b90cf42cacd96f",
      "e2903f2bdd93458084d6fd6eb28e78ad",
      "364aa3aa07264aa2afa2b6941a3d5742",
      "10c6f0cf23cf4812953441e5dd4fe111",
      "8097c16a5c0e456fba79aa304e3c2722"
     ]
    },
    "id": "8bSwM_gGqm_O",
    "outputId": "4484e8e7-500a-4285-a39e-1c64dee7969c"
   },
   "outputs": [],
   "source": [
    "los_disp_mm_ll = sbas.open_grids(pairs, 'unwrap', geocode=True, func=sbas.los_displacement_mm)"
   ]
  },
  {
   "cell_type": "markdown",
   "metadata": {
    "id": "fR_XbAmTqm_P"
   },
   "source": [
    "### Static Plots"
   ]
  },
  {
   "cell_type": "code",
   "execution_count": null,
   "metadata": {
    "colab": {
     "base_uri": "https://localhost:8080/",
     "height": 927
    },
    "id": "CrGJYc7nqm_P",
    "outputId": "431d154d-c7b0-48de-d4b2-011431f9a450"
   },
   "outputs": [],
   "source": [
    "zmin, zmax = np.nanquantile(los_disp_mm_ll, [0.01, 0.99])\n",
    "fg = los_disp_mm_ll.plot.imshow(\n",
    "    col=\"pair\",\n",
    "    col_wrap=3, size=4, aspect=1.2,\n",
    "    vmin=zmin, vmax=zmax, cmap='jet'\n",
    ")\n",
    "fg.set_ticks(max_xticks=5, max_yticks=5, fontsize='medium')\n",
    "fg.fig.suptitle('LOS Displacement in Geographic Coordinates, [mm]', y=1.05, fontsize=24)\n",
    "plt.show()"
   ]
  },
  {
   "cell_type": "markdown",
   "metadata": {
    "id": "GTXrwWYCqm_Q"
   },
   "source": [
    "## SBAS Displacement and Velocity"
   ]
  },
  {
   "cell_type": "code",
   "execution_count": null,
   "metadata": {
    "colab": {
     "base_uri": "https://localhost:8080/",
     "height": 328
    },
    "id": "IzMcX8gzWLz0",
    "outputId": "ca5e98a6-9ffb-48f4-ee5f-bc0fe6618e8a"
   },
   "outputs": [],
   "source": [
    "baseline_pairs"
   ]
  },
  {
   "cell_type": "code",
   "execution_count": null,
   "metadata": {
    "id": "ZmYt30iYqm_Q"
   },
   "outputs": [],
   "source": [
    "sbas.sbas(baseline_pairs, smooth=1)"
   ]
  },
  {
   "cell_type": "markdown",
   "metadata": {
    "id": "E0yVshepqm_Q"
   },
   "source": [
    "### Load Displacement Grids with Interpolation and Geocoding\n",
    "\n",
    "As geocoding the interpolation is too just a option to open the radar-coordinates NetCDF grids."
   ]
  },
  {
   "cell_type": "code",
   "execution_count": null,
   "metadata": {
    "colab": {
     "base_uri": "https://localhost:8080/",
     "height": 49,
     "referenced_widgets": [
      "a0257f2adcb047029b5e26d781caa456",
      "299ca1e6211947a39b48ffb91ecb1860",
      "8e13cc83c4604910956742b9a2e021d8",
      "c1ef44908da14e1b9d00815f1f7d1b3b",
      "300dfdf42cb2465c80d197a74ed6efe7",
      "551b50f3391c46b897792048e97ed705",
      "afac1dfe2bd54c63a512d9da9a9799a6",
      "1cc57b497ad34e82875bf607580f6a6d",
      "6fc26cd8b35d423f9855f86c7ea15ff6",
      "e768d69d79234040bd99baa41a139171",
      "9460b6b5e49647fe928ac98242c67180"
     ]
    },
    "id": "a3zDhHyRqm_R",
    "outputId": "072df7cb-c652-462f-9b31-fa4f07400e35"
   },
   "outputs": [],
   "source": [
    "disps = sbas.open_grids(sbas.df.index, 'disp', add_subswath=False)\n",
    "disps_ll = sbas.open_grids(sbas.df.index, 'disp', geocode=True,\n",
    "                           func=sbas.nearest_grid, mask=phasefilts.min('pair'), add_subswath=False)"
   ]
  },
  {
   "cell_type": "markdown",
   "metadata": {
    "id": "dy61dvCWqm_S"
   },
   "source": [
    "### Static Plots"
   ]
  },
  {
   "cell_type": "code",
   "execution_count": null,
   "metadata": {
    "colab": {
     "base_uri": "https://localhost:8080/",
     "height": 654
    },
    "id": "uZuMDhfZqm_S",
    "outputId": "b921f14a-c41a-46fd-8cd9-fcb427199120"
   },
   "outputs": [],
   "source": [
    "zmin, zmax = np.nanquantile(disps, [0.01, 0.99])\n",
    "fg = disps.plot.imshow(\n",
    "    col=\"date\",\n",
    "    col_wrap=3, size=4, aspect=1.2,\n",
    "    vmin=zmin, vmax=zmax, cmap='jet'\n",
    ")\n",
    "fg.set_axis_labels(x_var='Range', y_var='Azimuth')\n",
    "fg.set_ticks(max_xticks=5, max_yticks=5, fontsize='medium')\n",
    "fg.fig.suptitle('SBAS LOS Displacement, [mm]', y=1.1, fontsize=24)\n",
    "plt.show()"
   ]
  },
  {
   "cell_type": "code",
   "execution_count": null,
   "metadata": {
    "colab": {
     "base_uri": "https://localhost:8080/",
     "height": 654
    },
    "id": "Q1XynpwsWLz0",
    "outputId": "63db30d6-0ed2-4c9a-ab4a-2fb1860de0e8"
   },
   "outputs": [],
   "source": [
    "zmin, zmax = np.nanquantile(disps_ll, [0.01, 0.99])\n",
    "fg = disps_ll.plot.imshow(\n",
    "    col=\"date\",\n",
    "    col_wrap=3, size=4, aspect=1.2,\n",
    "    vmin=zmin, vmax=zmax, cmap='jet'\n",
    ")\n",
    "fg.set_ticks(max_xticks=5, max_yticks=5, fontsize='medium')\n",
    "fg.fig.suptitle('SBAS LOS Displacement in Geographic Coordinates, [mm]', y=1.1, fontsize=24)\n",
    "plt.show()"
   ]
  },
  {
   "cell_type": "markdown",
   "metadata": {
    "id": "e6earFwZqm_T"
   },
   "source": [
    "### Load Velocity Grids with Interpolation and Geocoding\n",
    "\n",
    "SBAS processing is based on GMTSAR function wich doesn't support PyGMTSAR files naming and so use option add_subswath=False to fix it."
   ]
  },
  {
   "cell_type": "code",
   "execution_count": null,
   "metadata": {
    "id": "u6d4CTKtqm_U"
   },
   "outputs": [],
   "source": [
    "vel = sbas.open_grid('vel', add_subswath=False)\n",
    "vel_ll = sbas.open_grid('vel', geocode=True, add_subswath=False)\n",
    "# interpolate low-coherency areas and mask not valid pixels\n",
    "vel_filled = sbas.open_grid('vel', func=sbas.nearest_grid, mask=phasefilts.min('pair'), add_subswath=False)\n",
    "vel_filled_ll = sbas.open_grid('vel', geocode=True,\n",
    "                               func=sbas.nearest_grid, mask=phasefilts.min('pair'), add_subswath=False)"
   ]
  },
  {
   "cell_type": "markdown",
   "metadata": {
    "id": "aAZx72tdqm_U"
   },
   "source": [
    "### Static Plots"
   ]
  },
  {
   "cell_type": "code",
   "execution_count": null,
   "metadata": {
    "colab": {
     "base_uri": "https://localhost:8080/",
     "height": 913
    },
    "id": "6YPK0n9GWLz1",
    "outputId": "f067ea27-eee9-4341-c650-538dbef7ba22"
   },
   "outputs": [],
   "source": [
    "fig, ((ax1, ax2), (ax3, ax4)) = plt.subplots(2, 2, figsize=(12, 8), dpi=300)\n",
    "zmin, zmax = np.nanquantile(vel, [0.01, 0.995])\n",
    "vel.plot(vmin=zmin, vmax=zmax, cmap='jet', ax=ax1)\n",
    "zmin, zmax = np.nanquantile(vel_ll, [0.01, 0.995])\n",
    "vel_ll.plot(vmin=zmin, vmax=zmax, cmap='jet', ax=ax2)\n",
    "zmin, zmax = np.nanquantile(vel_filled, [0.01, 0.995])\n",
    "vel_filled.plot(vmin=zmin, vmax=zmax, cmap='jet', ax=ax3)\n",
    "zmin, zmax = np.nanquantile(vel_filled_ll, [0.01, 0.995])\n",
    "vel_filled_ll.plot(vmin=zmin, vmax=zmax, cmap='jet', ax=ax4)\n",
    "ax1.set_title('Radar Coordinates', fontsize=16)\n",
    "ax2.set_title('Geographic Coordinates', fontsize=16)\n",
    "plt.suptitle('SBAS Velocity, [mm/year]', fontsize=18)\n",
    "plt.show()"
   ]
  },
  {
   "cell_type": "markdown",
   "metadata": {
    "id": "JNXtQFYAqm_V"
   },
   "source": [
    "### Interactive Plot\n",
    "\n",
    "Be careful because interactive plots require more RAM to be visualized\n",
    "\n",
    "The plots below do not work on Debian 10 and Python 3.7"
   ]
  },
  {
   "cell_type": "code",
   "execution_count": null,
   "metadata": {
    "id": "83joaMUPqm_W"
   },
   "outputs": [],
   "source": [
    "plots = None\n",
    "if platform.system() == 'Darwin':\n",
    "    zmin, zmax = np.nanquantile(vel_filled_ll, [0, 0.99])\n",
    "    opts_common = {'x':'lon', 'y':'lat', 'geo':True, 'width':330, 'height':280,\n",
    "                   'cmap':'turbo', 'colorbar':True, 'clim':(zmin, zmax)}\n",
    "    opts1 = {'tiles':gstiles, 'alpha':0.4, 'title':'Google Satellite'}\n",
    "    opts2 = {'tiles':ottiles, 'alpha':0.4, 'title':'OpenTopoMap'}\n",
    "    opts3 = {'tiles':False,   'alpha':1.4, 'title':'SBAS Velocity'}\n",
    "    plots = vel_filled_ll.hvplot(**{**opts_common, **opts1}).opts(xrotation=45) + \\\n",
    "    vel_filled_ll.hvplot(**{**opts_common, **opts2}).opts(xrotation=45) + \\\n",
    "    vel_filled_ll.hvplot(**{**opts_common, **opts3}).opts(xrotation=45)\n",
    "plots"
   ]
  },
  {
   "cell_type": "markdown",
   "metadata": {
    "id": "sXO46GK5qm_W"
   },
   "source": [
    "## Bonus: Quality Checks"
   ]
  },
  {
   "cell_type": "code",
   "execution_count": null,
   "metadata": {
    "colab": {
     "base_uri": "https://localhost:8080/",
     "height": 266
    },
    "id": "WWljcwJiqm_X",
    "outputId": "7ec11e19-8811-474c-d63a-8cb93459128f"
   },
   "outputs": [],
   "source": [
    "baseline_triplets = sbas.pairs2triplets(baseline_pairs)\n",
    "baseline_triplets"
   ]
  },
  {
   "cell_type": "code",
   "execution_count": null,
   "metadata": {
    "colab": {
     "base_uri": "https://localhost:8080/",
     "height": 266
    },
    "id": "H-0pccG1qm_Y",
    "outputId": "89579bae-e841-43f2-bc76-168f6edd70bf"
   },
   "outputs": [],
   "source": [
    "unwraps = sbas.open_grids(pairs, 'unwrap')\n",
    "triplets = SBAS.baseline_triplets_analysis(baseline_triplets, unwraps)\n",
    "triplets"
   ]
  },
  {
   "cell_type": "code",
   "execution_count": null,
   "metadata": {
    "colab": {
     "base_uri": "https://localhost:8080/",
     "height": 111
    },
    "id": "jKZLstntqm_Y",
    "outputId": "f17007c0-7a44-4b03-820d-a1a6ea2c5abf"
   },
   "outputs": [],
   "source": [
    "mask = lambda date: (triplets.A!=date)&(triplets.B!=date)&(triplets.C!=date)\n",
    "triplets_zeros = triplets[mask('2015-04-27')]\n",
    "triplets_zeros"
   ]
  },
  {
   "cell_type": "markdown",
   "metadata": {
    "id": "XOwgPwTHqm_Z"
   },
   "source": [
    "## Bonus: SBAS Displacement and Velocity for Quality Images"
   ]
  },
  {
   "cell_type": "code",
   "execution_count": null,
   "metadata": {
    "colab": {
     "base_uri": "https://localhost:8080/",
     "height": 204
    },
    "id": "MreX7z9Gqm_Z",
    "outputId": "cff5c23c-4207-4688-bf97-6c6e2d6cd0b6"
   },
   "outputs": [],
   "source": [
    "pairs_valid = sbas.triplets2pairs(triplets_zeros, baseline_pairs)\n",
    "pairs_valid"
   ]
  },
  {
   "cell_type": "code",
   "execution_count": null,
   "metadata": {
    "id": "-fS7_lvrqm_a"
   },
   "outputs": [],
   "source": [
    "sbas.sbas(pairs_valid)"
   ]
  },
  {
   "cell_type": "markdown",
   "metadata": {
    "id": "g_aemlQcqm_a"
   },
   "source": [
    "### Load Velocity Grids with Interpolation and Geocoding"
   ]
  },
  {
   "cell_type": "code",
   "execution_count": null,
   "metadata": {
    "id": "ROHj4mA0qm_a"
   },
   "outputs": [],
   "source": [
    "# trick: connection to the previous file cached, use new filename\n",
    "!mv {WORKDIR}/vel.grd {WORKDIR}/vel_quality.grd"
   ]
  },
  {
   "cell_type": "code",
   "execution_count": null,
   "metadata": {
    "id": "_ucrpCR7qm_c"
   },
   "outputs": [],
   "source": [
    "vel = sbas.open_grid('vel_quality', add_subswath=False)\n",
    "vel_ll = sbas.open_grid('vel_quality', geocode=True, add_subswath=False)\n",
    "# interpolate low-coherency areas and mask not valid pixels\n",
    "vel_filled = sbas.open_grid('vel_quality',\n",
    "                            func=sbas.nearest_grid, mask=phasefilts.min('pair'), add_subswath=False)\n",
    "vel_filled_ll = sbas.open_grid('vel_quality', geocode=True,\n",
    "                               func=sbas.nearest_grid, mask=phasefilts.min('pair'), add_subswath=False)"
   ]
  },
  {
   "cell_type": "markdown",
   "metadata": {
    "id": "9V33vikLqm_c"
   },
   "source": [
    "### Static Plots"
   ]
  },
  {
   "cell_type": "code",
   "execution_count": null,
   "metadata": {
    "colab": {
     "base_uri": "https://localhost:8080/",
     "height": 913
    },
    "id": "YiuFVbrrqm_d",
    "outputId": "4156bbc8-35c1-47ed-dcd3-d880404fb7ef"
   },
   "outputs": [],
   "source": [
    "fig, ((ax1, ax2), (ax3, ax4)) = plt.subplots(2, 2, figsize=(12, 8), dpi=300)\n",
    "zmin, zmax = np.nanquantile(vel, [0.01, 0.995])\n",
    "vel.plot(vmin=zmin, vmax=zmax, cmap='jet', ax=ax1)\n",
    "zmin, zmax = np.nanquantile(vel_ll, [0.01, 0.995])\n",
    "vel_ll.plot(vmin=zmin, vmax=zmax, cmap='jet', ax=ax2)\n",
    "zmin, zmax = np.nanquantile(vel_filled, [0.01, 0.995])\n",
    "vel_filled.plot(vmin=zmin, vmax=zmax, cmap='jet', ax=ax3)\n",
    "zmin, zmax = np.nanquantile(vel_filled_ll, [0.01, 0.995])\n",
    "vel_filled_ll.plot(vmin=zmin, vmax=zmax, cmap='jet', ax=ax4)\n",
    "ax1.set_title('Radar Coordinates', fontsize=16)\n",
    "ax2.set_title('Geographic Coordinates', fontsize=16)\n",
    "plt.suptitle('SBAS Velocity, [mm/year]', fontsize=18)\n",
    "plt.show()"
   ]
  },
  {
   "cell_type": "markdown",
   "metadata": {
    "id": "VfnHpzMNqm_d"
   },
   "source": [
    "### Interactive Plot\n",
    "\n",
    "Be careful because interactive plots require more RAM to be visualized\n",
    "\n",
    "The plots below do not work on Debian 10 and Python 3.7"
   ]
  },
  {
   "cell_type": "code",
   "execution_count": null,
   "metadata": {
    "id": "kUCZgkFpqm_d"
   },
   "outputs": [],
   "source": [
    "plots = None\n",
    "if platform.system() == 'Darwin':\n",
    "    zmin, zmax = np.nanquantile(vel_filled_ll, [0.01, 0.995])\n",
    "    opts_common = {'x':'lon', 'y':'lat', 'geo':True, 'width':330, 'height':280,\n",
    "                   'cmap':'turbo', 'colorbar':True, 'clim':(zmin, zmax)}\n",
    "    opts1 = {'tiles':gstiles, 'alpha':0.5, 'title':'Google Satellite'}\n",
    "    opts2 = {'tiles':ottiles, 'alpha':0.5, 'title':'OpenTopoMap'}\n",
    "    opts3 = {'tiles':False,   'alpha':1.0, 'title':'SBAS Velocity'}\n",
    "    plots = vel_filled_ll.hvplot(**{**opts_common, **opts1}).opts(xrotation=45) + \\\n",
    "    vel_filled_ll.hvplot(**{**opts_common, **opts2}).opts(xrotation=45) + \\\n",
    "    vel_filled_ll.hvplot(**{**opts_common, **opts3}).opts(xrotation=45)\n",
    "plots"
   ]
  },
  {
   "cell_type": "markdown",
   "metadata": {
    "id": "IQhRBleeWLz2"
   },
   "source": [
    "## Conclusion"
   ]
  },
  {
   "cell_type": "markdown",
   "metadata": {
    "id": "_LLWyt4AWLz2"
   },
   "source": [
    "For now you have the full control on interferometry processing and unwrapping and able to run it everywhere: on free of charge Google Colab instances, on local MacOS and Linux computers and on Amazon EC2 and Google Cloud VM and AI Notebook instances.\n",
    "    \n",
    "The original GMTSAR example processing is corrected to exclude too noisy images (due to atmospheric effects) and the SBAS result is better now."
   ]
  }
 ],
 "metadata": {
  "colab": {
   "collapsed_sections": [],
   "name": "S1A_Stack_CPGF_T173.ipynb",
   "provenance": []
  },
  "environment": {
   "name": "common-cpu.m80",
   "type": "gcloud",
   "uri": "gcr.io/deeplearning-platform-release/base-cpu:m80"
  },
  "kernelspec": {
   "display_name": "Python 3 (ipykernel)",
   "language": "python",
   "name": "python3"
  },
  "language_info": {
   "codemirror_mode": {
    "name": "ipython",
    "version": 3
   },
   "file_extension": ".py",
   "mimetype": "text/x-python",
   "name": "python",
   "nbconvert_exporter": "python",
   "pygments_lexer": "ipython3",
   "version": "3.9.13"
  },
  "widgets": {
   "application/vnd.jupyter.widget-state+json": {
    "04821a7406434d6694828baa9d6d18d6": {
     "model_module": "@jupyter-widgets/controls",
     "model_module_version": "1.5.0",
     "model_name": "FloatProgressModel",
     "state": {
      "_dom_classes": [],
      "_model_module": "@jupyter-widgets/controls",
      "_model_module_version": "1.5.0",
      "_model_name": "FloatProgressModel",
      "_view_count": null,
      "_view_module": "@jupyter-widgets/controls",
      "_view_module_version": "1.5.0",
      "_view_name": "ProgressView",
      "bar_style": "success",
      "description": "",
      "description_tooltip": null,
      "layout": "IPY_MODEL_6e37e5f680d04e809522946e92eee30a",
      "max": 9,
      "min": 0,
      "orientation": "horizontal",
      "style": "IPY_MODEL_a89d29b7d42449c48c53e32988030d96",
      "value": 9
     }
    },
    "0a2efb02e05040459beeed88b6e4ea99": {
     "model_module": "@jupyter-widgets/base",
     "model_module_version": "1.2.0",
     "model_name": "LayoutModel",
     "state": {
      "_model_module": "@jupyter-widgets/base",
      "_model_module_version": "1.2.0",
      "_model_name": "LayoutModel",
      "_view_count": null,
      "_view_module": "@jupyter-widgets/base",
      "_view_module_version": "1.2.0",
      "_view_name": "LayoutView",
      "align_content": null,
      "align_items": null,
      "align_self": null,
      "border": null,
      "bottom": null,
      "display": null,
      "flex": null,
      "flex_flow": null,
      "grid_area": null,
      "grid_auto_columns": null,
      "grid_auto_flow": null,
      "grid_auto_rows": null,
      "grid_column": null,
      "grid_gap": null,
      "grid_row": null,
      "grid_template_areas": null,
      "grid_template_columns": null,
      "grid_template_rows": null,
      "height": null,
      "justify_content": null,
      "justify_items": null,
      "left": null,
      "margin": null,
      "max_height": null,
      "max_width": null,
      "min_height": null,
      "min_width": null,
      "object_fit": null,
      "object_position": null,
      "order": null,
      "overflow": null,
      "overflow_x": null,
      "overflow_y": null,
      "padding": null,
      "right": null,
      "top": null,
      "visibility": null,
      "width": null
     }
    },
    "0ec84d1f11fb4cae97777b407b9cec8f": {
     "model_module": "@jupyter-widgets/controls",
     "model_module_version": "1.5.0",
     "model_name": "HTMLModel",
     "state": {
      "_dom_classes": [],
      "_model_module": "@jupyter-widgets/controls",
      "_model_module_version": "1.5.0",
      "_model_name": "HTMLModel",
      "_view_count": null,
      "_view_module": "@jupyter-widgets/controls",
      "_view_module_version": "1.5.0",
      "_view_name": "HTMLView",
      "description": "",
      "description_tooltip": null,
      "layout": "IPY_MODEL_d800146d2a2c4436b2d4ba2a6d97e62b",
      "placeholder": "​",
      "style": "IPY_MODEL_fa9ad651a33142af9d9598472d68c2e4",
      "value": " 1/1 [01:04&lt;00:00, 64.44s/it]"
     }
    },
    "10c6f0cf23cf4812953441e5dd4fe111": {
     "model_module": "@jupyter-widgets/base",
     "model_module_version": "1.2.0",
     "model_name": "LayoutModel",
     "state": {
      "_model_module": "@jupyter-widgets/base",
      "_model_module_version": "1.2.0",
      "_model_name": "LayoutModel",
      "_view_count": null,
      "_view_module": "@jupyter-widgets/base",
      "_view_module_version": "1.2.0",
      "_view_name": "LayoutView",
      "align_content": null,
      "align_items": null,
      "align_self": null,
      "border": null,
      "bottom": null,
      "display": null,
      "flex": null,
      "flex_flow": null,
      "grid_area": null,
      "grid_auto_columns": null,
      "grid_auto_flow": null,
      "grid_auto_rows": null,
      "grid_column": null,
      "grid_gap": null,
      "grid_row": null,
      "grid_template_areas": null,
      "grid_template_columns": null,
      "grid_template_rows": null,
      "height": null,
      "justify_content": null,
      "justify_items": null,
      "left": null,
      "margin": null,
      "max_height": null,
      "max_width": null,
      "min_height": null,
      "min_width": null,
      "object_fit": null,
      "object_position": null,
      "order": null,
      "overflow": null,
      "overflow_x": null,
      "overflow_y": null,
      "padding": null,
      "right": null,
      "top": null,
      "visibility": null,
      "width": null
     }
    },
    "12bb4be15b704f69a29d703fefabc4c4": {
     "model_module": "@jupyter-widgets/base",
     "model_module_version": "1.2.0",
     "model_name": "LayoutModel",
     "state": {
      "_model_module": "@jupyter-widgets/base",
      "_model_module_version": "1.2.0",
      "_model_name": "LayoutModel",
      "_view_count": null,
      "_view_module": "@jupyter-widgets/base",
      "_view_module_version": "1.2.0",
      "_view_name": "LayoutView",
      "align_content": null,
      "align_items": null,
      "align_self": null,
      "border": null,
      "bottom": null,
      "display": null,
      "flex": null,
      "flex_flow": null,
      "grid_area": null,
      "grid_auto_columns": null,
      "grid_auto_flow": null,
      "grid_auto_rows": null,
      "grid_column": null,
      "grid_gap": null,
      "grid_row": null,
      "grid_template_areas": null,
      "grid_template_columns": null,
      "grid_template_rows": null,
      "height": null,
      "justify_content": null,
      "justify_items": null,
      "left": null,
      "margin": null,
      "max_height": null,
      "max_width": null,
      "min_height": null,
      "min_width": null,
      "object_fit": null,
      "object_position": null,
      "order": null,
      "overflow": null,
      "overflow_x": null,
      "overflow_y": null,
      "padding": null,
      "right": null,
      "top": null,
      "visibility": null,
      "width": null
     }
    },
    "131ac2c23f064438b6c58a08ee6bb60e": {
     "model_module": "@jupyter-widgets/base",
     "model_module_version": "1.2.0",
     "model_name": "LayoutModel",
     "state": {
      "_model_module": "@jupyter-widgets/base",
      "_model_module_version": "1.2.0",
      "_model_name": "LayoutModel",
      "_view_count": null,
      "_view_module": "@jupyter-widgets/base",
      "_view_module_version": "1.2.0",
      "_view_name": "LayoutView",
      "align_content": null,
      "align_items": null,
      "align_self": null,
      "border": null,
      "bottom": null,
      "display": null,
      "flex": null,
      "flex_flow": null,
      "grid_area": null,
      "grid_auto_columns": null,
      "grid_auto_flow": null,
      "grid_auto_rows": null,
      "grid_column": null,
      "grid_gap": null,
      "grid_row": null,
      "grid_template_areas": null,
      "grid_template_columns": null,
      "grid_template_rows": null,
      "height": null,
      "justify_content": null,
      "justify_items": null,
      "left": null,
      "margin": null,
      "max_height": null,
      "max_width": null,
      "min_height": null,
      "min_width": null,
      "object_fit": null,
      "object_position": null,
      "order": null,
      "overflow": null,
      "overflow_x": null,
      "overflow_y": null,
      "padding": null,
      "right": null,
      "top": null,
      "visibility": null,
      "width": null
     }
    },
    "13b5d764d25545a79bc067409aa69f61": {
     "model_module": "@jupyter-widgets/base",
     "model_module_version": "1.2.0",
     "model_name": "LayoutModel",
     "state": {
      "_model_module": "@jupyter-widgets/base",
      "_model_module_version": "1.2.0",
      "_model_name": "LayoutModel",
      "_view_count": null,
      "_view_module": "@jupyter-widgets/base",
      "_view_module_version": "1.2.0",
      "_view_name": "LayoutView",
      "align_content": null,
      "align_items": null,
      "align_self": null,
      "border": null,
      "bottom": null,
      "display": null,
      "flex": null,
      "flex_flow": null,
      "grid_area": null,
      "grid_auto_columns": null,
      "grid_auto_flow": null,
      "grid_auto_rows": null,
      "grid_column": null,
      "grid_gap": null,
      "grid_row": null,
      "grid_template_areas": null,
      "grid_template_columns": null,
      "grid_template_rows": null,
      "height": null,
      "justify_content": null,
      "justify_items": null,
      "left": null,
      "margin": null,
      "max_height": null,
      "max_width": null,
      "min_height": null,
      "min_width": null,
      "object_fit": null,
      "object_position": null,
      "order": null,
      "overflow": null,
      "overflow_x": null,
      "overflow_y": null,
      "padding": null,
      "right": null,
      "top": null,
      "visibility": null,
      "width": null
     }
    },
    "144cee5dfdf64af784b90cf42cacd96f": {
     "model_module": "@jupyter-widgets/controls",
     "model_module_version": "1.5.0",
     "model_name": "DescriptionStyleModel",
     "state": {
      "_model_module": "@jupyter-widgets/controls",
      "_model_module_version": "1.5.0",
      "_model_name": "DescriptionStyleModel",
      "_view_count": null,
      "_view_module": "@jupyter-widgets/base",
      "_view_module_version": "1.2.0",
      "_view_name": "StyleView",
      "description_width": ""
     }
    },
    "1cc57b497ad34e82875bf607580f6a6d": {
     "model_module": "@jupyter-widgets/base",
     "model_module_version": "1.2.0",
     "model_name": "LayoutModel",
     "state": {
      "_model_module": "@jupyter-widgets/base",
      "_model_module_version": "1.2.0",
      "_model_name": "LayoutModel",
      "_view_count": null,
      "_view_module": "@jupyter-widgets/base",
      "_view_module_version": "1.2.0",
      "_view_name": "LayoutView",
      "align_content": null,
      "align_items": null,
      "align_self": null,
      "border": null,
      "bottom": null,
      "display": null,
      "flex": null,
      "flex_flow": null,
      "grid_area": null,
      "grid_auto_columns": null,
      "grid_auto_flow": null,
      "grid_auto_rows": null,
      "grid_column": null,
      "grid_gap": null,
      "grid_row": null,
      "grid_template_areas": null,
      "grid_template_columns": null,
      "grid_template_rows": null,
      "height": null,
      "justify_content": null,
      "justify_items": null,
      "left": null,
      "margin": null,
      "max_height": null,
      "max_width": null,
      "min_height": null,
      "min_width": null,
      "object_fit": null,
      "object_position": null,
      "order": null,
      "overflow": null,
      "overflow_x": null,
      "overflow_y": null,
      "padding": null,
      "right": null,
      "top": null,
      "visibility": null,
      "width": null
     }
    },
    "2133c5a6d2b940e59bd1b6fca603e8d7": {
     "model_module": "@jupyter-widgets/base",
     "model_module_version": "1.2.0",
     "model_name": "LayoutModel",
     "state": {
      "_model_module": "@jupyter-widgets/base",
      "_model_module_version": "1.2.0",
      "_model_name": "LayoutModel",
      "_view_count": null,
      "_view_module": "@jupyter-widgets/base",
      "_view_module_version": "1.2.0",
      "_view_name": "LayoutView",
      "align_content": null,
      "align_items": null,
      "align_self": null,
      "border": null,
      "bottom": null,
      "display": null,
      "flex": null,
      "flex_flow": null,
      "grid_area": null,
      "grid_auto_columns": null,
      "grid_auto_flow": null,
      "grid_auto_rows": null,
      "grid_column": null,
      "grid_gap": null,
      "grid_row": null,
      "grid_template_areas": null,
      "grid_template_columns": null,
      "grid_template_rows": null,
      "height": null,
      "justify_content": null,
      "justify_items": null,
      "left": null,
      "margin": null,
      "max_height": null,
      "max_width": null,
      "min_height": null,
      "min_width": null,
      "object_fit": null,
      "object_position": null,
      "order": null,
      "overflow": null,
      "overflow_x": null,
      "overflow_y": null,
      "padding": null,
      "right": null,
      "top": null,
      "visibility": null,
      "width": null
     }
    },
    "28ec428bcbdc424590b809922bf5b230": {
     "model_module": "@jupyter-widgets/controls",
     "model_module_version": "1.5.0",
     "model_name": "FloatProgressModel",
     "state": {
      "_dom_classes": [],
      "_model_module": "@jupyter-widgets/controls",
      "_model_module_version": "1.5.0",
      "_model_name": "FloatProgressModel",
      "_view_count": null,
      "_view_module": "@jupyter-widgets/controls",
      "_view_module_version": "1.5.0",
      "_view_name": "ProgressView",
      "bar_style": "success",
      "description": "",
      "description_tooltip": null,
      "layout": "IPY_MODEL_e2903f2bdd93458084d6fd6eb28e78ad",
      "max": 9,
      "min": 0,
      "orientation": "horizontal",
      "style": "IPY_MODEL_364aa3aa07264aa2afa2b6941a3d5742",
      "value": 9
     }
    },
    "299ca1e6211947a39b48ffb91ecb1860": {
     "model_module": "@jupyter-widgets/controls",
     "model_module_version": "1.5.0",
     "model_name": "HTMLModel",
     "state": {
      "_dom_classes": [],
      "_model_module": "@jupyter-widgets/controls",
      "_model_module_version": "1.5.0",
      "_model_name": "HTMLModel",
      "_view_count": null,
      "_view_module": "@jupyter-widgets/controls",
      "_view_module_version": "1.5.0",
      "_view_name": "HTMLView",
      "description": "",
      "description_tooltip": null,
      "layout": "IPY_MODEL_551b50f3391c46b897792048e97ed705",
      "placeholder": "​",
      "style": "IPY_MODEL_afac1dfe2bd54c63a512d9da9a9799a6",
      "value": "Geocoding: 100%"
     }
    },
    "2dbd0269a6c84533aa56c5f5e80699fe": {
     "model_module": "@jupyter-widgets/controls",
     "model_module_version": "1.5.0",
     "model_name": "FloatProgressModel",
     "state": {
      "_dom_classes": [],
      "_model_module": "@jupyter-widgets/controls",
      "_model_module_version": "1.5.0",
      "_model_name": "FloatProgressModel",
      "_view_count": null,
      "_view_module": "@jupyter-widgets/controls",
      "_view_module_version": "1.5.0",
      "_view_name": "ProgressView",
      "bar_style": "success",
      "description": "",
      "description_tooltip": null,
      "layout": "IPY_MODEL_13b5d764d25545a79bc067409aa69f61",
      "max": 9,
      "min": 0,
      "orientation": "horizontal",
      "style": "IPY_MODEL_8ead9898e9ec493f8a076fbc6333135d",
      "value": 9
     }
    },
    "300dfdf42cb2465c80d197a74ed6efe7": {
     "model_module": "@jupyter-widgets/base",
     "model_module_version": "1.2.0",
     "model_name": "LayoutModel",
     "state": {
      "_model_module": "@jupyter-widgets/base",
      "_model_module_version": "1.2.0",
      "_model_name": "LayoutModel",
      "_view_count": null,
      "_view_module": "@jupyter-widgets/base",
      "_view_module_version": "1.2.0",
      "_view_name": "LayoutView",
      "align_content": null,
      "align_items": null,
      "align_self": null,
      "border": null,
      "bottom": null,
      "display": null,
      "flex": null,
      "flex_flow": null,
      "grid_area": null,
      "grid_auto_columns": null,
      "grid_auto_flow": null,
      "grid_auto_rows": null,
      "grid_column": null,
      "grid_gap": null,
      "grid_row": null,
      "grid_template_areas": null,
      "grid_template_columns": null,
      "grid_template_rows": null,
      "height": null,
      "justify_content": null,
      "justify_items": null,
      "left": null,
      "margin": null,
      "max_height": null,
      "max_width": null,
      "min_height": null,
      "min_width": null,
      "object_fit": null,
      "object_position": null,
      "order": null,
      "overflow": null,
      "overflow_x": null,
      "overflow_y": null,
      "padding": null,
      "right": null,
      "top": null,
      "visibility": null,
      "width": null
     }
    },
    "31e4234c91e2403dbeb57d2e90e6c7b5": {
     "model_module": "@jupyter-widgets/controls",
     "model_module_version": "1.5.0",
     "model_name": "DescriptionStyleModel",
     "state": {
      "_model_module": "@jupyter-widgets/controls",
      "_model_module_version": "1.5.0",
      "_model_name": "DescriptionStyleModel",
      "_view_count": null,
      "_view_module": "@jupyter-widgets/base",
      "_view_module_version": "1.2.0",
      "_view_name": "StyleView",
      "description_width": ""
     }
    },
    "32a39d7be2f040f1bf2829778e7c2b09": {
     "model_module": "@jupyter-widgets/controls",
     "model_module_version": "1.5.0",
     "model_name": "HTMLModel",
     "state": {
      "_dom_classes": [],
      "_model_module": "@jupyter-widgets/controls",
      "_model_module_version": "1.5.0",
      "_model_name": "HTMLModel",
      "_view_count": null,
      "_view_module": "@jupyter-widgets/controls",
      "_view_module_version": "1.5.0",
      "_view_name": "HTMLView",
      "description": "",
      "description_tooltip": null,
      "layout": "IPY_MODEL_2133c5a6d2b940e59bd1b6fca603e8d7",
      "placeholder": "​",
      "style": "IPY_MODEL_74e5c69161ea40e28fb3e698cd5f91dd",
      "value": "Unwrapping: 100%"
     }
    },
    "33d0a04c6a2c4c63bd97f86ab0a2938f": {
     "model_module": "@jupyter-widgets/controls",
     "model_module_version": "1.5.0",
     "model_name": "DescriptionStyleModel",
     "state": {
      "_model_module": "@jupyter-widgets/controls",
      "_model_module_version": "1.5.0",
      "_model_name": "DescriptionStyleModel",
      "_view_count": null,
      "_view_module": "@jupyter-widgets/base",
      "_view_module_version": "1.2.0",
      "_view_name": "StyleView",
      "description_width": ""
     }
    },
    "34120067f44e41fba995a14af531822d": {
     "model_module": "@jupyter-widgets/controls",
     "model_module_version": "1.5.0",
     "model_name": "HTMLModel",
     "state": {
      "_dom_classes": [],
      "_model_module": "@jupyter-widgets/controls",
      "_model_module_version": "1.5.0",
      "_model_name": "HTMLModel",
      "_view_count": null,
      "_view_module": "@jupyter-widgets/controls",
      "_view_module_version": "1.5.0",
      "_view_name": "HTMLView",
      "description": "",
      "description_tooltip": null,
      "layout": "IPY_MODEL_d9f36252748f49bb8f77b59cc1195be8",
      "placeholder": "​",
      "style": "IPY_MODEL_65756a0aaf1d4adba29e34a9112ec45e",
      "value": " 9/9 [00:03&lt;00:00,  2.95it/s]"
     }
    },
    "364aa3aa07264aa2afa2b6941a3d5742": {
     "model_module": "@jupyter-widgets/controls",
     "model_module_version": "1.5.0",
     "model_name": "ProgressStyleModel",
     "state": {
      "_model_module": "@jupyter-widgets/controls",
      "_model_module_version": "1.5.0",
      "_model_name": "ProgressStyleModel",
      "_view_count": null,
      "_view_module": "@jupyter-widgets/base",
      "_view_module_version": "1.2.0",
      "_view_name": "StyleView",
      "bar_color": null,
      "description_width": ""
     }
    },
    "3a4a90807ae44a3daef8a577e6edd3c2": {
     "model_module": "@jupyter-widgets/base",
     "model_module_version": "1.2.0",
     "model_name": "LayoutModel",
     "state": {
      "_model_module": "@jupyter-widgets/base",
      "_model_module_version": "1.2.0",
      "_model_name": "LayoutModel",
      "_view_count": null,
      "_view_module": "@jupyter-widgets/base",
      "_view_module_version": "1.2.0",
      "_view_name": "LayoutView",
      "align_content": null,
      "align_items": null,
      "align_self": null,
      "border": null,
      "bottom": null,
      "display": null,
      "flex": null,
      "flex_flow": null,
      "grid_area": null,
      "grid_auto_columns": null,
      "grid_auto_flow": null,
      "grid_auto_rows": null,
      "grid_column": null,
      "grid_gap": null,
      "grid_row": null,
      "grid_template_areas": null,
      "grid_template_columns": null,
      "grid_template_rows": null,
      "height": null,
      "justify_content": null,
      "justify_items": null,
      "left": null,
      "margin": null,
      "max_height": null,
      "max_width": null,
      "min_height": null,
      "min_width": null,
      "object_fit": null,
      "object_position": null,
      "order": null,
      "overflow": null,
      "overflow_x": null,
      "overflow_y": null,
      "padding": null,
      "right": null,
      "top": null,
      "visibility": null,
      "width": null
     }
    },
    "3ff5c5eefb704f629ac81efb484159f1": {
     "model_module": "@jupyter-widgets/controls",
     "model_module_version": "1.5.0",
     "model_name": "HBoxModel",
     "state": {
      "_dom_classes": [],
      "_model_module": "@jupyter-widgets/controls",
      "_model_module_version": "1.5.0",
      "_model_name": "HBoxModel",
      "_view_count": null,
      "_view_module": "@jupyter-widgets/controls",
      "_view_module_version": "1.5.0",
      "_view_name": "HBoxView",
      "box_style": "",
      "children": [
       "IPY_MODEL_b5ebad29d54d427a865966e41bddd8a2",
       "IPY_MODEL_ef0e89422fab402689fb8b7c92b3080d",
       "IPY_MODEL_7c84a26f08984bdb99968ca0722c9c0d"
      ],
      "layout": "IPY_MODEL_3a4a90807ae44a3daef8a577e6edd3c2"
     }
    },
    "402d1d4ed2e04c189e0d710e92e91a95": {
     "model_module": "@jupyter-widgets/controls",
     "model_module_version": "1.5.0",
     "model_name": "HTMLModel",
     "state": {
      "_dom_classes": [],
      "_model_module": "@jupyter-widgets/controls",
      "_model_module_version": "1.5.0",
      "_model_name": "HTMLModel",
      "_view_count": null,
      "_view_module": "@jupyter-widgets/controls",
      "_view_module_version": "1.5.0",
      "_view_name": "HTMLView",
      "description": "",
      "description_tooltip": null,
      "layout": "IPY_MODEL_e43f387d1bf44b72b00e743397e19f23",
      "placeholder": "​",
      "style": "IPY_MODEL_a32cd7e493ff42bb9a3ce241ccfcc778",
      "value": "Reference: 100%"
     }
    },
    "4313493f722342378abaa3087fd93729": {
     "model_module": "@jupyter-widgets/base",
     "model_module_version": "1.2.0",
     "model_name": "LayoutModel",
     "state": {
      "_model_module": "@jupyter-widgets/base",
      "_model_module_version": "1.2.0",
      "_model_name": "LayoutModel",
      "_view_count": null,
      "_view_module": "@jupyter-widgets/base",
      "_view_module_version": "1.2.0",
      "_view_name": "LayoutView",
      "align_content": null,
      "align_items": null,
      "align_self": null,
      "border": null,
      "bottom": null,
      "display": null,
      "flex": null,
      "flex_flow": null,
      "grid_area": null,
      "grid_auto_columns": null,
      "grid_auto_flow": null,
      "grid_auto_rows": null,
      "grid_column": null,
      "grid_gap": null,
      "grid_row": null,
      "grid_template_areas": null,
      "grid_template_columns": null,
      "grid_template_rows": null,
      "height": null,
      "justify_content": null,
      "justify_items": null,
      "left": null,
      "margin": null,
      "max_height": null,
      "max_width": null,
      "min_height": null,
      "min_width": null,
      "object_fit": null,
      "object_position": null,
      "order": null,
      "overflow": null,
      "overflow_x": null,
      "overflow_y": null,
      "padding": null,
      "right": null,
      "top": null,
      "visibility": null,
      "width": null
     }
    },
    "43571edb77fb43ac88a9fd56b0b97c1e": {
     "model_module": "@jupyter-widgets/base",
     "model_module_version": "1.2.0",
     "model_name": "LayoutModel",
     "state": {
      "_model_module": "@jupyter-widgets/base",
      "_model_module_version": "1.2.0",
      "_model_name": "LayoutModel",
      "_view_count": null,
      "_view_module": "@jupyter-widgets/base",
      "_view_module_version": "1.2.0",
      "_view_name": "LayoutView",
      "align_content": null,
      "align_items": null,
      "align_self": null,
      "border": null,
      "bottom": null,
      "display": null,
      "flex": null,
      "flex_flow": null,
      "grid_area": null,
      "grid_auto_columns": null,
      "grid_auto_flow": null,
      "grid_auto_rows": null,
      "grid_column": null,
      "grid_gap": null,
      "grid_row": null,
      "grid_template_areas": null,
      "grid_template_columns": null,
      "grid_template_rows": null,
      "height": null,
      "justify_content": null,
      "justify_items": null,
      "left": null,
      "margin": null,
      "max_height": null,
      "max_width": null,
      "min_height": null,
      "min_width": null,
      "object_fit": null,
      "object_position": null,
      "order": null,
      "overflow": null,
      "overflow_x": null,
      "overflow_y": null,
      "padding": null,
      "right": null,
      "top": null,
      "visibility": null,
      "width": null
     }
    },
    "4c955a3466f946cc87c2d0f3a83ed384": {
     "model_module": "@jupyter-widgets/controls",
     "model_module_version": "1.5.0",
     "model_name": "FloatProgressModel",
     "state": {
      "_dom_classes": [],
      "_model_module": "@jupyter-widgets/controls",
      "_model_module_version": "1.5.0",
      "_model_name": "FloatProgressModel",
      "_view_count": null,
      "_view_module": "@jupyter-widgets/controls",
      "_view_module_version": "1.5.0",
      "_view_name": "ProgressView",
      "bar_style": "success",
      "description": "",
      "description_tooltip": null,
      "layout": "IPY_MODEL_43571edb77fb43ac88a9fd56b0b97c1e",
      "max": 1,
      "min": 0,
      "orientation": "horizontal",
      "style": "IPY_MODEL_d0ba9d3f82f940a69b34fd9c77a2b446",
      "value": 1
     }
    },
    "50eb4f26300b45c497721c1a6c4e7039": {
     "model_module": "@jupyter-widgets/controls",
     "model_module_version": "1.5.0",
     "model_name": "HTMLModel",
     "state": {
      "_dom_classes": [],
      "_model_module": "@jupyter-widgets/controls",
      "_model_module_version": "1.5.0",
      "_model_name": "HTMLModel",
      "_view_count": null,
      "_view_module": "@jupyter-widgets/controls",
      "_view_module_version": "1.5.0",
      "_view_name": "HTMLView",
      "description": "",
      "description_tooltip": null,
      "layout": "IPY_MODEL_10c6f0cf23cf4812953441e5dd4fe111",
      "placeholder": "​",
      "style": "IPY_MODEL_8097c16a5c0e456fba79aa304e3c2722",
      "value": " 9/9 [00:00&lt;00:00, 15.34it/s]"
     }
    },
    "551b50f3391c46b897792048e97ed705": {
     "model_module": "@jupyter-widgets/base",
     "model_module_version": "1.2.0",
     "model_name": "LayoutModel",
     "state": {
      "_model_module": "@jupyter-widgets/base",
      "_model_module_version": "1.2.0",
      "_model_name": "LayoutModel",
      "_view_count": null,
      "_view_module": "@jupyter-widgets/base",
      "_view_module_version": "1.2.0",
      "_view_name": "LayoutView",
      "align_content": null,
      "align_items": null,
      "align_self": null,
      "border": null,
      "bottom": null,
      "display": null,
      "flex": null,
      "flex_flow": null,
      "grid_area": null,
      "grid_auto_columns": null,
      "grid_auto_flow": null,
      "grid_auto_rows": null,
      "grid_column": null,
      "grid_gap": null,
      "grid_row": null,
      "grid_template_areas": null,
      "grid_template_columns": null,
      "grid_template_rows": null,
      "height": null,
      "justify_content": null,
      "justify_items": null,
      "left": null,
      "margin": null,
      "max_height": null,
      "max_width": null,
      "min_height": null,
      "min_width": null,
      "object_fit": null,
      "object_position": null,
      "order": null,
      "overflow": null,
      "overflow_x": null,
      "overflow_y": null,
      "padding": null,
      "right": null,
      "top": null,
      "visibility": null,
      "width": null
     }
    },
    "55e410321b234bdfa2bb66ff979afb48": {
     "model_module": "@jupyter-widgets/controls",
     "model_module_version": "1.5.0",
     "model_name": "HBoxModel",
     "state": {
      "_dom_classes": [],
      "_model_module": "@jupyter-widgets/controls",
      "_model_module_version": "1.5.0",
      "_model_name": "HBoxModel",
      "_view_count": null,
      "_view_module": "@jupyter-widgets/controls",
      "_view_module_version": "1.5.0",
      "_view_name": "HBoxView",
      "box_style": "",
      "children": [
       "IPY_MODEL_32a39d7be2f040f1bf2829778e7c2b09",
       "IPY_MODEL_2dbd0269a6c84533aa56c5f5e80699fe",
       "IPY_MODEL_34120067f44e41fba995a14af531822d"
      ],
      "layout": "IPY_MODEL_6ea34a82f9ab4daa9e8cdaf6769f0d3a"
     }
    },
    "65756a0aaf1d4adba29e34a9112ec45e": {
     "model_module": "@jupyter-widgets/controls",
     "model_module_version": "1.5.0",
     "model_name": "DescriptionStyleModel",
     "state": {
      "_model_module": "@jupyter-widgets/controls",
      "_model_module_version": "1.5.0",
      "_model_name": "DescriptionStyleModel",
      "_view_count": null,
      "_view_module": "@jupyter-widgets/base",
      "_view_module_version": "1.2.0",
      "_view_name": "StyleView",
      "description_width": ""
     }
    },
    "6b48a14678b94b7e997d1f240e4b9008": {
     "model_module": "@jupyter-widgets/controls",
     "model_module_version": "1.5.0",
     "model_name": "HBoxModel",
     "state": {
      "_dom_classes": [],
      "_model_module": "@jupyter-widgets/controls",
      "_model_module_version": "1.5.0",
      "_model_name": "HBoxModel",
      "_view_count": null,
      "_view_module": "@jupyter-widgets/controls",
      "_view_module_version": "1.5.0",
      "_view_name": "HBoxView",
      "box_style": "",
      "children": [
       "IPY_MODEL_ebd6300dfeec459b80ae13475ed1d4aa",
       "IPY_MODEL_94281b2c731a4854872d75a6056dbc24",
       "IPY_MODEL_0ec84d1f11fb4cae97777b407b9cec8f"
      ],
      "layout": "IPY_MODEL_88ae18282f414b90a9e1b37867e5e6b3"
     }
    },
    "6c9752eca1d14f1d980a6d798983e566": {
     "model_module": "@jupyter-widgets/controls",
     "model_module_version": "1.5.0",
     "model_name": "HTMLModel",
     "state": {
      "_dom_classes": [],
      "_model_module": "@jupyter-widgets/controls",
      "_model_module_version": "1.5.0",
      "_model_name": "HTMLModel",
      "_view_count": null,
      "_view_module": "@jupyter-widgets/controls",
      "_view_module_version": "1.5.0",
      "_view_name": "HTMLView",
      "description": "",
      "description_tooltip": null,
      "layout": "IPY_MODEL_0a2efb02e05040459beeed88b6e4ea99",
      "placeholder": "​",
      "style": "IPY_MODEL_734c560bfa6f4f8192f5644cae7c7c06",
      "value": "Interferograms: 100%"
     }
    },
    "6e37e5f680d04e809522946e92eee30a": {
     "model_module": "@jupyter-widgets/base",
     "model_module_version": "1.2.0",
     "model_name": "LayoutModel",
     "state": {
      "_model_module": "@jupyter-widgets/base",
      "_model_module_version": "1.2.0",
      "_model_name": "LayoutModel",
      "_view_count": null,
      "_view_module": "@jupyter-widgets/base",
      "_view_module_version": "1.2.0",
      "_view_name": "LayoutView",
      "align_content": null,
      "align_items": null,
      "align_self": null,
      "border": null,
      "bottom": null,
      "display": null,
      "flex": null,
      "flex_flow": null,
      "grid_area": null,
      "grid_auto_columns": null,
      "grid_auto_flow": null,
      "grid_auto_rows": null,
      "grid_column": null,
      "grid_gap": null,
      "grid_row": null,
      "grid_template_areas": null,
      "grid_template_columns": null,
      "grid_template_rows": null,
      "height": null,
      "justify_content": null,
      "justify_items": null,
      "left": null,
      "margin": null,
      "max_height": null,
      "max_width": null,
      "min_height": null,
      "min_width": null,
      "object_fit": null,
      "object_position": null,
      "order": null,
      "overflow": null,
      "overflow_x": null,
      "overflow_y": null,
      "padding": null,
      "right": null,
      "top": null,
      "visibility": null,
      "width": null
     }
    },
    "6ea34a82f9ab4daa9e8cdaf6769f0d3a": {
     "model_module": "@jupyter-widgets/base",
     "model_module_version": "1.2.0",
     "model_name": "LayoutModel",
     "state": {
      "_model_module": "@jupyter-widgets/base",
      "_model_module_version": "1.2.0",
      "_model_name": "LayoutModel",
      "_view_count": null,
      "_view_module": "@jupyter-widgets/base",
      "_view_module_version": "1.2.0",
      "_view_name": "LayoutView",
      "align_content": null,
      "align_items": null,
      "align_self": null,
      "border": null,
      "bottom": null,
      "display": null,
      "flex": null,
      "flex_flow": null,
      "grid_area": null,
      "grid_auto_columns": null,
      "grid_auto_flow": null,
      "grid_auto_rows": null,
      "grid_column": null,
      "grid_gap": null,
      "grid_row": null,
      "grid_template_areas": null,
      "grid_template_columns": null,
      "grid_template_rows": null,
      "height": null,
      "justify_content": null,
      "justify_items": null,
      "left": null,
      "margin": null,
      "max_height": null,
      "max_width": null,
      "min_height": null,
      "min_width": null,
      "object_fit": null,
      "object_position": null,
      "order": null,
      "overflow": null,
      "overflow_x": null,
      "overflow_y": null,
      "padding": null,
      "right": null,
      "top": null,
      "visibility": null,
      "width": null
     }
    },
    "6fc26cd8b35d423f9855f86c7ea15ff6": {
     "model_module": "@jupyter-widgets/controls",
     "model_module_version": "1.5.0",
     "model_name": "ProgressStyleModel",
     "state": {
      "_model_module": "@jupyter-widgets/controls",
      "_model_module_version": "1.5.0",
      "_model_name": "ProgressStyleModel",
      "_view_count": null,
      "_view_module": "@jupyter-widgets/base",
      "_view_module_version": "1.2.0",
      "_view_name": "StyleView",
      "bar_color": null,
      "description_width": ""
     }
    },
    "70552f53ef02408f8157becac1e4cba8": {
     "model_module": "@jupyter-widgets/base",
     "model_module_version": "1.2.0",
     "model_name": "LayoutModel",
     "state": {
      "_model_module": "@jupyter-widgets/base",
      "_model_module_version": "1.2.0",
      "_model_name": "LayoutModel",
      "_view_count": null,
      "_view_module": "@jupyter-widgets/base",
      "_view_module_version": "1.2.0",
      "_view_name": "LayoutView",
      "align_content": null,
      "align_items": null,
      "align_self": null,
      "border": null,
      "bottom": null,
      "display": null,
      "flex": null,
      "flex_flow": null,
      "grid_area": null,
      "grid_auto_columns": null,
      "grid_auto_flow": null,
      "grid_auto_rows": null,
      "grid_column": null,
      "grid_gap": null,
      "grid_row": null,
      "grid_template_areas": null,
      "grid_template_columns": null,
      "grid_template_rows": null,
      "height": null,
      "justify_content": null,
      "justify_items": null,
      "left": null,
      "margin": null,
      "max_height": null,
      "max_width": null,
      "min_height": null,
      "min_width": null,
      "object_fit": null,
      "object_position": null,
      "order": null,
      "overflow": null,
      "overflow_x": null,
      "overflow_y": null,
      "padding": null,
      "right": null,
      "top": null,
      "visibility": null,
      "width": null
     }
    },
    "7070b1eb6d2d442384c452c527d6fdde": {
     "model_module": "@jupyter-widgets/controls",
     "model_module_version": "1.5.0",
     "model_name": "HTMLModel",
     "state": {
      "_dom_classes": [],
      "_model_module": "@jupyter-widgets/controls",
      "_model_module_version": "1.5.0",
      "_model_name": "HTMLModel",
      "_view_count": null,
      "_view_module": "@jupyter-widgets/controls",
      "_view_module_version": "1.5.0",
      "_view_name": "HTMLView",
      "description": "",
      "description_tooltip": null,
      "layout": "IPY_MODEL_968915709c5748ec8414c8d8700a67f2",
      "placeholder": "​",
      "style": "IPY_MODEL_31e4234c91e2403dbeb57d2e90e6c7b5",
      "value": " 1/1 [00:10&lt;00:00, 10.14s/it]"
     }
    },
    "734c560bfa6f4f8192f5644cae7c7c06": {
     "model_module": "@jupyter-widgets/controls",
     "model_module_version": "1.5.0",
     "model_name": "DescriptionStyleModel",
     "state": {
      "_model_module": "@jupyter-widgets/controls",
      "_model_module_version": "1.5.0",
      "_model_name": "DescriptionStyleModel",
      "_view_count": null,
      "_view_module": "@jupyter-widgets/base",
      "_view_module_version": "1.2.0",
      "_view_name": "StyleView",
      "description_width": ""
     }
    },
    "73f064be99954e4da3dc05763623ce66": {
     "model_module": "@jupyter-widgets/controls",
     "model_module_version": "1.5.0",
     "model_name": "DescriptionStyleModel",
     "state": {
      "_model_module": "@jupyter-widgets/controls",
      "_model_module_version": "1.5.0",
      "_model_name": "DescriptionStyleModel",
      "_view_count": null,
      "_view_module": "@jupyter-widgets/base",
      "_view_module_version": "1.2.0",
      "_view_name": "StyleView",
      "description_width": ""
     }
    },
    "74e5c69161ea40e28fb3e698cd5f91dd": {
     "model_module": "@jupyter-widgets/controls",
     "model_module_version": "1.5.0",
     "model_name": "DescriptionStyleModel",
     "state": {
      "_model_module": "@jupyter-widgets/controls",
      "_model_module_version": "1.5.0",
      "_model_name": "DescriptionStyleModel",
      "_view_count": null,
      "_view_module": "@jupyter-widgets/base",
      "_view_module_version": "1.2.0",
      "_view_name": "StyleView",
      "description_width": ""
     }
    },
    "76bc1c4b962042318d1bc8fc43ad4001": {
     "model_module": "@jupyter-widgets/controls",
     "model_module_version": "1.5.0",
     "model_name": "DescriptionStyleModel",
     "state": {
      "_model_module": "@jupyter-widgets/controls",
      "_model_module_version": "1.5.0",
      "_model_name": "DescriptionStyleModel",
      "_view_count": null,
      "_view_module": "@jupyter-widgets/base",
      "_view_module_version": "1.2.0",
      "_view_name": "StyleView",
      "description_width": ""
     }
    },
    "775e317ab17f4bfba2c585252bbfefba": {
     "model_module": "@jupyter-widgets/base",
     "model_module_version": "1.2.0",
     "model_name": "LayoutModel",
     "state": {
      "_model_module": "@jupyter-widgets/base",
      "_model_module_version": "1.2.0",
      "_model_name": "LayoutModel",
      "_view_count": null,
      "_view_module": "@jupyter-widgets/base",
      "_view_module_version": "1.2.0",
      "_view_name": "LayoutView",
      "align_content": null,
      "align_items": null,
      "align_self": null,
      "border": null,
      "bottom": null,
      "display": null,
      "flex": null,
      "flex_flow": null,
      "grid_area": null,
      "grid_auto_columns": null,
      "grid_auto_flow": null,
      "grid_auto_rows": null,
      "grid_column": null,
      "grid_gap": null,
      "grid_row": null,
      "grid_template_areas": null,
      "grid_template_columns": null,
      "grid_template_rows": null,
      "height": null,
      "justify_content": null,
      "justify_items": null,
      "left": null,
      "margin": null,
      "max_height": null,
      "max_width": null,
      "min_height": null,
      "min_width": null,
      "object_fit": null,
      "object_position": null,
      "order": null,
      "overflow": null,
      "overflow_x": null,
      "overflow_y": null,
      "padding": null,
      "right": null,
      "top": null,
      "visibility": null,
      "width": null
     }
    },
    "7c84a26f08984bdb99968ca0722c9c0d": {
     "model_module": "@jupyter-widgets/controls",
     "model_module_version": "1.5.0",
     "model_name": "HTMLModel",
     "state": {
      "_dom_classes": [],
      "_model_module": "@jupyter-widgets/controls",
      "_model_module_version": "1.5.0",
      "_model_name": "HTMLModel",
      "_view_count": null,
      "_view_module": "@jupyter-widgets/controls",
      "_view_module_version": "1.5.0",
      "_view_name": "HTMLView",
      "description": "",
      "description_tooltip": null,
      "layout": "IPY_MODEL_c28298a4bdf842b0a2b3e3eb0fd0ecca",
      "placeholder": "​",
      "style": "IPY_MODEL_76bc1c4b962042318d1bc8fc43ad4001",
      "value": " 4/4 [04:35&lt;00:00, 56.83s/it]"
     }
    },
    "8097c16a5c0e456fba79aa304e3c2722": {
     "model_module": "@jupyter-widgets/controls",
     "model_module_version": "1.5.0",
     "model_name": "DescriptionStyleModel",
     "state": {
      "_model_module": "@jupyter-widgets/controls",
      "_model_module_version": "1.5.0",
      "_model_name": "DescriptionStyleModel",
      "_view_count": null,
      "_view_module": "@jupyter-widgets/base",
      "_view_module_version": "1.2.0",
      "_view_name": "StyleView",
      "description_width": ""
     }
    },
    "87d267018cb44c0892b2ddf1a04e3a9b": {
     "model_module": "@jupyter-widgets/controls",
     "model_module_version": "1.5.0",
     "model_name": "HTMLModel",
     "state": {
      "_dom_classes": [],
      "_model_module": "@jupyter-widgets/controls",
      "_model_module_version": "1.5.0",
      "_model_name": "HTMLModel",
      "_view_count": null,
      "_view_module": "@jupyter-widgets/controls",
      "_view_module_version": "1.5.0",
      "_view_name": "HTMLView",
      "description": "",
      "description_tooltip": null,
      "layout": "IPY_MODEL_93d312d2be9040508de4b5e37844721b",
      "placeholder": "​",
      "style": "IPY_MODEL_144cee5dfdf64af784b90cf42cacd96f",
      "value": "Geocoding: 100%"
     }
    },
    "88ae18282f414b90a9e1b37867e5e6b3": {
     "model_module": "@jupyter-widgets/base",
     "model_module_version": "1.2.0",
     "model_name": "LayoutModel",
     "state": {
      "_model_module": "@jupyter-widgets/base",
      "_model_module_version": "1.2.0",
      "_model_name": "LayoutModel",
      "_view_count": null,
      "_view_module": "@jupyter-widgets/base",
      "_view_module_version": "1.2.0",
      "_view_name": "LayoutView",
      "align_content": null,
      "align_items": null,
      "align_self": null,
      "border": null,
      "bottom": null,
      "display": null,
      "flex": null,
      "flex_flow": null,
      "grid_area": null,
      "grid_auto_columns": null,
      "grid_auto_flow": null,
      "grid_auto_rows": null,
      "grid_column": null,
      "grid_gap": null,
      "grid_row": null,
      "grid_template_areas": null,
      "grid_template_columns": null,
      "grid_template_rows": null,
      "height": null,
      "justify_content": null,
      "justify_items": null,
      "left": null,
      "margin": null,
      "max_height": null,
      "max_width": null,
      "min_height": null,
      "min_width": null,
      "object_fit": null,
      "object_position": null,
      "order": null,
      "overflow": null,
      "overflow_x": null,
      "overflow_y": null,
      "padding": null,
      "right": null,
      "top": null,
      "visibility": null,
      "width": null
     }
    },
    "8e13cc83c4604910956742b9a2e021d8": {
     "model_module": "@jupyter-widgets/controls",
     "model_module_version": "1.5.0",
     "model_name": "FloatProgressModel",
     "state": {
      "_dom_classes": [],
      "_model_module": "@jupyter-widgets/controls",
      "_model_module_version": "1.5.0",
      "_model_name": "FloatProgressModel",
      "_view_count": null,
      "_view_module": "@jupyter-widgets/controls",
      "_view_module_version": "1.5.0",
      "_view_name": "ProgressView",
      "bar_style": "success",
      "description": "",
      "description_tooltip": null,
      "layout": "IPY_MODEL_1cc57b497ad34e82875bf607580f6a6d",
      "max": 5,
      "min": 0,
      "orientation": "horizontal",
      "style": "IPY_MODEL_6fc26cd8b35d423f9855f86c7ea15ff6",
      "value": 5
     }
    },
    "8ead9898e9ec493f8a076fbc6333135d": {
     "model_module": "@jupyter-widgets/controls",
     "model_module_version": "1.5.0",
     "model_name": "ProgressStyleModel",
     "state": {
      "_model_module": "@jupyter-widgets/controls",
      "_model_module_version": "1.5.0",
      "_model_name": "ProgressStyleModel",
      "_view_count": null,
      "_view_module": "@jupyter-widgets/base",
      "_view_module_version": "1.2.0",
      "_view_name": "StyleView",
      "bar_color": null,
      "description_width": ""
     }
    },
    "93d312d2be9040508de4b5e37844721b": {
     "model_module": "@jupyter-widgets/base",
     "model_module_version": "1.2.0",
     "model_name": "LayoutModel",
     "state": {
      "_model_module": "@jupyter-widgets/base",
      "_model_module_version": "1.2.0",
      "_model_name": "LayoutModel",
      "_view_count": null,
      "_view_module": "@jupyter-widgets/base",
      "_view_module_version": "1.2.0",
      "_view_name": "LayoutView",
      "align_content": null,
      "align_items": null,
      "align_self": null,
      "border": null,
      "bottom": null,
      "display": null,
      "flex": null,
      "flex_flow": null,
      "grid_area": null,
      "grid_auto_columns": null,
      "grid_auto_flow": null,
      "grid_auto_rows": null,
      "grid_column": null,
      "grid_gap": null,
      "grid_row": null,
      "grid_template_areas": null,
      "grid_template_columns": null,
      "grid_template_rows": null,
      "height": null,
      "justify_content": null,
      "justify_items": null,
      "left": null,
      "margin": null,
      "max_height": null,
      "max_width": null,
      "min_height": null,
      "min_width": null,
      "object_fit": null,
      "object_position": null,
      "order": null,
      "overflow": null,
      "overflow_x": null,
      "overflow_y": null,
      "padding": null,
      "right": null,
      "top": null,
      "visibility": null,
      "width": null
     }
    },
    "94281b2c731a4854872d75a6056dbc24": {
     "model_module": "@jupyter-widgets/controls",
     "model_module_version": "1.5.0",
     "model_name": "FloatProgressModel",
     "state": {
      "_dom_classes": [],
      "_model_module": "@jupyter-widgets/controls",
      "_model_module_version": "1.5.0",
      "_model_name": "FloatProgressModel",
      "_view_count": null,
      "_view_module": "@jupyter-widgets/controls",
      "_view_module_version": "1.5.0",
      "_view_name": "ProgressView",
      "bar_style": "success",
      "description": "",
      "description_tooltip": null,
      "layout": "IPY_MODEL_4313493f722342378abaa3087fd93729",
      "max": 1,
      "min": 0,
      "orientation": "horizontal",
      "style": "IPY_MODEL_e1637e135dc74befb0ec3b02932ea5f6",
      "value": 1
     }
    },
    "9460b6b5e49647fe928ac98242c67180": {
     "model_module": "@jupyter-widgets/controls",
     "model_module_version": "1.5.0",
     "model_name": "DescriptionStyleModel",
     "state": {
      "_model_module": "@jupyter-widgets/controls",
      "_model_module_version": "1.5.0",
      "_model_name": "DescriptionStyleModel",
      "_view_count": null,
      "_view_module": "@jupyter-widgets/base",
      "_view_module_version": "1.2.0",
      "_view_name": "StyleView",
      "description_width": ""
     }
    },
    "968915709c5748ec8414c8d8700a67f2": {
     "model_module": "@jupyter-widgets/base",
     "model_module_version": "1.2.0",
     "model_name": "LayoutModel",
     "state": {
      "_model_module": "@jupyter-widgets/base",
      "_model_module_version": "1.2.0",
      "_model_name": "LayoutModel",
      "_view_count": null,
      "_view_module": "@jupyter-widgets/base",
      "_view_module_version": "1.2.0",
      "_view_name": "LayoutView",
      "align_content": null,
      "align_items": null,
      "align_self": null,
      "border": null,
      "bottom": null,
      "display": null,
      "flex": null,
      "flex_flow": null,
      "grid_area": null,
      "grid_auto_columns": null,
      "grid_auto_flow": null,
      "grid_auto_rows": null,
      "grid_column": null,
      "grid_gap": null,
      "grid_row": null,
      "grid_template_areas": null,
      "grid_template_columns": null,
      "grid_template_rows": null,
      "height": null,
      "justify_content": null,
      "justify_items": null,
      "left": null,
      "margin": null,
      "max_height": null,
      "max_width": null,
      "min_height": null,
      "min_width": null,
      "object_fit": null,
      "object_position": null,
      "order": null,
      "overflow": null,
      "overflow_x": null,
      "overflow_y": null,
      "padding": null,
      "right": null,
      "top": null,
      "visibility": null,
      "width": null
     }
    },
    "9e5d8029d3ee4ab4844bc1796fa8b99f": {
     "model_module": "@jupyter-widgets/controls",
     "model_module_version": "1.5.0",
     "model_name": "DescriptionStyleModel",
     "state": {
      "_model_module": "@jupyter-widgets/controls",
      "_model_module_version": "1.5.0",
      "_model_name": "DescriptionStyleModel",
      "_view_count": null,
      "_view_module": "@jupyter-widgets/base",
      "_view_module_version": "1.2.0",
      "_view_name": "StyleView",
      "description_width": ""
     }
    },
    "a0257f2adcb047029b5e26d781caa456": {
     "model_module": "@jupyter-widgets/controls",
     "model_module_version": "1.5.0",
     "model_name": "HBoxModel",
     "state": {
      "_dom_classes": [],
      "_model_module": "@jupyter-widgets/controls",
      "_model_module_version": "1.5.0",
      "_model_name": "HBoxModel",
      "_view_count": null,
      "_view_module": "@jupyter-widgets/controls",
      "_view_module_version": "1.5.0",
      "_view_name": "HBoxView",
      "box_style": "",
      "children": [
       "IPY_MODEL_299ca1e6211947a39b48ffb91ecb1860",
       "IPY_MODEL_8e13cc83c4604910956742b9a2e021d8",
       "IPY_MODEL_c1ef44908da14e1b9d00815f1f7d1b3b"
      ],
      "layout": "IPY_MODEL_300dfdf42cb2465c80d197a74ed6efe7"
     }
    },
    "a32cd7e493ff42bb9a3ce241ccfcc778": {
     "model_module": "@jupyter-widgets/controls",
     "model_module_version": "1.5.0",
     "model_name": "DescriptionStyleModel",
     "state": {
      "_model_module": "@jupyter-widgets/controls",
      "_model_module_version": "1.5.0",
      "_model_name": "DescriptionStyleModel",
      "_view_count": null,
      "_view_module": "@jupyter-widgets/base",
      "_view_module_version": "1.2.0",
      "_view_name": "StyleView",
      "description_width": ""
     }
    },
    "a89d29b7d42449c48c53e32988030d96": {
     "model_module": "@jupyter-widgets/controls",
     "model_module_version": "1.5.0",
     "model_name": "ProgressStyleModel",
     "state": {
      "_model_module": "@jupyter-widgets/controls",
      "_model_module_version": "1.5.0",
      "_model_name": "ProgressStyleModel",
      "_view_count": null,
      "_view_module": "@jupyter-widgets/base",
      "_view_module_version": "1.2.0",
      "_view_name": "StyleView",
      "bar_color": null,
      "description_width": ""
     }
    },
    "afac1dfe2bd54c63a512d9da9a9799a6": {
     "model_module": "@jupyter-widgets/controls",
     "model_module_version": "1.5.0",
     "model_name": "DescriptionStyleModel",
     "state": {
      "_model_module": "@jupyter-widgets/controls",
      "_model_module_version": "1.5.0",
      "_model_name": "DescriptionStyleModel",
      "_view_count": null,
      "_view_module": "@jupyter-widgets/base",
      "_view_module_version": "1.2.0",
      "_view_name": "StyleView",
      "description_width": ""
     }
    },
    "afea40085779485c84f2edf56c03defd": {
     "model_module": "@jupyter-widgets/base",
     "model_module_version": "1.2.0",
     "model_name": "LayoutModel",
     "state": {
      "_model_module": "@jupyter-widgets/base",
      "_model_module_version": "1.2.0",
      "_model_name": "LayoutModel",
      "_view_count": null,
      "_view_module": "@jupyter-widgets/base",
      "_view_module_version": "1.2.0",
      "_view_name": "LayoutView",
      "align_content": null,
      "align_items": null,
      "align_self": null,
      "border": null,
      "bottom": null,
      "display": null,
      "flex": null,
      "flex_flow": null,
      "grid_area": null,
      "grid_auto_columns": null,
      "grid_auto_flow": null,
      "grid_auto_rows": null,
      "grid_column": null,
      "grid_gap": null,
      "grid_row": null,
      "grid_template_areas": null,
      "grid_template_columns": null,
      "grid_template_rows": null,
      "height": null,
      "justify_content": null,
      "justify_items": null,
      "left": null,
      "margin": null,
      "max_height": null,
      "max_width": null,
      "min_height": null,
      "min_width": null,
      "object_fit": null,
      "object_position": null,
      "order": null,
      "overflow": null,
      "overflow_x": null,
      "overflow_y": null,
      "padding": null,
      "right": null,
      "top": null,
      "visibility": null,
      "width": null
     }
    },
    "b5ebad29d54d427a865966e41bddd8a2": {
     "model_module": "@jupyter-widgets/controls",
     "model_module_version": "1.5.0",
     "model_name": "HTMLModel",
     "state": {
      "_dom_classes": [],
      "_model_module": "@jupyter-widgets/controls",
      "_model_module_version": "1.5.0",
      "_model_name": "HTMLModel",
      "_view_count": null,
      "_view_module": "@jupyter-widgets/controls",
      "_view_module_version": "1.5.0",
      "_view_name": "HTMLView",
      "description": "",
      "description_tooltip": null,
      "layout": "IPY_MODEL_cec58a8e72a343fda437b7ca93f80ffa",
      "placeholder": "​",
      "style": "IPY_MODEL_73f064be99954e4da3dc05763623ce66",
      "value": "Aligning: 100%"
     }
    },
    "b708f079c0ce4281834a22fb1e324a89": {
     "model_module": "@jupyter-widgets/controls",
     "model_module_version": "1.5.0",
     "model_name": "ProgressStyleModel",
     "state": {
      "_model_module": "@jupyter-widgets/controls",
      "_model_module_version": "1.5.0",
      "_model_name": "ProgressStyleModel",
      "_view_count": null,
      "_view_module": "@jupyter-widgets/base",
      "_view_module_version": "1.2.0",
      "_view_name": "StyleView",
      "bar_color": null,
      "description_width": ""
     }
    },
    "be19f0d81cc94702a686ed4e4a359e0f": {
     "model_module": "@jupyter-widgets/controls",
     "model_module_version": "1.5.0",
     "model_name": "HBoxModel",
     "state": {
      "_dom_classes": [],
      "_model_module": "@jupyter-widgets/controls",
      "_model_module_version": "1.5.0",
      "_model_name": "HBoxModel",
      "_view_count": null,
      "_view_module": "@jupyter-widgets/controls",
      "_view_module_version": "1.5.0",
      "_view_name": "HBoxView",
      "box_style": "",
      "children": [
       "IPY_MODEL_87d267018cb44c0892b2ddf1a04e3a9b",
       "IPY_MODEL_28ec428bcbdc424590b809922bf5b230",
       "IPY_MODEL_50eb4f26300b45c497721c1a6c4e7039"
      ],
      "layout": "IPY_MODEL_12bb4be15b704f69a29d703fefabc4c4"
     }
    },
    "c1ef44908da14e1b9d00815f1f7d1b3b": {
     "model_module": "@jupyter-widgets/controls",
     "model_module_version": "1.5.0",
     "model_name": "HTMLModel",
     "state": {
      "_dom_classes": [],
      "_model_module": "@jupyter-widgets/controls",
      "_model_module_version": "1.5.0",
      "_model_name": "HTMLModel",
      "_view_count": null,
      "_view_module": "@jupyter-widgets/controls",
      "_view_module_version": "1.5.0",
      "_view_name": "HTMLView",
      "description": "",
      "description_tooltip": null,
      "layout": "IPY_MODEL_e768d69d79234040bd99baa41a139171",
      "placeholder": "​",
      "style": "IPY_MODEL_9460b6b5e49647fe928ac98242c67180",
      "value": " 5/5 [00:00&lt;00:00,  9.25it/s]"
     }
    },
    "c28298a4bdf842b0a2b3e3eb0fd0ecca": {
     "model_module": "@jupyter-widgets/base",
     "model_module_version": "1.2.0",
     "model_name": "LayoutModel",
     "state": {
      "_model_module": "@jupyter-widgets/base",
      "_model_module_version": "1.2.0",
      "_model_name": "LayoutModel",
      "_view_count": null,
      "_view_module": "@jupyter-widgets/base",
      "_view_module_version": "1.2.0",
      "_view_name": "LayoutView",
      "align_content": null,
      "align_items": null,
      "align_self": null,
      "border": null,
      "bottom": null,
      "display": null,
      "flex": null,
      "flex_flow": null,
      "grid_area": null,
      "grid_auto_columns": null,
      "grid_auto_flow": null,
      "grid_auto_rows": null,
      "grid_column": null,
      "grid_gap": null,
      "grid_row": null,
      "grid_template_areas": null,
      "grid_template_columns": null,
      "grid_template_rows": null,
      "height": null,
      "justify_content": null,
      "justify_items": null,
      "left": null,
      "margin": null,
      "max_height": null,
      "max_width": null,
      "min_height": null,
      "min_width": null,
      "object_fit": null,
      "object_position": null,
      "order": null,
      "overflow": null,
      "overflow_x": null,
      "overflow_y": null,
      "padding": null,
      "right": null,
      "top": null,
      "visibility": null,
      "width": null
     }
    },
    "cec58a8e72a343fda437b7ca93f80ffa": {
     "model_module": "@jupyter-widgets/base",
     "model_module_version": "1.2.0",
     "model_name": "LayoutModel",
     "state": {
      "_model_module": "@jupyter-widgets/base",
      "_model_module_version": "1.2.0",
      "_model_name": "LayoutModel",
      "_view_count": null,
      "_view_module": "@jupyter-widgets/base",
      "_view_module_version": "1.2.0",
      "_view_name": "LayoutView",
      "align_content": null,
      "align_items": null,
      "align_self": null,
      "border": null,
      "bottom": null,
      "display": null,
      "flex": null,
      "flex_flow": null,
      "grid_area": null,
      "grid_auto_columns": null,
      "grid_auto_flow": null,
      "grid_auto_rows": null,
      "grid_column": null,
      "grid_gap": null,
      "grid_row": null,
      "grid_template_areas": null,
      "grid_template_columns": null,
      "grid_template_rows": null,
      "height": null,
      "justify_content": null,
      "justify_items": null,
      "left": null,
      "margin": null,
      "max_height": null,
      "max_width": null,
      "min_height": null,
      "min_width": null,
      "object_fit": null,
      "object_position": null,
      "order": null,
      "overflow": null,
      "overflow_x": null,
      "overflow_y": null,
      "padding": null,
      "right": null,
      "top": null,
      "visibility": null,
      "width": null
     }
    },
    "d0ba9d3f82f940a69b34fd9c77a2b446": {
     "model_module": "@jupyter-widgets/controls",
     "model_module_version": "1.5.0",
     "model_name": "ProgressStyleModel",
     "state": {
      "_model_module": "@jupyter-widgets/controls",
      "_model_module_version": "1.5.0",
      "_model_name": "ProgressStyleModel",
      "_view_count": null,
      "_view_module": "@jupyter-widgets/base",
      "_view_module_version": "1.2.0",
      "_view_name": "StyleView",
      "bar_color": null,
      "description_width": ""
     }
    },
    "d800146d2a2c4436b2d4ba2a6d97e62b": {
     "model_module": "@jupyter-widgets/base",
     "model_module_version": "1.2.0",
     "model_name": "LayoutModel",
     "state": {
      "_model_module": "@jupyter-widgets/base",
      "_model_module_version": "1.2.0",
      "_model_name": "LayoutModel",
      "_view_count": null,
      "_view_module": "@jupyter-widgets/base",
      "_view_module_version": "1.2.0",
      "_view_name": "LayoutView",
      "align_content": null,
      "align_items": null,
      "align_self": null,
      "border": null,
      "bottom": null,
      "display": null,
      "flex": null,
      "flex_flow": null,
      "grid_area": null,
      "grid_auto_columns": null,
      "grid_auto_flow": null,
      "grid_auto_rows": null,
      "grid_column": null,
      "grid_gap": null,
      "grid_row": null,
      "grid_template_areas": null,
      "grid_template_columns": null,
      "grid_template_rows": null,
      "height": null,
      "justify_content": null,
      "justify_items": null,
      "left": null,
      "margin": null,
      "max_height": null,
      "max_width": null,
      "min_height": null,
      "min_width": null,
      "object_fit": null,
      "object_position": null,
      "order": null,
      "overflow": null,
      "overflow_x": null,
      "overflow_y": null,
      "padding": null,
      "right": null,
      "top": null,
      "visibility": null,
      "width": null
     }
    },
    "d9f36252748f49bb8f77b59cc1195be8": {
     "model_module": "@jupyter-widgets/base",
     "model_module_version": "1.2.0",
     "model_name": "LayoutModel",
     "state": {
      "_model_module": "@jupyter-widgets/base",
      "_model_module_version": "1.2.0",
      "_model_name": "LayoutModel",
      "_view_count": null,
      "_view_module": "@jupyter-widgets/base",
      "_view_module_version": "1.2.0",
      "_view_name": "LayoutView",
      "align_content": null,
      "align_items": null,
      "align_self": null,
      "border": null,
      "bottom": null,
      "display": null,
      "flex": null,
      "flex_flow": null,
      "grid_area": null,
      "grid_auto_columns": null,
      "grid_auto_flow": null,
      "grid_auto_rows": null,
      "grid_column": null,
      "grid_gap": null,
      "grid_row": null,
      "grid_template_areas": null,
      "grid_template_columns": null,
      "grid_template_rows": null,
      "height": null,
      "justify_content": null,
      "justify_items": null,
      "left": null,
      "margin": null,
      "max_height": null,
      "max_width": null,
      "min_height": null,
      "min_width": null,
      "object_fit": null,
      "object_position": null,
      "order": null,
      "overflow": null,
      "overflow_x": null,
      "overflow_y": null,
      "padding": null,
      "right": null,
      "top": null,
      "visibility": null,
      "width": null
     }
    },
    "dd5437207fff471ebf12fc84c69c82ba": {
     "model_module": "@jupyter-widgets/controls",
     "model_module_version": "1.5.0",
     "model_name": "HBoxModel",
     "state": {
      "_dom_classes": [],
      "_model_module": "@jupyter-widgets/controls",
      "_model_module_version": "1.5.0",
      "_model_name": "HBoxModel",
      "_view_count": null,
      "_view_module": "@jupyter-widgets/controls",
      "_view_module_version": "1.5.0",
      "_view_name": "HBoxView",
      "box_style": "",
      "children": [
       "IPY_MODEL_6c9752eca1d14f1d980a6d798983e566",
       "IPY_MODEL_04821a7406434d6694828baa9d6d18d6",
       "IPY_MODEL_e212b1d6b0b44501b9d0b0dbaba159b9"
      ],
      "layout": "IPY_MODEL_775e317ab17f4bfba2c585252bbfefba"
     }
    },
    "e1637e135dc74befb0ec3b02932ea5f6": {
     "model_module": "@jupyter-widgets/controls",
     "model_module_version": "1.5.0",
     "model_name": "ProgressStyleModel",
     "state": {
      "_model_module": "@jupyter-widgets/controls",
      "_model_module_version": "1.5.0",
      "_model_name": "ProgressStyleModel",
      "_view_count": null,
      "_view_module": "@jupyter-widgets/base",
      "_view_module_version": "1.2.0",
      "_view_name": "StyleView",
      "bar_color": null,
      "description_width": ""
     }
    },
    "e212b1d6b0b44501b9d0b0dbaba159b9": {
     "model_module": "@jupyter-widgets/controls",
     "model_module_version": "1.5.0",
     "model_name": "HTMLModel",
     "state": {
      "_dom_classes": [],
      "_model_module": "@jupyter-widgets/controls",
      "_model_module_version": "1.5.0",
      "_model_name": "HTMLModel",
      "_view_count": null,
      "_view_module": "@jupyter-widgets/controls",
      "_view_module_version": "1.5.0",
      "_view_name": "HTMLView",
      "description": "",
      "description_tooltip": null,
      "layout": "IPY_MODEL_70552f53ef02408f8157becac1e4cba8",
      "placeholder": "​",
      "style": "IPY_MODEL_33d0a04c6a2c4c63bd97f86ab0a2938f",
      "value": " 9/9 [15:50&lt;00:00, 110.18s/it]"
     }
    },
    "e2903f2bdd93458084d6fd6eb28e78ad": {
     "model_module": "@jupyter-widgets/base",
     "model_module_version": "1.2.0",
     "model_name": "LayoutModel",
     "state": {
      "_model_module": "@jupyter-widgets/base",
      "_model_module_version": "1.2.0",
      "_model_name": "LayoutModel",
      "_view_count": null,
      "_view_module": "@jupyter-widgets/base",
      "_view_module_version": "1.2.0",
      "_view_name": "LayoutView",
      "align_content": null,
      "align_items": null,
      "align_self": null,
      "border": null,
      "bottom": null,
      "display": null,
      "flex": null,
      "flex_flow": null,
      "grid_area": null,
      "grid_auto_columns": null,
      "grid_auto_flow": null,
      "grid_auto_rows": null,
      "grid_column": null,
      "grid_gap": null,
      "grid_row": null,
      "grid_template_areas": null,
      "grid_template_columns": null,
      "grid_template_rows": null,
      "height": null,
      "justify_content": null,
      "justify_items": null,
      "left": null,
      "margin": null,
      "max_height": null,
      "max_width": null,
      "min_height": null,
      "min_width": null,
      "object_fit": null,
      "object_position": null,
      "order": null,
      "overflow": null,
      "overflow_x": null,
      "overflow_y": null,
      "padding": null,
      "right": null,
      "top": null,
      "visibility": null,
      "width": null
     }
    },
    "e43f387d1bf44b72b00e743397e19f23": {
     "model_module": "@jupyter-widgets/base",
     "model_module_version": "1.2.0",
     "model_name": "LayoutModel",
     "state": {
      "_model_module": "@jupyter-widgets/base",
      "_model_module_version": "1.2.0",
      "_model_name": "LayoutModel",
      "_view_count": null,
      "_view_module": "@jupyter-widgets/base",
      "_view_module_version": "1.2.0",
      "_view_name": "LayoutView",
      "align_content": null,
      "align_items": null,
      "align_self": null,
      "border": null,
      "bottom": null,
      "display": null,
      "flex": null,
      "flex_flow": null,
      "grid_area": null,
      "grid_auto_columns": null,
      "grid_auto_flow": null,
      "grid_auto_rows": null,
      "grid_column": null,
      "grid_gap": null,
      "grid_row": null,
      "grid_template_areas": null,
      "grid_template_columns": null,
      "grid_template_rows": null,
      "height": null,
      "justify_content": null,
      "justify_items": null,
      "left": null,
      "margin": null,
      "max_height": null,
      "max_width": null,
      "min_height": null,
      "min_width": null,
      "object_fit": null,
      "object_position": null,
      "order": null,
      "overflow": null,
      "overflow_x": null,
      "overflow_y": null,
      "padding": null,
      "right": null,
      "top": null,
      "visibility": null,
      "width": null
     }
    },
    "e5a99daed9cc4323bebab9d15c2e10e0": {
     "model_module": "@jupyter-widgets/base",
     "model_module_version": "1.2.0",
     "model_name": "LayoutModel",
     "state": {
      "_model_module": "@jupyter-widgets/base",
      "_model_module_version": "1.2.0",
      "_model_name": "LayoutModel",
      "_view_count": null,
      "_view_module": "@jupyter-widgets/base",
      "_view_module_version": "1.2.0",
      "_view_name": "LayoutView",
      "align_content": null,
      "align_items": null,
      "align_self": null,
      "border": null,
      "bottom": null,
      "display": null,
      "flex": null,
      "flex_flow": null,
      "grid_area": null,
      "grid_auto_columns": null,
      "grid_auto_flow": null,
      "grid_auto_rows": null,
      "grid_column": null,
      "grid_gap": null,
      "grid_row": null,
      "grid_template_areas": null,
      "grid_template_columns": null,
      "grid_template_rows": null,
      "height": null,
      "justify_content": null,
      "justify_items": null,
      "left": null,
      "margin": null,
      "max_height": null,
      "max_width": null,
      "min_height": null,
      "min_width": null,
      "object_fit": null,
      "object_position": null,
      "order": null,
      "overflow": null,
      "overflow_x": null,
      "overflow_y": null,
      "padding": null,
      "right": null,
      "top": null,
      "visibility": null,
      "width": null
     }
    },
    "e768d69d79234040bd99baa41a139171": {
     "model_module": "@jupyter-widgets/base",
     "model_module_version": "1.2.0",
     "model_name": "LayoutModel",
     "state": {
      "_model_module": "@jupyter-widgets/base",
      "_model_module_version": "1.2.0",
      "_model_name": "LayoutModel",
      "_view_count": null,
      "_view_module": "@jupyter-widgets/base",
      "_view_module_version": "1.2.0",
      "_view_name": "LayoutView",
      "align_content": null,
      "align_items": null,
      "align_self": null,
      "border": null,
      "bottom": null,
      "display": null,
      "flex": null,
      "flex_flow": null,
      "grid_area": null,
      "grid_auto_columns": null,
      "grid_auto_flow": null,
      "grid_auto_rows": null,
      "grid_column": null,
      "grid_gap": null,
      "grid_row": null,
      "grid_template_areas": null,
      "grid_template_columns": null,
      "grid_template_rows": null,
      "height": null,
      "justify_content": null,
      "justify_items": null,
      "left": null,
      "margin": null,
      "max_height": null,
      "max_width": null,
      "min_height": null,
      "min_width": null,
      "object_fit": null,
      "object_position": null,
      "order": null,
      "overflow": null,
      "overflow_x": null,
      "overflow_y": null,
      "padding": null,
      "right": null,
      "top": null,
      "visibility": null,
      "width": null
     }
    },
    "ebd6300dfeec459b80ae13475ed1d4aa": {
     "model_module": "@jupyter-widgets/controls",
     "model_module_version": "1.5.0",
     "model_name": "HTMLModel",
     "state": {
      "_dom_classes": [],
      "_model_module": "@jupyter-widgets/controls",
      "_model_module_version": "1.5.0",
      "_model_name": "HTMLModel",
      "_view_count": null,
      "_view_module": "@jupyter-widgets/controls",
      "_view_module_version": "1.5.0",
      "_view_name": "HTMLView",
      "description": "",
      "description_tooltip": null,
      "layout": "IPY_MODEL_e5a99daed9cc4323bebab9d15c2e10e0",
      "placeholder": "​",
      "style": "IPY_MODEL_9e5d8029d3ee4ab4844bc1796fa8b99f",
      "value": "Transforming Coordinates: 100%"
     }
    },
    "ef0e89422fab402689fb8b7c92b3080d": {
     "model_module": "@jupyter-widgets/controls",
     "model_module_version": "1.5.0",
     "model_name": "FloatProgressModel",
     "state": {
      "_dom_classes": [],
      "_model_module": "@jupyter-widgets/controls",
      "_model_module_version": "1.5.0",
      "_model_name": "FloatProgressModel",
      "_view_count": null,
      "_view_module": "@jupyter-widgets/controls",
      "_view_module_version": "1.5.0",
      "_view_name": "ProgressView",
      "bar_style": "success",
      "description": "",
      "description_tooltip": null,
      "layout": "IPY_MODEL_afea40085779485c84f2edf56c03defd",
      "max": 4,
      "min": 0,
      "orientation": "horizontal",
      "style": "IPY_MODEL_b708f079c0ce4281834a22fb1e324a89",
      "value": 4
     }
    },
    "f7320718c95b446dbef4a495d2ebadc8": {
     "model_module": "@jupyter-widgets/controls",
     "model_module_version": "1.5.0",
     "model_name": "HBoxModel",
     "state": {
      "_dom_classes": [],
      "_model_module": "@jupyter-widgets/controls",
      "_model_module_version": "1.5.0",
      "_model_name": "HBoxModel",
      "_view_count": null,
      "_view_module": "@jupyter-widgets/controls",
      "_view_module_version": "1.5.0",
      "_view_name": "HBoxView",
      "box_style": "",
      "children": [
       "IPY_MODEL_402d1d4ed2e04c189e0d710e92e91a95",
       "IPY_MODEL_4c955a3466f946cc87c2d0f3a83ed384",
       "IPY_MODEL_7070b1eb6d2d442384c452c527d6fdde"
      ],
      "layout": "IPY_MODEL_131ac2c23f064438b6c58a08ee6bb60e"
     }
    },
    "fa9ad651a33142af9d9598472d68c2e4": {
     "model_module": "@jupyter-widgets/controls",
     "model_module_version": "1.5.0",
     "model_name": "DescriptionStyleModel",
     "state": {
      "_model_module": "@jupyter-widgets/controls",
      "_model_module_version": "1.5.0",
      "_model_name": "DescriptionStyleModel",
      "_view_count": null,
      "_view_module": "@jupyter-widgets/base",
      "_view_module_version": "1.2.0",
      "_view_name": "StyleView",
      "description_width": ""
     }
    }
   }
  }
 },
 "nbformat": 4,
 "nbformat_minor": 1
}
