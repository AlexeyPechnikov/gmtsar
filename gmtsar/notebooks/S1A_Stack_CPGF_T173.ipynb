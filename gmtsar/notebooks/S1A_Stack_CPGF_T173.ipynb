{
 "cells": [
  {
   "cell_type": "markdown",
   "metadata": {},
   "source": [
    "# PyGMTSAR Python Notebook S1A_Stack_CPGF_T173\n",
    "\n",
    "```\n",
    "It works on\n",
    "\n",
    "* MacOS Catalina (Python 3.9) - please pre-install system dependencies (maybe using HomeBrew)\n",
    "\n",
    "* Google Cloud Notebooks on Debian 10 (Python 3.7) - use the cloud init script from my repository https://github.com/mobigroup/gmtsar/blob/master/gmtsar/sh/GMTSAR.install.debian10.sh\n",
    "\n",
    "* Google Colab (Python 3.7) - you will be asked to re-run the notebook once using menu \"Kernel\" -> \"Restart and Run All\". Note: to open all notebook cells select menu \"View\" -> \"Expand Sections\"\n",
    "```"
   ]
  },
  {
   "cell_type": "markdown",
   "metadata": {},
   "source": [
    "> ### I'm a freelancer and that's my free time Open Source project with GPL-3.0 License. You are able to sponsor my projects on [Patreon: Become a Patron!](https://www.patreon.com/bePatron?u=54500608) and order research, development and support on [Upwork](https://www.upwork.com/freelancers/~01e65e8e7221758623)\n",
    ">\n",
    "> ### @ Alexey Pechnikov, Sep, 2021\n",
    "> \n",
    "> [Geological models on YouTube channel](https://www.youtube.com/channel/UCSEeXKAn9f_bDiTjT6l87Lg)\n",
    ">\n",
    "> [Augmented Reality (AR) Geological Models](https://mobigroup.github.io/ParaView-Blender-AR/)\n",
    ">\n",
    "> [GitHub repositories](https://github.com/mobigroup)\n",
    ">\n",
    "> [English posts and articles](https://www.linkedin.com/in/alexey-pechnikov/)\n",
    ">\n",
    "> [Russian articles](https://habr.com/ru/users/N-Cube/posts/)"
   ]
  },
  {
   "cell_type": "markdown",
   "metadata": {},
   "source": [
    "## Debian 10 and Google Colab GMTSAR Installation"
   ]
  },
  {
   "cell_type": "markdown",
   "metadata": {},
   "source": [
    "### On Google Cloud AI Notebooks: check root access\n",
    "\n",
    "```On Google Cloud AI Notebooks sometimes we have an issue when \"sudo\" requires a password. In this case drop the instance and create a new one and - that's important - wait 5-10 minutes before connect to it using link \"OPEN JUPYTERLAB\"```"
   ]
  },
  {
   "cell_type": "code",
   "execution_count": null,
   "metadata": {},
   "outputs": [],
   "source": [
    "uname = !uname\n",
    "if uname == ['Linux']:\n",
    "    !sudo date"
   ]
  },
  {
   "cell_type": "markdown",
   "metadata": {},
   "source": [
    "### Install https://github.com/mobigroup/gmtsar"
   ]
  },
  {
   "cell_type": "code",
   "execution_count": null,
   "metadata": {},
   "outputs": [],
   "source": [
    "uname = !uname\n",
    "count = !ls /usr/local | grep GMTSAR | wc -l\n",
    "if uname == ['Linux'] and count == ['0']:\n",
    "    !apt install -y csh autoconf gfortran \\\n",
    "        libtiff5-dev libhdf5-dev liblapack-dev libgmt-dev gmt-dcw gmt-gshhg gmt > /dev/null\n",
    "    !cd /usr/local && git clone --branch master https://github.com/mobigroup/gmtsar GMTSAR > /dev/null\n",
    "    !cd /usr/local/GMTSAR && autoconf > /dev/null\n",
    "    !cd /usr/local/GMTSAR && ./configure --with-orbits-dir=/tmp > /dev/null\n",
    "    !cd /usr/local/GMTSAR && make 1>/dev/null 2>/dev/null\n",
    "    !cd /usr/local/GMTSAR && make install >/dev/null"
   ]
  },
  {
   "cell_type": "markdown",
   "metadata": {},
   "source": [
    "## Download and unpack the example, create processing directory"
   ]
  },
  {
   "cell_type": "code",
   "execution_count": null,
   "metadata": {},
   "outputs": [],
   "source": [
    "count = !ls | grep S1A_Stack_CPGF_T173.tar.gz | wc -l\n",
    "if count == ['0']:\n",
    "    print ('Downloading the example...')\n",
    "    !wget -c http://topex.ucsd.edu/gmtsar/tar/S1A_Stack_CPGF_T173.tar.gz\n",
    "    !tar xvzf S1A_Stack_CPGF_T173.tar.gz -C .\n",
    "\n",
    "# optionally recreate processing directory for fresh run\n",
    "!rm -rf raw\n",
    "!mkdir -p raw"
   ]
  },
  {
   "cell_type": "markdown",
   "metadata": {},
   "source": [
    "## Define ENV Variables for Jupyter Instance"
   ]
  },
  {
   "cell_type": "code",
   "execution_count": null,
   "metadata": {},
   "outputs": [],
   "source": [
    "import os\n",
    "\n",
    "# use default GMTSAR installation path\n",
    "GMTSAR = '/usr/local/GMTSAR'\n",
    "PATH = os.environ['PATH']\n",
    "\n",
    "if PATH.find('GMTSAR') == -1:\n",
    "    PATH = os.environ['PATH'] + f':{GMTSAR}/bin/'\n",
    "    %env PATH {PATH}\n",
    "    %env GMTSAR {GMTSAR}"
   ]
  },
  {
   "cell_type": "markdown",
   "metadata": {},
   "source": [
    "## Install Python Modules\n",
    "\n",
    "```Maybe you need to restart your notebook, follow the instructions printing below```\n",
    "\n",
    "```The installation takes a long time on fresh Debian 10 and a short time on Google Colab```"
   ]
  },
  {
   "cell_type": "code",
   "execution_count": null,
   "metadata": {},
   "outputs": [],
   "source": [
    "import sys\n",
    "!{sys.executable} --version"
   ]
  },
  {
   "cell_type": "code",
   "execution_count": null,
   "metadata": {},
   "outputs": [],
   "source": [
    "#!{sys.executable} -m pip install --upgrade pip setuptools wheel 1>/dev/null 2>/dev/null\n",
    "!{sys.executable} -m pip install cartopy==0.19.0.post1 1>/dev/null 2>/dev/null\n",
    "!{sys.executable} -m pip install xarray==0.19.0        1>/dev/null 2>/dev/null\n",
    "!{sys.executable} -m pip install scipy==1.7.1          1>/dev/null 2>/dev/null"
   ]
  },
  {
   "cell_type": "code",
   "execution_count": null,
   "metadata": {},
   "outputs": [],
   "source": [
    "!{sys.executable} -m pip install \\\n",
    "    h5py netcdf4 h5netcdf \\\n",
    "    rasterio rioxarray numpy \\\n",
    "    scikit-image scipy sklearn \\\n",
    "    xarray dask distributed zarr \\\n",
    "    pandas geopandas \\\n",
    "    sentineleof elevation \\\n",
    "    matplotlib seaborn geoviews hvplot datashader bokeh \\\n",
    "    xmltodict joblib tqdm 1>/dev/null 2>/dev/null"
   ]
  },
  {
   "cell_type": "markdown",
   "metadata": {},
   "source": [
    "### On Google Colab: kernel restart required once\n",
    "```On Google Colab we need to restart kernel once when all the modules installed```"
   ]
  },
  {
   "cell_type": "code",
   "execution_count": null,
   "metadata": {},
   "outputs": [],
   "source": [
    "import xarray\n",
    "print (xarray.__version__)\n",
    "assert xarray.__version__ == '0.19.0', \"\"\"\n",
    "***********************************************************************************\n",
    "*\n",
    "Do not worry, just restart the notebook kernel once (Kernel -> Restart and Run All)\n",
    "*\n",
    "***********************************************************************************\n",
    "\"\"\""
   ]
  },
  {
   "cell_type": "markdown",
   "metadata": {},
   "source": [
    "## Load and Setup Python Modules"
   ]
  },
  {
   "cell_type": "code",
   "execution_count": null,
   "metadata": {},
   "outputs": [],
   "source": [
    "import xarray as xr\n",
    "import numpy as np\n",
    "import pandas as pd\n",
    "# supress numpy warnings\n",
    "import warnings\n",
    "warnings.filterwarnings('ignore')"
   ]
  },
  {
   "cell_type": "code",
   "execution_count": null,
   "metadata": {},
   "outputs": [],
   "source": [
    "# plotting modules\n",
    "import hvplot.pandas  # noqa\n",
    "import hvplot.xarray  # noqa\n",
    "import holoviews as hv\n",
    "from holoviews import opts\n",
    "from bokeh.models import FixedTicker\n",
    "hv.extension('bokeh', 'matplotlib')\n",
    "#pd.options.plotting.backend = 'holoviews'\n",
    "pd.options.plotting.backend = 'hvplot'\n",
    "import seaborn as sns\n",
    "import cartopy.crs as ccrs\n",
    "from IPython.display import Image\n",
    "import matplotlib.pyplot as plt\n",
    "import matplotlib\n",
    "%matplotlib inline"
   ]
  },
  {
   "cell_type": "code",
   "execution_count": null,
   "metadata": {},
   "outputs": [],
   "source": [
    "# define Pandas display settings\n",
    "pd.set_option('display.max_rows', 50)\n",
    "pd.set_option('display.max_columns', None)\n",
    "pd.set_option('display.width', None)\n",
    "pd.set_option('display.max_colwidth', None)\n",
    "\n",
    "gstiles = hv.Tiles('https://mt1.google.com/vt/lyrs=s&x={X}&y={Y}&z={Z}', name='Google Satellite')\n",
    "ottiles = hv.Tiles('https://tile.opentopomap.org/{Z}/{X}/{Y}.png', name='Open Topo')"
   ]
  },
  {
   "cell_type": "markdown",
   "metadata": {},
   "source": [
    "## Load Custom Python Modules"
   ]
  },
  {
   "cell_type": "code",
   "execution_count": null,
   "metadata": {},
   "outputs": [],
   "source": [
    "sys.path.append(os.path.join(os.environ['GMTSAR'],'gmtsar', 'py'))\n",
    "\n",
    "from PRM import PRM\n",
    "from SBAS import SBAS"
   ]
  },
  {
   "cell_type": "markdown",
   "metadata": {},
   "source": [
    "## Define Parameters"
   ]
  },
  {
   "cell_type": "code",
   "execution_count": null,
   "metadata": {},
   "outputs": [],
   "source": [
    "MASTER       = '2015-04-03'\n",
    "WORKDIR      = 'raw'\n",
    "DATADIR      = 'raw_orig'\n",
    "DEMFILE      = 'topo/dem.grd'\n",
    "BASEDAYS     = 100\n",
    "BASEMETERS   = 150\n",
    "CORRLIMIT    = 0.10\n",
    "DEFOMAX      = 0"
   ]
  },
  {
   "cell_type": "markdown",
   "metadata": {},
   "source": [
    "## Init SBAS"
   ]
  },
  {
   "cell_type": "code",
   "execution_count": null,
   "metadata": {},
   "outputs": [],
   "source": [
    "sbas = SBAS(DATADIR, DEMFILE, WORKDIR).set_master(MASTER)\n",
    "sbas.to_dataframe()"
   ]
  },
  {
   "cell_type": "markdown",
   "metadata": {},
   "source": [
    "### Static Plots"
   ]
  },
  {
   "cell_type": "code",
   "execution_count": null,
   "metadata": {},
   "outputs": [],
   "source": [
    "plt.figure(figsize=(12,4), dpi=300)\n",
    "sbas.get_dem()[::4,::4].plot.imshow(cmap='Blues_r', vmin=0)\n",
    "plt.scatter(sbas.geoloc()['longitude'], sbas.geoloc()['latitude'], c=sbas.geoloc()['pixel'], cmap='jet')\n",
    "plt.title('Sentinel1 Frame on DEM plus GCP', fontsize=18)\n",
    "plt.show()"
   ]
  },
  {
   "cell_type": "code",
   "execution_count": null,
   "metadata": {},
   "outputs": [],
   "source": [
    "plt.figure(figsize=(12,4), dpi=300)\n",
    "sbas.get_dem(geoloc=True)[::4,::4].plot.imshow(cmap='Blues_r', vmin=0)\n",
    "plt.scatter(sbas.geoloc()['longitude'], sbas.geoloc()['latitude'], c=sbas.geoloc()['pixel'], cmap='jet')\n",
    "plt.title('Sentinel1 Frame DEM cropped using GCP', fontsize=18)\n",
    "plt.show()"
   ]
  },
  {
   "cell_type": "markdown",
   "metadata": {},
   "source": [
    "### Interactive Plots\n",
    "\n",
    "```Be careful because these plots require more RAM to be visualized```"
   ]
  },
  {
   "cell_type": "raw",
   "metadata": {},
   "source": [
    "title = 'Sentinel1 Frame on DEM plus GCP'\n",
    "#https://holoviz.org/tutorial/Composing_Plots.html\n",
    "sbas.get_dem()[::4,::4].hvplot(invert=True, cmap='kbc', alpha=1, title=title) * \\\n",
    "    sbas.geoloc().plot.scatter(y='longitude', x='latitude', c='pixel', cmap='jet')"
   ]
  },
  {
   "cell_type": "raw",
   "metadata": {},
   "source": [
    "title = 'Sentinel1 Frame DEM cropped using GCP'\n",
    "#https://holoviz.org/tutorial/Composing_Plots.html\n",
    "sbas.get_dem(geoloc=True)[::4,::4].hvplot(invert=True, cmap='kbc', alpha=1, title=title) * \\\n",
    "    sbas.geoloc().plot.scatter(y='longitude', x='latitude', c='pixel', cmap='jet')"
   ]
  },
  {
   "cell_type": "markdown",
   "metadata": {},
   "source": [
    "## Stack Images (for a single subswath only)"
   ]
  },
  {
   "cell_type": "code",
   "execution_count": null,
   "metadata": {},
   "outputs": [],
   "source": [
    "sbas.stack_parallel()"
   ]
  },
  {
   "cell_type": "markdown",
   "metadata": {},
   "source": [
    "## SBAS Baseline"
   ]
  },
  {
   "cell_type": "code",
   "execution_count": null,
   "metadata": {},
   "outputs": [],
   "source": [
    "baseline_pairs = sbas.baseline_pairs(days=BASEDAYS, meters=BASEMETERS)\n",
    "baseline_pairs"
   ]
  },
  {
   "cell_type": "markdown",
   "metadata": {},
   "source": [
    "### Static Plot"
   ]
  },
  {
   "cell_type": "code",
   "execution_count": null,
   "metadata": {},
   "outputs": [],
   "source": [
    "plt.figure(figsize=(12,4), dpi=300)\n",
    "ax = plt.gca()\n",
    "\n",
    "lines = [[(row.ref_timeline,row.ref_baseline),(row.rep_timeline,row.rep_baseline)]\n",
    "         for row in baseline_pairs.itertuples()]\n",
    "lc = matplotlib.collections.LineCollection(lines, colors='#30a2da', linewidths=1.5)\n",
    "ax.add_collection(lc)\n",
    "ax.autoscale()\n",
    "ax.margins(0.5)\n",
    "bs1 = baseline_pairs[['ref_timeline','ref_baseline','ref_date']].values\n",
    "bs2 = baseline_pairs[['rep_timeline','rep_baseline','rep_date']].values\n",
    "df = pd.DataFrame(np.concatenate([bs1, bs2]), columns=['timeline','baseline','date']).drop_duplicates()\n",
    "for x,y,label in df.values:\n",
    "    plt.annotate(label, (x,y), textcoords=\"offset points\", xytext=(40,5), ha='center')\n",
    "ax.set_xlabel('Timeline', fontsize=16)\n",
    "ax.set_ylabel('Perpendicular Baseline, [m]', fontsize=16)\n",
    "ax.set_title('SBAS Baseline', fontsize=18)\n",
    "plt.show()"
   ]
  },
  {
   "cell_type": "markdown",
   "metadata": {},
   "source": [
    "## DEM in Radar Coordinates"
   ]
  },
  {
   "cell_type": "code",
   "execution_count": null,
   "metadata": {},
   "outputs": [],
   "source": [
    "%%time\n",
    "\n",
    "sbas.topo_ra()"
   ]
  },
  {
   "cell_type": "markdown",
   "metadata": {},
   "source": [
    "### Load Grids"
   ]
  },
  {
   "cell_type": "code",
   "execution_count": null,
   "metadata": {},
   "outputs": [],
   "source": [
    "topo_ra = xr.open_dataarray(f'{WORKDIR}/topo_ra.grd')"
   ]
  },
  {
   "cell_type": "markdown",
   "metadata": {},
   "source": [
    "### Static Plot"
   ]
  },
  {
   "cell_type": "code",
   "execution_count": null,
   "metadata": {},
   "outputs": [],
   "source": [
    "plt.figure(figsize=(12,4), dpi=300)\n",
    "topo_ra[::4,::4].plot.imshow(cmap='Blues_r', vmin=0)\n",
    "plt.xlabel('Range', fontsize=16)\n",
    "plt.ylabel('Azimuth', fontsize=16)\n",
    "plt.title('Topography in Radar Coordinates', fontsize=18)\n",
    "plt.show()"
   ]
  },
  {
   "cell_type": "markdown",
   "metadata": {},
   "source": [
    "### Interactive Plots\n",
    "\n",
    "```Be careful because these plots require more RAM to be visualized```"
   ]
  },
  {
   "cell_type": "raw",
   "metadata": {},
   "source": [
    "plot_opts = {'rasterize': True, 'xlabel':'Range', 'ylabel':'Azimuth', 'width':500, 'height':400}\n",
    "topo_ra[::4,::4].hvplot(cmap='kbc', title='Topography in Radar Coordinates', **plot_opts)"
   ]
  },
  {
   "cell_type": "markdown",
   "metadata": {},
   "source": [
    "## Interferograms"
   ]
  },
  {
   "cell_type": "code",
   "execution_count": null,
   "metadata": {},
   "outputs": [],
   "source": [
    "pairs = baseline_pairs[['ref_date', 'rep_date']]\n",
    "pairs"
   ]
  },
  {
   "cell_type": "code",
   "execution_count": null,
   "metadata": {},
   "outputs": [],
   "source": [
    "# we can just miss \"func\" argument when post-processing is not required\n",
    "# define a postprocessing function for decimation, etc.\n",
    "decimator = lambda dataarray: dataarray.coarsen({'y': 4, 'x': 4}, boundary='trim').mean()\n",
    "\n",
    "# default parameters: wavelength=200, psize=32, func=None (no postprocessing)\n",
    "sbas.intf_parallel(pairs, wavelength=400, func=decimator)"
   ]
  },
  {
   "cell_type": "markdown",
   "metadata": {},
   "source": [
    "### Load Grids"
   ]
  },
  {
   "cell_type": "code",
   "execution_count": null,
   "metadata": {},
   "outputs": [],
   "source": [
    "# TODO: add geocode=True/False argument\n",
    "phasefilts = sbas.open_grids(pairs, 'phasefilt')"
   ]
  },
  {
   "cell_type": "markdown",
   "metadata": {},
   "source": [
    "### Static Plots"
   ]
  },
  {
   "cell_type": "code",
   "execution_count": null,
   "metadata": {},
   "outputs": [],
   "source": [
    "fg = phasefilts.plot.imshow(\n",
    "    col=\"pair\",\n",
    "    col_wrap=3, size=4, aspect=1.2,\n",
    "    vmin=-np.pi, vmax=np.pi, cmap='gist_rainbow_r'\n",
    ")\n",
    "fg.set_axis_labels(x_var='Range', y_var='Azimuth')\n",
    "fg.set_ticks(max_xticks=5, max_yticks=5, fontsize='medium')\n",
    "fg.fig.suptitle('Filtered Phase, [rad]', y=1.05, fontsize=24)\n",
    "plt.show()"
   ]
  },
  {
   "cell_type": "markdown",
   "metadata": {},
   "source": [
    "### Interactive Plots\n",
    "\n",
    "```Be careful because these plots require more RAM to be visualized```"
   ]
  },
  {
   "cell_type": "raw",
   "metadata": {},
   "source": [
    "phasefilts\\\n",
    "    .hvplot(by='pair', width=320, height=280, subplots=True,\n",
    "            xlabel='Range', ylabel='Azimuth',\n",
    "            clim=(-np.pi,np.pi), cmap='gist_rainbow_r')\\\n",
    "    .cols(3).opts(title='Filtered Phase, [rad]')"
   ]
  },
  {
   "cell_type": "markdown",
   "metadata": {},
   "source": [
    "### Load Correlation Grids"
   ]
  },
  {
   "cell_type": "code",
   "execution_count": null,
   "metadata": {},
   "outputs": [],
   "source": [
    "corrs = sbas.open_grids(pairs, 'corr')"
   ]
  },
  {
   "cell_type": "markdown",
   "metadata": {},
   "source": [
    "### Static Plots"
   ]
  },
  {
   "cell_type": "code",
   "execution_count": null,
   "metadata": {},
   "outputs": [],
   "source": [
    "fg = corrs.plot.imshow(\n",
    "    col=\"pair\",\n",
    "    col_wrap=3, size=4, aspect=1.2,\n",
    "    clim=(0, 0.8), cmap='gray'\n",
    ")\n",
    "fg.set_axis_labels(x_var='Range', y_var='Azimuth')\n",
    "fg.set_ticks(max_xticks=5, max_yticks=5, fontsize='medium')\n",
    "fg.fig.suptitle('Correlation', y=1.05, fontsize=24)\n",
    "plt.show()"
   ]
  },
  {
   "cell_type": "markdown",
   "metadata": {},
   "source": [
    "### Interactive Plots\n",
    "\n",
    "```Be careful because these plots require more RAM to be visualized```"
   ]
  },
  {
   "cell_type": "raw",
   "metadata": {},
   "source": [
    "corrs\\\n",
    "    .hvplot(by='pair', width=320, height=280, subplots=True,\n",
    "            xlabel='Range', ylabel='Azimuth',\n",
    "            clim=(0, 0.8), cmap='gray')\\\n",
    "    .cols(3).opts(title='Correlation')"
   ]
  },
  {
   "cell_type": "markdown",
   "metadata": {},
   "source": [
    "## Unwrapping"
   ]
  },
  {
   "cell_type": "code",
   "execution_count": null,
   "metadata": {},
   "outputs": [],
   "source": [
    "# generate a custom snaphu config file and use it as argument \"conf\" value\n",
    "# conf = self.PRM().snaphu_config(defomax=0)\n",
    "\n",
    "# we can just miss \"func\" argument when post-processing is not required\n",
    "# define a post-processing function to crop and interpolate low-coherence areas, etc.\n",
    "cleaner = lambda corr, unwrap: xr.where(corr>=CORRLIMIT, unwrap, np.nan)\n",
    "#cleaner = lambda corr, unwrap: sbas.nearest_grid(xr.where(corr>=CORRLIMIT, unwrap, np.nan))\n",
    "\n",
    "# default parameters: threshold=0.1, conf=None, func=None (no postprocessing required)\n",
    "sbas.unwrap_parallel(pairs, threshold=CORRLIMIT, func=cleaner)"
   ]
  },
  {
   "cell_type": "markdown",
   "metadata": {},
   "source": [
    "### Load Grids"
   ]
  },
  {
   "cell_type": "code",
   "execution_count": null,
   "metadata": {},
   "outputs": [],
   "source": [
    "unwraps = sbas.open_grids(pairs, 'unwrap')"
   ]
  },
  {
   "cell_type": "markdown",
   "metadata": {},
   "source": [
    "### Static Plots"
   ]
  },
  {
   "cell_type": "code",
   "execution_count": null,
   "metadata": {},
   "outputs": [],
   "source": [
    "zmin, zmax = np.nanquantile(unwraps, [0.01, 0.99])\n",
    "fg = unwraps.plot.imshow(\n",
    "    col=\"pair\",\n",
    "    col_wrap=3, size=4, aspect=1.2,\n",
    "    vmin=zmin, vmax=zmax, cmap='jet'\n",
    ")\n",
    "fg.set_axis_labels(x_var='Range', y_var='Azimuth')\n",
    "fg.set_ticks(max_xticks=5, max_yticks=5, fontsize='medium')\n",
    "fg.fig.suptitle('Unwrapped Phase, [rad]', y=1.05, fontsize=24)\n",
    "plt.show()"
   ]
  },
  {
   "cell_type": "markdown",
   "metadata": {},
   "source": [
    "### Interactive Plots\n",
    "\n",
    "```Be careful because these plots require more RAM to be visualized```"
   ]
  },
  {
   "cell_type": "raw",
   "metadata": {},
   "source": [
    "unwraps\\\n",
    "    .hvplot(by='pair', width=320, height=280, subplots=True, cmap='jet',\n",
    "            xlabel='Range', ylabel='Azimuth',\n",
    "            clim=tuple(np.nanquantile(unwraps, [0.01, 0.99])))\\\n",
    "    .cols(3).opts(title='Unwrapped Phase, [rad]')"
   ]
  },
  {
   "cell_type": "markdown",
   "metadata": {},
   "source": [
    "## LOS Displacement"
   ]
  },
  {
   "cell_type": "markdown",
   "metadata": {},
   "source": [
    "### Calculate Grids"
   ]
  },
  {
   "cell_type": "code",
   "execution_count": null,
   "metadata": {},
   "outputs": [],
   "source": [
    "los_disp_mm = sbas.open_grids(pairs, 'unwrap', func=sbas.los_displacement_mm)"
   ]
  },
  {
   "cell_type": "markdown",
   "metadata": {},
   "source": [
    "### Static Plots"
   ]
  },
  {
   "cell_type": "code",
   "execution_count": null,
   "metadata": {},
   "outputs": [],
   "source": [
    "zmin, zmax = np.nanquantile(los_disp_mm, [0.01, 0.99])\n",
    "fg = los_disp_mm.plot.imshow(\n",
    "    col=\"pair\",\n",
    "    col_wrap=3, size=4, aspect=1.2,\n",
    "    vmin=zmin, vmax=zmax, cmap='jet'\n",
    ")\n",
    "fg.set_axis_labels(x_var='Range', y_var='Azimuth')\n",
    "fg.set_ticks(max_xticks=5, max_yticks=5, fontsize='medium')\n",
    "fg.fig.suptitle('LOS Displacement, [mm]', y=1.05, fontsize=24)\n",
    "plt.show()"
   ]
  },
  {
   "cell_type": "markdown",
   "metadata": {},
   "source": [
    "### Interactive Plots\n",
    "\n",
    "```Be careful because these plots require more RAM to be visualized```"
   ]
  },
  {
   "cell_type": "raw",
   "metadata": {},
   "source": [
    "los_disp_mm\\\n",
    "    .hvplot(by='pair', width=320, height=280, subplots=True, cmap='jet',\n",
    "            xlabel='Range', ylabel='Azimuth',\n",
    "            clim=tuple(np.nanquantile(los_disp_mm, [0.01, 0.99])))\\\n",
    "    .cols(3).opts(title='LOS Displacement, [mm]')"
   ]
  },
  {
   "cell_type": "markdown",
   "metadata": {},
   "source": [
    "### Geocoding"
   ]
  },
  {
   "cell_type": "code",
   "execution_count": null,
   "metadata": {},
   "outputs": [],
   "source": [
    "los_disp_mm_ll = sbas.open_grids(pairs, 'unwrap', geocode=True, func=sbas.los_displacement_mm)"
   ]
  },
  {
   "cell_type": "markdown",
   "metadata": {},
   "source": [
    "### Static Plots"
   ]
  },
  {
   "cell_type": "code",
   "execution_count": null,
   "metadata": {},
   "outputs": [],
   "source": [
    "zmin, zmax = np.nanquantile(los_disp_mm_ll, [0.01, 0.99])\n",
    "fg = los_disp_mm_ll.plot.imshow(\n",
    "    col=\"pair\",\n",
    "    col_wrap=3, size=4, aspect=1.2,\n",
    "    vmin=zmin, vmax=zmax, cmap='jet'\n",
    ")\n",
    "fg.set_ticks(max_xticks=5, max_yticks=5, fontsize='medium')\n",
    "fg.fig.suptitle('LOS Displacement in Geographic Coordinates, [mm]', y=1.05, fontsize=24)\n",
    "plt.show()"
   ]
  },
  {
   "cell_type": "markdown",
   "metadata": {},
   "source": [
    "## Bonus: Inverted Interferograms\n",
    "\n",
    "```We are able to build reverse-ordered interferograms by a simple hand move```"
   ]
  },
  {
   "cell_type": "raw",
   "metadata": {},
   "source": [
    "baseline_pairs_inverted = sbas.baseline_pairs(days=BASEDAYS, meters=BASEMETERS, invert=True)\n",
    "baseline_pairs_inverted"
   ]
  },
  {
   "cell_type": "raw",
   "metadata": {},
   "source": [
    "pairs_inverted = baseline_pairs_inverted[['ref_date', 'rep_date']]\n",
    "pairs_inverted"
   ]
  },
  {
   "cell_type": "raw",
   "metadata": {},
   "source": [
    "sbas.intf_parallel(pairs_inverted, wavelength=400, func=decimator)"
   ]
  },
  {
   "cell_type": "markdown",
   "metadata": {},
   "source": [
    "### Load Grids"
   ]
  },
  {
   "cell_type": "raw",
   "metadata": {},
   "source": [
    "phasefilts_inverted = sbas.open_grids(pairs_inverted, 'phasefilt')"
   ]
  },
  {
   "cell_type": "markdown",
   "metadata": {},
   "source": [
    "### Static Plots"
   ]
  },
  {
   "cell_type": "raw",
   "metadata": {},
   "source": [
    "fg = phasefilts_inverted.plot.imshow(\n",
    "    col=\"pair\",\n",
    "    col_wrap=3, size=4, aspect=1.2,\n",
    "    vmin=-np.pi, vmax=np.pi, cmap='gist_rainbow_r'\n",
    ")\n",
    "fg.set_axis_labels(x_var='Range', y_var='Azimuth')\n",
    "fg.set_ticks(max_xticks=5, max_yticks=5, fontsize='medium')\n",
    "fg.fig.suptitle('Filtered Phase Inverted, [rad]', y=1.05, fontsize=24)\n",
    "plt.show()"
   ]
  },
  {
   "cell_type": "markdown",
   "metadata": {},
   "source": [
    "### Interactive Plots\n",
    "\n",
    "```Be careful because these plots require more RAM to be visualized```"
   ]
  },
  {
   "cell_type": "raw",
   "metadata": {},
   "source": [
    "phasefilts_inverted\\\n",
    "    .hvplot(by='pair', width=320, height=280, subplots=True,\n",
    "            xlabel='Range', ylabel='Azimuth',\n",
    "            clim=(-np.pi,np.pi), cmap='gist_rainbow_r')\\\n",
    "    .cols(3).opts(title='Filtered Phase Inverted, [rad]')"
   ]
  },
  {
   "cell_type": "markdown",
   "metadata": {},
   "source": [
    "## Bonus: Inverted Interferogram Unwrapping"
   ]
  },
  {
   "cell_type": "raw",
   "metadata": {},
   "source": [
    "sbas.unwrap_parallel(pairs_inverted, threshold=CORRLIMIT, func=cleaner)"
   ]
  },
  {
   "cell_type": "markdown",
   "metadata": {},
   "source": [
    "### Load Grids"
   ]
  },
  {
   "cell_type": "raw",
   "metadata": {},
   "source": [
    "unwraps_inverted = sbas.open_grids(pairs_inverted, 'unwrap')"
   ]
  },
  {
   "cell_type": "markdown",
   "metadata": {},
   "source": [
    "### Static Plots"
   ]
  },
  {
   "cell_type": "raw",
   "metadata": {},
   "source": [
    "zmin, zmax = np.nanquantile(unwraps_inverted, [0.01, 0.99])\n",
    "fg = unwraps_inverted.plot.imshow(\n",
    "    col=\"pair\",\n",
    "    col_wrap=3, size=4, aspect=1.2,\n",
    "    vmin=zmin, vmax=zmax, cmap='jet'\n",
    ")\n",
    "fg.set_axis_labels(x_var='Range', y_var='Azimuth')\n",
    "fg.set_ticks(max_xticks=5, max_yticks=5, fontsize='medium')\n",
    "fg.fig.suptitle('Unwrapped Phase Inverted, [rad]', y=1.05, fontsize=24)\n",
    "plt.show()"
   ]
  },
  {
   "cell_type": "markdown",
   "metadata": {},
   "source": [
    "### Interactive Plots\n",
    "\n",
    "```Be careful because these plots require more RAM to be visualized```"
   ]
  },
  {
   "cell_type": "raw",
   "metadata": {},
   "source": [
    "unwraps_inverted\\\n",
    "    .hvplot(by='pair', width=320, height=280, subplots=True, cmap='jet',\n",
    "            xlabel='Range', ylabel='Azimuth',\n",
    "            clim=tuple(np.nanquantile(unwraps_inverted, [0.01, 0.99])))\\\n",
    "    .cols(3).opts(title='Unwrapped Phase Inverted, [rad]')"
   ]
  },
  {
   "cell_type": "markdown",
   "metadata": {},
   "source": [
    "## Bonus: Interferogram Unwrapping Two-Ways Difference"
   ]
  },
  {
   "cell_type": "raw",
   "metadata": {},
   "source": [
    "# difference is equal to N*2*PI\n",
    "np.round(np.nanmean(unwraps.values + unwraps_inverted.values)/np.pi, 3)"
   ]
  },
  {
   "cell_type": "markdown",
   "metadata": {},
   "source": [
    "### Calculate Grids"
   ]
  },
  {
   "cell_type": "raw",
   "metadata": {},
   "source": [
    "unwraps_difference = xr.DataArray((unwraps.values + unwraps_inverted.values), coords=unwraps.coords)"
   ]
  },
  {
   "cell_type": "markdown",
   "metadata": {},
   "source": [
    "### Static Plots"
   ]
  },
  {
   "cell_type": "raw",
   "metadata": {},
   "source": [
    "zmin, zmax = np.nanquantile(unwraps_difference, [0.01, 0.99])\n",
    "fg = unwraps_difference.plot.imshow(\n",
    "    col=\"pair\",\n",
    "    col_wrap=3, size=4, aspect=1.2,\n",
    "    vmin=(zmin+zmax)/2 - np.pi, vmax=(zmin+zmax)/2 + np.pi, cmap='bwr'\n",
    ")\n",
    "fg.set_axis_labels(x_var='Range', y_var='Azimuth')\n",
    "fg.set_ticks(max_xticks=5, max_yticks=5, fontsize='medium')\n",
    "fg.fig.suptitle('Unwrapped Phase Two-Ways Difference (Unwrap Error), [rad]', y=1.05, fontsize=24)\n",
    "plt.show()"
   ]
  },
  {
   "cell_type": "markdown",
   "metadata": {},
   "source": [
    "### Interactive Plots\n",
    "\n",
    "```Be careful because these plots require more RAM to be visualized```"
   ]
  },
  {
   "cell_type": "raw",
   "metadata": {},
   "source": [
    "unwraps_difference\\\n",
    "    .hvplot(by='pair', width=320, height=280, subplots=True, cmap='bwr',\n",
    "            xlabel='Range', ylabel='Azimuth')\\\n",
    "    .cols(3).opts(title='Unwrapped Phase Two-Ways Difference (Unwrap Error), [rad]')"
   ]
  },
  {
   "cell_type": "markdown",
   "metadata": {},
   "source": [
    "## SBAS Velocity"
   ]
  },
  {
   "cell_type": "code",
   "execution_count": null,
   "metadata": {},
   "outputs": [],
   "source": [
    "sbas.sbas(baseline_pairs, smooth=1)"
   ]
  },
  {
   "cell_type": "markdown",
   "metadata": {},
   "source": [
    "### Load Grids with Interpolation and Geocoding"
   ]
  },
  {
   "cell_type": "code",
   "execution_count": null,
   "metadata": {},
   "outputs": [],
   "source": [
    "vel = sbas.open_grid('vel')\n",
    "vel_ll = sbas.open_grid('vel', geocode=True)\n",
    "# interpolate low-coherency areas and mask not valid pixels\n",
    "vel_filled = sbas.open_grid('vel', func=sbas.nearest_grid, mask=True)\n",
    "vel_filled_ll = sbas.open_grid('vel', geocode=True, func=sbas.nearest_grid, mask=True)"
   ]
  },
  {
   "cell_type": "markdown",
   "metadata": {},
   "source": [
    "### Static Plots"
   ]
  },
  {
   "cell_type": "code",
   "execution_count": null,
   "metadata": {},
   "outputs": [],
   "source": [
    "fig, ((ax1, ax2), (ax3, ax4)) = plt.subplots(2, 2, figsize=(12, 8), dpi=300)\n",
    "zmin, zmax = np.nanquantile(vel, [0, 0.99])\n",
    "vel.plot(vmin=zmin, vmax=zmax, cmap='jet', ax=ax1)\n",
    "zmin, zmax = np.nanquantile(vel_ll, [0, 0.99])\n",
    "vel_ll.plot(vmin=zmin, vmax=zmax, cmap='jet', ax=ax2)\n",
    "zmin, zmax = np.nanquantile(vel_filled, [0, 0.99])\n",
    "vel_filled.plot(vmin=zmin, vmax=zmax, cmap='jet', ax=ax3)\n",
    "zmin, zmax = np.nanquantile(vel_filled_ll, [0, 0.99])\n",
    "vel_filled_ll.plot(vmin=zmin, vmax=zmax, cmap='jet', ax=ax4)\n",
    "ax1.set_title('Radar Coordinates', fontsize=16)\n",
    "ax2.set_title('Geographic Coordinates', fontsize=16)\n",
    "plt.suptitle('SBAS Velocity, [mm/year]', fontsize=18)\n",
    "plt.show()"
   ]
  },
  {
   "cell_type": "markdown",
   "metadata": {},
   "source": [
    "### Interactive Plots\n",
    "\n",
    "```Be careful because these plots require more RAM to be visualized```\n",
    "\n",
    "```The plots below do not work on Debian 10 and Python 3.7```"
   ]
  },
  {
   "cell_type": "code",
   "execution_count": null,
   "metadata": {},
   "outputs": [],
   "source": [
    "uname = !uname\n",
    "plots = None\n",
    "if uname == ['Darwin']:\n",
    "    zmin, zmax = np.nanquantile(vel_filled_ll, [0, 0.99])\n",
    "    opts_common = {'x':'lon', 'y':'lat', 'geo':True, 'width':330, 'height':280,\n",
    "                   'cmap':'jet', 'colorbar':True, 'clim':(zmin, zmax)}\n",
    "    opts1 = {'tiles':gstiles, 'alpha':0.4, 'title':'Google Satellite'}\n",
    "    opts2 = {'tiles':ottiles, 'alpha':0.4, 'title':'OpenTopoMap'}\n",
    "    opts3 = {'tiles':False,   'alpha':1.4, 'title':'SBAS Velocity'}\n",
    "    plots = vel_filled_ll.hvplot(**{**opts_common, **opts1}).opts(xrotation=45) + \\\n",
    "    vel_filled_ll.hvplot(**{**opts_common, **opts2}).opts(xrotation=45) + \\\n",
    "    vel_filled_ll.hvplot(**{**opts_common, **opts3}).opts(xrotation=45)\n",
    "plots"
   ]
  }
 ],
 "metadata": {
  "environment": {
   "name": "common-cpu.m80",
   "type": "gcloud",
   "uri": "gcr.io/deeplearning-platform-release/base-cpu:m80"
  },
  "kernelspec": {
   "display_name": "Python 3",
   "language": "python",
   "name": "python3"
  },
  "language_info": {
   "codemirror_mode": {
    "name": "ipython",
    "version": 3
   },
   "file_extension": ".py",
   "mimetype": "text/x-python",
   "name": "python",
   "nbconvert_exporter": "python",
   "pygments_lexer": "ipython3",
   "version": "3.9.7"
  }
 },
 "nbformat": 4,
 "nbformat_minor": 4
}
