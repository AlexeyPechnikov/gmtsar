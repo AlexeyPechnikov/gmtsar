{
 "cells": [
  {
   "cell_type": "markdown",
   "metadata": {
    "id": "E7e8PCLeWE0g"
   },
   "source": [
    "$\\Large\\color{blue}{\\text{PyGMTSAR 2017 Iran–Iraq Earthquake Co-Seismic Interferogram}}$\n",
    "\n",
    "$\\Large\\color{blue}{\\text{Sentinel-1 Scenes Downloading from Alaska Satellite Facility (ASF)}}$\n",
    "\n",
    "See https://www.emsc-csem.org/Earthquake/Gallery/maps.php?id=830280 and https://earthquaketrack.com/quakes/2020-02-15-21-45-42-utc-4-3-10\n",
    "\n",
    "### See and more PyGMTSAR notebooks on GitHub: [PyGMTSAR](https://github.com/mobigroup/gmtsar)\n",
    "\n",
    "It works on\n",
    "\n",
    "* MacOS Monterey (Apple Silicon) and BigSur (Intel) (Python 3.9) - please pre-install system dependencies (maybe using HomeBrew),\n",
    "\n",
    "* Google Cloud VM and Notebooks on Debian 10 (Python 3.7), use the [Google Cloud Debian 10 init script](https://github.com/mobigroup/gmtsar/blob/master/gmtsar/sh/GMTSAR.install.debian10.sh) and [Google Cloud Debian 10 VM creation script](https://github.com/mobigroup/gmtsar/blob/master/gmtsar/sh/GMTSAR.gcloud_create_debian10.sh)\n",
    "\n",
    "* $\\color{red}{\\text{Google Colab (Python 3.7) - you will be asked to re-run the notebook once due to \"system crash\" by desing}}$\n",
    "$\\color{red}{\\text{Note: to open all notebook cells select menu \"View\" -> \"Expand Sections\"}}$\n",
    "\n",
    "### PyGMTSAR is my free-time Open Source project.\n",
    "\n",
    "That's a bit curious how the project was started a year ago. I develop geophysical inversion methods and processing software for many years using my fundamental physics and mathematics background. Satellite interferometry is the key point to validate my inversion models and I found the same problem as you too that the existing interferometry packages usage is a pain. There is no interactive processing with multiprocessing and even a progressbar and ability to view and change every step code and validate the results. Also, many used algorithms are too outdated and produce terrible results like to tension surfaces in GMT which is used widely in GMTSAR (hmm, how about to control a smothness of derivative? Tension surfaces were invented when all the Earths computers where less powerfull than your smarthone today. If you are interested I shared the examples in GMTSAR bug tracker). Anyway, I found GMT mathematics is really crazy and the developers replace one incorrect algorithm by another and back often as we see in the codes and the changelog). That was enough reason to check all the used algorithms and replace these by modern and correct ones. By this way, I use only GMTSAR C codes with my patches to fix some errors and allow interoperability with Python wrappers plus my own codes around them. GMTSAR codes are fine and without crazy GMT codes work better and the processing is much faster. Alright, I spent one month to make the initial PyGMTSAR realization and it works. Recently, I returned to the project to add some more sophisticated features like to scenes and subswathes stitching. I'm going to share some of my geological exprorations and seismic models as live examples on Google Colab as soon as it will be possible to do. How lineaments and ore zones are related to interferograms? How gas and oil deposits are related to surface movements on interferometry displacement maps? I have the answer and I work on the tools to model and visualize them.\n",
    "\n",
    "You'd find my theoretical models and processing codes foir geophisical inversions in Github repository https://github.com/mobigroup/gis-snippets and tools for the 4D results vizualization in https://github.com/mobigroup/ParaView-plugins\n",
    "\n",
    "Ah yes, a little bit about me. I have STEM master's degree in radio physics and in 2004 I was awarded first prize of the All-Russian Physics competition for significant results in Inverse modeling for non-linear optics and holography, also applicable for Inverse Modeling of Gravity, Magnetic, and Thermal fields. In addition to my fundamental science knowledge, I’m world class data scientist and software developer with 20 years experience in science and industrial development. I have worked on government contracts and universities projects and on projects for LG Corp, Google Inc, etc. You are able to find some of my software and results on LinkedIn and GitHub and Upwork. By the way, I left Russia many years ago and I work remotely for about 20 years.\n",
    "\n",
    "### To order some research, development and support see my profile on freelance platform [Upwork](https://www.upwork.com/freelancers/~01e65e8e7221758623)\n",
    "\n",
    "### @ Alexey Pechnikov, August, 2022\n",
    "\n",
    "[Geological models on YouTube channel](https://www.youtube.com/channel/UCSEeXKAn9f_bDiTjT6l87Lg)\n",
    "\n",
    "[Augmented Reality (AR) Geological Models](https://mobigroup.github.io/ParaView-Blender-AR/)\n",
    "\n",
    "[GitHub repositories](https://github.com/mobigroup)\n",
    "\n",
    "[English posts and articles on LinkedIn](https://www.linkedin.com/in/alexey-pechnikov/)\n",
    "\n",
    "[Russian articles on Habr](https://habr.com/ru/users/N-Cube/posts/)"
   ]
  },
  {
   "cell_type": "markdown",
   "metadata": {
    "id": "kYcSjKy8WE0l"
   },
   "source": [
    "$\\large\\color{blue}{\\text{Hint: Use menu Cell} \\to \\text{Run All or Runtime} \\to \\text{Complete All or Runtime} \\to \\text{Run All}}$\n",
    "$\\large\\color{blue}{\\text{(depending of your localization settings) to execute the entire notebook}}$"
   ]
  },
  {
   "cell_type": "markdown",
   "metadata": {
    "id": "w5kV3ZwdWE0l"
   },
   "source": [
    "## Load Modules to Check Environment"
   ]
  },
  {
   "cell_type": "code",
   "execution_count": null,
   "metadata": {
    "id": "2hIdMofLWE0m"
   },
   "outputs": [],
   "source": [
    "import platform, sys, os"
   ]
  },
  {
   "cell_type": "markdown",
   "metadata": {
    "id": "-e3AGqVnWE0m"
   },
   "source": [
    "## Debian 10 and Google Colab GMTSAR Installation"
   ]
  },
  {
   "cell_type": "markdown",
   "metadata": {
    "id": "7azjF07OWE0n"
   },
   "source": [
    "### On Google Cloud AI Notebooks: check root access\n",
    "\n",
    "On Google Cloud AI Notebooks sometimes we have an issue when \"sudo\" requires a password. In this case drop the instance and create a new one and - that's important - wait 5-10 minutes before connect to it using link \"OPEN JUPYTERLAB\""
   ]
  },
  {
   "cell_type": "code",
   "execution_count": null,
   "metadata": {
    "colab": {
     "base_uri": "https://localhost:8080/"
    },
    "id": "12AMQf-eWE0n",
    "outputId": "a5b0449d-cf03-46a4-a046-e3cea6ee80bf"
   },
   "outputs": [],
   "source": [
    "if platform.system() == 'Linux':\n",
    "    !sudo date"
   ]
  },
  {
   "cell_type": "markdown",
   "metadata": {
    "id": "G-QvInN1WE0n"
   },
   "source": [
    "### Install https://github.com/mobigroup/gmtsar\n",
    "\n",
    "I make lots of changes on GMTSAR C-coded tools and some of them are not merged to the upstream GMTSAR yet because all the patches need to be validated and discussed before. Also, my Python extensions are provided in my GMTSAR fork only. I hope in the future to provide a standalone python packager as wrapper around upstream GMTSAR but there is a long way to it."
   ]
  },
  {
   "cell_type": "code",
   "execution_count": null,
   "metadata": {
    "id": "OSn_8A_NWE0o"
   },
   "outputs": [],
   "source": [
    "if platform.system() == 'Linux':\n",
    "    count = !ls /usr/local | grep GMTSAR | wc -l\n",
    "    if count == ['0']:\n",
    "        !apt install -y csh autoconf gfortran \\\n",
    "            libtiff5-dev libhdf5-dev liblapack-dev libgmt-dev gmt-dcw gmt-gshhg gmt > /dev/null\n",
    "        !cd /usr/local && git clone --branch master https://github.com/mobigroup/gmtsar GMTSAR > /dev/null\n",
    "        !cd /usr/local/GMTSAR && autoconf > /dev/null\n",
    "        !cd /usr/local/GMTSAR && ./configure --with-orbits-dir=/tmp > /dev/null\n",
    "        !cd /usr/local/GMTSAR && make 1>/dev/null 2>/dev/null\n",
    "        !cd /usr/local/GMTSAR && make install >/dev/null"
   ]
  },
  {
   "cell_type": "markdown",
   "metadata": {
    "id": "tzyohB1EnO4R"
   },
   "source": [
    "## Define ENV Variables for Jupyter Instance"
   ]
  },
  {
   "cell_type": "code",
   "execution_count": null,
   "metadata": {
    "colab": {
     "base_uri": "https://localhost:8080/"
    },
    "id": "dbyQttiFnO4R",
    "outputId": "9e3491e0-cd55-47a2-badb-00b4df153c09"
   },
   "outputs": [],
   "source": [
    "# use default GMTSAR installation path\n",
    "GMTSAR = '/usr/local/GMTSAR'\n",
    "PATH = os.environ['PATH']\n",
    "\n",
    "if PATH.find('GMTSAR') == -1:\n",
    "    PATH = os.environ['PATH'] + f':{GMTSAR}/bin/'\n",
    "    %env PATH {PATH}\n",
    "    %env GMTSAR {GMTSAR}"
   ]
  },
  {
   "cell_type": "markdown",
   "metadata": {
    "id": "u5w-8zCTWE0p"
   },
   "source": [
    "## Install Python Modules\n",
    "\n",
    "Maybe you need to restart your notebook, follow the instructions printing below.\n",
    "\n",
    "The installation takes a long time on fresh Debian 10 and a short time on Google Colab"
   ]
  },
  {
   "cell_type": "code",
   "execution_count": null,
   "metadata": {
    "colab": {
     "base_uri": "https://localhost:8080/"
    },
    "id": "_Uw_tI7GWE0p",
    "outputId": "edb56e7b-56be-49bf-adb4-780acb991713"
   },
   "outputs": [],
   "source": [
    "!{sys.executable} --version"
   ]
  },
  {
   "cell_type": "code",
   "execution_count": null,
   "metadata": {
    "id": "G_O5FwKDWE0p"
   },
   "outputs": [],
   "source": [
    "if platform.system() == 'Linux':\n",
    "    !{sys.executable} -m pip install cartopy==0.19.0.post1 1>/dev/null 2>/dev/null\n",
    "    !{sys.executable} -m pip install xarray==0.19.0        1>/dev/null 2>/dev/null\n",
    "    !{sys.executable} -m pip install scipy==1.7.1          1>/dev/null 2>/dev/null"
   ]
  },
  {
   "cell_type": "code",
   "execution_count": null,
   "metadata": {
    "id": "zaPyFEg3WE0q"
   },
   "outputs": [],
   "source": [
    "if platform.system() == 'Linux':\n",
    "    !{sys.executable} -m pip install \\\n",
    "        h5py netcdf4 h5netcdf \\\n",
    "        rasterio rioxarray numpy \\\n",
    "        scikit-image scipy sklearn \\\n",
    "        xarray dask distributed zarr nc-time-axis \\\n",
    "        pandas geopandas \\\n",
    "        sentineleof elevation \\\n",
    "        matplotlib seaborn geoviews hvplot datashader bokeh \\\n",
    "        xmltodict joblib tqdm 1>/dev/null 2>/dev/null"
   ]
  },
  {
   "cell_type": "markdown",
   "metadata": {
    "id": "h1Oi1riuWE0q"
   },
   "source": [
    "$\\large\\color{red}{\\text{Attention: On Google Colab we need to restart kernel once when modules installed}}$"
   ]
  },
  {
   "cell_type": "markdown",
   "metadata": {
    "id": "BV6t23wAWE0r"
   },
   "source": [
    "$\\large\\color{blue}{\\text{Hint: Use menu Cell} \\to \\text{Run All or Runtime} \\to \\text{Complete All or Runtime} \\to \\text{Run All}}$\n",
    "$\\large\\color{blue}{\\text{(depending of your localization settings) to execute the entire notebook}}$"
   ]
  },
  {
   "cell_type": "code",
   "execution_count": null,
   "metadata": {
    "colab": {
     "base_uri": "https://localhost:8080/"
    },
    "id": "Z717jnSqWE0r",
    "outputId": "74bfaf5f-0079-4ce9-d6c8-23bf058a2c94"
   },
   "outputs": [],
   "source": [
    "if platform.system() == 'Linux':\n",
    "    import xarray\n",
    "    import time\n",
    "    print (xarray.__version__)\n",
    "    if xarray.__version__ != '0.19.0':\n",
    "        print (\"\"\"\n",
    "    ***********************************************************************************\n",
    "    *\n",
    "    Do not worry, runtime is stopped by design. Please run the notebook again.\n",
    "    *\n",
    "    ***********************************************************************************\n",
    "    \"\"\")\n",
    "        time.sleep(1)\n",
    "        os.kill(os.getpid(), 9)"
   ]
  },
  {
   "cell_type": "markdown",
   "metadata": {
    "id": "C7K4qzMmnO4T"
   },
   "source": [
    "## Load and Setup Python Modules"
   ]
  },
  {
   "cell_type": "code",
   "execution_count": null,
   "metadata": {
    "id": "LCt6G11TnO4U"
   },
   "outputs": [],
   "source": [
    "import xarray as xr\n",
    "import numpy as np\n",
    "import pandas as pd\n",
    "# supress numpy warnings\n",
    "import warnings\n",
    "warnings.filterwarnings('ignore')"
   ]
  },
  {
   "cell_type": "code",
   "execution_count": null,
   "metadata": {
    "colab": {
     "base_uri": "https://localhost:8080/",
     "height": 17
    },
    "id": "dyurESfqnO4U",
    "outputId": "f0d1aeca-3c7f-44c7-f601-4f3eaa3cd7af"
   },
   "outputs": [],
   "source": [
    "# plotting modules\n",
    "import hvplot.pandas  # noqa\n",
    "import hvplot.xarray  # noqa\n",
    "import holoviews as hv\n",
    "pd.options.plotting.backend = 'hvplot'\n",
    "from IPython.display import Image\n",
    "import matplotlib.pyplot as plt\n",
    "import matplotlib\n",
    "%matplotlib inline"
   ]
  },
  {
   "cell_type": "code",
   "execution_count": null,
   "metadata": {
    "id": "JzrlWhzunO4U"
   },
   "outputs": [],
   "source": [
    "# define Pandas display settings\n",
    "pd.set_option('display.max_rows', None)\n",
    "pd.set_option('display.max_columns', None)\n",
    "pd.set_option('display.width', None)\n",
    "pd.set_option('display.max_colwidth', None)\n",
    "\n",
    "gstiles = hv.Tiles('https://mt1.google.com/vt/lyrs=s&x={X}&y={Y}&z={Z}', name='Google Satellite')\n",
    "ottiles = hv.Tiles('https://tile.opentopomap.org/{Z}/{X}/{Y}.png', name='Open Topo')"
   ]
  },
  {
   "cell_type": "markdown",
   "metadata": {
    "id": "XzlsVoMLnO4U"
   },
   "source": [
    "## Load Custom Python Modules"
   ]
  },
  {
   "cell_type": "code",
   "execution_count": null,
   "metadata": {
    "id": "pU1xMQz6nO4U"
   },
   "outputs": [],
   "source": [
    "sys.path.append(os.path.join(os.environ['GMTSAR'],'gmtsar', 'py'))\n",
    "\n",
    "from PRM import PRM\n",
    "from SBAS import SBAS"
   ]
  },
  {
   "cell_type": "markdown",
   "metadata": {
    "id": "6ZXfK7FBlxYb"
   },
   "source": [
    "## Define 3 Sentinel-1 Scenes and Processing Parameters\n",
    "\n",
    "When you need more scenes and SBAS analysis  see examples on PyGMTSAR GitHub page https://github.com/mobigroup/gmtsar"
   ]
  },
  {
   "cell_type": "markdown",
   "metadata": {
    "id": "tRTS7XyiWE0u"
   },
   "source": [
    "### Descending Orbit Configuration"
   ]
  },
  {
   "cell_type": "code",
   "execution_count": null,
   "metadata": {
    "id": "a6bDr_gqWE0u"
   },
   "outputs": [],
   "source": [
    "#SCENES = [...]\n",
    "#ORBIT        = 'D'\n",
    "#SUBSWATH     = 1"
   ]
  },
  {
   "cell_type": "markdown",
   "metadata": {
    "id": "5FWxb8w2WE0u"
   },
   "source": [
    "### Ascending Orbit Configuration"
   ]
  },
  {
   "cell_type": "code",
   "execution_count": null,
   "metadata": {
    "id": "dsootWmDWE0v"
   },
   "outputs": [],
   "source": [
    "SCENES = ['S1A_IW_SLC__1SDV_20200207T144454_20200207T144521_031148_03949F_610B',\n",
    "          'S1A_IW_SLC__1SDV_20200219T144453_20200219T144521_031323_039AAC_A9AB']\n",
    "ORBIT        = 'A'\n",
    "SUBSWATH     = 12"
   ]
  },
  {
   "cell_type": "code",
   "execution_count": null,
   "metadata": {
    "id": "j4daGGlWl1Wy"
   },
   "outputs": [],
   "source": [
    "WORKDIR      = 'raw'\n",
    "DATADIR      = 'data'\n",
    "DEMFILE      = None\n",
    "POLARIZATION = 'VV'\n",
    "CORRLIMIT    = 0.1\n",
    "DEFOMAX      = 0"
   ]
  },
  {
   "cell_type": "markdown",
   "metadata": {
    "id": "3nWkLj8NWE0v"
   },
   "source": [
    "### Reuse Backup Dataset If Exists (uncomment the code below if needed)\n",
    "\n",
    "When the full dataset is already downloaded and processing `SBAS.backup()` command allows to save the-preprocessed stitched and cropped scenes and DEM and orbit files into the specified directory and reuse the dataset later. By this way you can process a big dataset on cloud environment for the first time and download the pre-processed small dataset to continue work on your local computer or on Google Colab."
   ]
  },
  {
   "cell_type": "code",
   "execution_count": null,
   "metadata": {
    "id": "nVtaPvY8WE0v"
   },
   "outputs": [],
   "source": [
    "#if os.path.isdir('backup'):\n",
    "#    print ('Found backup dataset, use it instead of the fresh run full scenes downloading from ASF datastore')\n",
    "#    DATADIR      = 'backup'\n",
    "#    DEMFILE      = 'backup/DEM_WGS84.nc'"
   ]
  },
  {
   "cell_type": "markdown",
   "metadata": {
    "id": "INEmIm0Tl4H2"
   },
   "source": [
    "## Download and Unpack Datasets (Optional)"
   ]
  },
  {
   "cell_type": "markdown",
   "metadata": {
    "id": "h5GZHwy6WE0v"
   },
   "source": [
    "### Input ASF (Earthdata) User and Password\n",
    "\n",
    "When data directory does not exists or empty the Sentinel-1 scenes downloaded from Alaska Satellite Facility (ASF) datastore. Use your Earthdata Login credentials. If you do not have a Earthdata Login, create one at https://urs.earthdata.nasa.gov//users/new"
   ]
  },
  {
   "cell_type": "code",
   "execution_count": null,
   "metadata": {
    "colab": {
     "base_uri": "https://localhost:8080/"
    },
    "id": "DZenq5VwWE0w",
    "outputId": "b522172d-b632-41ec-f4c6-2e2fc15e45d2"
   },
   "outputs": [],
   "source": [
    "if os.path.isdir(DATADIR) and len([fname for fname in os.listdir(DATADIR) if fname[0]!='.'])>0:\n",
    "    print ('Data directory already exists and it is not empty, miss downloading')\n",
    "else:\n",
    "    import time\n",
    "    import getpass\n",
    "    print ('Data directory does not exists or it is empty, download the dataset')\n",
    "    # to print the message BEFORE the usename and password fields\n",
    "    time.sleep(1)\n",
    "    username = getpass.getpass('Please enter your ASF username and press Enter key:')\n",
    "    password = getpass.getpass('Please enter your ASF password and press Enter key:')\n",
    "    # download the scenes from ASF and unpack only required files to data directory\n",
    "    for scene in SCENES:\n",
    "        url = f'https://datapool.asf.alaska.edu/SLC/S{scene[2:3]}/{scene}.zip'\n",
    "        !wget --user={username} --password={password} -qc {url}\n",
    "\n",
    "# unpack required datafiles\n",
    "for scene in SCENES:\n",
    "    for ext in {'xml', 'tiff'}:\n",
    "        for subswath in str(SUBSWATH):\n",
    "          !unzip -j -n {scene}.zip '*.SAFE/*/s1?-iw{subswath}-slc-{POLARIZATION.lower()}-*-*.{ext}' -d {DATADIR}"
   ]
  },
  {
   "cell_type": "markdown",
   "metadata": {
    "id": "EoCTiuZKnO4W"
   },
   "source": [
    "## Init SBAS\n",
    "\n",
    "Search recursively for measurement (.tiff) and annotation (.xml) and orbit (.EOF) files in the DATA directory. It can be directory with full unzipped scenes (.SAFE) subdirectories or just a directory with the list of pairs of required .tiff and .xml files (maybe pre-filtered for orbit, polarization and subswath to save disk space). If orbit files and DEM are missed these will be downloaded automatically below."
   ]
  },
  {
   "cell_type": "markdown",
   "metadata": {
    "id": "hMPxQTrOWE0w"
   },
   "source": [
    "### Reuse Backup Dataset If Exists (uncomment the code below if needed)\n",
    "\n",
    "When the full dataset is already downloaded and processing `SBAS.backup()` command allows to save the-preprocessed stitched and cropped scenes and DEM and orbit files into the specified directory and reuse the dataset later. By this way you can process a big dataset on cloud environment for the first time and download the pre-processed small dataset to continue work on your local computer or on Google Colab."
   ]
  },
  {
   "cell_type": "code",
   "execution_count": null,
   "metadata": {
    "id": "QaFRvPSBWE0w"
   },
   "outputs": [],
   "source": [
    "#if os.path.isdir('backup'):\n",
    "#    print ('Found backup dataset, use it instead of the fresh run full scenes downloading from ASF datastore')\n",
    "#    DATADIR      = 'backup'\n",
    "#    DEMFILE      = 'backup/DEM_WGS84.nc'"
   ]
  },
  {
   "cell_type": "markdown",
   "metadata": {
    "id": "w8ornXwMWE0w"
   },
   "source": [
    "### Select Original Secenes and Download DEM and Orbits Later\n",
    "\n",
    "Use filters to find required subswath, polarization and orbit in original scenes .SAFE directories in the data directory."
   ]
  },
  {
   "cell_type": "code",
   "execution_count": null,
   "metadata": {
    "id": "qFpon2kpWE0w"
   },
   "outputs": [],
   "source": [
    "sbas = SBAS(DATADIR, DEMFILE, basedir=WORKDIR,\n",
    "    filter_orbit=ORBIT,\n",
    "    filter_subswath=SUBSWATH,\n",
    "    filter_polarization=POLARIZATION)"
   ]
  },
  {
   "cell_type": "markdown",
   "metadata": {
    "id": "XLPDAPSuWE0w"
   },
   "source": [
    "### Show the Dataset"
   ]
  },
  {
   "cell_type": "code",
   "execution_count": null,
   "metadata": {
    "colab": {
     "base_uri": "https://localhost:8080/",
     "height": 588
    },
    "id": "6ANYk6zxWE0w",
    "outputId": "a3922f8a-e9c0-4271-868b-7373ff981ae9"
   },
   "outputs": [],
   "source": [
    "sbas.to_dataframe()"
   ]
  },
  {
   "cell_type": "markdown",
   "metadata": {
    "id": "GxBTKzWpnO4W"
   },
   "source": [
    "### Download Sentinel-1 Orbits\n",
    "\n",
    "The function below downloads orbit files.\n",
    "Besides, for faster processing we can automatically use pre-downloaded orbit files in data directory."
   ]
  },
  {
   "cell_type": "code",
   "execution_count": null,
   "metadata": {
    "colab": {
     "base_uri": "https://localhost:8080/",
     "height": 321,
     "referenced_widgets": [
      "54e11f92ee7b41079ff39d1a5418c168",
      "44056d9fab64464481978c699a8263cd",
      "431bed46c52f48c0b865fd6a257832e0",
      "b0572a4305f7484ab9bc97a7decf750a",
      "c3eb09acfa614bf198d606d8312ddf27",
      "b2c8fead2e564a3e830af7bbb922d983",
      "c919ee6c62e744b4a325eb8ffb6aa38d",
      "64984d203343429b83531a57c904ecd4",
      "ae7ef947c731444cad33091261821ff5",
      "94ff3cebb38a4e3a8f544f9fc4afd8f4",
      "baaff4476a5247fe9842568da01fa9cb",
      "ca60146d30354a4194528ef41c9cbf9f",
      "c71c46ae19984168a2269c1916ca52d5",
      "cdef31f3a9fe41858ac19754971ff35c",
      "973b568f87a049f6b18d50377294b7e3",
      "f2bd3e8224634c3eac0c3566d4d5d28e",
      "e74662eaa976430ca0cf36b427f720bb",
      "e795dc70d88d408b9cfdabb512371f07",
      "24ef7f660d3b4d0ebe8bb3af2ce9b02c",
      "628ab4db466d4b1ab2aae0790abac62e",
      "cf998ebad7ac48d28adb79282459912b",
      "e1142c2780bb4bf18d80551562678c49",
      "e116caa930c04e5386942f49b8649a77",
      "99a7e5593b594d738e14aa5faf016e9e",
      "b264f9f834834a5ab07d4c164132b89c",
      "ec54f07554da4cc7865f4181df204757",
      "d86aa521ca8e492fb325358865c76312",
      "b11c1c25f03449d6b5e6b65b74643cf6",
      "fc64264792a446f79da56ac9bd8ca632",
      "d9a6688cad9a4d1ebde28f866d5cf0e4",
      "136071dad501442dbd68ce10647fccfc",
      "bb7954ca56194e00ab6759f135c49907",
      "45c7e76f26e84713846321f900faa72f",
      "40c90b4e7f1347289e82ad9eb2dde4d5",
      "29e2ced5530f4968a3ac459b566d2939",
      "de2a04bab8074a6ab724c4d115b4c0c6",
      "534272c557944b74a6344f26c23544ed",
      "1ebbdfa1fdff4735b53030db36ac3e2d",
      "89edb5dd3634418f901a909c2dc54265",
      "a55a8274210447afae6d299e53283c9c",
      "dfede4d6fc104c2a9f341b6b84ae1556",
      "89d7c693bd644591beaca561af8a4a92",
      "c188526f1f6d43a5a707645c5914f3a4",
      "77989990aedd4a7f8891e9a46aa07b0f",
      "e6148fc5b709497a94d5004845dada25",
      "1bb10ddddf80492e93c53b29de54767f",
      "949b4ee179be4fa59094d10317262816",
      "20510e52ae6a4a70adf4f8cb2a2718be",
      "92b4c830300148bc85356cfa38071811",
      "5f529fd5954745168b12cd457f3363cd",
      "56945233eb8a44ae87d28da1796da6a4",
      "3f5596122a754140aa719a886c00c9de",
      "f29376467c774f4b9f2db2748fe6962f",
      "5269389893624ac9812cfda1bca56e3a",
      "624d47cf42df4ace9d849a41d480ae2e",
      "c694d0c1de1e4a72814e81db967fd19f",
      "f5ad27409a934071a601641309362158",
      "b5426da3137641ff84401204b8cc3184",
      "e55b5764556246e8a076871fdff41b84",
      "2b771ba704314f1ba14df8785d42f3ea",
      "00804db3269d4e50bebaa18c6c7892c6",
      "bb3ad272c9eb4f81a3b95fcf91a0f6f8",
      "6b6621fae7bb4197a6c87d60315f81c9",
      "8189a584559e481999dcf3786ef1951e",
      "955598d2c3314e14b6edb3f968345807",
      "f8dab003beef432892a011e7733705fb",
      "a137357830f9433ba926cae171ed2461",
      "d71f1d9dbf8b422db23a6d401594247a",
      "48bb377ecfe64c00ac19a5cc41f91bf3",
      "9eecece1c99c437d81edcb1d5ca9951c",
      "063ebe0321ed459f86bbc5d6627fef4e",
      "dec6f493fe33496a84de25a5d27656fd",
      "d1721492d73e4a4cb39ff6cb55aa8b93",
      "627b85cd1fea472e9b0585f5cec12c6e",
      "90d55e5f3a9c4928b31484470c2093dc",
      "65b2e231a4ee4356818d522ca4ed8eba",
      "8470a434fefb4009826c414b77a02762",
      "594a7139a36d4d80a909e274b1fb5e5a",
      "9e666a6cfea44884a3309d39db2bf523",
      "1953c48665be4d6cb0ec4a20af0bf2b6",
      "c0b71040e9414b498e281b6b8a46eaed",
      "f4d05a93cae24f70aed539a19a3bdd3a",
      "82d870cac9aa4a6981730314a0c855bf",
      "38b3673965104a28982e32069c793222",
      "73b4763865804ce2a6b0e231ec29ef17",
      "68e133c583bd41ca8a76f9dc4f4a9f8c",
      "1403af9b9eca4e0abefd27ba3b100094",
      "5e843a55e85a4b949caca1634d05763e"
     ]
    },
    "id": "ZBaDX9canO4W",
    "outputId": "a620e321-03fa-4e67-e28f-ce1eeb5575f9"
   },
   "outputs": [],
   "source": [
    "# also, we can place pre-downloaded orbit files to data directory \n",
    "sbas.download_orbits()"
   ]
  },
  {
   "cell_type": "markdown",
   "metadata": {
    "id": "2o31inoNWE0x"
   },
   "source": [
    "### Show the Dataset\n",
    "\n",
    "All the orbit files found, see 'orbitpath' column"
   ]
  },
  {
   "cell_type": "code",
   "execution_count": null,
   "metadata": {
    "colab": {
     "base_uri": "https://localhost:8080/",
     "height": 948
    },
    "id": "3hFIc7txWE0x",
    "outputId": "eba43658-1cf7-4487-88fc-e2debe4c0b85"
   },
   "outputs": [],
   "source": [
    "sbas.to_dataframe()"
   ]
  },
  {
   "cell_type": "markdown",
   "metadata": {
    "id": "3mq6fE_sWE0x"
   },
   "source": [
    "## Additional Data Filtering\n",
    "\n",
    "All the scenes stored internally as a Pandas DataFrame \"df\" inside the SBAS object. So we are able to use Pandas operations on the sbas.df for additional scenes filtering and so on. Maybe, do you need to select just a few of scenes for a selected date range? In this case check the code below and adopt it for you."
   ]
  },
  {
   "cell_type": "code",
   "execution_count": null,
   "metadata": {
    "id": "e_6OP-O2WE0x"
   },
   "outputs": [],
   "source": [
    "# select scenes for the date range\n",
    "#sbas.df = sbas.df.query('\"2017-11-10\" <= index <= \"2017-11-20\"')\n",
    "#sbas.df"
   ]
  },
  {
   "cell_type": "code",
   "execution_count": null,
   "metadata": {
    "id": "76NnXvi8WE0x"
   },
   "outputs": [],
   "source": [
    "# select first 2 scenes only\n",
    "#sbas.df = sbas.df.head(2)\n",
    "#sbas.df"
   ]
  },
  {
   "cell_type": "markdown",
   "metadata": {
    "id": "Xw_fI6oIWE0x"
   },
   "source": [
    "## Reframe Scenes (Optional)\n",
    "\n",
    "Stitch sequential scenes and crop the subswath to a smaller area for faster processing when the full area is not needed."
   ]
  },
  {
   "cell_type": "markdown",
   "metadata": {
    "id": "E7lHz7-vWE0y"
   },
   "source": [
    "### Define Pair of Pins for Each Subswath (Optional)\n",
    "\n",
    "To create a stitched and maybe cropped frame two pins should be defined. Use the plots below to define the pins coordinates. Hint: in case of an error you see the notes how to fix the issues and you are still able to map the pins using the code below (anyway the issues should be fixed to continue the calculations).\n",
    "\n",
    "This step can be missed and for this case automatically generated pins cover the full master image."
   ]
  },
  {
   "cell_type": "code",
   "execution_count": null,
   "metadata": {
    "id": "ZJKctREwWE0y"
   },
   "outputs": [],
   "source": [
    "# example for three subswaths on Abdabil and Yamchi area:\n",
    "#sbas.set_pins([47.5, 38-0.2, 47.5, 39-0.2], [48.5, 38, 48.5, 39], [49.5, 38+0.2, 49.5, 39+0.2])\n",
    "# example for two subswaths 12 on Abdabil and Yamchi area:\n",
    "sbas.set_pins([47.5, 37.8, 47.5, 38.3], [48.5, 38, 48.5, 38.5])\n",
    "\n",
    "# just miss the function call or run it without arguments to auto-pinning\n",
    "#sbas.set_pins(pins)"
   ]
  },
  {
   "cell_type": "markdown",
   "metadata": {
    "id": "tva6eyuaWE0y"
   },
   "source": [
    "### Static Plot"
   ]
  },
  {
   "cell_type": "code",
   "execution_count": null,
   "metadata": {
    "colab": {
     "base_uri": "https://localhost:8080/",
     "height": 566
    },
    "id": "Je_mvNGTWE0y",
    "outputId": "8c77b683-2d94-47a8-a294-7db41ea90333"
   },
   "outputs": [],
   "source": [
    "plt.figure(figsize=(8,4), dpi=150)\n",
    "gdf =sbas.to_dataframe()\n",
    "cmap = plt.cm.get_cmap('bwr', len(gdf.index.unique()))\n",
    "colors = dict([(v,cmap(k)) for k,v in enumerate(gdf.index.unique())])\n",
    "gdf.reset_index().plot(color=[colors[k] for k in gdf.index], alpha=0.2, edgecolor='black', ax=plt.gca())\n",
    "plt.scatter(x=sbas.get_pins()[::2], y=sbas.get_pins()[1::2], color='black', s=10)\n",
    "plt.title('Sentinel1 Scenes Approximate Location', fontsize=12)\n",
    "plt.show()"
   ]
  },
  {
   "cell_type": "markdown",
   "metadata": {
    "id": "GtuuyMyNWE0y"
   },
   "source": [
    "### Interactive Plot\n",
    "\n",
    "Be careful because interactive plots require more RAM to be visualized\n",
    "\n",
    "The plots below do not work on Debian 10 and Python 3.7"
   ]
  },
  {
   "cell_type": "code",
   "execution_count": null,
   "metadata": {
    "id": "nzT6QDhyWE0y"
   },
   "outputs": [],
   "source": [
    "plots = None\n",
    "if platform.system() == 'Darwin':\n",
    "    opts_common = {'x':'lon', 'y':'lat', 'geo':True, 'width':800, 'height':600}\n",
    "    opts1 = {'tiles':gstiles, 'alpha':0.4, 'title': 'Sentinel1 Scenes Approximate Location'}\n",
    "    plots = sbas.to_dataframe().reset_index().hvplot(color='date', **{**opts_common, **opts1}) \\\n",
    "        * pd.DataFrame({'x': sbas.get_pins()[::2], 'y': sbas.get_pins()[1::2]}).hvplot.points(y='y', x='x', c='black', geo=True)\n",
    "plots"
   ]
  },
  {
   "cell_type": "markdown",
   "metadata": {
    "id": "XOcpHH4lWE0y"
   },
   "source": [
    "### Crop the Frame (Optional)\n",
    "\n",
    "When we satisfied with the pins positions and the target frame we are ready to crop the frame.\n",
    "Just comment the code cell below when you don't need to crop the area."
   ]
  },
  {
   "cell_type": "code",
   "execution_count": null,
   "metadata": {
    "colab": {
     "base_uri": "https://localhost:8080/",
     "height": 49,
     "referenced_widgets": [
      "678d51cc7acb4b1da421447ed74c4a25",
      "0d286f8f1cfd4198a368da35caed2deb",
      "541d2d9271174cc0a8723fa5ea23a1e4",
      "048d4c6ddf8644e1ababc7dfa3b23781",
      "fa362da46d074ed4b4571c32309b2541",
      "cd0a612353b34819af962d26094c1054",
      "e833d9ab84884aa78d4dee0888590ebb",
      "d9c5eb4ab923491c8cf2a2149a164dc9",
      "ce5001fdefab477e9cd6bc853c5e6010",
      "f291d2979204497b97ec7ee2654fbf5d",
      "254e1faec9dd4e9ca97517980e2c23bd"
     ]
    },
    "id": "t-EG2E2AWE0y",
    "outputId": "1c82649d-8fc5-42d3-b5bb-60662f6512dc"
   },
   "outputs": [],
   "source": [
    "sbas.reframe_parallel()"
   ]
  },
  {
   "cell_type": "markdown",
   "metadata": {
    "id": "X7PQc1PgWE0y"
   },
   "source": [
    "### Show the updated dataset (Optional)\n",
    "\n",
    "The newly created scene frames .tiff and .xml files plus orbit files .EOF can be copied for the future processing using `SBAS.backup()` function to use them instead of the original full scenes."
   ]
  },
  {
   "cell_type": "code",
   "execution_count": null,
   "metadata": {
    "colab": {
     "base_uri": "https://localhost:8080/",
     "height": 948
    },
    "id": "IxaxPqKNWE0y",
    "outputId": "7cf55c71-de53-4956-d460-ae95b376926e"
   },
   "outputs": [],
   "source": [
    "sbas.to_dataframe()"
   ]
  },
  {
   "cell_type": "markdown",
   "metadata": {
    "id": "Ou_b2LfGWE0y"
   },
   "source": [
    "### Download SRTM DEM\n",
    "\n",
    "The function below downloads SRTM1 or SRTM3 DEM and converts heights to ellipsoidal model using EGM96 grid.\n",
    "Besides, for faster processing we can use pre-defined DEM file as explained above.\n",
    "\n",
    "SRTM1 product is 30m resolution DEM and SRTM3 is 90m. SRTM1 is much bigger (~10 times) and is usable for small areas. Mainly 90m SRTM3 is the right choice. Use parameter resolution_meters (60 meters by default) to interpolate the DEM to required resolution for the future processing and output.\n",
    "\n",
    "The DEM grid is NetCDF file."
   ]
  },
  {
   "cell_type": "code",
   "execution_count": null,
   "metadata": {
    "colab": {
     "base_uri": "https://localhost:8080/",
     "height": 83,
     "referenced_widgets": [
      "3b4637258c174b8fa12d8d15a60880e9",
      "289fcb4786284b82ab5844bca53d0957",
      "9f79be50895748998abeb34c16da4c44",
      "6b61357370794e24b06303c431280147",
      "81ce49fad7bf47daaeca07f454528538",
      "b14fe36b6c054d5197ceafd10c6f29e8",
      "5de7f82f15de4177bb8d2694686628ab",
      "1d6403ccea8b4fcfae49f5a63819a2d5",
      "7b75a7cf2e1841b49f404805cae8b4ea",
      "f9783e771fc0480590f58ac09834e8ff",
      "59ca33e3d53f4dff9d784a8d09202e41"
     ]
    },
    "id": "67S3oy1lWE0z",
    "outputId": "e0f0b50d-7754-4c74-a529-59c18f4c4e6b"
   },
   "outputs": [],
   "source": [
    "if platform.system() == 'Darwin':\n",
    "    # this command allows to download DEM for a large area but it requires GMT 6.1+ and it does not work on Google Colab\n",
    "    sbas.download_dem(backend='GMT')\n",
    "else:\n",
    "    # for old Linux Debian and Ubuntu use default backend to download SRTM3 DEM for large areas (4°x4° and more)\n",
    "    #sbas.download_dem(product='SRTM3')\n",
    "    # for old Linux Debian and Ubuntu use default backend to download SRTM1 DEM for small areas (less than 4°x4°)\n",
    "    sbas.download_dem(product='SRTM1')"
   ]
  },
  {
   "cell_type": "markdown",
   "metadata": {
    "id": "1VP6Qh8nWE0z"
   },
   "source": [
    "### Static Plots"
   ]
  },
  {
   "cell_type": "code",
   "execution_count": null,
   "metadata": {
    "colab": {
     "base_uri": "https://localhost:8080/",
     "height": 604
    },
    "id": "JEIULwDQWE0z",
    "outputId": "8b4f92b5-923e-4b62-932f-dafba703393d"
   },
   "outputs": [],
   "source": [
    "plt.figure(figsize=(12,4), dpi=150)\n",
    "dem = sbas.get_dem()[::4,::4]\n",
    "dem.plot.imshow(cmap='gray', vmin=dem.min(), vmax=dem.max())\n",
    "sbas.to_dataframe().plot(color='orange', alpha=0.2, ax=plt.gca())\n",
    "plt.title('Sentinel1 Frame on DEM', fontsize=18)\n",
    "plt.show()"
   ]
  },
  {
   "cell_type": "markdown",
   "metadata": {
    "id": "8xDPoGrVWE0z"
   },
   "source": [
    "### Interactive Plot\n",
    "\n",
    "Be careful because interactive plots require more RAM to be visualized\n",
    "\n",
    "The plots below do not work on Debian 10 and Python 3.7"
   ]
  },
  {
   "cell_type": "code",
   "execution_count": null,
   "metadata": {
    "id": "zZaTWYyFWE0z"
   },
   "outputs": [],
   "source": [
    "plots = None\n",
    "if platform.system() == 'Darwin':\n",
    "    title = 'Subswath Topo'\n",
    "    plots = sbas.get_dem()[::4,::4].hvplot(invert=False, cmap='gray', alpha=1, title=title) \\\n",
    "        * sbas.to_dataframe().reset_index().hvplot(color='date', alpha=0.2)\n",
    "plots"
   ]
  },
  {
   "cell_type": "markdown",
   "metadata": {
    "id": "O7w4ZNVanO4Y"
   },
   "source": [
    "## Align a Pair of Images"
   ]
  },
  {
   "cell_type": "code",
   "execution_count": null,
   "metadata": {
    "colab": {
     "base_uri": "https://localhost:8080/",
     "height": 81,
     "referenced_widgets": [
      "763bfde2f2514dee8db3879f0906feba",
      "5585494bed924ab5a16c88b2278b5094",
      "cba670f196514300a2421682c7da4194",
      "3872934c2de4478f9ef25be16497da99",
      "f4783ea1a1aa4404984d8491717fb180",
      "0c008b4a66ac4db88d6f255bb512ae26",
      "92fd0adb5450448d8ab2c58e8154395f",
      "754e3371d5874e77962a96faac9d5335",
      "3a2809b6a4af4eb694f5da0e25fdd7de",
      "635d2ffcd04b4d14b593a8466f4d2e44",
      "db4b6143314f453586bf2a2297b84de6",
      "f6a98b938bd34d0386fea8fac2bce68c",
      "a0e094a3ba8a40ca974ec9bf1c0978bf",
      "720ef7dd184a43db8f40c49de07b9e21",
      "12fad00fca484887aac88669bbfc954f",
      "dc05f7c5ff2f4e59968a8cf7c477fdc4",
      "c9438e9d3baa4225a786d8d6bc3a173c",
      "c8e64d89c00f471f90c6781f717f25ec",
      "6205016f3b6147e5adaf06167df03517",
      "5a902a86a24c4eedb03fe36bbd600c2b",
      "e662308522354187842eb2790a6485fd",
      "d465ed7fe01546a3a2a9d5770f7ee923"
     ]
    },
    "id": "G_WL5BS-nO4Z",
    "outputId": "2967acf1-0bd9-42c1-966d-77652f785629"
   },
   "outputs": [],
   "source": [
    "sbas.stack_parallel()"
   ]
  },
  {
   "cell_type": "markdown",
   "metadata": {
    "id": "zZiBeK26nO4Z"
   },
   "source": [
    "## DEM in Radar Coordinates"
   ]
  },
  {
   "cell_type": "code",
   "execution_count": null,
   "metadata": {
    "colab": {
     "base_uri": "https://localhost:8080/",
     "height": 49,
     "referenced_widgets": [
      "082cc4ef0fc34989a673b1e66ccbbd62",
      "c3ed6edaa89e44cfb18783cb26e2d532",
      "8c3fc10b3e7643b6828f7c51be19d862",
      "ef294830f1a243699566b81c20501b8e",
      "527461dc9e9a430abc217d2dc2c009ae",
      "64f6c1a8631645a5808dd4e6186416ef",
      "1e176dc72ddf4b00b26b08c2ded2147b",
      "c817072d8d0442228bb81cec00f07d8b",
      "a6e1b805e5fd4520be85deea374dc4d6",
      "686a0e54f80445f48e1de13aa725a29a",
      "2a40cc973145461c9ac4aa46be748112"
     ]
    },
    "id": "m8Rit5IHnO4Z",
    "outputId": "a70b5acf-6fa1-471b-fd28-e6de2d896f6c"
   },
   "outputs": [],
   "source": [
    "sbas.topo_ra_parallel()"
   ]
  },
  {
   "cell_type": "markdown",
   "metadata": {
    "id": "VOk38Ov7nO4Z"
   },
   "source": [
    "### Load Grids\n",
    "\n",
    "The grids are NetCDF files processing as xarray DataArrays."
   ]
  },
  {
   "cell_type": "code",
   "execution_count": null,
   "metadata": {
    "id": "iBsETZHxWE0z"
   },
   "outputs": [],
   "source": [
    "topo_ra = sbas.open_grid('topo_ra')"
   ]
  },
  {
   "cell_type": "markdown",
   "metadata": {
    "id": "ZTlovhzdnO4a"
   },
   "source": [
    "### Static Plot"
   ]
  },
  {
   "cell_type": "code",
   "execution_count": null,
   "metadata": {
    "colab": {
     "base_uri": "https://localhost:8080/",
     "height": 355
    },
    "id": "dwYDCc2uWE00",
    "outputId": "ef0f6a33-63e5-4c51-fe6b-64589c3f546d"
   },
   "outputs": [],
   "source": [
    "fig = plt.figure(figsize=(12,4), dpi=300)\n",
    "\n",
    "subswaths = len(topo_ra)\n",
    "for subswath in range(subswaths):\n",
    "    ax = fig.add_subplot(1, subswaths, subswath + 1)\n",
    "    topo_ra[subswath][::4,::4].plot.imshow(cmap='gray', vmin=0, ax=ax)\n",
    "    plt.xlabel('Range', fontsize=16)\n",
    "    plt.ylabel('Azimuth', fontsize=16)\n",
    "    plt.title('Subswath', fontsize=18)\n",
    "\n",
    "plt.suptitle('Topography in Radar Coordinates', fontsize=18)\n",
    "plt.tight_layout()\n",
    "plt.show()"
   ]
  },
  {
   "cell_type": "markdown",
   "metadata": {
    "id": "XyAugXFHnO4a"
   },
   "source": [
    "### Interactive Plot\n",
    "\n",
    "Be careful because interactive plots require more RAM to be visualized\n",
    "\n",
    "The plots below do not work on Debian 10 and Python 3.7"
   ]
  },
  {
   "cell_type": "code",
   "execution_count": null,
   "metadata": {
    "id": "ZTNZy8VOWE00"
   },
   "outputs": [],
   "source": [
    "plots = None\n",
    "if platform.system() == 'Darwin':\n",
    "    subswaths = len(topo_ra)\n",
    "    plot_opts = {'rasterize': True, 'xlabel':'Range', 'ylabel':'Azimuth', 'width':int(900/subswaths), 'height':300}\n",
    "    for subswath in range(subswaths):\n",
    "        plot = topo_ra[subswath][::4,::4].hvplot(cmap='terrain', title='Subswath Topo in Radar Coordinates', **plot_opts)\n",
    "        plots = plots + plot if plots is not None else plot\n",
    "plots"
   ]
  },
  {
   "cell_type": "markdown",
   "metadata": {
    "id": "CaNuiussnO4a"
   },
   "source": [
    "## Interferogram\n",
    "\n",
    "Define a single interferogram or a SBAS series. Make direct and reverse interferograms (from past to future or from future to past).\n",
    "\n",
    "Decimation is useful to save disk space. Geocoding results are always produced on the provided DEM grid so the output grid and resolution are the same to the DEM. By this way, ascending and descending orbit results are always defined on the same grid by design. The internal processing cells is about 15 x 15 meters size and for default output 60m resolution (like to GMTSAR and GAMMA software) decimation 4x4 is reasonable. For the default wavelength=200 for Gaussian filter 1/4 of wavelength is approximately equal to ~60 meters and better resolution is mostly useless (while it can be used for small objects detection). For wavelength=400 meters use 90m or 120m DEM resolution with decimation 6x6 or 8x8 and for wavelength=100 meters use decimation 2x2.\n",
    "\n",
    "The grids are NetCDF files processing as xarray DataArrays."
   ]
  },
  {
   "cell_type": "code",
   "execution_count": null,
   "metadata": {
    "colab": {
     "base_uri": "https://localhost:8080/"
    },
    "id": "7sls3CTUnO4a",
    "outputId": "220be8a0-b21e-4b09-d439-e06672b65942"
   },
   "outputs": [],
   "source": [
    "# for a pair of scenes only two interferograms can be produced\n",
    "# this one is selected for scenes sorted by the date in direct order\n",
    "pairs = [sbas.to_dataframe().index.unique()]\n",
    "pairs"
   ]
  },
  {
   "cell_type": "code",
   "execution_count": null,
   "metadata": {
    "colab": {
     "base_uri": "https://localhost:8080/",
     "height": 49,
     "referenced_widgets": [
      "24a20cc6fd444dc3924135702dd230be",
      "b6537f3963ff4ef7ba99066e02094940",
      "93c24748deea41c8a98868d0d6845944",
      "fa33b9838fd74a379d11a301e39d8dbf",
      "4a167dc4acee4bbfa4d1e4e4161bb399",
      "a774aa016dc8496792f5fde302fa2103",
      "6f2f2dad07a642f8892dd178c8bc8883",
      "f5dc3e64e78b462f8bbd9d1f9cfd155a",
      "7ff8fea219fa4031b7c758376916ffbd",
      "1d3bb8261cd242d9a4e5871ad2d5c4be",
      "fc75ff97d5d2459eadfcff33956430db"
     ]
    },
    "id": "5hhB7RuQnO4a",
    "outputId": "1590452b-b397-4de1-b985-fd56c0a364a9"
   },
   "outputs": [],
   "source": [
    "# miss optional \"func\" argument when post-processing is not required\n",
    "# define a postprocessing function for decimation as func=decimator\n",
    "# for 30m DEM use decimation x=2, y=2 (is equal to GMTSAR rdec=8, adec=2) or 4x4 for 60m DEM\n",
    "decimator = lambda dataarray: dataarray.coarsen({'y': 4, 'x': 4}, boundary='trim').median()\n",
    "\n",
    "# default parameters: wavelength=200, psize=32, func=None (no postprocessing)\n",
    "sbas.intf_parallel(pairs, func=decimator)"
   ]
  },
  {
   "cell_type": "markdown",
   "metadata": {
    "id": "221r_zSyWE00"
   },
   "source": [
    "## Merge Subswaths (Optional)\n",
    "\n",
    "That's the right time to merge subswath interferograms together before unwrapping them. While unwrapping is possible for separate subswath interferograms the merged interferogram unwrapping is more robust and returns better results when unconnected areas on separate subswaths are connected on the merged interferogram."
   ]
  },
  {
   "cell_type": "code",
   "execution_count": null,
   "metadata": {
    "colab": {
     "base_uri": "https://localhost:8080/",
     "height": 66,
     "referenced_widgets": [
      "5af97f2ffea442fdad8838f0c864e072",
      "eea84f0873ef4d948fc23fc921ccbec8",
      "62d770267bfa49bab2c31723a36fc5a6",
      "817aebe7d82a4f698a027cbf16efc094",
      "fee0a703cb5645399f37060eb7a52a69",
      "cc6a4942cbad4f1cb5d68d05913bcf46",
      "4996ed05dbb94f5598821bbc592f70eb",
      "16e8b3d836bb4f9a8cfb844c28fceff0",
      "0c01becbbf514c9aaec427263bca5694",
      "8452e3c7cc2b41f98ad931b697e1ffdd",
      "2bdbad7696ae4d7d900081412948f8ca"
     ]
    },
    "id": "f7Y1AVkYWE00",
    "outputId": "33c7ce8c-4a84-4792-cb75-ff395741a33a"
   },
   "outputs": [],
   "source": [
    "sbas.merge_parallel(pairs)"
   ]
  },
  {
   "cell_type": "code",
   "execution_count": null,
   "metadata": {
    "colab": {
     "base_uri": "https://localhost:8080/",
     "height": 818
    },
    "id": "ouG82kH9WE00",
    "outputId": "c6f56edc-ebae-4df5-819f-4924b8a32098"
   },
   "outputs": [],
   "source": [
    "sbas.to_dataframe()"
   ]
  },
  {
   "cell_type": "markdown",
   "metadata": {
    "id": "F0pQbBlGnO4a"
   },
   "source": [
    "### Load Grids\n",
    "\n",
    "The grids can be cropped automatically to drop empty areas around valid area (use crop_valid=True). On-the fly geocoding from radar to geographic coordinates is possible by geocode=True.\n",
    "\n",
    "The grids are NetCDF files in radar coordinates processing as xarray DataArrays. For a single interferogramm processing convert the 3D stack to 2D grid using index [0]."
   ]
  },
  {
   "cell_type": "code",
   "execution_count": null,
   "metadata": {
    "id": "FcDj1DPInO4a"
   },
   "outputs": [],
   "source": [
    "phasefilt = sbas.open_grids(pairs, 'phasefilt', geocode=True, crop_valid=True)[0]\n",
    "corr = sbas.open_grids(pairs, 'corr', geocode=True, crop_valid=True)[0]"
   ]
  },
  {
   "cell_type": "markdown",
   "metadata": {
    "id": "Pf7K7JinnO4a"
   },
   "source": [
    "### Static Plots"
   ]
  },
  {
   "cell_type": "code",
   "execution_count": null,
   "metadata": {
    "colab": {
     "base_uri": "https://localhost:8080/",
     "height": 448
    },
    "id": "Nrr-pN4FnO4a",
    "outputId": "fb615df3-c713-44c0-f681-4c405ae453c9"
   },
   "outputs": [],
   "source": [
    "plt.figure(figsize=(12,4), dpi=300)\n",
    "phasefilt.plot.imshow(vmin=-np.pi, vmax=np.pi, cmap='gist_rainbow_r')\n",
    "plt.title('Phase, [rad]', fontsize=18)\n",
    "plt.show()"
   ]
  },
  {
   "cell_type": "code",
   "execution_count": null,
   "metadata": {
    "colab": {
     "base_uri": "https://localhost:8080/",
     "height": 447
    },
    "id": "EA93J_sTWE01",
    "outputId": "1328969c-fd48-4372-a66e-5fb6f7d37d04"
   },
   "outputs": [],
   "source": [
    "plt.figure(figsize=(12,4), dpi=300)\n",
    "corr.plot.imshow(vmin=-0, vmax=1, cmap='gray')\n",
    "plt.title('Correlation', fontsize=18)\n",
    "plt.show()"
   ]
  },
  {
   "cell_type": "markdown",
   "metadata": {
    "id": "IIoJyPuanO4b"
   },
   "source": [
    "### Interactive Plot\n",
    "\n",
    "Be careful because interactive plots require more RAM to be visualized\n",
    "\n",
    "The plots below do not work on Debian 10 and Python 3.7"
   ]
  },
  {
   "cell_type": "code",
   "execution_count": null,
   "metadata": {
    "id": "5N37k2zfnO4b"
   },
   "outputs": [],
   "source": [
    "plots = None\n",
    "if platform.system() == 'Darwin':\n",
    "    opts_common = {'x':'lon', 'y':'lat', 'geo':True, 'width':800, 'height':600, 'colorbar':True, 'padding':0}\n",
    "    opts1 = {'tiles':gstiles, 'alpha':0.4, 'cmap':'gist_rainbow_r', 'clim':(-np.pi, np.pi),\n",
    "            'title': f'Sentinel-1 Interferogram [rad] Co-Seismic Pair {pairs[0][0]} - {pairs[0][1]}'}\n",
    "    plots = phasefilt.hvplot(**{**opts_common, **opts1})\n",
    "plots"
   ]
  },
  {
   "cell_type": "markdown",
   "metadata": {
    "id": "9zJWHU5gnO4b"
   },
   "source": [
    "## Unwrapping\n",
    "\n",
    "Unwrapping process requires a lot of RAM and that's really RAM consuming when a lot of parallel proccesses running togeter. To limit the parallel processing tasks apply argument \"n_jobs\". The default value n_jobs=-1 means all the processor cores van be used. Also, use interferogram decimation above to produce smaller interferograms. And in addition a custom SNAPHU configuration can reduce RAM usage as explained below.\n",
    "\n",
    "Attention: in case of crash on MacOS Apple Silicon run Jupyter as\n",
    "\n",
    "`OBJC_DISABLE_INITIALIZE_FORK_SAFETY=YES no_proxy='*' jupyter notebook`"
   ]
  },
  {
   "cell_type": "markdown",
   "metadata": {
    "id": "zklG92cAWE01"
   },
   "source": [
    "### Unwrapping Post-Processing\n",
    "\n",
    "Define post-processing function to exclude low-coherence areas and maybe fill them by nearest neighbour interpolation."
   ]
  },
  {
   "cell_type": "code",
   "execution_count": null,
   "metadata": {
    "id": "4xzZSnnlWE01"
   },
   "outputs": [],
   "source": [
    "# define a post-processing function to crop low-coherence areas\n",
    "cleaner = lambda corr, unwrap: xr.where(corr>=CORRLIMIT, unwrap, np.nan)\n",
    "\n",
    "# define a post-processing function to crop and interpolate low-coherence areas\n",
    "#cleaner = lambda corr, unwrap: sbas.nearest_grid(xr.where(corr>=CORRLIMIT, unwrap, np.nan))"
   ]
  },
  {
   "cell_type": "markdown",
   "metadata": {
    "id": "StEcSJaJf3Ts"
   },
   "source": [
    "### Generate Custom SNAPHU Config\n",
    "\n",
    "Default SNAPHU configuration allows to run multiple unwrapping tasks in parallel. At the same time, for a single interferogram processing or large interferograms unwrapping SNAPHU tiling can decrease the both processing time and RAM comsumption. Be careful to prevent unconnected zones on the tiles when a high coherency area is fully arounded by low-coherent buffer on some tiles (redefine tiles or increase tiles row and column overlapping parameters ROWOVRLP and COLOVRLP)."
   ]
  },
  {
   "cell_type": "code",
   "execution_count": null,
   "metadata": {
    "id": "629pbWxLf4du"
   },
   "outputs": [],
   "source": [
    "# use NPROC parameter to define number of cores for the processing, by default all the cores used\n",
    "conf = sbas.PRM().snaphu_config(defomax=DEFOMAX, NTILEROW=1, NTILECOL=2, ROWOVRLP=200, COLOVRLP=200)"
   ]
  },
  {
   "cell_type": "code",
   "execution_count": null,
   "metadata": {
    "colab": {
     "base_uri": "https://localhost:8080/"
    },
    "id": "YKYp_wFcf6yb",
    "outputId": "e720968e-9dcc-4b2d-9794-3d5e114a20b7"
   },
   "outputs": [],
   "source": [
    "# check the generated SNAPHU config and tune the SNAPHU parameters above if needed.\n",
    "print ('SNAPHU custom config generated:')\n",
    "print (conf)"
   ]
  },
  {
   "cell_type": "markdown",
   "metadata": {
    "id": "Lrrzes7ZgJl6"
   },
   "source": [
    "### Simple Interferogram Unwrapping\n",
    "\n",
    "SNAPHU unwrapper allows to split large scene to tiles for parallel processing and accurately enough merge the tiles to a single image. That's especially helpful to unwrap a single interferogram using all the processor cores and save RAM consumption drastically."
   ]
  },
  {
   "cell_type": "code",
   "execution_count": null,
   "metadata": {
    "id": "thm2NAZbgQMH"
   },
   "outputs": [],
   "source": [
    "# unwrap each interferogram simultaneously on all the avaibalbe processor cores\n",
    "#sbas.unwrap_parallel(pairs, threshold=CORRLIMIT, func=cleaner)"
   ]
  },
  {
   "cell_type": "markdown",
   "metadata": {
    "id": "df5WLqAbWE02"
   },
   "source": [
    "### Custom Interferogram Unwrapping\n",
    "\n",
    "SNAPHU unwrapper allows to split large scene to tiles for parallel processing and accurately enough merge the tiles to a single image. That's especially helpful to unwrap a single interferogram using all the processor cores and save RAM consumption drastically."
   ]
  },
  {
   "cell_type": "code",
   "execution_count": null,
   "metadata": {
    "colab": {
     "base_uri": "https://localhost:8080/",
     "height": 49,
     "referenced_widgets": [
      "e910d8a6cc72434f82416e76e8726043",
      "ee7dad89b173462b989841f489a686f7",
      "c5ade088b13f40efae6f8e466cce6286",
      "c70260f2242c4ba2a5044ec685eb0eb6",
      "1dcf7d82a4644e6982e0bb88e796e317",
      "071aaa3dd5da4e1b976e6aa5638cedec",
      "f6ed9d10d5044ea3b790bbb525f82bb6",
      "b45236beb698401abf96c713e385fea5",
      "fffcb4658ca9418497244245e916d848",
      "b20a7d5abdc84679a35bbe586083e7c7",
      "c3ff89ab865342bcb103f27be898ae67"
     ]
    },
    "id": "vkdrwaMkWE02",
    "outputId": "77d18d92-8a13-4a79-edb3-e03b25159c67"
   },
   "outputs": [],
   "source": [
    "# \"FileNotFoundError\" SNAPHU error means the processing is not completed normally for some tiles\n",
    "# try again with different SNAPHU parameters\n",
    "\n",
    "# miss \"func\" argument or set it to None when post-processing is not required\n",
    "# run only one unwrapping task at the time because the custom SNAPHU configuration uses all the cores\n",
    "sbas.unwrap_parallel(pairs, n_jobs=1, threshold=CORRLIMIT, func=cleaner, conf=conf)"
   ]
  },
  {
   "cell_type": "markdown",
   "metadata": {
    "id": "UwpxKy1HWE02"
   },
   "source": [
    "### Load Grid\n",
    "\n",
    "The grids can be cropped automatically to drop empty areas around valid area. Use `open_grids(..., crop_valid=True)` to enable the auto cropping feature. Argument geocode=True means on-the-fly geocoding from radar to geographic coordinates (all the grids saved on disk in radar coordinates plus geocoding matrices are generated for the fast geocoding). For a single interferogramm processing convert the 3D stack to 2D grid using index [0]."
   ]
  },
  {
   "cell_type": "code",
   "execution_count": null,
   "metadata": {
    "id": "e2cWo6U9nO4b"
   },
   "outputs": [],
   "source": [
    "unwrap = sbas.open_grids(pairs, 'unwrap', geocode=True, crop_valid=True)[0]"
   ]
  },
  {
   "cell_type": "markdown",
   "metadata": {
    "id": "9KRwzOn5nO4b"
   },
   "source": [
    "### Static Plot"
   ]
  },
  {
   "cell_type": "code",
   "execution_count": null,
   "metadata": {
    "colab": {
     "base_uri": "https://localhost:8080/",
     "height": 450
    },
    "id": "MrESjnU_zFnv",
    "outputId": "2aadc138-79c8-4ddc-9827-4e89e4886fe1"
   },
   "outputs": [],
   "source": [
    "plt.figure(figsize=(12,4), dpi=300)\n",
    "zmin, zmax = np.nanquantile(unwrap, [0.01, 0.99])\n",
    "unwrap.plot.imshow(vmin=zmin, vmax=zmax, cmap='jet')\n",
    "plt.title('Unwrapped Phase, [rad]', fontsize=18)\n",
    "plt.show()"
   ]
  },
  {
   "cell_type": "markdown",
   "metadata": {
    "id": "KJVcIRONnO4b"
   },
   "source": [
    "### Interactive Plot\n",
    "\n",
    "Be careful because interactive plots require more RAM to be visualized\n",
    "\n",
    "The plots below do not work on Debian 10 and Python 3.7"
   ]
  },
  {
   "cell_type": "code",
   "execution_count": null,
   "metadata": {
    "id": "Ml3gR1yKnO4b"
   },
   "outputs": [],
   "source": [
    "plots = None\n",
    "if platform.system() == 'Darwin':\n",
    "    opts_common = {'x':'lon', 'y':'lat', 'geo':True, 'width':800, 'height':600, 'colorbar':True, 'padding':0}\n",
    "    opts2 = {'tiles':gstiles, 'alpha':0.5, 'cmap':'turbo', 'clim':(zmin, zmax),\n",
    "             'title': f'Sentinel-1 Unwrapped Phase [rad] Co-Seismic Pair {pairs[0][0]} - {pairs[0][1]}'}\n",
    "    plots = unwrap.hvplot(**{**opts_common, **opts2})\n",
    "plots"
   ]
  },
  {
   "cell_type": "markdown",
   "metadata": {
    "id": "gyZszpvKnO4b"
   },
   "source": [
    "## LOS Displacement"
   ]
  },
  {
   "cell_type": "markdown",
   "metadata": {
    "id": "1nP7uqbsnO4c"
   },
   "source": [
    "### Load and Calculate Grid\n",
    "\n",
    "The grids can be post-processed using user-defined function \"func\". SBAS function `los_displacement_mm()` converts unwrapped phase values to LOS displacement in millimeters. For a single interferogramm processing convert the 3D stack to 2D grid using index [0]."
   ]
  },
  {
   "cell_type": "code",
   "execution_count": null,
   "metadata": {
    "id": "j0JIt-TunO4c"
   },
   "outputs": [],
   "source": [
    "los_disp_mm = sbas.open_grids(pairs, 'unwrap', func=sbas.los_displacement_mm, geocode=True, crop_valid=True)[0]"
   ]
  },
  {
   "cell_type": "markdown",
   "metadata": {
    "id": "YXVOPRhjnO4c"
   },
   "source": [
    "### Static Plot"
   ]
  },
  {
   "cell_type": "code",
   "execution_count": null,
   "metadata": {
    "colab": {
     "base_uri": "https://localhost:8080/",
     "height": 444
    },
    "id": "z3mXJfdky_Ya",
    "outputId": "7ad539b0-7f87-4ccf-fe91-25cc0c39ff3a"
   },
   "outputs": [],
   "source": [
    "plt.figure(figsize=(12,4), dpi=300)\n",
    "zmin, zmax = np.nanquantile(los_disp_mm, [0.01, 0.99])\n",
    "los_disp_mm.plot.imshow(vmin=zmin, vmax=zmax, cmap='jet')\n",
    "plt.title('LOS Displacement, [mm]', fontsize=18)\n",
    "plt.show()"
   ]
  },
  {
   "cell_type": "markdown",
   "metadata": {
    "id": "gITt_W-SnO4c"
   },
   "source": [
    "### Interactive Plot\n",
    "\n",
    "Be careful because interactive plots require more RAM to be visualized\n",
    "\n",
    "The plots below do not work on Debian 10 and Python 3.7"
   ]
  },
  {
   "cell_type": "code",
   "execution_count": null,
   "metadata": {
    "id": "Bw4-BbR2WE03"
   },
   "outputs": [],
   "source": [
    "plots = None\n",
    "if platform.system() == 'Darwin':\n",
    "    opts_common = {'x':'lon', 'y':'lat', 'geo':True, 'width':800, 'height':600, 'colorbar':True, 'padding':0}\n",
    "    opts2 = {'tiles':gstiles, 'alpha':0.5, 'cmap':'turbo', 'clim':(zmin, zmax),\n",
    "             'title': f'Sentinel-1 LOS Displacement [mm] Co-Seismic Pair {pairs[0][0]} - {pairs[0][1]}'}\n",
    "    plots = los_disp_mm.hvplot(**{**opts_common, **opts2})\n",
    "plots"
   ]
  },
  {
   "cell_type": "markdown",
   "metadata": {
    "id": "Jk4cJ_H_2e3A"
   },
   "source": [
    "## Measure Maximum and Minimum LOS Displacement, [mm]"
   ]
  },
  {
   "cell_type": "code",
   "execution_count": null,
   "metadata": {
    "colab": {
     "base_uri": "https://localhost:8080/"
    },
    "id": "bQ5NhM1L2dvb",
    "outputId": "c02784f8-fa72-4d3e-cdf7-493e8dcfe467"
   },
   "outputs": [],
   "source": [
    "los_disp_mm.min().round().item(), los_disp_mm.max().round().item()"
   ]
  },
  {
   "cell_type": "markdown",
   "metadata": {
    "id": "i_ozwQrmWE03"
   },
   "source": [
    "## Save the Results\n",
    "\n",
    "Save the results in geospatial data formats like to NetCDF, GeoTIFF and others. The both formats (NetCDF and GeoTIFF) can be opened in QGIS and other GIS applications."
   ]
  },
  {
   "cell_type": "code",
   "execution_count": null,
   "metadata": {
    "id": "5hnHX-p3WE03"
   },
   "outputs": [],
   "source": [
    "# define the filenames for phase, correlation, LOS displacement\n",
    "phasefilt_filename = f'phasefilt_iw{SUBSWATH}_{POLARIZATION}_{ORBIT}.nc'\n",
    "corr_filename = f'corr_iw{SUBSWATH}_{POLARIZATION}_{ORBIT}.nc'\n",
    "displacement_filename = f'los_disp_mm_iw{SUBSWATH}_{POLARIZATION}_{ORBIT}.nc'\n",
    "\n",
    "# save the results\n",
    "phasefilt.to_netcdf(phasefilt_filename)\n",
    "corr.to_netcdf(corr_filename)\n",
    "los_disp_mm.to_netcdf(displacement_filename)"
   ]
  },
  {
   "cell_type": "markdown",
   "metadata": {
    "id": "5LyYSsn_WE03"
   },
   "source": [
    "### Export from Google Colab "
   ]
  },
  {
   "cell_type": "code",
   "execution_count": null,
   "metadata": {
    "colab": {
     "base_uri": "https://localhost:8080/",
     "height": 17
    },
    "id": "xlN5J54HWE03",
    "outputId": "66c0ac89-0c0d-442b-f7de-23556149e0e4"
   },
   "outputs": [],
   "source": [
    "try:\n",
    "    from google.colab import files\n",
    "    files.download(phasefilt_filename)\n",
    "    files.download(corr_filename)\n",
    "    files.download(displacement_filename)\n",
    "except:\n",
    "    pass"
   ]
  },
  {
   "cell_type": "markdown",
   "metadata": {
    "id": "UblF_iNVWE03"
   },
   "source": [
    "## Backup Pre-Processed Data"
   ]
  },
  {
   "cell_type": "markdown",
   "metadata": {
    "id": "qPQfH09tWE03"
   },
   "source": [
    "Save the stitched and cropped scenes and downloaded DEM and orbit files to a new directory using `SBAS.backup(dir)` command and load the dataset later as `SBAS(dir, 'dir/DEM_WGS84.nc', basedir=WORKDIR)` Do not forgot to download the backup to use it later."
   ]
  },
  {
   "cell_type": "code",
   "execution_count": null,
   "metadata": {
    "colab": {
     "base_uri": "https://localhost:8080/"
    },
    "id": "ZFdIR8eUWE03",
    "outputId": "8988f1b6-8aac-4485-b10a-eaff72d215dc"
   },
   "outputs": [],
   "source": [
    "if DATADIR != 'backup':\n",
    "    print ('Create backup to use it for the next reproducible runs without the original scenes downloading')\n",
    "    sbas.backup('backup')"
   ]
  },
  {
   "cell_type": "code",
   "execution_count": null,
   "metadata": {
    "colab": {
     "base_uri": "https://localhost:8080/"
    },
    "id": "DmM-CmjVWE04",
    "outputId": "a9d40902-396c-4c53-84d6-5ebcd7193045"
   },
   "outputs": [],
   "source": [
    "!ls backup"
   ]
  },
  {
   "cell_type": "markdown",
   "metadata": {
    "id": "dBo7r4M3WE04"
   },
   "source": [
    "## Conclusion"
   ]
  },
  {
   "cell_type": "markdown",
   "metadata": {
    "id": "HnupLjs4WE04"
   },
   "source": [
    "For now you have the full control on interferometry processing and unwrapping and able to run it everywhere: on free of charge Google Colab instances, on local MacOS and Linux computers and on Amazon EC2 and Google Cloud VM and AI Notebook instances."
   ]
  }
 ],
 "metadata": {
  "colab": {
   "collapsed_sections": [],
   "name": "ASF_Downloading_2020_Ardabil_Earthquake.ipynb",
   "provenance": []
  },
  "environment": {
   "name": "common-cpu.m80",
   "type": "gcloud",
   "uri": "gcr.io/deeplearning-platform-release/base-cpu:m80"
  },
  "kernelspec": {
   "display_name": "Python 3 (ipykernel)",
   "language": "python",
   "name": "python3"
  },
  "language_info": {
   "codemirror_mode": {
    "name": "ipython",
    "version": 3
   },
   "file_extension": ".py",
   "mimetype": "text/x-python",
   "name": "python",
   "nbconvert_exporter": "python",
   "pygments_lexer": "ipython3",
   "version": "3.9.13"
  },
  "widgets": {
   "application/vnd.jupyter.widget-state+json": {
    "00804db3269d4e50bebaa18c6c7892c6": {
     "model_module": "@jupyter-widgets/base",
     "model_module_version": "1.2.0",
     "model_name": "LayoutModel",
     "state": {
      "_model_module": "@jupyter-widgets/base",
      "_model_module_version": "1.2.0",
      "_model_name": "LayoutModel",
      "_view_count": null,
      "_view_module": "@jupyter-widgets/base",
      "_view_module_version": "1.2.0",
      "_view_name": "LayoutView",
      "align_content": null,
      "align_items": null,
      "align_self": null,
      "border": null,
      "bottom": null,
      "display": null,
      "flex": null,
      "flex_flow": null,
      "grid_area": null,
      "grid_auto_columns": null,
      "grid_auto_flow": null,
      "grid_auto_rows": null,
      "grid_column": null,
      "grid_gap": null,
      "grid_row": null,
      "grid_template_areas": null,
      "grid_template_columns": null,
      "grid_template_rows": null,
      "height": null,
      "justify_content": null,
      "justify_items": null,
      "left": null,
      "margin": null,
      "max_height": null,
      "max_width": null,
      "min_height": null,
      "min_width": null,
      "object_fit": null,
      "object_position": null,
      "order": null,
      "overflow": null,
      "overflow_x": null,
      "overflow_y": null,
      "padding": null,
      "right": null,
      "top": null,
      "visibility": null,
      "width": null
     }
    },
    "048d4c6ddf8644e1ababc7dfa3b23781": {
     "model_module": "@jupyter-widgets/controls",
     "model_module_version": "1.5.0",
     "model_name": "HTMLModel",
     "state": {
      "_dom_classes": [],
      "_model_module": "@jupyter-widgets/controls",
      "_model_module_version": "1.5.0",
      "_model_name": "HTMLModel",
      "_view_count": null,
      "_view_module": "@jupyter-widgets/controls",
      "_view_module_version": "1.5.0",
      "_view_name": "HTMLView",
      "description": "",
      "description_tooltip": null,
      "layout": "IPY_MODEL_f291d2979204497b97ec7ee2654fbf5d",
      "placeholder": "​",
      "style": "IPY_MODEL_254e1faec9dd4e9ca97517980e2c23bd",
      "value": " 4/4 [00:17&lt;00:00,  3.76s/it]"
     }
    },
    "063ebe0321ed459f86bbc5d6627fef4e": {
     "model_module": "@jupyter-widgets/base",
     "model_module_version": "1.2.0",
     "model_name": "LayoutModel",
     "state": {
      "_model_module": "@jupyter-widgets/base",
      "_model_module_version": "1.2.0",
      "_model_name": "LayoutModel",
      "_view_count": null,
      "_view_module": "@jupyter-widgets/base",
      "_view_module_version": "1.2.0",
      "_view_name": "LayoutView",
      "align_content": null,
      "align_items": null,
      "align_self": null,
      "border": null,
      "bottom": null,
      "display": null,
      "flex": null,
      "flex_flow": null,
      "grid_area": null,
      "grid_auto_columns": null,
      "grid_auto_flow": null,
      "grid_auto_rows": null,
      "grid_column": null,
      "grid_gap": null,
      "grid_row": null,
      "grid_template_areas": null,
      "grid_template_columns": null,
      "grid_template_rows": null,
      "height": null,
      "justify_content": null,
      "justify_items": null,
      "left": null,
      "margin": null,
      "max_height": null,
      "max_width": null,
      "min_height": null,
      "min_width": null,
      "object_fit": null,
      "object_position": null,
      "order": null,
      "overflow": null,
      "overflow_x": null,
      "overflow_y": null,
      "padding": null,
      "right": null,
      "top": null,
      "visibility": null,
      "width": null
     }
    },
    "071aaa3dd5da4e1b976e6aa5638cedec": {
     "model_module": "@jupyter-widgets/base",
     "model_module_version": "1.2.0",
     "model_name": "LayoutModel",
     "state": {
      "_model_module": "@jupyter-widgets/base",
      "_model_module_version": "1.2.0",
      "_model_name": "LayoutModel",
      "_view_count": null,
      "_view_module": "@jupyter-widgets/base",
      "_view_module_version": "1.2.0",
      "_view_name": "LayoutView",
      "align_content": null,
      "align_items": null,
      "align_self": null,
      "border": null,
      "bottom": null,
      "display": null,
      "flex": null,
      "flex_flow": null,
      "grid_area": null,
      "grid_auto_columns": null,
      "grid_auto_flow": null,
      "grid_auto_rows": null,
      "grid_column": null,
      "grid_gap": null,
      "grid_row": null,
      "grid_template_areas": null,
      "grid_template_columns": null,
      "grid_template_rows": null,
      "height": null,
      "justify_content": null,
      "justify_items": null,
      "left": null,
      "margin": null,
      "max_height": null,
      "max_width": null,
      "min_height": null,
      "min_width": null,
      "object_fit": null,
      "object_position": null,
      "order": null,
      "overflow": null,
      "overflow_x": null,
      "overflow_y": null,
      "padding": null,
      "right": null,
      "top": null,
      "visibility": null,
      "width": null
     }
    },
    "082cc4ef0fc34989a673b1e66ccbbd62": {
     "model_module": "@jupyter-widgets/controls",
     "model_module_version": "1.5.0",
     "model_name": "HBoxModel",
     "state": {
      "_dom_classes": [],
      "_model_module": "@jupyter-widgets/controls",
      "_model_module_version": "1.5.0",
      "_model_name": "HBoxModel",
      "_view_count": null,
      "_view_module": "@jupyter-widgets/controls",
      "_view_module_version": "1.5.0",
      "_view_name": "HBoxView",
      "box_style": "",
      "children": [
       "IPY_MODEL_c3ed6edaa89e44cfb18783cb26e2d532",
       "IPY_MODEL_8c3fc10b3e7643b6828f7c51be19d862",
       "IPY_MODEL_ef294830f1a243699566b81c20501b8e"
      ],
      "layout": "IPY_MODEL_527461dc9e9a430abc217d2dc2c009ae"
     }
    },
    "0c008b4a66ac4db88d6f255bb512ae26": {
     "model_module": "@jupyter-widgets/base",
     "model_module_version": "1.2.0",
     "model_name": "LayoutModel",
     "state": {
      "_model_module": "@jupyter-widgets/base",
      "_model_module_version": "1.2.0",
      "_model_name": "LayoutModel",
      "_view_count": null,
      "_view_module": "@jupyter-widgets/base",
      "_view_module_version": "1.2.0",
      "_view_name": "LayoutView",
      "align_content": null,
      "align_items": null,
      "align_self": null,
      "border": null,
      "bottom": null,
      "display": null,
      "flex": null,
      "flex_flow": null,
      "grid_area": null,
      "grid_auto_columns": null,
      "grid_auto_flow": null,
      "grid_auto_rows": null,
      "grid_column": null,
      "grid_gap": null,
      "grid_row": null,
      "grid_template_areas": null,
      "grid_template_columns": null,
      "grid_template_rows": null,
      "height": null,
      "justify_content": null,
      "justify_items": null,
      "left": null,
      "margin": null,
      "max_height": null,
      "max_width": null,
      "min_height": null,
      "min_width": null,
      "object_fit": null,
      "object_position": null,
      "order": null,
      "overflow": null,
      "overflow_x": null,
      "overflow_y": null,
      "padding": null,
      "right": null,
      "top": null,
      "visibility": null,
      "width": null
     }
    },
    "0c01becbbf514c9aaec427263bca5694": {
     "model_module": "@jupyter-widgets/controls",
     "model_module_version": "1.5.0",
     "model_name": "ProgressStyleModel",
     "state": {
      "_model_module": "@jupyter-widgets/controls",
      "_model_module_version": "1.5.0",
      "_model_name": "ProgressStyleModel",
      "_view_count": null,
      "_view_module": "@jupyter-widgets/base",
      "_view_module_version": "1.2.0",
      "_view_name": "StyleView",
      "bar_color": null,
      "description_width": ""
     }
    },
    "0d286f8f1cfd4198a368da35caed2deb": {
     "model_module": "@jupyter-widgets/controls",
     "model_module_version": "1.5.0",
     "model_name": "HTMLModel",
     "state": {
      "_dom_classes": [],
      "_model_module": "@jupyter-widgets/controls",
      "_model_module_version": "1.5.0",
      "_model_name": "HTMLModel",
      "_view_count": null,
      "_view_module": "@jupyter-widgets/controls",
      "_view_module_version": "1.5.0",
      "_view_name": "HTMLView",
      "description": "",
      "description_tooltip": null,
      "layout": "IPY_MODEL_cd0a612353b34819af962d26094c1054",
      "placeholder": "​",
      "style": "IPY_MODEL_e833d9ab84884aa78d4dee0888590ebb",
      "value": "Reframing: 100%"
     }
    },
    "12fad00fca484887aac88669bbfc954f": {
     "model_module": "@jupyter-widgets/controls",
     "model_module_version": "1.5.0",
     "model_name": "HTMLModel",
     "state": {
      "_dom_classes": [],
      "_model_module": "@jupyter-widgets/controls",
      "_model_module_version": "1.5.0",
      "_model_name": "HTMLModel",
      "_view_count": null,
      "_view_module": "@jupyter-widgets/controls",
      "_view_module_version": "1.5.0",
      "_view_name": "HTMLView",
      "description": "",
      "description_tooltip": null,
      "layout": "IPY_MODEL_e662308522354187842eb2790a6485fd",
      "placeholder": "​",
      "style": "IPY_MODEL_d465ed7fe01546a3a2a9d5770f7ee923",
      "value": " 2/2 [02:10&lt;00:00, 56.13s/it]"
     }
    },
    "136071dad501442dbd68ce10647fccfc": {
     "model_module": "@jupyter-widgets/controls",
     "model_module_version": "1.5.0",
     "model_name": "ProgressStyleModel",
     "state": {
      "_model_module": "@jupyter-widgets/controls",
      "_model_module_version": "1.5.0",
      "_model_name": "ProgressStyleModel",
      "_view_count": null,
      "_view_module": "@jupyter-widgets/base",
      "_view_module_version": "1.2.0",
      "_view_name": "StyleView",
      "bar_color": null,
      "description_width": ""
     }
    },
    "1403af9b9eca4e0abefd27ba3b100094": {
     "model_module": "@jupyter-widgets/base",
     "model_module_version": "1.2.0",
     "model_name": "LayoutModel",
     "state": {
      "_model_module": "@jupyter-widgets/base",
      "_model_module_version": "1.2.0",
      "_model_name": "LayoutModel",
      "_view_count": null,
      "_view_module": "@jupyter-widgets/base",
      "_view_module_version": "1.2.0",
      "_view_name": "LayoutView",
      "align_content": null,
      "align_items": null,
      "align_self": null,
      "border": null,
      "bottom": null,
      "display": null,
      "flex": null,
      "flex_flow": null,
      "grid_area": null,
      "grid_auto_columns": null,
      "grid_auto_flow": null,
      "grid_auto_rows": null,
      "grid_column": null,
      "grid_gap": null,
      "grid_row": null,
      "grid_template_areas": null,
      "grid_template_columns": null,
      "grid_template_rows": null,
      "height": null,
      "justify_content": null,
      "justify_items": null,
      "left": null,
      "margin": null,
      "max_height": null,
      "max_width": null,
      "min_height": null,
      "min_width": null,
      "object_fit": null,
      "object_position": null,
      "order": null,
      "overflow": null,
      "overflow_x": null,
      "overflow_y": null,
      "padding": null,
      "right": null,
      "top": null,
      "visibility": null,
      "width": null
     }
    },
    "16e8b3d836bb4f9a8cfb844c28fceff0": {
     "model_module": "@jupyter-widgets/base",
     "model_module_version": "1.2.0",
     "model_name": "LayoutModel",
     "state": {
      "_model_module": "@jupyter-widgets/base",
      "_model_module_version": "1.2.0",
      "_model_name": "LayoutModel",
      "_view_count": null,
      "_view_module": "@jupyter-widgets/base",
      "_view_module_version": "1.2.0",
      "_view_name": "LayoutView",
      "align_content": null,
      "align_items": null,
      "align_self": null,
      "border": null,
      "bottom": null,
      "display": null,
      "flex": null,
      "flex_flow": null,
      "grid_area": null,
      "grid_auto_columns": null,
      "grid_auto_flow": null,
      "grid_auto_rows": null,
      "grid_column": null,
      "grid_gap": null,
      "grid_row": null,
      "grid_template_areas": null,
      "grid_template_columns": null,
      "grid_template_rows": null,
      "height": null,
      "justify_content": null,
      "justify_items": null,
      "left": null,
      "margin": null,
      "max_height": null,
      "max_width": null,
      "min_height": null,
      "min_width": null,
      "object_fit": null,
      "object_position": null,
      "order": null,
      "overflow": null,
      "overflow_x": null,
      "overflow_y": null,
      "padding": null,
      "right": null,
      "top": null,
      "visibility": null,
      "width": null
     }
    },
    "1953c48665be4d6cb0ec4a20af0bf2b6": {
     "model_module": "@jupyter-widgets/controls",
     "model_module_version": "1.5.0",
     "model_name": "FloatProgressModel",
     "state": {
      "_dom_classes": [],
      "_model_module": "@jupyter-widgets/controls",
      "_model_module_version": "1.5.0",
      "_model_name": "FloatProgressModel",
      "_view_count": null,
      "_view_module": "@jupyter-widgets/controls",
      "_view_module_version": "1.5.0",
      "_view_name": "ProgressView",
      "bar_style": "success",
      "description": "",
      "description_tooltip": null,
      "layout": "IPY_MODEL_73b4763865804ce2a6b0e231ec29ef17",
      "max": 1,
      "min": 0,
      "orientation": "horizontal",
      "style": "IPY_MODEL_68e133c583bd41ca8a76f9dc4f4a9f8c",
      "value": 1
     }
    },
    "1bb10ddddf80492e93c53b29de54767f": {
     "model_module": "@jupyter-widgets/controls",
     "model_module_version": "1.5.0",
     "model_name": "HTMLModel",
     "state": {
      "_dom_classes": [],
      "_model_module": "@jupyter-widgets/controls",
      "_model_module_version": "1.5.0",
      "_model_name": "HTMLModel",
      "_view_count": null,
      "_view_module": "@jupyter-widgets/controls",
      "_view_module_version": "1.5.0",
      "_view_name": "HTMLView",
      "description": "",
      "description_tooltip": null,
      "layout": "IPY_MODEL_5f529fd5954745168b12cd457f3363cd",
      "placeholder": "​",
      "style": "IPY_MODEL_56945233eb8a44ae87d28da1796da6a4",
      "value": "Downloading products: 100%"
     }
    },
    "1d3bb8261cd242d9a4e5871ad2d5c4be": {
     "model_module": "@jupyter-widgets/base",
     "model_module_version": "1.2.0",
     "model_name": "LayoutModel",
     "state": {
      "_model_module": "@jupyter-widgets/base",
      "_model_module_version": "1.2.0",
      "_model_name": "LayoutModel",
      "_view_count": null,
      "_view_module": "@jupyter-widgets/base",
      "_view_module_version": "1.2.0",
      "_view_name": "LayoutView",
      "align_content": null,
      "align_items": null,
      "align_self": null,
      "border": null,
      "bottom": null,
      "display": null,
      "flex": null,
      "flex_flow": null,
      "grid_area": null,
      "grid_auto_columns": null,
      "grid_auto_flow": null,
      "grid_auto_rows": null,
      "grid_column": null,
      "grid_gap": null,
      "grid_row": null,
      "grid_template_areas": null,
      "grid_template_columns": null,
      "grid_template_rows": null,
      "height": null,
      "justify_content": null,
      "justify_items": null,
      "left": null,
      "margin": null,
      "max_height": null,
      "max_width": null,
      "min_height": null,
      "min_width": null,
      "object_fit": null,
      "object_position": null,
      "order": null,
      "overflow": null,
      "overflow_x": null,
      "overflow_y": null,
      "padding": null,
      "right": null,
      "top": null,
      "visibility": null,
      "width": null
     }
    },
    "1d6403ccea8b4fcfae49f5a63819a2d5": {
     "model_module": "@jupyter-widgets/base",
     "model_module_version": "1.2.0",
     "model_name": "LayoutModel",
     "state": {
      "_model_module": "@jupyter-widgets/base",
      "_model_module_version": "1.2.0",
      "_model_name": "LayoutModel",
      "_view_count": null,
      "_view_module": "@jupyter-widgets/base",
      "_view_module_version": "1.2.0",
      "_view_name": "LayoutView",
      "align_content": null,
      "align_items": null,
      "align_self": null,
      "border": null,
      "bottom": null,
      "display": null,
      "flex": null,
      "flex_flow": null,
      "grid_area": null,
      "grid_auto_columns": null,
      "grid_auto_flow": null,
      "grid_auto_rows": null,
      "grid_column": null,
      "grid_gap": null,
      "grid_row": null,
      "grid_template_areas": null,
      "grid_template_columns": null,
      "grid_template_rows": null,
      "height": null,
      "justify_content": null,
      "justify_items": null,
      "left": null,
      "margin": null,
      "max_height": null,
      "max_width": null,
      "min_height": null,
      "min_width": null,
      "object_fit": null,
      "object_position": null,
      "order": null,
      "overflow": null,
      "overflow_x": null,
      "overflow_y": null,
      "padding": null,
      "right": null,
      "top": null,
      "visibility": null,
      "width": null
     }
    },
    "1dcf7d82a4644e6982e0bb88e796e317": {
     "model_module": "@jupyter-widgets/base",
     "model_module_version": "1.2.0",
     "model_name": "LayoutModel",
     "state": {
      "_model_module": "@jupyter-widgets/base",
      "_model_module_version": "1.2.0",
      "_model_name": "LayoutModel",
      "_view_count": null,
      "_view_module": "@jupyter-widgets/base",
      "_view_module_version": "1.2.0",
      "_view_name": "LayoutView",
      "align_content": null,
      "align_items": null,
      "align_self": null,
      "border": null,
      "bottom": null,
      "display": null,
      "flex": null,
      "flex_flow": null,
      "grid_area": null,
      "grid_auto_columns": null,
      "grid_auto_flow": null,
      "grid_auto_rows": null,
      "grid_column": null,
      "grid_gap": null,
      "grid_row": null,
      "grid_template_areas": null,
      "grid_template_columns": null,
      "grid_template_rows": null,
      "height": null,
      "justify_content": null,
      "justify_items": null,
      "left": null,
      "margin": null,
      "max_height": null,
      "max_width": null,
      "min_height": null,
      "min_width": null,
      "object_fit": null,
      "object_position": null,
      "order": null,
      "overflow": null,
      "overflow_x": null,
      "overflow_y": null,
      "padding": null,
      "right": null,
      "top": null,
      "visibility": null,
      "width": null
     }
    },
    "1e176dc72ddf4b00b26b08c2ded2147b": {
     "model_module": "@jupyter-widgets/controls",
     "model_module_version": "1.5.0",
     "model_name": "DescriptionStyleModel",
     "state": {
      "_model_module": "@jupyter-widgets/controls",
      "_model_module_version": "1.5.0",
      "_model_name": "DescriptionStyleModel",
      "_view_count": null,
      "_view_module": "@jupyter-widgets/base",
      "_view_module_version": "1.2.0",
      "_view_name": "StyleView",
      "description_width": ""
     }
    },
    "1ebbdfa1fdff4735b53030db36ac3e2d": {
     "model_module": "@jupyter-widgets/base",
     "model_module_version": "1.2.0",
     "model_name": "LayoutModel",
     "state": {
      "_model_module": "@jupyter-widgets/base",
      "_model_module_version": "1.2.0",
      "_model_name": "LayoutModel",
      "_view_count": null,
      "_view_module": "@jupyter-widgets/base",
      "_view_module_version": "1.2.0",
      "_view_name": "LayoutView",
      "align_content": null,
      "align_items": null,
      "align_self": null,
      "border": null,
      "bottom": null,
      "display": null,
      "flex": null,
      "flex_flow": null,
      "grid_area": null,
      "grid_auto_columns": null,
      "grid_auto_flow": null,
      "grid_auto_rows": null,
      "grid_column": null,
      "grid_gap": null,
      "grid_row": null,
      "grid_template_areas": null,
      "grid_template_columns": null,
      "grid_template_rows": null,
      "height": null,
      "justify_content": null,
      "justify_items": null,
      "left": null,
      "margin": null,
      "max_height": null,
      "max_width": null,
      "min_height": null,
      "min_width": null,
      "object_fit": null,
      "object_position": null,
      "order": null,
      "overflow": null,
      "overflow_x": null,
      "overflow_y": null,
      "padding": null,
      "right": null,
      "top": null,
      "visibility": null,
      "width": null
     }
    },
    "20510e52ae6a4a70adf4f8cb2a2718be": {
     "model_module": "@jupyter-widgets/controls",
     "model_module_version": "1.5.0",
     "model_name": "HTMLModel",
     "state": {
      "_dom_classes": [],
      "_model_module": "@jupyter-widgets/controls",
      "_model_module_version": "1.5.0",
      "_model_name": "HTMLModel",
      "_view_count": null,
      "_view_module": "@jupyter-widgets/controls",
      "_view_module_version": "1.5.0",
      "_view_name": "HTMLView",
      "description": "",
      "description_tooltip": null,
      "layout": "IPY_MODEL_5269389893624ac9812cfda1bca56e3a",
      "placeholder": "​",
      "style": "IPY_MODEL_624d47cf42df4ace9d849a41d480ae2e",
      "value": " 1/1 [00:00&lt;00:00,  2.93product/s]"
     }
    },
    "24a20cc6fd444dc3924135702dd230be": {
     "model_module": "@jupyter-widgets/controls",
     "model_module_version": "1.5.0",
     "model_name": "HBoxModel",
     "state": {
      "_dom_classes": [],
      "_model_module": "@jupyter-widgets/controls",
      "_model_module_version": "1.5.0",
      "_model_name": "HBoxModel",
      "_view_count": null,
      "_view_module": "@jupyter-widgets/controls",
      "_view_module_version": "1.5.0",
      "_view_name": "HBoxView",
      "box_style": "",
      "children": [
       "IPY_MODEL_b6537f3963ff4ef7ba99066e02094940",
       "IPY_MODEL_93c24748deea41c8a98868d0d6845944",
       "IPY_MODEL_fa33b9838fd74a379d11a301e39d8dbf"
      ],
      "layout": "IPY_MODEL_4a167dc4acee4bbfa4d1e4e4161bb399"
     }
    },
    "24ef7f660d3b4d0ebe8bb3af2ce9b02c": {
     "model_module": "@jupyter-widgets/base",
     "model_module_version": "1.2.0",
     "model_name": "LayoutModel",
     "state": {
      "_model_module": "@jupyter-widgets/base",
      "_model_module_version": "1.2.0",
      "_model_name": "LayoutModel",
      "_view_count": null,
      "_view_module": "@jupyter-widgets/base",
      "_view_module_version": "1.2.0",
      "_view_name": "LayoutView",
      "align_content": null,
      "align_items": null,
      "align_self": null,
      "border": null,
      "bottom": null,
      "display": null,
      "flex": null,
      "flex_flow": null,
      "grid_area": null,
      "grid_auto_columns": null,
      "grid_auto_flow": null,
      "grid_auto_rows": null,
      "grid_column": null,
      "grid_gap": null,
      "grid_row": null,
      "grid_template_areas": null,
      "grid_template_columns": null,
      "grid_template_rows": null,
      "height": null,
      "justify_content": null,
      "justify_items": null,
      "left": null,
      "margin": null,
      "max_height": null,
      "max_width": null,
      "min_height": null,
      "min_width": null,
      "object_fit": null,
      "object_position": null,
      "order": null,
      "overflow": null,
      "overflow_x": null,
      "overflow_y": null,
      "padding": null,
      "right": null,
      "top": null,
      "visibility": null,
      "width": null
     }
    },
    "254e1faec9dd4e9ca97517980e2c23bd": {
     "model_module": "@jupyter-widgets/controls",
     "model_module_version": "1.5.0",
     "model_name": "DescriptionStyleModel",
     "state": {
      "_model_module": "@jupyter-widgets/controls",
      "_model_module_version": "1.5.0",
      "_model_name": "DescriptionStyleModel",
      "_view_count": null,
      "_view_module": "@jupyter-widgets/base",
      "_view_module_version": "1.2.0",
      "_view_name": "StyleView",
      "description_width": ""
     }
    },
    "289fcb4786284b82ab5844bca53d0957": {
     "model_module": "@jupyter-widgets/controls",
     "model_module_version": "1.5.0",
     "model_name": "HTMLModel",
     "state": {
      "_dom_classes": [],
      "_model_module": "@jupyter-widgets/controls",
      "_model_module_version": "1.5.0",
      "_model_name": "HTMLModel",
      "_view_count": null,
      "_view_module": "@jupyter-widgets/controls",
      "_view_module_version": "1.5.0",
      "_view_name": "HTMLView",
      "description": "",
      "description_tooltip": null,
      "layout": "IPY_MODEL_b14fe36b6c054d5197ceafd10c6f29e8",
      "placeholder": "​",
      "style": "IPY_MODEL_5de7f82f15de4177bb8d2694686628ab",
      "value": "Downloading: 100%"
     }
    },
    "29e2ced5530f4968a3ac459b566d2939": {
     "model_module": "@jupyter-widgets/controls",
     "model_module_version": "1.5.0",
     "model_name": "HTMLModel",
     "state": {
      "_dom_classes": [],
      "_model_module": "@jupyter-widgets/controls",
      "_model_module_version": "1.5.0",
      "_model_name": "HTMLModel",
      "_view_count": null,
      "_view_module": "@jupyter-widgets/controls",
      "_view_module_version": "1.5.0",
      "_view_name": "HTMLView",
      "description": "",
      "description_tooltip": null,
      "layout": "IPY_MODEL_89edb5dd3634418f901a909c2dc54265",
      "placeholder": "​",
      "style": "IPY_MODEL_a55a8274210447afae6d299e53283c9c",
      "value": "Downloading products: 100%"
     }
    },
    "2a40cc973145461c9ac4aa46be748112": {
     "model_module": "@jupyter-widgets/controls",
     "model_module_version": "1.5.0",
     "model_name": "DescriptionStyleModel",
     "state": {
      "_model_module": "@jupyter-widgets/controls",
      "_model_module_version": "1.5.0",
      "_model_name": "DescriptionStyleModel",
      "_view_count": null,
      "_view_module": "@jupyter-widgets/base",
      "_view_module_version": "1.2.0",
      "_view_name": "StyleView",
      "description_width": ""
     }
    },
    "2b771ba704314f1ba14df8785d42f3ea": {
     "model_module": "@jupyter-widgets/base",
     "model_module_version": "1.2.0",
     "model_name": "LayoutModel",
     "state": {
      "_model_module": "@jupyter-widgets/base",
      "_model_module_version": "1.2.0",
      "_model_name": "LayoutModel",
      "_view_count": null,
      "_view_module": "@jupyter-widgets/base",
      "_view_module_version": "1.2.0",
      "_view_name": "LayoutView",
      "align_content": null,
      "align_items": null,
      "align_self": null,
      "border": null,
      "bottom": null,
      "display": null,
      "flex": null,
      "flex_flow": null,
      "grid_area": null,
      "grid_auto_columns": null,
      "grid_auto_flow": null,
      "grid_auto_rows": null,
      "grid_column": null,
      "grid_gap": null,
      "grid_row": null,
      "grid_template_areas": null,
      "grid_template_columns": null,
      "grid_template_rows": null,
      "height": null,
      "justify_content": null,
      "justify_items": null,
      "left": null,
      "margin": null,
      "max_height": null,
      "max_width": null,
      "min_height": null,
      "min_width": null,
      "object_fit": null,
      "object_position": null,
      "order": null,
      "overflow": null,
      "overflow_x": null,
      "overflow_y": null,
      "padding": null,
      "right": null,
      "top": null,
      "visibility": null,
      "width": null
     }
    },
    "2bdbad7696ae4d7d900081412948f8ca": {
     "model_module": "@jupyter-widgets/controls",
     "model_module_version": "1.5.0",
     "model_name": "DescriptionStyleModel",
     "state": {
      "_model_module": "@jupyter-widgets/controls",
      "_model_module_version": "1.5.0",
      "_model_name": "DescriptionStyleModel",
      "_view_count": null,
      "_view_module": "@jupyter-widgets/base",
      "_view_module_version": "1.2.0",
      "_view_name": "StyleView",
      "description_width": ""
     }
    },
    "3872934c2de4478f9ef25be16497da99": {
     "model_module": "@jupyter-widgets/controls",
     "model_module_version": "1.5.0",
     "model_name": "HTMLModel",
     "state": {
      "_dom_classes": [],
      "_model_module": "@jupyter-widgets/controls",
      "_model_module_version": "1.5.0",
      "_model_name": "HTMLModel",
      "_view_count": null,
      "_view_module": "@jupyter-widgets/controls",
      "_view_module_version": "1.5.0",
      "_view_name": "HTMLView",
      "description": "",
      "description_tooltip": null,
      "layout": "IPY_MODEL_635d2ffcd04b4d14b593a8466f4d2e44",
      "placeholder": "​",
      "style": "IPY_MODEL_db4b6143314f453586bf2a2297b84de6",
      "value": " 2/2 [00:09&lt;00:00,  4.02s/it]"
     }
    },
    "38b3673965104a28982e32069c793222": {
     "model_module": "@jupyter-widgets/controls",
     "model_module_version": "1.5.0",
     "model_name": "DescriptionStyleModel",
     "state": {
      "_model_module": "@jupyter-widgets/controls",
      "_model_module_version": "1.5.0",
      "_model_name": "DescriptionStyleModel",
      "_view_count": null,
      "_view_module": "@jupyter-widgets/base",
      "_view_module_version": "1.2.0",
      "_view_name": "StyleView",
      "description_width": ""
     }
    },
    "3a2809b6a4af4eb694f5da0e25fdd7de": {
     "model_module": "@jupyter-widgets/controls",
     "model_module_version": "1.5.0",
     "model_name": "ProgressStyleModel",
     "state": {
      "_model_module": "@jupyter-widgets/controls",
      "_model_module_version": "1.5.0",
      "_model_name": "ProgressStyleModel",
      "_view_count": null,
      "_view_module": "@jupyter-widgets/base",
      "_view_module_version": "1.2.0",
      "_view_name": "StyleView",
      "bar_color": null,
      "description_width": ""
     }
    },
    "3b4637258c174b8fa12d8d15a60880e9": {
     "model_module": "@jupyter-widgets/controls",
     "model_module_version": "1.5.0",
     "model_name": "HBoxModel",
     "state": {
      "_dom_classes": [],
      "_model_module": "@jupyter-widgets/controls",
      "_model_module_version": "1.5.0",
      "_model_name": "HBoxModel",
      "_view_count": null,
      "_view_module": "@jupyter-widgets/controls",
      "_view_module_version": "1.5.0",
      "_view_name": "HBoxView",
      "box_style": "",
      "children": [
       "IPY_MODEL_289fcb4786284b82ab5844bca53d0957",
       "IPY_MODEL_9f79be50895748998abeb34c16da4c44",
       "IPY_MODEL_6b61357370794e24b06303c431280147"
      ],
      "layout": "IPY_MODEL_81ce49fad7bf47daaeca07f454528538"
     }
    },
    "3f5596122a754140aa719a886c00c9de": {
     "model_module": "@jupyter-widgets/base",
     "model_module_version": "1.2.0",
     "model_name": "LayoutModel",
     "state": {
      "_model_module": "@jupyter-widgets/base",
      "_model_module_version": "1.2.0",
      "_model_name": "LayoutModel",
      "_view_count": null,
      "_view_module": "@jupyter-widgets/base",
      "_view_module_version": "1.2.0",
      "_view_name": "LayoutView",
      "align_content": null,
      "align_items": null,
      "align_self": null,
      "border": null,
      "bottom": null,
      "display": null,
      "flex": null,
      "flex_flow": null,
      "grid_area": null,
      "grid_auto_columns": null,
      "grid_auto_flow": null,
      "grid_auto_rows": null,
      "grid_column": null,
      "grid_gap": null,
      "grid_row": null,
      "grid_template_areas": null,
      "grid_template_columns": null,
      "grid_template_rows": null,
      "height": null,
      "justify_content": null,
      "justify_items": null,
      "left": null,
      "margin": null,
      "max_height": null,
      "max_width": null,
      "min_height": null,
      "min_width": null,
      "object_fit": null,
      "object_position": null,
      "order": null,
      "overflow": null,
      "overflow_x": null,
      "overflow_y": null,
      "padding": null,
      "right": null,
      "top": null,
      "visibility": null,
      "width": null
     }
    },
    "40c90b4e7f1347289e82ad9eb2dde4d5": {
     "model_module": "@jupyter-widgets/controls",
     "model_module_version": "1.5.0",
     "model_name": "HBoxModel",
     "state": {
      "_dom_classes": [],
      "_model_module": "@jupyter-widgets/controls",
      "_model_module_version": "1.5.0",
      "_model_name": "HBoxModel",
      "_view_count": null,
      "_view_module": "@jupyter-widgets/controls",
      "_view_module_version": "1.5.0",
      "_view_name": "HBoxView",
      "box_style": "",
      "children": [
       "IPY_MODEL_29e2ced5530f4968a3ac459b566d2939",
       "IPY_MODEL_de2a04bab8074a6ab724c4d115b4c0c6",
       "IPY_MODEL_534272c557944b74a6344f26c23544ed"
      ],
      "layout": "IPY_MODEL_1ebbdfa1fdff4735b53030db36ac3e2d"
     }
    },
    "431bed46c52f48c0b865fd6a257832e0": {
     "model_module": "@jupyter-widgets/controls",
     "model_module_version": "1.5.0",
     "model_name": "FloatProgressModel",
     "state": {
      "_dom_classes": [],
      "_model_module": "@jupyter-widgets/controls",
      "_model_module_version": "1.5.0",
      "_model_name": "FloatProgressModel",
      "_view_count": null,
      "_view_module": "@jupyter-widgets/controls",
      "_view_module_version": "1.5.0",
      "_view_name": "ProgressView",
      "bar_style": "success",
      "description": "",
      "description_tooltip": null,
      "layout": "IPY_MODEL_64984d203343429b83531a57c904ecd4",
      "max": 1,
      "min": 0,
      "orientation": "horizontal",
      "style": "IPY_MODEL_ae7ef947c731444cad33091261821ff5",
      "value": 1
     }
    },
    "44056d9fab64464481978c699a8263cd": {
     "model_module": "@jupyter-widgets/controls",
     "model_module_version": "1.5.0",
     "model_name": "HTMLModel",
     "state": {
      "_dom_classes": [],
      "_model_module": "@jupyter-widgets/controls",
      "_model_module_version": "1.5.0",
      "_model_name": "HTMLModel",
      "_view_count": null,
      "_view_module": "@jupyter-widgets/controls",
      "_view_module_version": "1.5.0",
      "_view_name": "HTMLView",
      "description": "",
      "description_tooltip": null,
      "layout": "IPY_MODEL_b2c8fead2e564a3e830af7bbb922d983",
      "placeholder": "​",
      "style": "IPY_MODEL_c919ee6c62e744b4a325eb8ffb6aa38d",
      "value": "Downloading products: 100%"
     }
    },
    "45c7e76f26e84713846321f900faa72f": {
     "model_module": "@jupyter-widgets/controls",
     "model_module_version": "1.5.0",
     "model_name": "DescriptionStyleModel",
     "state": {
      "_model_module": "@jupyter-widgets/controls",
      "_model_module_version": "1.5.0",
      "_model_name": "DescriptionStyleModel",
      "_view_count": null,
      "_view_module": "@jupyter-widgets/base",
      "_view_module_version": "1.2.0",
      "_view_name": "StyleView",
      "description_width": ""
     }
    },
    "48bb377ecfe64c00ac19a5cc41f91bf3": {
     "model_module": "@jupyter-widgets/controls",
     "model_module_version": "1.5.0",
     "model_name": "FloatProgressModel",
     "state": {
      "_dom_classes": [],
      "_model_module": "@jupyter-widgets/controls",
      "_model_module_version": "1.5.0",
      "_model_name": "FloatProgressModel",
      "_view_count": null,
      "_view_module": "@jupyter-widgets/controls",
      "_view_module_version": "1.5.0",
      "_view_name": "ProgressView",
      "bar_style": "",
      "description": "",
      "description_tooltip": null,
      "layout": "IPY_MODEL_627b85cd1fea472e9b0585f5cec12c6e",
      "max": 4409788,
      "min": 0,
      "orientation": "horizontal",
      "style": "IPY_MODEL_90d55e5f3a9c4928b31484470c2093dc",
      "value": 4409788
     }
    },
    "4996ed05dbb94f5598821bbc592f70eb": {
     "model_module": "@jupyter-widgets/controls",
     "model_module_version": "1.5.0",
     "model_name": "DescriptionStyleModel",
     "state": {
      "_model_module": "@jupyter-widgets/controls",
      "_model_module_version": "1.5.0",
      "_model_name": "DescriptionStyleModel",
      "_view_count": null,
      "_view_module": "@jupyter-widgets/base",
      "_view_module_version": "1.2.0",
      "_view_name": "StyleView",
      "description_width": ""
     }
    },
    "4a167dc4acee4bbfa4d1e4e4161bb399": {
     "model_module": "@jupyter-widgets/base",
     "model_module_version": "1.2.0",
     "model_name": "LayoutModel",
     "state": {
      "_model_module": "@jupyter-widgets/base",
      "_model_module_version": "1.2.0",
      "_model_name": "LayoutModel",
      "_view_count": null,
      "_view_module": "@jupyter-widgets/base",
      "_view_module_version": "1.2.0",
      "_view_name": "LayoutView",
      "align_content": null,
      "align_items": null,
      "align_self": null,
      "border": null,
      "bottom": null,
      "display": null,
      "flex": null,
      "flex_flow": null,
      "grid_area": null,
      "grid_auto_columns": null,
      "grid_auto_flow": null,
      "grid_auto_rows": null,
      "grid_column": null,
      "grid_gap": null,
      "grid_row": null,
      "grid_template_areas": null,
      "grid_template_columns": null,
      "grid_template_rows": null,
      "height": null,
      "justify_content": null,
      "justify_items": null,
      "left": null,
      "margin": null,
      "max_height": null,
      "max_width": null,
      "min_height": null,
      "min_width": null,
      "object_fit": null,
      "object_position": null,
      "order": null,
      "overflow": null,
      "overflow_x": null,
      "overflow_y": null,
      "padding": null,
      "right": null,
      "top": null,
      "visibility": null,
      "width": null
     }
    },
    "5269389893624ac9812cfda1bca56e3a": {
     "model_module": "@jupyter-widgets/base",
     "model_module_version": "1.2.0",
     "model_name": "LayoutModel",
     "state": {
      "_model_module": "@jupyter-widgets/base",
      "_model_module_version": "1.2.0",
      "_model_name": "LayoutModel",
      "_view_count": null,
      "_view_module": "@jupyter-widgets/base",
      "_view_module_version": "1.2.0",
      "_view_name": "LayoutView",
      "align_content": null,
      "align_items": null,
      "align_self": null,
      "border": null,
      "bottom": null,
      "display": null,
      "flex": null,
      "flex_flow": null,
      "grid_area": null,
      "grid_auto_columns": null,
      "grid_auto_flow": null,
      "grid_auto_rows": null,
      "grid_column": null,
      "grid_gap": null,
      "grid_row": null,
      "grid_template_areas": null,
      "grid_template_columns": null,
      "grid_template_rows": null,
      "height": null,
      "justify_content": null,
      "justify_items": null,
      "left": null,
      "margin": null,
      "max_height": null,
      "max_width": null,
      "min_height": null,
      "min_width": null,
      "object_fit": null,
      "object_position": null,
      "order": null,
      "overflow": null,
      "overflow_x": null,
      "overflow_y": null,
      "padding": null,
      "right": null,
      "top": null,
      "visibility": null,
      "width": null
     }
    },
    "527461dc9e9a430abc217d2dc2c009ae": {
     "model_module": "@jupyter-widgets/base",
     "model_module_version": "1.2.0",
     "model_name": "LayoutModel",
     "state": {
      "_model_module": "@jupyter-widgets/base",
      "_model_module_version": "1.2.0",
      "_model_name": "LayoutModel",
      "_view_count": null,
      "_view_module": "@jupyter-widgets/base",
      "_view_module_version": "1.2.0",
      "_view_name": "LayoutView",
      "align_content": null,
      "align_items": null,
      "align_self": null,
      "border": null,
      "bottom": null,
      "display": null,
      "flex": null,
      "flex_flow": null,
      "grid_area": null,
      "grid_auto_columns": null,
      "grid_auto_flow": null,
      "grid_auto_rows": null,
      "grid_column": null,
      "grid_gap": null,
      "grid_row": null,
      "grid_template_areas": null,
      "grid_template_columns": null,
      "grid_template_rows": null,
      "height": null,
      "justify_content": null,
      "justify_items": null,
      "left": null,
      "margin": null,
      "max_height": null,
      "max_width": null,
      "min_height": null,
      "min_width": null,
      "object_fit": null,
      "object_position": null,
      "order": null,
      "overflow": null,
      "overflow_x": null,
      "overflow_y": null,
      "padding": null,
      "right": null,
      "top": null,
      "visibility": null,
      "width": null
     }
    },
    "534272c557944b74a6344f26c23544ed": {
     "model_module": "@jupyter-widgets/controls",
     "model_module_version": "1.5.0",
     "model_name": "HTMLModel",
     "state": {
      "_dom_classes": [],
      "_model_module": "@jupyter-widgets/controls",
      "_model_module_version": "1.5.0",
      "_model_name": "HTMLModel",
      "_view_count": null,
      "_view_module": "@jupyter-widgets/controls",
      "_view_module_version": "1.5.0",
      "_view_name": "HTMLView",
      "description": "",
      "description_tooltip": null,
      "layout": "IPY_MODEL_c188526f1f6d43a5a707645c5914f3a4",
      "placeholder": "​",
      "style": "IPY_MODEL_77989990aedd4a7f8891e9a46aa07b0f",
      "value": " 1/1 [00:00&lt;00:00, 11.19product/s]"
     }
    },
    "541d2d9271174cc0a8723fa5ea23a1e4": {
     "model_module": "@jupyter-widgets/controls",
     "model_module_version": "1.5.0",
     "model_name": "FloatProgressModel",
     "state": {
      "_dom_classes": [],
      "_model_module": "@jupyter-widgets/controls",
      "_model_module_version": "1.5.0",
      "_model_name": "FloatProgressModel",
      "_view_count": null,
      "_view_module": "@jupyter-widgets/controls",
      "_view_module_version": "1.5.0",
      "_view_name": "ProgressView",
      "bar_style": "success",
      "description": "",
      "description_tooltip": null,
      "layout": "IPY_MODEL_d9c5eb4ab923491c8cf2a2149a164dc9",
      "max": 4,
      "min": 0,
      "orientation": "horizontal",
      "style": "IPY_MODEL_ce5001fdefab477e9cd6bc853c5e6010",
      "value": 4
     }
    },
    "54e11f92ee7b41079ff39d1a5418c168": {
     "model_module": "@jupyter-widgets/controls",
     "model_module_version": "1.5.0",
     "model_name": "HBoxModel",
     "state": {
      "_dom_classes": [],
      "_model_module": "@jupyter-widgets/controls",
      "_model_module_version": "1.5.0",
      "_model_name": "HBoxModel",
      "_view_count": null,
      "_view_module": "@jupyter-widgets/controls",
      "_view_module_version": "1.5.0",
      "_view_name": "HBoxView",
      "box_style": "",
      "children": [
       "IPY_MODEL_44056d9fab64464481978c699a8263cd",
       "IPY_MODEL_431bed46c52f48c0b865fd6a257832e0",
       "IPY_MODEL_b0572a4305f7484ab9bc97a7decf750a"
      ],
      "layout": "IPY_MODEL_c3eb09acfa614bf198d606d8312ddf27"
     }
    },
    "5585494bed924ab5a16c88b2278b5094": {
     "model_module": "@jupyter-widgets/controls",
     "model_module_version": "1.5.0",
     "model_name": "HTMLModel",
     "state": {
      "_dom_classes": [],
      "_model_module": "@jupyter-widgets/controls",
      "_model_module_version": "1.5.0",
      "_model_name": "HTMLModel",
      "_view_count": null,
      "_view_module": "@jupyter-widgets/controls",
      "_view_module_version": "1.5.0",
      "_view_name": "HTMLView",
      "description": "",
      "description_tooltip": null,
      "layout": "IPY_MODEL_0c008b4a66ac4db88d6f255bb512ae26",
      "placeholder": "​",
      "style": "IPY_MODEL_92fd0adb5450448d8ab2c58e8154395f",
      "value": "Reference: 100%"
     }
    },
    "56945233eb8a44ae87d28da1796da6a4": {
     "model_module": "@jupyter-widgets/controls",
     "model_module_version": "1.5.0",
     "model_name": "DescriptionStyleModel",
     "state": {
      "_model_module": "@jupyter-widgets/controls",
      "_model_module_version": "1.5.0",
      "_model_name": "DescriptionStyleModel",
      "_view_count": null,
      "_view_module": "@jupyter-widgets/base",
      "_view_module_version": "1.2.0",
      "_view_name": "StyleView",
      "description_width": ""
     }
    },
    "594a7139a36d4d80a909e274b1fb5e5a": {
     "model_module": "@jupyter-widgets/controls",
     "model_module_version": "1.5.0",
     "model_name": "HBoxModel",
     "state": {
      "_dom_classes": [],
      "_model_module": "@jupyter-widgets/controls",
      "_model_module_version": "1.5.0",
      "_model_name": "HBoxModel",
      "_view_count": null,
      "_view_module": "@jupyter-widgets/controls",
      "_view_module_version": "1.5.0",
      "_view_name": "HBoxView",
      "box_style": "",
      "children": [
       "IPY_MODEL_9e666a6cfea44884a3309d39db2bf523",
       "IPY_MODEL_1953c48665be4d6cb0ec4a20af0bf2b6",
       "IPY_MODEL_c0b71040e9414b498e281b6b8a46eaed"
      ],
      "layout": "IPY_MODEL_f4d05a93cae24f70aed539a19a3bdd3a"
     }
    },
    "59ca33e3d53f4dff9d784a8d09202e41": {
     "model_module": "@jupyter-widgets/controls",
     "model_module_version": "1.5.0",
     "model_name": "DescriptionStyleModel",
     "state": {
      "_model_module": "@jupyter-widgets/controls",
      "_model_module_version": "1.5.0",
      "_model_name": "DescriptionStyleModel",
      "_view_count": null,
      "_view_module": "@jupyter-widgets/base",
      "_view_module_version": "1.2.0",
      "_view_name": "StyleView",
      "description_width": ""
     }
    },
    "5a902a86a24c4eedb03fe36bbd600c2b": {
     "model_module": "@jupyter-widgets/controls",
     "model_module_version": "1.5.0",
     "model_name": "ProgressStyleModel",
     "state": {
      "_model_module": "@jupyter-widgets/controls",
      "_model_module_version": "1.5.0",
      "_model_name": "ProgressStyleModel",
      "_view_count": null,
      "_view_module": "@jupyter-widgets/base",
      "_view_module_version": "1.2.0",
      "_view_name": "StyleView",
      "bar_color": null,
      "description_width": ""
     }
    },
    "5af97f2ffea442fdad8838f0c864e072": {
     "model_module": "@jupyter-widgets/controls",
     "model_module_version": "1.5.0",
     "model_name": "HBoxModel",
     "state": {
      "_dom_classes": [],
      "_model_module": "@jupyter-widgets/controls",
      "_model_module_version": "1.5.0",
      "_model_name": "HBoxModel",
      "_view_count": null,
      "_view_module": "@jupyter-widgets/controls",
      "_view_module_version": "1.5.0",
      "_view_name": "HBoxView",
      "box_style": "",
      "children": [
       "IPY_MODEL_eea84f0873ef4d948fc23fc921ccbec8",
       "IPY_MODEL_62d770267bfa49bab2c31723a36fc5a6",
       "IPY_MODEL_817aebe7d82a4f698a027cbf16efc094"
      ],
      "layout": "IPY_MODEL_fee0a703cb5645399f37060eb7a52a69"
     }
    },
    "5de7f82f15de4177bb8d2694686628ab": {
     "model_module": "@jupyter-widgets/controls",
     "model_module_version": "1.5.0",
     "model_name": "DescriptionStyleModel",
     "state": {
      "_model_module": "@jupyter-widgets/controls",
      "_model_module_version": "1.5.0",
      "_model_name": "DescriptionStyleModel",
      "_view_count": null,
      "_view_module": "@jupyter-widgets/base",
      "_view_module_version": "1.2.0",
      "_view_name": "StyleView",
      "description_width": ""
     }
    },
    "5e843a55e85a4b949caca1634d05763e": {
     "model_module": "@jupyter-widgets/controls",
     "model_module_version": "1.5.0",
     "model_name": "DescriptionStyleModel",
     "state": {
      "_model_module": "@jupyter-widgets/controls",
      "_model_module_version": "1.5.0",
      "_model_name": "DescriptionStyleModel",
      "_view_count": null,
      "_view_module": "@jupyter-widgets/base",
      "_view_module_version": "1.2.0",
      "_view_name": "StyleView",
      "description_width": ""
     }
    },
    "5f529fd5954745168b12cd457f3363cd": {
     "model_module": "@jupyter-widgets/base",
     "model_module_version": "1.2.0",
     "model_name": "LayoutModel",
     "state": {
      "_model_module": "@jupyter-widgets/base",
      "_model_module_version": "1.2.0",
      "_model_name": "LayoutModel",
      "_view_count": null,
      "_view_module": "@jupyter-widgets/base",
      "_view_module_version": "1.2.0",
      "_view_name": "LayoutView",
      "align_content": null,
      "align_items": null,
      "align_self": null,
      "border": null,
      "bottom": null,
      "display": null,
      "flex": null,
      "flex_flow": null,
      "grid_area": null,
      "grid_auto_columns": null,
      "grid_auto_flow": null,
      "grid_auto_rows": null,
      "grid_column": null,
      "grid_gap": null,
      "grid_row": null,
      "grid_template_areas": null,
      "grid_template_columns": null,
      "grid_template_rows": null,
      "height": null,
      "justify_content": null,
      "justify_items": null,
      "left": null,
      "margin": null,
      "max_height": null,
      "max_width": null,
      "min_height": null,
      "min_width": null,
      "object_fit": null,
      "object_position": null,
      "order": null,
      "overflow": null,
      "overflow_x": null,
      "overflow_y": null,
      "padding": null,
      "right": null,
      "top": null,
      "visibility": null,
      "width": null
     }
    },
    "6205016f3b6147e5adaf06167df03517": {
     "model_module": "@jupyter-widgets/base",
     "model_module_version": "1.2.0",
     "model_name": "LayoutModel",
     "state": {
      "_model_module": "@jupyter-widgets/base",
      "_model_module_version": "1.2.0",
      "_model_name": "LayoutModel",
      "_view_count": null,
      "_view_module": "@jupyter-widgets/base",
      "_view_module_version": "1.2.0",
      "_view_name": "LayoutView",
      "align_content": null,
      "align_items": null,
      "align_self": null,
      "border": null,
      "bottom": null,
      "display": null,
      "flex": null,
      "flex_flow": null,
      "grid_area": null,
      "grid_auto_columns": null,
      "grid_auto_flow": null,
      "grid_auto_rows": null,
      "grid_column": null,
      "grid_gap": null,
      "grid_row": null,
      "grid_template_areas": null,
      "grid_template_columns": null,
      "grid_template_rows": null,
      "height": null,
      "justify_content": null,
      "justify_items": null,
      "left": null,
      "margin": null,
      "max_height": null,
      "max_width": null,
      "min_height": null,
      "min_width": null,
      "object_fit": null,
      "object_position": null,
      "order": null,
      "overflow": null,
      "overflow_x": null,
      "overflow_y": null,
      "padding": null,
      "right": null,
      "top": null,
      "visibility": null,
      "width": null
     }
    },
    "624d47cf42df4ace9d849a41d480ae2e": {
     "model_module": "@jupyter-widgets/controls",
     "model_module_version": "1.5.0",
     "model_name": "DescriptionStyleModel",
     "state": {
      "_model_module": "@jupyter-widgets/controls",
      "_model_module_version": "1.5.0",
      "_model_name": "DescriptionStyleModel",
      "_view_count": null,
      "_view_module": "@jupyter-widgets/base",
      "_view_module_version": "1.2.0",
      "_view_name": "StyleView",
      "description_width": ""
     }
    },
    "627b85cd1fea472e9b0585f5cec12c6e": {
     "model_module": "@jupyter-widgets/base",
     "model_module_version": "1.2.0",
     "model_name": "LayoutModel",
     "state": {
      "_model_module": "@jupyter-widgets/base",
      "_model_module_version": "1.2.0",
      "_model_name": "LayoutModel",
      "_view_count": null,
      "_view_module": "@jupyter-widgets/base",
      "_view_module_version": "1.2.0",
      "_view_name": "LayoutView",
      "align_content": null,
      "align_items": null,
      "align_self": null,
      "border": null,
      "bottom": null,
      "display": null,
      "flex": null,
      "flex_flow": null,
      "grid_area": null,
      "grid_auto_columns": null,
      "grid_auto_flow": null,
      "grid_auto_rows": null,
      "grid_column": null,
      "grid_gap": null,
      "grid_row": null,
      "grid_template_areas": null,
      "grid_template_columns": null,
      "grid_template_rows": null,
      "height": null,
      "justify_content": null,
      "justify_items": null,
      "left": null,
      "margin": null,
      "max_height": null,
      "max_width": null,
      "min_height": null,
      "min_width": null,
      "object_fit": null,
      "object_position": null,
      "order": null,
      "overflow": null,
      "overflow_x": null,
      "overflow_y": null,
      "padding": null,
      "right": null,
      "top": null,
      "visibility": null,
      "width": null
     }
    },
    "628ab4db466d4b1ab2aae0790abac62e": {
     "model_module": "@jupyter-widgets/controls",
     "model_module_version": "1.5.0",
     "model_name": "ProgressStyleModel",
     "state": {
      "_model_module": "@jupyter-widgets/controls",
      "_model_module_version": "1.5.0",
      "_model_name": "ProgressStyleModel",
      "_view_count": null,
      "_view_module": "@jupyter-widgets/base",
      "_view_module_version": "1.2.0",
      "_view_name": "StyleView",
      "bar_color": null,
      "description_width": ""
     }
    },
    "62d770267bfa49bab2c31723a36fc5a6": {
     "model_module": "@jupyter-widgets/controls",
     "model_module_version": "1.5.0",
     "model_name": "FloatProgressModel",
     "state": {
      "_dom_classes": [],
      "_model_module": "@jupyter-widgets/controls",
      "_model_module_version": "1.5.0",
      "_model_name": "FloatProgressModel",
      "_view_count": null,
      "_view_module": "@jupyter-widgets/controls",
      "_view_module_version": "1.5.0",
      "_view_name": "ProgressView",
      "bar_style": "success",
      "description": "",
      "description_tooltip": null,
      "layout": "IPY_MODEL_16e8b3d836bb4f9a8cfb844c28fceff0",
      "max": 2,
      "min": 0,
      "orientation": "horizontal",
      "style": "IPY_MODEL_0c01becbbf514c9aaec427263bca5694",
      "value": 2
     }
    },
    "635d2ffcd04b4d14b593a8466f4d2e44": {
     "model_module": "@jupyter-widgets/base",
     "model_module_version": "1.2.0",
     "model_name": "LayoutModel",
     "state": {
      "_model_module": "@jupyter-widgets/base",
      "_model_module_version": "1.2.0",
      "_model_name": "LayoutModel",
      "_view_count": null,
      "_view_module": "@jupyter-widgets/base",
      "_view_module_version": "1.2.0",
      "_view_name": "LayoutView",
      "align_content": null,
      "align_items": null,
      "align_self": null,
      "border": null,
      "bottom": null,
      "display": null,
      "flex": null,
      "flex_flow": null,
      "grid_area": null,
      "grid_auto_columns": null,
      "grid_auto_flow": null,
      "grid_auto_rows": null,
      "grid_column": null,
      "grid_gap": null,
      "grid_row": null,
      "grid_template_areas": null,
      "grid_template_columns": null,
      "grid_template_rows": null,
      "height": null,
      "justify_content": null,
      "justify_items": null,
      "left": null,
      "margin": null,
      "max_height": null,
      "max_width": null,
      "min_height": null,
      "min_width": null,
      "object_fit": null,
      "object_position": null,
      "order": null,
      "overflow": null,
      "overflow_x": null,
      "overflow_y": null,
      "padding": null,
      "right": null,
      "top": null,
      "visibility": null,
      "width": null
     }
    },
    "64984d203343429b83531a57c904ecd4": {
     "model_module": "@jupyter-widgets/base",
     "model_module_version": "1.2.0",
     "model_name": "LayoutModel",
     "state": {
      "_model_module": "@jupyter-widgets/base",
      "_model_module_version": "1.2.0",
      "_model_name": "LayoutModel",
      "_view_count": null,
      "_view_module": "@jupyter-widgets/base",
      "_view_module_version": "1.2.0",
      "_view_name": "LayoutView",
      "align_content": null,
      "align_items": null,
      "align_self": null,
      "border": null,
      "bottom": null,
      "display": null,
      "flex": null,
      "flex_flow": null,
      "grid_area": null,
      "grid_auto_columns": null,
      "grid_auto_flow": null,
      "grid_auto_rows": null,
      "grid_column": null,
      "grid_gap": null,
      "grid_row": null,
      "grid_template_areas": null,
      "grid_template_columns": null,
      "grid_template_rows": null,
      "height": null,
      "justify_content": null,
      "justify_items": null,
      "left": null,
      "margin": null,
      "max_height": null,
      "max_width": null,
      "min_height": null,
      "min_width": null,
      "object_fit": null,
      "object_position": null,
      "order": null,
      "overflow": null,
      "overflow_x": null,
      "overflow_y": null,
      "padding": null,
      "right": null,
      "top": null,
      "visibility": null,
      "width": null
     }
    },
    "64f6c1a8631645a5808dd4e6186416ef": {
     "model_module": "@jupyter-widgets/base",
     "model_module_version": "1.2.0",
     "model_name": "LayoutModel",
     "state": {
      "_model_module": "@jupyter-widgets/base",
      "_model_module_version": "1.2.0",
      "_model_name": "LayoutModel",
      "_view_count": null,
      "_view_module": "@jupyter-widgets/base",
      "_view_module_version": "1.2.0",
      "_view_name": "LayoutView",
      "align_content": null,
      "align_items": null,
      "align_self": null,
      "border": null,
      "bottom": null,
      "display": null,
      "flex": null,
      "flex_flow": null,
      "grid_area": null,
      "grid_auto_columns": null,
      "grid_auto_flow": null,
      "grid_auto_rows": null,
      "grid_column": null,
      "grid_gap": null,
      "grid_row": null,
      "grid_template_areas": null,
      "grid_template_columns": null,
      "grid_template_rows": null,
      "height": null,
      "justify_content": null,
      "justify_items": null,
      "left": null,
      "margin": null,
      "max_height": null,
      "max_width": null,
      "min_height": null,
      "min_width": null,
      "object_fit": null,
      "object_position": null,
      "order": null,
      "overflow": null,
      "overflow_x": null,
      "overflow_y": null,
      "padding": null,
      "right": null,
      "top": null,
      "visibility": null,
      "width": null
     }
    },
    "65b2e231a4ee4356818d522ca4ed8eba": {
     "model_module": "@jupyter-widgets/base",
     "model_module_version": "1.2.0",
     "model_name": "LayoutModel",
     "state": {
      "_model_module": "@jupyter-widgets/base",
      "_model_module_version": "1.2.0",
      "_model_name": "LayoutModel",
      "_view_count": null,
      "_view_module": "@jupyter-widgets/base",
      "_view_module_version": "1.2.0",
      "_view_name": "LayoutView",
      "align_content": null,
      "align_items": null,
      "align_self": null,
      "border": null,
      "bottom": null,
      "display": null,
      "flex": null,
      "flex_flow": null,
      "grid_area": null,
      "grid_auto_columns": null,
      "grid_auto_flow": null,
      "grid_auto_rows": null,
      "grid_column": null,
      "grid_gap": null,
      "grid_row": null,
      "grid_template_areas": null,
      "grid_template_columns": null,
      "grid_template_rows": null,
      "height": null,
      "justify_content": null,
      "justify_items": null,
      "left": null,
      "margin": null,
      "max_height": null,
      "max_width": null,
      "min_height": null,
      "min_width": null,
      "object_fit": null,
      "object_position": null,
      "order": null,
      "overflow": null,
      "overflow_x": null,
      "overflow_y": null,
      "padding": null,
      "right": null,
      "top": null,
      "visibility": null,
      "width": null
     }
    },
    "678d51cc7acb4b1da421447ed74c4a25": {
     "model_module": "@jupyter-widgets/controls",
     "model_module_version": "1.5.0",
     "model_name": "HBoxModel",
     "state": {
      "_dom_classes": [],
      "_model_module": "@jupyter-widgets/controls",
      "_model_module_version": "1.5.0",
      "_model_name": "HBoxModel",
      "_view_count": null,
      "_view_module": "@jupyter-widgets/controls",
      "_view_module_version": "1.5.0",
      "_view_name": "HBoxView",
      "box_style": "",
      "children": [
       "IPY_MODEL_0d286f8f1cfd4198a368da35caed2deb",
       "IPY_MODEL_541d2d9271174cc0a8723fa5ea23a1e4",
       "IPY_MODEL_048d4c6ddf8644e1ababc7dfa3b23781"
      ],
      "layout": "IPY_MODEL_fa362da46d074ed4b4571c32309b2541"
     }
    },
    "686a0e54f80445f48e1de13aa725a29a": {
     "model_module": "@jupyter-widgets/base",
     "model_module_version": "1.2.0",
     "model_name": "LayoutModel",
     "state": {
      "_model_module": "@jupyter-widgets/base",
      "_model_module_version": "1.2.0",
      "_model_name": "LayoutModel",
      "_view_count": null,
      "_view_module": "@jupyter-widgets/base",
      "_view_module_version": "1.2.0",
      "_view_name": "LayoutView",
      "align_content": null,
      "align_items": null,
      "align_self": null,
      "border": null,
      "bottom": null,
      "display": null,
      "flex": null,
      "flex_flow": null,
      "grid_area": null,
      "grid_auto_columns": null,
      "grid_auto_flow": null,
      "grid_auto_rows": null,
      "grid_column": null,
      "grid_gap": null,
      "grid_row": null,
      "grid_template_areas": null,
      "grid_template_columns": null,
      "grid_template_rows": null,
      "height": null,
      "justify_content": null,
      "justify_items": null,
      "left": null,
      "margin": null,
      "max_height": null,
      "max_width": null,
      "min_height": null,
      "min_width": null,
      "object_fit": null,
      "object_position": null,
      "order": null,
      "overflow": null,
      "overflow_x": null,
      "overflow_y": null,
      "padding": null,
      "right": null,
      "top": null,
      "visibility": null,
      "width": null
     }
    },
    "68e133c583bd41ca8a76f9dc4f4a9f8c": {
     "model_module": "@jupyter-widgets/controls",
     "model_module_version": "1.5.0",
     "model_name": "ProgressStyleModel",
     "state": {
      "_model_module": "@jupyter-widgets/controls",
      "_model_module_version": "1.5.0",
      "_model_name": "ProgressStyleModel",
      "_view_count": null,
      "_view_module": "@jupyter-widgets/base",
      "_view_module_version": "1.2.0",
      "_view_name": "StyleView",
      "bar_color": null,
      "description_width": ""
     }
    },
    "6b61357370794e24b06303c431280147": {
     "model_module": "@jupyter-widgets/controls",
     "model_module_version": "1.5.0",
     "model_name": "HTMLModel",
     "state": {
      "_dom_classes": [],
      "_model_module": "@jupyter-widgets/controls",
      "_model_module_version": "1.5.0",
      "_model_name": "HTMLModel",
      "_view_count": null,
      "_view_module": "@jupyter-widgets/controls",
      "_view_module_version": "1.5.0",
      "_view_name": "HTMLView",
      "description": "",
      "description_tooltip": null,
      "layout": "IPY_MODEL_f9783e771fc0480590f58ac09834e8ff",
      "placeholder": "​",
      "style": "IPY_MODEL_59ca33e3d53f4dff9d784a8d09202e41",
      "value": " 1/1 [04:02&lt;00:00, 242.09s/it]"
     }
    },
    "6b6621fae7bb4197a6c87d60315f81c9": {
     "model_module": "@jupyter-widgets/base",
     "model_module_version": "1.2.0",
     "model_name": "LayoutModel",
     "state": {
      "_model_module": "@jupyter-widgets/base",
      "_model_module_version": "1.2.0",
      "_model_name": "LayoutModel",
      "_view_count": null,
      "_view_module": "@jupyter-widgets/base",
      "_view_module_version": "1.2.0",
      "_view_name": "LayoutView",
      "align_content": null,
      "align_items": null,
      "align_self": null,
      "border": null,
      "bottom": null,
      "display": null,
      "flex": null,
      "flex_flow": null,
      "grid_area": null,
      "grid_auto_columns": null,
      "grid_auto_flow": null,
      "grid_auto_rows": null,
      "grid_column": null,
      "grid_gap": null,
      "grid_row": null,
      "grid_template_areas": null,
      "grid_template_columns": null,
      "grid_template_rows": null,
      "height": null,
      "justify_content": null,
      "justify_items": null,
      "left": null,
      "margin": null,
      "max_height": null,
      "max_width": null,
      "min_height": null,
      "min_width": null,
      "object_fit": null,
      "object_position": null,
      "order": null,
      "overflow": null,
      "overflow_x": null,
      "overflow_y": null,
      "padding": null,
      "right": null,
      "top": null,
      "visibility": null,
      "width": null
     }
    },
    "6f2f2dad07a642f8892dd178c8bc8883": {
     "model_module": "@jupyter-widgets/controls",
     "model_module_version": "1.5.0",
     "model_name": "DescriptionStyleModel",
     "state": {
      "_model_module": "@jupyter-widgets/controls",
      "_model_module_version": "1.5.0",
      "_model_name": "DescriptionStyleModel",
      "_view_count": null,
      "_view_module": "@jupyter-widgets/base",
      "_view_module_version": "1.2.0",
      "_view_name": "StyleView",
      "description_width": ""
     }
    },
    "720ef7dd184a43db8f40c49de07b9e21": {
     "model_module": "@jupyter-widgets/controls",
     "model_module_version": "1.5.0",
     "model_name": "FloatProgressModel",
     "state": {
      "_dom_classes": [],
      "_model_module": "@jupyter-widgets/controls",
      "_model_module_version": "1.5.0",
      "_model_name": "FloatProgressModel",
      "_view_count": null,
      "_view_module": "@jupyter-widgets/controls",
      "_view_module_version": "1.5.0",
      "_view_name": "ProgressView",
      "bar_style": "success",
      "description": "",
      "description_tooltip": null,
      "layout": "IPY_MODEL_6205016f3b6147e5adaf06167df03517",
      "max": 2,
      "min": 0,
      "orientation": "horizontal",
      "style": "IPY_MODEL_5a902a86a24c4eedb03fe36bbd600c2b",
      "value": 2
     }
    },
    "73b4763865804ce2a6b0e231ec29ef17": {
     "model_module": "@jupyter-widgets/base",
     "model_module_version": "1.2.0",
     "model_name": "LayoutModel",
     "state": {
      "_model_module": "@jupyter-widgets/base",
      "_model_module_version": "1.2.0",
      "_model_name": "LayoutModel",
      "_view_count": null,
      "_view_module": "@jupyter-widgets/base",
      "_view_module_version": "1.2.0",
      "_view_name": "LayoutView",
      "align_content": null,
      "align_items": null,
      "align_self": null,
      "border": null,
      "bottom": null,
      "display": null,
      "flex": null,
      "flex_flow": null,
      "grid_area": null,
      "grid_auto_columns": null,
      "grid_auto_flow": null,
      "grid_auto_rows": null,
      "grid_column": null,
      "grid_gap": null,
      "grid_row": null,
      "grid_template_areas": null,
      "grid_template_columns": null,
      "grid_template_rows": null,
      "height": null,
      "justify_content": null,
      "justify_items": null,
      "left": null,
      "margin": null,
      "max_height": null,
      "max_width": null,
      "min_height": null,
      "min_width": null,
      "object_fit": null,
      "object_position": null,
      "order": null,
      "overflow": null,
      "overflow_x": null,
      "overflow_y": null,
      "padding": null,
      "right": null,
      "top": null,
      "visibility": null,
      "width": null
     }
    },
    "754e3371d5874e77962a96faac9d5335": {
     "model_module": "@jupyter-widgets/base",
     "model_module_version": "1.2.0",
     "model_name": "LayoutModel",
     "state": {
      "_model_module": "@jupyter-widgets/base",
      "_model_module_version": "1.2.0",
      "_model_name": "LayoutModel",
      "_view_count": null,
      "_view_module": "@jupyter-widgets/base",
      "_view_module_version": "1.2.0",
      "_view_name": "LayoutView",
      "align_content": null,
      "align_items": null,
      "align_self": null,
      "border": null,
      "bottom": null,
      "display": null,
      "flex": null,
      "flex_flow": null,
      "grid_area": null,
      "grid_auto_columns": null,
      "grid_auto_flow": null,
      "grid_auto_rows": null,
      "grid_column": null,
      "grid_gap": null,
      "grid_row": null,
      "grid_template_areas": null,
      "grid_template_columns": null,
      "grid_template_rows": null,
      "height": null,
      "justify_content": null,
      "justify_items": null,
      "left": null,
      "margin": null,
      "max_height": null,
      "max_width": null,
      "min_height": null,
      "min_width": null,
      "object_fit": null,
      "object_position": null,
      "order": null,
      "overflow": null,
      "overflow_x": null,
      "overflow_y": null,
      "padding": null,
      "right": null,
      "top": null,
      "visibility": null,
      "width": null
     }
    },
    "763bfde2f2514dee8db3879f0906feba": {
     "model_module": "@jupyter-widgets/controls",
     "model_module_version": "1.5.0",
     "model_name": "HBoxModel",
     "state": {
      "_dom_classes": [],
      "_model_module": "@jupyter-widgets/controls",
      "_model_module_version": "1.5.0",
      "_model_name": "HBoxModel",
      "_view_count": null,
      "_view_module": "@jupyter-widgets/controls",
      "_view_module_version": "1.5.0",
      "_view_name": "HBoxView",
      "box_style": "",
      "children": [
       "IPY_MODEL_5585494bed924ab5a16c88b2278b5094",
       "IPY_MODEL_cba670f196514300a2421682c7da4194",
       "IPY_MODEL_3872934c2de4478f9ef25be16497da99"
      ],
      "layout": "IPY_MODEL_f4783ea1a1aa4404984d8491717fb180"
     }
    },
    "77989990aedd4a7f8891e9a46aa07b0f": {
     "model_module": "@jupyter-widgets/controls",
     "model_module_version": "1.5.0",
     "model_name": "DescriptionStyleModel",
     "state": {
      "_model_module": "@jupyter-widgets/controls",
      "_model_module_version": "1.5.0",
      "_model_name": "DescriptionStyleModel",
      "_view_count": null,
      "_view_module": "@jupyter-widgets/base",
      "_view_module_version": "1.2.0",
      "_view_name": "StyleView",
      "description_width": ""
     }
    },
    "7b75a7cf2e1841b49f404805cae8b4ea": {
     "model_module": "@jupyter-widgets/controls",
     "model_module_version": "1.5.0",
     "model_name": "ProgressStyleModel",
     "state": {
      "_model_module": "@jupyter-widgets/controls",
      "_model_module_version": "1.5.0",
      "_model_name": "ProgressStyleModel",
      "_view_count": null,
      "_view_module": "@jupyter-widgets/base",
      "_view_module_version": "1.2.0",
      "_view_name": "StyleView",
      "bar_color": null,
      "description_width": ""
     }
    },
    "7ff8fea219fa4031b7c758376916ffbd": {
     "model_module": "@jupyter-widgets/controls",
     "model_module_version": "1.5.0",
     "model_name": "ProgressStyleModel",
     "state": {
      "_model_module": "@jupyter-widgets/controls",
      "_model_module_version": "1.5.0",
      "_model_name": "ProgressStyleModel",
      "_view_count": null,
      "_view_module": "@jupyter-widgets/base",
      "_view_module_version": "1.2.0",
      "_view_name": "StyleView",
      "bar_color": null,
      "description_width": ""
     }
    },
    "817aebe7d82a4f698a027cbf16efc094": {
     "model_module": "@jupyter-widgets/controls",
     "model_module_version": "1.5.0",
     "model_name": "HTMLModel",
     "state": {
      "_dom_classes": [],
      "_model_module": "@jupyter-widgets/controls",
      "_model_module_version": "1.5.0",
      "_model_name": "HTMLModel",
      "_view_count": null,
      "_view_module": "@jupyter-widgets/controls",
      "_view_module_version": "1.5.0",
      "_view_name": "HTMLView",
      "description": "",
      "description_tooltip": null,
      "layout": "IPY_MODEL_8452e3c7cc2b41f98ad931b697e1ffdd",
      "placeholder": "​",
      "style": "IPY_MODEL_2bdbad7696ae4d7d900081412948f8ca",
      "value": " 2/2 [00:01&lt;00:00,  1.01s/it]"
     }
    },
    "8189a584559e481999dcf3786ef1951e": {
     "model_module": "@jupyter-widgets/controls",
     "model_module_version": "1.5.0",
     "model_name": "ProgressStyleModel",
     "state": {
      "_model_module": "@jupyter-widgets/controls",
      "_model_module_version": "1.5.0",
      "_model_name": "ProgressStyleModel",
      "_view_count": null,
      "_view_module": "@jupyter-widgets/base",
      "_view_module_version": "1.2.0",
      "_view_name": "StyleView",
      "bar_color": null,
      "description_width": ""
     }
    },
    "81ce49fad7bf47daaeca07f454528538": {
     "model_module": "@jupyter-widgets/base",
     "model_module_version": "1.2.0",
     "model_name": "LayoutModel",
     "state": {
      "_model_module": "@jupyter-widgets/base",
      "_model_module_version": "1.2.0",
      "_model_name": "LayoutModel",
      "_view_count": null,
      "_view_module": "@jupyter-widgets/base",
      "_view_module_version": "1.2.0",
      "_view_name": "LayoutView",
      "align_content": null,
      "align_items": null,
      "align_self": null,
      "border": null,
      "bottom": null,
      "display": null,
      "flex": null,
      "flex_flow": null,
      "grid_area": null,
      "grid_auto_columns": null,
      "grid_auto_flow": null,
      "grid_auto_rows": null,
      "grid_column": null,
      "grid_gap": null,
      "grid_row": null,
      "grid_template_areas": null,
      "grid_template_columns": null,
      "grid_template_rows": null,
      "height": null,
      "justify_content": null,
      "justify_items": null,
      "left": null,
      "margin": null,
      "max_height": null,
      "max_width": null,
      "min_height": null,
      "min_width": null,
      "object_fit": null,
      "object_position": null,
      "order": null,
      "overflow": null,
      "overflow_x": null,
      "overflow_y": null,
      "padding": null,
      "right": null,
      "top": null,
      "visibility": null,
      "width": null
     }
    },
    "82d870cac9aa4a6981730314a0c855bf": {
     "model_module": "@jupyter-widgets/base",
     "model_module_version": "1.2.0",
     "model_name": "LayoutModel",
     "state": {
      "_model_module": "@jupyter-widgets/base",
      "_model_module_version": "1.2.0",
      "_model_name": "LayoutModel",
      "_view_count": null,
      "_view_module": "@jupyter-widgets/base",
      "_view_module_version": "1.2.0",
      "_view_name": "LayoutView",
      "align_content": null,
      "align_items": null,
      "align_self": null,
      "border": null,
      "bottom": null,
      "display": null,
      "flex": null,
      "flex_flow": null,
      "grid_area": null,
      "grid_auto_columns": null,
      "grid_auto_flow": null,
      "grid_auto_rows": null,
      "grid_column": null,
      "grid_gap": null,
      "grid_row": null,
      "grid_template_areas": null,
      "grid_template_columns": null,
      "grid_template_rows": null,
      "height": null,
      "justify_content": null,
      "justify_items": null,
      "left": null,
      "margin": null,
      "max_height": null,
      "max_width": null,
      "min_height": null,
      "min_width": null,
      "object_fit": null,
      "object_position": null,
      "order": null,
      "overflow": null,
      "overflow_x": null,
      "overflow_y": null,
      "padding": null,
      "right": null,
      "top": null,
      "visibility": null,
      "width": null
     }
    },
    "8452e3c7cc2b41f98ad931b697e1ffdd": {
     "model_module": "@jupyter-widgets/base",
     "model_module_version": "1.2.0",
     "model_name": "LayoutModel",
     "state": {
      "_model_module": "@jupyter-widgets/base",
      "_model_module_version": "1.2.0",
      "_model_name": "LayoutModel",
      "_view_count": null,
      "_view_module": "@jupyter-widgets/base",
      "_view_module_version": "1.2.0",
      "_view_name": "LayoutView",
      "align_content": null,
      "align_items": null,
      "align_self": null,
      "border": null,
      "bottom": null,
      "display": null,
      "flex": null,
      "flex_flow": null,
      "grid_area": null,
      "grid_auto_columns": null,
      "grid_auto_flow": null,
      "grid_auto_rows": null,
      "grid_column": null,
      "grid_gap": null,
      "grid_row": null,
      "grid_template_areas": null,
      "grid_template_columns": null,
      "grid_template_rows": null,
      "height": null,
      "justify_content": null,
      "justify_items": null,
      "left": null,
      "margin": null,
      "max_height": null,
      "max_width": null,
      "min_height": null,
      "min_width": null,
      "object_fit": null,
      "object_position": null,
      "order": null,
      "overflow": null,
      "overflow_x": null,
      "overflow_y": null,
      "padding": null,
      "right": null,
      "top": null,
      "visibility": null,
      "width": null
     }
    },
    "8470a434fefb4009826c414b77a02762": {
     "model_module": "@jupyter-widgets/controls",
     "model_module_version": "1.5.0",
     "model_name": "DescriptionStyleModel",
     "state": {
      "_model_module": "@jupyter-widgets/controls",
      "_model_module_version": "1.5.0",
      "_model_name": "DescriptionStyleModel",
      "_view_count": null,
      "_view_module": "@jupyter-widgets/base",
      "_view_module_version": "1.2.0",
      "_view_name": "StyleView",
      "description_width": ""
     }
    },
    "89d7c693bd644591beaca561af8a4a92": {
     "model_module": "@jupyter-widgets/controls",
     "model_module_version": "1.5.0",
     "model_name": "ProgressStyleModel",
     "state": {
      "_model_module": "@jupyter-widgets/controls",
      "_model_module_version": "1.5.0",
      "_model_name": "ProgressStyleModel",
      "_view_count": null,
      "_view_module": "@jupyter-widgets/base",
      "_view_module_version": "1.2.0",
      "_view_name": "StyleView",
      "bar_color": null,
      "description_width": ""
     }
    },
    "89edb5dd3634418f901a909c2dc54265": {
     "model_module": "@jupyter-widgets/base",
     "model_module_version": "1.2.0",
     "model_name": "LayoutModel",
     "state": {
      "_model_module": "@jupyter-widgets/base",
      "_model_module_version": "1.2.0",
      "_model_name": "LayoutModel",
      "_view_count": null,
      "_view_module": "@jupyter-widgets/base",
      "_view_module_version": "1.2.0",
      "_view_name": "LayoutView",
      "align_content": null,
      "align_items": null,
      "align_self": null,
      "border": null,
      "bottom": null,
      "display": null,
      "flex": null,
      "flex_flow": null,
      "grid_area": null,
      "grid_auto_columns": null,
      "grid_auto_flow": null,
      "grid_auto_rows": null,
      "grid_column": null,
      "grid_gap": null,
      "grid_row": null,
      "grid_template_areas": null,
      "grid_template_columns": null,
      "grid_template_rows": null,
      "height": null,
      "justify_content": null,
      "justify_items": null,
      "left": null,
      "margin": null,
      "max_height": null,
      "max_width": null,
      "min_height": null,
      "min_width": null,
      "object_fit": null,
      "object_position": null,
      "order": null,
      "overflow": null,
      "overflow_x": null,
      "overflow_y": null,
      "padding": null,
      "right": null,
      "top": null,
      "visibility": null,
      "width": null
     }
    },
    "8c3fc10b3e7643b6828f7c51be19d862": {
     "model_module": "@jupyter-widgets/controls",
     "model_module_version": "1.5.0",
     "model_name": "FloatProgressModel",
     "state": {
      "_dom_classes": [],
      "_model_module": "@jupyter-widgets/controls",
      "_model_module_version": "1.5.0",
      "_model_name": "FloatProgressModel",
      "_view_count": null,
      "_view_module": "@jupyter-widgets/controls",
      "_view_module_version": "1.5.0",
      "_view_name": "ProgressView",
      "bar_style": "success",
      "description": "",
      "description_tooltip": null,
      "layout": "IPY_MODEL_c817072d8d0442228bb81cec00f07d8b",
      "max": 2,
      "min": 0,
      "orientation": "horizontal",
      "style": "IPY_MODEL_a6e1b805e5fd4520be85deea374dc4d6",
      "value": 2
     }
    },
    "90d55e5f3a9c4928b31484470c2093dc": {
     "model_module": "@jupyter-widgets/controls",
     "model_module_version": "1.5.0",
     "model_name": "ProgressStyleModel",
     "state": {
      "_model_module": "@jupyter-widgets/controls",
      "_model_module_version": "1.5.0",
      "_model_name": "ProgressStyleModel",
      "_view_count": null,
      "_view_module": "@jupyter-widgets/base",
      "_view_module_version": "1.2.0",
      "_view_name": "StyleView",
      "bar_color": null,
      "description_width": ""
     }
    },
    "92b4c830300148bc85356cfa38071811": {
     "model_module": "@jupyter-widgets/base",
     "model_module_version": "1.2.0",
     "model_name": "LayoutModel",
     "state": {
      "_model_module": "@jupyter-widgets/base",
      "_model_module_version": "1.2.0",
      "_model_name": "LayoutModel",
      "_view_count": null,
      "_view_module": "@jupyter-widgets/base",
      "_view_module_version": "1.2.0",
      "_view_name": "LayoutView",
      "align_content": null,
      "align_items": null,
      "align_self": null,
      "border": null,
      "bottom": null,
      "display": null,
      "flex": null,
      "flex_flow": null,
      "grid_area": null,
      "grid_auto_columns": null,
      "grid_auto_flow": null,
      "grid_auto_rows": null,
      "grid_column": null,
      "grid_gap": null,
      "grid_row": null,
      "grid_template_areas": null,
      "grid_template_columns": null,
      "grid_template_rows": null,
      "height": null,
      "justify_content": null,
      "justify_items": null,
      "left": null,
      "margin": null,
      "max_height": null,
      "max_width": null,
      "min_height": null,
      "min_width": null,
      "object_fit": null,
      "object_position": null,
      "order": null,
      "overflow": null,
      "overflow_x": null,
      "overflow_y": null,
      "padding": null,
      "right": null,
      "top": null,
      "visibility": null,
      "width": null
     }
    },
    "92fd0adb5450448d8ab2c58e8154395f": {
     "model_module": "@jupyter-widgets/controls",
     "model_module_version": "1.5.0",
     "model_name": "DescriptionStyleModel",
     "state": {
      "_model_module": "@jupyter-widgets/controls",
      "_model_module_version": "1.5.0",
      "_model_name": "DescriptionStyleModel",
      "_view_count": null,
      "_view_module": "@jupyter-widgets/base",
      "_view_module_version": "1.2.0",
      "_view_name": "StyleView",
      "description_width": ""
     }
    },
    "93c24748deea41c8a98868d0d6845944": {
     "model_module": "@jupyter-widgets/controls",
     "model_module_version": "1.5.0",
     "model_name": "FloatProgressModel",
     "state": {
      "_dom_classes": [],
      "_model_module": "@jupyter-widgets/controls",
      "_model_module_version": "1.5.0",
      "_model_name": "FloatProgressModel",
      "_view_count": null,
      "_view_module": "@jupyter-widgets/controls",
      "_view_module_version": "1.5.0",
      "_view_name": "ProgressView",
      "bar_style": "success",
      "description": "",
      "description_tooltip": null,
      "layout": "IPY_MODEL_f5dc3e64e78b462f8bbd9d1f9cfd155a",
      "max": 2,
      "min": 0,
      "orientation": "horizontal",
      "style": "IPY_MODEL_7ff8fea219fa4031b7c758376916ffbd",
      "value": 2
     }
    },
    "949b4ee179be4fa59094d10317262816": {
     "model_module": "@jupyter-widgets/controls",
     "model_module_version": "1.5.0",
     "model_name": "FloatProgressModel",
     "state": {
      "_dom_classes": [],
      "_model_module": "@jupyter-widgets/controls",
      "_model_module_version": "1.5.0",
      "_model_name": "FloatProgressModel",
      "_view_count": null,
      "_view_module": "@jupyter-widgets/controls",
      "_view_module_version": "1.5.0",
      "_view_name": "ProgressView",
      "bar_style": "success",
      "description": "",
      "description_tooltip": null,
      "layout": "IPY_MODEL_3f5596122a754140aa719a886c00c9de",
      "max": 1,
      "min": 0,
      "orientation": "horizontal",
      "style": "IPY_MODEL_f29376467c774f4b9f2db2748fe6962f",
      "value": 1
     }
    },
    "94ff3cebb38a4e3a8f544f9fc4afd8f4": {
     "model_module": "@jupyter-widgets/base",
     "model_module_version": "1.2.0",
     "model_name": "LayoutModel",
     "state": {
      "_model_module": "@jupyter-widgets/base",
      "_model_module_version": "1.2.0",
      "_model_name": "LayoutModel",
      "_view_count": null,
      "_view_module": "@jupyter-widgets/base",
      "_view_module_version": "1.2.0",
      "_view_name": "LayoutView",
      "align_content": null,
      "align_items": null,
      "align_self": null,
      "border": null,
      "bottom": null,
      "display": null,
      "flex": null,
      "flex_flow": null,
      "grid_area": null,
      "grid_auto_columns": null,
      "grid_auto_flow": null,
      "grid_auto_rows": null,
      "grid_column": null,
      "grid_gap": null,
      "grid_row": null,
      "grid_template_areas": null,
      "grid_template_columns": null,
      "grid_template_rows": null,
      "height": null,
      "justify_content": null,
      "justify_items": null,
      "left": null,
      "margin": null,
      "max_height": null,
      "max_width": null,
      "min_height": null,
      "min_width": null,
      "object_fit": null,
      "object_position": null,
      "order": null,
      "overflow": null,
      "overflow_x": null,
      "overflow_y": null,
      "padding": null,
      "right": null,
      "top": null,
      "visibility": null,
      "width": null
     }
    },
    "955598d2c3314e14b6edb3f968345807": {
     "model_module": "@jupyter-widgets/base",
     "model_module_version": "1.2.0",
     "model_name": "LayoutModel",
     "state": {
      "_model_module": "@jupyter-widgets/base",
      "_model_module_version": "1.2.0",
      "_model_name": "LayoutModel",
      "_view_count": null,
      "_view_module": "@jupyter-widgets/base",
      "_view_module_version": "1.2.0",
      "_view_name": "LayoutView",
      "align_content": null,
      "align_items": null,
      "align_self": null,
      "border": null,
      "bottom": null,
      "display": null,
      "flex": null,
      "flex_flow": null,
      "grid_area": null,
      "grid_auto_columns": null,
      "grid_auto_flow": null,
      "grid_auto_rows": null,
      "grid_column": null,
      "grid_gap": null,
      "grid_row": null,
      "grid_template_areas": null,
      "grid_template_columns": null,
      "grid_template_rows": null,
      "height": null,
      "justify_content": null,
      "justify_items": null,
      "left": null,
      "margin": null,
      "max_height": null,
      "max_width": null,
      "min_height": null,
      "min_width": null,
      "object_fit": null,
      "object_position": null,
      "order": null,
      "overflow": null,
      "overflow_x": null,
      "overflow_y": null,
      "padding": null,
      "right": null,
      "top": null,
      "visibility": null,
      "width": null
     }
    },
    "973b568f87a049f6b18d50377294b7e3": {
     "model_module": "@jupyter-widgets/controls",
     "model_module_version": "1.5.0",
     "model_name": "HTMLModel",
     "state": {
      "_dom_classes": [],
      "_model_module": "@jupyter-widgets/controls",
      "_model_module_version": "1.5.0",
      "_model_name": "HTMLModel",
      "_view_count": null,
      "_view_module": "@jupyter-widgets/controls",
      "_view_module_version": "1.5.0",
      "_view_name": "HTMLView",
      "description": "",
      "description_tooltip": null,
      "layout": "IPY_MODEL_cf998ebad7ac48d28adb79282459912b",
      "placeholder": "​",
      "style": "IPY_MODEL_e1142c2780bb4bf18d80551562678c49",
      "value": " 4.41M/4.41M [00:00&lt;00:00, 10.0MB/s]"
     }
    },
    "99a7e5593b594d738e14aa5faf016e9e": {
     "model_module": "@jupyter-widgets/controls",
     "model_module_version": "1.5.0",
     "model_name": "HTMLModel",
     "state": {
      "_dom_classes": [],
      "_model_module": "@jupyter-widgets/controls",
      "_model_module_version": "1.5.0",
      "_model_name": "HTMLModel",
      "_view_count": null,
      "_view_module": "@jupyter-widgets/controls",
      "_view_module_version": "1.5.0",
      "_view_name": "HTMLView",
      "description": "",
      "description_tooltip": null,
      "layout": "IPY_MODEL_b11c1c25f03449d6b5e6b65b74643cf6",
      "placeholder": "​",
      "style": "IPY_MODEL_fc64264792a446f79da56ac9bd8ca632",
      "value": "MD5 checksumming:   0%"
     }
    },
    "9e666a6cfea44884a3309d39db2bf523": {
     "model_module": "@jupyter-widgets/controls",
     "model_module_version": "1.5.0",
     "model_name": "HTMLModel",
     "state": {
      "_dom_classes": [],
      "_model_module": "@jupyter-widgets/controls",
      "_model_module_version": "1.5.0",
      "_model_name": "HTMLModel",
      "_view_count": null,
      "_view_module": "@jupyter-widgets/controls",
      "_view_module_version": "1.5.0",
      "_view_name": "HTMLView",
      "description": "",
      "description_tooltip": null,
      "layout": "IPY_MODEL_82d870cac9aa4a6981730314a0c855bf",
      "placeholder": "​",
      "style": "IPY_MODEL_38b3673965104a28982e32069c793222",
      "value": "Downloading products: 100%"
     }
    },
    "9eecece1c99c437d81edcb1d5ca9951c": {
     "model_module": "@jupyter-widgets/controls",
     "model_module_version": "1.5.0",
     "model_name": "HTMLModel",
     "state": {
      "_dom_classes": [],
      "_model_module": "@jupyter-widgets/controls",
      "_model_module_version": "1.5.0",
      "_model_name": "HTMLModel",
      "_view_count": null,
      "_view_module": "@jupyter-widgets/controls",
      "_view_module_version": "1.5.0",
      "_view_name": "HTMLView",
      "description": "",
      "description_tooltip": null,
      "layout": "IPY_MODEL_65b2e231a4ee4356818d522ca4ed8eba",
      "placeholder": "​",
      "style": "IPY_MODEL_8470a434fefb4009826c414b77a02762",
      "value": " 0.00/4.41M [00:00&lt;?, ?B/s]"
     }
    },
    "9f79be50895748998abeb34c16da4c44": {
     "model_module": "@jupyter-widgets/controls",
     "model_module_version": "1.5.0",
     "model_name": "FloatProgressModel",
     "state": {
      "_dom_classes": [],
      "_model_module": "@jupyter-widgets/controls",
      "_model_module_version": "1.5.0",
      "_model_name": "FloatProgressModel",
      "_view_count": null,
      "_view_module": "@jupyter-widgets/controls",
      "_view_module_version": "1.5.0",
      "_view_name": "ProgressView",
      "bar_style": "success",
      "description": "",
      "description_tooltip": null,
      "layout": "IPY_MODEL_1d6403ccea8b4fcfae49f5a63819a2d5",
      "max": 1,
      "min": 0,
      "orientation": "horizontal",
      "style": "IPY_MODEL_7b75a7cf2e1841b49f404805cae8b4ea",
      "value": 1
     }
    },
    "a0e094a3ba8a40ca974ec9bf1c0978bf": {
     "model_module": "@jupyter-widgets/controls",
     "model_module_version": "1.5.0",
     "model_name": "HTMLModel",
     "state": {
      "_dom_classes": [],
      "_model_module": "@jupyter-widgets/controls",
      "_model_module_version": "1.5.0",
      "_model_name": "HTMLModel",
      "_view_count": null,
      "_view_module": "@jupyter-widgets/controls",
      "_view_module_version": "1.5.0",
      "_view_name": "HTMLView",
      "description": "",
      "description_tooltip": null,
      "layout": "IPY_MODEL_c9438e9d3baa4225a786d8d6bc3a173c",
      "placeholder": "​",
      "style": "IPY_MODEL_c8e64d89c00f471f90c6781f717f25ec",
      "value": "Aligning: 100%"
     }
    },
    "a137357830f9433ba926cae171ed2461": {
     "model_module": "@jupyter-widgets/controls",
     "model_module_version": "1.5.0",
     "model_name": "HBoxModel",
     "state": {
      "_dom_classes": [],
      "_model_module": "@jupyter-widgets/controls",
      "_model_module_version": "1.5.0",
      "_model_name": "HBoxModel",
      "_view_count": null,
      "_view_module": "@jupyter-widgets/controls",
      "_view_module_version": "1.5.0",
      "_view_name": "HBoxView",
      "box_style": "",
      "children": [
       "IPY_MODEL_d71f1d9dbf8b422db23a6d401594247a",
       "IPY_MODEL_48bb377ecfe64c00ac19a5cc41f91bf3",
       "IPY_MODEL_9eecece1c99c437d81edcb1d5ca9951c"
      ],
      "layout": "IPY_MODEL_063ebe0321ed459f86bbc5d6627fef4e"
     }
    },
    "a55a8274210447afae6d299e53283c9c": {
     "model_module": "@jupyter-widgets/controls",
     "model_module_version": "1.5.0",
     "model_name": "DescriptionStyleModel",
     "state": {
      "_model_module": "@jupyter-widgets/controls",
      "_model_module_version": "1.5.0",
      "_model_name": "DescriptionStyleModel",
      "_view_count": null,
      "_view_module": "@jupyter-widgets/base",
      "_view_module_version": "1.2.0",
      "_view_name": "StyleView",
      "description_width": ""
     }
    },
    "a6e1b805e5fd4520be85deea374dc4d6": {
     "model_module": "@jupyter-widgets/controls",
     "model_module_version": "1.5.0",
     "model_name": "ProgressStyleModel",
     "state": {
      "_model_module": "@jupyter-widgets/controls",
      "_model_module_version": "1.5.0",
      "_model_name": "ProgressStyleModel",
      "_view_count": null,
      "_view_module": "@jupyter-widgets/base",
      "_view_module_version": "1.2.0",
      "_view_name": "StyleView",
      "bar_color": null,
      "description_width": ""
     }
    },
    "a774aa016dc8496792f5fde302fa2103": {
     "model_module": "@jupyter-widgets/base",
     "model_module_version": "1.2.0",
     "model_name": "LayoutModel",
     "state": {
      "_model_module": "@jupyter-widgets/base",
      "_model_module_version": "1.2.0",
      "_model_name": "LayoutModel",
      "_view_count": null,
      "_view_module": "@jupyter-widgets/base",
      "_view_module_version": "1.2.0",
      "_view_name": "LayoutView",
      "align_content": null,
      "align_items": null,
      "align_self": null,
      "border": null,
      "bottom": null,
      "display": null,
      "flex": null,
      "flex_flow": null,
      "grid_area": null,
      "grid_auto_columns": null,
      "grid_auto_flow": null,
      "grid_auto_rows": null,
      "grid_column": null,
      "grid_gap": null,
      "grid_row": null,
      "grid_template_areas": null,
      "grid_template_columns": null,
      "grid_template_rows": null,
      "height": null,
      "justify_content": null,
      "justify_items": null,
      "left": null,
      "margin": null,
      "max_height": null,
      "max_width": null,
      "min_height": null,
      "min_width": null,
      "object_fit": null,
      "object_position": null,
      "order": null,
      "overflow": null,
      "overflow_x": null,
      "overflow_y": null,
      "padding": null,
      "right": null,
      "top": null,
      "visibility": null,
      "width": null
     }
    },
    "ae7ef947c731444cad33091261821ff5": {
     "model_module": "@jupyter-widgets/controls",
     "model_module_version": "1.5.0",
     "model_name": "ProgressStyleModel",
     "state": {
      "_model_module": "@jupyter-widgets/controls",
      "_model_module_version": "1.5.0",
      "_model_name": "ProgressStyleModel",
      "_view_count": null,
      "_view_module": "@jupyter-widgets/base",
      "_view_module_version": "1.2.0",
      "_view_name": "StyleView",
      "bar_color": null,
      "description_width": ""
     }
    },
    "b0572a4305f7484ab9bc97a7decf750a": {
     "model_module": "@jupyter-widgets/controls",
     "model_module_version": "1.5.0",
     "model_name": "HTMLModel",
     "state": {
      "_dom_classes": [],
      "_model_module": "@jupyter-widgets/controls",
      "_model_module_version": "1.5.0",
      "_model_name": "HTMLModel",
      "_view_count": null,
      "_view_module": "@jupyter-widgets/controls",
      "_view_module_version": "1.5.0",
      "_view_name": "HTMLView",
      "description": "",
      "description_tooltip": null,
      "layout": "IPY_MODEL_94ff3cebb38a4e3a8f544f9fc4afd8f4",
      "placeholder": "​",
      "style": "IPY_MODEL_baaff4476a5247fe9842568da01fa9cb",
      "value": " 1/1 [00:00&lt;00:00,  3.11product/s]"
     }
    },
    "b11c1c25f03449d6b5e6b65b74643cf6": {
     "model_module": "@jupyter-widgets/base",
     "model_module_version": "1.2.0",
     "model_name": "LayoutModel",
     "state": {
      "_model_module": "@jupyter-widgets/base",
      "_model_module_version": "1.2.0",
      "_model_name": "LayoutModel",
      "_view_count": null,
      "_view_module": "@jupyter-widgets/base",
      "_view_module_version": "1.2.0",
      "_view_name": "LayoutView",
      "align_content": null,
      "align_items": null,
      "align_self": null,
      "border": null,
      "bottom": null,
      "display": null,
      "flex": null,
      "flex_flow": null,
      "grid_area": null,
      "grid_auto_columns": null,
      "grid_auto_flow": null,
      "grid_auto_rows": null,
      "grid_column": null,
      "grid_gap": null,
      "grid_row": null,
      "grid_template_areas": null,
      "grid_template_columns": null,
      "grid_template_rows": null,
      "height": null,
      "justify_content": null,
      "justify_items": null,
      "left": null,
      "margin": null,
      "max_height": null,
      "max_width": null,
      "min_height": null,
      "min_width": null,
      "object_fit": null,
      "object_position": null,
      "order": null,
      "overflow": null,
      "overflow_x": null,
      "overflow_y": null,
      "padding": null,
      "right": null,
      "top": null,
      "visibility": null,
      "width": null
     }
    },
    "b14fe36b6c054d5197ceafd10c6f29e8": {
     "model_module": "@jupyter-widgets/base",
     "model_module_version": "1.2.0",
     "model_name": "LayoutModel",
     "state": {
      "_model_module": "@jupyter-widgets/base",
      "_model_module_version": "1.2.0",
      "_model_name": "LayoutModel",
      "_view_count": null,
      "_view_module": "@jupyter-widgets/base",
      "_view_module_version": "1.2.0",
      "_view_name": "LayoutView",
      "align_content": null,
      "align_items": null,
      "align_self": null,
      "border": null,
      "bottom": null,
      "display": null,
      "flex": null,
      "flex_flow": null,
      "grid_area": null,
      "grid_auto_columns": null,
      "grid_auto_flow": null,
      "grid_auto_rows": null,
      "grid_column": null,
      "grid_gap": null,
      "grid_row": null,
      "grid_template_areas": null,
      "grid_template_columns": null,
      "grid_template_rows": null,
      "height": null,
      "justify_content": null,
      "justify_items": null,
      "left": null,
      "margin": null,
      "max_height": null,
      "max_width": null,
      "min_height": null,
      "min_width": null,
      "object_fit": null,
      "object_position": null,
      "order": null,
      "overflow": null,
      "overflow_x": null,
      "overflow_y": null,
      "padding": null,
      "right": null,
      "top": null,
      "visibility": null,
      "width": null
     }
    },
    "b20a7d5abdc84679a35bbe586083e7c7": {
     "model_module": "@jupyter-widgets/base",
     "model_module_version": "1.2.0",
     "model_name": "LayoutModel",
     "state": {
      "_model_module": "@jupyter-widgets/base",
      "_model_module_version": "1.2.0",
      "_model_name": "LayoutModel",
      "_view_count": null,
      "_view_module": "@jupyter-widgets/base",
      "_view_module_version": "1.2.0",
      "_view_name": "LayoutView",
      "align_content": null,
      "align_items": null,
      "align_self": null,
      "border": null,
      "bottom": null,
      "display": null,
      "flex": null,
      "flex_flow": null,
      "grid_area": null,
      "grid_auto_columns": null,
      "grid_auto_flow": null,
      "grid_auto_rows": null,
      "grid_column": null,
      "grid_gap": null,
      "grid_row": null,
      "grid_template_areas": null,
      "grid_template_columns": null,
      "grid_template_rows": null,
      "height": null,
      "justify_content": null,
      "justify_items": null,
      "left": null,
      "margin": null,
      "max_height": null,
      "max_width": null,
      "min_height": null,
      "min_width": null,
      "object_fit": null,
      "object_position": null,
      "order": null,
      "overflow": null,
      "overflow_x": null,
      "overflow_y": null,
      "padding": null,
      "right": null,
      "top": null,
      "visibility": null,
      "width": null
     }
    },
    "b264f9f834834a5ab07d4c164132b89c": {
     "model_module": "@jupyter-widgets/controls",
     "model_module_version": "1.5.0",
     "model_name": "FloatProgressModel",
     "state": {
      "_dom_classes": [],
      "_model_module": "@jupyter-widgets/controls",
      "_model_module_version": "1.5.0",
      "_model_name": "FloatProgressModel",
      "_view_count": null,
      "_view_module": "@jupyter-widgets/controls",
      "_view_module_version": "1.5.0",
      "_view_name": "ProgressView",
      "bar_style": "",
      "description": "",
      "description_tooltip": null,
      "layout": "IPY_MODEL_d9a6688cad9a4d1ebde28f866d5cf0e4",
      "max": 4409778,
      "min": 0,
      "orientation": "horizontal",
      "style": "IPY_MODEL_136071dad501442dbd68ce10647fccfc",
      "value": 4409778
     }
    },
    "b2c8fead2e564a3e830af7bbb922d983": {
     "model_module": "@jupyter-widgets/base",
     "model_module_version": "1.2.0",
     "model_name": "LayoutModel",
     "state": {
      "_model_module": "@jupyter-widgets/base",
      "_model_module_version": "1.2.0",
      "_model_name": "LayoutModel",
      "_view_count": null,
      "_view_module": "@jupyter-widgets/base",
      "_view_module_version": "1.2.0",
      "_view_name": "LayoutView",
      "align_content": null,
      "align_items": null,
      "align_self": null,
      "border": null,
      "bottom": null,
      "display": null,
      "flex": null,
      "flex_flow": null,
      "grid_area": null,
      "grid_auto_columns": null,
      "grid_auto_flow": null,
      "grid_auto_rows": null,
      "grid_column": null,
      "grid_gap": null,
      "grid_row": null,
      "grid_template_areas": null,
      "grid_template_columns": null,
      "grid_template_rows": null,
      "height": null,
      "justify_content": null,
      "justify_items": null,
      "left": null,
      "margin": null,
      "max_height": null,
      "max_width": null,
      "min_height": null,
      "min_width": null,
      "object_fit": null,
      "object_position": null,
      "order": null,
      "overflow": null,
      "overflow_x": null,
      "overflow_y": null,
      "padding": null,
      "right": null,
      "top": null,
      "visibility": null,
      "width": null
     }
    },
    "b45236beb698401abf96c713e385fea5": {
     "model_module": "@jupyter-widgets/base",
     "model_module_version": "1.2.0",
     "model_name": "LayoutModel",
     "state": {
      "_model_module": "@jupyter-widgets/base",
      "_model_module_version": "1.2.0",
      "_model_name": "LayoutModel",
      "_view_count": null,
      "_view_module": "@jupyter-widgets/base",
      "_view_module_version": "1.2.0",
      "_view_name": "LayoutView",
      "align_content": null,
      "align_items": null,
      "align_self": null,
      "border": null,
      "bottom": null,
      "display": null,
      "flex": null,
      "flex_flow": null,
      "grid_area": null,
      "grid_auto_columns": null,
      "grid_auto_flow": null,
      "grid_auto_rows": null,
      "grid_column": null,
      "grid_gap": null,
      "grid_row": null,
      "grid_template_areas": null,
      "grid_template_columns": null,
      "grid_template_rows": null,
      "height": null,
      "justify_content": null,
      "justify_items": null,
      "left": null,
      "margin": null,
      "max_height": null,
      "max_width": null,
      "min_height": null,
      "min_width": null,
      "object_fit": null,
      "object_position": null,
      "order": null,
      "overflow": null,
      "overflow_x": null,
      "overflow_y": null,
      "padding": null,
      "right": null,
      "top": null,
      "visibility": null,
      "width": null
     }
    },
    "b5426da3137641ff84401204b8cc3184": {
     "model_module": "@jupyter-widgets/controls",
     "model_module_version": "1.5.0",
     "model_name": "FloatProgressModel",
     "state": {
      "_dom_classes": [],
      "_model_module": "@jupyter-widgets/controls",
      "_model_module_version": "1.5.0",
      "_model_name": "FloatProgressModel",
      "_view_count": null,
      "_view_module": "@jupyter-widgets/controls",
      "_view_module_version": "1.5.0",
      "_view_name": "ProgressView",
      "bar_style": "success",
      "description": "",
      "description_tooltip": null,
      "layout": "IPY_MODEL_6b6621fae7bb4197a6c87d60315f81c9",
      "max": 4409788,
      "min": 0,
      "orientation": "horizontal",
      "style": "IPY_MODEL_8189a584559e481999dcf3786ef1951e",
      "value": 4409788
     }
    },
    "b6537f3963ff4ef7ba99066e02094940": {
     "model_module": "@jupyter-widgets/controls",
     "model_module_version": "1.5.0",
     "model_name": "HTMLModel",
     "state": {
      "_dom_classes": [],
      "_model_module": "@jupyter-widgets/controls",
      "_model_module_version": "1.5.0",
      "_model_name": "HTMLModel",
      "_view_count": null,
      "_view_module": "@jupyter-widgets/controls",
      "_view_module_version": "1.5.0",
      "_view_name": "HTMLView",
      "description": "",
      "description_tooltip": null,
      "layout": "IPY_MODEL_a774aa016dc8496792f5fde302fa2103",
      "placeholder": "​",
      "style": "IPY_MODEL_6f2f2dad07a642f8892dd178c8bc8883",
      "value": "Interferograms: 100%"
     }
    },
    "baaff4476a5247fe9842568da01fa9cb": {
     "model_module": "@jupyter-widgets/controls",
     "model_module_version": "1.5.0",
     "model_name": "DescriptionStyleModel",
     "state": {
      "_model_module": "@jupyter-widgets/controls",
      "_model_module_version": "1.5.0",
      "_model_name": "DescriptionStyleModel",
      "_view_count": null,
      "_view_module": "@jupyter-widgets/base",
      "_view_module_version": "1.2.0",
      "_view_name": "StyleView",
      "description_width": ""
     }
    },
    "bb3ad272c9eb4f81a3b95fcf91a0f6f8": {
     "model_module": "@jupyter-widgets/controls",
     "model_module_version": "1.5.0",
     "model_name": "DescriptionStyleModel",
     "state": {
      "_model_module": "@jupyter-widgets/controls",
      "_model_module_version": "1.5.0",
      "_model_name": "DescriptionStyleModel",
      "_view_count": null,
      "_view_module": "@jupyter-widgets/base",
      "_view_module_version": "1.2.0",
      "_view_name": "StyleView",
      "description_width": ""
     }
    },
    "bb7954ca56194e00ab6759f135c49907": {
     "model_module": "@jupyter-widgets/base",
     "model_module_version": "1.2.0",
     "model_name": "LayoutModel",
     "state": {
      "_model_module": "@jupyter-widgets/base",
      "_model_module_version": "1.2.0",
      "_model_name": "LayoutModel",
      "_view_count": null,
      "_view_module": "@jupyter-widgets/base",
      "_view_module_version": "1.2.0",
      "_view_name": "LayoutView",
      "align_content": null,
      "align_items": null,
      "align_self": null,
      "border": null,
      "bottom": null,
      "display": null,
      "flex": null,
      "flex_flow": null,
      "grid_area": null,
      "grid_auto_columns": null,
      "grid_auto_flow": null,
      "grid_auto_rows": null,
      "grid_column": null,
      "grid_gap": null,
      "grid_row": null,
      "grid_template_areas": null,
      "grid_template_columns": null,
      "grid_template_rows": null,
      "height": null,
      "justify_content": null,
      "justify_items": null,
      "left": null,
      "margin": null,
      "max_height": null,
      "max_width": null,
      "min_height": null,
      "min_width": null,
      "object_fit": null,
      "object_position": null,
      "order": null,
      "overflow": null,
      "overflow_x": null,
      "overflow_y": null,
      "padding": null,
      "right": null,
      "top": null,
      "visibility": null,
      "width": null
     }
    },
    "c0b71040e9414b498e281b6b8a46eaed": {
     "model_module": "@jupyter-widgets/controls",
     "model_module_version": "1.5.0",
     "model_name": "HTMLModel",
     "state": {
      "_dom_classes": [],
      "_model_module": "@jupyter-widgets/controls",
      "_model_module_version": "1.5.0",
      "_model_name": "HTMLModel",
      "_view_count": null,
      "_view_module": "@jupyter-widgets/controls",
      "_view_module_version": "1.5.0",
      "_view_name": "HTMLView",
      "description": "",
      "description_tooltip": null,
      "layout": "IPY_MODEL_1403af9b9eca4e0abefd27ba3b100094",
      "placeholder": "​",
      "style": "IPY_MODEL_5e843a55e85a4b949caca1634d05763e",
      "value": " 1/1 [00:00&lt;00:00, 11.31product/s]"
     }
    },
    "c188526f1f6d43a5a707645c5914f3a4": {
     "model_module": "@jupyter-widgets/base",
     "model_module_version": "1.2.0",
     "model_name": "LayoutModel",
     "state": {
      "_model_module": "@jupyter-widgets/base",
      "_model_module_version": "1.2.0",
      "_model_name": "LayoutModel",
      "_view_count": null,
      "_view_module": "@jupyter-widgets/base",
      "_view_module_version": "1.2.0",
      "_view_name": "LayoutView",
      "align_content": null,
      "align_items": null,
      "align_self": null,
      "border": null,
      "bottom": null,
      "display": null,
      "flex": null,
      "flex_flow": null,
      "grid_area": null,
      "grid_auto_columns": null,
      "grid_auto_flow": null,
      "grid_auto_rows": null,
      "grid_column": null,
      "grid_gap": null,
      "grid_row": null,
      "grid_template_areas": null,
      "grid_template_columns": null,
      "grid_template_rows": null,
      "height": null,
      "justify_content": null,
      "justify_items": null,
      "left": null,
      "margin": null,
      "max_height": null,
      "max_width": null,
      "min_height": null,
      "min_width": null,
      "object_fit": null,
      "object_position": null,
      "order": null,
      "overflow": null,
      "overflow_x": null,
      "overflow_y": null,
      "padding": null,
      "right": null,
      "top": null,
      "visibility": null,
      "width": null
     }
    },
    "c3eb09acfa614bf198d606d8312ddf27": {
     "model_module": "@jupyter-widgets/base",
     "model_module_version": "1.2.0",
     "model_name": "LayoutModel",
     "state": {
      "_model_module": "@jupyter-widgets/base",
      "_model_module_version": "1.2.0",
      "_model_name": "LayoutModel",
      "_view_count": null,
      "_view_module": "@jupyter-widgets/base",
      "_view_module_version": "1.2.0",
      "_view_name": "LayoutView",
      "align_content": null,
      "align_items": null,
      "align_self": null,
      "border": null,
      "bottom": null,
      "display": null,
      "flex": null,
      "flex_flow": null,
      "grid_area": null,
      "grid_auto_columns": null,
      "grid_auto_flow": null,
      "grid_auto_rows": null,
      "grid_column": null,
      "grid_gap": null,
      "grid_row": null,
      "grid_template_areas": null,
      "grid_template_columns": null,
      "grid_template_rows": null,
      "height": null,
      "justify_content": null,
      "justify_items": null,
      "left": null,
      "margin": null,
      "max_height": null,
      "max_width": null,
      "min_height": null,
      "min_width": null,
      "object_fit": null,
      "object_position": null,
      "order": null,
      "overflow": null,
      "overflow_x": null,
      "overflow_y": null,
      "padding": null,
      "right": null,
      "top": null,
      "visibility": null,
      "width": null
     }
    },
    "c3ed6edaa89e44cfb18783cb26e2d532": {
     "model_module": "@jupyter-widgets/controls",
     "model_module_version": "1.5.0",
     "model_name": "HTMLModel",
     "state": {
      "_dom_classes": [],
      "_model_module": "@jupyter-widgets/controls",
      "_model_module_version": "1.5.0",
      "_model_name": "HTMLModel",
      "_view_count": null,
      "_view_module": "@jupyter-widgets/controls",
      "_view_module_version": "1.5.0",
      "_view_name": "HTMLView",
      "description": "",
      "description_tooltip": null,
      "layout": "IPY_MODEL_64f6c1a8631645a5808dd4e6186416ef",
      "placeholder": "​",
      "style": "IPY_MODEL_1e176dc72ddf4b00b26b08c2ded2147b",
      "value": "Transforming Coordinates: 100%"
     }
    },
    "c3ff89ab865342bcb103f27be898ae67": {
     "model_module": "@jupyter-widgets/controls",
     "model_module_version": "1.5.0",
     "model_name": "DescriptionStyleModel",
     "state": {
      "_model_module": "@jupyter-widgets/controls",
      "_model_module_version": "1.5.0",
      "_model_name": "DescriptionStyleModel",
      "_view_count": null,
      "_view_module": "@jupyter-widgets/base",
      "_view_module_version": "1.2.0",
      "_view_name": "StyleView",
      "description_width": ""
     }
    },
    "c5ade088b13f40efae6f8e466cce6286": {
     "model_module": "@jupyter-widgets/controls",
     "model_module_version": "1.5.0",
     "model_name": "FloatProgressModel",
     "state": {
      "_dom_classes": [],
      "_model_module": "@jupyter-widgets/controls",
      "_model_module_version": "1.5.0",
      "_model_name": "FloatProgressModel",
      "_view_count": null,
      "_view_module": "@jupyter-widgets/controls",
      "_view_module_version": "1.5.0",
      "_view_name": "ProgressView",
      "bar_style": "success",
      "description": "",
      "description_tooltip": null,
      "layout": "IPY_MODEL_b45236beb698401abf96c713e385fea5",
      "max": 1,
      "min": 0,
      "orientation": "horizontal",
      "style": "IPY_MODEL_fffcb4658ca9418497244245e916d848",
      "value": 1
     }
    },
    "c694d0c1de1e4a72814e81db967fd19f": {
     "model_module": "@jupyter-widgets/controls",
     "model_module_version": "1.5.0",
     "model_name": "HBoxModel",
     "state": {
      "_dom_classes": [],
      "_model_module": "@jupyter-widgets/controls",
      "_model_module_version": "1.5.0",
      "_model_name": "HBoxModel",
      "_view_count": null,
      "_view_module": "@jupyter-widgets/controls",
      "_view_module_version": "1.5.0",
      "_view_name": "HBoxView",
      "box_style": "",
      "children": [
       "IPY_MODEL_f5ad27409a934071a601641309362158",
       "IPY_MODEL_b5426da3137641ff84401204b8cc3184",
       "IPY_MODEL_e55b5764556246e8a076871fdff41b84"
      ],
      "layout": "IPY_MODEL_2b771ba704314f1ba14df8785d42f3ea"
     }
    },
    "c70260f2242c4ba2a5044ec685eb0eb6": {
     "model_module": "@jupyter-widgets/controls",
     "model_module_version": "1.5.0",
     "model_name": "HTMLModel",
     "state": {
      "_dom_classes": [],
      "_model_module": "@jupyter-widgets/controls",
      "_model_module_version": "1.5.0",
      "_model_name": "HTMLModel",
      "_view_count": null,
      "_view_module": "@jupyter-widgets/controls",
      "_view_module_version": "1.5.0",
      "_view_name": "HTMLView",
      "description": "",
      "description_tooltip": null,
      "layout": "IPY_MODEL_b20a7d5abdc84679a35bbe586083e7c7",
      "placeholder": "​",
      "style": "IPY_MODEL_c3ff89ab865342bcb103f27be898ae67",
      "value": " 1/1 [03:44&lt;00:00, 224.20s/it]"
     }
    },
    "c71c46ae19984168a2269c1916ca52d5": {
     "model_module": "@jupyter-widgets/controls",
     "model_module_version": "1.5.0",
     "model_name": "HTMLModel",
     "state": {
      "_dom_classes": [],
      "_model_module": "@jupyter-widgets/controls",
      "_model_module_version": "1.5.0",
      "_model_name": "HTMLModel",
      "_view_count": null,
      "_view_module": "@jupyter-widgets/controls",
      "_view_module_version": "1.5.0",
      "_view_name": "HTMLView",
      "description": "",
      "description_tooltip": null,
      "layout": "IPY_MODEL_e74662eaa976430ca0cf36b427f720bb",
      "placeholder": "​",
      "style": "IPY_MODEL_e795dc70d88d408b9cfdabb512371f07",
      "value": "Downloading S1A_OPER_AUX_POEORB_OPOD_20210317T061343_V20200206T225942_20200208T005942.EOF: 100%"
     }
    },
    "c817072d8d0442228bb81cec00f07d8b": {
     "model_module": "@jupyter-widgets/base",
     "model_module_version": "1.2.0",
     "model_name": "LayoutModel",
     "state": {
      "_model_module": "@jupyter-widgets/base",
      "_model_module_version": "1.2.0",
      "_model_name": "LayoutModel",
      "_view_count": null,
      "_view_module": "@jupyter-widgets/base",
      "_view_module_version": "1.2.0",
      "_view_name": "LayoutView",
      "align_content": null,
      "align_items": null,
      "align_self": null,
      "border": null,
      "bottom": null,
      "display": null,
      "flex": null,
      "flex_flow": null,
      "grid_area": null,
      "grid_auto_columns": null,
      "grid_auto_flow": null,
      "grid_auto_rows": null,
      "grid_column": null,
      "grid_gap": null,
      "grid_row": null,
      "grid_template_areas": null,
      "grid_template_columns": null,
      "grid_template_rows": null,
      "height": null,
      "justify_content": null,
      "justify_items": null,
      "left": null,
      "margin": null,
      "max_height": null,
      "max_width": null,
      "min_height": null,
      "min_width": null,
      "object_fit": null,
      "object_position": null,
      "order": null,
      "overflow": null,
      "overflow_x": null,
      "overflow_y": null,
      "padding": null,
      "right": null,
      "top": null,
      "visibility": null,
      "width": null
     }
    },
    "c8e64d89c00f471f90c6781f717f25ec": {
     "model_module": "@jupyter-widgets/controls",
     "model_module_version": "1.5.0",
     "model_name": "DescriptionStyleModel",
     "state": {
      "_model_module": "@jupyter-widgets/controls",
      "_model_module_version": "1.5.0",
      "_model_name": "DescriptionStyleModel",
      "_view_count": null,
      "_view_module": "@jupyter-widgets/base",
      "_view_module_version": "1.2.0",
      "_view_name": "StyleView",
      "description_width": ""
     }
    },
    "c919ee6c62e744b4a325eb8ffb6aa38d": {
     "model_module": "@jupyter-widgets/controls",
     "model_module_version": "1.5.0",
     "model_name": "DescriptionStyleModel",
     "state": {
      "_model_module": "@jupyter-widgets/controls",
      "_model_module_version": "1.5.0",
      "_model_name": "DescriptionStyleModel",
      "_view_count": null,
      "_view_module": "@jupyter-widgets/base",
      "_view_module_version": "1.2.0",
      "_view_name": "StyleView",
      "description_width": ""
     }
    },
    "c9438e9d3baa4225a786d8d6bc3a173c": {
     "model_module": "@jupyter-widgets/base",
     "model_module_version": "1.2.0",
     "model_name": "LayoutModel",
     "state": {
      "_model_module": "@jupyter-widgets/base",
      "_model_module_version": "1.2.0",
      "_model_name": "LayoutModel",
      "_view_count": null,
      "_view_module": "@jupyter-widgets/base",
      "_view_module_version": "1.2.0",
      "_view_name": "LayoutView",
      "align_content": null,
      "align_items": null,
      "align_self": null,
      "border": null,
      "bottom": null,
      "display": null,
      "flex": null,
      "flex_flow": null,
      "grid_area": null,
      "grid_auto_columns": null,
      "grid_auto_flow": null,
      "grid_auto_rows": null,
      "grid_column": null,
      "grid_gap": null,
      "grid_row": null,
      "grid_template_areas": null,
      "grid_template_columns": null,
      "grid_template_rows": null,
      "height": null,
      "justify_content": null,
      "justify_items": null,
      "left": null,
      "margin": null,
      "max_height": null,
      "max_width": null,
      "min_height": null,
      "min_width": null,
      "object_fit": null,
      "object_position": null,
      "order": null,
      "overflow": null,
      "overflow_x": null,
      "overflow_y": null,
      "padding": null,
      "right": null,
      "top": null,
      "visibility": null,
      "width": null
     }
    },
    "ca60146d30354a4194528ef41c9cbf9f": {
     "model_module": "@jupyter-widgets/controls",
     "model_module_version": "1.5.0",
     "model_name": "HBoxModel",
     "state": {
      "_dom_classes": [],
      "_model_module": "@jupyter-widgets/controls",
      "_model_module_version": "1.5.0",
      "_model_name": "HBoxModel",
      "_view_count": null,
      "_view_module": "@jupyter-widgets/controls",
      "_view_module_version": "1.5.0",
      "_view_name": "HBoxView",
      "box_style": "",
      "children": [
       "IPY_MODEL_c71c46ae19984168a2269c1916ca52d5",
       "IPY_MODEL_cdef31f3a9fe41858ac19754971ff35c",
       "IPY_MODEL_973b568f87a049f6b18d50377294b7e3"
      ],
      "layout": "IPY_MODEL_f2bd3e8224634c3eac0c3566d4d5d28e"
     }
    },
    "cba670f196514300a2421682c7da4194": {
     "model_module": "@jupyter-widgets/controls",
     "model_module_version": "1.5.0",
     "model_name": "FloatProgressModel",
     "state": {
      "_dom_classes": [],
      "_model_module": "@jupyter-widgets/controls",
      "_model_module_version": "1.5.0",
      "_model_name": "FloatProgressModel",
      "_view_count": null,
      "_view_module": "@jupyter-widgets/controls",
      "_view_module_version": "1.5.0",
      "_view_name": "ProgressView",
      "bar_style": "success",
      "description": "",
      "description_tooltip": null,
      "layout": "IPY_MODEL_754e3371d5874e77962a96faac9d5335",
      "max": 2,
      "min": 0,
      "orientation": "horizontal",
      "style": "IPY_MODEL_3a2809b6a4af4eb694f5da0e25fdd7de",
      "value": 2
     }
    },
    "cc6a4942cbad4f1cb5d68d05913bcf46": {
     "model_module": "@jupyter-widgets/base",
     "model_module_version": "1.2.0",
     "model_name": "LayoutModel",
     "state": {
      "_model_module": "@jupyter-widgets/base",
      "_model_module_version": "1.2.0",
      "_model_name": "LayoutModel",
      "_view_count": null,
      "_view_module": "@jupyter-widgets/base",
      "_view_module_version": "1.2.0",
      "_view_name": "LayoutView",
      "align_content": null,
      "align_items": null,
      "align_self": null,
      "border": null,
      "bottom": null,
      "display": null,
      "flex": null,
      "flex_flow": null,
      "grid_area": null,
      "grid_auto_columns": null,
      "grid_auto_flow": null,
      "grid_auto_rows": null,
      "grid_column": null,
      "grid_gap": null,
      "grid_row": null,
      "grid_template_areas": null,
      "grid_template_columns": null,
      "grid_template_rows": null,
      "height": null,
      "justify_content": null,
      "justify_items": null,
      "left": null,
      "margin": null,
      "max_height": null,
      "max_width": null,
      "min_height": null,
      "min_width": null,
      "object_fit": null,
      "object_position": null,
      "order": null,
      "overflow": null,
      "overflow_x": null,
      "overflow_y": null,
      "padding": null,
      "right": null,
      "top": null,
      "visibility": null,
      "width": null
     }
    },
    "cd0a612353b34819af962d26094c1054": {
     "model_module": "@jupyter-widgets/base",
     "model_module_version": "1.2.0",
     "model_name": "LayoutModel",
     "state": {
      "_model_module": "@jupyter-widgets/base",
      "_model_module_version": "1.2.0",
      "_model_name": "LayoutModel",
      "_view_count": null,
      "_view_module": "@jupyter-widgets/base",
      "_view_module_version": "1.2.0",
      "_view_name": "LayoutView",
      "align_content": null,
      "align_items": null,
      "align_self": null,
      "border": null,
      "bottom": null,
      "display": null,
      "flex": null,
      "flex_flow": null,
      "grid_area": null,
      "grid_auto_columns": null,
      "grid_auto_flow": null,
      "grid_auto_rows": null,
      "grid_column": null,
      "grid_gap": null,
      "grid_row": null,
      "grid_template_areas": null,
      "grid_template_columns": null,
      "grid_template_rows": null,
      "height": null,
      "justify_content": null,
      "justify_items": null,
      "left": null,
      "margin": null,
      "max_height": null,
      "max_width": null,
      "min_height": null,
      "min_width": null,
      "object_fit": null,
      "object_position": null,
      "order": null,
      "overflow": null,
      "overflow_x": null,
      "overflow_y": null,
      "padding": null,
      "right": null,
      "top": null,
      "visibility": null,
      "width": null
     }
    },
    "cdef31f3a9fe41858ac19754971ff35c": {
     "model_module": "@jupyter-widgets/controls",
     "model_module_version": "1.5.0",
     "model_name": "FloatProgressModel",
     "state": {
      "_dom_classes": [],
      "_model_module": "@jupyter-widgets/controls",
      "_model_module_version": "1.5.0",
      "_model_name": "FloatProgressModel",
      "_view_count": null,
      "_view_module": "@jupyter-widgets/controls",
      "_view_module_version": "1.5.0",
      "_view_name": "ProgressView",
      "bar_style": "success",
      "description": "",
      "description_tooltip": null,
      "layout": "IPY_MODEL_24ef7f660d3b4d0ebe8bb3af2ce9b02c",
      "max": 4409778,
      "min": 0,
      "orientation": "horizontal",
      "style": "IPY_MODEL_628ab4db466d4b1ab2aae0790abac62e",
      "value": 4409778
     }
    },
    "ce5001fdefab477e9cd6bc853c5e6010": {
     "model_module": "@jupyter-widgets/controls",
     "model_module_version": "1.5.0",
     "model_name": "ProgressStyleModel",
     "state": {
      "_model_module": "@jupyter-widgets/controls",
      "_model_module_version": "1.5.0",
      "_model_name": "ProgressStyleModel",
      "_view_count": null,
      "_view_module": "@jupyter-widgets/base",
      "_view_module_version": "1.2.0",
      "_view_name": "StyleView",
      "bar_color": null,
      "description_width": ""
     }
    },
    "cf998ebad7ac48d28adb79282459912b": {
     "model_module": "@jupyter-widgets/base",
     "model_module_version": "1.2.0",
     "model_name": "LayoutModel",
     "state": {
      "_model_module": "@jupyter-widgets/base",
      "_model_module_version": "1.2.0",
      "_model_name": "LayoutModel",
      "_view_count": null,
      "_view_module": "@jupyter-widgets/base",
      "_view_module_version": "1.2.0",
      "_view_name": "LayoutView",
      "align_content": null,
      "align_items": null,
      "align_self": null,
      "border": null,
      "bottom": null,
      "display": null,
      "flex": null,
      "flex_flow": null,
      "grid_area": null,
      "grid_auto_columns": null,
      "grid_auto_flow": null,
      "grid_auto_rows": null,
      "grid_column": null,
      "grid_gap": null,
      "grid_row": null,
      "grid_template_areas": null,
      "grid_template_columns": null,
      "grid_template_rows": null,
      "height": null,
      "justify_content": null,
      "justify_items": null,
      "left": null,
      "margin": null,
      "max_height": null,
      "max_width": null,
      "min_height": null,
      "min_width": null,
      "object_fit": null,
      "object_position": null,
      "order": null,
      "overflow": null,
      "overflow_x": null,
      "overflow_y": null,
      "padding": null,
      "right": null,
      "top": null,
      "visibility": null,
      "width": null
     }
    },
    "d1721492d73e4a4cb39ff6cb55aa8b93": {
     "model_module": "@jupyter-widgets/controls",
     "model_module_version": "1.5.0",
     "model_name": "DescriptionStyleModel",
     "state": {
      "_model_module": "@jupyter-widgets/controls",
      "_model_module_version": "1.5.0",
      "_model_name": "DescriptionStyleModel",
      "_view_count": null,
      "_view_module": "@jupyter-widgets/base",
      "_view_module_version": "1.2.0",
      "_view_name": "StyleView",
      "description_width": ""
     }
    },
    "d465ed7fe01546a3a2a9d5770f7ee923": {
     "model_module": "@jupyter-widgets/controls",
     "model_module_version": "1.5.0",
     "model_name": "DescriptionStyleModel",
     "state": {
      "_model_module": "@jupyter-widgets/controls",
      "_model_module_version": "1.5.0",
      "_model_name": "DescriptionStyleModel",
      "_view_count": null,
      "_view_module": "@jupyter-widgets/base",
      "_view_module_version": "1.2.0",
      "_view_name": "StyleView",
      "description_width": ""
     }
    },
    "d71f1d9dbf8b422db23a6d401594247a": {
     "model_module": "@jupyter-widgets/controls",
     "model_module_version": "1.5.0",
     "model_name": "HTMLModel",
     "state": {
      "_dom_classes": [],
      "_model_module": "@jupyter-widgets/controls",
      "_model_module_version": "1.5.0",
      "_model_name": "HTMLModel",
      "_view_count": null,
      "_view_module": "@jupyter-widgets/controls",
      "_view_module_version": "1.5.0",
      "_view_name": "HTMLView",
      "description": "",
      "description_tooltip": null,
      "layout": "IPY_MODEL_dec6f493fe33496a84de25a5d27656fd",
      "placeholder": "​",
      "style": "IPY_MODEL_d1721492d73e4a4cb39ff6cb55aa8b93",
      "value": "MD5 checksumming:   0%"
     }
    },
    "d86aa521ca8e492fb325358865c76312": {
     "model_module": "@jupyter-widgets/base",
     "model_module_version": "1.2.0",
     "model_name": "LayoutModel",
     "state": {
      "_model_module": "@jupyter-widgets/base",
      "_model_module_version": "1.2.0",
      "_model_name": "LayoutModel",
      "_view_count": null,
      "_view_module": "@jupyter-widgets/base",
      "_view_module_version": "1.2.0",
      "_view_name": "LayoutView",
      "align_content": null,
      "align_items": null,
      "align_self": null,
      "border": null,
      "bottom": null,
      "display": null,
      "flex": null,
      "flex_flow": null,
      "grid_area": null,
      "grid_auto_columns": null,
      "grid_auto_flow": null,
      "grid_auto_rows": null,
      "grid_column": null,
      "grid_gap": null,
      "grid_row": null,
      "grid_template_areas": null,
      "grid_template_columns": null,
      "grid_template_rows": null,
      "height": null,
      "justify_content": null,
      "justify_items": null,
      "left": null,
      "margin": null,
      "max_height": null,
      "max_width": null,
      "min_height": null,
      "min_width": null,
      "object_fit": null,
      "object_position": null,
      "order": null,
      "overflow": null,
      "overflow_x": null,
      "overflow_y": null,
      "padding": null,
      "right": null,
      "top": null,
      "visibility": null,
      "width": null
     }
    },
    "d9a6688cad9a4d1ebde28f866d5cf0e4": {
     "model_module": "@jupyter-widgets/base",
     "model_module_version": "1.2.0",
     "model_name": "LayoutModel",
     "state": {
      "_model_module": "@jupyter-widgets/base",
      "_model_module_version": "1.2.0",
      "_model_name": "LayoutModel",
      "_view_count": null,
      "_view_module": "@jupyter-widgets/base",
      "_view_module_version": "1.2.0",
      "_view_name": "LayoutView",
      "align_content": null,
      "align_items": null,
      "align_self": null,
      "border": null,
      "bottom": null,
      "display": null,
      "flex": null,
      "flex_flow": null,
      "grid_area": null,
      "grid_auto_columns": null,
      "grid_auto_flow": null,
      "grid_auto_rows": null,
      "grid_column": null,
      "grid_gap": null,
      "grid_row": null,
      "grid_template_areas": null,
      "grid_template_columns": null,
      "grid_template_rows": null,
      "height": null,
      "justify_content": null,
      "justify_items": null,
      "left": null,
      "margin": null,
      "max_height": null,
      "max_width": null,
      "min_height": null,
      "min_width": null,
      "object_fit": null,
      "object_position": null,
      "order": null,
      "overflow": null,
      "overflow_x": null,
      "overflow_y": null,
      "padding": null,
      "right": null,
      "top": null,
      "visibility": null,
      "width": null
     }
    },
    "d9c5eb4ab923491c8cf2a2149a164dc9": {
     "model_module": "@jupyter-widgets/base",
     "model_module_version": "1.2.0",
     "model_name": "LayoutModel",
     "state": {
      "_model_module": "@jupyter-widgets/base",
      "_model_module_version": "1.2.0",
      "_model_name": "LayoutModel",
      "_view_count": null,
      "_view_module": "@jupyter-widgets/base",
      "_view_module_version": "1.2.0",
      "_view_name": "LayoutView",
      "align_content": null,
      "align_items": null,
      "align_self": null,
      "border": null,
      "bottom": null,
      "display": null,
      "flex": null,
      "flex_flow": null,
      "grid_area": null,
      "grid_auto_columns": null,
      "grid_auto_flow": null,
      "grid_auto_rows": null,
      "grid_column": null,
      "grid_gap": null,
      "grid_row": null,
      "grid_template_areas": null,
      "grid_template_columns": null,
      "grid_template_rows": null,
      "height": null,
      "justify_content": null,
      "justify_items": null,
      "left": null,
      "margin": null,
      "max_height": null,
      "max_width": null,
      "min_height": null,
      "min_width": null,
      "object_fit": null,
      "object_position": null,
      "order": null,
      "overflow": null,
      "overflow_x": null,
      "overflow_y": null,
      "padding": null,
      "right": null,
      "top": null,
      "visibility": null,
      "width": null
     }
    },
    "db4b6143314f453586bf2a2297b84de6": {
     "model_module": "@jupyter-widgets/controls",
     "model_module_version": "1.5.0",
     "model_name": "DescriptionStyleModel",
     "state": {
      "_model_module": "@jupyter-widgets/controls",
      "_model_module_version": "1.5.0",
      "_model_name": "DescriptionStyleModel",
      "_view_count": null,
      "_view_module": "@jupyter-widgets/base",
      "_view_module_version": "1.2.0",
      "_view_name": "StyleView",
      "description_width": ""
     }
    },
    "dc05f7c5ff2f4e59968a8cf7c477fdc4": {
     "model_module": "@jupyter-widgets/base",
     "model_module_version": "1.2.0",
     "model_name": "LayoutModel",
     "state": {
      "_model_module": "@jupyter-widgets/base",
      "_model_module_version": "1.2.0",
      "_model_name": "LayoutModel",
      "_view_count": null,
      "_view_module": "@jupyter-widgets/base",
      "_view_module_version": "1.2.0",
      "_view_name": "LayoutView",
      "align_content": null,
      "align_items": null,
      "align_self": null,
      "border": null,
      "bottom": null,
      "display": null,
      "flex": null,
      "flex_flow": null,
      "grid_area": null,
      "grid_auto_columns": null,
      "grid_auto_flow": null,
      "grid_auto_rows": null,
      "grid_column": null,
      "grid_gap": null,
      "grid_row": null,
      "grid_template_areas": null,
      "grid_template_columns": null,
      "grid_template_rows": null,
      "height": null,
      "justify_content": null,
      "justify_items": null,
      "left": null,
      "margin": null,
      "max_height": null,
      "max_width": null,
      "min_height": null,
      "min_width": null,
      "object_fit": null,
      "object_position": null,
      "order": null,
      "overflow": null,
      "overflow_x": null,
      "overflow_y": null,
      "padding": null,
      "right": null,
      "top": null,
      "visibility": null,
      "width": null
     }
    },
    "de2a04bab8074a6ab724c4d115b4c0c6": {
     "model_module": "@jupyter-widgets/controls",
     "model_module_version": "1.5.0",
     "model_name": "FloatProgressModel",
     "state": {
      "_dom_classes": [],
      "_model_module": "@jupyter-widgets/controls",
      "_model_module_version": "1.5.0",
      "_model_name": "FloatProgressModel",
      "_view_count": null,
      "_view_module": "@jupyter-widgets/controls",
      "_view_module_version": "1.5.0",
      "_view_name": "ProgressView",
      "bar_style": "success",
      "description": "",
      "description_tooltip": null,
      "layout": "IPY_MODEL_dfede4d6fc104c2a9f341b6b84ae1556",
      "max": 1,
      "min": 0,
      "orientation": "horizontal",
      "style": "IPY_MODEL_89d7c693bd644591beaca561af8a4a92",
      "value": 1
     }
    },
    "dec6f493fe33496a84de25a5d27656fd": {
     "model_module": "@jupyter-widgets/base",
     "model_module_version": "1.2.0",
     "model_name": "LayoutModel",
     "state": {
      "_model_module": "@jupyter-widgets/base",
      "_model_module_version": "1.2.0",
      "_model_name": "LayoutModel",
      "_view_count": null,
      "_view_module": "@jupyter-widgets/base",
      "_view_module_version": "1.2.0",
      "_view_name": "LayoutView",
      "align_content": null,
      "align_items": null,
      "align_self": null,
      "border": null,
      "bottom": null,
      "display": null,
      "flex": null,
      "flex_flow": null,
      "grid_area": null,
      "grid_auto_columns": null,
      "grid_auto_flow": null,
      "grid_auto_rows": null,
      "grid_column": null,
      "grid_gap": null,
      "grid_row": null,
      "grid_template_areas": null,
      "grid_template_columns": null,
      "grid_template_rows": null,
      "height": null,
      "justify_content": null,
      "justify_items": null,
      "left": null,
      "margin": null,
      "max_height": null,
      "max_width": null,
      "min_height": null,
      "min_width": null,
      "object_fit": null,
      "object_position": null,
      "order": null,
      "overflow": null,
      "overflow_x": null,
      "overflow_y": null,
      "padding": null,
      "right": null,
      "top": null,
      "visibility": null,
      "width": null
     }
    },
    "dfede4d6fc104c2a9f341b6b84ae1556": {
     "model_module": "@jupyter-widgets/base",
     "model_module_version": "1.2.0",
     "model_name": "LayoutModel",
     "state": {
      "_model_module": "@jupyter-widgets/base",
      "_model_module_version": "1.2.0",
      "_model_name": "LayoutModel",
      "_view_count": null,
      "_view_module": "@jupyter-widgets/base",
      "_view_module_version": "1.2.0",
      "_view_name": "LayoutView",
      "align_content": null,
      "align_items": null,
      "align_self": null,
      "border": null,
      "bottom": null,
      "display": null,
      "flex": null,
      "flex_flow": null,
      "grid_area": null,
      "grid_auto_columns": null,
      "grid_auto_flow": null,
      "grid_auto_rows": null,
      "grid_column": null,
      "grid_gap": null,
      "grid_row": null,
      "grid_template_areas": null,
      "grid_template_columns": null,
      "grid_template_rows": null,
      "height": null,
      "justify_content": null,
      "justify_items": null,
      "left": null,
      "margin": null,
      "max_height": null,
      "max_width": null,
      "min_height": null,
      "min_width": null,
      "object_fit": null,
      "object_position": null,
      "order": null,
      "overflow": null,
      "overflow_x": null,
      "overflow_y": null,
      "padding": null,
      "right": null,
      "top": null,
      "visibility": null,
      "width": null
     }
    },
    "e1142c2780bb4bf18d80551562678c49": {
     "model_module": "@jupyter-widgets/controls",
     "model_module_version": "1.5.0",
     "model_name": "DescriptionStyleModel",
     "state": {
      "_model_module": "@jupyter-widgets/controls",
      "_model_module_version": "1.5.0",
      "_model_name": "DescriptionStyleModel",
      "_view_count": null,
      "_view_module": "@jupyter-widgets/base",
      "_view_module_version": "1.2.0",
      "_view_name": "StyleView",
      "description_width": ""
     }
    },
    "e116caa930c04e5386942f49b8649a77": {
     "model_module": "@jupyter-widgets/controls",
     "model_module_version": "1.5.0",
     "model_name": "HBoxModel",
     "state": {
      "_dom_classes": [],
      "_model_module": "@jupyter-widgets/controls",
      "_model_module_version": "1.5.0",
      "_model_name": "HBoxModel",
      "_view_count": null,
      "_view_module": "@jupyter-widgets/controls",
      "_view_module_version": "1.5.0",
      "_view_name": "HBoxView",
      "box_style": "",
      "children": [
       "IPY_MODEL_99a7e5593b594d738e14aa5faf016e9e",
       "IPY_MODEL_b264f9f834834a5ab07d4c164132b89c",
       "IPY_MODEL_ec54f07554da4cc7865f4181df204757"
      ],
      "layout": "IPY_MODEL_d86aa521ca8e492fb325358865c76312"
     }
    },
    "e55b5764556246e8a076871fdff41b84": {
     "model_module": "@jupyter-widgets/controls",
     "model_module_version": "1.5.0",
     "model_name": "HTMLModel",
     "state": {
      "_dom_classes": [],
      "_model_module": "@jupyter-widgets/controls",
      "_model_module_version": "1.5.0",
      "_model_name": "HTMLModel",
      "_view_count": null,
      "_view_module": "@jupyter-widgets/controls",
      "_view_module_version": "1.5.0",
      "_view_name": "HTMLView",
      "description": "",
      "description_tooltip": null,
      "layout": "IPY_MODEL_955598d2c3314e14b6edb3f968345807",
      "placeholder": "​",
      "style": "IPY_MODEL_f8dab003beef432892a011e7733705fb",
      "value": " 4.41M/4.41M [00:00&lt;00:00, 10.2MB/s]"
     }
    },
    "e6148fc5b709497a94d5004845dada25": {
     "model_module": "@jupyter-widgets/controls",
     "model_module_version": "1.5.0",
     "model_name": "HBoxModel",
     "state": {
      "_dom_classes": [],
      "_model_module": "@jupyter-widgets/controls",
      "_model_module_version": "1.5.0",
      "_model_name": "HBoxModel",
      "_view_count": null,
      "_view_module": "@jupyter-widgets/controls",
      "_view_module_version": "1.5.0",
      "_view_name": "HBoxView",
      "box_style": "",
      "children": [
       "IPY_MODEL_1bb10ddddf80492e93c53b29de54767f",
       "IPY_MODEL_949b4ee179be4fa59094d10317262816",
       "IPY_MODEL_20510e52ae6a4a70adf4f8cb2a2718be"
      ],
      "layout": "IPY_MODEL_92b4c830300148bc85356cfa38071811"
     }
    },
    "e662308522354187842eb2790a6485fd": {
     "model_module": "@jupyter-widgets/base",
     "model_module_version": "1.2.0",
     "model_name": "LayoutModel",
     "state": {
      "_model_module": "@jupyter-widgets/base",
      "_model_module_version": "1.2.0",
      "_model_name": "LayoutModel",
      "_view_count": null,
      "_view_module": "@jupyter-widgets/base",
      "_view_module_version": "1.2.0",
      "_view_name": "LayoutView",
      "align_content": null,
      "align_items": null,
      "align_self": null,
      "border": null,
      "bottom": null,
      "display": null,
      "flex": null,
      "flex_flow": null,
      "grid_area": null,
      "grid_auto_columns": null,
      "grid_auto_flow": null,
      "grid_auto_rows": null,
      "grid_column": null,
      "grid_gap": null,
      "grid_row": null,
      "grid_template_areas": null,
      "grid_template_columns": null,
      "grid_template_rows": null,
      "height": null,
      "justify_content": null,
      "justify_items": null,
      "left": null,
      "margin": null,
      "max_height": null,
      "max_width": null,
      "min_height": null,
      "min_width": null,
      "object_fit": null,
      "object_position": null,
      "order": null,
      "overflow": null,
      "overflow_x": null,
      "overflow_y": null,
      "padding": null,
      "right": null,
      "top": null,
      "visibility": null,
      "width": null
     }
    },
    "e74662eaa976430ca0cf36b427f720bb": {
     "model_module": "@jupyter-widgets/base",
     "model_module_version": "1.2.0",
     "model_name": "LayoutModel",
     "state": {
      "_model_module": "@jupyter-widgets/base",
      "_model_module_version": "1.2.0",
      "_model_name": "LayoutModel",
      "_view_count": null,
      "_view_module": "@jupyter-widgets/base",
      "_view_module_version": "1.2.0",
      "_view_name": "LayoutView",
      "align_content": null,
      "align_items": null,
      "align_self": null,
      "border": null,
      "bottom": null,
      "display": null,
      "flex": null,
      "flex_flow": null,
      "grid_area": null,
      "grid_auto_columns": null,
      "grid_auto_flow": null,
      "grid_auto_rows": null,
      "grid_column": null,
      "grid_gap": null,
      "grid_row": null,
      "grid_template_areas": null,
      "grid_template_columns": null,
      "grid_template_rows": null,
      "height": null,
      "justify_content": null,
      "justify_items": null,
      "left": null,
      "margin": null,
      "max_height": null,
      "max_width": null,
      "min_height": null,
      "min_width": null,
      "object_fit": null,
      "object_position": null,
      "order": null,
      "overflow": null,
      "overflow_x": null,
      "overflow_y": null,
      "padding": null,
      "right": null,
      "top": null,
      "visibility": null,
      "width": null
     }
    },
    "e795dc70d88d408b9cfdabb512371f07": {
     "model_module": "@jupyter-widgets/controls",
     "model_module_version": "1.5.0",
     "model_name": "DescriptionStyleModel",
     "state": {
      "_model_module": "@jupyter-widgets/controls",
      "_model_module_version": "1.5.0",
      "_model_name": "DescriptionStyleModel",
      "_view_count": null,
      "_view_module": "@jupyter-widgets/base",
      "_view_module_version": "1.2.0",
      "_view_name": "StyleView",
      "description_width": ""
     }
    },
    "e833d9ab84884aa78d4dee0888590ebb": {
     "model_module": "@jupyter-widgets/controls",
     "model_module_version": "1.5.0",
     "model_name": "DescriptionStyleModel",
     "state": {
      "_model_module": "@jupyter-widgets/controls",
      "_model_module_version": "1.5.0",
      "_model_name": "DescriptionStyleModel",
      "_view_count": null,
      "_view_module": "@jupyter-widgets/base",
      "_view_module_version": "1.2.0",
      "_view_name": "StyleView",
      "description_width": ""
     }
    },
    "e910d8a6cc72434f82416e76e8726043": {
     "model_module": "@jupyter-widgets/controls",
     "model_module_version": "1.5.0",
     "model_name": "HBoxModel",
     "state": {
      "_dom_classes": [],
      "_model_module": "@jupyter-widgets/controls",
      "_model_module_version": "1.5.0",
      "_model_name": "HBoxModel",
      "_view_count": null,
      "_view_module": "@jupyter-widgets/controls",
      "_view_module_version": "1.5.0",
      "_view_name": "HBoxView",
      "box_style": "",
      "children": [
       "IPY_MODEL_ee7dad89b173462b989841f489a686f7",
       "IPY_MODEL_c5ade088b13f40efae6f8e466cce6286",
       "IPY_MODEL_c70260f2242c4ba2a5044ec685eb0eb6"
      ],
      "layout": "IPY_MODEL_1dcf7d82a4644e6982e0bb88e796e317"
     }
    },
    "ec54f07554da4cc7865f4181df204757": {
     "model_module": "@jupyter-widgets/controls",
     "model_module_version": "1.5.0",
     "model_name": "HTMLModel",
     "state": {
      "_dom_classes": [],
      "_model_module": "@jupyter-widgets/controls",
      "_model_module_version": "1.5.0",
      "_model_name": "HTMLModel",
      "_view_count": null,
      "_view_module": "@jupyter-widgets/controls",
      "_view_module_version": "1.5.0",
      "_view_name": "HTMLView",
      "description": "",
      "description_tooltip": null,
      "layout": "IPY_MODEL_bb7954ca56194e00ab6759f135c49907",
      "placeholder": "​",
      "style": "IPY_MODEL_45c7e76f26e84713846321f900faa72f",
      "value": " 0.00/4.41M [00:00&lt;?, ?B/s]"
     }
    },
    "ee7dad89b173462b989841f489a686f7": {
     "model_module": "@jupyter-widgets/controls",
     "model_module_version": "1.5.0",
     "model_name": "HTMLModel",
     "state": {
      "_dom_classes": [],
      "_model_module": "@jupyter-widgets/controls",
      "_model_module_version": "1.5.0",
      "_model_name": "HTMLModel",
      "_view_count": null,
      "_view_module": "@jupyter-widgets/controls",
      "_view_module_version": "1.5.0",
      "_view_name": "HTMLView",
      "description": "",
      "description_tooltip": null,
      "layout": "IPY_MODEL_071aaa3dd5da4e1b976e6aa5638cedec",
      "placeholder": "​",
      "style": "IPY_MODEL_f6ed9d10d5044ea3b790bbb525f82bb6",
      "value": "Unwrapping: 100%"
     }
    },
    "eea84f0873ef4d948fc23fc921ccbec8": {
     "model_module": "@jupyter-widgets/controls",
     "model_module_version": "1.5.0",
     "model_name": "HTMLModel",
     "state": {
      "_dom_classes": [],
      "_model_module": "@jupyter-widgets/controls",
      "_model_module_version": "1.5.0",
      "_model_name": "HTMLModel",
      "_view_count": null,
      "_view_module": "@jupyter-widgets/controls",
      "_view_module_version": "1.5.0",
      "_view_name": "HTMLView",
      "description": "",
      "description_tooltip": null,
      "layout": "IPY_MODEL_cc6a4942cbad4f1cb5d68d05913bcf46",
      "placeholder": "​",
      "style": "IPY_MODEL_4996ed05dbb94f5598821bbc592f70eb",
      "value": "Merging Subswaths: 100%"
     }
    },
    "ef294830f1a243699566b81c20501b8e": {
     "model_module": "@jupyter-widgets/controls",
     "model_module_version": "1.5.0",
     "model_name": "HTMLModel",
     "state": {
      "_dom_classes": [],
      "_model_module": "@jupyter-widgets/controls",
      "_model_module_version": "1.5.0",
      "_model_name": "HTMLModel",
      "_view_count": null,
      "_view_module": "@jupyter-widgets/controls",
      "_view_module_version": "1.5.0",
      "_view_name": "HTMLView",
      "description": "",
      "description_tooltip": null,
      "layout": "IPY_MODEL_686a0e54f80445f48e1de13aa725a29a",
      "placeholder": "​",
      "style": "IPY_MODEL_2a40cc973145461c9ac4aa46be748112",
      "value": " 2/2 [04:29&lt;00:00, 114.48s/it]"
     }
    },
    "f291d2979204497b97ec7ee2654fbf5d": {
     "model_module": "@jupyter-widgets/base",
     "model_module_version": "1.2.0",
     "model_name": "LayoutModel",
     "state": {
      "_model_module": "@jupyter-widgets/base",
      "_model_module_version": "1.2.0",
      "_model_name": "LayoutModel",
      "_view_count": null,
      "_view_module": "@jupyter-widgets/base",
      "_view_module_version": "1.2.0",
      "_view_name": "LayoutView",
      "align_content": null,
      "align_items": null,
      "align_self": null,
      "border": null,
      "bottom": null,
      "display": null,
      "flex": null,
      "flex_flow": null,
      "grid_area": null,
      "grid_auto_columns": null,
      "grid_auto_flow": null,
      "grid_auto_rows": null,
      "grid_column": null,
      "grid_gap": null,
      "grid_row": null,
      "grid_template_areas": null,
      "grid_template_columns": null,
      "grid_template_rows": null,
      "height": null,
      "justify_content": null,
      "justify_items": null,
      "left": null,
      "margin": null,
      "max_height": null,
      "max_width": null,
      "min_height": null,
      "min_width": null,
      "object_fit": null,
      "object_position": null,
      "order": null,
      "overflow": null,
      "overflow_x": null,
      "overflow_y": null,
      "padding": null,
      "right": null,
      "top": null,
      "visibility": null,
      "width": null
     }
    },
    "f29376467c774f4b9f2db2748fe6962f": {
     "model_module": "@jupyter-widgets/controls",
     "model_module_version": "1.5.0",
     "model_name": "ProgressStyleModel",
     "state": {
      "_model_module": "@jupyter-widgets/controls",
      "_model_module_version": "1.5.0",
      "_model_name": "ProgressStyleModel",
      "_view_count": null,
      "_view_module": "@jupyter-widgets/base",
      "_view_module_version": "1.2.0",
      "_view_name": "StyleView",
      "bar_color": null,
      "description_width": ""
     }
    },
    "f2bd3e8224634c3eac0c3566d4d5d28e": {
     "model_module": "@jupyter-widgets/base",
     "model_module_version": "1.2.0",
     "model_name": "LayoutModel",
     "state": {
      "_model_module": "@jupyter-widgets/base",
      "_model_module_version": "1.2.0",
      "_model_name": "LayoutModel",
      "_view_count": null,
      "_view_module": "@jupyter-widgets/base",
      "_view_module_version": "1.2.0",
      "_view_name": "LayoutView",
      "align_content": null,
      "align_items": null,
      "align_self": null,
      "border": null,
      "bottom": null,
      "display": null,
      "flex": null,
      "flex_flow": null,
      "grid_area": null,
      "grid_auto_columns": null,
      "grid_auto_flow": null,
      "grid_auto_rows": null,
      "grid_column": null,
      "grid_gap": null,
      "grid_row": null,
      "grid_template_areas": null,
      "grid_template_columns": null,
      "grid_template_rows": null,
      "height": null,
      "justify_content": null,
      "justify_items": null,
      "left": null,
      "margin": null,
      "max_height": null,
      "max_width": null,
      "min_height": null,
      "min_width": null,
      "object_fit": null,
      "object_position": null,
      "order": null,
      "overflow": null,
      "overflow_x": null,
      "overflow_y": null,
      "padding": null,
      "right": null,
      "top": null,
      "visibility": null,
      "width": null
     }
    },
    "f4783ea1a1aa4404984d8491717fb180": {
     "model_module": "@jupyter-widgets/base",
     "model_module_version": "1.2.0",
     "model_name": "LayoutModel",
     "state": {
      "_model_module": "@jupyter-widgets/base",
      "_model_module_version": "1.2.0",
      "_model_name": "LayoutModel",
      "_view_count": null,
      "_view_module": "@jupyter-widgets/base",
      "_view_module_version": "1.2.0",
      "_view_name": "LayoutView",
      "align_content": null,
      "align_items": null,
      "align_self": null,
      "border": null,
      "bottom": null,
      "display": null,
      "flex": null,
      "flex_flow": null,
      "grid_area": null,
      "grid_auto_columns": null,
      "grid_auto_flow": null,
      "grid_auto_rows": null,
      "grid_column": null,
      "grid_gap": null,
      "grid_row": null,
      "grid_template_areas": null,
      "grid_template_columns": null,
      "grid_template_rows": null,
      "height": null,
      "justify_content": null,
      "justify_items": null,
      "left": null,
      "margin": null,
      "max_height": null,
      "max_width": null,
      "min_height": null,
      "min_width": null,
      "object_fit": null,
      "object_position": null,
      "order": null,
      "overflow": null,
      "overflow_x": null,
      "overflow_y": null,
      "padding": null,
      "right": null,
      "top": null,
      "visibility": null,
      "width": null
     }
    },
    "f4d05a93cae24f70aed539a19a3bdd3a": {
     "model_module": "@jupyter-widgets/base",
     "model_module_version": "1.2.0",
     "model_name": "LayoutModel",
     "state": {
      "_model_module": "@jupyter-widgets/base",
      "_model_module_version": "1.2.0",
      "_model_name": "LayoutModel",
      "_view_count": null,
      "_view_module": "@jupyter-widgets/base",
      "_view_module_version": "1.2.0",
      "_view_name": "LayoutView",
      "align_content": null,
      "align_items": null,
      "align_self": null,
      "border": null,
      "bottom": null,
      "display": null,
      "flex": null,
      "flex_flow": null,
      "grid_area": null,
      "grid_auto_columns": null,
      "grid_auto_flow": null,
      "grid_auto_rows": null,
      "grid_column": null,
      "grid_gap": null,
      "grid_row": null,
      "grid_template_areas": null,
      "grid_template_columns": null,
      "grid_template_rows": null,
      "height": null,
      "justify_content": null,
      "justify_items": null,
      "left": null,
      "margin": null,
      "max_height": null,
      "max_width": null,
      "min_height": null,
      "min_width": null,
      "object_fit": null,
      "object_position": null,
      "order": null,
      "overflow": null,
      "overflow_x": null,
      "overflow_y": null,
      "padding": null,
      "right": null,
      "top": null,
      "visibility": null,
      "width": null
     }
    },
    "f5ad27409a934071a601641309362158": {
     "model_module": "@jupyter-widgets/controls",
     "model_module_version": "1.5.0",
     "model_name": "HTMLModel",
     "state": {
      "_dom_classes": [],
      "_model_module": "@jupyter-widgets/controls",
      "_model_module_version": "1.5.0",
      "_model_name": "HTMLModel",
      "_view_count": null,
      "_view_module": "@jupyter-widgets/controls",
      "_view_module_version": "1.5.0",
      "_view_name": "HTMLView",
      "description": "",
      "description_tooltip": null,
      "layout": "IPY_MODEL_00804db3269d4e50bebaa18c6c7892c6",
      "placeholder": "​",
      "style": "IPY_MODEL_bb3ad272c9eb4f81a3b95fcf91a0f6f8",
      "value": "Downloading S1A_OPER_AUX_POEORB_OPOD_20210317T100523_V20200218T225942_20200220T005942.EOF: 100%"
     }
    },
    "f5dc3e64e78b462f8bbd9d1f9cfd155a": {
     "model_module": "@jupyter-widgets/base",
     "model_module_version": "1.2.0",
     "model_name": "LayoutModel",
     "state": {
      "_model_module": "@jupyter-widgets/base",
      "_model_module_version": "1.2.0",
      "_model_name": "LayoutModel",
      "_view_count": null,
      "_view_module": "@jupyter-widgets/base",
      "_view_module_version": "1.2.0",
      "_view_name": "LayoutView",
      "align_content": null,
      "align_items": null,
      "align_self": null,
      "border": null,
      "bottom": null,
      "display": null,
      "flex": null,
      "flex_flow": null,
      "grid_area": null,
      "grid_auto_columns": null,
      "grid_auto_flow": null,
      "grid_auto_rows": null,
      "grid_column": null,
      "grid_gap": null,
      "grid_row": null,
      "grid_template_areas": null,
      "grid_template_columns": null,
      "grid_template_rows": null,
      "height": null,
      "justify_content": null,
      "justify_items": null,
      "left": null,
      "margin": null,
      "max_height": null,
      "max_width": null,
      "min_height": null,
      "min_width": null,
      "object_fit": null,
      "object_position": null,
      "order": null,
      "overflow": null,
      "overflow_x": null,
      "overflow_y": null,
      "padding": null,
      "right": null,
      "top": null,
      "visibility": null,
      "width": null
     }
    },
    "f6a98b938bd34d0386fea8fac2bce68c": {
     "model_module": "@jupyter-widgets/controls",
     "model_module_version": "1.5.0",
     "model_name": "HBoxModel",
     "state": {
      "_dom_classes": [],
      "_model_module": "@jupyter-widgets/controls",
      "_model_module_version": "1.5.0",
      "_model_name": "HBoxModel",
      "_view_count": null,
      "_view_module": "@jupyter-widgets/controls",
      "_view_module_version": "1.5.0",
      "_view_name": "HBoxView",
      "box_style": "",
      "children": [
       "IPY_MODEL_a0e094a3ba8a40ca974ec9bf1c0978bf",
       "IPY_MODEL_720ef7dd184a43db8f40c49de07b9e21",
       "IPY_MODEL_12fad00fca484887aac88669bbfc954f"
      ],
      "layout": "IPY_MODEL_dc05f7c5ff2f4e59968a8cf7c477fdc4"
     }
    },
    "f6ed9d10d5044ea3b790bbb525f82bb6": {
     "model_module": "@jupyter-widgets/controls",
     "model_module_version": "1.5.0",
     "model_name": "DescriptionStyleModel",
     "state": {
      "_model_module": "@jupyter-widgets/controls",
      "_model_module_version": "1.5.0",
      "_model_name": "DescriptionStyleModel",
      "_view_count": null,
      "_view_module": "@jupyter-widgets/base",
      "_view_module_version": "1.2.0",
      "_view_name": "StyleView",
      "description_width": ""
     }
    },
    "f8dab003beef432892a011e7733705fb": {
     "model_module": "@jupyter-widgets/controls",
     "model_module_version": "1.5.0",
     "model_name": "DescriptionStyleModel",
     "state": {
      "_model_module": "@jupyter-widgets/controls",
      "_model_module_version": "1.5.0",
      "_model_name": "DescriptionStyleModel",
      "_view_count": null,
      "_view_module": "@jupyter-widgets/base",
      "_view_module_version": "1.2.0",
      "_view_name": "StyleView",
      "description_width": ""
     }
    },
    "f9783e771fc0480590f58ac09834e8ff": {
     "model_module": "@jupyter-widgets/base",
     "model_module_version": "1.2.0",
     "model_name": "LayoutModel",
     "state": {
      "_model_module": "@jupyter-widgets/base",
      "_model_module_version": "1.2.0",
      "_model_name": "LayoutModel",
      "_view_count": null,
      "_view_module": "@jupyter-widgets/base",
      "_view_module_version": "1.2.0",
      "_view_name": "LayoutView",
      "align_content": null,
      "align_items": null,
      "align_self": null,
      "border": null,
      "bottom": null,
      "display": null,
      "flex": null,
      "flex_flow": null,
      "grid_area": null,
      "grid_auto_columns": null,
      "grid_auto_flow": null,
      "grid_auto_rows": null,
      "grid_column": null,
      "grid_gap": null,
      "grid_row": null,
      "grid_template_areas": null,
      "grid_template_columns": null,
      "grid_template_rows": null,
      "height": null,
      "justify_content": null,
      "justify_items": null,
      "left": null,
      "margin": null,
      "max_height": null,
      "max_width": null,
      "min_height": null,
      "min_width": null,
      "object_fit": null,
      "object_position": null,
      "order": null,
      "overflow": null,
      "overflow_x": null,
      "overflow_y": null,
      "padding": null,
      "right": null,
      "top": null,
      "visibility": null,
      "width": null
     }
    },
    "fa33b9838fd74a379d11a301e39d8dbf": {
     "model_module": "@jupyter-widgets/controls",
     "model_module_version": "1.5.0",
     "model_name": "HTMLModel",
     "state": {
      "_dom_classes": [],
      "_model_module": "@jupyter-widgets/controls",
      "_model_module_version": "1.5.0",
      "_model_name": "HTMLModel",
      "_view_count": null,
      "_view_module": "@jupyter-widgets/controls",
      "_view_module_version": "1.5.0",
      "_view_name": "HTMLView",
      "description": "",
      "description_tooltip": null,
      "layout": "IPY_MODEL_1d3bb8261cd242d9a4e5871ad2d5c4be",
      "placeholder": "​",
      "style": "IPY_MODEL_fc75ff97d5d2459eadfcff33956430db",
      "value": " 2/2 [04:30&lt;00:00, 135.40s/it]"
     }
    },
    "fa362da46d074ed4b4571c32309b2541": {
     "model_module": "@jupyter-widgets/base",
     "model_module_version": "1.2.0",
     "model_name": "LayoutModel",
     "state": {
      "_model_module": "@jupyter-widgets/base",
      "_model_module_version": "1.2.0",
      "_model_name": "LayoutModel",
      "_view_count": null,
      "_view_module": "@jupyter-widgets/base",
      "_view_module_version": "1.2.0",
      "_view_name": "LayoutView",
      "align_content": null,
      "align_items": null,
      "align_self": null,
      "border": null,
      "bottom": null,
      "display": null,
      "flex": null,
      "flex_flow": null,
      "grid_area": null,
      "grid_auto_columns": null,
      "grid_auto_flow": null,
      "grid_auto_rows": null,
      "grid_column": null,
      "grid_gap": null,
      "grid_row": null,
      "grid_template_areas": null,
      "grid_template_columns": null,
      "grid_template_rows": null,
      "height": null,
      "justify_content": null,
      "justify_items": null,
      "left": null,
      "margin": null,
      "max_height": null,
      "max_width": null,
      "min_height": null,
      "min_width": null,
      "object_fit": null,
      "object_position": null,
      "order": null,
      "overflow": null,
      "overflow_x": null,
      "overflow_y": null,
      "padding": null,
      "right": null,
      "top": null,
      "visibility": null,
      "width": null
     }
    },
    "fc64264792a446f79da56ac9bd8ca632": {
     "model_module": "@jupyter-widgets/controls",
     "model_module_version": "1.5.0",
     "model_name": "DescriptionStyleModel",
     "state": {
      "_model_module": "@jupyter-widgets/controls",
      "_model_module_version": "1.5.0",
      "_model_name": "DescriptionStyleModel",
      "_view_count": null,
      "_view_module": "@jupyter-widgets/base",
      "_view_module_version": "1.2.0",
      "_view_name": "StyleView",
      "description_width": ""
     }
    },
    "fc75ff97d5d2459eadfcff33956430db": {
     "model_module": "@jupyter-widgets/controls",
     "model_module_version": "1.5.0",
     "model_name": "DescriptionStyleModel",
     "state": {
      "_model_module": "@jupyter-widgets/controls",
      "_model_module_version": "1.5.0",
      "_model_name": "DescriptionStyleModel",
      "_view_count": null,
      "_view_module": "@jupyter-widgets/base",
      "_view_module_version": "1.2.0",
      "_view_name": "StyleView",
      "description_width": ""
     }
    },
    "fee0a703cb5645399f37060eb7a52a69": {
     "model_module": "@jupyter-widgets/base",
     "model_module_version": "1.2.0",
     "model_name": "LayoutModel",
     "state": {
      "_model_module": "@jupyter-widgets/base",
      "_model_module_version": "1.2.0",
      "_model_name": "LayoutModel",
      "_view_count": null,
      "_view_module": "@jupyter-widgets/base",
      "_view_module_version": "1.2.0",
      "_view_name": "LayoutView",
      "align_content": null,
      "align_items": null,
      "align_self": null,
      "border": null,
      "bottom": null,
      "display": null,
      "flex": null,
      "flex_flow": null,
      "grid_area": null,
      "grid_auto_columns": null,
      "grid_auto_flow": null,
      "grid_auto_rows": null,
      "grid_column": null,
      "grid_gap": null,
      "grid_row": null,
      "grid_template_areas": null,
      "grid_template_columns": null,
      "grid_template_rows": null,
      "height": null,
      "justify_content": null,
      "justify_items": null,
      "left": null,
      "margin": null,
      "max_height": null,
      "max_width": null,
      "min_height": null,
      "min_width": null,
      "object_fit": null,
      "object_position": null,
      "order": null,
      "overflow": null,
      "overflow_x": null,
      "overflow_y": null,
      "padding": null,
      "right": null,
      "top": null,
      "visibility": null,
      "width": null
     }
    },
    "fffcb4658ca9418497244245e916d848": {
     "model_module": "@jupyter-widgets/controls",
     "model_module_version": "1.5.0",
     "model_name": "ProgressStyleModel",
     "state": {
      "_model_module": "@jupyter-widgets/controls",
      "_model_module_version": "1.5.0",
      "_model_name": "ProgressStyleModel",
      "_view_count": null,
      "_view_module": "@jupyter-widgets/base",
      "_view_module_version": "1.2.0",
      "_view_name": "StyleView",
      "bar_color": null,
      "description_width": ""
     }
    }
   }
  }
 },
 "nbformat": 4,
 "nbformat_minor": 1
}
