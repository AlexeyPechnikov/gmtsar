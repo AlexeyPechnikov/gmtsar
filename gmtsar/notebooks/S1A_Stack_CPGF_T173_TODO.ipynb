{
 "cells": [
  {
   "cell_type": "markdown",
   "metadata": {},
   "source": [
    "# PyGMTSAR Python Notebook for example S1A_Stack_CPGF_T173"
   ]
  },
  {
   "cell_type": "markdown",
   "metadata": {},
   "source": [
    "## Alexey Pechnikov, Sep, 2021, https://github.com/mobigroup/gmtsar\n",
    "\n",
    "## I'm a freelancer and that's my free time project. If you find it useful you are able to sponsor the project <a href=\"https://www.patreon.com/bePatron?u=54500608\" data-patreon-widget-type=\"become-patron-button\">Become a Patron!</a><script async src=\"https://c6.patreon.com/becomePatronButton.bundle.js\"></script> on Patreon or order additional research, development and support on <a href=\"https://www.upwork.com/freelancers/~01e65e8e7221758623\">Upwork</a>"
   ]
  },
  {
   "cell_type": "markdown",
   "metadata": {},
   "source": [
    "## Download and unpack the example, create processing directory"
   ]
  },
  {
   "cell_type": "raw",
   "metadata": {},
   "source": [
    "!wget -c http://topex.ucsd.edu/gmtsar/tar/S1A_Stack_CPGF_T173.tar.gz\n",
    "!tar xvzf S1A_Stack_CPGF_T173.tar.gz -C .\n",
    "!mkdir raw"
   ]
  },
  {
   "cell_type": "raw",
   "metadata": {},
   "source": [
    "#!/bin/sh\n",
    "# GMTSAR command-line processing script for the example\n",
    "# use it to produce reference results when you need to compare outputs\n",
    "# ~30 minutes processing on 4 core 16GB RAM server\n",
    "\n",
    "./README_prep.txt 2>&1 | tee README_prep.txt.log\n",
    "./README_proc.txt 2>&1 | tee README_proc.txt.log\n",
    "./README_sbas.txt 2>&1 | tee README_sbas.txt.log\n",
    "\n",
    "# build unwrap images grid\n",
    "cd intf_all\n",
    "cmd=\"montage\"\n",
    "for fname in ???????_???????/unwrap.pdf\n",
    "do\n",
    "    name=$(dirname \"${fname}\")\n",
    "    name=$(basename \"${name}\")\n",
    "    cmd=\"${cmd} -label ${name} ${fname}\"\n",
    "done\n",
    "cmd=\"${cmd} -pointsize 3 -geometry 400x400>+4+3 -density 600 -quality 100 unwrap_grid.pdf\"\n",
    "$cmd\n",
    "cd .."
   ]
  },
  {
   "cell_type": "markdown",
   "metadata": {},
   "source": [
    "## TODO"
   ]
  },
  {
   "cell_type": "code",
   "execution_count": null,
   "metadata": {},
   "outputs": [],
   "source": [
    "import sys\n",
    "import os"
   ]
  },
  {
   "cell_type": "raw",
   "metadata": {},
   "source": [
    "!{sys.executable} -m pip install \\\n",
    "    scikit-image sklearn xarray dask distributed geoviews hvplot bokeh wand \\\n",
    "    xmltodict joblib contextlib tqdm --upgrade"
   ]
  },
  {
   "cell_type": "code",
   "execution_count": null,
   "metadata": {},
   "outputs": [],
   "source": [
    "import xarray as xr\n",
    "import numpy as np\n",
    "#import dask\n",
    "#from dask.diagnostics import ProgressBar\n",
    "import pandas as pd\n",
    "# supress numpy warnings\n",
    "import warnings\n",
    "warnings.filterwarnings('ignore')\n",
    "import glob\n",
    "from io import StringIO\n",
    "import xmltodict"
   ]
  },
  {
   "cell_type": "code",
   "execution_count": null,
   "metadata": {},
   "outputs": [],
   "source": [
    "# to show PDF file\n",
    "from wand.image import Image as WImage\n",
    "# plotting modules\n",
    "import hvplot.xarray  # noqa\n",
    "import holoviews as hv\n",
    "from holoviews import opts\n",
    "from bokeh.models import FixedTicker\n",
    "hv.extension('bokeh', 'matplotlib')\n",
    "pd.options.plotting.backend = 'holoviews'"
   ]
  },
  {
   "cell_type": "code",
   "execution_count": null,
   "metadata": {},
   "outputs": [],
   "source": [
    "# define Pandas display settings\n",
    "pd.set_option('display.max_rows', 50)\n",
    "pd.set_option('display.max_columns', None)\n",
    "pd.set_option('display.width', None)\n",
    "pd.set_option('display.max_colwidth', None)\n",
    "\n",
    "# define common plot parameters\n",
    "plot_opts = {'rasterize': True, 'xlabel':'Range', 'ylabel':'Azimuth', 'width':500, 'height':400}"
   ]
  },
  {
   "cell_type": "markdown",
   "metadata": {},
   "source": [
    "## Custom modules"
   ]
  },
  {
   "cell_type": "code",
   "execution_count": null,
   "metadata": {},
   "outputs": [],
   "source": [
    "sys.path.append(os.path.join(os.environ['GMTSAR'],'gmtsar', 'py'))\n",
    "\n",
    "from intf_ra2ll import intf_ra2ll_matrix, intf_ra2ll\n",
    "from trans_ra2ll import trans_ra2ll_matrix\n",
    "from PRM import PRM\n",
    "from SBAS import SBAS"
   ]
  },
  {
   "cell_type": "markdown",
   "metadata": {},
   "source": [
    "## Helper functions"
   ]
  },
  {
   "cell_type": "code",
   "execution_count": null,
   "metadata": {},
   "outputs": [],
   "source": [
    "gstiles = hv.Tiles('https://mt1.google.com/vt/lyrs=s&x={X}&y={Y}&z={Z}', name='Google Satellite')\n",
    "ottiles = hv.Tiles('https://tile.opentopomap.org/{Z}/{X}/{Y}.png', name='Open Topo')"
   ]
  },
  {
   "cell_type": "code",
   "execution_count": null,
   "metadata": {},
   "outputs": [],
   "source": [
    "# stack by directory name for xr.open_mfdataset\n",
    "def preprocess_dirname(ds):\n",
    "    stack = ds.encoding[\"source\"].split('/')[-2]\n",
    "    return ds.assign(stack=stack)\n",
    "\n",
    "def open_grids_stack(filenames):\n",
    "    return xr.open_mfdataset(filenames, concat_dim='stack',combine='nested',\n",
    "                               parallel=True, preprocess=preprocess_dirname)['z']"
   ]
  },
  {
   "cell_type": "markdown",
   "metadata": {},
   "source": [
    "## Define parameters"
   ]
  },
  {
   "cell_type": "code",
   "execution_count": null,
   "metadata": {},
   "outputs": [],
   "source": [
    "MASTER       = '2015-04-03'\n",
    "WORKDIR      = 'raw'\n",
    "DATADIR      = 'raw_orig'\n",
    "DEMFILE      = 'topo/dem.grd'\n",
    "#BASEDAYS     = 75\n",
    "#BASEMETERS   = 75\n",
    "CORRLIMIT    = 0.10\n",
    "DEFOMAX      = 0"
   ]
  },
  {
   "cell_type": "markdown",
   "metadata": {},
   "source": [
    "## Init SBAS"
   ]
  },
  {
   "cell_type": "code",
   "execution_count": null,
   "metadata": {},
   "outputs": [],
   "source": [
    "sbas = SBAS(DATADIR, DEMFILE, WORKDIR).set_master(MASTER)\n",
    "sbas.to_dataframe()"
   ]
  },
  {
   "cell_type": "code",
   "execution_count": null,
   "metadata": {},
   "outputs": [],
   "source": [
    "title = 'Sentinel1 Frame on DEM plus GCP'\n",
    "#https://holoviz.org/tutorial/Composing_Plots.html\n",
    "sbas.get_dem()[::4,::4].load().hvplot(invert=True, cmap='kbc', alpha=1, title=title) * \\\n",
    "    sbas.geoloc().plot.scatter(y='longitude', x='latitude', c='pixel', cmap='jet')"
   ]
  },
  {
   "cell_type": "code",
   "execution_count": null,
   "metadata": {},
   "outputs": [],
   "source": [
    "title = 'Sentinel1 Frame DEM cropped using GCP'\n",
    "#https://holoviz.org/tutorial/Composing_Plots.html\n",
    "sbas.get_dem(geoloc=True).load()[::4,::4].hvplot(invert=True, cmap='kbc', alpha=1, title=title) * \\\n",
    "    sbas.geoloc().plot.scatter(y='longitude', x='latitude', c='pixel', cmap='jet')"
   ]
  },
  {
   "cell_type": "markdown",
   "metadata": {},
   "source": [
    "## Stack Images (for a single subswath only)"
   ]
  },
  {
   "cell_type": "code",
   "execution_count": null,
   "metadata": {},
   "outputs": [],
   "source": [
    "sbas.stack_parallel()"
   ]
  },
  {
   "cell_type": "markdown",
   "metadata": {},
   "source": [
    "## TODO: Baseline Table"
   ]
  },
  {
   "cell_type": "raw",
   "metadata": {},
   "source": [
    "!rm -f raw/baseline_table.dat raw/table.gmt\n",
    "for prm_aligned in glob.glob('raw/*ALL*PRM'):\n",
    "    print (os.path.basename(prm_aligned))\n",
    "    !echo baseline_table.csh {mmaster}.PRM {os.path.basename(prm_aligned)}\n",
    "    !cd raw && baseline_table.csh {mmaster}.PRM {os.path.basename(prm_aligned)} >> baseline_table.dat\n",
    "    #!cd raw && baseline_table.csh {mmaster}.PRM {os.path.basename(prm)} GMT >> table.gmt"
   ]
  },
  {
   "cell_type": "raw",
   "metadata": {},
   "source": [
    "#!cat raw/baseline_table.dat"
   ]
  },
  {
   "cell_type": "markdown",
   "metadata": {},
   "source": [
    "## TODO: SBAS Baseline"
   ]
  },
  {
   "cell_type": "raw",
   "metadata": {},
   "source": [
    "# 100 days, 150 m\n",
    "!cd raw && select_pairs.csh baseline_table.dat 100 150"
   ]
  },
  {
   "cell_type": "raw",
   "metadata": {},
   "source": [
    "!cd raw && ps2pdf baseline.ps baseline.pdf\n",
    "with WImage(filename='./raw/baseline.pdf', resolution=150) as image:\n",
    "    display(image)"
   ]
  },
  {
   "cell_type": "markdown",
   "metadata": {},
   "source": [
    "## DEM in Radar Coordinates"
   ]
  },
  {
   "cell_type": "code",
   "execution_count": null,
   "metadata": {},
   "outputs": [],
   "source": [
    "%%time\n",
    "\n",
    "sbas.topo_ra()"
   ]
  },
  {
   "cell_type": "code",
   "execution_count": null,
   "metadata": {},
   "outputs": [],
   "source": [
    "xr.open_dataarray(f'{WORKDIR}/topo_ra.grd').load().hvplot(cmap='kbc', title='Topo_ra', **plot_opts)"
   ]
  },
  {
   "cell_type": "markdown",
   "metadata": {},
   "source": [
    "## Interferograms"
   ]
  },
  {
   "cell_type": "code",
   "execution_count": null,
   "metadata": {},
   "outputs": [],
   "source": [
    "%%time\n",
    "\n",
    "# we are able to define a postprocessing function for decimation, etc.\n",
    "decimator = lambda dataarray: dataarray.coarsen({'y': 4, 'x': 4}, boundary='trim').median()\n",
    "\n",
    "# default parameters: wavelength=200, psize=32, func=None (no postprocessing required)\n",
    "sbas.intf_parallel([['2015-01-21', '2015-03-10']], wavelength=400, func=decimator)"
   ]
  },
  {
   "cell_type": "markdown",
   "metadata": {},
   "source": [
    "## Plot results"
   ]
  },
  {
   "cell_type": "code",
   "execution_count": null,
   "metadata": {},
   "outputs": [],
   "source": [
    "basename = f'{WORKDIR}/20150121_20150310_'"
   ]
  },
  {
   "cell_type": "code",
   "execution_count": null,
   "metadata": {},
   "outputs": [],
   "source": [
    "corr = xr.open_dataarray(basename + 'corr.grd').load()\n",
    "corr.hvplot(cmap='gray', clim=(0,0.8),  title='Correlation', **plot_opts)"
   ]
  },
  {
   "cell_type": "code",
   "execution_count": null,
   "metadata": {},
   "outputs": [],
   "source": [
    "ticks = np.linspace(-np.pi, np.pi, 5).round(2)\n",
    "color_ticks = FixedTicker(ticks=ticks)\n",
    "xr.open_dataarray(basename + 'phase.grd').load()\\\n",
    "    .hvplot(clim=(-np.pi,np.pi), cmap='gist_rainbow_r', title='Phase [rad]', **plot_opts) + \\\n",
    "xr.open_dataarray(basename + 'phasefilt.grd').load()\\\n",
    "    .hvplot(clim=(-np.pi,np.pi), cmap='gist_rainbow_r', title='Phasefilt [rad]', **plot_opts)"
   ]
  },
  {
   "cell_type": "markdown",
   "metadata": {},
   "source": [
    "## Unwrapping"
   ]
  },
  {
   "cell_type": "code",
   "execution_count": null,
   "metadata": {},
   "outputs": [],
   "source": [
    "# we can generate and use a custom snaphu config file:\n",
    "# conf = self.PRM().snaphu_config(defomax=0)\n",
    "# we can use sbas.unwrap for a not parallel processing\n",
    "sbas.unwrap_parallel([['2015-01-21', '2015-03-10']], threshold=CORRLIMIT)"
   ]
  },
  {
   "cell_type": "code",
   "execution_count": null,
   "metadata": {},
   "outputs": [],
   "source": [
    "unwrap = xr.open_dataarray(basename + 'unwrap.grd').load()\n",
    "unwrap.hvplot(cmap='jet', clim=tuple(np.nanquantile(unwrap, [0.01, 0.99])), title='Unwrap', **plot_opts)"
   ]
  },
  {
   "cell_type": "markdown",
   "metadata": {},
   "source": [
    "## Bonus: Mask and interpolate low-coherence areas"
   ]
  },
  {
   "cell_type": "code",
   "execution_count": null,
   "metadata": {},
   "outputs": [],
   "source": [
    "unwrap_masked = xr.where(corr<CORRLIMIT, np.nan, unwrap)\n",
    "unwrap_masked_interp = sbas.nearest_grid(unwrap_masked)\n",
    "\n",
    "unwrap_masked.to_netcdf(basename + 'unwrap_masked.nc')\n",
    "unwrap_masked_interp.to_netcdf(basename + 'unwrap_masked_interp.nc')\n",
    "\n",
    "unwrap_masked.hvplot(cmap='jet', clim=tuple(np.nanquantile(unwrap_masked, [0.01, 0.99])), title='Unwrap Masked', **plot_opts) + \\\n",
    "unwrap_masked_interp.hvplot(cmap='jet', clim=tuple(np.nanquantile(unwrap_masked_interp, [0.01, 0.99])), title='Unwrap Masked Interpolated', **plot_opts)"
   ]
  }
 ],
 "metadata": {
  "kernelspec": {
   "display_name": "Python 3",
   "language": "python",
   "name": "python3"
  },
  "language_info": {
   "codemirror_mode": {
    "name": "ipython",
    "version": 3
   },
   "file_extension": ".py",
   "mimetype": "text/x-python",
   "name": "python",
   "nbconvert_exporter": "python",
   "pygments_lexer": "ipython3",
   "version": "3.9.7"
  }
 },
 "nbformat": 4,
 "nbformat_minor": 4
}
