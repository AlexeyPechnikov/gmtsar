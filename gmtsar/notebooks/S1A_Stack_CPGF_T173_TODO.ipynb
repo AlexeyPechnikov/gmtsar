{
 "cells": [
  {
   "cell_type": "markdown",
   "metadata": {},
   "source": [
    "# PyGMTSAR Python Notebook for example S1A_Stack_CPGF_T173\n",
    "\n",
    "Tested on MacOS Catalina (Python 3.9) and Debian 10 (Python 3.7)"
   ]
  },
  {
   "cell_type": "markdown",
   "metadata": {},
   "source": [
    "### I'm a freelancer and that's my free time Open Source project with GPL-3.0 License. If you find it useful you are able to sponsor my projects <a href=\"https://www.patreon.com/bePatron?u=54500608\" data-patreon-widget-type=\"become-patron-button\">Become a Patron!</a><script async src=\"https://c6.patreon.com/becomePatronButton.bundle.js\"></script> or order additional research, development and support on <a href=\"https://www.upwork.com/freelancers/~01e65e8e7221758623\">Upwork</a>\n",
    "\n",
    "## @ Alexey Pechnikov, Sep, 2021, https://github.com/mobigroup"
   ]
  },
  {
   "cell_type": "markdown",
   "metadata": {},
   "source": [
    "## Download and unpack the example, create processing directory"
   ]
  },
  {
   "cell_type": "raw",
   "metadata": {},
   "source": [
    "!wget -c http://topex.ucsd.edu/gmtsar/tar/S1A_Stack_CPGF_T173.tar.gz\n",
    "!tar xvzf S1A_Stack_CPGF_T173.tar.gz -C .\n",
    "!mkdir raw"
   ]
  },
  {
   "cell_type": "raw",
   "metadata": {},
   "source": [
    "#!/bin/sh\n",
    "# GMTSAR command-line processing script for the example\n",
    "# use it to produce reference results when you need to compare outputs\n",
    "# ~30 minutes processing on 4 core 16GB RAM server\n",
    "\n",
    "./README_prep.txt 2>&1 | tee README_prep.txt.log\n",
    "./README_proc.txt 2>&1 | tee README_proc.txt.log\n",
    "./README_sbas.txt 2>&1 | tee README_sbas.txt.log\n",
    "\n",
    "# build unwrap images grid\n",
    "cd intf_all\n",
    "cmd=\"montage\"\n",
    "for fname in ???????_???????/unwrap.pdf\n",
    "do\n",
    "    name=$(dirname \"${fname}\")\n",
    "    name=$(basename \"${name}\")\n",
    "    cmd=\"${cmd} -label ${name} ${fname}\"\n",
    "done\n",
    "cmd=\"${cmd} -pointsize 3 -geometry 400x400>+4+3 -density 600 -quality 100 unwrap_grid.pdf\"\n",
    "$cmd\n",
    "cd .."
   ]
  },
  {
   "cell_type": "code",
   "execution_count": null,
   "metadata": {},
   "outputs": [],
   "source": [
    "import sys\n",
    "import os"
   ]
  },
  {
   "cell_type": "raw",
   "metadata": {},
   "source": [
    "!{sys.executable} -m pip install \\\n",
    "    scikit-image sklearn xarray pandas dask distributed geoviews hvplot bokeh wand \\\n",
    "    xmltodict joblib tqdm --upgrade"
   ]
  },
  {
   "cell_type": "code",
   "execution_count": null,
   "metadata": {},
   "outputs": [],
   "source": [
    "import xarray as xr\n",
    "import numpy as np\n",
    "import dask\n",
    "#from dask.diagnostics import ProgressBar\n",
    "import pandas as pd\n",
    "# supress numpy warnings\n",
    "import warnings\n",
    "warnings.filterwarnings('ignore')\n",
    "import glob\n",
    "from io import StringIO\n",
    "import xmltodict"
   ]
  },
  {
   "cell_type": "code",
   "execution_count": null,
   "metadata": {},
   "outputs": [],
   "source": [
    "# to show PDF\n",
    "from wand.image import Image as WImage\n",
    "# plotting modules\n",
    "import hvplot.xarray  # noqa\n",
    "import holoviews as hv\n",
    "from holoviews import opts\n",
    "from bokeh.models import FixedTicker\n",
    "hv.extension('bokeh', 'matplotlib')\n",
    "pd.options.plotting.backend = 'holoviews'\n",
    "\n",
    "gstiles = hv.Tiles('https://mt1.google.com/vt/lyrs=s&x={X}&y={Y}&z={Z}', name='Google Satellite')\n",
    "ottiles = hv.Tiles('https://tile.opentopomap.org/{Z}/{X}/{Y}.png', name='Open Topo')"
   ]
  },
  {
   "cell_type": "code",
   "execution_count": null,
   "metadata": {},
   "outputs": [],
   "source": [
    "# define Pandas display settings\n",
    "pd.set_option('display.max_rows', 50)\n",
    "pd.set_option('display.max_columns', None)\n",
    "pd.set_option('display.width', None)\n",
    "pd.set_option('display.max_colwidth', None)\n",
    "\n",
    "# define common plot parameters\n",
    "plot_opts = {'rasterize': True, 'xlabel':'Range', 'ylabel':'Azimuth', 'width':500, 'height':400}"
   ]
  },
  {
   "cell_type": "markdown",
   "metadata": {},
   "source": [
    "## Custom modules"
   ]
  },
  {
   "cell_type": "code",
   "execution_count": null,
   "metadata": {},
   "outputs": [],
   "source": [
    "sys.path.append(os.path.join(os.environ['GMTSAR'],'gmtsar', 'py'))\n",
    "\n",
    "from intf_ra2ll import intf_ra2ll_matrix, intf_ra2ll\n",
    "from trans_ra2ll import trans_ra2ll_matrix\n",
    "from PRM import PRM\n",
    "from SBAS import SBAS"
   ]
  },
  {
   "cell_type": "markdown",
   "metadata": {},
   "source": [
    "## Helper functions"
   ]
  },
  {
   "cell_type": "code",
   "execution_count": null,
   "metadata": {},
   "outputs": [],
   "source": [
    "# stack by filepath for xr.open_mfdataset\n",
    "def preprocess_dirname(ds):\n",
    "    dates = ds.encoding[\"source\"].split('/')[-1][:17].replace('_', ' ')\n",
    "    #print (ds.encoding[\"source\"], '->', stack)\n",
    "    return ds.assign(date=dates)\n",
    "\n",
    "def open_grids_stack(basedir, name):\n",
    "    filenames = f'{basedir}/*{name}.grd'\n",
    "    ds = xr.open_mfdataset(filenames, concat_dim='date', combine='nested',\n",
    "                             preprocess=preprocess_dirname)['z']\n",
    "    return ds"
   ]
  },
  {
   "cell_type": "markdown",
   "metadata": {},
   "source": [
    "## Define parameters"
   ]
  },
  {
   "cell_type": "code",
   "execution_count": null,
   "metadata": {},
   "outputs": [],
   "source": [
    "MASTER       = '2015-04-03'\n",
    "WORKDIR      = 'raw'\n",
    "DATADIR      = 'raw_orig'\n",
    "DEMFILE      = 'topo/dem.grd'\n",
    "#BASEDAYS     = 75\n",
    "#BASEMETERS   = 75\n",
    "CORRLIMIT    = 0.10\n",
    "DEFOMAX      = 0"
   ]
  },
  {
   "cell_type": "markdown",
   "metadata": {},
   "source": [
    "## Init SBAS"
   ]
  },
  {
   "cell_type": "code",
   "execution_count": null,
   "metadata": {},
   "outputs": [],
   "source": [
    "sbas = SBAS(DATADIR, DEMFILE, WORKDIR).set_master(MASTER)\n",
    "sbas.to_dataframe()"
   ]
  },
  {
   "cell_type": "code",
   "execution_count": null,
   "metadata": {},
   "outputs": [],
   "source": [
    "title = 'Sentinel1 Frame on DEM plus GCP'\n",
    "#https://holoviz.org/tutorial/Composing_Plots.html\n",
    "sbas.get_dem()[::4,::4].hvplot(invert=True, cmap='kbc', alpha=1, title=title) * \\\n",
    "    sbas.geoloc().plot.scatter(y='longitude', x='latitude', c='pixel', cmap='jet')"
   ]
  },
  {
   "cell_type": "code",
   "execution_count": null,
   "metadata": {},
   "outputs": [],
   "source": [
    "title = 'Sentinel1 Frame DEM cropped using GCP'\n",
    "#https://holoviz.org/tutorial/Composing_Plots.html\n",
    "sbas.get_dem(geoloc=True)[::4,::4].hvplot(invert=True, cmap='kbc', alpha=1, title=title) * \\\n",
    "    sbas.geoloc().plot.scatter(y='longitude', x='latitude', c='pixel', cmap='jet')"
   ]
  },
  {
   "cell_type": "markdown",
   "metadata": {},
   "source": [
    "## Stack Images (for a single subswath only)"
   ]
  },
  {
   "cell_type": "code",
   "execution_count": null,
   "metadata": {},
   "outputs": [],
   "source": [
    "sbas.stack_parallel()"
   ]
  },
  {
   "cell_type": "markdown",
   "metadata": {},
   "source": [
    "## SBAS Baseline"
   ]
  },
  {
   "cell_type": "code",
   "execution_count": null,
   "metadata": {},
   "outputs": [],
   "source": [
    "baseline_pairs = sbas.baseline_pairs(days=100, meters=150)\n",
    "baseline_pairs"
   ]
  },
  {
   "cell_type": "raw",
   "metadata": {},
   "source": [
    "!cd raw && ps2pdf baseline.ps baseline.pdf\n",
    "with WImage(filename='./raw/baseline.pdf', resolution=150) as image:\n",
    "    display(image)"
   ]
  },
  {
   "cell_type": "markdown",
   "metadata": {},
   "source": [
    "## DEM in Radar Coordinates"
   ]
  },
  {
   "cell_type": "code",
   "execution_count": null,
   "metadata": {},
   "outputs": [],
   "source": [
    "%%time\n",
    "\n",
    "sbas.topo_ra()"
   ]
  },
  {
   "cell_type": "code",
   "execution_count": null,
   "metadata": {},
   "outputs": [],
   "source": [
    "xr.open_dataarray(f'{WORKDIR}/topo_ra.grd').hvplot(cmap='kbc', title='Topo_ra', **plot_opts)"
   ]
  },
  {
   "cell_type": "markdown",
   "metadata": {},
   "source": [
    "## Interferograms"
   ]
  },
  {
   "cell_type": "code",
   "execution_count": null,
   "metadata": {},
   "outputs": [],
   "source": [
    "pairs = baseline_pairs[['ref_date', 'rep_date']]\n",
    "pairs"
   ]
  },
  {
   "cell_type": "code",
   "execution_count": null,
   "metadata": {},
   "outputs": [],
   "source": [
    "# we can just miss \"func\" argument when post-processing is not required\n",
    "# define a postprocessing function for decimation, etc.\n",
    "decimator = lambda dataarray: dataarray.coarsen({'y': 4, 'x': 4}, boundary='trim').median()\n",
    "\n",
    "# default parameters: wavelength=200, psize=32, func=None (no postprocessing required)\n",
    "sbas.intf_parallel(pairs, wavelength=400, func=decimator)"
   ]
  },
  {
   "cell_type": "code",
   "execution_count": null,
   "metadata": {},
   "outputs": [],
   "source": [
    "phasefilts = open_grids_stack(WORKDIR, 'phasefilt')\n",
    "phasefilts\\\n",
    "    .hvplot(by='date', width=320, height=280, subplots=True,\n",
    "            xlabel='Range', ylabel='Azimuth',\n",
    "            clim=(-np.pi,np.pi), cmap='gist_rainbow_r')\\\n",
    "    .cols(3).opts(title='Filtered Phase, [rad]')"
   ]
  },
  {
   "cell_type": "code",
   "execution_count": null,
   "metadata": {},
   "outputs": [],
   "source": [
    "corrs = open_grids_stack(WORKDIR, 'corr')\n",
    "corrs\\\n",
    "    .hvplot(by='date', width=320, height=280, subplots=True,\n",
    "            xlabel='Range', ylabel='Azimuth',\n",
    "            clim=(0, 0.8), cmap='gray')\\\n",
    "    .cols(3).opts(title='Correlation')"
   ]
  },
  {
   "cell_type": "markdown",
   "metadata": {},
   "source": [
    "## Unwrapping"
   ]
  },
  {
   "cell_type": "code",
   "execution_count": null,
   "metadata": {},
   "outputs": [],
   "source": [
    "pairs"
   ]
  },
  {
   "cell_type": "code",
   "execution_count": null,
   "metadata": {},
   "outputs": [],
   "source": [
    "# generate a custom snaphu config file and use it as argument \"conf\" value\n",
    "# conf = self.PRM().snaphu_config(defomax=0)\n",
    "\n",
    "# we can just miss \"func\" argument when post-processing is not required\n",
    "# define a post-processing function to crop and interpolate low-coherence areas, etc.\n",
    "#cleaner = lambda corr, unwrap: xr.where(corr>=CORRLIMIT, unwrap, np.nan)\n",
    "cleaner = lambda corr, unwrap: sbas.nearest_grid(xr.where(corr>=CORRLIMIT, unwrap, np.nan))\n",
    "\n",
    "# default parameters: threshold=0.1, conf=None, func=None (no postprocessing required)\n",
    "sbas.unwrap_parallel(pairs, threshold=CORRLIMIT, func=cleaner)"
   ]
  },
  {
   "cell_type": "code",
   "execution_count": null,
   "metadata": {},
   "outputs": [],
   "source": [
    "unwraps = open_grids_stack(WORKDIR, 'unwrap')\n",
    "unwraps\\\n",
    "    .hvplot(by='date', width=320, height=280, subplots=True, cmap='jet',\n",
    "            xlabel='Range', ylabel='Azimuth',\n",
    "            clim=tuple(np.nanquantile(unwraps, [0.01, 0.99])))\\\n",
    "    .cols(3).opts(title='Unwrapped Phase, [rad]')"
   ]
  },
  {
   "cell_type": "markdown",
   "metadata": {},
   "source": [
    "## Bonus: Inverted Interferograms\n",
    "\n",
    "We are able to build reverse-ordered interferograms by a simple hand move"
   ]
  },
  {
   "cell_type": "code",
   "execution_count": null,
   "metadata": {},
   "outputs": [],
   "source": [
    "pairs_inverted = baseline_pairs[['rep_date', 'ref_date']]\n",
    "pairs_inverted"
   ]
  },
  {
   "cell_type": "code",
   "execution_count": null,
   "metadata": {},
   "outputs": [],
   "source": [
    "#sbas.intf_parallel(pairs_inverted, wavelength=400, func=decimator)"
   ]
  }
 ],
 "metadata": {
  "kernelspec": {
   "display_name": "Python 3",
   "language": "python",
   "name": "python3"
  },
  "language_info": {
   "codemirror_mode": {
    "name": "ipython",
    "version": 3
   },
   "file_extension": ".py",
   "mimetype": "text/x-python",
   "name": "python",
   "nbconvert_exporter": "python",
   "pygments_lexer": "ipython3",
   "version": "3.9.7"
  }
 },
 "nbformat": 4,
 "nbformat_minor": 4
}
