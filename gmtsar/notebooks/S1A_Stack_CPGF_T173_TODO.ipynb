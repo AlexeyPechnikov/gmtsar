{
 "cells": [
  {
   "cell_type": "markdown",
   "metadata": {},
   "source": [
    "# PyGMTSAR Python Notebook S1A_Stack_CPGF_T173\n",
    "\n",
    "### Tested on MacOS Catalina (Python 3.9) and Debian 10 (Python 3.7)\n",
    "### Use the provided init script for Google Cloud Jupyter Notebook on Debian 10:\n",
    "https://github.com/mobigroup/gmtsar/blob/master/gmtsar/sh/GMTSAR.install.debian10.sh"
   ]
  },
  {
   "cell_type": "markdown",
   "metadata": {},
   "source": [
    "### I'm a freelancer and that's my free time Open Source project with GPL-3.0 License. If you find it useful you are able to sponsor my projects <a href=\"https://www.patreon.com/bePatron?u=54500608\" data-patreon-widget-type=\"become-patron-button\">Become a Patron!</a><script async src=\"https://c6.patreon.com/becomePatronButton.bundle.js\"></script> or order additional research, development and support on <a href=\"https://www.upwork.com/freelancers/~01e65e8e7221758623\">Upwork</a>\n",
    "\n",
    "### @ Alexey Pechnikov, Sep, 2021, https://github.com/mobigroup"
   ]
  },
  {
   "cell_type": "markdown",
   "metadata": {},
   "source": [
    "## Check for GMTSAR installation\n",
    "\n",
    "#### Just wait 10-30 minutes and restart the notebook if cloud installation is not ready"
   ]
  },
  {
   "cell_type": "code",
   "execution_count": null,
   "metadata": {},
   "outputs": [],
   "source": [
    "count = !ls /usr/local | grep GMTSAR | wc -l\n",
    "assert count != ['0'], \\\n",
    "    'Please wait until your init script complete on a cloud host or install GMTSAR manually on local host'"
   ]
  },
  {
   "cell_type": "markdown",
   "metadata": {},
   "source": [
    "## Download and unpack the example, create processing directory"
   ]
  },
  {
   "cell_type": "code",
   "execution_count": null,
   "metadata": {},
   "outputs": [],
   "source": [
    "count = !ls | grep S1A_Stack_CPGF_T173.tar.gz | wc -l\n",
    "if count == ['0']:\n",
    "    print ('Downloading the example...')\n",
    "    !wget -c http://topex.ucsd.edu/gmtsar/tar/S1A_Stack_CPGF_T173.tar.gz\n",
    "    !tar xvzf S1A_Stack_CPGF_T173.tar.gz -C .\n",
    "\n",
    "# recreate work directory\n",
    "!rm -rf raw\n",
    "!mkdir -p raw"
   ]
  },
  {
   "cell_type": "markdown",
   "metadata": {},
   "source": [
    "## Define ENV Variables for Jupyter Instance"
   ]
  },
  {
   "cell_type": "code",
   "execution_count": null,
   "metadata": {},
   "outputs": [],
   "source": [
    "import os\n",
    "\n",
    "# use default GMTSAR installation path\n",
    "GMTSAR = '/usr/local/GMTSAR'\n",
    "PATH = os.environ['PATH']\n",
    "\n",
    "if PATH.find('GMTSAR') == -1:\n",
    "    PATH = os.environ['PATH'] + f':{GMTSAR}/bin/'\n",
    "    %env PATH {PATH}\n",
    "    %env GMTSAR {GMTSAR}"
   ]
  },
  {
   "cell_type": "markdown",
   "metadata": {},
   "source": [
    "## Install Python Modules"
   ]
  },
  {
   "cell_type": "code",
   "execution_count": null,
   "metadata": {},
   "outputs": [],
   "source": [
    "import sys\n",
    "!{sys.executable} --version"
   ]
  },
  {
   "cell_type": "code",
   "execution_count": null,
   "metadata": {},
   "outputs": [],
   "source": [
    "!{sys.executable} -m pip install --upgrade pip setuptools wheel > /dev/null\n",
    "!{sys.executable} -m pip install cartopy==0.19.0.post1 > /dev/null"
   ]
  },
  {
   "cell_type": "code",
   "execution_count": null,
   "metadata": {},
   "outputs": [],
   "source": [
    "!{sys.executable} -m pip install \\\n",
    "    h5py netcdf4 h5netcdf \\\n",
    "    rasterio rioxarray xarray numpy \\\n",
    "    scikit-image scipy sklearn \\\n",
    "    xarray dask distributed zarr \\\n",
    "    pandas geopandas \\\n",
    "    sentineleof elevation \\\n",
    "    matplotlib seaborn geoviews hvplot datashader bokeh \\\n",
    "    xmltodict joblib tqdm 2>&1 > /dev/null"
   ]
  },
  {
   "cell_type": "markdown",
   "metadata": {},
   "source": [
    "## Load and Setup Python Modules"
   ]
  },
  {
   "cell_type": "code",
   "execution_count": null,
   "metadata": {},
   "outputs": [],
   "source": [
    "import xarray as xr\n",
    "import numpy as np\n",
    "import pandas as pd\n",
    "# supress numpy warnings\n",
    "import warnings\n",
    "warnings.filterwarnings('ignore')"
   ]
  },
  {
   "cell_type": "code",
   "execution_count": null,
   "metadata": {},
   "outputs": [],
   "source": [
    "# plotting modules\n",
    "import hvplot.xarray  # noqa\n",
    "import hvplot.pandas  # noqa\n",
    "import holoviews as hv\n",
    "from holoviews import opts\n",
    "from bokeh.models import FixedTicker\n",
    "hv.extension('bokeh', 'matplotlib')\n",
    "#pd.options.plotting.backend = 'holoviews'\n",
    "pd.options.plotting.backend = 'hvplot'\n",
    "%pylab inline"
   ]
  },
  {
   "cell_type": "code",
   "execution_count": null,
   "metadata": {},
   "outputs": [],
   "source": [
    "# define Pandas display settings\n",
    "pd.set_option('display.max_rows', 50)\n",
    "pd.set_option('display.max_columns', None)\n",
    "pd.set_option('display.width', None)\n",
    "pd.set_option('display.max_colwidth', None)\n",
    "\n",
    "gstiles = hv.Tiles('https://mt1.google.com/vt/lyrs=s&x={X}&y={Y}&z={Z}', name='Google Satellite')\n",
    "ottiles = hv.Tiles('https://tile.opentopomap.org/{Z}/{X}/{Y}.png', name='Open Topo')"
   ]
  },
  {
   "cell_type": "markdown",
   "metadata": {},
   "source": [
    "## Load Custom Python Modules"
   ]
  },
  {
   "cell_type": "code",
   "execution_count": null,
   "metadata": {},
   "outputs": [],
   "source": [
    "sys.path.append(os.path.join(os.environ['GMTSAR'],'gmtsar', 'py'))\n",
    "\n",
    "from PRM import PRM\n",
    "from SBAS import SBAS"
   ]
  },
  {
   "cell_type": "markdown",
   "metadata": {},
   "source": [
    "## Define Parameters"
   ]
  },
  {
   "cell_type": "code",
   "execution_count": null,
   "metadata": {},
   "outputs": [],
   "source": [
    "MASTER       = '2015-04-03'\n",
    "WORKDIR      = 'raw'\n",
    "DATADIR      = 'raw_orig'\n",
    "DEMFILE      = 'topo/dem.grd'\n",
    "BASEDAYS     = 100\n",
    "BASEMETERS   = 150\n",
    "CORRLIMIT    = 0.10\n",
    "DEFOMAX      = 0"
   ]
  },
  {
   "cell_type": "markdown",
   "metadata": {},
   "source": [
    "## Init SBAS"
   ]
  },
  {
   "cell_type": "code",
   "execution_count": null,
   "metadata": {},
   "outputs": [],
   "source": [
    "sbas = SBAS(DATADIR, DEMFILE, WORKDIR).set_master(MASTER)\n",
    "sbas.to_dataframe()"
   ]
  },
  {
   "cell_type": "markdown",
   "metadata": {},
   "source": [
    "### Show Static Plots"
   ]
  },
  {
   "cell_type": "code",
   "execution_count": null,
   "metadata": {},
   "outputs": [],
   "source": [
    "plt.figure(figsize=(12,4))\n",
    "sbas.get_dem()[::4,::4].plot.imshow(cmap='Blues_r', vmin=0)\n",
    "plt.scatter(sbas.geoloc()['longitude'], sbas.geoloc()['latitude'], c=sbas.geoloc()['pixel'], cmap='jet')\n",
    "plt.title('Sentinel1 Frame on DEM plus GCP', fontsize=20)\n",
    "plt.show()"
   ]
  },
  {
   "cell_type": "code",
   "execution_count": null,
   "metadata": {},
   "outputs": [],
   "source": [
    "plt.figure(figsize=(12,4))\n",
    "sbas.get_dem(geoloc=True)[::4,::4].plot.imshow(cmap='Blues_r', vmin=0)\n",
    "plt.scatter(sbas.geoloc()['longitude'], sbas.geoloc()['latitude'], c=sbas.geoloc()['pixel'], cmap='jet')\n",
    "plt.title('Sentinel1 Frame DEM cropped using GCP', fontsize=20)\n",
    "plt.show()"
   ]
  },
  {
   "cell_type": "markdown",
   "metadata": {},
   "source": [
    "### Show Interactive Plots\n",
    "\n",
    "#### Be careful because these plots require more RAM to be visualized"
   ]
  },
  {
   "cell_type": "raw",
   "metadata": {},
   "source": [
    "title = 'Sentinel1 Frame on DEM plus GCP'\n",
    "#https://holoviz.org/tutorial/Composing_Plots.html\n",
    "sbas.get_dem()[::4,::4].hvplot(invert=True, cmap='kbc', alpha=1, title=title) * \\\n",
    "    sbas.geoloc().plot.scatter(y='longitude', x='latitude', c='pixel', cmap='jet')"
   ]
  },
  {
   "cell_type": "raw",
   "metadata": {},
   "source": [
    "title = 'Sentinel1 Frame DEM cropped using GCP'\n",
    "#https://holoviz.org/tutorial/Composing_Plots.html\n",
    "sbas.get_dem(geoloc=True)[::4,::4].hvplot(invert=True, cmap='kbc', alpha=1, title=title) * \\\n",
    "    sbas.geoloc().plot.scatter(y='longitude', x='latitude', c='pixel', cmap='jet')"
   ]
  },
  {
   "cell_type": "markdown",
   "metadata": {},
   "source": [
    "## Stack Images (for a single subswath only)"
   ]
  },
  {
   "cell_type": "code",
   "execution_count": null,
   "metadata": {},
   "outputs": [],
   "source": [
    "sbas.stack_parallel()"
   ]
  },
  {
   "cell_type": "markdown",
   "metadata": {},
   "source": [
    "## SBAS Baseline"
   ]
  },
  {
   "cell_type": "code",
   "execution_count": null,
   "metadata": {},
   "outputs": [],
   "source": [
    "baseline_pairs = sbas.baseline_pairs(days=BASEDAYS, meters=BASEMETERS)\n",
    "baseline_pairs"
   ]
  },
  {
   "cell_type": "markdown",
   "metadata": {},
   "source": [
    "### TODO: Show Plot"
   ]
  },
  {
   "cell_type": "raw",
   "metadata": {},
   "source": [
    "!cd raw && ps2pdf baseline.ps baseline.pdf\n",
    "with WImage(filename='./raw/baseline.pdf', resolution=150) as image:\n",
    "    display(image)"
   ]
  },
  {
   "cell_type": "markdown",
   "metadata": {},
   "source": [
    "## DEM in Radar Coordinates"
   ]
  },
  {
   "cell_type": "code",
   "execution_count": null,
   "metadata": {},
   "outputs": [],
   "source": [
    "%%time\n",
    "\n",
    "sbas.topo_ra()"
   ]
  },
  {
   "cell_type": "markdown",
   "metadata": {},
   "source": [
    "### Load Grids"
   ]
  },
  {
   "cell_type": "code",
   "execution_count": null,
   "metadata": {},
   "outputs": [],
   "source": [
    "topo_ra = xr.open_dataarray(f'{WORKDIR}/topo_ra.grd')"
   ]
  },
  {
   "cell_type": "markdown",
   "metadata": {},
   "source": [
    "### Show Static Plot"
   ]
  },
  {
   "cell_type": "code",
   "execution_count": null,
   "metadata": {},
   "outputs": [],
   "source": [
    "plt.figure(figsize=(8,6))\n",
    "topo_ra[::4,::4].plot.imshow(cmap='Blues_r', vmin=0)\n",
    "plt.title('Topography in Radar Coordinates', fontsize=20)\n",
    "plt.show()"
   ]
  },
  {
   "cell_type": "markdown",
   "metadata": {},
   "source": [
    "### Show Interactive Plots\n",
    "\n",
    "#### Be careful because these plots require more RAM to be visualized"
   ]
  },
  {
   "cell_type": "raw",
   "metadata": {},
   "source": [
    "plot_opts = {'rasterize': True, 'xlabel':'Range', 'ylabel':'Azimuth', 'width':500, 'height':400}\n",
    "topo_ra[::4,::4].hvplot(cmap='kbc', title='Topography in Radar Coordinates', **plot_opts)"
   ]
  },
  {
   "cell_type": "markdown",
   "metadata": {},
   "source": [
    "## Interferograms"
   ]
  },
  {
   "cell_type": "code",
   "execution_count": null,
   "metadata": {},
   "outputs": [],
   "source": [
    "pairs = baseline_pairs[['ref_date', 'rep_date']]\n",
    "pairs"
   ]
  },
  {
   "cell_type": "code",
   "execution_count": null,
   "metadata": {},
   "outputs": [],
   "source": [
    "# we can just miss \"func\" argument when post-processing is not required\n",
    "# define a postprocessing function for decimation, etc.\n",
    "decimator = lambda dataarray: dataarray.coarsen({'y': 4, 'x': 4}, boundary='trim').mean()\n",
    "\n",
    "# default parameters: wavelength=200, psize=32, func=None (no postprocessing required)\n",
    "sbas.intf_parallel(pairs, wavelength=400, func=decimator)"
   ]
  },
  {
   "cell_type": "markdown",
   "metadata": {},
   "source": [
    "### Load Grids"
   ]
  },
  {
   "cell_type": "code",
   "execution_count": null,
   "metadata": {},
   "outputs": [],
   "source": [
    "# TODO: add geocode=True/False argument\n",
    "phasefilts = sbas.open_grids(pairs, 'phasefilt')"
   ]
  },
  {
   "cell_type": "markdown",
   "metadata": {},
   "source": [
    "### Show Static Plots"
   ]
  },
  {
   "cell_type": "code",
   "execution_count": null,
   "metadata": {},
   "outputs": [],
   "source": [
    "fg = phasefilts.plot.imshow(\n",
    "    col=\"pair\",\n",
    "    col_wrap=3, size=4, aspect=1.2,\n",
    "    vmin=-np.pi, vmax=np.pi, cmap='gist_rainbow_r'\n",
    ")\n",
    "fg.set_axis_labels(x_var='Range', y_var='Azimuth')\n",
    "fg.set_ticks(max_xticks=5, max_yticks=5, fontsize='medium')\n",
    "fg.fig.suptitle('Filtered Phase, [rad]', y=1.05, fontsize=24)\n",
    "plt.show()"
   ]
  },
  {
   "cell_type": "markdown",
   "metadata": {},
   "source": [
    "### Show Interactive Plots\n",
    "\n",
    "#### Be careful because these plots require more RAM to be visualized"
   ]
  },
  {
   "cell_type": "raw",
   "metadata": {},
   "source": [
    "phasefilts\\\n",
    "    .hvplot(by='pair', width=320, height=280, subplots=True,\n",
    "            xlabel='Range', ylabel='Azimuth',\n",
    "            clim=(-np.pi,np.pi), cmap='gist_rainbow_r')\\\n",
    "    .cols(3).opts(title='Filtered Phase, [rad]')"
   ]
  },
  {
   "cell_type": "markdown",
   "metadata": {},
   "source": [
    "### Load Correlation Grids"
   ]
  },
  {
   "cell_type": "code",
   "execution_count": null,
   "metadata": {},
   "outputs": [],
   "source": [
    "corrs = sbas.open_grids(pairs, 'corr')"
   ]
  },
  {
   "cell_type": "markdown",
   "metadata": {},
   "source": [
    "### Show Static Plots"
   ]
  },
  {
   "cell_type": "code",
   "execution_count": null,
   "metadata": {},
   "outputs": [],
   "source": [
    "fg = corrs.plot.imshow(\n",
    "    col=\"pair\",\n",
    "    col_wrap=3, size=4, aspect=1.2,\n",
    "    clim=(0, 0.8), cmap='gray'\n",
    ")\n",
    "fg.set_axis_labels(x_var='Range', y_var='Azimuth')\n",
    "fg.set_ticks(max_xticks=5, max_yticks=5, fontsize='medium')\n",
    "fg.fig.suptitle('Correlation', y=1.05, fontsize=24)\n",
    "plt.show()"
   ]
  },
  {
   "cell_type": "markdown",
   "metadata": {},
   "source": [
    "### Show Interactive Plots\n",
    "\n",
    "#### Be careful because these plots require more RAM to be visualized"
   ]
  },
  {
   "cell_type": "raw",
   "metadata": {},
   "source": [
    "corrs\\\n",
    "    .hvplot(by='pair', width=320, height=280, subplots=True,\n",
    "            xlabel='Range', ylabel='Azimuth',\n",
    "            clim=(0, 0.8), cmap='gray')\\\n",
    "    .cols(3).opts(title='Correlation')"
   ]
  },
  {
   "cell_type": "markdown",
   "metadata": {},
   "source": [
    "## Unwrapping"
   ]
  },
  {
   "cell_type": "code",
   "execution_count": null,
   "metadata": {},
   "outputs": [],
   "source": [
    "# generate a custom snaphu config file and use it as argument \"conf\" value\n",
    "# conf = self.PRM().snaphu_config(defomax=0)\n",
    "\n",
    "# we can just miss \"func\" argument when post-processing is not required\n",
    "# define a post-processing function to crop and interpolate low-coherence areas, etc.\n",
    "cleaner = lambda corr, unwrap: xr.where(corr>=CORRLIMIT, unwrap, np.nan)\n",
    "#cleaner = lambda corr, unwrap: sbas.nearest_grid(xr.where(corr>=CORRLIMIT, unwrap, np.nan))\n",
    "\n",
    "# default parameters: threshold=0.1, conf=None, func=None (no postprocessing required)\n",
    "sbas.unwrap_parallel(pairs, threshold=CORRLIMIT, func=cleaner)"
   ]
  },
  {
   "cell_type": "markdown",
   "metadata": {},
   "source": [
    "### Load Grids"
   ]
  },
  {
   "cell_type": "code",
   "execution_count": null,
   "metadata": {},
   "outputs": [],
   "source": [
    "unwraps = sbas.open_grids(pairs, 'unwrap')"
   ]
  },
  {
   "cell_type": "markdown",
   "metadata": {},
   "source": [
    "### Show Static Plots"
   ]
  },
  {
   "cell_type": "code",
   "execution_count": null,
   "metadata": {},
   "outputs": [],
   "source": [
    "zmin, zmax = np.nanquantile(unwraps, [0.01, 0.99])\n",
    "fg = unwraps.plot.imshow(\n",
    "    col=\"pair\",\n",
    "    col_wrap=3, size=4, aspect=1.2,\n",
    "    vmin=zmin, vmax=zmax, cmap='jet'\n",
    ")\n",
    "fg.set_axis_labels(x_var='Range', y_var='Azimuth')\n",
    "fg.set_ticks(max_xticks=5, max_yticks=5, fontsize='medium')\n",
    "fg.fig.suptitle('Unwrapped Phase, [rad]', y=1.05, fontsize=24)\n",
    "plt.show()"
   ]
  },
  {
   "cell_type": "markdown",
   "metadata": {},
   "source": [
    "### Show Interactive Plots\n",
    "\n",
    "#### Be careful because these plots require more RAM to be visualized"
   ]
  },
  {
   "cell_type": "raw",
   "metadata": {},
   "source": [
    "unwraps\\\n",
    "    .hvplot(by='pair', width=320, height=280, subplots=True, cmap='jet',\n",
    "            xlabel='Range', ylabel='Azimuth',\n",
    "            clim=tuple(np.nanquantile(unwraps, [0.01, 0.99])))\\\n",
    "    .cols(3).opts(title='Unwrapped Phase, [rad]')"
   ]
  },
  {
   "cell_type": "markdown",
   "metadata": {},
   "source": [
    "## LOS Displacement"
   ]
  },
  {
   "cell_type": "markdown",
   "metadata": {},
   "source": [
    "### Calculate Grids"
   ]
  },
  {
   "cell_type": "code",
   "execution_count": null,
   "metadata": {},
   "outputs": [],
   "source": [
    "los_disp_mm = sbas.los_displacement_mm(unwraps)"
   ]
  },
  {
   "cell_type": "markdown",
   "metadata": {},
   "source": [
    "### Show Static Plots"
   ]
  },
  {
   "cell_type": "code",
   "execution_count": null,
   "metadata": {},
   "outputs": [],
   "source": [
    "zmin, zmax = np.nanquantile(los_disp_mm, [0.01, 0.99])\n",
    "fg = los_disp_mm.plot.imshow(\n",
    "    col=\"pair\",\n",
    "    col_wrap=3, size=4, aspect=1.2,\n",
    "    vmin=zmin, vmax=zmax, cmap='jet'\n",
    ")\n",
    "fg.set_axis_labels(x_var='Range', y_var='Azimuth')\n",
    "fg.set_ticks(max_xticks=5, max_yticks=5, fontsize='medium')\n",
    "fg.fig.suptitle('LOS Displacement, [mm]', y=1.05, fontsize=24)\n",
    "plt.show()"
   ]
  },
  {
   "cell_type": "markdown",
   "metadata": {},
   "source": [
    "### Show Interactive Plots\n",
    "\n",
    "#### Be careful because these plots require more RAM to be visualized"
   ]
  },
  {
   "cell_type": "raw",
   "metadata": {},
   "source": [
    "los_disp_mm\\\n",
    "    .hvplot(by='pair', width=320, height=280, subplots=True, cmap='jet',\n",
    "            xlabel='Range', ylabel='Azimuth',\n",
    "            clim=tuple(np.nanquantile(los_disp_mm, [0.01, 0.99])))\\\n",
    "    .cols(3).opts(title='LOS Displacement, [mm]')"
   ]
  },
  {
   "cell_type": "markdown",
   "metadata": {},
   "source": [
    "### Geocoding"
   ]
  },
  {
   "cell_type": "code",
   "execution_count": null,
   "metadata": {},
   "outputs": [],
   "source": [
    "los_disp_mm_ll = sbas.intf_ra2ll(los_disp_mm)"
   ]
  },
  {
   "cell_type": "markdown",
   "metadata": {},
   "source": [
    "### Show Static Plots"
   ]
  },
  {
   "cell_type": "code",
   "execution_count": null,
   "metadata": {},
   "outputs": [],
   "source": [
    "zmin, zmax = np.nanquantile(los_disp_mm_ll, [0.01, 0.99])\n",
    "fg = los_disp_mm_ll.plot.imshow(\n",
    "    col=\"pair\",\n",
    "    col_wrap=3, size=4, aspect=1.2,\n",
    "    vmin=zmin, vmax=zmax, cmap='jet'\n",
    ")\n",
    "fg.set_ticks(max_xticks=5, max_yticks=5, fontsize='medium')\n",
    "fg.fig.suptitle('LOS Displacement in Geographic Coordinates, [mm]', y=1.05, fontsize=24)\n",
    "plt.show()"
   ]
  },
  {
   "cell_type": "markdown",
   "metadata": {},
   "source": [
    "## Bonus: Inverted Interferograms\n",
    "\n",
    "We are able to build reverse-ordered interferograms by a simple hand move"
   ]
  },
  {
   "cell_type": "raw",
   "metadata": {},
   "source": [
    "baseline_pairs_inverted = sbas.baseline_pairs(days=BASEDAYS, meters=BASEMETERS, invert=True)\n",
    "baseline_pairs_inverted"
   ]
  },
  {
   "cell_type": "raw",
   "metadata": {},
   "source": [
    "pairs_inverted = baseline_pairs_inverted[['ref_date', 'rep_date']]\n",
    "pairs_inverted"
   ]
  },
  {
   "cell_type": "raw",
   "metadata": {},
   "source": [
    "sbas.intf_parallel(pairs_inverted, wavelength=400, func=decimator)"
   ]
  },
  {
   "cell_type": "markdown",
   "metadata": {},
   "source": [
    "### Load Grids"
   ]
  },
  {
   "cell_type": "raw",
   "metadata": {},
   "source": [
    "phasefilts_inverted = sbas.open_grids(pairs_inverted, 'phasefilt')"
   ]
  },
  {
   "cell_type": "markdown",
   "metadata": {},
   "source": [
    "### Show Static Plots"
   ]
  },
  {
   "cell_type": "raw",
   "metadata": {},
   "source": [
    "fg = phasefilts_inverted.plot.imshow(\n",
    "    col=\"pair\",\n",
    "    col_wrap=3, size=4, aspect=1.2,\n",
    "    vmin=-np.pi, vmax=np.pi, cmap='gist_rainbow_r'\n",
    ")\n",
    "fg.set_axis_labels(x_var='Range', y_var='Azimuth')\n",
    "fg.set_ticks(max_xticks=5, max_yticks=5, fontsize='medium')\n",
    "fg.fig.suptitle('Filtered Phase Inverted, [rad]', y=1.05, fontsize=24)\n",
    "plt.show()"
   ]
  },
  {
   "cell_type": "markdown",
   "metadata": {},
   "source": [
    "### Show Interactive Plots\n",
    "\n",
    "#### Be careful because these plots require more RAM to be visualized"
   ]
  },
  {
   "cell_type": "raw",
   "metadata": {},
   "source": [
    "phasefilts_inverted\\\n",
    "    .hvplot(by='pair', width=320, height=280, subplots=True,\n",
    "            xlabel='Range', ylabel='Azimuth',\n",
    "            clim=(-np.pi,np.pi), cmap='gist_rainbow_r')\\\n",
    "    .cols(3).opts(title='Filtered Phase Inverted, [rad]')"
   ]
  },
  {
   "cell_type": "markdown",
   "metadata": {},
   "source": [
    "## Bonus: Inverted Interferogram Unwrapping"
   ]
  },
  {
   "cell_type": "raw",
   "metadata": {},
   "source": [
    "sbas.unwrap_parallel(pairs_inverted, threshold=CORRLIMIT, func=cleaner)"
   ]
  },
  {
   "cell_type": "markdown",
   "metadata": {},
   "source": [
    "### Load Grids"
   ]
  },
  {
   "cell_type": "raw",
   "metadata": {},
   "source": [
    "unwraps_inverted = sbas.open_grids(pairs_inverted, 'unwrap')"
   ]
  },
  {
   "cell_type": "markdown",
   "metadata": {},
   "source": [
    "### Show Static Plots"
   ]
  },
  {
   "cell_type": "raw",
   "metadata": {},
   "source": [
    "zmin, zmax = np.nanquantile(unwraps_inverted, [0.01, 0.99])\n",
    "fg = unwraps_inverted.plot.imshow(\n",
    "    col=\"pair\",\n",
    "    col_wrap=3, size=4, aspect=1.2,\n",
    "    vmin=zmin, vmax=zmax, cmap='jet'\n",
    ")\n",
    "fg.set_axis_labels(x_var='Range', y_var='Azimuth')\n",
    "fg.set_ticks(max_xticks=5, max_yticks=5, fontsize='medium')\n",
    "fg.fig.suptitle('Unwrapped Phase Inverted, [rad]', y=1.05, fontsize=24)\n",
    "plt.show()"
   ]
  },
  {
   "cell_type": "markdown",
   "metadata": {},
   "source": [
    "### Show Interactive Plots\n",
    "\n",
    "#### Be careful because these plots require more RAM to be visualized"
   ]
  },
  {
   "cell_type": "raw",
   "metadata": {},
   "source": [
    "unwraps_inverted\\\n",
    "    .hvplot(by='pair', width=320, height=280, subplots=True, cmap='jet',\n",
    "            xlabel='Range', ylabel='Azimuth',\n",
    "            clim=tuple(np.nanquantile(unwraps_inverted, [0.01, 0.99])))\\\n",
    "    .cols(3).opts(title='Unwrapped Phase Inverted, [rad]')"
   ]
  },
  {
   "cell_type": "markdown",
   "metadata": {},
   "source": [
    "## Bonus: Interferogram Unwrapping Two-Ways Difference"
   ]
  },
  {
   "cell_type": "raw",
   "metadata": {},
   "source": [
    "# difference is equal to N*2*PI\n",
    "np.round(np.nanmean(unwraps.values + unwraps_inverted.values)/np.pi, 3)"
   ]
  },
  {
   "cell_type": "markdown",
   "metadata": {},
   "source": [
    "### Calculate Grids"
   ]
  },
  {
   "cell_type": "raw",
   "metadata": {},
   "source": [
    "unwraps_difference = xr.DataArray((unwraps.values + unwraps_inverted.values), coords=unwraps.coords)"
   ]
  },
  {
   "cell_type": "markdown",
   "metadata": {},
   "source": [
    "### Show Static Plots"
   ]
  },
  {
   "cell_type": "raw",
   "metadata": {},
   "source": [
    "zmin, zmax = np.nanquantile(unwraps_difference, [0.01, 0.99])\n",
    "fg = unwraps_difference.plot.imshow(\n",
    "    col=\"pair\",\n",
    "    col_wrap=3, size=4, aspect=1.2,\n",
    "    vmin=(zmin+zmax)/2 - np.pi, vmax=(zmin+zmax)/2 + np.pi, cmap='bwr'\n",
    ")\n",
    "fg.set_axis_labels(x_var='Range', y_var='Azimuth')\n",
    "fg.set_ticks(max_xticks=5, max_yticks=5, fontsize='medium')\n",
    "fg.fig.suptitle('Unwrapped Phase Two-Ways Difference (Unwrap Error), [rad]', y=1.05, fontsize=24)\n",
    "plt.show()"
   ]
  },
  {
   "cell_type": "markdown",
   "metadata": {},
   "source": [
    "### Show Interactive Plots\n",
    "\n",
    "#### Be careful because these plots require more RAM to be visualized"
   ]
  },
  {
   "cell_type": "raw",
   "metadata": {},
   "source": [
    "unwraps_difference\\\n",
    "    .hvplot(by='pair', width=320, height=280, subplots=True, cmap='bwr',\n",
    "            xlabel='Range', ylabel='Azimuth')\\\n",
    "    .cols(3).opts(title='Unwrapped Phase Two-Ways Difference (Unwrap Error), [rad]')"
   ]
  },
  {
   "cell_type": "markdown",
   "metadata": {},
   "source": [
    "## SBAS Velocity"
   ]
  },
  {
   "cell_type": "code",
   "execution_count": null,
   "metadata": {},
   "outputs": [],
   "source": [
    "sbas.sbas(baseline_pairs, smooth=1)"
   ]
  },
  {
   "cell_type": "markdown",
   "metadata": {},
   "source": [
    "### Load Grids"
   ]
  },
  {
   "cell_type": "code",
   "execution_count": null,
   "metadata": {},
   "outputs": [],
   "source": [
    "vel = xr.open_dataarray('raw/vel.grd')"
   ]
  },
  {
   "cell_type": "markdown",
   "metadata": {},
   "source": [
    "### Geocoding"
   ]
  },
  {
   "cell_type": "code",
   "execution_count": null,
   "metadata": {},
   "outputs": [],
   "source": [
    "%%time\n",
    "\n",
    "vel_ll = sbas.intf_ra2ll(vel)\n",
    "# interpolate low-coherency areas\n",
    "vel_filled = sbas.nearest_grid(vel)\n",
    "vel_filled_ll = sbas.intf_ra2ll(vel_filled)"
   ]
  },
  {
   "cell_type": "markdown",
   "metadata": {},
   "source": [
    "### Show Static Plots"
   ]
  },
  {
   "cell_type": "code",
   "execution_count": null,
   "metadata": {},
   "outputs": [],
   "source": [
    "%%time\n",
    "\n",
    "fig, ((ax1, ax2), (ax3, ax4)) = plt.subplots(2, 2, figsize=(12, 8))\n",
    "zmin, zmax = np.nanquantile(vel, [0, 0.98])\n",
    "vel.plot(vmin=zmin, vmax=zmax, cmap='jet', ax=ax1)\n",
    "vel_ll.plot(vmin=zmin, vmax=zmax, cmap='jet', ax=ax2)\n",
    "vel_filled.plot(vmin=zmin, vmax=zmax, cmap='jet', ax=ax3)\n",
    "vel_filled_ll.plot(vmin=zmin, vmax=zmax, cmap='jet', ax=ax4)\n",
    "ax1.set_title('Radar Coordinates', fontsize=20)\n",
    "ax2.set_title('Geographic Coordinates', fontsize=20)\n",
    "plt.suptitle('SBAS Velocity, [mm/year]', fontsize=24)\n",
    "plt.show()"
   ]
  },
  {
   "cell_type": "markdown",
   "metadata": {},
   "source": [
    "### Show Interactive Plots\n",
    "\n",
    "#### Be careful because these plots require more RAM to be visualized\n",
    "\n",
    "#### The plots below do not work on Google Cloud Jupyter (Debian 10 and Python 3.7)"
   ]
  },
  {
   "cell_type": "code",
   "execution_count": null,
   "metadata": {},
   "outputs": [],
   "source": [
    "uname = !uname\n",
    "if uname == ['Darwin']:\n",
    "    zmin, zmax = np.nanquantile(vel, [0, 0.98])\n",
    "    opts_common = {'x':'lon', 'y':'lat', 'geo':True, 'width':320, 'height':280,\n",
    "                   'cmap':'jet', 'colorbar':True, 'clim':(zmin, zmax)}\n",
    "\n",
    "    opts1 = {'tiles':gstiles, 'alpha':0.3, 'title':'Google Satellite'}\n",
    "    opts2 = {'tiles':ottiles, 'alpha':0.3, 'title':'OpenTopoMap'}\n",
    "    opts3 = {'tiles':False,   'alpha':1.0, 'title':'SBAS Velocity'}\n",
    "\n",
    "    vel_filled_ll.hvplot(**{**opts_common, **opts1}) + \\\n",
    "    vel_filled_ll.hvplot(**{**opts_common, **opts2}) + \\\n",
    "    vel_filled_ll.hvplot(**{**opts_common, **opts3})"
   ]
  }
 ],
 "metadata": {
  "environment": {
   "name": "common-cpu.m80",
   "type": "gcloud",
   "uri": "gcr.io/deeplearning-platform-release/base-cpu:m80"
  },
  "kernelspec": {
   "display_name": "Python 3",
   "language": "python",
   "name": "python3"
  },
  "language_info": {
   "codemirror_mode": {
    "name": "ipython",
    "version": 3
   },
   "file_extension": ".py",
   "mimetype": "text/x-python",
   "name": "python",
   "nbconvert_exporter": "python",
   "pygments_lexer": "ipython3",
   "version": "3.9.7"
  }
 },
 "nbformat": 4,
 "nbformat_minor": 4
}
