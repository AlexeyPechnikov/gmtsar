{
 "cells": [
  {
   "cell_type": "markdown",
   "metadata": {},
   "source": [
    "# PyGMTSAR Python Notebook S1A_Stack_CPGF_T173\n",
    "\n",
    "#### Tested on MacOS Catalina (Python 3.9) and Debian 10 (Python 3.7)"
   ]
  },
  {
   "cell_type": "markdown",
   "metadata": {},
   "source": [
    "### I'm a freelancer and that's my free time Open Source project with GPL-3.0 License. If you find it useful you are able to sponsor my projects <a href=\"https://www.patreon.com/bePatron?u=54500608\" data-patreon-widget-type=\"become-patron-button\">Become a Patron!</a><script async src=\"https://c6.patreon.com/becomePatronButton.bundle.js\"></script> or order additional research, development and support on <a href=\"https://www.upwork.com/freelancers/~01e65e8e7221758623\">Upwork</a>\n",
    "\n",
    "### @ Alexey Pechnikov, Sep, 2021, https://github.com/mobigroup"
   ]
  },
  {
   "cell_type": "markdown",
   "metadata": {},
   "source": [
    "## Check for GMTSAR installation\n",
    "\n",
    "#### Just wait 10-30 minutes and restart the notebook if cloud installation is not ready\n",
    "\n",
    "Use the provided Google Cloud init script for Debian 10 VM or Jupyter Notebook on Debian 10:\n",
    "https://github.com/mobigroup/gmtsar/blob/master/gmtsar/sh/GMTSAR.install.debian10.sh"
   ]
  },
  {
   "cell_type": "code",
   "execution_count": null,
   "metadata": {},
   "outputs": [],
   "source": [
    "count = !ls /usr/local | grep GMTSAR | wc -l\n",
    "assert count != ['0'], \\\n",
    "    'Please wait until your init script complete on a cloud host or install GMTSAR manually on local host'"
   ]
  },
  {
   "cell_type": "markdown",
   "metadata": {},
   "source": [
    "## Download and unpack the example, create processing directory"
   ]
  },
  {
   "cell_type": "code",
   "execution_count": null,
   "metadata": {},
   "outputs": [],
   "source": [
    "count = !ls | grep S1A_Stack_CPGF_T173.tar.gz | wc -l\n",
    "if count == ['0']:\n",
    "    !wget -c http://topex.ucsd.edu/gmtsar/tar/S1A_Stack_CPGF_T173.tar.gz\n",
    "    !tar xvzf S1A_Stack_CPGF_T173.tar.gz -C .\n",
    "    !mkdir raw"
   ]
  },
  {
   "cell_type": "markdown",
   "metadata": {},
   "source": [
    "## Define ENV Variables for Jupyter Instance"
   ]
  },
  {
   "cell_type": "code",
   "execution_count": null,
   "metadata": {},
   "outputs": [],
   "source": [
    "import os\n",
    "\n",
    "# use default GMTSAR installation path\n",
    "GMTSAR = '/usr/local/GMTSAR'\n",
    "PATH = os.environ['PATH']\n",
    "\n",
    "if PATH.find('GMTSAR') == -1:\n",
    "    PATH = os.environ['PATH'] + f':{GMTSAR}/bin/'\n",
    "    %env PATH {PATH}\n",
    "    %env GMTSAR {GMTSAR}"
   ]
  },
  {
   "cell_type": "markdown",
   "metadata": {},
   "source": [
    "## Install Python Modules"
   ]
  },
  {
   "cell_type": "code",
   "execution_count": null,
   "metadata": {},
   "outputs": [],
   "source": [
    "import sys\n",
    "!{sys.executable} --version"
   ]
  },
  {
   "cell_type": "code",
   "execution_count": null,
   "metadata": {},
   "outputs": [],
   "source": [
    "!{sys.executable} -m pip install --upgrade pip setuptools wheel > /dev/null\n",
    "!{sys.executable} -m pip install cartopy==0.19.0.post1 > /dev/null"
   ]
  },
  {
   "cell_type": "code",
   "execution_count": null,
   "metadata": {},
   "outputs": [],
   "source": [
    "!{sys.executable} -m pip install \\\n",
    "    h5py netcdf4 h5netcdf \\\n",
    "    rasterio rioxarray xarray numpy \\\n",
    "    scikit-image scipy sklearn \\\n",
    "    xarray dask distributed zarr \\\n",
    "    pandas geopandas \\\n",
    "    sentineleof elevation \\\n",
    "    matplotlib seaborn geoviews hvplot datashader bokeh \\\n",
    "    xmltodict joblib tqdm --upgrade 2>&1 > /dev/null"
   ]
  },
  {
   "cell_type": "markdown",
   "metadata": {},
   "source": [
    "## Load and Setup Python Modules"
   ]
  },
  {
   "cell_type": "code",
   "execution_count": null,
   "metadata": {},
   "outputs": [],
   "source": [
    "import xarray as xr\n",
    "import numpy as np\n",
    "import pandas as pd\n",
    "# supress numpy warnings\n",
    "import warnings\n",
    "warnings.filterwarnings('ignore')"
   ]
  },
  {
   "cell_type": "code",
   "execution_count": null,
   "metadata": {},
   "outputs": [],
   "source": [
    "# plotting modules\n",
    "import hvplot.xarray  # noqa\n",
    "import hvplot.pandas  # noqa\n",
    "import holoviews as hv\n",
    "from holoviews import opts\n",
    "from bokeh.models import FixedTicker\n",
    "hv.extension('bokeh', 'matplotlib')\n",
    "#pd.options.plotting.backend = 'holoviews'\n",
    "pd.options.plotting.backend = 'hvplot'\n",
    "\n",
    "gstiles = hv.Tiles('https://mt1.google.com/vt/lyrs=s&x={X}&y={Y}&z={Z}', name='Google Satellite')\n",
    "ottiles = hv.Tiles('https://tile.opentopomap.org/{Z}/{X}/{Y}.png', name='Open Topo')"
   ]
  },
  {
   "cell_type": "code",
   "execution_count": null,
   "metadata": {},
   "outputs": [],
   "source": [
    "# define Pandas display settings\n",
    "pd.set_option('display.max_rows', 50)\n",
    "pd.set_option('display.max_columns', None)\n",
    "pd.set_option('display.width', None)\n",
    "pd.set_option('display.max_colwidth', None)\n",
    "\n",
    "# define common plot parameters\n",
    "plot_opts = {'rasterize': True, 'xlabel':'Range', 'ylabel':'Azimuth', 'width':500, 'height':400}"
   ]
  },
  {
   "cell_type": "markdown",
   "metadata": {},
   "source": [
    "## Load Custom Python Modules"
   ]
  },
  {
   "cell_type": "code",
   "execution_count": null,
   "metadata": {},
   "outputs": [],
   "source": [
    "sys.path.append(os.path.join(os.environ['GMTSAR'],'gmtsar', 'py'))\n",
    "\n",
    "from intf_ra2ll import intf_ra2ll_matrix, intf_ra2ll\n",
    "from trans_ra2ll import trans_ra2ll_matrix\n",
    "from PRM import PRM\n",
    "from SBAS import SBAS"
   ]
  },
  {
   "cell_type": "markdown",
   "metadata": {},
   "source": [
    "## Define Parameters"
   ]
  },
  {
   "cell_type": "code",
   "execution_count": null,
   "metadata": {},
   "outputs": [],
   "source": [
    "MASTER       = '2015-04-03'\n",
    "WORKDIR      = 'raw'\n",
    "DATADIR      = 'raw_orig'\n",
    "DEMFILE      = 'topo/dem.grd'\n",
    "BASEDAYS     = 100\n",
    "BASEMETERS   = 150\n",
    "CORRLIMIT    = 0.10\n",
    "DEFOMAX      = 0"
   ]
  },
  {
   "cell_type": "markdown",
   "metadata": {},
   "source": [
    "## Init SBAS"
   ]
  },
  {
   "cell_type": "code",
   "execution_count": null,
   "metadata": {},
   "outputs": [],
   "source": [
    "sbas = SBAS(DATADIR, DEMFILE, WORKDIR).set_master(MASTER)\n",
    "sbas.to_dataframe()"
   ]
  },
  {
   "cell_type": "code",
   "execution_count": null,
   "metadata": {},
   "outputs": [],
   "source": [
    "title = 'Sentinel1 Frame on DEM plus GCP'\n",
    "#https://holoviz.org/tutorial/Composing_Plots.html\n",
    "sbas.get_dem()[::4,::4].hvplot(invert=True, cmap='kbc', alpha=1, title=title) * \\\n",
    "    sbas.geoloc().plot.scatter(y='longitude', x='latitude', c='pixel', cmap='jet')"
   ]
  },
  {
   "cell_type": "code",
   "execution_count": null,
   "metadata": {},
   "outputs": [],
   "source": [
    "title = 'Sentinel1 Frame DEM cropped using GCP'\n",
    "#https://holoviz.org/tutorial/Composing_Plots.html\n",
    "sbas.get_dem(geoloc=True)[::4,::4].hvplot(invert=True, cmap='kbc', alpha=1, title=title) * \\\n",
    "    sbas.geoloc().plot.scatter(y='longitude', x='latitude', c='pixel', cmap='jet')"
   ]
  },
  {
   "cell_type": "markdown",
   "metadata": {},
   "source": [
    "## Stack Images (for a single subswath only)"
   ]
  },
  {
   "cell_type": "code",
   "execution_count": null,
   "metadata": {},
   "outputs": [],
   "source": [
    "sbas.stack_parallel()"
   ]
  },
  {
   "cell_type": "markdown",
   "metadata": {},
   "source": [
    "## SBAS Baseline"
   ]
  },
  {
   "cell_type": "code",
   "execution_count": null,
   "metadata": {},
   "outputs": [],
   "source": [
    "baseline_pairs = sbas.baseline_pairs(days=BASEDAYS, meters=BASEMETERS)\n",
    "baseline_pairs"
   ]
  },
  {
   "cell_type": "raw",
   "metadata": {},
   "source": [
    "!cd raw && ps2pdf baseline.ps baseline.pdf\n",
    "with WImage(filename='./raw/baseline.pdf', resolution=150) as image:\n",
    "    display(image)"
   ]
  },
  {
   "cell_type": "markdown",
   "metadata": {},
   "source": [
    "## DEM in Radar Coordinates"
   ]
  },
  {
   "cell_type": "code",
   "execution_count": null,
   "metadata": {},
   "outputs": [],
   "source": [
    "%%time\n",
    "\n",
    "sbas.topo_ra()"
   ]
  },
  {
   "cell_type": "code",
   "execution_count": null,
   "metadata": {},
   "outputs": [],
   "source": [
    "xr.open_dataarray(f'{WORKDIR}/topo_ra.grd').hvplot(cmap='kbc', title='Topo_ra', **plot_opts)"
   ]
  },
  {
   "cell_type": "markdown",
   "metadata": {},
   "source": [
    "## Interferograms"
   ]
  },
  {
   "cell_type": "code",
   "execution_count": null,
   "metadata": {},
   "outputs": [],
   "source": [
    "pairs = baseline_pairs[['ref_date', 'rep_date']]\n",
    "pairs"
   ]
  },
  {
   "cell_type": "code",
   "execution_count": null,
   "metadata": {},
   "outputs": [],
   "source": [
    "# we can just miss \"func\" argument when post-processing is not required\n",
    "# define a postprocessing function for decimation, etc.\n",
    "decimator = lambda dataarray: dataarray.coarsen({'y': 4, 'x': 4}, boundary='trim').median()\n",
    "\n",
    "# default parameters: wavelength=200, psize=32, func=None (no postprocessing required)\n",
    "sbas.intf_parallel(pairs, wavelength=400, func=decimator)"
   ]
  },
  {
   "cell_type": "code",
   "execution_count": null,
   "metadata": {},
   "outputs": [],
   "source": [
    "phasefilts = sbas.open_grids(pairs, 'phasefilt')\n",
    "phasefilts\\\n",
    "    .hvplot(by='pair', width=320, height=280, subplots=True,\n",
    "            xlabel='Range', ylabel='Azimuth',\n",
    "            clim=(-np.pi,np.pi), cmap='gist_rainbow_r')\\\n",
    "    .cols(3).opts(title='Filtered Phase, [rad]')"
   ]
  },
  {
   "cell_type": "code",
   "execution_count": null,
   "metadata": {},
   "outputs": [],
   "source": [
    "corrs = sbas.open_grids(pairs, 'corr')\n",
    "corrs\\\n",
    "    .hvplot(by='pair', width=320, height=280, subplots=True,\n",
    "            xlabel='Range', ylabel='Azimuth',\n",
    "            clim=(0, 0.8), cmap='gray')\\\n",
    "    .cols(3).opts(title='Correlation')"
   ]
  },
  {
   "cell_type": "markdown",
   "metadata": {},
   "source": [
    "## Unwrapping"
   ]
  },
  {
   "cell_type": "code",
   "execution_count": null,
   "metadata": {},
   "outputs": [],
   "source": [
    "# generate a custom snaphu config file and use it as argument \"conf\" value\n",
    "# conf = self.PRM().snaphu_config(defomax=0)\n",
    "\n",
    "# we can just miss \"func\" argument when post-processing is not required\n",
    "# define a post-processing function to crop and interpolate low-coherence areas, etc.\n",
    "#cleaner = lambda corr, unwrap: xr.where(corr>=CORRLIMIT, unwrap, np.nan)\n",
    "cleaner = lambda corr, unwrap: sbas.nearest_grid(xr.where(corr>=CORRLIMIT, unwrap, np.nan))\n",
    "\n",
    "# default parameters: threshold=0.1, conf=None, func=None (no postprocessing required)\n",
    "sbas.unwrap_parallel(pairs, threshold=CORRLIMIT, func=cleaner)"
   ]
  },
  {
   "cell_type": "code",
   "execution_count": null,
   "metadata": {},
   "outputs": [],
   "source": [
    "unwraps = sbas.open_grids(pairs, 'unwrap')\n",
    "unwraps\\\n",
    "    .hvplot(by='pair', width=320, height=280, subplots=True, cmap='jet',\n",
    "            xlabel='Range', ylabel='Azimuth',\n",
    "            clim=tuple(np.nanquantile(unwraps, [0.01, 0.99])))\\\n",
    "    .cols(3).opts(title='Unwrapped Phase, [rad]')"
   ]
  },
  {
   "cell_type": "markdown",
   "metadata": {},
   "source": [
    "## LOS Displacement"
   ]
  },
  {
   "cell_type": "code",
   "execution_count": null,
   "metadata": {},
   "outputs": [],
   "source": [
    "los_disp_mm = sbas.los_displacement_mm(unwraps)\n",
    "los_disp_mm\\\n",
    "    .hvplot(by='pair', width=320, height=280, subplots=True, cmap='jet',\n",
    "            xlabel='Range', ylabel='Azimuth')\\\n",
    "    .cols(3).opts(title='LOS Displacement, [mm]')"
   ]
  },
  {
   "cell_type": "markdown",
   "metadata": {},
   "source": [
    "## Bonus: Inverted Interferograms\n",
    "\n",
    "We are able to build reverse-ordered interferograms by a simple hand move"
   ]
  },
  {
   "cell_type": "code",
   "execution_count": null,
   "metadata": {},
   "outputs": [],
   "source": [
    "pairs_inverted = baseline_pairs[['rep_date', 'ref_date']]\n",
    "pairs_inverted"
   ]
  },
  {
   "cell_type": "code",
   "execution_count": null,
   "metadata": {},
   "outputs": [],
   "source": [
    "sbas.intf_parallel(pairs_inverted, wavelength=400, func=decimator)"
   ]
  },
  {
   "cell_type": "code",
   "execution_count": null,
   "metadata": {},
   "outputs": [],
   "source": [
    "phasefilts_inverted = sbas.open_grids(pairs_inverted, 'phasefilt')\n",
    "phasefilts_inverted\\\n",
    "    .hvplot(by='pair', width=320, height=280, subplots=True,\n",
    "            xlabel='Range', ylabel='Azimuth',\n",
    "            clim=(-np.pi,np.pi), cmap='gist_rainbow_r')\\\n",
    "    .cols(3).opts(title='Filtered Phase Inverted, [rad]')"
   ]
  },
  {
   "cell_type": "markdown",
   "metadata": {},
   "source": [
    "## Bonus: Inverted Interferogram Unwrapping"
   ]
  },
  {
   "cell_type": "code",
   "execution_count": null,
   "metadata": {},
   "outputs": [],
   "source": [
    "sbas.unwrap_parallel(pairs_inverted, threshold=CORRLIMIT, func=cleaner)"
   ]
  },
  {
   "cell_type": "code",
   "execution_count": null,
   "metadata": {},
   "outputs": [],
   "source": [
    "unwraps_inverted = sbas.open_grids(pairs_inverted, 'unwrap')\n",
    "unwraps_inverted\\\n",
    "    .hvplot(by='pair', width=320, height=280, subplots=True, cmap='jet',\n",
    "            xlabel='Range', ylabel='Azimuth',\n",
    "            clim=tuple(np.nanquantile(unwraps_inverted, [0.01, 0.99])))\\\n",
    "    .cols(3).opts(title='Unwrapped Phase Inverted, [rad]')"
   ]
  },
  {
   "cell_type": "code",
   "execution_count": null,
   "metadata": {},
   "outputs": [],
   "source": [
    "# difference is equal to N*2*PI\n",
    "np.round(np.nanmean(unwraps.values + unwraps_inverted.values)/np.pi, 3)"
   ]
  },
  {
   "cell_type": "code",
   "execution_count": null,
   "metadata": {},
   "outputs": [],
   "source": [
    "xr.DataArray((unwraps.values + unwraps_inverted.values), coords=unwraps.coords)\\\n",
    "    .hvplot(by='pair', width=320, height=280, subplots=True, cmap='bwr',\n",
    "            xlabel='Range', ylabel='Azimuth')\\\n",
    "    .cols(3).opts(title='Unwrapped Phase Direct and Inverse Difference (Unwrap Error), [rad]')"
   ]
  },
  {
   "cell_type": "markdown",
   "metadata": {},
   "source": [
    "## TODO: SBAS Displacement"
   ]
  },
  {
   "cell_type": "code",
   "execution_count": null,
   "metadata": {},
   "outputs": [],
   "source": [
    "sbas.PRM().filename[4:]"
   ]
  },
  {
   "cell_type": "code",
   "execution_count": null,
   "metadata": {
    "tags": []
   },
   "outputs": [],
   "source": []
  },
  {
   "cell_type": "code",
   "execution_count": null,
   "metadata": {
    "tags": []
   },
   "outputs": [],
   "source": [
    "#sbas.open_grids(pairs[:1], 'unwrap')[0]\n",
    "\n",
    "def sbas_sbas(self, pairs):\n",
    "    import math\n",
    "    \n",
    "    unwrap = self.open_grids(pairs[:1], 'unwrap')[0]\n",
    "    prm = self.PRM()\n",
    "    \n",
    "    #N=$(wc -l intf.in   | cut -d ' ' -f1)\n",
    "    #S=$(wc -l scene.tab | cut -d ' ' -f1)\n",
    "\n",
    "    N = len(pairs)\n",
    "    S = len(self.df)\n",
    "    \n",
    "    # TODO\n",
    "    lon0 = sbas.geoloc().longitude.mean()\n",
    "    lat0 = sbas.geoloc().latitude.mean()\n",
    "    elevation0 = float(sbas.get_dem().sel(lat=lat0, lon=lon0, method='nearest'))\n",
    "        \n",
    "    #satlook=$(echo \"$lon0 $lat0 $elevation\" | SAT_look *.PRM)\n",
    "    #look_E=$(echo \"$satlook\" | cut -d ' ' -f4)\n",
    "    #look_N=$(echo \"$satlook\" | cut -d ' ' -f5)\n",
    "    #look_U=$(echo \"$satlook\" | cut -d ' ' -f6)\n",
    "    \n",
    "    satlook = !cd raw && echo {lon0} {lat0} {elevation0} | SAT_look {self.PRM().filename[4:]}\n",
    "    satlook = str(satlook)[2:-2].split(' ')\n",
    "    print ('satlook', satlook)\n",
    "    _,_,_,look_E,look_N,look_U = satlook\n",
    "    print ('look_E,look_N,look_U', look_E,look_N,look_U )\n",
    "    incidence = math.atan2(math.sqrt(float(look_E)**2 + float(look_N)**2), float(look_U))*180/np.pi\n",
    "\n",
    "    xdim, ydim = unwrap.shape\n",
    "    xmin = int(unwrap.x.min())\n",
    "    xmax = int(unwrap.x.max())\n",
    "    near_range, rng_samp_rate, wavelength = prm.get('near_range', 'rng_samp_rate', 'radar_wavelength')\n",
    "    \n",
    "    # calculation below requires bc utility\n",
    "    rng_pixel_size = 300000000 / rng_samp_rate / 2\n",
    "    rng = np.round(rng_pixel_size * (xmin+xmax) /2 + near_range)\n",
    "    \n",
    "    return N, S, xdim, ydim, rng, incidence, wavelength\n",
    "\n",
    "SBAS.sbas = sbas_sbas\n",
    "\n",
    "# for scene.tab\n",
    "# sbas.baseline_table()\n",
    "\n",
    "#sbas intf.tab scene.tab 9 5 $xdim $ydim -smooth 1.0 -wavelength 0.0554658 -incidence 30 -range 800184.946186 -rms -dem\n",
    "\n",
    "sbas.sbas(pairs)"
   ]
  }
 ],
 "metadata": {
  "environment": {
   "name": "common-cpu.m80",
   "type": "gcloud",
   "uri": "gcr.io/deeplearning-platform-release/base-cpu:m80"
  },
  "kernelspec": {
   "display_name": "Python 3",
   "language": "python",
   "name": "python3"
  },
  "language_info": {
   "codemirror_mode": {
    "name": "ipython",
    "version": 3
   },
   "file_extension": ".py",
   "mimetype": "text/x-python",
   "name": "python",
   "nbconvert_exporter": "python",
   "pygments_lexer": "ipython3",
   "version": "3.7.10"
  }
 },
 "nbformat": 4,
 "nbformat_minor": 4
}
