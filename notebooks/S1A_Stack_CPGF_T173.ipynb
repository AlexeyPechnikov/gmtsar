{
 "cells": [
  {
   "cell_type": "markdown",
   "metadata": {
    "id": "V3U9b62jWLzh"
   },
   "source": [
    "$\\Large\\color{blue}{\\text{PyGMTSAR Small Baseline Subset (SBAS) Interferometric InSAR}}$\n",
    "\n",
    "$\\Large\\color{blue}{\\text{On GMTSAR dataset S1A_Stack_CPGF_T173}}$\n",
    "\n",
    "$\\large\\color{blue}{\\text{Ehnanced SBAS processing excludes atmosperic noise and validates results}}$\n",
    "\n",
    "### See and more PyGMTSAR notebooks on GitHub: [PyGMTSAR](https://github.com/mobigroup/gmtsar)\n",
    "\n",
    "It works on\n",
    "\n",
    "* MacOS Monterey (Apple Silicon) and BigSur (Intel) (Python 3.9) - please pre-install system dependencies (maybe using HomeBrew),\n",
    "\n",
    "* Google Cloud VM and Notebooks on Debian 10 (Python 3.7), use the [Google Cloud Debian 10 init script](https://github.com/mobigroup/gmtsar/blob/master/gmtsar/sh/GMTSAR.install.debian10.sh) and [Google Cloud Debian 10 VM creation script](https://github.com/mobigroup/gmtsar/blob/master/gmtsar/sh/GMTSAR.gcloud_create_debian10.sh)\n",
    "\n",
    "* $\\color{red}{\\text{Google Colab (Python 3.7) - you will be asked to re-run the notebook once due to \"system crash\" by desing}}$\n",
    "$\\color{red}{\\text{Note: to open all notebook cells select menu \"View\" -> \"Expand Sections\"}}$\n",
    "\n",
    "### PyGMTSAR is my free-time Open Source project.\n",
    "\n",
    "That's a bit curious how the project was started a year ago. I develop geophysical inversion methods and processing software for many years using my fundamental physics and mathematics background. Satellite interferometry is the key point to validate my inversion models and I found the same problem as you too that the existing interferometry packages usage is a pain. There is no interactive processing with multiprocessing and even a progressbar and ability to view and change every step code and validate the results. Also, many used algorithms are too outdated and produce terrible results like to tension surfaces in GMT which is used widely in GMTSAR (hmm, how about to control a smothness of derivative? Tension surfaces were invented when all the Earths computers where less powerfull than your smarthone today. If you are interested I shared the examples in GMTSAR bug tracker). Anyway, I found GMT mathematics is really crazy and the developers replace one incorrect algorithm by another and back often as we see in the codes and the changelog). That was enough reason to check all the used algorithms and replace these by modern and correct ones. By this way, I use only GMTSAR C codes with my patches to fix some errors and allow interoperability with Python wrappers plus my own codes around them. GMTSAR codes are fine and without crazy GMT codes work better and the processing is much faster. Alright, I spent one month to make the initial PyGMTSAR realization and it works. Recently, I returned to the project to add some more sophisticated features like to scenes and subswathes stitching. I'm going to share some of my geological exprorations and seismic models as live examples on Google Colab as soon as it will be possible to do. How lineaments and ore zones are related to interferograms? How gas and oil deposits are related to surface movements on interferometry displacement maps? I have the answer and I work on the tools to model and visualize them.\n",
    "\n",
    "You'd find my theoretical models and processing codes foir geophisical inversions in Github repository https://github.com/mobigroup/gis-snippets and tools for the 4D results vizualization in https://github.com/mobigroup/ParaView-plugins\n",
    "\n",
    "Ah yes, a little bit about me. I have STEM master's degree in radio physics and in 2004 I was awarded first prize of the All-Russian Physics competition for significant results in Inverse modeling for non-linear optics and holography, also applicable for Inverse Modeling of Gravity, Magnetic, and Thermal fields. In addition to my fundamental science knowledge, I’m world class data scientist and software developer with 20 years experience in science and industrial development. I have worked on government contracts and universities projects and on projects for LG Corp, Google Inc, etc. You are able to find some of my software and results on LinkedIn and GitHub and Upwork. By the way, I left Russia many years ago and I work remotely for about 20 years.\n",
    "\n",
    "### To order some research, development and support see my profile on freelance platform [Upwork](https://www.upwork.com/freelancers/~01e65e8e7221758623)\n",
    "\n",
    "### @ Alexey Pechnikov, August, 2022\n",
    "\n",
    "[Geological models on YouTube channel](https://www.youtube.com/channel/UCSEeXKAn9f_bDiTjT6l87Lg)\n",
    "\n",
    "[Augmented Reality (AR) Geological Models](https://mobigroup.github.io/ParaView-Blender-AR/)\n",
    "\n",
    "[GitHub repositories](https://github.com/mobigroup)\n",
    "\n",
    "[English posts and articles on LinkedIn](https://www.linkedin.com/in/alexey-pechnikov/)\n",
    "\n",
    "[Russian articles on Habr](https://habr.com/ru/users/N-Cube/posts/)"
   ]
  },
  {
   "cell_type": "markdown",
   "metadata": {
    "id": "1Wikey5Lqm-n"
   },
   "source": [
    "$\\large\\color{blue}{\\text{Hint: Use menu Cell} \\to \\text{Run All or Runtime} \\to \\text{Complete All or Runtime} \\to \\text{Run All}}$\n",
    "$\\large\\color{blue}{\\text{(depending of your localization settings) to execute the entire notebook}}$"
   ]
  },
  {
   "cell_type": "markdown",
   "metadata": {
    "id": "3ja1oNR7WLzm"
   },
   "source": [
    "## Load Modules to Check Environment"
   ]
  },
  {
   "cell_type": "code",
   "execution_count": null,
   "metadata": {
    "id": "PLye5HbbWLzm"
   },
   "outputs": [],
   "source": [
    "import platform, sys, os"
   ]
  },
  {
   "cell_type": "markdown",
   "metadata": {
    "id": "eqbgyElaqm-n"
   },
   "source": [
    "## Debian 10 and Google Colab GMTSAR Installation"
   ]
  },
  {
   "cell_type": "markdown",
   "metadata": {
    "id": "E3Euc_9Xqm-o"
   },
   "source": [
    "### On Google Cloud AI Notebooks: check root access\n",
    "\n",
    "On Google Cloud AI Notebooks sometimes we have an issue when \"sudo\" requires a password. In this case drop the instance and create a new one and - that's important - wait 5-10 minutes before connect to it using link \"OPEN JUPYTERLAB\""
   ]
  },
  {
   "cell_type": "code",
   "execution_count": null,
   "metadata": {
    "colab": {
     "base_uri": "https://localhost:8080/"
    },
    "id": "5qEL9aKiqm-p",
    "outputId": "c3578c1c-c67d-4448-a55b-bbf86c78565a"
   },
   "outputs": [],
   "source": [
    "if platform.system() == 'Linux':\n",
    "    !sudo date"
   ]
  },
  {
   "cell_type": "markdown",
   "metadata": {
    "id": "wQBVFYMgqm-r"
   },
   "source": [
    "### Install https://github.com/mobigroup/gmtsar\n",
    "\n",
    "I make lots of changes on GMTSAR C-coded tools and some of them are not merged to the upstream GMTSAR yet because all the patches need to be validated and discussed before. Also, my Python extensions are provided in my GMTSAR fork only. I hope in the future to provide a standalone python packager as wrapper around upstream GMTSAR but there is a long way to it."
   ]
  },
  {
   "cell_type": "code",
   "execution_count": null,
   "metadata": {
    "id": "IxeyJ1Ulqm-s"
   },
   "outputs": [],
   "source": [
    "if platform.system() == 'Linux':\n",
    "    count = !ls /usr/local | grep GMTSAR | wc -l\n",
    "    if count == ['0']:\n",
    "        !apt install -y csh autoconf gfortran \\\n",
    "            libtiff5-dev libhdf5-dev liblapack-dev libgmt-dev gmt-dcw gmt-gshhg gmt > /dev/null\n",
    "        !cd /usr/local && git clone --branch master https://github.com/mobigroup/gmtsar GMTSAR > /dev/null\n",
    "        !cd /usr/local/GMTSAR && autoconf > /dev/null\n",
    "        !cd /usr/local/GMTSAR && ./configure --with-orbits-dir=/tmp > /dev/null\n",
    "        !cd /usr/local/GMTSAR && make 1>/dev/null 2>/dev/null\n",
    "        !cd /usr/local/GMTSAR && make install >/dev/null"
   ]
  },
  {
   "cell_type": "markdown",
   "metadata": {
    "id": "hVOT2Neeqm-u"
   },
   "source": [
    "## Define ENV Variables for Jupyter Instance"
   ]
  },
  {
   "cell_type": "code",
   "execution_count": null,
   "metadata": {
    "id": "IYSwIcWSqm-u"
   },
   "outputs": [],
   "source": [
    "# use default GMTSAR installation path\n",
    "GMTSAR = '/usr/local/GMTSAR'\n",
    "PATH = os.environ['PATH']\n",
    "\n",
    "if PATH.find('GMTSAR') == -1:\n",
    "    PATH = os.environ['PATH'] + f':{GMTSAR}/bin/'\n",
    "    %env PATH {PATH}\n",
    "    %env GMTSAR {GMTSAR}"
   ]
  },
  {
   "cell_type": "markdown",
   "metadata": {
    "id": "MqHBIuIIqm-v"
   },
   "source": [
    "## Install Python Modules\n",
    "\n",
    "Maybe you need to restart your notebook, follow the instructions printing below.\n",
    "\n",
    "The installation takes a long time on fresh Debian 10 and a short time on Google Colab"
   ]
  },
  {
   "cell_type": "code",
   "execution_count": null,
   "metadata": {
    "colab": {
     "base_uri": "https://localhost:8080/"
    },
    "id": "0TRsQst5qm-v",
    "outputId": "a9e014a6-b001-4bb0-e36e-a559ccd1f565"
   },
   "outputs": [],
   "source": [
    "!{sys.executable} --version"
   ]
  },
  {
   "cell_type": "code",
   "execution_count": null,
   "metadata": {
    "id": "6v2UZsHiqm-w"
   },
   "outputs": [],
   "source": [
    "if platform.system() == 'Linux':\n",
    "    !{sys.executable} -m pip install cartopy==0.19.0.post1 1>/dev/null 2>/dev/null\n",
    "    !{sys.executable} -m pip install xarray==0.19.0        1>/dev/null 2>/dev/null\n",
    "    !{sys.executable} -m pip install scipy==1.7.1          1>/dev/null 2>/dev/null"
   ]
  },
  {
   "cell_type": "code",
   "execution_count": null,
   "metadata": {
    "id": "Hm4-fB3Cqm-w"
   },
   "outputs": [],
   "source": [
    "if platform.system() == 'Linux':\n",
    "    !{sys.executable} -m pip install \\\n",
    "        h5py netcdf4 h5netcdf \\\n",
    "        rasterio rioxarray numpy \\\n",
    "        scikit-image scipy sklearn \\\n",
    "        xarray dask distributed zarr nc-time-axis \\\n",
    "        pandas geopandas \\\n",
    "        sentineleof elevation \\\n",
    "        matplotlib seaborn geoviews hvplot datashader bokeh \\\n",
    "        xmltodict joblib tqdm 1>/dev/null 2>/dev/null"
   ]
  },
  {
   "cell_type": "markdown",
   "metadata": {
    "id": "QYKA_Hieqm-x"
   },
   "source": [
    "$\\large\\color{red}{\\text{Attention: On Google Colab we need to restart kernel once when modules installed}}$"
   ]
  },
  {
   "cell_type": "markdown",
   "metadata": {
    "id": "7XBXs2qSqm-x"
   },
   "source": [
    "$\\large\\color{blue}{\\text{Hint: Use menu Cell} \\to \\text{Run All or Runtime} \\to \\text{Complete All or Runtime} \\to \\text{Run All}}$\n",
    "$\\large\\color{blue}{\\text{(depending of your localization settings) to execute the entire notebook}}$"
   ]
  },
  {
   "cell_type": "code",
   "execution_count": null,
   "metadata": {
    "colab": {
     "base_uri": "https://localhost:8080/"
    },
    "id": "7iSgCSYpqm-y",
    "outputId": "89432c33-dfa2-4372-f3f2-154f3f7a8db6"
   },
   "outputs": [],
   "source": [
    "if platform.system() == 'Linux':\n",
    "    import xarray\n",
    "    import time\n",
    "    print (xarray.__version__)\n",
    "    if xarray.__version__ != '0.19.0':\n",
    "        print (\"\"\"\n",
    "    ***********************************************************************************\n",
    "    *\n",
    "    Do not worry, runtime is stopped by design. Please run the notebook again.\n",
    "    *\n",
    "    ***********************************************************************************\n",
    "    \"\"\")\n",
    "        time.sleep(1)\n",
    "        os.kill(os.getpid(), 9)"
   ]
  },
  {
   "cell_type": "markdown",
   "metadata": {
    "id": "WmXht90lqm-z"
   },
   "source": [
    "## Load and Setup Python Modules"
   ]
  },
  {
   "cell_type": "code",
   "execution_count": null,
   "metadata": {
    "id": "djsDvvnwqm-0"
   },
   "outputs": [],
   "source": [
    "import xarray as xr\n",
    "import numpy as np\n",
    "import pandas as pd\n",
    "# supress numpy warnings\n",
    "import warnings\n",
    "warnings.filterwarnings('ignore')"
   ]
  },
  {
   "cell_type": "code",
   "execution_count": null,
   "metadata": {
    "id": "mcnzhIsFqm-0"
   },
   "outputs": [],
   "source": [
    "# plotting modules\n",
    "import hvplot.pandas  # noqa\n",
    "import hvplot.xarray  # noqa\n",
    "import holoviews as hv\n",
    "pd.options.plotting.backend = 'hvplot'\n",
    "from IPython.display import Image\n",
    "import matplotlib.pyplot as plt\n",
    "import matplotlib\n",
    "%matplotlib inline"
   ]
  },
  {
   "cell_type": "code",
   "execution_count": null,
   "metadata": {
    "id": "FyRcjVjoqm-1"
   },
   "outputs": [],
   "source": [
    "# define Pandas display settings\n",
    "pd.set_option('display.max_rows', None)\n",
    "pd.set_option('display.max_columns', None)\n",
    "pd.set_option('display.width', None)\n",
    "pd.set_option('display.max_colwidth', None)\n",
    "\n",
    "gstiles = hv.Tiles('https://mt1.google.com/vt/lyrs=s&x={X}&y={Y}&z={Z}', name='Google Satellite')\n",
    "ottiles = hv.Tiles('https://tile.opentopomap.org/{Z}/{X}/{Y}.png', name='Open Topo')"
   ]
  },
  {
   "cell_type": "markdown",
   "metadata": {
    "id": "SMnTTgwKqm-2"
   },
   "source": [
    "## Load Custom Python Modules"
   ]
  },
  {
   "cell_type": "code",
   "execution_count": null,
   "metadata": {
    "id": "5s4vUfbrqm-2"
   },
   "outputs": [],
   "source": [
    "sys.path.append(os.path.join(os.environ['GMTSAR'],'gmtsar', 'py'))\n",
    "\n",
    "from PRM import PRM\n",
    "from SBAS import SBAS"
   ]
  },
  {
   "cell_type": "markdown",
   "metadata": {
    "id": "joEpGj96KYtC"
   },
   "source": [
    "## Download and unpack example dataset"
   ]
  },
  {
   "cell_type": "code",
   "execution_count": null,
   "metadata": {
    "id": "xFqW-no-KZs9"
   },
   "outputs": [],
   "source": [
    "count = !ls | grep S1A_Stack_CPGF_T173.tar.gz | wc -l | tr -d ' '\n",
    "if count == ['0']:\n",
    "    print ('Downloading the example...')\n",
    "    !wget -c http://topex.ucsd.edu/gmtsar/tar/S1A_Stack_CPGF_T173.tar.gz\n",
    "    !tar xvzf S1A_Stack_CPGF_T173.tar.gz -C ."
   ]
  },
  {
   "cell_type": "markdown",
   "metadata": {
    "id": "Lpe4Oceoqm-2"
   },
   "source": [
    "## Define Parameters"
   ]
  },
  {
   "cell_type": "code",
   "execution_count": null,
   "metadata": {
    "id": "kc68VBz1qm-3"
   },
   "outputs": [],
   "source": [
    "MASTER       = '2015-04-03'\n",
    "WORKDIR      = 'raw'\n",
    "DATADIR      = 'raw_orig'\n",
    "DEMFILE      = 'topo/dem.grd'\n",
    "BASEDAYS     = 100\n",
    "BASEMETERS   = 150\n",
    "CORRLIMIT    = 0.10\n",
    "DEFOMAX      = 0"
   ]
  },
  {
   "cell_type": "markdown",
   "metadata": {
    "id": "4aEPNG3dqm-3"
   },
   "source": [
    "## Init SBAS\n",
    "\n",
    "Search recursively for measurement (.tiff) and annotation (.xml) and orbit (.EOF) files in the DATA directory. It can be directory with full unzipped scenes (.SAFE) subdirectories or just a directory with the list of pairs of required .tiff and .xml files (maybe pre-filtered for orbit, polarization and subswath to save disk space). If orbit files and DEM are missed these will be downloaded automatically below."
   ]
  },
  {
   "cell_type": "code",
   "execution_count": null,
   "metadata": {
    "colab": {
     "base_uri": "https://localhost:8080/",
     "height": 1000
    },
    "id": "NU1HVoGyqm-3",
    "outputId": "32d8ab63-c6ff-4044-c63b-4b2eb7184973"
   },
   "outputs": [],
   "source": [
    "# use DEM from the example\n",
    "sbas = SBAS(DATADIR, DEMFILE, WORKDIR).set_master(MASTER)\n",
    "sbas.to_dataframe()"
   ]
  },
  {
   "cell_type": "markdown",
   "metadata": {
    "id": "5xeustvoWLzu"
   },
   "source": [
    "### Interactive Plot\n",
    "\n",
    "Be careful because interactive plots require more RAM to be visualized\n",
    "\n",
    "The plots below do not work on Debian 10 and Python 3.7"
   ]
  },
  {
   "cell_type": "code",
   "execution_count": null,
   "metadata": {
    "id": "fITShF6YWLzu"
   },
   "outputs": [],
   "source": [
    "plots = None\n",
    "if platform.system() == 'Darwin':\n",
    "    opts_common = {'x':'lon', 'y':'lat', 'geo':True, 'width':800, 'height':400}\n",
    "    opts1 = {'tiles':gstiles, 'alpha':0.2, 'title': 'Sentinel1 Scenes Approximate Location'}\n",
    "    plots = sbas.to_dataframe().reset_index().hvplot(color='date', **{**opts_common, **opts1})\n",
    "plots"
   ]
  },
  {
   "cell_type": "markdown",
   "metadata": {
    "id": "6CBMHF0sqm-5"
   },
   "source": [
    "### Static Plots"
   ]
  },
  {
   "cell_type": "code",
   "execution_count": null,
   "metadata": {
    "colab": {
     "base_uri": "https://localhost:8080/",
     "height": 604
    },
    "id": "77M6U8I-qm-5",
    "outputId": "b610d9e1-2c04-42ba-a630-cfe5c5f8b692"
   },
   "outputs": [],
   "source": [
    "plt.figure(figsize=(12,4), dpi=150)\n",
    "dem = sbas.get_dem()[::4,::4]\n",
    "dem.plot.imshow(cmap='gray', vmin=dem.min(), vmax=dem.max())\n",
    "sbas.to_dataframe().plot(color='orange', alpha=0.2, ax=plt.gca())\n",
    "plt.title('Sentinel1 Frame on DEM', fontsize=18)\n",
    "plt.show()"
   ]
  },
  {
   "cell_type": "markdown",
   "metadata": {
    "id": "Ssfl4MzIqm-6"
   },
   "source": [
    "### Interactive Plot\n",
    "\n",
    "Be careful because interactive plots require more RAM to be visualized\n",
    "\n",
    "The plots below do not work on Debian 10 and Python 3.7"
   ]
  },
  {
   "cell_type": "code",
   "execution_count": null,
   "metadata": {
    "id": "nOBNCwevWLzv"
   },
   "outputs": [],
   "source": [
    "plots = None\n",
    "if platform.system() == 'Darwin':\n",
    "    title = 'Subswath Topo'\n",
    "    opts_common = {'x':'lon', 'y':'lat', 'geo':True, 'width':800, 'height':400}\n",
    "    plots = sbas.get_dem()[::4,::4].hvplot(cmap='gray', alpha=1, title=title, **opts_common) \\\n",
    "        * sbas.to_dataframe().reset_index().hvplot(color='date', alpha=0.2, **opts_common)\n",
    "plots"
   ]
  },
  {
   "cell_type": "markdown",
   "metadata": {
    "id": "Wd3vZtFCqm-8"
   },
   "source": [
    "## Align a Stack of Images"
   ]
  },
  {
   "cell_type": "code",
   "execution_count": null,
   "metadata": {
    "colab": {
     "base_uri": "https://localhost:8080/",
     "height": 81,
     "referenced_widgets": [
      "db96d6ca022f4fb0bb1a1eb7ec9c1383",
      "6fc03065b4dd4b6089b4eedf92d2e536",
      "0486083eb46b4756ba2ec88f84ce911b",
      "a0684861105d4ada8424dcf52a5a5f2a",
      "41b9bbf16bd84245aac8289d2b5eca7e",
      "03c97efa0121469bb956de36d05a5653",
      "971599c811754f308fc55cd3c08a3792",
      "2c76736fac7a43b7b345d0e3115abbc1",
      "87bdcb527b944558965e2263faaa8230",
      "19e69d39ad8d4979a8c0963b2bee834a",
      "6460e8dcb470418ea48f074d447d121a",
      "79369c2fe064464c82887cb36cdc58d5",
      "aca10383eb8c4a55b6824a150dea4d8c",
      "b71b702743004773b1a9c8d628d4df15",
      "1813fdfb967e4f9dbecfc504e837fcd2",
      "70923d5bce834571ae9ef2cfb31b0783",
      "6eef632cc4454f5aa9967ef1a617aff9",
      "fac73d45494f47788b7419de26ac6343",
      "ac2342bceda74b75b76a12fc6f8252f2",
      "457b3282740c4248a39791a1f9daf8fe",
      "dfa0b067974649f4b485d2e6d6eb38b4",
      "4eea2ac68a3a4bd5883e38fe818cc5d0"
     ]
    },
    "id": "J7hu_zB2qm-9",
    "outputId": "6553af2d-121b-4eab-da8e-639395a59535"
   },
   "outputs": [],
   "source": [
    "sbas.stack_parallel()"
   ]
  },
  {
   "cell_type": "markdown",
   "metadata": {
    "id": "7_uLoZo-qm-9"
   },
   "source": [
    "## SBAS Baseline"
   ]
  },
  {
   "cell_type": "code",
   "execution_count": null,
   "metadata": {
    "colab": {
     "base_uri": "https://localhost:8080/",
     "height": 328
    },
    "id": "HCUL5sCOqm--",
    "outputId": "3383da3c-d5b2-43c5-8819-ad0e52610294"
   },
   "outputs": [],
   "source": [
    "baseline_pairs = sbas.baseline_pairs(days=BASEDAYS, meters=BASEMETERS)\n",
    "baseline_pairs"
   ]
  },
  {
   "cell_type": "markdown",
   "metadata": {
    "id": "aY5Bkkwhqm--"
   },
   "source": [
    "### Static Plot"
   ]
  },
  {
   "cell_type": "code",
   "execution_count": null,
   "metadata": {
    "colab": {
     "base_uri": "https://localhost:8080/",
     "height": 409
    },
    "id": "YIzBR5Kzqm--",
    "outputId": "dc272bb2-e821-41c4-e101-57de67981511"
   },
   "outputs": [],
   "source": [
    "plt.figure(figsize=(12,4), dpi=300)\n",
    "ax = plt.gca()\n",
    "\n",
    "lines = [[(row.ref_timeline,row.ref_baseline),(row.rep_timeline,row.rep_baseline)]\n",
    "         for row in baseline_pairs.itertuples()]\n",
    "lc = matplotlib.collections.LineCollection(lines, colors='#30a2da', linewidths=0.5)\n",
    "ax.add_collection(lc)\n",
    "ax.autoscale()\n",
    "ax.margins(0.5)\n",
    "bs1 = baseline_pairs[['ref_timeline','ref_baseline','ref_date']].values\n",
    "bs2 = baseline_pairs[['rep_timeline','rep_baseline','rep_date']].values\n",
    "df = pd.DataFrame(np.concatenate([bs1, bs2]), columns=['timeline','baseline','date']).drop_duplicates()\n",
    "plt.scatter(x=df.timeline, y=df.baseline)\n",
    "for x,y,label in df.values:\n",
    "    plt.annotate(label, (x,y), textcoords=\"offset points\", xytext=(35,3), ha='center',\n",
    "                 c='red' if label == MASTER else 'black')\n",
    "ax.set_xlabel('Timeline', fontsize=16)\n",
    "ax.set_ylabel('Perpendicular Baseline, [m]', fontsize=16)\n",
    "ax.set_title('SBAS Baseline', fontsize=18)\n",
    "plt.show()"
   ]
  },
  {
   "cell_type": "markdown",
   "metadata": {
    "id": "ELlUm2gYqm-_"
   },
   "source": [
    "## DEM in Radar Coordinates"
   ]
  },
  {
   "cell_type": "code",
   "execution_count": null,
   "metadata": {
    "colab": {
     "base_uri": "https://localhost:8080/",
     "height": 49,
     "referenced_widgets": [
      "0c315a3004cd4de0a2b950dadf8c122d",
      "bff2dcc3a5334fea81642efae6e11806",
      "9e0c5ac1f8044cc8946d6574f2f0f9ca",
      "85984b9e91e640269a2a74d712e0a517",
      "30a3898fffbd40f2a8a3d6ebf048f288",
      "7e490447809442329589b20196e721e5",
      "379b0520ae7d49e98196a274a050aa2f",
      "c6752e591a854e2690fdca166770e881",
      "ee94bd794aec41d8b29f5341cedfda61",
      "6417706a93964182bb0a14e360a93c18",
      "7920a2aff13f4b309ac52bdabd9fb971"
     ]
    },
    "id": "2oLRAcmXqm-_",
    "outputId": "ab286d4f-ba84-4942-d7ad-b338c262e148"
   },
   "outputs": [],
   "source": [
    "sbas.topo_ra_parallel()"
   ]
  },
  {
   "cell_type": "markdown",
   "metadata": {
    "id": "OsJgYeuzqm-_"
   },
   "source": [
    "### Load Grids\n",
    "\n",
    "The grids are NetCDF files processing as xarray DataArrays."
   ]
  },
  {
   "cell_type": "code",
   "execution_count": null,
   "metadata": {
    "id": "lgHdx6Ufqm-_"
   },
   "outputs": [],
   "source": [
    "topo_ra = sbas.open_grid('topo_ra')"
   ]
  },
  {
   "cell_type": "markdown",
   "metadata": {
    "id": "5Z6H88cTqm_A"
   },
   "source": [
    "### Static Plot"
   ]
  },
  {
   "cell_type": "code",
   "execution_count": null,
   "metadata": {
    "colab": {
     "base_uri": "https://localhost:8080/",
     "height": 434
    },
    "id": "76f9T1vpqm_A",
    "outputId": "20400487-23db-4308-ed60-b5b9bb05c4c6"
   },
   "outputs": [],
   "source": [
    "plt.figure(figsize=(12,4), dpi=300)\n",
    "topo = topo_ra[::4,::4]\n",
    "topo.plot.imshow(cmap='gray', vmin=topo.min(), vmax=topo.max())\n",
    "plt.xlabel('Range', fontsize=16)\n",
    "plt.ylabel('Azimuth', fontsize=16)\n",
    "plt.title('Topography in Radar Coordinates', fontsize=18)\n",
    "plt.show()"
   ]
  },
  {
   "cell_type": "markdown",
   "metadata": {
    "id": "y_aoxyc5qm_A"
   },
   "source": [
    "### Interactive Plot\n",
    "\n",
    "Be careful because interactive plots require more RAM to be visualized\n",
    "\n",
    "The plots below do not work on Debian 10 and Python 3.7"
   ]
  },
  {
   "cell_type": "code",
   "execution_count": null,
   "metadata": {
    "id": "4B7Amc3Rqm_B"
   },
   "outputs": [],
   "source": [
    "plots = None\n",
    "if platform.system() == 'Darwin':\n",
    "    plot_opts = {'rasterize': True, 'xlabel':'Range', 'ylabel':'Azimuth', 'width':500, 'height':400}\n",
    "    plots = topo_ra[::4,::4].hvplot(cmap='gray', title='Topography in Radar Coordinates', **plot_opts)\n",
    "plots"
   ]
  },
  {
   "cell_type": "markdown",
   "metadata": {
    "id": "o3-p274dqm_B"
   },
   "source": [
    "## Interferograms\n",
    "\n",
    "Define a single interferogram or a SBAS series. Make direct and reverse interferograms (from past to future or from future to past).\n",
    "\n",
    "Decimation is useful to save disk space. Geocoding results are always produced on the provided DEM grid so the output grid and resolution are the same to the DEM. By this way, ascending and descending orbit results are always defined on the same grid by design. The internal processing cells is about 15 x 15 meters size and for default output 60m resolution (like to GMTSAR and GAMMA software) decimation 4x4 is reasonable. For the default wavelength=200 for Gaussian filter 1/4 of wavelength is approximately equal to ~60 meters and better resolution is mostly useless (while it can be used for small objects detection). For wavelength=400 meters use 90m or 120m DEM resolution with decimation 6x6 or 8x8 and for wavelength=100 meters use decimation 2x2.\n",
    "\n",
    "The grids are NetCDF files processing as xarray DataArrays."
   ]
  },
  {
   "cell_type": "code",
   "execution_count": null,
   "metadata": {
    "colab": {
     "base_uri": "https://localhost:8080/",
     "height": 328
    },
    "id": "ZRk0eDihqm_C",
    "outputId": "fb6ff4fb-1291-48d5-ded8-df00d7600278"
   },
   "outputs": [],
   "source": [
    "pairs = baseline_pairs[['ref_date', 'rep_date']]\n",
    "pairs"
   ]
  },
  {
   "cell_type": "code",
   "execution_count": null,
   "metadata": {
    "colab": {
     "base_uri": "https://localhost:8080/",
     "height": 49,
     "referenced_widgets": [
      "93a0744851504776b0aec01f69eda7f0",
      "de32f6709b714bbe953766d42e2ebbbb",
      "5fae41400b9546cbb5d7f04288bc1263",
      "5ff79854e4de499fb54b1729dcd2063b",
      "f647ccd962ef4231847725b3ff709cb9",
      "65912b8e2ecf4b06a5eed1b4f313ab64",
      "f13b72d07e5f4a549bfd4963b0c6a9be",
      "be66ea2be1b6487098bb4babe9e2f81f",
      "45ffa5acf44840b98ae49395a35706cb",
      "9b791e958bda4eeab155e7729b1b9dc7",
      "0754ffcaeb7a437596d4cf2a4bd45d7c"
     ]
    },
    "id": "cF2Xbp_sqm_C",
    "outputId": "b71b96cf-d1d1-47e1-f03a-4178c594d4a1"
   },
   "outputs": [],
   "source": [
    "# miss optional \"func\" argument when post-processing is not required\n",
    "# define a postprocessing function for decimation as func=decimator\n",
    "# for 30m DEM use decimation x=2, y=2 (is equal to GMTSAR rdec=8, adec=2) or 4x4 for 60m DEM\n",
    "decimator = lambda dataarray: dataarray.coarsen({'y': 8, 'x': 8}, boundary='trim').median()\n",
    "\n",
    "# default parameters: wavelength=200, psize=32, func=None (no postprocessing)\n",
    "sbas.intf_parallel(pairs, wavelength=400, func=decimator)"
   ]
  },
  {
   "cell_type": "markdown",
   "metadata": {
    "id": "IxTU1Lc0qm_D"
   },
   "source": [
    "### Load Grids\n",
    "\n",
    "The grids can be cropped automatically to drop empty areas around valid area (use crop_valid=True). On-the fly geocoding from radar to geographic coordinates is possible by geocode=True.\n",
    "\n",
    "The grids are NetCDF files in radar coordinates processing as xarray DataArrays."
   ]
  },
  {
   "cell_type": "code",
   "execution_count": null,
   "metadata": {
    "id": "Nu5uAWdDqm_E"
   },
   "outputs": [],
   "source": [
    "phasefilts = sbas.open_grids(pairs, 'phasefilt')\n",
    "phasefilts_ll = sbas.open_grids(pairs, 'phasefilt', geocode=True)"
   ]
  },
  {
   "cell_type": "markdown",
   "metadata": {
    "id": "a_0CE6Acqm_E"
   },
   "source": [
    "### Static Plots"
   ]
  },
  {
   "cell_type": "code",
   "execution_count": null,
   "metadata": {
    "colab": {
     "base_uri": "https://localhost:8080/",
     "height": 913
    },
    "id": "eG1cKW8Iqm_F",
    "outputId": "e621caf5-4450-4cc9-bb97-08fa63dc8624"
   },
   "outputs": [],
   "source": [
    "fg = phasefilts.plot.imshow(\n",
    "    col=\"pair\",\n",
    "    col_wrap=3, size=4, aspect=1.2,\n",
    "    vmin=-np.pi, vmax=np.pi, cmap='gist_rainbow_r'\n",
    ")\n",
    "fg.set_axis_labels(x_var='Range', y_var='Azimuth')\n",
    "fg.set_ticks(max_xticks=5, max_yticks=5, fontsize='medium')\n",
    "fg.fig.suptitle('Filtered Phase, [rad]', y=1.05, fontsize=24)\n",
    "plt.show()"
   ]
  },
  {
   "cell_type": "markdown",
   "metadata": {
    "id": "o6crGfCTqm_G"
   },
   "source": [
    "### Interactive Plot\n",
    "\n",
    "Be careful because interactive plots require more RAM to be visualized\n",
    "\n",
    "The plots below do not work on Debian 10 and Python 3.7"
   ]
  },
  {
   "cell_type": "code",
   "execution_count": null,
   "metadata": {
    "id": "bkGKUbvzqm_G"
   },
   "outputs": [],
   "source": [
    "plots = None\n",
    "if platform.system() == 'Darwin':\n",
    "    plots = phasefilts\\\n",
    "    .hvplot(by='pair', width=320, height=280, subplots=True,\n",
    "            xlabel='Range', ylabel='Azimuth',\n",
    "            clim=(-np.pi,np.pi), cmap='gist_rainbow_r')\\\n",
    "    .cols(3).opts(title='Filtered Phase, [rad]')\n",
    "plots"
   ]
  },
  {
   "cell_type": "markdown",
   "metadata": {
    "id": "h817VQYGqm_G"
   },
   "source": [
    "### Load Grids\n",
    "\n",
    "The grids can be cropped automatically to drop empty areas around valid area (use crop_valid=True). On-the fly geocoding from radar to geographic coordinates is possible by geocode=True.\n",
    "\n",
    "The grids are NetCDF files in radar coordinates processing as xarray DataArrays."
   ]
  },
  {
   "cell_type": "code",
   "execution_count": null,
   "metadata": {
    "id": "n1-bpq4eqm_G"
   },
   "outputs": [],
   "source": [
    "corrs = sbas.open_grids(pairs, 'corr')"
   ]
  },
  {
   "cell_type": "markdown",
   "metadata": {
    "id": "QmnQoOQLqm_H"
   },
   "source": [
    "### Static Plots"
   ]
  },
  {
   "cell_type": "code",
   "execution_count": null,
   "metadata": {
    "colab": {
     "base_uri": "https://localhost:8080/",
     "height": 912
    },
    "id": "YT5L_TQgqm_H",
    "outputId": "75e185da-152d-4bf9-ce55-8ca51282257a"
   },
   "outputs": [],
   "source": [
    "fg = corrs.plot.imshow(\n",
    "    col=\"pair\",\n",
    "    col_wrap=3, size=4, aspect=1.2,\n",
    "    clim=(0, 0.8), cmap='gray'\n",
    ")\n",
    "fg.set_axis_labels(x_var='Range', y_var='Azimuth')\n",
    "fg.set_ticks(max_xticks=5, max_yticks=5, fontsize='medium')\n",
    "fg.fig.suptitle('Correlation', y=1.05, fontsize=24)\n",
    "plt.show()"
   ]
  },
  {
   "cell_type": "markdown",
   "metadata": {
    "id": "QzkG0Y-yqm_H"
   },
   "source": [
    "### Interactive Plot\n",
    "\n",
    "Be careful because interactive plots require more RAM to be visualized\n",
    "\n",
    "The plots below do not work on Debian 10 and Python 3.7"
   ]
  },
  {
   "cell_type": "code",
   "execution_count": null,
   "metadata": {
    "id": "HMPDVeWeqm_I"
   },
   "outputs": [],
   "source": [
    "plots = None\n",
    "if platform.system() == 'Darwin':\n",
    "    plots = corrs\\\n",
    "    .hvplot(by='pair', width=320, height=280, subplots=True,\n",
    "            xlabel='Range', ylabel='Azimuth',\n",
    "            clim=(0, 0.8), cmap='gray')\\\n",
    "    .cols(3).opts(title='Correlation')\n",
    "plots"
   ]
  },
  {
   "cell_type": "markdown",
   "metadata": {
    "id": "PmxypCSPqm_I"
   },
   "source": [
    "## Unwrapping\n",
    "\n",
    "Unwrapping process requires a lot of RAM and that's really RAM consuming when a lot of parallel proccesses running togeter. To limit the parallel processing tasks apply argument \"n_jobs\". The default value n_jobs=-1 means all the processor cores van be used. Also, use interferogram decimation above to produce smaller interferograms. And in addition a custom SNAPHU configuration can reduce RAM usage as explained below.\n",
    "\n",
    "Attention: in case of crash on MacOS Apple Silicon run Jupyter as\n",
    "\n",
    "`OBJC_DISABLE_INITIALIZE_FORK_SAFETY=YES no_proxy='*' jupyter notebook`"
   ]
  },
  {
   "cell_type": "markdown",
   "metadata": {
    "id": "coY3gGVHWLzy"
   },
   "source": [
    "### Unwrapping Post-Processing\n",
    "\n",
    "Define post-processing function to exclude low-coherence areas and maybe fill them by nearest neighbour interpolation."
   ]
  },
  {
   "cell_type": "code",
   "execution_count": null,
   "metadata": {
    "id": "8dihBsVoWLzy"
   },
   "outputs": [],
   "source": [
    "# define a post-processing function to crop low-coherence areas\n",
    "cleaner = lambda corr, unwrap: xr.where(corr>=CORRLIMIT, unwrap, np.nan)\n",
    "\n",
    "# define a post-processing function to crop and interpolate low-coherence areas\n",
    "#cleaner = lambda corr, unwrap: sbas.nearest_grid(xr.where(corr>=CORRLIMIT, unwrap, np.nan))"
   ]
  },
  {
   "cell_type": "code",
   "execution_count": null,
   "metadata": {
    "colab": {
     "base_uri": "https://localhost:8080/",
     "height": 49,
     "referenced_widgets": [
      "5ce7a35311564ec094f6140e3f4813b4",
      "57871b4d355d4001888a8c3e7db9ef1d",
      "168e1cb6fddb43108cda1f7fc200248a",
      "c62d05504443410a84f8c94190f10c7c",
      "33b10730a3564c85b8fae5ef7b2fc8cd",
      "a048925b17864393903fc7541e28a938",
      "1ee2c767c8fb4ebfa6ba6b8a60ea0ec2",
      "94a437ce22df4685891fac3f774ee66f",
      "236e9407e23e4a69be5595c93e4b62f5",
      "ef4f5c03955a4a74bd4fcf5bab52eb2c",
      "235f1c3fe1d04522a49ce3511c1514c8"
     ]
    },
    "id": "el8tGQJrqm_J",
    "outputId": "9cffef43-5b78-4be1-d44f-cdbedba44018"
   },
   "outputs": [],
   "source": [
    "# default parameters: threshold=0.1, conf=None, func=None (no postprocessing required)\n",
    "sbas.unwrap_parallel(pairs, threshold=CORRLIMIT, func=cleaner)"
   ]
  },
  {
   "cell_type": "markdown",
   "metadata": {
    "id": "xol2hM0qqm_J"
   },
   "source": [
    "### Load Grid\n",
    "\n",
    "The grids can be cropped automatically to drop empty areas around valid area. Use `open_grids(..., crop_valid=True)` to enable the auto cropping feature. Argument geocode=True means on-the-fly geocoding from radar to geographic coordinates (all the grids saved on disk in radar coordinates plus geocoding matrices are generated for the fast geocoding)."
   ]
  },
  {
   "cell_type": "code",
   "execution_count": null,
   "metadata": {
    "id": "z5A3Ya8rqm_K"
   },
   "outputs": [],
   "source": [
    "unwraps = sbas.open_grids(pairs, 'unwrap')"
   ]
  },
  {
   "cell_type": "markdown",
   "metadata": {
    "id": "Qokjt2ddqm_K"
   },
   "source": [
    "### Static Plots"
   ]
  },
  {
   "cell_type": "code",
   "execution_count": null,
   "metadata": {
    "colab": {
     "base_uri": "https://localhost:8080/",
     "height": 916
    },
    "id": "kcfHx5_Iqm_L",
    "outputId": "4d771c8d-de76-4517-e9b2-013adcd17aa2"
   },
   "outputs": [],
   "source": [
    "zmin, zmax = np.nanquantile(unwraps, [0.01, 0.99])\n",
    "fg = unwraps.plot.imshow(\n",
    "    col=\"pair\",\n",
    "    col_wrap=3, size=4, aspect=1.2,\n",
    "    vmin=zmin, vmax=zmax, cmap='jet'\n",
    ")\n",
    "fg.set_axis_labels(x_var='Range', y_var='Azimuth')\n",
    "fg.set_ticks(max_xticks=5, max_yticks=5, fontsize='medium')\n",
    "fg.fig.suptitle('Unwrapped Phase, [rad]', y=1.05, fontsize=24)\n",
    "plt.show()"
   ]
  },
  {
   "cell_type": "markdown",
   "metadata": {
    "id": "SqO8oNZQqm_M"
   },
   "source": [
    "### Interactive Plot\n",
    "\n",
    "Be careful because interactive plots require more RAM to be visualized\n",
    "\n",
    "The plots below do not work on Debian 10 and Python 3.7"
   ]
  },
  {
   "cell_type": "code",
   "execution_count": null,
   "metadata": {
    "id": "TLzxeaxBqm_M"
   },
   "outputs": [],
   "source": [
    "plots = None\n",
    "if platform.system() == 'Darwin':\n",
    "    plots = unwraps\\\n",
    "    .hvplot(by='pair', width=320, height=280, subplots=True, cmap='turbo',\n",
    "            xlabel='Range', ylabel='Azimuth',\n",
    "            clim=tuple(np.nanquantile(unwraps, [0.01, 0.99])))\\\n",
    "    .cols(3).opts(title='Unwrapped Phase, [rad]')\n",
    "plots"
   ]
  },
  {
   "cell_type": "markdown",
   "metadata": {
    "id": "qdPdim9pqm_M"
   },
   "source": [
    "## LOS Displacement"
   ]
  },
  {
   "cell_type": "markdown",
   "metadata": {
    "id": "SNi5mWePqm_N"
   },
   "source": [
    "### Load and Calculate Grid\n",
    "\n",
    "The grids can be post-processed using user-defined function \"func\". SBAS function `los_displacement_mm()` converts unwrapped phase values to LOS displacement in millimeters."
   ]
  },
  {
   "cell_type": "code",
   "execution_count": null,
   "metadata": {
    "id": "NBriiXGNqm_N"
   },
   "outputs": [],
   "source": [
    "los_disp_mm = sbas.open_grids(pairs, 'unwrap', func=sbas.los_displacement_mm)"
   ]
  },
  {
   "cell_type": "markdown",
   "metadata": {
    "id": "dNNPGxscqm_N"
   },
   "source": [
    "### Static Plots"
   ]
  },
  {
   "cell_type": "code",
   "execution_count": null,
   "metadata": {
    "colab": {
     "base_uri": "https://localhost:8080/",
     "height": 911
    },
    "id": "jWOrupw0qm_N",
    "outputId": "045e4924-d47b-4ce4-ec33-f6d09e547663"
   },
   "outputs": [],
   "source": [
    "zmin, zmax = np.nanquantile(los_disp_mm, [0.01, 0.99])\n",
    "fg = los_disp_mm.plot.imshow(\n",
    "    col=\"pair\",\n",
    "    col_wrap=3, size=4, aspect=1.2,\n",
    "    vmin=zmin, vmax=zmax, cmap='jet'\n",
    ")\n",
    "fg.set_axis_labels(x_var='Range', y_var='Azimuth')\n",
    "fg.set_ticks(max_xticks=5, max_yticks=5, fontsize='medium')\n",
    "fg.fig.suptitle('LOS Displacement, [mm]', y=1.05, fontsize=24)\n",
    "plt.show()"
   ]
  },
  {
   "cell_type": "markdown",
   "metadata": {
    "id": "xc9QhEphqm_O"
   },
   "source": [
    "### Interactive Plot\n",
    "\n",
    "Be careful because interactive plots require more RAM to be visualized\n",
    "\n",
    "The plots below do not work on Debian 10 and Python 3.7"
   ]
  },
  {
   "cell_type": "code",
   "execution_count": null,
   "metadata": {
    "id": "ARAmc37Dqm_O"
   },
   "outputs": [],
   "source": [
    "plots = None\n",
    "if platform.system() == 'Darwin':\n",
    "    plots = los_disp_mm\\\n",
    "    .hvplot(by='pair', width=320, height=280, subplots=True, cmap='turbo',\n",
    "            xlabel='Range', ylabel='Azimuth',\n",
    "            clim=tuple(np.nanquantile(los_disp_mm, [0.01, 0.99])))\\\n",
    "    .cols(3).opts(title='LOS Displacement, [mm]')\n",
    "plots"
   ]
  },
  {
   "cell_type": "markdown",
   "metadata": {
    "id": "orujCbI5qm_O"
   },
   "source": [
    "### Geocoding\n",
    "\n",
    "PyGMTSAR provides a different approach to geocoding - it's a fast matrix operation on a radar-coordinates NetCDF grids stored on disk. By this way, geocoding is very easy and fast - just provide option geocode=True to open the grids."
   ]
  },
  {
   "cell_type": "code",
   "execution_count": null,
   "metadata": {
    "id": "8bSwM_gGqm_O"
   },
   "outputs": [],
   "source": [
    "los_disp_mm_ll = sbas.open_grids(pairs, 'unwrap', geocode=True, func=sbas.los_displacement_mm)"
   ]
  },
  {
   "cell_type": "markdown",
   "metadata": {
    "id": "fR_XbAmTqm_P"
   },
   "source": [
    "### Static Plots"
   ]
  },
  {
   "cell_type": "code",
   "execution_count": null,
   "metadata": {
    "colab": {
     "base_uri": "https://localhost:8080/",
     "height": 923
    },
    "id": "CrGJYc7nqm_P",
    "outputId": "eba4808f-349a-492d-856f-6d5fec0fe2b1"
   },
   "outputs": [],
   "source": [
    "zmin, zmax = np.nanquantile(los_disp_mm_ll, [0.01, 0.99])\n",
    "fg = los_disp_mm_ll.plot.imshow(\n",
    "    col=\"pair\",\n",
    "    col_wrap=3, size=4, aspect=1.2,\n",
    "    vmin=zmin, vmax=zmax, cmap='jet'\n",
    ")\n",
    "fg.set_ticks(max_xticks=5, max_yticks=5, fontsize='medium')\n",
    "fg.fig.suptitle('LOS Displacement in Geographic Coordinates, [mm]', y=1.05, fontsize=24)\n",
    "plt.show()"
   ]
  },
  {
   "cell_type": "markdown",
   "metadata": {
    "id": "GTXrwWYCqm_Q"
   },
   "source": [
    "## SBAS Displacement and Velocity"
   ]
  },
  {
   "cell_type": "code",
   "execution_count": null,
   "metadata": {
    "colab": {
     "base_uri": "https://localhost:8080/",
     "height": 328
    },
    "id": "IzMcX8gzWLz0",
    "outputId": "9dfb4b9a-5d7c-430a-8de4-d786209a8687"
   },
   "outputs": [],
   "source": [
    "baseline_pairs"
   ]
  },
  {
   "cell_type": "code",
   "execution_count": null,
   "metadata": {
    "id": "ZmYt30iYqm_Q"
   },
   "outputs": [],
   "source": [
    "sbas.sbas(baseline_pairs, smooth=1)"
   ]
  },
  {
   "cell_type": "markdown",
   "metadata": {
    "id": "E0yVshepqm_Q"
   },
   "source": [
    "### Load Displacement Grids with Interpolation and Geocoding\n",
    "\n",
    "As geocoding the interpolation is too just a option to open the radar-coordinates NetCDF grids."
   ]
  },
  {
   "cell_type": "code",
   "execution_count": null,
   "metadata": {
    "id": "a3zDhHyRqm_R"
   },
   "outputs": [],
   "source": [
    "disps = sbas.open_grids(sbas.df.index, 'disp', add_subswath=False)\n",
    "disps_ll = sbas.open_grids(sbas.df.index, 'disp', geocode=True,\n",
    "                           func=sbas.nearest_grid, mask=phasefilts_ll.min('pair'), add_subswath=False)"
   ]
  },
  {
   "cell_type": "markdown",
   "metadata": {
    "id": "dy61dvCWqm_S"
   },
   "source": [
    "### Static Plots"
   ]
  },
  {
   "cell_type": "code",
   "execution_count": null,
   "metadata": {
    "colab": {
     "base_uri": "https://localhost:8080/",
     "height": 651
    },
    "id": "uZuMDhfZqm_S",
    "outputId": "78d8090b-4afc-4c15-bd5d-54a2d108b90c"
   },
   "outputs": [],
   "source": [
    "zmin, zmax = np.nanquantile(disps, [0.01, 0.99])\n",
    "fg = disps.plot.imshow(\n",
    "    col=\"date\",\n",
    "    col_wrap=3, size=4, aspect=1.2,\n",
    "    vmin=zmin, vmax=zmax, cmap='jet'\n",
    ")\n",
    "fg.set_axis_labels(x_var='Range', y_var='Azimuth')\n",
    "fg.set_ticks(max_xticks=5, max_yticks=5, fontsize='medium')\n",
    "fg.fig.suptitle('SBAS LOS Displacement, [mm]', y=1.1, fontsize=24)\n",
    "plt.show()"
   ]
  },
  {
   "cell_type": "code",
   "execution_count": null,
   "metadata": {
    "colab": {
     "base_uri": "https://localhost:8080/",
     "height": 654
    },
    "id": "Q1XynpwsWLz0",
    "outputId": "dc6b9730-f56d-4707-e01d-bdf116a5cacb"
   },
   "outputs": [],
   "source": [
    "zmin, zmax = np.nanquantile(disps_ll, [0.01, 0.99])\n",
    "fg = disps_ll.plot.imshow(\n",
    "    col=\"date\",\n",
    "    col_wrap=3, size=4, aspect=1.2,\n",
    "    vmin=zmin, vmax=zmax, cmap='jet'\n",
    ")\n",
    "fg.set_ticks(max_xticks=5, max_yticks=5, fontsize='medium')\n",
    "fg.fig.suptitle('SBAS LOS Displacement in Geographic Coordinates, [mm]', y=1.1, fontsize=24)\n",
    "plt.show()"
   ]
  },
  {
   "cell_type": "markdown",
   "metadata": {
    "id": "e6earFwZqm_T"
   },
   "source": [
    "### Load Velocity Grids with Interpolation and Geocoding\n",
    "\n",
    "SBAS processing is based on GMTSAR function wich doesn't support PyGMTSAR files naming and so use option add_subswath=False to fix it."
   ]
  },
  {
   "cell_type": "code",
   "execution_count": null,
   "metadata": {
    "id": "u6d4CTKtqm_U"
   },
   "outputs": [],
   "source": [
    "vel = sbas.open_grid('vel', add_subswath=False)\n",
    "vel_ll = sbas.open_grid('vel', geocode=True, add_subswath=False)\n",
    "# interpolate low-coherency areas and mask not valid pixels\n",
    "vel_filled = sbas.open_grid('vel', func=sbas.nearest_grid, mask=phasefilts.min('pair'), add_subswath=False)\n",
    "vel_filled_ll = sbas.open_grid('vel', geocode=True,\n",
    "                               func=sbas.nearest_grid, mask=phasefilts_ll.min('pair'), add_subswath=False)"
   ]
  },
  {
   "cell_type": "markdown",
   "metadata": {
    "id": "aAZx72tdqm_U"
   },
   "source": [
    "### Static Plots"
   ]
  },
  {
   "cell_type": "code",
   "execution_count": null,
   "metadata": {
    "colab": {
     "base_uri": "https://localhost:8080/",
     "height": 766
    },
    "id": "6YPK0n9GWLz1",
    "outputId": "dcbc17a3-9686-459f-a113-92449b8d5eae"
   },
   "outputs": [],
   "source": [
    "fig, ((ax1, ax2), (ax3, ax4)) = plt.subplots(2, 2, figsize=(12, 8), dpi=300)\n",
    "zmin, zmax = np.nanquantile(vel, [0.01, 0.995])\n",
    "vel.plot(vmin=zmin, vmax=zmax, cmap='jet', ax=ax1)\n",
    "zmin, zmax = np.nanquantile(vel_ll, [0.01, 0.995])\n",
    "vel_ll.plot(vmin=zmin, vmax=zmax, cmap='jet', ax=ax2)\n",
    "zmin, zmax = np.nanquantile(vel_filled, [0.01, 0.995])\n",
    "vel_filled.plot(vmin=zmin, vmax=zmax, cmap='jet', ax=ax3)\n",
    "zmin, zmax = np.nanquantile(vel_filled_ll, [0.01, 0.995])\n",
    "vel_filled_ll.plot(vmin=zmin, vmax=zmax, cmap='jet', ax=ax4)\n",
    "ax1.set_title('Radar Coordinates', fontsize=16)\n",
    "ax2.set_title('Geographic Coordinates', fontsize=16)\n",
    "plt.suptitle('SBAS Velocity, [mm/year]', fontsize=18)\n",
    "plt.show()"
   ]
  },
  {
   "cell_type": "markdown",
   "metadata": {
    "id": "JNXtQFYAqm_V"
   },
   "source": [
    "### Interactive Plot\n",
    "\n",
    "Be careful because interactive plots require more RAM to be visualized\n",
    "\n",
    "The plots below do not work on Debian 10 and Python 3.7"
   ]
  },
  {
   "cell_type": "code",
   "execution_count": null,
   "metadata": {
    "id": "83joaMUPqm_W"
   },
   "outputs": [],
   "source": [
    "plots = None\n",
    "if platform.system() == 'Darwin':\n",
    "    zmin, zmax = np.nanquantile(vel_filled_ll, [0, 0.99])\n",
    "    opts_common = {'x':'lon', 'y':'lat', 'geo':True, 'width':330, 'height':280,\n",
    "                   'cmap':'turbo', 'colorbar':True, 'clim':(zmin, zmax)}\n",
    "    opts1 = {'tiles':gstiles, 'alpha':0.4, 'title':'Google Satellite'}\n",
    "    opts2 = {'tiles':ottiles, 'alpha':0.4, 'title':'OpenTopoMap'}\n",
    "    opts3 = {'tiles':False,   'alpha':1.4, 'title':'SBAS Velocity'}\n",
    "    plots = vel_filled_ll.hvplot(**{**opts_common, **opts1}).opts(xrotation=45) + \\\n",
    "    vel_filled_ll.hvplot(**{**opts_common, **opts2}).opts(xrotation=45) + \\\n",
    "    vel_filled_ll.hvplot(**{**opts_common, **opts3}).opts(xrotation=45)\n",
    "plots"
   ]
  },
  {
   "cell_type": "markdown",
   "metadata": {
    "id": "sXO46GK5qm_W"
   },
   "source": [
    "## Bonus: Quality Checks"
   ]
  },
  {
   "cell_type": "code",
   "execution_count": null,
   "metadata": {
    "colab": {
     "base_uri": "https://localhost:8080/",
     "height": 266
    },
    "id": "WWljcwJiqm_X",
    "outputId": "6aeb3aeb-d6f1-421c-8cc8-11453eb237a8"
   },
   "outputs": [],
   "source": [
    "baseline_triplets = sbas.pairs2triplets(baseline_pairs)\n",
    "baseline_triplets"
   ]
  },
  {
   "cell_type": "code",
   "execution_count": null,
   "metadata": {
    "colab": {
     "base_uri": "https://localhost:8080/",
     "height": 266
    },
    "id": "H-0pccG1qm_Y",
    "outputId": "f8164927-2c18-4642-e81e-12276d607387"
   },
   "outputs": [],
   "source": [
    "unwraps = sbas.open_grids(pairs, 'unwrap')\n",
    "triplets = SBAS.baseline_triplets_analysis(baseline_triplets, unwraps)\n",
    "triplets"
   ]
  },
  {
   "cell_type": "code",
   "execution_count": null,
   "metadata": {
    "colab": {
     "base_uri": "https://localhost:8080/",
     "height": 111
    },
    "id": "jKZLstntqm_Y",
    "outputId": "1e3ceeec-c63b-47bf-900f-a318b33566d5"
   },
   "outputs": [],
   "source": [
    "mask = lambda date: (triplets.A!=date)&(triplets.B!=date)&(triplets.C!=date)\n",
    "triplets_zeros = triplets[mask('2015-04-27')]\n",
    "triplets_zeros"
   ]
  },
  {
   "cell_type": "markdown",
   "metadata": {
    "id": "XOwgPwTHqm_Z"
   },
   "source": [
    "## Bonus: SBAS Displacement and Velocity for Quality Images"
   ]
  },
  {
   "cell_type": "code",
   "execution_count": null,
   "metadata": {
    "colab": {
     "base_uri": "https://localhost:8080/",
     "height": 204
    },
    "id": "MreX7z9Gqm_Z",
    "outputId": "ea852784-78f9-4250-83ed-475b75986104"
   },
   "outputs": [],
   "source": [
    "pairs_valid = sbas.triplets2pairs(triplets_zeros, baseline_pairs)\n",
    "pairs_valid"
   ]
  },
  {
   "cell_type": "code",
   "execution_count": null,
   "metadata": {
    "id": "-fS7_lvrqm_a"
   },
   "outputs": [],
   "source": [
    "sbas.sbas(pairs_valid)"
   ]
  },
  {
   "cell_type": "markdown",
   "metadata": {
    "id": "g_aemlQcqm_a"
   },
   "source": [
    "### Load Velocity Grids with Interpolation and Geocoding"
   ]
  },
  {
   "cell_type": "code",
   "execution_count": null,
   "metadata": {
    "id": "ROHj4mA0qm_a"
   },
   "outputs": [],
   "source": [
    "# trick: connection to the previous file cached, use new filename\n",
    "!mv {WORKDIR}/vel.grd {WORKDIR}/vel_quality.grd"
   ]
  },
  {
   "cell_type": "code",
   "execution_count": null,
   "metadata": {
    "id": "_ucrpCR7qm_c"
   },
   "outputs": [],
   "source": [
    "vel = sbas.open_grid('vel_quality', add_subswath=False)\n",
    "vel_ll = sbas.open_grid('vel_quality', geocode=True, add_subswath=False)\n",
    "# interpolate low-coherency areas and mask not valid pixels\n",
    "vel_filled = sbas.open_grid('vel_quality',\n",
    "                            func=sbas.nearest_grid, mask=phasefilts.min('pair'), add_subswath=False)\n",
    "vel_filled_ll = sbas.open_grid('vel_quality', geocode=True,\n",
    "                               func=sbas.nearest_grid, mask=phasefilts_ll.min('pair'), add_subswath=False)"
   ]
  },
  {
   "cell_type": "markdown",
   "metadata": {
    "id": "9V33vikLqm_c"
   },
   "source": [
    "### Static Plots"
   ]
  },
  {
   "cell_type": "code",
   "execution_count": null,
   "metadata": {
    "colab": {
     "base_uri": "https://localhost:8080/",
     "height": 766
    },
    "id": "YiuFVbrrqm_d",
    "outputId": "16d3272a-0f58-4524-99fc-014a26877d2e"
   },
   "outputs": [],
   "source": [
    "fig, ((ax1, ax2), (ax3, ax4)) = plt.subplots(2, 2, figsize=(12, 8), dpi=300)\n",
    "zmin, zmax = np.nanquantile(vel, [0.01, 0.995])\n",
    "vel.plot(vmin=zmin, vmax=zmax, cmap='jet', ax=ax1)\n",
    "zmin, zmax = np.nanquantile(vel_ll, [0.01, 0.995])\n",
    "vel_ll.plot(vmin=zmin, vmax=zmax, cmap='jet', ax=ax2)\n",
    "zmin, zmax = np.nanquantile(vel_filled, [0.01, 0.995])\n",
    "vel_filled.plot(vmin=zmin, vmax=zmax, cmap='jet', ax=ax3)\n",
    "zmin, zmax = np.nanquantile(vel_filled_ll, [0.01, 0.995])\n",
    "vel_filled_ll.plot(vmin=zmin, vmax=zmax, cmap='jet', ax=ax4)\n",
    "ax1.set_title('Radar Coordinates', fontsize=16)\n",
    "ax2.set_title('Geographic Coordinates', fontsize=16)\n",
    "plt.suptitle('SBAS Velocity, [mm/year]', fontsize=18)\n",
    "plt.show()"
   ]
  },
  {
   "cell_type": "markdown",
   "metadata": {
    "id": "VfnHpzMNqm_d"
   },
   "source": [
    "### Interactive Plot\n",
    "\n",
    "Be careful because interactive plots require more RAM to be visualized\n",
    "\n",
    "The plots below do not work on Debian 10 and Python 3.7"
   ]
  },
  {
   "cell_type": "code",
   "execution_count": null,
   "metadata": {
    "id": "kUCZgkFpqm_d"
   },
   "outputs": [],
   "source": [
    "plots = None\n",
    "if platform.system() == 'Darwin':\n",
    "    zmin, zmax = np.nanquantile(vel_filled_ll, [0.01, 0.995])\n",
    "    opts_common = {'x':'lon', 'y':'lat', 'geo':True, 'width':330, 'height':280,\n",
    "                   'cmap':'turbo', 'colorbar':True, 'clim':(zmin, zmax)}\n",
    "    opts1 = {'tiles':gstiles, 'alpha':0.5, 'title':'Google Satellite'}\n",
    "    opts2 = {'tiles':ottiles, 'alpha':0.5, 'title':'OpenTopoMap'}\n",
    "    opts3 = {'tiles':False,   'alpha':1.0, 'title':'SBAS Velocity'}\n",
    "    plots = vel_filled_ll.hvplot(**{**opts_common, **opts1}).opts(xrotation=45) + \\\n",
    "    vel_filled_ll.hvplot(**{**opts_common, **opts2}).opts(xrotation=45) + \\\n",
    "    vel_filled_ll.hvplot(**{**opts_common, **opts3}).opts(xrotation=45)\n",
    "plots"
   ]
  },
  {
   "cell_type": "markdown",
   "metadata": {
    "id": "IQhRBleeWLz2"
   },
   "source": [
    "## Conclusion"
   ]
  },
  {
   "cell_type": "markdown",
   "metadata": {
    "id": "_LLWyt4AWLz2"
   },
   "source": [
    "For now you have the full control on interferometry processing and unwrapping and able to run it everywhere: on free of charge Google Colab instances, on local MacOS and Linux computers and on Amazon EC2 and Google Cloud VM and AI Notebook instances.\n",
    "    \n",
    "The original GMTSAR example processing is corrected to exclude too noisy images (due to atmospheric effects) and the SBAS result is better now."
   ]
  }
 ],
 "metadata": {
  "colab": {
   "collapsed_sections": [],
   "name": "S1A_Stack_CPGF_T173.ipynb",
   "provenance": []
  },
  "environment": {
   "name": "common-cpu.m80",
   "type": "gcloud",
   "uri": "gcr.io/deeplearning-platform-release/base-cpu:m80"
  },
  "kernelspec": {
   "display_name": "Python 3 (ipykernel)",
   "language": "python",
   "name": "python3"
  },
  "language_info": {
   "codemirror_mode": {
    "name": "ipython",
    "version": 3
   },
   "file_extension": ".py",
   "mimetype": "text/x-python",
   "name": "python",
   "nbconvert_exporter": "python",
   "pygments_lexer": "ipython3",
   "version": "3.9.13"
  },
  "widgets": {
   "application/vnd.jupyter.widget-state+json": {
    "03c97efa0121469bb956de36d05a5653": {
     "model_module": "@jupyter-widgets/base",
     "model_module_version": "1.2.0",
     "model_name": "LayoutModel",
     "state": {
      "_model_module": "@jupyter-widgets/base",
      "_model_module_version": "1.2.0",
      "_model_name": "LayoutModel",
      "_view_count": null,
      "_view_module": "@jupyter-widgets/base",
      "_view_module_version": "1.2.0",
      "_view_name": "LayoutView",
      "align_content": null,
      "align_items": null,
      "align_self": null,
      "border": null,
      "bottom": null,
      "display": null,
      "flex": null,
      "flex_flow": null,
      "grid_area": null,
      "grid_auto_columns": null,
      "grid_auto_flow": null,
      "grid_auto_rows": null,
      "grid_column": null,
      "grid_gap": null,
      "grid_row": null,
      "grid_template_areas": null,
      "grid_template_columns": null,
      "grid_template_rows": null,
      "height": null,
      "justify_content": null,
      "justify_items": null,
      "left": null,
      "margin": null,
      "max_height": null,
      "max_width": null,
      "min_height": null,
      "min_width": null,
      "object_fit": null,
      "object_position": null,
      "order": null,
      "overflow": null,
      "overflow_x": null,
      "overflow_y": null,
      "padding": null,
      "right": null,
      "top": null,
      "visibility": null,
      "width": null
     }
    },
    "0486083eb46b4756ba2ec88f84ce911b": {
     "model_module": "@jupyter-widgets/controls",
     "model_module_version": "1.5.0",
     "model_name": "FloatProgressModel",
     "state": {
      "_dom_classes": [],
      "_model_module": "@jupyter-widgets/controls",
      "_model_module_version": "1.5.0",
      "_model_name": "FloatProgressModel",
      "_view_count": null,
      "_view_module": "@jupyter-widgets/controls",
      "_view_module_version": "1.5.0",
      "_view_name": "ProgressView",
      "bar_style": "success",
      "description": "",
      "description_tooltip": null,
      "layout": "IPY_MODEL_2c76736fac7a43b7b345d0e3115abbc1",
      "max": 1,
      "min": 0,
      "orientation": "horizontal",
      "style": "IPY_MODEL_87bdcb527b944558965e2263faaa8230",
      "value": 1
     }
    },
    "0754ffcaeb7a437596d4cf2a4bd45d7c": {
     "model_module": "@jupyter-widgets/controls",
     "model_module_version": "1.5.0",
     "model_name": "DescriptionStyleModel",
     "state": {
      "_model_module": "@jupyter-widgets/controls",
      "_model_module_version": "1.5.0",
      "_model_name": "DescriptionStyleModel",
      "_view_count": null,
      "_view_module": "@jupyter-widgets/base",
      "_view_module_version": "1.2.0",
      "_view_name": "StyleView",
      "description_width": ""
     }
    },
    "0c315a3004cd4de0a2b950dadf8c122d": {
     "model_module": "@jupyter-widgets/controls",
     "model_module_version": "1.5.0",
     "model_name": "HBoxModel",
     "state": {
      "_dom_classes": [],
      "_model_module": "@jupyter-widgets/controls",
      "_model_module_version": "1.5.0",
      "_model_name": "HBoxModel",
      "_view_count": null,
      "_view_module": "@jupyter-widgets/controls",
      "_view_module_version": "1.5.0",
      "_view_name": "HBoxView",
      "box_style": "",
      "children": [
       "IPY_MODEL_bff2dcc3a5334fea81642efae6e11806",
       "IPY_MODEL_9e0c5ac1f8044cc8946d6574f2f0f9ca",
       "IPY_MODEL_85984b9e91e640269a2a74d712e0a517"
      ],
      "layout": "IPY_MODEL_30a3898fffbd40f2a8a3d6ebf048f288"
     }
    },
    "168e1cb6fddb43108cda1f7fc200248a": {
     "model_module": "@jupyter-widgets/controls",
     "model_module_version": "1.5.0",
     "model_name": "FloatProgressModel",
     "state": {
      "_dom_classes": [],
      "_model_module": "@jupyter-widgets/controls",
      "_model_module_version": "1.5.0",
      "_model_name": "FloatProgressModel",
      "_view_count": null,
      "_view_module": "@jupyter-widgets/controls",
      "_view_module_version": "1.5.0",
      "_view_name": "ProgressView",
      "bar_style": "success",
      "description": "",
      "description_tooltip": null,
      "layout": "IPY_MODEL_94a437ce22df4685891fac3f774ee66f",
      "max": 9,
      "min": 0,
      "orientation": "horizontal",
      "style": "IPY_MODEL_236e9407e23e4a69be5595c93e4b62f5",
      "value": 9
     }
    },
    "1813fdfb967e4f9dbecfc504e837fcd2": {
     "model_module": "@jupyter-widgets/controls",
     "model_module_version": "1.5.0",
     "model_name": "HTMLModel",
     "state": {
      "_dom_classes": [],
      "_model_module": "@jupyter-widgets/controls",
      "_model_module_version": "1.5.0",
      "_model_name": "HTMLModel",
      "_view_count": null,
      "_view_module": "@jupyter-widgets/controls",
      "_view_module_version": "1.5.0",
      "_view_name": "HTMLView",
      "description": "",
      "description_tooltip": null,
      "layout": "IPY_MODEL_dfa0b067974649f4b485d2e6d6eb38b4",
      "placeholder": "​",
      "style": "IPY_MODEL_4eea2ac68a3a4bd5883e38fe818cc5d0",
      "value": " 4/4 [04:56&lt;00:00, 60.66s/it]"
     }
    },
    "19e69d39ad8d4979a8c0963b2bee834a": {
     "model_module": "@jupyter-widgets/base",
     "model_module_version": "1.2.0",
     "model_name": "LayoutModel",
     "state": {
      "_model_module": "@jupyter-widgets/base",
      "_model_module_version": "1.2.0",
      "_model_name": "LayoutModel",
      "_view_count": null,
      "_view_module": "@jupyter-widgets/base",
      "_view_module_version": "1.2.0",
      "_view_name": "LayoutView",
      "align_content": null,
      "align_items": null,
      "align_self": null,
      "border": null,
      "bottom": null,
      "display": null,
      "flex": null,
      "flex_flow": null,
      "grid_area": null,
      "grid_auto_columns": null,
      "grid_auto_flow": null,
      "grid_auto_rows": null,
      "grid_column": null,
      "grid_gap": null,
      "grid_row": null,
      "grid_template_areas": null,
      "grid_template_columns": null,
      "grid_template_rows": null,
      "height": null,
      "justify_content": null,
      "justify_items": null,
      "left": null,
      "margin": null,
      "max_height": null,
      "max_width": null,
      "min_height": null,
      "min_width": null,
      "object_fit": null,
      "object_position": null,
      "order": null,
      "overflow": null,
      "overflow_x": null,
      "overflow_y": null,
      "padding": null,
      "right": null,
      "top": null,
      "visibility": null,
      "width": null
     }
    },
    "1ee2c767c8fb4ebfa6ba6b8a60ea0ec2": {
     "model_module": "@jupyter-widgets/controls",
     "model_module_version": "1.5.0",
     "model_name": "DescriptionStyleModel",
     "state": {
      "_model_module": "@jupyter-widgets/controls",
      "_model_module_version": "1.5.0",
      "_model_name": "DescriptionStyleModel",
      "_view_count": null,
      "_view_module": "@jupyter-widgets/base",
      "_view_module_version": "1.2.0",
      "_view_name": "StyleView",
      "description_width": ""
     }
    },
    "235f1c3fe1d04522a49ce3511c1514c8": {
     "model_module": "@jupyter-widgets/controls",
     "model_module_version": "1.5.0",
     "model_name": "DescriptionStyleModel",
     "state": {
      "_model_module": "@jupyter-widgets/controls",
      "_model_module_version": "1.5.0",
      "_model_name": "DescriptionStyleModel",
      "_view_count": null,
      "_view_module": "@jupyter-widgets/base",
      "_view_module_version": "1.2.0",
      "_view_name": "StyleView",
      "description_width": ""
     }
    },
    "236e9407e23e4a69be5595c93e4b62f5": {
     "model_module": "@jupyter-widgets/controls",
     "model_module_version": "1.5.0",
     "model_name": "ProgressStyleModel",
     "state": {
      "_model_module": "@jupyter-widgets/controls",
      "_model_module_version": "1.5.0",
      "_model_name": "ProgressStyleModel",
      "_view_count": null,
      "_view_module": "@jupyter-widgets/base",
      "_view_module_version": "1.2.0",
      "_view_name": "StyleView",
      "bar_color": null,
      "description_width": ""
     }
    },
    "2c76736fac7a43b7b345d0e3115abbc1": {
     "model_module": "@jupyter-widgets/base",
     "model_module_version": "1.2.0",
     "model_name": "LayoutModel",
     "state": {
      "_model_module": "@jupyter-widgets/base",
      "_model_module_version": "1.2.0",
      "_model_name": "LayoutModel",
      "_view_count": null,
      "_view_module": "@jupyter-widgets/base",
      "_view_module_version": "1.2.0",
      "_view_name": "LayoutView",
      "align_content": null,
      "align_items": null,
      "align_self": null,
      "border": null,
      "bottom": null,
      "display": null,
      "flex": null,
      "flex_flow": null,
      "grid_area": null,
      "grid_auto_columns": null,
      "grid_auto_flow": null,
      "grid_auto_rows": null,
      "grid_column": null,
      "grid_gap": null,
      "grid_row": null,
      "grid_template_areas": null,
      "grid_template_columns": null,
      "grid_template_rows": null,
      "height": null,
      "justify_content": null,
      "justify_items": null,
      "left": null,
      "margin": null,
      "max_height": null,
      "max_width": null,
      "min_height": null,
      "min_width": null,
      "object_fit": null,
      "object_position": null,
      "order": null,
      "overflow": null,
      "overflow_x": null,
      "overflow_y": null,
      "padding": null,
      "right": null,
      "top": null,
      "visibility": null,
      "width": null
     }
    },
    "30a3898fffbd40f2a8a3d6ebf048f288": {
     "model_module": "@jupyter-widgets/base",
     "model_module_version": "1.2.0",
     "model_name": "LayoutModel",
     "state": {
      "_model_module": "@jupyter-widgets/base",
      "_model_module_version": "1.2.0",
      "_model_name": "LayoutModel",
      "_view_count": null,
      "_view_module": "@jupyter-widgets/base",
      "_view_module_version": "1.2.0",
      "_view_name": "LayoutView",
      "align_content": null,
      "align_items": null,
      "align_self": null,
      "border": null,
      "bottom": null,
      "display": null,
      "flex": null,
      "flex_flow": null,
      "grid_area": null,
      "grid_auto_columns": null,
      "grid_auto_flow": null,
      "grid_auto_rows": null,
      "grid_column": null,
      "grid_gap": null,
      "grid_row": null,
      "grid_template_areas": null,
      "grid_template_columns": null,
      "grid_template_rows": null,
      "height": null,
      "justify_content": null,
      "justify_items": null,
      "left": null,
      "margin": null,
      "max_height": null,
      "max_width": null,
      "min_height": null,
      "min_width": null,
      "object_fit": null,
      "object_position": null,
      "order": null,
      "overflow": null,
      "overflow_x": null,
      "overflow_y": null,
      "padding": null,
      "right": null,
      "top": null,
      "visibility": null,
      "width": null
     }
    },
    "33b10730a3564c85b8fae5ef7b2fc8cd": {
     "model_module": "@jupyter-widgets/base",
     "model_module_version": "1.2.0",
     "model_name": "LayoutModel",
     "state": {
      "_model_module": "@jupyter-widgets/base",
      "_model_module_version": "1.2.0",
      "_model_name": "LayoutModel",
      "_view_count": null,
      "_view_module": "@jupyter-widgets/base",
      "_view_module_version": "1.2.0",
      "_view_name": "LayoutView",
      "align_content": null,
      "align_items": null,
      "align_self": null,
      "border": null,
      "bottom": null,
      "display": null,
      "flex": null,
      "flex_flow": null,
      "grid_area": null,
      "grid_auto_columns": null,
      "grid_auto_flow": null,
      "grid_auto_rows": null,
      "grid_column": null,
      "grid_gap": null,
      "grid_row": null,
      "grid_template_areas": null,
      "grid_template_columns": null,
      "grid_template_rows": null,
      "height": null,
      "justify_content": null,
      "justify_items": null,
      "left": null,
      "margin": null,
      "max_height": null,
      "max_width": null,
      "min_height": null,
      "min_width": null,
      "object_fit": null,
      "object_position": null,
      "order": null,
      "overflow": null,
      "overflow_x": null,
      "overflow_y": null,
      "padding": null,
      "right": null,
      "top": null,
      "visibility": null,
      "width": null
     }
    },
    "379b0520ae7d49e98196a274a050aa2f": {
     "model_module": "@jupyter-widgets/controls",
     "model_module_version": "1.5.0",
     "model_name": "DescriptionStyleModel",
     "state": {
      "_model_module": "@jupyter-widgets/controls",
      "_model_module_version": "1.5.0",
      "_model_name": "DescriptionStyleModel",
      "_view_count": null,
      "_view_module": "@jupyter-widgets/base",
      "_view_module_version": "1.2.0",
      "_view_name": "StyleView",
      "description_width": ""
     }
    },
    "41b9bbf16bd84245aac8289d2b5eca7e": {
     "model_module": "@jupyter-widgets/base",
     "model_module_version": "1.2.0",
     "model_name": "LayoutModel",
     "state": {
      "_model_module": "@jupyter-widgets/base",
      "_model_module_version": "1.2.0",
      "_model_name": "LayoutModel",
      "_view_count": null,
      "_view_module": "@jupyter-widgets/base",
      "_view_module_version": "1.2.0",
      "_view_name": "LayoutView",
      "align_content": null,
      "align_items": null,
      "align_self": null,
      "border": null,
      "bottom": null,
      "display": null,
      "flex": null,
      "flex_flow": null,
      "grid_area": null,
      "grid_auto_columns": null,
      "grid_auto_flow": null,
      "grid_auto_rows": null,
      "grid_column": null,
      "grid_gap": null,
      "grid_row": null,
      "grid_template_areas": null,
      "grid_template_columns": null,
      "grid_template_rows": null,
      "height": null,
      "justify_content": null,
      "justify_items": null,
      "left": null,
      "margin": null,
      "max_height": null,
      "max_width": null,
      "min_height": null,
      "min_width": null,
      "object_fit": null,
      "object_position": null,
      "order": null,
      "overflow": null,
      "overflow_x": null,
      "overflow_y": null,
      "padding": null,
      "right": null,
      "top": null,
      "visibility": null,
      "width": null
     }
    },
    "457b3282740c4248a39791a1f9daf8fe": {
     "model_module": "@jupyter-widgets/controls",
     "model_module_version": "1.5.0",
     "model_name": "ProgressStyleModel",
     "state": {
      "_model_module": "@jupyter-widgets/controls",
      "_model_module_version": "1.5.0",
      "_model_name": "ProgressStyleModel",
      "_view_count": null,
      "_view_module": "@jupyter-widgets/base",
      "_view_module_version": "1.2.0",
      "_view_name": "StyleView",
      "bar_color": null,
      "description_width": ""
     }
    },
    "45ffa5acf44840b98ae49395a35706cb": {
     "model_module": "@jupyter-widgets/controls",
     "model_module_version": "1.5.0",
     "model_name": "ProgressStyleModel",
     "state": {
      "_model_module": "@jupyter-widgets/controls",
      "_model_module_version": "1.5.0",
      "_model_name": "ProgressStyleModel",
      "_view_count": null,
      "_view_module": "@jupyter-widgets/base",
      "_view_module_version": "1.2.0",
      "_view_name": "StyleView",
      "bar_color": null,
      "description_width": ""
     }
    },
    "4eea2ac68a3a4bd5883e38fe818cc5d0": {
     "model_module": "@jupyter-widgets/controls",
     "model_module_version": "1.5.0",
     "model_name": "DescriptionStyleModel",
     "state": {
      "_model_module": "@jupyter-widgets/controls",
      "_model_module_version": "1.5.0",
      "_model_name": "DescriptionStyleModel",
      "_view_count": null,
      "_view_module": "@jupyter-widgets/base",
      "_view_module_version": "1.2.0",
      "_view_name": "StyleView",
      "description_width": ""
     }
    },
    "57871b4d355d4001888a8c3e7db9ef1d": {
     "model_module": "@jupyter-widgets/controls",
     "model_module_version": "1.5.0",
     "model_name": "HTMLModel",
     "state": {
      "_dom_classes": [],
      "_model_module": "@jupyter-widgets/controls",
      "_model_module_version": "1.5.0",
      "_model_name": "HTMLModel",
      "_view_count": null,
      "_view_module": "@jupyter-widgets/controls",
      "_view_module_version": "1.5.0",
      "_view_name": "HTMLView",
      "description": "",
      "description_tooltip": null,
      "layout": "IPY_MODEL_a048925b17864393903fc7541e28a938",
      "placeholder": "​",
      "style": "IPY_MODEL_1ee2c767c8fb4ebfa6ba6b8a60ea0ec2",
      "value": "Unwrapping: 100%"
     }
    },
    "5ce7a35311564ec094f6140e3f4813b4": {
     "model_module": "@jupyter-widgets/controls",
     "model_module_version": "1.5.0",
     "model_name": "HBoxModel",
     "state": {
      "_dom_classes": [],
      "_model_module": "@jupyter-widgets/controls",
      "_model_module_version": "1.5.0",
      "_model_name": "HBoxModel",
      "_view_count": null,
      "_view_module": "@jupyter-widgets/controls",
      "_view_module_version": "1.5.0",
      "_view_name": "HBoxView",
      "box_style": "",
      "children": [
       "IPY_MODEL_57871b4d355d4001888a8c3e7db9ef1d",
       "IPY_MODEL_168e1cb6fddb43108cda1f7fc200248a",
       "IPY_MODEL_c62d05504443410a84f8c94190f10c7c"
      ],
      "layout": "IPY_MODEL_33b10730a3564c85b8fae5ef7b2fc8cd"
     }
    },
    "5fae41400b9546cbb5d7f04288bc1263": {
     "model_module": "@jupyter-widgets/controls",
     "model_module_version": "1.5.0",
     "model_name": "FloatProgressModel",
     "state": {
      "_dom_classes": [],
      "_model_module": "@jupyter-widgets/controls",
      "_model_module_version": "1.5.0",
      "_model_name": "FloatProgressModel",
      "_view_count": null,
      "_view_module": "@jupyter-widgets/controls",
      "_view_module_version": "1.5.0",
      "_view_name": "ProgressView",
      "bar_style": "success",
      "description": "",
      "description_tooltip": null,
      "layout": "IPY_MODEL_be66ea2be1b6487098bb4babe9e2f81f",
      "max": 9,
      "min": 0,
      "orientation": "horizontal",
      "style": "IPY_MODEL_45ffa5acf44840b98ae49395a35706cb",
      "value": 9
     }
    },
    "5ff79854e4de499fb54b1729dcd2063b": {
     "model_module": "@jupyter-widgets/controls",
     "model_module_version": "1.5.0",
     "model_name": "HTMLModel",
     "state": {
      "_dom_classes": [],
      "_model_module": "@jupyter-widgets/controls",
      "_model_module_version": "1.5.0",
      "_model_name": "HTMLModel",
      "_view_count": null,
      "_view_module": "@jupyter-widgets/controls",
      "_view_module_version": "1.5.0",
      "_view_name": "HTMLView",
      "description": "",
      "description_tooltip": null,
      "layout": "IPY_MODEL_9b791e958bda4eeab155e7729b1b9dc7",
      "placeholder": "​",
      "style": "IPY_MODEL_0754ffcaeb7a437596d4cf2a4bd45d7c",
      "value": " 9/9 [15:58&lt;00:00, 111.04s/it]"
     }
    },
    "6417706a93964182bb0a14e360a93c18": {
     "model_module": "@jupyter-widgets/base",
     "model_module_version": "1.2.0",
     "model_name": "LayoutModel",
     "state": {
      "_model_module": "@jupyter-widgets/base",
      "_model_module_version": "1.2.0",
      "_model_name": "LayoutModel",
      "_view_count": null,
      "_view_module": "@jupyter-widgets/base",
      "_view_module_version": "1.2.0",
      "_view_name": "LayoutView",
      "align_content": null,
      "align_items": null,
      "align_self": null,
      "border": null,
      "bottom": null,
      "display": null,
      "flex": null,
      "flex_flow": null,
      "grid_area": null,
      "grid_auto_columns": null,
      "grid_auto_flow": null,
      "grid_auto_rows": null,
      "grid_column": null,
      "grid_gap": null,
      "grid_row": null,
      "grid_template_areas": null,
      "grid_template_columns": null,
      "grid_template_rows": null,
      "height": null,
      "justify_content": null,
      "justify_items": null,
      "left": null,
      "margin": null,
      "max_height": null,
      "max_width": null,
      "min_height": null,
      "min_width": null,
      "object_fit": null,
      "object_position": null,
      "order": null,
      "overflow": null,
      "overflow_x": null,
      "overflow_y": null,
      "padding": null,
      "right": null,
      "top": null,
      "visibility": null,
      "width": null
     }
    },
    "6460e8dcb470418ea48f074d447d121a": {
     "model_module": "@jupyter-widgets/controls",
     "model_module_version": "1.5.0",
     "model_name": "DescriptionStyleModel",
     "state": {
      "_model_module": "@jupyter-widgets/controls",
      "_model_module_version": "1.5.0",
      "_model_name": "DescriptionStyleModel",
      "_view_count": null,
      "_view_module": "@jupyter-widgets/base",
      "_view_module_version": "1.2.0",
      "_view_name": "StyleView",
      "description_width": ""
     }
    },
    "65912b8e2ecf4b06a5eed1b4f313ab64": {
     "model_module": "@jupyter-widgets/base",
     "model_module_version": "1.2.0",
     "model_name": "LayoutModel",
     "state": {
      "_model_module": "@jupyter-widgets/base",
      "_model_module_version": "1.2.0",
      "_model_name": "LayoutModel",
      "_view_count": null,
      "_view_module": "@jupyter-widgets/base",
      "_view_module_version": "1.2.0",
      "_view_name": "LayoutView",
      "align_content": null,
      "align_items": null,
      "align_self": null,
      "border": null,
      "bottom": null,
      "display": null,
      "flex": null,
      "flex_flow": null,
      "grid_area": null,
      "grid_auto_columns": null,
      "grid_auto_flow": null,
      "grid_auto_rows": null,
      "grid_column": null,
      "grid_gap": null,
      "grid_row": null,
      "grid_template_areas": null,
      "grid_template_columns": null,
      "grid_template_rows": null,
      "height": null,
      "justify_content": null,
      "justify_items": null,
      "left": null,
      "margin": null,
      "max_height": null,
      "max_width": null,
      "min_height": null,
      "min_width": null,
      "object_fit": null,
      "object_position": null,
      "order": null,
      "overflow": null,
      "overflow_x": null,
      "overflow_y": null,
      "padding": null,
      "right": null,
      "top": null,
      "visibility": null,
      "width": null
     }
    },
    "6eef632cc4454f5aa9967ef1a617aff9": {
     "model_module": "@jupyter-widgets/base",
     "model_module_version": "1.2.0",
     "model_name": "LayoutModel",
     "state": {
      "_model_module": "@jupyter-widgets/base",
      "_model_module_version": "1.2.0",
      "_model_name": "LayoutModel",
      "_view_count": null,
      "_view_module": "@jupyter-widgets/base",
      "_view_module_version": "1.2.0",
      "_view_name": "LayoutView",
      "align_content": null,
      "align_items": null,
      "align_self": null,
      "border": null,
      "bottom": null,
      "display": null,
      "flex": null,
      "flex_flow": null,
      "grid_area": null,
      "grid_auto_columns": null,
      "grid_auto_flow": null,
      "grid_auto_rows": null,
      "grid_column": null,
      "grid_gap": null,
      "grid_row": null,
      "grid_template_areas": null,
      "grid_template_columns": null,
      "grid_template_rows": null,
      "height": null,
      "justify_content": null,
      "justify_items": null,
      "left": null,
      "margin": null,
      "max_height": null,
      "max_width": null,
      "min_height": null,
      "min_width": null,
      "object_fit": null,
      "object_position": null,
      "order": null,
      "overflow": null,
      "overflow_x": null,
      "overflow_y": null,
      "padding": null,
      "right": null,
      "top": null,
      "visibility": null,
      "width": null
     }
    },
    "6fc03065b4dd4b6089b4eedf92d2e536": {
     "model_module": "@jupyter-widgets/controls",
     "model_module_version": "1.5.0",
     "model_name": "HTMLModel",
     "state": {
      "_dom_classes": [],
      "_model_module": "@jupyter-widgets/controls",
      "_model_module_version": "1.5.0",
      "_model_name": "HTMLModel",
      "_view_count": null,
      "_view_module": "@jupyter-widgets/controls",
      "_view_module_version": "1.5.0",
      "_view_name": "HTMLView",
      "description": "",
      "description_tooltip": null,
      "layout": "IPY_MODEL_03c97efa0121469bb956de36d05a5653",
      "placeholder": "​",
      "style": "IPY_MODEL_971599c811754f308fc55cd3c08a3792",
      "value": "Reference: 100%"
     }
    },
    "70923d5bce834571ae9ef2cfb31b0783": {
     "model_module": "@jupyter-widgets/base",
     "model_module_version": "1.2.0",
     "model_name": "LayoutModel",
     "state": {
      "_model_module": "@jupyter-widgets/base",
      "_model_module_version": "1.2.0",
      "_model_name": "LayoutModel",
      "_view_count": null,
      "_view_module": "@jupyter-widgets/base",
      "_view_module_version": "1.2.0",
      "_view_name": "LayoutView",
      "align_content": null,
      "align_items": null,
      "align_self": null,
      "border": null,
      "bottom": null,
      "display": null,
      "flex": null,
      "flex_flow": null,
      "grid_area": null,
      "grid_auto_columns": null,
      "grid_auto_flow": null,
      "grid_auto_rows": null,
      "grid_column": null,
      "grid_gap": null,
      "grid_row": null,
      "grid_template_areas": null,
      "grid_template_columns": null,
      "grid_template_rows": null,
      "height": null,
      "justify_content": null,
      "justify_items": null,
      "left": null,
      "margin": null,
      "max_height": null,
      "max_width": null,
      "min_height": null,
      "min_width": null,
      "object_fit": null,
      "object_position": null,
      "order": null,
      "overflow": null,
      "overflow_x": null,
      "overflow_y": null,
      "padding": null,
      "right": null,
      "top": null,
      "visibility": null,
      "width": null
     }
    },
    "7920a2aff13f4b309ac52bdabd9fb971": {
     "model_module": "@jupyter-widgets/controls",
     "model_module_version": "1.5.0",
     "model_name": "DescriptionStyleModel",
     "state": {
      "_model_module": "@jupyter-widgets/controls",
      "_model_module_version": "1.5.0",
      "_model_name": "DescriptionStyleModel",
      "_view_count": null,
      "_view_module": "@jupyter-widgets/base",
      "_view_module_version": "1.2.0",
      "_view_name": "StyleView",
      "description_width": ""
     }
    },
    "79369c2fe064464c82887cb36cdc58d5": {
     "model_module": "@jupyter-widgets/controls",
     "model_module_version": "1.5.0",
     "model_name": "HBoxModel",
     "state": {
      "_dom_classes": [],
      "_model_module": "@jupyter-widgets/controls",
      "_model_module_version": "1.5.0",
      "_model_name": "HBoxModel",
      "_view_count": null,
      "_view_module": "@jupyter-widgets/controls",
      "_view_module_version": "1.5.0",
      "_view_name": "HBoxView",
      "box_style": "",
      "children": [
       "IPY_MODEL_aca10383eb8c4a55b6824a150dea4d8c",
       "IPY_MODEL_b71b702743004773b1a9c8d628d4df15",
       "IPY_MODEL_1813fdfb967e4f9dbecfc504e837fcd2"
      ],
      "layout": "IPY_MODEL_70923d5bce834571ae9ef2cfb31b0783"
     }
    },
    "7e490447809442329589b20196e721e5": {
     "model_module": "@jupyter-widgets/base",
     "model_module_version": "1.2.0",
     "model_name": "LayoutModel",
     "state": {
      "_model_module": "@jupyter-widgets/base",
      "_model_module_version": "1.2.0",
      "_model_name": "LayoutModel",
      "_view_count": null,
      "_view_module": "@jupyter-widgets/base",
      "_view_module_version": "1.2.0",
      "_view_name": "LayoutView",
      "align_content": null,
      "align_items": null,
      "align_self": null,
      "border": null,
      "bottom": null,
      "display": null,
      "flex": null,
      "flex_flow": null,
      "grid_area": null,
      "grid_auto_columns": null,
      "grid_auto_flow": null,
      "grid_auto_rows": null,
      "grid_column": null,
      "grid_gap": null,
      "grid_row": null,
      "grid_template_areas": null,
      "grid_template_columns": null,
      "grid_template_rows": null,
      "height": null,
      "justify_content": null,
      "justify_items": null,
      "left": null,
      "margin": null,
      "max_height": null,
      "max_width": null,
      "min_height": null,
      "min_width": null,
      "object_fit": null,
      "object_position": null,
      "order": null,
      "overflow": null,
      "overflow_x": null,
      "overflow_y": null,
      "padding": null,
      "right": null,
      "top": null,
      "visibility": null,
      "width": null
     }
    },
    "85984b9e91e640269a2a74d712e0a517": {
     "model_module": "@jupyter-widgets/controls",
     "model_module_version": "1.5.0",
     "model_name": "HTMLModel",
     "state": {
      "_dom_classes": [],
      "_model_module": "@jupyter-widgets/controls",
      "_model_module_version": "1.5.0",
      "_model_name": "HTMLModel",
      "_view_count": null,
      "_view_module": "@jupyter-widgets/controls",
      "_view_module_version": "1.5.0",
      "_view_name": "HTMLView",
      "description": "",
      "description_tooltip": null,
      "layout": "IPY_MODEL_6417706a93964182bb0a14e360a93c18",
      "placeholder": "​",
      "style": "IPY_MODEL_7920a2aff13f4b309ac52bdabd9fb971",
      "value": " 1/1 [01:02&lt;00:00, 62.88s/it]"
     }
    },
    "87bdcb527b944558965e2263faaa8230": {
     "model_module": "@jupyter-widgets/controls",
     "model_module_version": "1.5.0",
     "model_name": "ProgressStyleModel",
     "state": {
      "_model_module": "@jupyter-widgets/controls",
      "_model_module_version": "1.5.0",
      "_model_name": "ProgressStyleModel",
      "_view_count": null,
      "_view_module": "@jupyter-widgets/base",
      "_view_module_version": "1.2.0",
      "_view_name": "StyleView",
      "bar_color": null,
      "description_width": ""
     }
    },
    "93a0744851504776b0aec01f69eda7f0": {
     "model_module": "@jupyter-widgets/controls",
     "model_module_version": "1.5.0",
     "model_name": "HBoxModel",
     "state": {
      "_dom_classes": [],
      "_model_module": "@jupyter-widgets/controls",
      "_model_module_version": "1.5.0",
      "_model_name": "HBoxModel",
      "_view_count": null,
      "_view_module": "@jupyter-widgets/controls",
      "_view_module_version": "1.5.0",
      "_view_name": "HBoxView",
      "box_style": "",
      "children": [
       "IPY_MODEL_de32f6709b714bbe953766d42e2ebbbb",
       "IPY_MODEL_5fae41400b9546cbb5d7f04288bc1263",
       "IPY_MODEL_5ff79854e4de499fb54b1729dcd2063b"
      ],
      "layout": "IPY_MODEL_f647ccd962ef4231847725b3ff709cb9"
     }
    },
    "94a437ce22df4685891fac3f774ee66f": {
     "model_module": "@jupyter-widgets/base",
     "model_module_version": "1.2.0",
     "model_name": "LayoutModel",
     "state": {
      "_model_module": "@jupyter-widgets/base",
      "_model_module_version": "1.2.0",
      "_model_name": "LayoutModel",
      "_view_count": null,
      "_view_module": "@jupyter-widgets/base",
      "_view_module_version": "1.2.0",
      "_view_name": "LayoutView",
      "align_content": null,
      "align_items": null,
      "align_self": null,
      "border": null,
      "bottom": null,
      "display": null,
      "flex": null,
      "flex_flow": null,
      "grid_area": null,
      "grid_auto_columns": null,
      "grid_auto_flow": null,
      "grid_auto_rows": null,
      "grid_column": null,
      "grid_gap": null,
      "grid_row": null,
      "grid_template_areas": null,
      "grid_template_columns": null,
      "grid_template_rows": null,
      "height": null,
      "justify_content": null,
      "justify_items": null,
      "left": null,
      "margin": null,
      "max_height": null,
      "max_width": null,
      "min_height": null,
      "min_width": null,
      "object_fit": null,
      "object_position": null,
      "order": null,
      "overflow": null,
      "overflow_x": null,
      "overflow_y": null,
      "padding": null,
      "right": null,
      "top": null,
      "visibility": null,
      "width": null
     }
    },
    "971599c811754f308fc55cd3c08a3792": {
     "model_module": "@jupyter-widgets/controls",
     "model_module_version": "1.5.0",
     "model_name": "DescriptionStyleModel",
     "state": {
      "_model_module": "@jupyter-widgets/controls",
      "_model_module_version": "1.5.0",
      "_model_name": "DescriptionStyleModel",
      "_view_count": null,
      "_view_module": "@jupyter-widgets/base",
      "_view_module_version": "1.2.0",
      "_view_name": "StyleView",
      "description_width": ""
     }
    },
    "9b791e958bda4eeab155e7729b1b9dc7": {
     "model_module": "@jupyter-widgets/base",
     "model_module_version": "1.2.0",
     "model_name": "LayoutModel",
     "state": {
      "_model_module": "@jupyter-widgets/base",
      "_model_module_version": "1.2.0",
      "_model_name": "LayoutModel",
      "_view_count": null,
      "_view_module": "@jupyter-widgets/base",
      "_view_module_version": "1.2.0",
      "_view_name": "LayoutView",
      "align_content": null,
      "align_items": null,
      "align_self": null,
      "border": null,
      "bottom": null,
      "display": null,
      "flex": null,
      "flex_flow": null,
      "grid_area": null,
      "grid_auto_columns": null,
      "grid_auto_flow": null,
      "grid_auto_rows": null,
      "grid_column": null,
      "grid_gap": null,
      "grid_row": null,
      "grid_template_areas": null,
      "grid_template_columns": null,
      "grid_template_rows": null,
      "height": null,
      "justify_content": null,
      "justify_items": null,
      "left": null,
      "margin": null,
      "max_height": null,
      "max_width": null,
      "min_height": null,
      "min_width": null,
      "object_fit": null,
      "object_position": null,
      "order": null,
      "overflow": null,
      "overflow_x": null,
      "overflow_y": null,
      "padding": null,
      "right": null,
      "top": null,
      "visibility": null,
      "width": null
     }
    },
    "9e0c5ac1f8044cc8946d6574f2f0f9ca": {
     "model_module": "@jupyter-widgets/controls",
     "model_module_version": "1.5.0",
     "model_name": "FloatProgressModel",
     "state": {
      "_dom_classes": [],
      "_model_module": "@jupyter-widgets/controls",
      "_model_module_version": "1.5.0",
      "_model_name": "FloatProgressModel",
      "_view_count": null,
      "_view_module": "@jupyter-widgets/controls",
      "_view_module_version": "1.5.0",
      "_view_name": "ProgressView",
      "bar_style": "success",
      "description": "",
      "description_tooltip": null,
      "layout": "IPY_MODEL_c6752e591a854e2690fdca166770e881",
      "max": 1,
      "min": 0,
      "orientation": "horizontal",
      "style": "IPY_MODEL_ee94bd794aec41d8b29f5341cedfda61",
      "value": 1
     }
    },
    "a048925b17864393903fc7541e28a938": {
     "model_module": "@jupyter-widgets/base",
     "model_module_version": "1.2.0",
     "model_name": "LayoutModel",
     "state": {
      "_model_module": "@jupyter-widgets/base",
      "_model_module_version": "1.2.0",
      "_model_name": "LayoutModel",
      "_view_count": null,
      "_view_module": "@jupyter-widgets/base",
      "_view_module_version": "1.2.0",
      "_view_name": "LayoutView",
      "align_content": null,
      "align_items": null,
      "align_self": null,
      "border": null,
      "bottom": null,
      "display": null,
      "flex": null,
      "flex_flow": null,
      "grid_area": null,
      "grid_auto_columns": null,
      "grid_auto_flow": null,
      "grid_auto_rows": null,
      "grid_column": null,
      "grid_gap": null,
      "grid_row": null,
      "grid_template_areas": null,
      "grid_template_columns": null,
      "grid_template_rows": null,
      "height": null,
      "justify_content": null,
      "justify_items": null,
      "left": null,
      "margin": null,
      "max_height": null,
      "max_width": null,
      "min_height": null,
      "min_width": null,
      "object_fit": null,
      "object_position": null,
      "order": null,
      "overflow": null,
      "overflow_x": null,
      "overflow_y": null,
      "padding": null,
      "right": null,
      "top": null,
      "visibility": null,
      "width": null
     }
    },
    "a0684861105d4ada8424dcf52a5a5f2a": {
     "model_module": "@jupyter-widgets/controls",
     "model_module_version": "1.5.0",
     "model_name": "HTMLModel",
     "state": {
      "_dom_classes": [],
      "_model_module": "@jupyter-widgets/controls",
      "_model_module_version": "1.5.0",
      "_model_name": "HTMLModel",
      "_view_count": null,
      "_view_module": "@jupyter-widgets/controls",
      "_view_module_version": "1.5.0",
      "_view_name": "HTMLView",
      "description": "",
      "description_tooltip": null,
      "layout": "IPY_MODEL_19e69d39ad8d4979a8c0963b2bee834a",
      "placeholder": "​",
      "style": "IPY_MODEL_6460e8dcb470418ea48f074d447d121a",
      "value": " 1/1 [00:17&lt;00:00, 17.09s/it]"
     }
    },
    "ac2342bceda74b75b76a12fc6f8252f2": {
     "model_module": "@jupyter-widgets/base",
     "model_module_version": "1.2.0",
     "model_name": "LayoutModel",
     "state": {
      "_model_module": "@jupyter-widgets/base",
      "_model_module_version": "1.2.0",
      "_model_name": "LayoutModel",
      "_view_count": null,
      "_view_module": "@jupyter-widgets/base",
      "_view_module_version": "1.2.0",
      "_view_name": "LayoutView",
      "align_content": null,
      "align_items": null,
      "align_self": null,
      "border": null,
      "bottom": null,
      "display": null,
      "flex": null,
      "flex_flow": null,
      "grid_area": null,
      "grid_auto_columns": null,
      "grid_auto_flow": null,
      "grid_auto_rows": null,
      "grid_column": null,
      "grid_gap": null,
      "grid_row": null,
      "grid_template_areas": null,
      "grid_template_columns": null,
      "grid_template_rows": null,
      "height": null,
      "justify_content": null,
      "justify_items": null,
      "left": null,
      "margin": null,
      "max_height": null,
      "max_width": null,
      "min_height": null,
      "min_width": null,
      "object_fit": null,
      "object_position": null,
      "order": null,
      "overflow": null,
      "overflow_x": null,
      "overflow_y": null,
      "padding": null,
      "right": null,
      "top": null,
      "visibility": null,
      "width": null
     }
    },
    "aca10383eb8c4a55b6824a150dea4d8c": {
     "model_module": "@jupyter-widgets/controls",
     "model_module_version": "1.5.0",
     "model_name": "HTMLModel",
     "state": {
      "_dom_classes": [],
      "_model_module": "@jupyter-widgets/controls",
      "_model_module_version": "1.5.0",
      "_model_name": "HTMLModel",
      "_view_count": null,
      "_view_module": "@jupyter-widgets/controls",
      "_view_module_version": "1.5.0",
      "_view_name": "HTMLView",
      "description": "",
      "description_tooltip": null,
      "layout": "IPY_MODEL_6eef632cc4454f5aa9967ef1a617aff9",
      "placeholder": "​",
      "style": "IPY_MODEL_fac73d45494f47788b7419de26ac6343",
      "value": "Aligning: 100%"
     }
    },
    "b71b702743004773b1a9c8d628d4df15": {
     "model_module": "@jupyter-widgets/controls",
     "model_module_version": "1.5.0",
     "model_name": "FloatProgressModel",
     "state": {
      "_dom_classes": [],
      "_model_module": "@jupyter-widgets/controls",
      "_model_module_version": "1.5.0",
      "_model_name": "FloatProgressModel",
      "_view_count": null,
      "_view_module": "@jupyter-widgets/controls",
      "_view_module_version": "1.5.0",
      "_view_name": "ProgressView",
      "bar_style": "success",
      "description": "",
      "description_tooltip": null,
      "layout": "IPY_MODEL_ac2342bceda74b75b76a12fc6f8252f2",
      "max": 4,
      "min": 0,
      "orientation": "horizontal",
      "style": "IPY_MODEL_457b3282740c4248a39791a1f9daf8fe",
      "value": 4
     }
    },
    "be66ea2be1b6487098bb4babe9e2f81f": {
     "model_module": "@jupyter-widgets/base",
     "model_module_version": "1.2.0",
     "model_name": "LayoutModel",
     "state": {
      "_model_module": "@jupyter-widgets/base",
      "_model_module_version": "1.2.0",
      "_model_name": "LayoutModel",
      "_view_count": null,
      "_view_module": "@jupyter-widgets/base",
      "_view_module_version": "1.2.0",
      "_view_name": "LayoutView",
      "align_content": null,
      "align_items": null,
      "align_self": null,
      "border": null,
      "bottom": null,
      "display": null,
      "flex": null,
      "flex_flow": null,
      "grid_area": null,
      "grid_auto_columns": null,
      "grid_auto_flow": null,
      "grid_auto_rows": null,
      "grid_column": null,
      "grid_gap": null,
      "grid_row": null,
      "grid_template_areas": null,
      "grid_template_columns": null,
      "grid_template_rows": null,
      "height": null,
      "justify_content": null,
      "justify_items": null,
      "left": null,
      "margin": null,
      "max_height": null,
      "max_width": null,
      "min_height": null,
      "min_width": null,
      "object_fit": null,
      "object_position": null,
      "order": null,
      "overflow": null,
      "overflow_x": null,
      "overflow_y": null,
      "padding": null,
      "right": null,
      "top": null,
      "visibility": null,
      "width": null
     }
    },
    "bff2dcc3a5334fea81642efae6e11806": {
     "model_module": "@jupyter-widgets/controls",
     "model_module_version": "1.5.0",
     "model_name": "HTMLModel",
     "state": {
      "_dom_classes": [],
      "_model_module": "@jupyter-widgets/controls",
      "_model_module_version": "1.5.0",
      "_model_name": "HTMLModel",
      "_view_count": null,
      "_view_module": "@jupyter-widgets/controls",
      "_view_module_version": "1.5.0",
      "_view_name": "HTMLView",
      "description": "",
      "description_tooltip": null,
      "layout": "IPY_MODEL_7e490447809442329589b20196e721e5",
      "placeholder": "​",
      "style": "IPY_MODEL_379b0520ae7d49e98196a274a050aa2f",
      "value": "Transforming Coordinates: 100%"
     }
    },
    "c62d05504443410a84f8c94190f10c7c": {
     "model_module": "@jupyter-widgets/controls",
     "model_module_version": "1.5.0",
     "model_name": "HTMLModel",
     "state": {
      "_dom_classes": [],
      "_model_module": "@jupyter-widgets/controls",
      "_model_module_version": "1.5.0",
      "_model_name": "HTMLModel",
      "_view_count": null,
      "_view_module": "@jupyter-widgets/controls",
      "_view_module_version": "1.5.0",
      "_view_name": "HTMLView",
      "description": "",
      "description_tooltip": null,
      "layout": "IPY_MODEL_ef4f5c03955a4a74bd4fcf5bab52eb2c",
      "placeholder": "​",
      "style": "IPY_MODEL_235f1c3fe1d04522a49ce3511c1514c8",
      "value": " 9/9 [00:03&lt;00:00,  3.37it/s]"
     }
    },
    "c6752e591a854e2690fdca166770e881": {
     "model_module": "@jupyter-widgets/base",
     "model_module_version": "1.2.0",
     "model_name": "LayoutModel",
     "state": {
      "_model_module": "@jupyter-widgets/base",
      "_model_module_version": "1.2.0",
      "_model_name": "LayoutModel",
      "_view_count": null,
      "_view_module": "@jupyter-widgets/base",
      "_view_module_version": "1.2.0",
      "_view_name": "LayoutView",
      "align_content": null,
      "align_items": null,
      "align_self": null,
      "border": null,
      "bottom": null,
      "display": null,
      "flex": null,
      "flex_flow": null,
      "grid_area": null,
      "grid_auto_columns": null,
      "grid_auto_flow": null,
      "grid_auto_rows": null,
      "grid_column": null,
      "grid_gap": null,
      "grid_row": null,
      "grid_template_areas": null,
      "grid_template_columns": null,
      "grid_template_rows": null,
      "height": null,
      "justify_content": null,
      "justify_items": null,
      "left": null,
      "margin": null,
      "max_height": null,
      "max_width": null,
      "min_height": null,
      "min_width": null,
      "object_fit": null,
      "object_position": null,
      "order": null,
      "overflow": null,
      "overflow_x": null,
      "overflow_y": null,
      "padding": null,
      "right": null,
      "top": null,
      "visibility": null,
      "width": null
     }
    },
    "db96d6ca022f4fb0bb1a1eb7ec9c1383": {
     "model_module": "@jupyter-widgets/controls",
     "model_module_version": "1.5.0",
     "model_name": "HBoxModel",
     "state": {
      "_dom_classes": [],
      "_model_module": "@jupyter-widgets/controls",
      "_model_module_version": "1.5.0",
      "_model_name": "HBoxModel",
      "_view_count": null,
      "_view_module": "@jupyter-widgets/controls",
      "_view_module_version": "1.5.0",
      "_view_name": "HBoxView",
      "box_style": "",
      "children": [
       "IPY_MODEL_6fc03065b4dd4b6089b4eedf92d2e536",
       "IPY_MODEL_0486083eb46b4756ba2ec88f84ce911b",
       "IPY_MODEL_a0684861105d4ada8424dcf52a5a5f2a"
      ],
      "layout": "IPY_MODEL_41b9bbf16bd84245aac8289d2b5eca7e"
     }
    },
    "de32f6709b714bbe953766d42e2ebbbb": {
     "model_module": "@jupyter-widgets/controls",
     "model_module_version": "1.5.0",
     "model_name": "HTMLModel",
     "state": {
      "_dom_classes": [],
      "_model_module": "@jupyter-widgets/controls",
      "_model_module_version": "1.5.0",
      "_model_name": "HTMLModel",
      "_view_count": null,
      "_view_module": "@jupyter-widgets/controls",
      "_view_module_version": "1.5.0",
      "_view_name": "HTMLView",
      "description": "",
      "description_tooltip": null,
      "layout": "IPY_MODEL_65912b8e2ecf4b06a5eed1b4f313ab64",
      "placeholder": "​",
      "style": "IPY_MODEL_f13b72d07e5f4a549bfd4963b0c6a9be",
      "value": "Interferograms: 100%"
     }
    },
    "dfa0b067974649f4b485d2e6d6eb38b4": {
     "model_module": "@jupyter-widgets/base",
     "model_module_version": "1.2.0",
     "model_name": "LayoutModel",
     "state": {
      "_model_module": "@jupyter-widgets/base",
      "_model_module_version": "1.2.0",
      "_model_name": "LayoutModel",
      "_view_count": null,
      "_view_module": "@jupyter-widgets/base",
      "_view_module_version": "1.2.0",
      "_view_name": "LayoutView",
      "align_content": null,
      "align_items": null,
      "align_self": null,
      "border": null,
      "bottom": null,
      "display": null,
      "flex": null,
      "flex_flow": null,
      "grid_area": null,
      "grid_auto_columns": null,
      "grid_auto_flow": null,
      "grid_auto_rows": null,
      "grid_column": null,
      "grid_gap": null,
      "grid_row": null,
      "grid_template_areas": null,
      "grid_template_columns": null,
      "grid_template_rows": null,
      "height": null,
      "justify_content": null,
      "justify_items": null,
      "left": null,
      "margin": null,
      "max_height": null,
      "max_width": null,
      "min_height": null,
      "min_width": null,
      "object_fit": null,
      "object_position": null,
      "order": null,
      "overflow": null,
      "overflow_x": null,
      "overflow_y": null,
      "padding": null,
      "right": null,
      "top": null,
      "visibility": null,
      "width": null
     }
    },
    "ee94bd794aec41d8b29f5341cedfda61": {
     "model_module": "@jupyter-widgets/controls",
     "model_module_version": "1.5.0",
     "model_name": "ProgressStyleModel",
     "state": {
      "_model_module": "@jupyter-widgets/controls",
      "_model_module_version": "1.5.0",
      "_model_name": "ProgressStyleModel",
      "_view_count": null,
      "_view_module": "@jupyter-widgets/base",
      "_view_module_version": "1.2.0",
      "_view_name": "StyleView",
      "bar_color": null,
      "description_width": ""
     }
    },
    "ef4f5c03955a4a74bd4fcf5bab52eb2c": {
     "model_module": "@jupyter-widgets/base",
     "model_module_version": "1.2.0",
     "model_name": "LayoutModel",
     "state": {
      "_model_module": "@jupyter-widgets/base",
      "_model_module_version": "1.2.0",
      "_model_name": "LayoutModel",
      "_view_count": null,
      "_view_module": "@jupyter-widgets/base",
      "_view_module_version": "1.2.0",
      "_view_name": "LayoutView",
      "align_content": null,
      "align_items": null,
      "align_self": null,
      "border": null,
      "bottom": null,
      "display": null,
      "flex": null,
      "flex_flow": null,
      "grid_area": null,
      "grid_auto_columns": null,
      "grid_auto_flow": null,
      "grid_auto_rows": null,
      "grid_column": null,
      "grid_gap": null,
      "grid_row": null,
      "grid_template_areas": null,
      "grid_template_columns": null,
      "grid_template_rows": null,
      "height": null,
      "justify_content": null,
      "justify_items": null,
      "left": null,
      "margin": null,
      "max_height": null,
      "max_width": null,
      "min_height": null,
      "min_width": null,
      "object_fit": null,
      "object_position": null,
      "order": null,
      "overflow": null,
      "overflow_x": null,
      "overflow_y": null,
      "padding": null,
      "right": null,
      "top": null,
      "visibility": null,
      "width": null
     }
    },
    "f13b72d07e5f4a549bfd4963b0c6a9be": {
     "model_module": "@jupyter-widgets/controls",
     "model_module_version": "1.5.0",
     "model_name": "DescriptionStyleModel",
     "state": {
      "_model_module": "@jupyter-widgets/controls",
      "_model_module_version": "1.5.0",
      "_model_name": "DescriptionStyleModel",
      "_view_count": null,
      "_view_module": "@jupyter-widgets/base",
      "_view_module_version": "1.2.0",
      "_view_name": "StyleView",
      "description_width": ""
     }
    },
    "f647ccd962ef4231847725b3ff709cb9": {
     "model_module": "@jupyter-widgets/base",
     "model_module_version": "1.2.0",
     "model_name": "LayoutModel",
     "state": {
      "_model_module": "@jupyter-widgets/base",
      "_model_module_version": "1.2.0",
      "_model_name": "LayoutModel",
      "_view_count": null,
      "_view_module": "@jupyter-widgets/base",
      "_view_module_version": "1.2.0",
      "_view_name": "LayoutView",
      "align_content": null,
      "align_items": null,
      "align_self": null,
      "border": null,
      "bottom": null,
      "display": null,
      "flex": null,
      "flex_flow": null,
      "grid_area": null,
      "grid_auto_columns": null,
      "grid_auto_flow": null,
      "grid_auto_rows": null,
      "grid_column": null,
      "grid_gap": null,
      "grid_row": null,
      "grid_template_areas": null,
      "grid_template_columns": null,
      "grid_template_rows": null,
      "height": null,
      "justify_content": null,
      "justify_items": null,
      "left": null,
      "margin": null,
      "max_height": null,
      "max_width": null,
      "min_height": null,
      "min_width": null,
      "object_fit": null,
      "object_position": null,
      "order": null,
      "overflow": null,
      "overflow_x": null,
      "overflow_y": null,
      "padding": null,
      "right": null,
      "top": null,
      "visibility": null,
      "width": null
     }
    },
    "fac73d45494f47788b7419de26ac6343": {
     "model_module": "@jupyter-widgets/controls",
     "model_module_version": "1.5.0",
     "model_name": "DescriptionStyleModel",
     "state": {
      "_model_module": "@jupyter-widgets/controls",
      "_model_module_version": "1.5.0",
      "_model_name": "DescriptionStyleModel",
      "_view_count": null,
      "_view_module": "@jupyter-widgets/base",
      "_view_module_version": "1.2.0",
      "_view_name": "StyleView",
      "description_width": ""
     }
    }
   }
  }
 },
 "nbformat": 4,
 "nbformat_minor": 1
}
