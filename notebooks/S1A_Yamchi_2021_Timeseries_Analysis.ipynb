{
 "cells": [
  {
   "cell_type": "markdown",
   "metadata": {
    "id": "0ACAeoEVvyxe"
   },
   "source": [
    "$\\Large\\color{blue}{\\text{PyGMTSAR Yamchi DAM Interferograms Timeseries Analysis}}$\n",
    "\n",
    "### See and more PyGMTSAR notebooks on GitHub: [PyGMTSAR](https://github.com/mobigroup/gmtsar)\n",
    "\n",
    "It works on\n",
    "\n",
    "* MacOS Monterey (Apple Silicon) and BigSur (Intel) (Python 3.9) - please pre-install system dependencies (maybe using HomeBrew),\n",
    "\n",
    "* Google Cloud VM and Notebooks on Debian 10 (Python 3.7), use the [Google Cloud Debian 10 init script](https://github.com/mobigroup/gmtsar/blob/master/gmtsar/sh/GMTSAR.install.debian10.sh) and [Google Cloud Debian 10 VM creation script](https://github.com/mobigroup/gmtsar/blob/master/gmtsar/sh/GMTSAR.gcloud_create_debian10.sh)\n",
    "\n",
    "* $\\color{red}{\\text{Google Colab (Python 3.7) - you will be asked to re-run the notebook once due to \"system crash\" by desing}}$\n",
    "$\\color{red}{\\text{Note: to open all notebook cells select menu \"View\" -> \"Expand Sections\"}}$\n",
    "\n",
    "### PyGMTSAR is my free-time Open Source project.\n",
    "\n",
    "That's a bit curious how the project was started a year ago. I develop geophysical inversion methods and processing software for many years using my fundamental physics and mathematics background. Satellite interferometry is the key point to validate my inversion models and I found the same problem as you too that the existing interferometry packages usage is a pain. There is no interactive processing with multiprocessing and even a progressbar and ability to view and change every step code and validate the results. Also, many used algorithms are too outdated and produce terrible results like to tension surfaces in GMT which is used widely in GMTSAR (hmm, how about to control a smothness of derivative? Tension surfaces were invented when all the Earths computers where less powerfull than your smarthone today. If you are interested I shared the examples in GMTSAR bug tracker). Anyway, I found GMT mathematics is really crazy and the developers replace one incorrect algorithm by another and back often as we see in the codes and the changelog). That was enough reason to check all the used algorithms and replace these by modern and correct ones. By this way, I use only GMTSAR C codes with my patches to fix some errors and allow interoperability with Python wrappers plus my own codes around them. GMTSAR codes are fine and without crazy GMT codes work better and the processing is much faster. Alright, I spent one month to make the initial PyGMTSAR realization and it works. Recently, I returned to the project to add some more sophisticated features like to scenes and subswathes stitching. I'm going to share some of my geological exprorations and seismic models as live examples on Google Colab as soon as it will be possible to do. How lineaments and ore zones are related to interferograms? How gas and oil deposits are related to surface movements on interferometry displacement maps? I have the answer and I work on the tools to model and visualize them.\n",
    "\n",
    "You'd find my theoretical models and processing codes foir geophisical inversions in Github repository https://github.com/mobigroup/gis-snippets and tools for the 4D results vizualization in https://github.com/mobigroup/ParaView-plugins\n",
    "\n",
    "Ah yes, a little bit about me. I have STEM master's degree in radio physics and in 2004 I was awarded first prize of the All-Russian Physics competition for significant results in Inverse modeling for non-linear optics and holography, also applicable for Inverse Modeling of Gravity, Magnetic, and Thermal fields. In addition to my fundamental science knowledge, I’m world class data scientist and software developer with 20 years experience in science and industrial development. I have worked on government contracts and universities projects and on projects for LG Corp, Google Inc, etc. You are able to find some of my software and results on LinkedIn and GitHub and Upwork. By the way, I left Russia many years ago and I work remotely for about 20 years.\n",
    "\n",
    "### To order some research, development and support see my profile on freelance platform [Upwork](https://www.upwork.com/freelancers/~01e65e8e7221758623)\n",
    "\n",
    "### @ Alexey Pechnikov, August, 2022\n",
    "\n",
    "[Geological models on YouTube channel](https://www.youtube.com/channel/UCSEeXKAn9f_bDiTjT6l87Lg)\n",
    "\n",
    "[Augmented Reality (AR) Geological Models](https://mobigroup.github.io/ParaView-Blender-AR/)\n",
    "\n",
    "[GitHub repositories](https://github.com/mobigroup)\n",
    "\n",
    "[English posts and articles on LinkedIn](https://www.linkedin.com/in/alexey-pechnikov/)\n",
    "\n",
    "[Russian articles on Habr](https://habr.com/ru/users/N-Cube/posts/)"
   ]
  },
  {
   "cell_type": "markdown",
   "metadata": {
    "id": "D0QOUxFPvyxg"
   },
   "source": [
    "$\\large\\color{blue}{\\text{Hint: Use menu Cell} \\to \\text{Run All or Runtime} \\to \\text{Complete All or Runtime} \\to \\text{Run All}}$\n",
    "$\\large\\color{blue}{\\text{(depending of your localization settings) to execute the entire notebook}}$"
   ]
  },
  {
   "cell_type": "markdown",
   "metadata": {
    "id": "_g4gdkfRXqAM"
   },
   "source": [
    "## Load Modules to Check Environment"
   ]
  },
  {
   "cell_type": "code",
   "execution_count": null,
   "metadata": {
    "id": "Gs9P7MvVXrOZ"
   },
   "outputs": [],
   "source": [
    "import platform, sys, os"
   ]
  },
  {
   "cell_type": "markdown",
   "metadata": {
    "id": "NyvTYW5Gvyxh"
   },
   "source": [
    "## Debian 10 and Google Colab GMTSAR Installation"
   ]
  },
  {
   "cell_type": "markdown",
   "metadata": {
    "id": "U0UxpCKMvyxi"
   },
   "source": [
    "### On Google Cloud AI Notebooks: check root access\n",
    "\n",
    "On Google Cloud AI Notebooks sometimes we have an issue when \"sudo\" requires a password. In this case drop the instance and create a new one and - that's important - wait 5-10 minutes before connect to it using link \"OPEN JUPYTERLAB\""
   ]
  },
  {
   "cell_type": "code",
   "execution_count": null,
   "metadata": {
    "colab": {
     "base_uri": "https://localhost:8080/"
    },
    "id": "RNkvP7gPvyxj",
    "outputId": "e73ade72-752f-4b37-a56e-d45e0569521c"
   },
   "outputs": [],
   "source": [
    "if platform.system() == 'Linux':\n",
    "    !sudo date"
   ]
  },
  {
   "cell_type": "markdown",
   "metadata": {
    "id": "xH2_nZDJvyxm"
   },
   "source": [
    "### Install https://github.com/mobigroup/gmtsar\n",
    "\n",
    "I make lots of changes on GMTSAR C-coded tools and some of them are not merged to the upstream GMTSAR yet because all the patches need to be validated and discussed before. Also, my Python extensions are provided in my GMTSAR fork only. I hope in the future to provide a standalone python packager as wrapper around upstream GMTSAR but there is a long way to it."
   ]
  },
  {
   "cell_type": "code",
   "execution_count": null,
   "metadata": {
    "id": "yz2E97o-vyxn"
   },
   "outputs": [],
   "source": [
    "if platform.system() == 'Linux':\n",
    "    count = !ls /usr/local | grep GMTSAR | wc -l\n",
    "    if count == ['0']:\n",
    "        !apt install -y csh autoconf gfortran \\\n",
    "            libtiff5-dev libhdf5-dev liblapack-dev libgmt-dev gmt-dcw gmt-gshhg gmt > /dev/null\n",
    "        !cd /usr/local && git clone --branch master https://github.com/mobigroup/gmtsar GMTSAR > /dev/null\n",
    "        !cd /usr/local/GMTSAR && autoconf > /dev/null\n",
    "        !cd /usr/local/GMTSAR && ./configure --with-orbits-dir=/tmp > /dev/null\n",
    "        !cd /usr/local/GMTSAR && make 1>/dev/null 2>/dev/null\n",
    "        !cd /usr/local/GMTSAR && make install >/dev/null"
   ]
  },
  {
   "cell_type": "markdown",
   "metadata": {
    "id": "O5uMpDrZvyxn"
   },
   "source": [
    "## Define ENV Variables for Jupyter Instance"
   ]
  },
  {
   "cell_type": "code",
   "execution_count": null,
   "metadata": {
    "colab": {
     "base_uri": "https://localhost:8080/"
    },
    "id": "VgDUx4zavyxo",
    "outputId": "fedbfa76-d6e8-4495-8fbc-7602021923d5"
   },
   "outputs": [],
   "source": [
    "# use default GMTSAR installation path\n",
    "GMTSAR = '/usr/local/GMTSAR'\n",
    "PATH = os.environ['PATH']\n",
    "\n",
    "if PATH.find('GMTSAR') == -1:\n",
    "    PATH = os.environ['PATH'] + f':{GMTSAR}/bin/'\n",
    "    %env PATH {PATH}\n",
    "    %env GMTSAR {GMTSAR}"
   ]
  },
  {
   "cell_type": "markdown",
   "metadata": {
    "id": "SbimaIkwvyxp"
   },
   "source": [
    "## Install Python Modules\n",
    "\n",
    "```Maybe you need to restart your notebook, follow the instructions printing below```\n",
    "\n",
    "```The installation takes a long time on fresh Debian 10 and a short time on Google Colab```"
   ]
  },
  {
   "cell_type": "code",
   "execution_count": null,
   "metadata": {
    "colab": {
     "base_uri": "https://localhost:8080/"
    },
    "id": "Eiq1NHbJvyxp",
    "outputId": "e98521d3-82e0-437e-f0bd-bae901313cab"
   },
   "outputs": [],
   "source": [
    "!{sys.executable} --version"
   ]
  },
  {
   "cell_type": "code",
   "execution_count": null,
   "metadata": {
    "id": "v5rYhOFVvyxq"
   },
   "outputs": [],
   "source": [
    "if platform.system() == 'Linux':\n",
    "    !{sys.executable} -m pip install cartopy==0.19.0.post1 1>/dev/null 2>/dev/null\n",
    "    !{sys.executable} -m pip install xarray==0.19.0        1>/dev/null 2>/dev/null\n",
    "    !{sys.executable} -m pip install scipy==1.7.1          1>/dev/null 2>/dev/null"
   ]
  },
  {
   "cell_type": "code",
   "execution_count": null,
   "metadata": {
    "id": "nZFKes5pvyxr"
   },
   "outputs": [],
   "source": [
    "if platform.system() == 'Linux':\n",
    "    !{sys.executable} -m pip install \\\n",
    "        h5py netcdf4 h5netcdf \\\n",
    "        rasterio rioxarray numpy \\\n",
    "        scikit-image scipy sklearn \\\n",
    "        xarray dask distributed zarr nc-time-axis \\\n",
    "        pandas geopandas \\\n",
    "        sentineleof elevation \\\n",
    "        matplotlib seaborn geoviews hvplot datashader bokeh \\\n",
    "        xmltodict joblib tqdm 1>/dev/null 2>/dev/null"
   ]
  },
  {
   "cell_type": "markdown",
   "metadata": {
    "id": "-FMPWOSSvyxr"
   },
   "source": [
    "$\\large\\color{red}{\\text{Attention: On Google Colab we need to restart kernel once when modules installed}}$"
   ]
  },
  {
   "cell_type": "markdown",
   "metadata": {
    "id": "ldm9nWiHvyxs"
   },
   "source": [
    "$\\large\\color{blue}{\\text{Hint: Use menu Cell} \\to \\text{Run All or Runtime} \\to \\text{Complete All or Runtime} \\to \\text{Run All}}$\n",
    "$\\large\\color{blue}{\\text{(depending of your localization settings) to execute the entire notebook}}$"
   ]
  },
  {
   "cell_type": "code",
   "execution_count": null,
   "metadata": {
    "colab": {
     "base_uri": "https://localhost:8080/"
    },
    "id": "E4eUkfi_vyxs",
    "outputId": "15546034-a57c-4dba-a325-52b758f4351a"
   },
   "outputs": [],
   "source": [
    "if platform.system() == 'Linux':\n",
    "    import xarray\n",
    "    import time\n",
    "    print (xarray.__version__)\n",
    "    if xarray.__version__ != '0.19.0':\n",
    "        print (\"\"\"\n",
    "    ***********************************************************************************\n",
    "    *\n",
    "    Do not worry, runtime is stopped by design. Please run the notebook again.\n",
    "    *\n",
    "    ***********************************************************************************\n",
    "    \"\"\")\n",
    "        time.sleep(1)\n",
    "        os.kill(os.getpid(), 9)"
   ]
  },
  {
   "cell_type": "markdown",
   "metadata": {
    "id": "WTe-L0uAvyxt"
   },
   "source": [
    "## Load and Setup Python Modules"
   ]
  },
  {
   "cell_type": "code",
   "execution_count": null,
   "metadata": {
    "id": "IIqzPnB8vyxu"
   },
   "outputs": [],
   "source": [
    "import xarray as xr\n",
    "import numpy as np\n",
    "import pandas as pd\n",
    "# supress numpy warnings\n",
    "import warnings\n",
    "warnings.filterwarnings('ignore')\n",
    "import datetime"
   ]
  },
  {
   "cell_type": "code",
   "execution_count": null,
   "metadata": {
    "colab": {
     "base_uri": "https://localhost:8080/",
     "height": 17
    },
    "id": "aW6PUNEzvyxu",
    "outputId": "13c749d0-4776-40a4-9e06-961bdd3a373c"
   },
   "outputs": [],
   "source": [
    "# plotting modules\n",
    "import hvplot.pandas  # noqa\n",
    "import hvplot.xarray  # noqa\n",
    "import holoviews as hv\n",
    "pd.options.plotting.backend = 'hvplot'\n",
    "from IPython.display import Image\n",
    "import matplotlib.pyplot as plt\n",
    "import matplotlib\n",
    "%matplotlib inline"
   ]
  },
  {
   "cell_type": "code",
   "execution_count": null,
   "metadata": {
    "id": "glxPxrJbvyxv"
   },
   "outputs": [],
   "source": [
    "# define Pandas display settings\n",
    "pd.set_option('display.max_rows', None)\n",
    "pd.set_option('display.max_columns', None)\n",
    "pd.set_option('display.width', None)\n",
    "pd.set_option('display.max_colwidth', None)\n",
    "\n",
    "gstiles = hv.Tiles('https://mt1.google.com/vt/lyrs=s&x={X}&y={Y}&z={Z}', name='Google Satellite')\n",
    "ottiles = hv.Tiles('https://tile.opentopomap.org/{Z}/{X}/{Y}.png', name='Open Topo')"
   ]
  },
  {
   "cell_type": "markdown",
   "metadata": {
    "id": "Gyq7-kqHvyxw"
   },
   "source": [
    "## Load Custom Python Modules"
   ]
  },
  {
   "cell_type": "code",
   "execution_count": null,
   "metadata": {
    "id": "m5SMKJ69vyxw"
   },
   "outputs": [],
   "source": [
    "sys.path.append(os.path.join(os.environ['GMTSAR'],'gmtsar', 'py'))\n",
    "\n",
    "from PRM import PRM\n",
    "from SBAS import SBAS"
   ]
  },
  {
   "cell_type": "markdown",
   "metadata": {
    "id": "fQi_KE-Svyxx"
   },
   "source": [
    "## Download and unpack Sentinel-1 scenes"
   ]
  },
  {
   "cell_type": "markdown",
   "metadata": {
    "id": "ji7bKOvNvyxx"
   },
   "source": [
    "$\\large\\color{blue}{\\text{Downloading cropped scenes from iCloud archive file}}$"
   ]
  },
  {
   "cell_type": "code",
   "execution_count": null,
   "metadata": {
    "colab": {
     "base_uri": "https://localhost:8080/"
    },
    "id": "2IOG5ezIZYWt",
    "outputId": "5d0f2812-ab5d-423d-96bf-fe8a85e22589"
   },
   "outputs": [],
   "source": [
    "icloud_urls = {'yamchi_2021.tar.gz': 'https://www.icloud.com/iclouddrive/08eH4fzPmD87xTa_jSTIviAhA#yamchi_2021'}\n",
    "\n",
    "if platform.system() == 'Linux':\n",
    "  !apt install -y jq > /dev/null\n",
    "import os\n",
    "for fname in icloud_urls.keys():\n",
    "  if os.path.isfile(fname):\n",
    "    print ('Already exists iCloud file', fname)\n",
    "    break\n",
    "  print ('Downloading iCloud file', fname)\n",
    "  uid = icloud_urls[fname].split('/')[-1].split('#')[0]\n",
    "  request = f'{{\"shortGUIDs\":[{{\"value\":\"{uid}\"}}]}}'\n",
    "  urls = !curl -s 'https://ckdatabasews.icloud.com/database/1/com.apple.cloudkit/production/public/records/resolve' \\\n",
    "    --data-raw '{request}' --compressed | jq -r '.results[0].rootRecord.fields.fileContent.value.downloadURL'\n",
    "  !curl -so '{fname}' '{urls[0]}'"
   ]
  },
  {
   "cell_type": "code",
   "execution_count": null,
   "metadata": {
    "colab": {
     "base_uri": "https://localhost:8080/"
    },
    "id": "lf4diL7Fvyxy",
    "outputId": "165da997-797f-4870-c54b-c60a12a4eb4e"
   },
   "outputs": [],
   "source": [
    "# unpack the archive\n",
    "!tar -zxvf yamchi_2021.tar.gz\n",
    "# cleanup to free enough free space for the processing below\n",
    "!rm yamchi_2021.tar.gz"
   ]
  },
  {
   "cell_type": "markdown",
   "metadata": {
    "id": "hPd2YYm_vyxz"
   },
   "source": [
    "## Define Processing Parameters"
   ]
  },
  {
   "cell_type": "markdown",
   "metadata": {
    "id": "e132Ej1avyxz"
   },
   "source": [
    "$\\large\\color{blue}{\\text{Note: use prepared tiff and xml files in the DATADIR}}$"
   ]
  },
  {
   "cell_type": "code",
   "execution_count": null,
   "metadata": {
    "id": "ozw2y6fovyxz"
   },
   "outputs": [],
   "source": [
    "# define supermaster image to align the images stack\n",
    "SUPERMASTER  = '2021-02-13'\n",
    "# define master image to build interferogram pairs \n",
    "MASTER       = '2021-04-26'\n",
    "WORKDIR      = 'raw'\n",
    "DATADIR      = 'yamchi_2021'\n",
    "# coherence threshold\n",
    "CORRLIMIT    = 0.40\n",
    "DEFOMAX      = 0\n",
    "# used to show SBAS baseline only, not for calculations\n",
    "BASEDAYS     = 50\n",
    "BASEMETERS   = 150"
   ]
  },
  {
   "cell_type": "markdown",
   "metadata": {
    "id": "4E1okJFDvyx0"
   },
   "source": [
    "## Init SBAS\n",
    "\n",
    "Search recursively for measurement (.tiff) and annotation (.xml) and orbit (.EOF) files in the DATA directory. It can be directory with full unzipped scenes (.SAFE) subdirectories or just a directory with the list of pairs of required .tiff and .xml files (maybe pre-filtered for orbit, polarization and subswath to save disk space). If orbit files and DEM are missed these will be downloaded automatically below."
   ]
  },
  {
   "cell_type": "code",
   "execution_count": null,
   "metadata": {
    "id": "VN2no8i2vyx0"
   },
   "outputs": [],
   "source": [
    "sbas = SBAS(DATADIR, basedir=WORKDIR).set_master(SUPERMASTER)"
   ]
  },
  {
   "cell_type": "code",
   "execution_count": null,
   "metadata": {
    "colab": {
     "base_uri": "https://localhost:8080/",
     "height": 1000
    },
    "id": "m3CkSGGQvyx1",
    "outputId": "dedd2f52-0012-4635-f33a-44d19067dc4e"
   },
   "outputs": [],
   "source": [
    "sbas.to_dataframe()"
   ]
  },
  {
   "cell_type": "markdown",
   "metadata": {
    "id": "HC8rK1TDvyx1"
   },
   "source": [
    "### Download Sentinel-1 Orbits\n",
    "\n",
    "The function below downloads orbit files.\n",
    "Besides, for faster processing we can automatically use pre-downloaded orbit files in data directory."
   ]
  },
  {
   "cell_type": "code",
   "execution_count": null,
   "metadata": {
    "id": "E53hhb0fvyx1"
   },
   "outputs": [],
   "source": [
    "# use pre-downloaded orbit files in the unpacked data directory \n",
    "#sbas.download_orbits()"
   ]
  },
  {
   "cell_type": "code",
   "execution_count": null,
   "metadata": {
    "id": "8Ig-ClfGvyx2"
   },
   "outputs": [],
   "source": [
    "#sbas.to_dataframe()"
   ]
  },
  {
   "cell_type": "markdown",
   "metadata": {
    "id": "YFhS1vw0vyx2"
   },
   "source": [
    "### Download SRTM DEM\n",
    "\n",
    "The function below downloads SRTM1 or SRTM3 DEM and converts heights to ellipsoidal model using EGM96 grid.\n",
    "Besides, for faster processing we can use pre-defined DEM file as explained above.\n",
    "\n",
    "SRTM1 product is 30m resolution DEM and SRTM3 is 90m. SRTM1 is much bigger (~10 times) and is usable for small areas. Mainly 90m SRTM3 is the right choice. Use parameter resolution_meters (60 meters by default) to interpolate the DEM to required resolution for the future processing and output.\n",
    "\n",
    "The DEM grid is NetCDF file."
   ]
  },
  {
   "cell_type": "code",
   "execution_count": null,
   "metadata": {
    "colab": {
     "base_uri": "https://localhost:8080/",
     "height": 83,
     "referenced_widgets": [
      "2f393dcceec845bc9e87ba019a51ef14",
      "53cdc5d42b53465cb3b9cbc9f88f997f",
      "348d1cc020db4558a84a37203d699256",
      "1bb0b17a6fdc443da5e11467a01ec430",
      "dbe68aa04dca419598e1415dd5427a93",
      "4e51c6b99fb34d9fbdaa99c735a0cf14",
      "509faa371c15410d867089936c4ff11c",
      "6f0d2af76cc84f3b897e6efbba471a1b",
      "6779ce51b1aa41e79c0ba53bb70a114f",
      "bb1f840647b74a678a590cb667107b7e",
      "d5c6e330bf654e53803a3fc0c9a8872f"
     ]
    },
    "id": "089h0od9vyx3",
    "outputId": "135dc43a-d88c-4800-82be-83a8c0de634a"
   },
   "outputs": [],
   "source": [
    "if platform.system() == 'Darwin':\n",
    "    # this command allows to download DEM for a large area but it requires GMT 6.1+ and it does not work on Google Colab\n",
    "    sbas.download_dem(backend='GMT')\n",
    "else:\n",
    "    # for old Linux Debian and Ubuntu use default backend to download SRTM3 DEM for large areas (4°x4° and more)\n",
    "    #sbas.download_dem(product='SRTM3')\n",
    "    # for old Linux Debian and Ubuntu use default backend to download SRTM1 DEM for small areas (less than 4°x4°)\n",
    "    sbas.download_dem(product='SRTM1')"
   ]
  },
  {
   "cell_type": "markdown",
   "metadata": {
    "id": "l6apS8c6vyx3"
   },
   "source": [
    "### Static Plots"
   ]
  },
  {
   "cell_type": "code",
   "execution_count": null,
   "metadata": {
    "colab": {
     "base_uri": "https://localhost:8080/",
     "height": 480
    },
    "id": "Mvb3BOGIvyx4",
    "outputId": "f1a4dda1-292b-407c-abae-b6ef17c1e842"
   },
   "outputs": [],
   "source": [
    "plt.figure(figsize=(12,4), dpi=300)\n",
    "sbas.get_dem()[::4,::4].plot.imshow(cmap='gray', vmin=0)\n",
    "plt.scatter(sbas.geoloc()['longitude'], sbas.geoloc()['latitude'], c=sbas.geoloc()['pixel'], cmap='jet')\n",
    "plt.title('Sentinel1 Frame on DEM plus GCP', fontsize=18)\n",
    "plt.show()"
   ]
  },
  {
   "cell_type": "markdown",
   "metadata": {
    "id": "WzriLHhHvyx5"
   },
   "source": [
    "## Align a Pair of Images"
   ]
  },
  {
   "cell_type": "code",
   "execution_count": null,
   "metadata": {
    "colab": {
     "base_uri": "https://localhost:8080/",
     "height": 81,
     "referenced_widgets": [
      "a3ef22b5874d4d4393c3c8cec16686e2",
      "11e10ff07df948a695e737c4e7dd2998",
      "9db69199613849b38e60532467ccc03d",
      "ecf547299c124ed5bc68893404b5fa68",
      "2531ba5551ad4a208a18714f9ce74ab2",
      "bddaefdd4e6a499ab0a12f70fc6f5276",
      "12296614c10542b8af68f21d7fc4111f",
      "e6960289bf804581a0c8a248816d11e1",
      "dab0913f6a684ac6883b5f147ba28770",
      "43f88d70a76f417582ba5adade137545",
      "e449382f4bc24b5ba7fb11bcffc4cde7",
      "91a219c543594b2483ba3e8f88a37fbb",
      "a4c5e46089604873b61f9aa5090ffaf8",
      "cf0f0ccbcbec4ab496b18f67f4823e00",
      "0d5b3188fea04b46b8daeddd4e3139b7",
      "40bccad502f24922a256319e6268c783",
      "2285fff1860c4f3581cd2be978a562ad",
      "261e36cb99684dccafb6a598cb70b045",
      "d030ab7fed2c4f28b59ef95adddbacb5",
      "d18c1c02eaed466dafb6564c6b985962",
      "806634d2675e4a958e4e1e4a4f2fec5f",
      "b7e883799cc047db96ea75dec1d01169"
     ]
    },
    "id": "af6OOizUvyx5",
    "outputId": "8e5450c1-8df7-49ef-df95-7ccab7a55245"
   },
   "outputs": [],
   "source": [
    "sbas.stack_parallel()"
   ]
  },
  {
   "cell_type": "markdown",
   "metadata": {
    "id": "x9qpR3I2vyx6"
   },
   "source": [
    "## DEM in Radar Coordinates"
   ]
  },
  {
   "cell_type": "code",
   "execution_count": null,
   "metadata": {
    "colab": {
     "base_uri": "https://localhost:8080/",
     "height": 49,
     "referenced_widgets": [
      "5fc44bfbd2bc42d7b1c183878f81dc4a",
      "13ba6a44f31441809355ccb19a691063",
      "831d23f5085348c0bec833876591f12f",
      "f9a4723866df41d4a12a10b2fe69257d",
      "6c8f5465374041398b13a15f132db8f3",
      "286452d0b2734167b2b1fd7ba205f178",
      "4514b11cbab7422a8a0cad2a77c9a5dd",
      "bce927342c664af084103c00259e73a7",
      "75f6c67fcf374a91a779e7ce77262683",
      "e145d06dac164ef2846ec2a6f70aac5d",
      "5aaed3db2539431b9138413afd7695b8"
     ]
    },
    "id": "Q2PTf3k6vyx6",
    "outputId": "305a16fd-efa5-4dfa-d4ef-21a2536b1f92"
   },
   "outputs": [],
   "source": [
    "sbas.topo_ra_parallel()"
   ]
  },
  {
   "cell_type": "markdown",
   "metadata": {
    "id": "1duk-YhXvyx7"
   },
   "source": [
    "### Load Grids"
   ]
  },
  {
   "cell_type": "code",
   "execution_count": null,
   "metadata": {
    "id": "P5LJXxOfvyx7"
   },
   "outputs": [],
   "source": [
    "topo_ra = sbas.open_grid('topo_ra')"
   ]
  },
  {
   "cell_type": "markdown",
   "metadata": {
    "id": "TIU3sog0vyx7"
   },
   "source": [
    "### Static Plot"
   ]
  },
  {
   "cell_type": "code",
   "execution_count": null,
   "metadata": {
    "colab": {
     "base_uri": "https://localhost:8080/",
     "height": 435
    },
    "id": "6C6Deq23vyx8",
    "outputId": "2a516ae3-851f-41f0-8a0a-5d5cb2538920"
   },
   "outputs": [],
   "source": [
    "plt.figure(figsize=(12,4), dpi=300)\n",
    "topo_ra[::4,::4].plot.imshow(cmap='gray', vmin=0)\n",
    "plt.xlabel('Range', fontsize=16)\n",
    "plt.ylabel('Azimuth', fontsize=16)\n",
    "plt.title('Topography in Radar Coordinates', fontsize=18)\n",
    "plt.show()"
   ]
  },
  {
   "cell_type": "markdown",
   "metadata": {
    "id": "eMejdMrJvyx9"
   },
   "source": [
    "## Select Master Image Using SBAS Baseline"
   ]
  },
  {
   "cell_type": "code",
   "execution_count": null,
   "metadata": {
    "colab": {
     "base_uri": "https://localhost:8080/",
     "height": 1000
    },
    "id": "uxvBcvXMjV_f",
    "outputId": "c8abce7a-c09c-420b-98b0-7e1024b2237d"
   },
   "outputs": [],
   "source": [
    "baseline_pairs = sbas.baseline_pairs(days=BASEDAYS, meters=BASEMETERS)\n",
    "baseline_pairs"
   ]
  },
  {
   "cell_type": "markdown",
   "metadata": {
    "id": "J6VZg4ESjprb"
   },
   "source": [
    "### Static Plot"
   ]
  },
  {
   "cell_type": "code",
   "execution_count": null,
   "metadata": {
    "colab": {
     "base_uri": "https://localhost:8080/",
     "height": 409
    },
    "id": "ThPt8KyQjrBw",
    "outputId": "26e586d5-50f1-4cf1-ebf0-600abfeb6d8a"
   },
   "outputs": [],
   "source": [
    "plt.figure(figsize=(12,4), dpi=300)\n",
    "ax = plt.gca()\n",
    "\n",
    "lines = [[(row.ref_timeline,row.ref_baseline),(row.rep_timeline,row.rep_baseline)]\n",
    "         for row in baseline_pairs.itertuples()]\n",
    "lc = matplotlib.collections.LineCollection(lines, colors='#30a2da', linewidths=0.5)\n",
    "ax.add_collection(lc)\n",
    "ax.autoscale()\n",
    "ax.margins(0.5)\n",
    "bs1 = baseline_pairs[['ref_timeline','ref_baseline','ref_date']].values\n",
    "bs2 = baseline_pairs[['rep_timeline','rep_baseline','rep_date']].values\n",
    "df = pd.DataFrame(np.concatenate([bs1, bs2]), columns=['timeline','baseline','date']).drop_duplicates()\n",
    "plt.scatter(x=df.timeline, y=df.baseline)\n",
    "for x,y,label in df.values:\n",
    "    plt.annotate(label, (x,y), textcoords=\"offset points\", xytext=(35,3), ha='center',\n",
    "                 c='red' if label == SUPERMASTER else 'black')\n",
    "ax.set_xlabel('Timeline', fontsize=16)\n",
    "ax.set_ylabel('Perpendicular Baseline, [m]', fontsize=16)\n",
    "ax.set_title('SBAS Baseline', fontsize=18)\n",
    "plt.grid()\n",
    "plt.show()"
   ]
  },
  {
   "cell_type": "markdown",
   "metadata": {
    "id": "NCxARRJ7vyx9"
   },
   "source": [
    "## Interferogram"
   ]
  },
  {
   "cell_type": "code",
   "execution_count": null,
   "metadata": {
    "colab": {
     "base_uri": "https://localhost:8080/"
    },
    "id": "CFKvpkGpvyx-",
    "outputId": "b08d7c30-c1b0-400f-9c33-d4d093a244be"
   },
   "outputs": [],
   "source": [
    "# all the SBAS pairs\n",
    "#pairs = baseline_pairs[['ref_date', 'rep_date']]\n",
    "# or generate some kind of sequential pairs instead\n",
    "pairs = list(sbas.to_dataframe().index)\n",
    "# a. generate sequential master-secondary image pairs with different masters \n",
    "#pairs = [(p1, p2) for (p1, p2) in zip(pairs[:-1], pairs[1:])]\n",
    "# b. generate master-secondary image pairs with the 1st image as single master \n",
    "#pairs = [(pairs[0], p) for p in pairs[1:]]\n",
    "# c. generate master-secondary image pairs with the middle baseline image as single master \n",
    "pairs = [(MASTER, p) if MASTER<p else (p, MASTER) for p in pairs if p!=MASTER]\n",
    "pairs"
   ]
  },
  {
   "cell_type": "code",
   "execution_count": null,
   "metadata": {
    "colab": {
     "base_uri": "https://localhost:8080/",
     "height": 49,
     "referenced_widgets": [
      "427f995a0e354021b680e19feef7605e",
      "e68a5a5997e54be5a9ed0e1654d09cd8",
      "70217089b9434ff5940c0ded75901d57",
      "e57c53b4ebc144d598328da7d4a9a114",
      "afff0af2b3144c91aa10c4e197e00747",
      "cd4e737a1579441c8d4c42e0dbbbf733",
      "c930e40c755543a19b92741d0f817061",
      "d3484516ee644477b2d609b836f8d515",
      "58d273aad84f457e954e8e6bfb210fb7",
      "4435be7b251f4d6d8d99d878d6cba729",
      "22e7833685f848059658e62e7fbd2aa6"
     ]
    },
    "id": "DBr-1xnjvyx_",
    "outputId": "1cab7355-fd0b-4547-90fd-d7f63e0fa1a6"
   },
   "outputs": [],
   "source": [
    "# miss \"func\" argument when post-processing is not required\n",
    "# define a postprocessing function for decimation, etc.\n",
    "decimator = lambda dataarray: dataarray.coarsen({'y': 4, 'x': 4}, boundary='trim').median()\n",
    "\n",
    "# default parameters: wavelength=200, psize=32, func=None (no postprocessing)\n",
    "sbas.intf_parallel(pairs, func=decimator)"
   ]
  },
  {
   "cell_type": "markdown",
   "metadata": {
    "id": "_fJ9nqZFvyx_"
   },
   "source": [
    "### Load Grids"
   ]
  },
  {
   "cell_type": "code",
   "execution_count": null,
   "metadata": {
    "id": "M-GCnZW8vyyA"
   },
   "outputs": [],
   "source": [
    "# crop grids for visualization\n",
    "phasefilt = sbas.open_grids(pairs, 'phasefilt', geocode=True).sel(lat=slice(37.7, 38.4), lon=slice(47.9, 48.8))\n",
    "corr = sbas.open_grids(pairs, 'corr', geocode=True).sel(lat=slice(37.7, 38.4), lon=slice(47.9, 48.8))"
   ]
  },
  {
   "cell_type": "code",
   "execution_count": null,
   "metadata": {
    "id": "x4Horl-nzkO_"
   },
   "outputs": [],
   "source": [
    "# add fake master image to the stack\n",
    "# self coherence is always equal to 1\n",
    "before = corr[corr.ref<MASTER]\n",
    "master = xr.ones_like(corr.isel(pair=0))\n",
    "master['ref'] = master['rep'] = MASTER\n",
    "master['pair'] = f'{MASTER} {MASTER}'\n",
    "after = corr[corr.rep>MASTER]\n",
    "mcorr = xr.concat([before, master, after], dim='pair')"
   ]
  },
  {
   "cell_type": "markdown",
   "metadata": {
    "id": "TU02AN3ZruaB"
   },
   "source": [
    "### Static Plot"
   ]
  },
  {
   "cell_type": "code",
   "execution_count": null,
   "metadata": {
    "colab": {
     "base_uri": "https://localhost:8080/",
     "height": 1000
    },
    "id": "lpiRDodgrpuA",
    "outputId": "d4373e7a-b7b0-4869-ee02-8918da370133"
   },
   "outputs": [],
   "source": [
    "fg = xr.where(mcorr>=CORRLIMIT, mcorr, np.nan).plot.imshow(\n",
    "    col='pair',\n",
    "    col_wrap=3, size=4, aspect=1.2,\n",
    "    clim=(0, 1), cmap='gray'\n",
    ")\n",
    "fg.set_ticks(max_xticks=5, max_yticks=5, fontsize='medium')\n",
    "fg.fig.suptitle('Coherence', y=1.02, fontsize=24)\n",
    "plt.savefig(f'Coherence.jpg', dpi=150, quality=95)\n",
    "plt.show()"
   ]
  },
  {
   "cell_type": "code",
   "execution_count": null,
   "metadata": {
    "id": "_JKMyxD5vyyA"
   },
   "outputs": [],
   "source": [
    "# fill low coherence areas by nearest values\n",
    "phasefilt = xr.where(corr>=CORRLIMIT, phasefilt, np.nan)\n",
    "phasefilt = xr.concat([sbas.nearest_grid(phasefilt[ida]) for ida in range(len(phasefilt))], dim='pair')\n",
    "phasefilt = xr.where(np.isnan(corr), np.nan, phasefilt)"
   ]
  },
  {
   "cell_type": "markdown",
   "metadata": {
    "id": "bA2Rxc7YvyyB"
   },
   "source": [
    "### Static Plot"
   ]
  },
  {
   "cell_type": "code",
   "execution_count": null,
   "metadata": {
    "colab": {
     "base_uri": "https://localhost:8080/",
     "height": 1000
    },
    "id": "dHn65f6oSqDo",
    "outputId": "4ff512e3-4804-45fa-d517-14a4abfd40d1"
   },
   "outputs": [],
   "source": [
    "fg = phasefilt.plot.imshow(\n",
    "    col='pair',\n",
    "    col_wrap=3, size=4, aspect=1.2,\n",
    "    vmin=-np.pi, vmax=np.pi, cmap='gist_rainbow_r'\n",
    ")\n",
    "fg.set_ticks(max_xticks=5, max_yticks=5, fontsize='medium')\n",
    "fg.fig.suptitle('Phase, [rad]', y=1.02, fontsize=24)\n",
    "plt.savefig(f'Phase, [rad].jpg', dpi=150, quality=95)\n",
    "plt.show()"
   ]
  },
  {
   "cell_type": "markdown",
   "metadata": {
    "id": "Qy0TYyWsvyyC"
   },
   "source": [
    "## Unwrapping"
   ]
  },
  {
   "cell_type": "code",
   "execution_count": null,
   "metadata": {
    "colab": {
     "base_uri": "https://localhost:8080/",
     "height": 49,
     "referenced_widgets": [
      "38551ad0767840d19f1470a16f7da321",
      "ea7ef4c9730b4ee0a7aed10673d94de6",
      "8816ea82644f468d81b4820eec17eadc",
      "c1526ec7bb55409c878558cdb080150b",
      "9a295085998b4ee5a595ad1a78b9d250",
      "eab582f2256d4334938f98282b4fd062",
      "dccdaf07be06472ea7336c1bf05add19",
      "b4f7f37e98164871b4a1bf350c781937",
      "3a9a67c26d6b4b48bedbc3ecef979a14",
      "1b4b81790ef8498aa33fe4907500055e",
      "ca3d4bb71a9f47ffb86376d3d5de0ffd"
     ]
    },
    "id": "N0a8XdwKvyyC",
    "outputId": "63f04844-ae15-4f95-da12-91bf01f589dc"
   },
   "outputs": [],
   "source": [
    "# generate a custom snaphu config file and use it as argument \"conf\" value\n",
    "# conf = self.PRM().snaphu_config(defomax=0)\n",
    "\n",
    "# we can just miss \"func\" argument when post-processing is not required\n",
    "# define a post-processing function to crop and interpolate low-coherence areas, etc.\n",
    "#cleaner = lambda corr, unwrap: xr.where(corr>=CORRLIMIT, unwrap, np.nan)\n",
    "cleaner = lambda corr, unwrap: sbas.nearest_grid(xr.where(corr>=CORRLIMIT, unwrap, np.nan))\n",
    "\n",
    "# default parameters: threshold=0.1, conf=None, func=None (no postprocessing required)\n",
    "sbas.unwrap_parallel(pairs, threshold=CORRLIMIT, func=cleaner)"
   ]
  },
  {
   "cell_type": "markdown",
   "metadata": {
    "id": "tKE0Vj3avyyD"
   },
   "source": [
    "## LOS Displacement"
   ]
  },
  {
   "cell_type": "markdown",
   "metadata": {
    "id": "MrHY3TQuvyyD"
   },
   "source": [
    "### Calculate Grids"
   ]
  },
  {
   "cell_type": "code",
   "execution_count": null,
   "metadata": {
    "id": "gbmevk4DvyyE"
   },
   "outputs": [],
   "source": [
    "# crop grid for visualization\n",
    "los_disp_mm = sbas.open_grids(pairs, 'unwrap', func=sbas.los_displacement_mm, geocode=True).sel(lat=slice(37.7, 38.4), lon=slice(47.9, 48.8))"
   ]
  },
  {
   "cell_type": "code",
   "execution_count": null,
   "metadata": {
    "id": "8MHgOXG-vyyE"
   },
   "outputs": [],
   "source": [
    "# fill low coherence areas by nearest values\n",
    "los_disp_mm = xr.where(corr>=CORRLIMIT, los_disp_mm, np.nan)\n",
    "los_disp_mm = xr.concat([sbas.nearest_grid(los_disp_mm[ida]) for ida in range(len(los_disp_mm))], dim='pair')\n",
    "los_disp_mm = xr.where(np.isnan(corr), np.nan, los_disp_mm)"
   ]
  },
  {
   "cell_type": "code",
   "execution_count": null,
   "metadata": {
    "id": "9yvY4jVJNDL2"
   },
   "outputs": [],
   "source": [
    "# add fake master image to the stack\n",
    "# master-master pair displacement is always equal to 0\n",
    "before = los_disp_mm[los_disp_mm.ref<MASTER]\n",
    "master = xr.zeros_like(los_disp_mm.isel(pair=0))\n",
    "master['ref'] = master['rep'] = MASTER\n",
    "master['pair'] = f'{MASTER} {MASTER}'\n",
    "after = los_disp_mm[los_disp_mm.rep>MASTER]\n",
    "mlos_disp_mm = xr.concat([-before, master, after], dim='pair')\n",
    "#mlos_disp_mm"
   ]
  },
  {
   "cell_type": "markdown",
   "metadata": {
    "id": "ZO0PP0WsvyyF"
   },
   "source": [
    "### Static Plots"
   ]
  },
  {
   "cell_type": "code",
   "execution_count": null,
   "metadata": {
    "colab": {
     "base_uri": "https://localhost:8080/",
     "height": 1000
    },
    "id": "69SVY8X-RcRc",
    "outputId": "7f1e25cb-6550-4b7a-a462-1280be95fd17"
   },
   "outputs": [],
   "source": [
    "zmin, zmax = np.nanquantile(mlos_disp_mm, [0.01, 0.99])\n",
    "fg = mlos_disp_mm.plot.imshow(\n",
    "    col='pair',\n",
    "    col_wrap=3, size=4, aspect=1.2,\n",
    "    vmin=zmin, vmax=zmax, cmap='jet'\n",
    ")\n",
    "fg.set_ticks(max_xticks=5, max_yticks=5, fontsize='medium')\n",
    "fg.fig.suptitle('LOS Displacement in Geographic Coordinates, [mm]', y=1.02, fontsize=24)\n",
    "plt.savefig(f'LOS Displacement in Geographic Coordinates, [mm].jpg', dpi=150, quality=95)\n",
    "plt.show()"
   ]
  },
  {
   "cell_type": "markdown",
   "metadata": {
    "id": "-wEcI5V7FvGO"
   },
   "source": [
    "## Check Coherence"
   ]
  },
  {
   "cell_type": "code",
   "execution_count": null,
   "metadata": {
    "id": "hPD_VS4Pe-Xv"
   },
   "outputs": [],
   "source": [
    "corr_dam = mcorr.sel(lon=(48.07808,48.08742), lat=(38.07058,38.06925), method='nearest')\n",
    "corr_dam['pair'] = [da.rep.item() if da.pair.item()>MASTER else da.ref.item() for da in corr_dam]\n",
    "#corr_dam"
   ]
  },
  {
   "cell_type": "code",
   "execution_count": null,
   "metadata": {
    "colab": {
     "base_uri": "https://localhost:8080/",
     "height": 364
    },
    "id": "v6ffnmKwzwA0",
    "outputId": "68dc971e-cb96-46eb-da6f-5ae8ef803625"
   },
   "outputs": [],
   "source": [
    "plt.figure(figsize=(20,6))\n",
    "corr_dam[:,0,0].plot(color='red', lw=1, ls='--', label='Top Left')\n",
    "corr_dam[:,0,1].plot(color='black', lw=1, ls='--', label='Top Right')\n",
    "corr_dam[:,1,0].plot(color='blue', lw=1, ls='--', label='Bottom Left')\n",
    "corr_dam[:,1,1].plot(color='green', lw=1, ls='--', label='Bottom Right')\n",
    "corr_dam.mean(['lat', 'lon']).plot(color='red', lw=2, label='Average')\n",
    "plt.legend(loc='lower center', ncol=5, fontsize=24)\n",
    "plt.grid()\n",
    "plt.xlabel('Date', fontsize=24)\n",
    "plt.ylabel('Coherence', fontsize=24)\n",
    "plt.title('Yamchi Dam Coherence', fontsize=30)\n",
    "plt.savefig(f'Yamchi Dam Coherence.jpg', dpi=150, quality=95)\n",
    "plt.show()"
   ]
  },
  {
   "cell_type": "code",
   "execution_count": null,
   "metadata": {
    "id": "Hde2tZZ57J81"
   },
   "outputs": [],
   "source": [
    "# Reference area\n",
    "lat_min = mlos_disp_mm.lat.min()\n",
    "lon_min = mlos_disp_mm.lon.min()\n",
    "corr_ref = mcorr.sel(lat=slice(lat_min, lat_min+0.01), lon=slice(lon_min, lon_min+0.01))\n",
    "corr_ref['pair'] = [da.rep.item() if da.pair.item()>MASTER else da.ref.item() for da in corr_ref]\n",
    "corr_ref_min = corr_ref.min(['lat','lon'])\n",
    "#corr_ref_min['pair'] = corr_ref_min['rep']\n",
    "corr_ref_avg = corr_ref.mean(['lat','lon'])\n",
    "#corr_ref_avg['pair'] = corr_ref_avg['rep']\n",
    "corr_ref_max = corr_ref.max(['lat','lon'])\n",
    "#corr_ref_max['pair'] = corr_ref_max['rep']"
   ]
  },
  {
   "cell_type": "code",
   "execution_count": null,
   "metadata": {
    "colab": {
     "base_uri": "https://localhost:8080/",
     "height": 369
    },
    "id": "sB7_Jf127Owu",
    "outputId": "5a96d7e9-b33a-49b2-83f8-aaa5b28ec3d7"
   },
   "outputs": [],
   "source": [
    "plt.figure(figsize=(20,6))\n",
    "corr_ref_min.plot(color='blue', lw=1, label='Minimum')\n",
    "corr_ref_avg.plot(color='red', lw=1, label='Average')\n",
    "corr_ref_max.plot(color='green', lw=1, label='Maximum')\n",
    "plt.legend(loc='lower center', ncol=5, fontsize=24)\n",
    "plt.grid()\n",
    "plt.xlabel('Date', fontsize=24)\n",
    "plt.ylabel('Coherence', fontsize=24)\n",
    "plt.title('Yamchi Reference Area Coherence', fontsize=30)\n",
    "plt.savefig(f'Yamchi Reference Area Coherence.jpg', dpi=150, quality=95)\n",
    "plt.show()"
   ]
  },
  {
   "cell_type": "markdown",
   "metadata": {
    "id": "9vLFdf1E7iYf"
   },
   "source": [
    "## Yamchi Dam Displacement Analysis"
   ]
  },
  {
   "cell_type": "code",
   "execution_count": null,
   "metadata": {
    "id": "ZhNQwPIE7kXv"
   },
   "outputs": [],
   "source": [
    "# Yamchi Dam points\n",
    "los_disp_mm_dam = mlos_disp_mm.sel(lon=(48.07808,48.08742), lat=(38.07058,38.06925), method='nearest')\n",
    "los_disp_mm_dam['pair'] = [da.rep.item() if da.pair.item()>MASTER else da.ref.item() for da in los_disp_mm_dam]\n",
    "los_disp_mm_dam = xr.where(corr_dam>=CORRLIMIT, los_disp_mm_dam, np.nan)\n",
    "#los_disp_mm_dam"
   ]
  },
  {
   "cell_type": "code",
   "execution_count": null,
   "metadata": {
    "colab": {
     "base_uri": "https://localhost:8080/"
    },
    "id": "9-RjIWRQZLeb",
    "outputId": "e8000397-71ac-4677-b7ce-f800bd84defb"
   },
   "outputs": [],
   "source": [
    "dates = [datetime.datetime.strptime(date, \"%Y-%m-%d\").timetuple().tm_yday for date in los_disp_mm_dam.pair.values]\n",
    "values = los_disp_mm_dam.mean(['lat','lon']).values\n",
    "trend_dam = np.polyfit(dates, values, 1)\n",
    "print (trend_dam)\n",
    "trendpoly = np.poly1d(trend_dam)\n",
    "los_disp_mm_trend_dam = xr.zeros_like(los_disp_mm_dam.mean(['lat','lon']))\n",
    "los_disp_mm_trend_dam.values = trendpoly(dates)\n",
    "#los_disp_mm_trend_dam"
   ]
  },
  {
   "cell_type": "code",
   "execution_count": null,
   "metadata": {
    "colab": {
     "base_uri": "https://localhost:8080/",
     "height": 456
    },
    "id": "T49MMnrUT3ro",
    "outputId": "1bec005d-83dd-4803-8bde-7b0782aaaacc"
   },
   "outputs": [],
   "source": [
    "plt.figure(figsize=(20,6))\n",
    "los_disp_mm_dam[:,0,0].plot(color='red', lw=1, ls='--', label='Top Left')\n",
    "los_disp_mm_dam[:,0,1].plot(color='black', lw=1, ls='--', label='Top Right')\n",
    "los_disp_mm_dam[:,1,0].plot(color='blue', lw=1, ls='--', label='Bottom Left')\n",
    "los_disp_mm_dam[:,1,1].plot(color='green', lw=1, ls='--', label='Bottom Right')\n",
    "los_disp_mm_trend_dam.plot(color='red', lw=2, label='Trend')\n",
    "plt.legend(loc='lower center', ncol=5, fontsize=24)\n",
    "plt.grid()\n",
    "plt.xlabel('Date', fontsize=24)\n",
    "plt.ylabel('LOS Displacement Velocity, [mm/12 days]', fontsize=24)\n",
    "plt.title('Yamchi Dam LOS Displacement', fontsize=30)\n",
    "plt.savefig(f'Yamchi Dam LOS Displacement.jpg', dpi=150, quality=95)\n",
    "plt.show()"
   ]
  },
  {
   "cell_type": "markdown",
   "metadata": {
    "id": "Ic5zHTtYcF7b"
   },
   "source": [
    "## Reference Area Displacement Analysis for Coherence Threshold 0.6"
   ]
  },
  {
   "cell_type": "code",
   "execution_count": null,
   "metadata": {
    "id": "B8hZlOUeD6rW"
   },
   "outputs": [],
   "source": [
    "# Reference area\n",
    "lat_min = mlos_disp_mm.lat.min()\n",
    "lon_min = mlos_disp_mm.lon.min()\n",
    "los_disp_mm_ref = mlos_disp_mm.sel(lat=slice(lat_min, lat_min+0.01), lon=slice(lon_min, lon_min+0.01))\n",
    "los_disp_mm_ref['pair'] = [da.rep.item() if da.pair.item()>MASTER else da.ref.item() for da in los_disp_mm_ref]\n",
    "los_disp_mm_ref = xr.where(corr_ref>=CORRLIMIT, los_disp_mm_ref, np.nan).mean(['lat','lon'])\n",
    "#los_disp_mm_ref"
   ]
  },
  {
   "cell_type": "code",
   "execution_count": null,
   "metadata": {
    "colab": {
     "base_uri": "https://localhost:8080/"
    },
    "id": "VgCxNm8WD681",
    "outputId": "7d409062-7634-41c0-a666-d4126d2abc52"
   },
   "outputs": [],
   "source": [
    "dates = [datetime.datetime.strptime(date, \"%Y-%m-%d\").timetuple().tm_yday for date in los_disp_mm_ref.pair.values]\n",
    "values = los_disp_mm_ref.values\n",
    "trend_ref = np.polyfit(dates, values, 1)\n",
    "print (trend_ref)\n",
    "trendpoly = np.poly1d(trend_ref)\n",
    "los_disp_mm_trend_ref = xr.zeros_like(los_disp_mm_ref)\n",
    "los_disp_mm_trend_ref.values = trendpoly(dates)\n",
    "#los_disp_mm_trend_ref"
   ]
  },
  {
   "cell_type": "code",
   "execution_count": null,
   "metadata": {
    "colab": {
     "base_uri": "https://localhost:8080/",
     "height": 457
    },
    "id": "DGsZCtj5D7F1",
    "outputId": "557a1bd7-5c86-4df5-fdee-6699da95724d"
   },
   "outputs": [],
   "source": [
    "plt.figure(figsize=(20,6))\n",
    "los_disp_mm_ref.plot(color='black', lw=1, ls='--', label='Average')\n",
    "los_disp_mm_trend_ref.plot(color='red', lw=2, label='Trend')\n",
    "plt.legend(loc='lower center', ncol=5, fontsize=24)\n",
    "plt.grid()\n",
    "plt.xlabel('Date', fontsize=24)\n",
    "plt.ylabel('LOS Displacement Velocity, [mm/12 days]', fontsize=24)\n",
    "plt.title('Reference Area LOS Displacement', fontsize=30)\n",
    "plt.savefig(f'Reference Area LOS Displacement.jpg', dpi=150, quality=95)\n",
    "plt.show()"
   ]
  },
  {
   "cell_type": "markdown",
   "metadata": {
    "id": "RSjwoP8YcUtW"
   },
   "source": [
    "## Yamchi Dam vs Reference Area Displacement Analysis"
   ]
  },
  {
   "cell_type": "code",
   "execution_count": null,
   "metadata": {
    "colab": {
     "base_uri": "https://localhost:8080/",
     "height": 456
    },
    "id": "b7zhbSoeD7Pf",
    "outputId": "2092dfa2-fe1a-461b-da22-0013d74d8e09"
   },
   "outputs": [],
   "source": [
    "plt.figure(figsize=(20,6))\n",
    "(los_disp_mm_dam[:,0,0]-los_disp_mm_ref).plot(color='red', lw=1, ls='--', label='Top Left')\n",
    "(los_disp_mm_dam[:,0,1]-los_disp_mm_ref).plot(color='black', lw=1, ls='--', label='Top Right')\n",
    "(los_disp_mm_dam[:,1,0]-los_disp_mm_ref).plot(color='blue', lw=1, ls='--', label='Bottom Left')\n",
    "(los_disp_mm_dam[:,1,1]-los_disp_mm_ref).plot(color='green', lw=1, ls='--', label='Bottom Right')\n",
    "(los_disp_mm_trend_dam-los_disp_mm_trend_ref).plot(color='red', lw=2, label='Trend')\n",
    "plt.legend(loc='lower center', ncol=5, fontsize=24)\n",
    "plt.grid()\n",
    "plt.xlabel('Date', fontsize=24)\n",
    "plt.ylabel('LOS Displacement Velocity, [mm/12 days]', fontsize=24)\n",
    "plt.title('Yamchi Dam vs Reference Area LOS Displacement', fontsize=30)\n",
    "plt.savefig(f'Yamchi Dam vs Reference Area LOS Displacement.jpg', dpi=150, quality=95)\n",
    "plt.show()"
   ]
  },
  {
   "cell_type": "markdown",
   "metadata": {
    "id": "GNtYOSTzk_Af"
   },
   "source": [
    "## Build Output NetCDF 3D cubes"
   ]
  },
  {
   "cell_type": "code",
   "execution_count": null,
   "metadata": {
    "id": "UfEFuvO0lAPP"
   },
   "outputs": [],
   "source": [
    "#_los_disp_mm_ref = los_disp_mm_ref.copy()\n",
    "#_los_disp_mm_ref['pair'] = los_disp_mm['pair']\n",
    "_mlos_disp_mm = mlos_disp_mm.copy(deep=True)\n",
    "_mlos_disp_mm['pair'] = [da.rep.item() if da.pair.item()>MASTER else da.ref.item() for da in _mlos_disp_mm]\n",
    "los_disp_mm_deref = _mlos_disp_mm - los_disp_mm_ref\n",
    "los_disp_mm_deref.to_netcdf('los_disp_mm_deref.nc')\n",
    "#los_disp_mm_deref"
   ]
  },
  {
   "cell_type": "code",
   "execution_count": null,
   "metadata": {
    "id": "JCzK49sO3irX"
   },
   "outputs": [],
   "source": [
    "mcorr.to_netcdf('corr.nc')"
   ]
  },
  {
   "cell_type": "markdown",
   "metadata": {
    "id": "ED12klc_3Rhv"
   },
   "source": [
    "### Export from Google Colab"
   ]
  },
  {
   "cell_type": "code",
   "execution_count": null,
   "metadata": {
    "colab": {
     "base_uri": "https://localhost:8080/",
     "height": 17
    },
    "id": "U4MXXA6k3SBN",
    "outputId": "3d5579d4-7b9d-47be-f614-d4b191b48588"
   },
   "outputs": [],
   "source": [
    "try:\n",
    "    from google.colab import files\n",
    "    files.download('los_disp_mm_deref.nc')\n",
    "    files.download('corr.nc')\n",
    "except:\n",
    "    pass"
   ]
  }
 ],
 "metadata": {
  "colab": {
   "collapsed_sections": [],
   "name": "S1A_Yamchi_2021_Timeseries Analysis.ipynb",
   "provenance": []
  },
  "environment": {
   "name": "common-cpu.m80",
   "type": "gcloud",
   "uri": "gcr.io/deeplearning-platform-release/base-cpu:m80"
  },
  "kernelspec": {
   "display_name": "Python 3 (ipykernel)",
   "language": "python",
   "name": "python3"
  },
  "language_info": {
   "codemirror_mode": {
    "name": "ipython",
    "version": 3
   },
   "file_extension": ".py",
   "mimetype": "text/x-python",
   "name": "python",
   "nbconvert_exporter": "python",
   "pygments_lexer": "ipython3",
   "version": "3.9.13"
  },
  "widgets": {
   "application/vnd.jupyter.widget-state+json": {
    "0d5b3188fea04b46b8daeddd4e3139b7": {
     "model_module": "@jupyter-widgets/controls",
     "model_module_version": "1.5.0",
     "model_name": "HTMLModel",
     "state": {
      "_dom_classes": [],
      "_model_module": "@jupyter-widgets/controls",
      "_model_module_version": "1.5.0",
      "_model_name": "HTMLModel",
      "_view_count": null,
      "_view_module": "@jupyter-widgets/controls",
      "_view_module_version": "1.5.0",
      "_view_name": "HTMLView",
      "description": "",
      "description_tooltip": null,
      "layout": "IPY_MODEL_806634d2675e4a958e4e1e4a4f2fec5f",
      "placeholder": "​",
      "style": "IPY_MODEL_b7e883799cc047db96ea75dec1d01169",
      "value": " 17/17 [26:26&lt;00:00, 88.72s/it]"
     }
    },
    "11e10ff07df948a695e737c4e7dd2998": {
     "model_module": "@jupyter-widgets/controls",
     "model_module_version": "1.5.0",
     "model_name": "HTMLModel",
     "state": {
      "_dom_classes": [],
      "_model_module": "@jupyter-widgets/controls",
      "_model_module_version": "1.5.0",
      "_model_name": "HTMLModel",
      "_view_count": null,
      "_view_module": "@jupyter-widgets/controls",
      "_view_module_version": "1.5.0",
      "_view_name": "HTMLView",
      "description": "",
      "description_tooltip": null,
      "layout": "IPY_MODEL_bddaefdd4e6a499ab0a12f70fc6f5276",
      "placeholder": "​",
      "style": "IPY_MODEL_12296614c10542b8af68f21d7fc4111f",
      "value": "Reference: 100%"
     }
    },
    "12296614c10542b8af68f21d7fc4111f": {
     "model_module": "@jupyter-widgets/controls",
     "model_module_version": "1.5.0",
     "model_name": "DescriptionStyleModel",
     "state": {
      "_model_module": "@jupyter-widgets/controls",
      "_model_module_version": "1.5.0",
      "_model_name": "DescriptionStyleModel",
      "_view_count": null,
      "_view_module": "@jupyter-widgets/base",
      "_view_module_version": "1.2.0",
      "_view_name": "StyleView",
      "description_width": ""
     }
    },
    "13ba6a44f31441809355ccb19a691063": {
     "model_module": "@jupyter-widgets/controls",
     "model_module_version": "1.5.0",
     "model_name": "HTMLModel",
     "state": {
      "_dom_classes": [],
      "_model_module": "@jupyter-widgets/controls",
      "_model_module_version": "1.5.0",
      "_model_name": "HTMLModel",
      "_view_count": null,
      "_view_module": "@jupyter-widgets/controls",
      "_view_module_version": "1.5.0",
      "_view_name": "HTMLView",
      "description": "",
      "description_tooltip": null,
      "layout": "IPY_MODEL_286452d0b2734167b2b1fd7ba205f178",
      "placeholder": "​",
      "style": "IPY_MODEL_4514b11cbab7422a8a0cad2a77c9a5dd",
      "value": "Transforming Coordinates: 100%"
     }
    },
    "1b4b81790ef8498aa33fe4907500055e": {
     "model_module": "@jupyter-widgets/base",
     "model_module_version": "1.2.0",
     "model_name": "LayoutModel",
     "state": {
      "_model_module": "@jupyter-widgets/base",
      "_model_module_version": "1.2.0",
      "_model_name": "LayoutModel",
      "_view_count": null,
      "_view_module": "@jupyter-widgets/base",
      "_view_module_version": "1.2.0",
      "_view_name": "LayoutView",
      "align_content": null,
      "align_items": null,
      "align_self": null,
      "border": null,
      "bottom": null,
      "display": null,
      "flex": null,
      "flex_flow": null,
      "grid_area": null,
      "grid_auto_columns": null,
      "grid_auto_flow": null,
      "grid_auto_rows": null,
      "grid_column": null,
      "grid_gap": null,
      "grid_row": null,
      "grid_template_areas": null,
      "grid_template_columns": null,
      "grid_template_rows": null,
      "height": null,
      "justify_content": null,
      "justify_items": null,
      "left": null,
      "margin": null,
      "max_height": null,
      "max_width": null,
      "min_height": null,
      "min_width": null,
      "object_fit": null,
      "object_position": null,
      "order": null,
      "overflow": null,
      "overflow_x": null,
      "overflow_y": null,
      "padding": null,
      "right": null,
      "top": null,
      "visibility": null,
      "width": null
     }
    },
    "1bb0b17a6fdc443da5e11467a01ec430": {
     "model_module": "@jupyter-widgets/controls",
     "model_module_version": "1.5.0",
     "model_name": "HTMLModel",
     "state": {
      "_dom_classes": [],
      "_model_module": "@jupyter-widgets/controls",
      "_model_module_version": "1.5.0",
      "_model_name": "HTMLModel",
      "_view_count": null,
      "_view_module": "@jupyter-widgets/controls",
      "_view_module_version": "1.5.0",
      "_view_name": "HTMLView",
      "description": "",
      "description_tooltip": null,
      "layout": "IPY_MODEL_bb1f840647b74a678a590cb667107b7e",
      "placeholder": "​",
      "style": "IPY_MODEL_d5c6e330bf654e53803a3fc0c9a8872f",
      "value": " 1/1 [03:43&lt;00:00, 223.06s/it]"
     }
    },
    "2285fff1860c4f3581cd2be978a562ad": {
     "model_module": "@jupyter-widgets/base",
     "model_module_version": "1.2.0",
     "model_name": "LayoutModel",
     "state": {
      "_model_module": "@jupyter-widgets/base",
      "_model_module_version": "1.2.0",
      "_model_name": "LayoutModel",
      "_view_count": null,
      "_view_module": "@jupyter-widgets/base",
      "_view_module_version": "1.2.0",
      "_view_name": "LayoutView",
      "align_content": null,
      "align_items": null,
      "align_self": null,
      "border": null,
      "bottom": null,
      "display": null,
      "flex": null,
      "flex_flow": null,
      "grid_area": null,
      "grid_auto_columns": null,
      "grid_auto_flow": null,
      "grid_auto_rows": null,
      "grid_column": null,
      "grid_gap": null,
      "grid_row": null,
      "grid_template_areas": null,
      "grid_template_columns": null,
      "grid_template_rows": null,
      "height": null,
      "justify_content": null,
      "justify_items": null,
      "left": null,
      "margin": null,
      "max_height": null,
      "max_width": null,
      "min_height": null,
      "min_width": null,
      "object_fit": null,
      "object_position": null,
      "order": null,
      "overflow": null,
      "overflow_x": null,
      "overflow_y": null,
      "padding": null,
      "right": null,
      "top": null,
      "visibility": null,
      "width": null
     }
    },
    "22e7833685f848059658e62e7fbd2aa6": {
     "model_module": "@jupyter-widgets/controls",
     "model_module_version": "1.5.0",
     "model_name": "DescriptionStyleModel",
     "state": {
      "_model_module": "@jupyter-widgets/controls",
      "_model_module_version": "1.5.0",
      "_model_name": "DescriptionStyleModel",
      "_view_count": null,
      "_view_module": "@jupyter-widgets/base",
      "_view_module_version": "1.2.0",
      "_view_name": "StyleView",
      "description_width": ""
     }
    },
    "2531ba5551ad4a208a18714f9ce74ab2": {
     "model_module": "@jupyter-widgets/base",
     "model_module_version": "1.2.0",
     "model_name": "LayoutModel",
     "state": {
      "_model_module": "@jupyter-widgets/base",
      "_model_module_version": "1.2.0",
      "_model_name": "LayoutModel",
      "_view_count": null,
      "_view_module": "@jupyter-widgets/base",
      "_view_module_version": "1.2.0",
      "_view_name": "LayoutView",
      "align_content": null,
      "align_items": null,
      "align_self": null,
      "border": null,
      "bottom": null,
      "display": null,
      "flex": null,
      "flex_flow": null,
      "grid_area": null,
      "grid_auto_columns": null,
      "grid_auto_flow": null,
      "grid_auto_rows": null,
      "grid_column": null,
      "grid_gap": null,
      "grid_row": null,
      "grid_template_areas": null,
      "grid_template_columns": null,
      "grid_template_rows": null,
      "height": null,
      "justify_content": null,
      "justify_items": null,
      "left": null,
      "margin": null,
      "max_height": null,
      "max_width": null,
      "min_height": null,
      "min_width": null,
      "object_fit": null,
      "object_position": null,
      "order": null,
      "overflow": null,
      "overflow_x": null,
      "overflow_y": null,
      "padding": null,
      "right": null,
      "top": null,
      "visibility": null,
      "width": null
     }
    },
    "261e36cb99684dccafb6a598cb70b045": {
     "model_module": "@jupyter-widgets/controls",
     "model_module_version": "1.5.0",
     "model_name": "DescriptionStyleModel",
     "state": {
      "_model_module": "@jupyter-widgets/controls",
      "_model_module_version": "1.5.0",
      "_model_name": "DescriptionStyleModel",
      "_view_count": null,
      "_view_module": "@jupyter-widgets/base",
      "_view_module_version": "1.2.0",
      "_view_name": "StyleView",
      "description_width": ""
     }
    },
    "286452d0b2734167b2b1fd7ba205f178": {
     "model_module": "@jupyter-widgets/base",
     "model_module_version": "1.2.0",
     "model_name": "LayoutModel",
     "state": {
      "_model_module": "@jupyter-widgets/base",
      "_model_module_version": "1.2.0",
      "_model_name": "LayoutModel",
      "_view_count": null,
      "_view_module": "@jupyter-widgets/base",
      "_view_module_version": "1.2.0",
      "_view_name": "LayoutView",
      "align_content": null,
      "align_items": null,
      "align_self": null,
      "border": null,
      "bottom": null,
      "display": null,
      "flex": null,
      "flex_flow": null,
      "grid_area": null,
      "grid_auto_columns": null,
      "grid_auto_flow": null,
      "grid_auto_rows": null,
      "grid_column": null,
      "grid_gap": null,
      "grid_row": null,
      "grid_template_areas": null,
      "grid_template_columns": null,
      "grid_template_rows": null,
      "height": null,
      "justify_content": null,
      "justify_items": null,
      "left": null,
      "margin": null,
      "max_height": null,
      "max_width": null,
      "min_height": null,
      "min_width": null,
      "object_fit": null,
      "object_position": null,
      "order": null,
      "overflow": null,
      "overflow_x": null,
      "overflow_y": null,
      "padding": null,
      "right": null,
      "top": null,
      "visibility": null,
      "width": null
     }
    },
    "2f393dcceec845bc9e87ba019a51ef14": {
     "model_module": "@jupyter-widgets/controls",
     "model_module_version": "1.5.0",
     "model_name": "HBoxModel",
     "state": {
      "_dom_classes": [],
      "_model_module": "@jupyter-widgets/controls",
      "_model_module_version": "1.5.0",
      "_model_name": "HBoxModel",
      "_view_count": null,
      "_view_module": "@jupyter-widgets/controls",
      "_view_module_version": "1.5.0",
      "_view_name": "HBoxView",
      "box_style": "",
      "children": [
       "IPY_MODEL_53cdc5d42b53465cb3b9cbc9f88f997f",
       "IPY_MODEL_348d1cc020db4558a84a37203d699256",
       "IPY_MODEL_1bb0b17a6fdc443da5e11467a01ec430"
      ],
      "layout": "IPY_MODEL_dbe68aa04dca419598e1415dd5427a93"
     }
    },
    "348d1cc020db4558a84a37203d699256": {
     "model_module": "@jupyter-widgets/controls",
     "model_module_version": "1.5.0",
     "model_name": "FloatProgressModel",
     "state": {
      "_dom_classes": [],
      "_model_module": "@jupyter-widgets/controls",
      "_model_module_version": "1.5.0",
      "_model_name": "FloatProgressModel",
      "_view_count": null,
      "_view_module": "@jupyter-widgets/controls",
      "_view_module_version": "1.5.0",
      "_view_name": "ProgressView",
      "bar_style": "success",
      "description": "",
      "description_tooltip": null,
      "layout": "IPY_MODEL_6f0d2af76cc84f3b897e6efbba471a1b",
      "max": 1,
      "min": 0,
      "orientation": "horizontal",
      "style": "IPY_MODEL_6779ce51b1aa41e79c0ba53bb70a114f",
      "value": 1
     }
    },
    "38551ad0767840d19f1470a16f7da321": {
     "model_module": "@jupyter-widgets/controls",
     "model_module_version": "1.5.0",
     "model_name": "HBoxModel",
     "state": {
      "_dom_classes": [],
      "_model_module": "@jupyter-widgets/controls",
      "_model_module_version": "1.5.0",
      "_model_name": "HBoxModel",
      "_view_count": null,
      "_view_module": "@jupyter-widgets/controls",
      "_view_module_version": "1.5.0",
      "_view_name": "HBoxView",
      "box_style": "",
      "children": [
       "IPY_MODEL_ea7ef4c9730b4ee0a7aed10673d94de6",
       "IPY_MODEL_8816ea82644f468d81b4820eec17eadc",
       "IPY_MODEL_c1526ec7bb55409c878558cdb080150b"
      ],
      "layout": "IPY_MODEL_9a295085998b4ee5a595ad1a78b9d250"
     }
    },
    "3a9a67c26d6b4b48bedbc3ecef979a14": {
     "model_module": "@jupyter-widgets/controls",
     "model_module_version": "1.5.0",
     "model_name": "ProgressStyleModel",
     "state": {
      "_model_module": "@jupyter-widgets/controls",
      "_model_module_version": "1.5.0",
      "_model_name": "ProgressStyleModel",
      "_view_count": null,
      "_view_module": "@jupyter-widgets/base",
      "_view_module_version": "1.2.0",
      "_view_name": "StyleView",
      "bar_color": null,
      "description_width": ""
     }
    },
    "40bccad502f24922a256319e6268c783": {
     "model_module": "@jupyter-widgets/base",
     "model_module_version": "1.2.0",
     "model_name": "LayoutModel",
     "state": {
      "_model_module": "@jupyter-widgets/base",
      "_model_module_version": "1.2.0",
      "_model_name": "LayoutModel",
      "_view_count": null,
      "_view_module": "@jupyter-widgets/base",
      "_view_module_version": "1.2.0",
      "_view_name": "LayoutView",
      "align_content": null,
      "align_items": null,
      "align_self": null,
      "border": null,
      "bottom": null,
      "display": null,
      "flex": null,
      "flex_flow": null,
      "grid_area": null,
      "grid_auto_columns": null,
      "grid_auto_flow": null,
      "grid_auto_rows": null,
      "grid_column": null,
      "grid_gap": null,
      "grid_row": null,
      "grid_template_areas": null,
      "grid_template_columns": null,
      "grid_template_rows": null,
      "height": null,
      "justify_content": null,
      "justify_items": null,
      "left": null,
      "margin": null,
      "max_height": null,
      "max_width": null,
      "min_height": null,
      "min_width": null,
      "object_fit": null,
      "object_position": null,
      "order": null,
      "overflow": null,
      "overflow_x": null,
      "overflow_y": null,
      "padding": null,
      "right": null,
      "top": null,
      "visibility": null,
      "width": null
     }
    },
    "427f995a0e354021b680e19feef7605e": {
     "model_module": "@jupyter-widgets/controls",
     "model_module_version": "1.5.0",
     "model_name": "HBoxModel",
     "state": {
      "_dom_classes": [],
      "_model_module": "@jupyter-widgets/controls",
      "_model_module_version": "1.5.0",
      "_model_name": "HBoxModel",
      "_view_count": null,
      "_view_module": "@jupyter-widgets/controls",
      "_view_module_version": "1.5.0",
      "_view_name": "HBoxView",
      "box_style": "",
      "children": [
       "IPY_MODEL_e68a5a5997e54be5a9ed0e1654d09cd8",
       "IPY_MODEL_70217089b9434ff5940c0ded75901d57",
       "IPY_MODEL_e57c53b4ebc144d598328da7d4a9a114"
      ],
      "layout": "IPY_MODEL_afff0af2b3144c91aa10c4e197e00747"
     }
    },
    "43f88d70a76f417582ba5adade137545": {
     "model_module": "@jupyter-widgets/base",
     "model_module_version": "1.2.0",
     "model_name": "LayoutModel",
     "state": {
      "_model_module": "@jupyter-widgets/base",
      "_model_module_version": "1.2.0",
      "_model_name": "LayoutModel",
      "_view_count": null,
      "_view_module": "@jupyter-widgets/base",
      "_view_module_version": "1.2.0",
      "_view_name": "LayoutView",
      "align_content": null,
      "align_items": null,
      "align_self": null,
      "border": null,
      "bottom": null,
      "display": null,
      "flex": null,
      "flex_flow": null,
      "grid_area": null,
      "grid_auto_columns": null,
      "grid_auto_flow": null,
      "grid_auto_rows": null,
      "grid_column": null,
      "grid_gap": null,
      "grid_row": null,
      "grid_template_areas": null,
      "grid_template_columns": null,
      "grid_template_rows": null,
      "height": null,
      "justify_content": null,
      "justify_items": null,
      "left": null,
      "margin": null,
      "max_height": null,
      "max_width": null,
      "min_height": null,
      "min_width": null,
      "object_fit": null,
      "object_position": null,
      "order": null,
      "overflow": null,
      "overflow_x": null,
      "overflow_y": null,
      "padding": null,
      "right": null,
      "top": null,
      "visibility": null,
      "width": null
     }
    },
    "4435be7b251f4d6d8d99d878d6cba729": {
     "model_module": "@jupyter-widgets/base",
     "model_module_version": "1.2.0",
     "model_name": "LayoutModel",
     "state": {
      "_model_module": "@jupyter-widgets/base",
      "_model_module_version": "1.2.0",
      "_model_name": "LayoutModel",
      "_view_count": null,
      "_view_module": "@jupyter-widgets/base",
      "_view_module_version": "1.2.0",
      "_view_name": "LayoutView",
      "align_content": null,
      "align_items": null,
      "align_self": null,
      "border": null,
      "bottom": null,
      "display": null,
      "flex": null,
      "flex_flow": null,
      "grid_area": null,
      "grid_auto_columns": null,
      "grid_auto_flow": null,
      "grid_auto_rows": null,
      "grid_column": null,
      "grid_gap": null,
      "grid_row": null,
      "grid_template_areas": null,
      "grid_template_columns": null,
      "grid_template_rows": null,
      "height": null,
      "justify_content": null,
      "justify_items": null,
      "left": null,
      "margin": null,
      "max_height": null,
      "max_width": null,
      "min_height": null,
      "min_width": null,
      "object_fit": null,
      "object_position": null,
      "order": null,
      "overflow": null,
      "overflow_x": null,
      "overflow_y": null,
      "padding": null,
      "right": null,
      "top": null,
      "visibility": null,
      "width": null
     }
    },
    "4514b11cbab7422a8a0cad2a77c9a5dd": {
     "model_module": "@jupyter-widgets/controls",
     "model_module_version": "1.5.0",
     "model_name": "DescriptionStyleModel",
     "state": {
      "_model_module": "@jupyter-widgets/controls",
      "_model_module_version": "1.5.0",
      "_model_name": "DescriptionStyleModel",
      "_view_count": null,
      "_view_module": "@jupyter-widgets/base",
      "_view_module_version": "1.2.0",
      "_view_name": "StyleView",
      "description_width": ""
     }
    },
    "4e51c6b99fb34d9fbdaa99c735a0cf14": {
     "model_module": "@jupyter-widgets/base",
     "model_module_version": "1.2.0",
     "model_name": "LayoutModel",
     "state": {
      "_model_module": "@jupyter-widgets/base",
      "_model_module_version": "1.2.0",
      "_model_name": "LayoutModel",
      "_view_count": null,
      "_view_module": "@jupyter-widgets/base",
      "_view_module_version": "1.2.0",
      "_view_name": "LayoutView",
      "align_content": null,
      "align_items": null,
      "align_self": null,
      "border": null,
      "bottom": null,
      "display": null,
      "flex": null,
      "flex_flow": null,
      "grid_area": null,
      "grid_auto_columns": null,
      "grid_auto_flow": null,
      "grid_auto_rows": null,
      "grid_column": null,
      "grid_gap": null,
      "grid_row": null,
      "grid_template_areas": null,
      "grid_template_columns": null,
      "grid_template_rows": null,
      "height": null,
      "justify_content": null,
      "justify_items": null,
      "left": null,
      "margin": null,
      "max_height": null,
      "max_width": null,
      "min_height": null,
      "min_width": null,
      "object_fit": null,
      "object_position": null,
      "order": null,
      "overflow": null,
      "overflow_x": null,
      "overflow_y": null,
      "padding": null,
      "right": null,
      "top": null,
      "visibility": null,
      "width": null
     }
    },
    "509faa371c15410d867089936c4ff11c": {
     "model_module": "@jupyter-widgets/controls",
     "model_module_version": "1.5.0",
     "model_name": "DescriptionStyleModel",
     "state": {
      "_model_module": "@jupyter-widgets/controls",
      "_model_module_version": "1.5.0",
      "_model_name": "DescriptionStyleModel",
      "_view_count": null,
      "_view_module": "@jupyter-widgets/base",
      "_view_module_version": "1.2.0",
      "_view_name": "StyleView",
      "description_width": ""
     }
    },
    "53cdc5d42b53465cb3b9cbc9f88f997f": {
     "model_module": "@jupyter-widgets/controls",
     "model_module_version": "1.5.0",
     "model_name": "HTMLModel",
     "state": {
      "_dom_classes": [],
      "_model_module": "@jupyter-widgets/controls",
      "_model_module_version": "1.5.0",
      "_model_name": "HTMLModel",
      "_view_count": null,
      "_view_module": "@jupyter-widgets/controls",
      "_view_module_version": "1.5.0",
      "_view_name": "HTMLView",
      "description": "",
      "description_tooltip": null,
      "layout": "IPY_MODEL_4e51c6b99fb34d9fbdaa99c735a0cf14",
      "placeholder": "​",
      "style": "IPY_MODEL_509faa371c15410d867089936c4ff11c",
      "value": "Downloading: 100%"
     }
    },
    "58d273aad84f457e954e8e6bfb210fb7": {
     "model_module": "@jupyter-widgets/controls",
     "model_module_version": "1.5.0",
     "model_name": "ProgressStyleModel",
     "state": {
      "_model_module": "@jupyter-widgets/controls",
      "_model_module_version": "1.5.0",
      "_model_name": "ProgressStyleModel",
      "_view_count": null,
      "_view_module": "@jupyter-widgets/base",
      "_view_module_version": "1.2.0",
      "_view_name": "StyleView",
      "bar_color": null,
      "description_width": ""
     }
    },
    "5aaed3db2539431b9138413afd7695b8": {
     "model_module": "@jupyter-widgets/controls",
     "model_module_version": "1.5.0",
     "model_name": "DescriptionStyleModel",
     "state": {
      "_model_module": "@jupyter-widgets/controls",
      "_model_module_version": "1.5.0",
      "_model_name": "DescriptionStyleModel",
      "_view_count": null,
      "_view_module": "@jupyter-widgets/base",
      "_view_module_version": "1.2.0",
      "_view_name": "StyleView",
      "description_width": ""
     }
    },
    "5fc44bfbd2bc42d7b1c183878f81dc4a": {
     "model_module": "@jupyter-widgets/controls",
     "model_module_version": "1.5.0",
     "model_name": "HBoxModel",
     "state": {
      "_dom_classes": [],
      "_model_module": "@jupyter-widgets/controls",
      "_model_module_version": "1.5.0",
      "_model_name": "HBoxModel",
      "_view_count": null,
      "_view_module": "@jupyter-widgets/controls",
      "_view_module_version": "1.5.0",
      "_view_name": "HBoxView",
      "box_style": "",
      "children": [
       "IPY_MODEL_13ba6a44f31441809355ccb19a691063",
       "IPY_MODEL_831d23f5085348c0bec833876591f12f",
       "IPY_MODEL_f9a4723866df41d4a12a10b2fe69257d"
      ],
      "layout": "IPY_MODEL_6c8f5465374041398b13a15f132db8f3"
     }
    },
    "6779ce51b1aa41e79c0ba53bb70a114f": {
     "model_module": "@jupyter-widgets/controls",
     "model_module_version": "1.5.0",
     "model_name": "ProgressStyleModel",
     "state": {
      "_model_module": "@jupyter-widgets/controls",
      "_model_module_version": "1.5.0",
      "_model_name": "ProgressStyleModel",
      "_view_count": null,
      "_view_module": "@jupyter-widgets/base",
      "_view_module_version": "1.2.0",
      "_view_name": "StyleView",
      "bar_color": null,
      "description_width": ""
     }
    },
    "6c8f5465374041398b13a15f132db8f3": {
     "model_module": "@jupyter-widgets/base",
     "model_module_version": "1.2.0",
     "model_name": "LayoutModel",
     "state": {
      "_model_module": "@jupyter-widgets/base",
      "_model_module_version": "1.2.0",
      "_model_name": "LayoutModel",
      "_view_count": null,
      "_view_module": "@jupyter-widgets/base",
      "_view_module_version": "1.2.0",
      "_view_name": "LayoutView",
      "align_content": null,
      "align_items": null,
      "align_self": null,
      "border": null,
      "bottom": null,
      "display": null,
      "flex": null,
      "flex_flow": null,
      "grid_area": null,
      "grid_auto_columns": null,
      "grid_auto_flow": null,
      "grid_auto_rows": null,
      "grid_column": null,
      "grid_gap": null,
      "grid_row": null,
      "grid_template_areas": null,
      "grid_template_columns": null,
      "grid_template_rows": null,
      "height": null,
      "justify_content": null,
      "justify_items": null,
      "left": null,
      "margin": null,
      "max_height": null,
      "max_width": null,
      "min_height": null,
      "min_width": null,
      "object_fit": null,
      "object_position": null,
      "order": null,
      "overflow": null,
      "overflow_x": null,
      "overflow_y": null,
      "padding": null,
      "right": null,
      "top": null,
      "visibility": null,
      "width": null
     }
    },
    "6f0d2af76cc84f3b897e6efbba471a1b": {
     "model_module": "@jupyter-widgets/base",
     "model_module_version": "1.2.0",
     "model_name": "LayoutModel",
     "state": {
      "_model_module": "@jupyter-widgets/base",
      "_model_module_version": "1.2.0",
      "_model_name": "LayoutModel",
      "_view_count": null,
      "_view_module": "@jupyter-widgets/base",
      "_view_module_version": "1.2.0",
      "_view_name": "LayoutView",
      "align_content": null,
      "align_items": null,
      "align_self": null,
      "border": null,
      "bottom": null,
      "display": null,
      "flex": null,
      "flex_flow": null,
      "grid_area": null,
      "grid_auto_columns": null,
      "grid_auto_flow": null,
      "grid_auto_rows": null,
      "grid_column": null,
      "grid_gap": null,
      "grid_row": null,
      "grid_template_areas": null,
      "grid_template_columns": null,
      "grid_template_rows": null,
      "height": null,
      "justify_content": null,
      "justify_items": null,
      "left": null,
      "margin": null,
      "max_height": null,
      "max_width": null,
      "min_height": null,
      "min_width": null,
      "object_fit": null,
      "object_position": null,
      "order": null,
      "overflow": null,
      "overflow_x": null,
      "overflow_y": null,
      "padding": null,
      "right": null,
      "top": null,
      "visibility": null,
      "width": null
     }
    },
    "70217089b9434ff5940c0ded75901d57": {
     "model_module": "@jupyter-widgets/controls",
     "model_module_version": "1.5.0",
     "model_name": "FloatProgressModel",
     "state": {
      "_dom_classes": [],
      "_model_module": "@jupyter-widgets/controls",
      "_model_module_version": "1.5.0",
      "_model_name": "FloatProgressModel",
      "_view_count": null,
      "_view_module": "@jupyter-widgets/controls",
      "_view_module_version": "1.5.0",
      "_view_name": "ProgressView",
      "bar_style": "success",
      "description": "",
      "description_tooltip": null,
      "layout": "IPY_MODEL_d3484516ee644477b2d609b836f8d515",
      "max": 17,
      "min": 0,
      "orientation": "horizontal",
      "style": "IPY_MODEL_58d273aad84f457e954e8e6bfb210fb7",
      "value": 17
     }
    },
    "75f6c67fcf374a91a779e7ce77262683": {
     "model_module": "@jupyter-widgets/controls",
     "model_module_version": "1.5.0",
     "model_name": "ProgressStyleModel",
     "state": {
      "_model_module": "@jupyter-widgets/controls",
      "_model_module_version": "1.5.0",
      "_model_name": "ProgressStyleModel",
      "_view_count": null,
      "_view_module": "@jupyter-widgets/base",
      "_view_module_version": "1.2.0",
      "_view_name": "StyleView",
      "bar_color": null,
      "description_width": ""
     }
    },
    "806634d2675e4a958e4e1e4a4f2fec5f": {
     "model_module": "@jupyter-widgets/base",
     "model_module_version": "1.2.0",
     "model_name": "LayoutModel",
     "state": {
      "_model_module": "@jupyter-widgets/base",
      "_model_module_version": "1.2.0",
      "_model_name": "LayoutModel",
      "_view_count": null,
      "_view_module": "@jupyter-widgets/base",
      "_view_module_version": "1.2.0",
      "_view_name": "LayoutView",
      "align_content": null,
      "align_items": null,
      "align_self": null,
      "border": null,
      "bottom": null,
      "display": null,
      "flex": null,
      "flex_flow": null,
      "grid_area": null,
      "grid_auto_columns": null,
      "grid_auto_flow": null,
      "grid_auto_rows": null,
      "grid_column": null,
      "grid_gap": null,
      "grid_row": null,
      "grid_template_areas": null,
      "grid_template_columns": null,
      "grid_template_rows": null,
      "height": null,
      "justify_content": null,
      "justify_items": null,
      "left": null,
      "margin": null,
      "max_height": null,
      "max_width": null,
      "min_height": null,
      "min_width": null,
      "object_fit": null,
      "object_position": null,
      "order": null,
      "overflow": null,
      "overflow_x": null,
      "overflow_y": null,
      "padding": null,
      "right": null,
      "top": null,
      "visibility": null,
      "width": null
     }
    },
    "831d23f5085348c0bec833876591f12f": {
     "model_module": "@jupyter-widgets/controls",
     "model_module_version": "1.5.0",
     "model_name": "FloatProgressModel",
     "state": {
      "_dom_classes": [],
      "_model_module": "@jupyter-widgets/controls",
      "_model_module_version": "1.5.0",
      "_model_name": "FloatProgressModel",
      "_view_count": null,
      "_view_module": "@jupyter-widgets/controls",
      "_view_module_version": "1.5.0",
      "_view_name": "ProgressView",
      "bar_style": "success",
      "description": "",
      "description_tooltip": null,
      "layout": "IPY_MODEL_bce927342c664af084103c00259e73a7",
      "max": 1,
      "min": 0,
      "orientation": "horizontal",
      "style": "IPY_MODEL_75f6c67fcf374a91a779e7ce77262683",
      "value": 1
     }
    },
    "8816ea82644f468d81b4820eec17eadc": {
     "model_module": "@jupyter-widgets/controls",
     "model_module_version": "1.5.0",
     "model_name": "FloatProgressModel",
     "state": {
      "_dom_classes": [],
      "_model_module": "@jupyter-widgets/controls",
      "_model_module_version": "1.5.0",
      "_model_name": "FloatProgressModel",
      "_view_count": null,
      "_view_module": "@jupyter-widgets/controls",
      "_view_module_version": "1.5.0",
      "_view_name": "ProgressView",
      "bar_style": "success",
      "description": "",
      "description_tooltip": null,
      "layout": "IPY_MODEL_b4f7f37e98164871b4a1bf350c781937",
      "max": 17,
      "min": 0,
      "orientation": "horizontal",
      "style": "IPY_MODEL_3a9a67c26d6b4b48bedbc3ecef979a14",
      "value": 17
     }
    },
    "91a219c543594b2483ba3e8f88a37fbb": {
     "model_module": "@jupyter-widgets/controls",
     "model_module_version": "1.5.0",
     "model_name": "HBoxModel",
     "state": {
      "_dom_classes": [],
      "_model_module": "@jupyter-widgets/controls",
      "_model_module_version": "1.5.0",
      "_model_name": "HBoxModel",
      "_view_count": null,
      "_view_module": "@jupyter-widgets/controls",
      "_view_module_version": "1.5.0",
      "_view_name": "HBoxView",
      "box_style": "",
      "children": [
       "IPY_MODEL_a4c5e46089604873b61f9aa5090ffaf8",
       "IPY_MODEL_cf0f0ccbcbec4ab496b18f67f4823e00",
       "IPY_MODEL_0d5b3188fea04b46b8daeddd4e3139b7"
      ],
      "layout": "IPY_MODEL_40bccad502f24922a256319e6268c783"
     }
    },
    "9a295085998b4ee5a595ad1a78b9d250": {
     "model_module": "@jupyter-widgets/base",
     "model_module_version": "1.2.0",
     "model_name": "LayoutModel",
     "state": {
      "_model_module": "@jupyter-widgets/base",
      "_model_module_version": "1.2.0",
      "_model_name": "LayoutModel",
      "_view_count": null,
      "_view_module": "@jupyter-widgets/base",
      "_view_module_version": "1.2.0",
      "_view_name": "LayoutView",
      "align_content": null,
      "align_items": null,
      "align_self": null,
      "border": null,
      "bottom": null,
      "display": null,
      "flex": null,
      "flex_flow": null,
      "grid_area": null,
      "grid_auto_columns": null,
      "grid_auto_flow": null,
      "grid_auto_rows": null,
      "grid_column": null,
      "grid_gap": null,
      "grid_row": null,
      "grid_template_areas": null,
      "grid_template_columns": null,
      "grid_template_rows": null,
      "height": null,
      "justify_content": null,
      "justify_items": null,
      "left": null,
      "margin": null,
      "max_height": null,
      "max_width": null,
      "min_height": null,
      "min_width": null,
      "object_fit": null,
      "object_position": null,
      "order": null,
      "overflow": null,
      "overflow_x": null,
      "overflow_y": null,
      "padding": null,
      "right": null,
      "top": null,
      "visibility": null,
      "width": null
     }
    },
    "9db69199613849b38e60532467ccc03d": {
     "model_module": "@jupyter-widgets/controls",
     "model_module_version": "1.5.0",
     "model_name": "FloatProgressModel",
     "state": {
      "_dom_classes": [],
      "_model_module": "@jupyter-widgets/controls",
      "_model_module_version": "1.5.0",
      "_model_name": "FloatProgressModel",
      "_view_count": null,
      "_view_module": "@jupyter-widgets/controls",
      "_view_module_version": "1.5.0",
      "_view_name": "ProgressView",
      "bar_style": "success",
      "description": "",
      "description_tooltip": null,
      "layout": "IPY_MODEL_e6960289bf804581a0c8a248816d11e1",
      "max": 1,
      "min": 0,
      "orientation": "horizontal",
      "style": "IPY_MODEL_dab0913f6a684ac6883b5f147ba28770",
      "value": 1
     }
    },
    "a3ef22b5874d4d4393c3c8cec16686e2": {
     "model_module": "@jupyter-widgets/controls",
     "model_module_version": "1.5.0",
     "model_name": "HBoxModel",
     "state": {
      "_dom_classes": [],
      "_model_module": "@jupyter-widgets/controls",
      "_model_module_version": "1.5.0",
      "_model_name": "HBoxModel",
      "_view_count": null,
      "_view_module": "@jupyter-widgets/controls",
      "_view_module_version": "1.5.0",
      "_view_name": "HBoxView",
      "box_style": "",
      "children": [
       "IPY_MODEL_11e10ff07df948a695e737c4e7dd2998",
       "IPY_MODEL_9db69199613849b38e60532467ccc03d",
       "IPY_MODEL_ecf547299c124ed5bc68893404b5fa68"
      ],
      "layout": "IPY_MODEL_2531ba5551ad4a208a18714f9ce74ab2"
     }
    },
    "a4c5e46089604873b61f9aa5090ffaf8": {
     "model_module": "@jupyter-widgets/controls",
     "model_module_version": "1.5.0",
     "model_name": "HTMLModel",
     "state": {
      "_dom_classes": [],
      "_model_module": "@jupyter-widgets/controls",
      "_model_module_version": "1.5.0",
      "_model_name": "HTMLModel",
      "_view_count": null,
      "_view_module": "@jupyter-widgets/controls",
      "_view_module_version": "1.5.0",
      "_view_name": "HTMLView",
      "description": "",
      "description_tooltip": null,
      "layout": "IPY_MODEL_2285fff1860c4f3581cd2be978a562ad",
      "placeholder": "​",
      "style": "IPY_MODEL_261e36cb99684dccafb6a598cb70b045",
      "value": "Aligning: 100%"
     }
    },
    "afff0af2b3144c91aa10c4e197e00747": {
     "model_module": "@jupyter-widgets/base",
     "model_module_version": "1.2.0",
     "model_name": "LayoutModel",
     "state": {
      "_model_module": "@jupyter-widgets/base",
      "_model_module_version": "1.2.0",
      "_model_name": "LayoutModel",
      "_view_count": null,
      "_view_module": "@jupyter-widgets/base",
      "_view_module_version": "1.2.0",
      "_view_name": "LayoutView",
      "align_content": null,
      "align_items": null,
      "align_self": null,
      "border": null,
      "bottom": null,
      "display": null,
      "flex": null,
      "flex_flow": null,
      "grid_area": null,
      "grid_auto_columns": null,
      "grid_auto_flow": null,
      "grid_auto_rows": null,
      "grid_column": null,
      "grid_gap": null,
      "grid_row": null,
      "grid_template_areas": null,
      "grid_template_columns": null,
      "grid_template_rows": null,
      "height": null,
      "justify_content": null,
      "justify_items": null,
      "left": null,
      "margin": null,
      "max_height": null,
      "max_width": null,
      "min_height": null,
      "min_width": null,
      "object_fit": null,
      "object_position": null,
      "order": null,
      "overflow": null,
      "overflow_x": null,
      "overflow_y": null,
      "padding": null,
      "right": null,
      "top": null,
      "visibility": null,
      "width": null
     }
    },
    "b4f7f37e98164871b4a1bf350c781937": {
     "model_module": "@jupyter-widgets/base",
     "model_module_version": "1.2.0",
     "model_name": "LayoutModel",
     "state": {
      "_model_module": "@jupyter-widgets/base",
      "_model_module_version": "1.2.0",
      "_model_name": "LayoutModel",
      "_view_count": null,
      "_view_module": "@jupyter-widgets/base",
      "_view_module_version": "1.2.0",
      "_view_name": "LayoutView",
      "align_content": null,
      "align_items": null,
      "align_self": null,
      "border": null,
      "bottom": null,
      "display": null,
      "flex": null,
      "flex_flow": null,
      "grid_area": null,
      "grid_auto_columns": null,
      "grid_auto_flow": null,
      "grid_auto_rows": null,
      "grid_column": null,
      "grid_gap": null,
      "grid_row": null,
      "grid_template_areas": null,
      "grid_template_columns": null,
      "grid_template_rows": null,
      "height": null,
      "justify_content": null,
      "justify_items": null,
      "left": null,
      "margin": null,
      "max_height": null,
      "max_width": null,
      "min_height": null,
      "min_width": null,
      "object_fit": null,
      "object_position": null,
      "order": null,
      "overflow": null,
      "overflow_x": null,
      "overflow_y": null,
      "padding": null,
      "right": null,
      "top": null,
      "visibility": null,
      "width": null
     }
    },
    "b7e883799cc047db96ea75dec1d01169": {
     "model_module": "@jupyter-widgets/controls",
     "model_module_version": "1.5.0",
     "model_name": "DescriptionStyleModel",
     "state": {
      "_model_module": "@jupyter-widgets/controls",
      "_model_module_version": "1.5.0",
      "_model_name": "DescriptionStyleModel",
      "_view_count": null,
      "_view_module": "@jupyter-widgets/base",
      "_view_module_version": "1.2.0",
      "_view_name": "StyleView",
      "description_width": ""
     }
    },
    "bb1f840647b74a678a590cb667107b7e": {
     "model_module": "@jupyter-widgets/base",
     "model_module_version": "1.2.0",
     "model_name": "LayoutModel",
     "state": {
      "_model_module": "@jupyter-widgets/base",
      "_model_module_version": "1.2.0",
      "_model_name": "LayoutModel",
      "_view_count": null,
      "_view_module": "@jupyter-widgets/base",
      "_view_module_version": "1.2.0",
      "_view_name": "LayoutView",
      "align_content": null,
      "align_items": null,
      "align_self": null,
      "border": null,
      "bottom": null,
      "display": null,
      "flex": null,
      "flex_flow": null,
      "grid_area": null,
      "grid_auto_columns": null,
      "grid_auto_flow": null,
      "grid_auto_rows": null,
      "grid_column": null,
      "grid_gap": null,
      "grid_row": null,
      "grid_template_areas": null,
      "grid_template_columns": null,
      "grid_template_rows": null,
      "height": null,
      "justify_content": null,
      "justify_items": null,
      "left": null,
      "margin": null,
      "max_height": null,
      "max_width": null,
      "min_height": null,
      "min_width": null,
      "object_fit": null,
      "object_position": null,
      "order": null,
      "overflow": null,
      "overflow_x": null,
      "overflow_y": null,
      "padding": null,
      "right": null,
      "top": null,
      "visibility": null,
      "width": null
     }
    },
    "bce927342c664af084103c00259e73a7": {
     "model_module": "@jupyter-widgets/base",
     "model_module_version": "1.2.0",
     "model_name": "LayoutModel",
     "state": {
      "_model_module": "@jupyter-widgets/base",
      "_model_module_version": "1.2.0",
      "_model_name": "LayoutModel",
      "_view_count": null,
      "_view_module": "@jupyter-widgets/base",
      "_view_module_version": "1.2.0",
      "_view_name": "LayoutView",
      "align_content": null,
      "align_items": null,
      "align_self": null,
      "border": null,
      "bottom": null,
      "display": null,
      "flex": null,
      "flex_flow": null,
      "grid_area": null,
      "grid_auto_columns": null,
      "grid_auto_flow": null,
      "grid_auto_rows": null,
      "grid_column": null,
      "grid_gap": null,
      "grid_row": null,
      "grid_template_areas": null,
      "grid_template_columns": null,
      "grid_template_rows": null,
      "height": null,
      "justify_content": null,
      "justify_items": null,
      "left": null,
      "margin": null,
      "max_height": null,
      "max_width": null,
      "min_height": null,
      "min_width": null,
      "object_fit": null,
      "object_position": null,
      "order": null,
      "overflow": null,
      "overflow_x": null,
      "overflow_y": null,
      "padding": null,
      "right": null,
      "top": null,
      "visibility": null,
      "width": null
     }
    },
    "bddaefdd4e6a499ab0a12f70fc6f5276": {
     "model_module": "@jupyter-widgets/base",
     "model_module_version": "1.2.0",
     "model_name": "LayoutModel",
     "state": {
      "_model_module": "@jupyter-widgets/base",
      "_model_module_version": "1.2.0",
      "_model_name": "LayoutModel",
      "_view_count": null,
      "_view_module": "@jupyter-widgets/base",
      "_view_module_version": "1.2.0",
      "_view_name": "LayoutView",
      "align_content": null,
      "align_items": null,
      "align_self": null,
      "border": null,
      "bottom": null,
      "display": null,
      "flex": null,
      "flex_flow": null,
      "grid_area": null,
      "grid_auto_columns": null,
      "grid_auto_flow": null,
      "grid_auto_rows": null,
      "grid_column": null,
      "grid_gap": null,
      "grid_row": null,
      "grid_template_areas": null,
      "grid_template_columns": null,
      "grid_template_rows": null,
      "height": null,
      "justify_content": null,
      "justify_items": null,
      "left": null,
      "margin": null,
      "max_height": null,
      "max_width": null,
      "min_height": null,
      "min_width": null,
      "object_fit": null,
      "object_position": null,
      "order": null,
      "overflow": null,
      "overflow_x": null,
      "overflow_y": null,
      "padding": null,
      "right": null,
      "top": null,
      "visibility": null,
      "width": null
     }
    },
    "c1526ec7bb55409c878558cdb080150b": {
     "model_module": "@jupyter-widgets/controls",
     "model_module_version": "1.5.0",
     "model_name": "HTMLModel",
     "state": {
      "_dom_classes": [],
      "_model_module": "@jupyter-widgets/controls",
      "_model_module_version": "1.5.0",
      "_model_name": "HTMLModel",
      "_view_count": null,
      "_view_module": "@jupyter-widgets/controls",
      "_view_module_version": "1.5.0",
      "_view_name": "HTMLView",
      "description": "",
      "description_tooltip": null,
      "layout": "IPY_MODEL_1b4b81790ef8498aa33fe4907500055e",
      "placeholder": "​",
      "style": "IPY_MODEL_ca3d4bb71a9f47ffb86376d3d5de0ffd",
      "value": " 17/17 [28:44&lt;00:00, 191.88s/it]"
     }
    },
    "c930e40c755543a19b92741d0f817061": {
     "model_module": "@jupyter-widgets/controls",
     "model_module_version": "1.5.0",
     "model_name": "DescriptionStyleModel",
     "state": {
      "_model_module": "@jupyter-widgets/controls",
      "_model_module_version": "1.5.0",
      "_model_name": "DescriptionStyleModel",
      "_view_count": null,
      "_view_module": "@jupyter-widgets/base",
      "_view_module_version": "1.2.0",
      "_view_name": "StyleView",
      "description_width": ""
     }
    },
    "ca3d4bb71a9f47ffb86376d3d5de0ffd": {
     "model_module": "@jupyter-widgets/controls",
     "model_module_version": "1.5.0",
     "model_name": "DescriptionStyleModel",
     "state": {
      "_model_module": "@jupyter-widgets/controls",
      "_model_module_version": "1.5.0",
      "_model_name": "DescriptionStyleModel",
      "_view_count": null,
      "_view_module": "@jupyter-widgets/base",
      "_view_module_version": "1.2.0",
      "_view_name": "StyleView",
      "description_width": ""
     }
    },
    "cd4e737a1579441c8d4c42e0dbbbf733": {
     "model_module": "@jupyter-widgets/base",
     "model_module_version": "1.2.0",
     "model_name": "LayoutModel",
     "state": {
      "_model_module": "@jupyter-widgets/base",
      "_model_module_version": "1.2.0",
      "_model_name": "LayoutModel",
      "_view_count": null,
      "_view_module": "@jupyter-widgets/base",
      "_view_module_version": "1.2.0",
      "_view_name": "LayoutView",
      "align_content": null,
      "align_items": null,
      "align_self": null,
      "border": null,
      "bottom": null,
      "display": null,
      "flex": null,
      "flex_flow": null,
      "grid_area": null,
      "grid_auto_columns": null,
      "grid_auto_flow": null,
      "grid_auto_rows": null,
      "grid_column": null,
      "grid_gap": null,
      "grid_row": null,
      "grid_template_areas": null,
      "grid_template_columns": null,
      "grid_template_rows": null,
      "height": null,
      "justify_content": null,
      "justify_items": null,
      "left": null,
      "margin": null,
      "max_height": null,
      "max_width": null,
      "min_height": null,
      "min_width": null,
      "object_fit": null,
      "object_position": null,
      "order": null,
      "overflow": null,
      "overflow_x": null,
      "overflow_y": null,
      "padding": null,
      "right": null,
      "top": null,
      "visibility": null,
      "width": null
     }
    },
    "cf0f0ccbcbec4ab496b18f67f4823e00": {
     "model_module": "@jupyter-widgets/controls",
     "model_module_version": "1.5.0",
     "model_name": "FloatProgressModel",
     "state": {
      "_dom_classes": [],
      "_model_module": "@jupyter-widgets/controls",
      "_model_module_version": "1.5.0",
      "_model_name": "FloatProgressModel",
      "_view_count": null,
      "_view_module": "@jupyter-widgets/controls",
      "_view_module_version": "1.5.0",
      "_view_name": "ProgressView",
      "bar_style": "success",
      "description": "",
      "description_tooltip": null,
      "layout": "IPY_MODEL_d030ab7fed2c4f28b59ef95adddbacb5",
      "max": 17,
      "min": 0,
      "orientation": "horizontal",
      "style": "IPY_MODEL_d18c1c02eaed466dafb6564c6b985962",
      "value": 17
     }
    },
    "d030ab7fed2c4f28b59ef95adddbacb5": {
     "model_module": "@jupyter-widgets/base",
     "model_module_version": "1.2.0",
     "model_name": "LayoutModel",
     "state": {
      "_model_module": "@jupyter-widgets/base",
      "_model_module_version": "1.2.0",
      "_model_name": "LayoutModel",
      "_view_count": null,
      "_view_module": "@jupyter-widgets/base",
      "_view_module_version": "1.2.0",
      "_view_name": "LayoutView",
      "align_content": null,
      "align_items": null,
      "align_self": null,
      "border": null,
      "bottom": null,
      "display": null,
      "flex": null,
      "flex_flow": null,
      "grid_area": null,
      "grid_auto_columns": null,
      "grid_auto_flow": null,
      "grid_auto_rows": null,
      "grid_column": null,
      "grid_gap": null,
      "grid_row": null,
      "grid_template_areas": null,
      "grid_template_columns": null,
      "grid_template_rows": null,
      "height": null,
      "justify_content": null,
      "justify_items": null,
      "left": null,
      "margin": null,
      "max_height": null,
      "max_width": null,
      "min_height": null,
      "min_width": null,
      "object_fit": null,
      "object_position": null,
      "order": null,
      "overflow": null,
      "overflow_x": null,
      "overflow_y": null,
      "padding": null,
      "right": null,
      "top": null,
      "visibility": null,
      "width": null
     }
    },
    "d18c1c02eaed466dafb6564c6b985962": {
     "model_module": "@jupyter-widgets/controls",
     "model_module_version": "1.5.0",
     "model_name": "ProgressStyleModel",
     "state": {
      "_model_module": "@jupyter-widgets/controls",
      "_model_module_version": "1.5.0",
      "_model_name": "ProgressStyleModel",
      "_view_count": null,
      "_view_module": "@jupyter-widgets/base",
      "_view_module_version": "1.2.0",
      "_view_name": "StyleView",
      "bar_color": null,
      "description_width": ""
     }
    },
    "d3484516ee644477b2d609b836f8d515": {
     "model_module": "@jupyter-widgets/base",
     "model_module_version": "1.2.0",
     "model_name": "LayoutModel",
     "state": {
      "_model_module": "@jupyter-widgets/base",
      "_model_module_version": "1.2.0",
      "_model_name": "LayoutModel",
      "_view_count": null,
      "_view_module": "@jupyter-widgets/base",
      "_view_module_version": "1.2.0",
      "_view_name": "LayoutView",
      "align_content": null,
      "align_items": null,
      "align_self": null,
      "border": null,
      "bottom": null,
      "display": null,
      "flex": null,
      "flex_flow": null,
      "grid_area": null,
      "grid_auto_columns": null,
      "grid_auto_flow": null,
      "grid_auto_rows": null,
      "grid_column": null,
      "grid_gap": null,
      "grid_row": null,
      "grid_template_areas": null,
      "grid_template_columns": null,
      "grid_template_rows": null,
      "height": null,
      "justify_content": null,
      "justify_items": null,
      "left": null,
      "margin": null,
      "max_height": null,
      "max_width": null,
      "min_height": null,
      "min_width": null,
      "object_fit": null,
      "object_position": null,
      "order": null,
      "overflow": null,
      "overflow_x": null,
      "overflow_y": null,
      "padding": null,
      "right": null,
      "top": null,
      "visibility": null,
      "width": null
     }
    },
    "d5c6e330bf654e53803a3fc0c9a8872f": {
     "model_module": "@jupyter-widgets/controls",
     "model_module_version": "1.5.0",
     "model_name": "DescriptionStyleModel",
     "state": {
      "_model_module": "@jupyter-widgets/controls",
      "_model_module_version": "1.5.0",
      "_model_name": "DescriptionStyleModel",
      "_view_count": null,
      "_view_module": "@jupyter-widgets/base",
      "_view_module_version": "1.2.0",
      "_view_name": "StyleView",
      "description_width": ""
     }
    },
    "dab0913f6a684ac6883b5f147ba28770": {
     "model_module": "@jupyter-widgets/controls",
     "model_module_version": "1.5.0",
     "model_name": "ProgressStyleModel",
     "state": {
      "_model_module": "@jupyter-widgets/controls",
      "_model_module_version": "1.5.0",
      "_model_name": "ProgressStyleModel",
      "_view_count": null,
      "_view_module": "@jupyter-widgets/base",
      "_view_module_version": "1.2.0",
      "_view_name": "StyleView",
      "bar_color": null,
      "description_width": ""
     }
    },
    "dbe68aa04dca419598e1415dd5427a93": {
     "model_module": "@jupyter-widgets/base",
     "model_module_version": "1.2.0",
     "model_name": "LayoutModel",
     "state": {
      "_model_module": "@jupyter-widgets/base",
      "_model_module_version": "1.2.0",
      "_model_name": "LayoutModel",
      "_view_count": null,
      "_view_module": "@jupyter-widgets/base",
      "_view_module_version": "1.2.0",
      "_view_name": "LayoutView",
      "align_content": null,
      "align_items": null,
      "align_self": null,
      "border": null,
      "bottom": null,
      "display": null,
      "flex": null,
      "flex_flow": null,
      "grid_area": null,
      "grid_auto_columns": null,
      "grid_auto_flow": null,
      "grid_auto_rows": null,
      "grid_column": null,
      "grid_gap": null,
      "grid_row": null,
      "grid_template_areas": null,
      "grid_template_columns": null,
      "grid_template_rows": null,
      "height": null,
      "justify_content": null,
      "justify_items": null,
      "left": null,
      "margin": null,
      "max_height": null,
      "max_width": null,
      "min_height": null,
      "min_width": null,
      "object_fit": null,
      "object_position": null,
      "order": null,
      "overflow": null,
      "overflow_x": null,
      "overflow_y": null,
      "padding": null,
      "right": null,
      "top": null,
      "visibility": null,
      "width": null
     }
    },
    "dccdaf07be06472ea7336c1bf05add19": {
     "model_module": "@jupyter-widgets/controls",
     "model_module_version": "1.5.0",
     "model_name": "DescriptionStyleModel",
     "state": {
      "_model_module": "@jupyter-widgets/controls",
      "_model_module_version": "1.5.0",
      "_model_name": "DescriptionStyleModel",
      "_view_count": null,
      "_view_module": "@jupyter-widgets/base",
      "_view_module_version": "1.2.0",
      "_view_name": "StyleView",
      "description_width": ""
     }
    },
    "e145d06dac164ef2846ec2a6f70aac5d": {
     "model_module": "@jupyter-widgets/base",
     "model_module_version": "1.2.0",
     "model_name": "LayoutModel",
     "state": {
      "_model_module": "@jupyter-widgets/base",
      "_model_module_version": "1.2.0",
      "_model_name": "LayoutModel",
      "_view_count": null,
      "_view_module": "@jupyter-widgets/base",
      "_view_module_version": "1.2.0",
      "_view_name": "LayoutView",
      "align_content": null,
      "align_items": null,
      "align_self": null,
      "border": null,
      "bottom": null,
      "display": null,
      "flex": null,
      "flex_flow": null,
      "grid_area": null,
      "grid_auto_columns": null,
      "grid_auto_flow": null,
      "grid_auto_rows": null,
      "grid_column": null,
      "grid_gap": null,
      "grid_row": null,
      "grid_template_areas": null,
      "grid_template_columns": null,
      "grid_template_rows": null,
      "height": null,
      "justify_content": null,
      "justify_items": null,
      "left": null,
      "margin": null,
      "max_height": null,
      "max_width": null,
      "min_height": null,
      "min_width": null,
      "object_fit": null,
      "object_position": null,
      "order": null,
      "overflow": null,
      "overflow_x": null,
      "overflow_y": null,
      "padding": null,
      "right": null,
      "top": null,
      "visibility": null,
      "width": null
     }
    },
    "e449382f4bc24b5ba7fb11bcffc4cde7": {
     "model_module": "@jupyter-widgets/controls",
     "model_module_version": "1.5.0",
     "model_name": "DescriptionStyleModel",
     "state": {
      "_model_module": "@jupyter-widgets/controls",
      "_model_module_version": "1.5.0",
      "_model_name": "DescriptionStyleModel",
      "_view_count": null,
      "_view_module": "@jupyter-widgets/base",
      "_view_module_version": "1.2.0",
      "_view_name": "StyleView",
      "description_width": ""
     }
    },
    "e57c53b4ebc144d598328da7d4a9a114": {
     "model_module": "@jupyter-widgets/controls",
     "model_module_version": "1.5.0",
     "model_name": "HTMLModel",
     "state": {
      "_dom_classes": [],
      "_model_module": "@jupyter-widgets/controls",
      "_model_module_version": "1.5.0",
      "_model_name": "HTMLModel",
      "_view_count": null,
      "_view_module": "@jupyter-widgets/controls",
      "_view_module_version": "1.5.0",
      "_view_name": "HTMLView",
      "description": "",
      "description_tooltip": null,
      "layout": "IPY_MODEL_4435be7b251f4d6d8d99d878d6cba729",
      "placeholder": "​",
      "style": "IPY_MODEL_22e7833685f848059658e62e7fbd2aa6",
      "value": " 17/17 [50:08&lt;00:00, 187.95s/it]"
     }
    },
    "e68a5a5997e54be5a9ed0e1654d09cd8": {
     "model_module": "@jupyter-widgets/controls",
     "model_module_version": "1.5.0",
     "model_name": "HTMLModel",
     "state": {
      "_dom_classes": [],
      "_model_module": "@jupyter-widgets/controls",
      "_model_module_version": "1.5.0",
      "_model_name": "HTMLModel",
      "_view_count": null,
      "_view_module": "@jupyter-widgets/controls",
      "_view_module_version": "1.5.0",
      "_view_name": "HTMLView",
      "description": "",
      "description_tooltip": null,
      "layout": "IPY_MODEL_cd4e737a1579441c8d4c42e0dbbbf733",
      "placeholder": "​",
      "style": "IPY_MODEL_c930e40c755543a19b92741d0f817061",
      "value": "Interferograms: 100%"
     }
    },
    "e6960289bf804581a0c8a248816d11e1": {
     "model_module": "@jupyter-widgets/base",
     "model_module_version": "1.2.0",
     "model_name": "LayoutModel",
     "state": {
      "_model_module": "@jupyter-widgets/base",
      "_model_module_version": "1.2.0",
      "_model_name": "LayoutModel",
      "_view_count": null,
      "_view_module": "@jupyter-widgets/base",
      "_view_module_version": "1.2.0",
      "_view_name": "LayoutView",
      "align_content": null,
      "align_items": null,
      "align_self": null,
      "border": null,
      "bottom": null,
      "display": null,
      "flex": null,
      "flex_flow": null,
      "grid_area": null,
      "grid_auto_columns": null,
      "grid_auto_flow": null,
      "grid_auto_rows": null,
      "grid_column": null,
      "grid_gap": null,
      "grid_row": null,
      "grid_template_areas": null,
      "grid_template_columns": null,
      "grid_template_rows": null,
      "height": null,
      "justify_content": null,
      "justify_items": null,
      "left": null,
      "margin": null,
      "max_height": null,
      "max_width": null,
      "min_height": null,
      "min_width": null,
      "object_fit": null,
      "object_position": null,
      "order": null,
      "overflow": null,
      "overflow_x": null,
      "overflow_y": null,
      "padding": null,
      "right": null,
      "top": null,
      "visibility": null,
      "width": null
     }
    },
    "ea7ef4c9730b4ee0a7aed10673d94de6": {
     "model_module": "@jupyter-widgets/controls",
     "model_module_version": "1.5.0",
     "model_name": "HTMLModel",
     "state": {
      "_dom_classes": [],
      "_model_module": "@jupyter-widgets/controls",
      "_model_module_version": "1.5.0",
      "_model_name": "HTMLModel",
      "_view_count": null,
      "_view_module": "@jupyter-widgets/controls",
      "_view_module_version": "1.5.0",
      "_view_name": "HTMLView",
      "description": "",
      "description_tooltip": null,
      "layout": "IPY_MODEL_eab582f2256d4334938f98282b4fd062",
      "placeholder": "​",
      "style": "IPY_MODEL_dccdaf07be06472ea7336c1bf05add19",
      "value": "Unwrapping: 100%"
     }
    },
    "eab582f2256d4334938f98282b4fd062": {
     "model_module": "@jupyter-widgets/base",
     "model_module_version": "1.2.0",
     "model_name": "LayoutModel",
     "state": {
      "_model_module": "@jupyter-widgets/base",
      "_model_module_version": "1.2.0",
      "_model_name": "LayoutModel",
      "_view_count": null,
      "_view_module": "@jupyter-widgets/base",
      "_view_module_version": "1.2.0",
      "_view_name": "LayoutView",
      "align_content": null,
      "align_items": null,
      "align_self": null,
      "border": null,
      "bottom": null,
      "display": null,
      "flex": null,
      "flex_flow": null,
      "grid_area": null,
      "grid_auto_columns": null,
      "grid_auto_flow": null,
      "grid_auto_rows": null,
      "grid_column": null,
      "grid_gap": null,
      "grid_row": null,
      "grid_template_areas": null,
      "grid_template_columns": null,
      "grid_template_rows": null,
      "height": null,
      "justify_content": null,
      "justify_items": null,
      "left": null,
      "margin": null,
      "max_height": null,
      "max_width": null,
      "min_height": null,
      "min_width": null,
      "object_fit": null,
      "object_position": null,
      "order": null,
      "overflow": null,
      "overflow_x": null,
      "overflow_y": null,
      "padding": null,
      "right": null,
      "top": null,
      "visibility": null,
      "width": null
     }
    },
    "ecf547299c124ed5bc68893404b5fa68": {
     "model_module": "@jupyter-widgets/controls",
     "model_module_version": "1.5.0",
     "model_name": "HTMLModel",
     "state": {
      "_dom_classes": [],
      "_model_module": "@jupyter-widgets/controls",
      "_model_module_version": "1.5.0",
      "_model_name": "HTMLModel",
      "_view_count": null,
      "_view_module": "@jupyter-widgets/controls",
      "_view_module_version": "1.5.0",
      "_view_name": "HTMLView",
      "description": "",
      "description_tooltip": null,
      "layout": "IPY_MODEL_43f88d70a76f417582ba5adade137545",
      "placeholder": "​",
      "style": "IPY_MODEL_e449382f4bc24b5ba7fb11bcffc4cde7",
      "value": " 1/1 [00:15&lt;00:00, 15.25s/it]"
     }
    },
    "f9a4723866df41d4a12a10b2fe69257d": {
     "model_module": "@jupyter-widgets/controls",
     "model_module_version": "1.5.0",
     "model_name": "HTMLModel",
     "state": {
      "_dom_classes": [],
      "_model_module": "@jupyter-widgets/controls",
      "_model_module_version": "1.5.0",
      "_model_name": "HTMLModel",
      "_view_count": null,
      "_view_module": "@jupyter-widgets/controls",
      "_view_module_version": "1.5.0",
      "_view_name": "HTMLView",
      "description": "",
      "description_tooltip": null,
      "layout": "IPY_MODEL_e145d06dac164ef2846ec2a6f70aac5d",
      "placeholder": "​",
      "style": "IPY_MODEL_5aaed3db2539431b9138413afd7695b8",
      "value": " 1/1 [03:26&lt;00:00, 206.29s/it]"
     }
    }
   }
  }
 },
 "nbformat": 4,
 "nbformat_minor": 1
}
